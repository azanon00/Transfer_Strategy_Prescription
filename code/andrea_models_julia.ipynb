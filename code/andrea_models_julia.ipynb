{
 "cells": [
  {
   "cell_type": "code",
   "execution_count": 1,
   "metadata": {},
   "outputs": [],
   "source": [
    "using DataFrames, CSV, JuMP, Gurobi, Metrics, Plots, StatsBase"
   ]
  },
  {
   "cell_type": "code",
   "execution_count": 2,
   "metadata": {},
   "outputs": [],
   "source": [
    "# load data\n",
    "train_valid = CSV.read(\"train_valid.csv\", DataFrame)\n",
    "test = CSV.read(\"test.csv\", DataFrame);"
   ]
  },
  {
   "cell_type": "code",
   "execution_count": 3,
   "metadata": {},
   "outputs": [],
   "source": [
    "# define target and features\n",
    "target = \"fee\";"
   ]
  },
  {
   "cell_type": "markdown",
   "metadata": {},
   "source": [
    "## Define functions that will be used across models"
   ]
  },
  {
   "cell_type": "code",
   "execution_count": 4,
   "metadata": {},
   "outputs": [
    {
     "data": {
      "text/plain": [
       "get_features (generic function with 1 method)"
      ]
     },
     "execution_count": 4,
     "metadata": {},
     "output_type": "execute_result"
    }
   ],
   "source": [
    "function get_features(df)\n",
    "    return select(df, Not(target))\n",
    "end"
   ]
  },
  {
   "cell_type": "code",
   "execution_count": 5,
   "metadata": {},
   "outputs": [
    {
     "data": {
      "text/plain": [
       "get_target (generic function with 1 method)"
      ]
     },
     "execution_count": 5,
     "metadata": {},
     "output_type": "execute_result"
    }
   ],
   "source": [
    "function get_target(df)\n",
    "\n",
    "    # apply log transform, since the target is skewed\n",
    "    return log.(df[:, target] .+ 1)\n",
    "end"
   ]
  },
  {
   "cell_type": "code",
   "execution_count": 6,
   "metadata": {},
   "outputs": [
    {
     "data": {
      "text/plain": [
       "transform_and_results (generic function with 1 method)"
      ]
     },
     "execution_count": 6,
     "metadata": {},
     "output_type": "execute_result"
    }
   ],
   "source": [
    "function compute_results(pred, test)\n",
    "    # compute the mean absolute error\n",
    "    mae = Metrics.mae(pred, test)\n",
    "    # compute the mean squared error\n",
    "    mse = Metrics.mse(pred, test)\n",
    "    # compute the root mean squared error\n",
    "    rmse = sqrt.(mse)\n",
    "    # compute the r2\n",
    "    osr2 = 1 - sum((test .- pred).^2) / sum((test .- mean(test)).^2)\n",
    "\n",
    "    # turn into dataframe\n",
    "    results = DataFrame(mae = mae, mse = mse, rmse = rmse, osr2 = osr2)\n",
    "\n",
    "    # print the results\n",
    "    display(results)\n",
    "end\n",
    "\n",
    "function transform_and_results(pred, test)\n",
    "    # apply the inverse log transform\n",
    "    pred = exp.(pred) .- 1\n",
    "    test = exp.(test) .- 1\n",
    "\n",
    "    # compute the results\n",
    "    compute_results(pred, test)\n",
    "end"
   ]
  },
  {
   "cell_type": "code",
   "execution_count": 7,
   "metadata": {},
   "outputs": [
    {
     "data": {
      "text/plain": [
       "check_prediction_value (generic function with 1 method)"
      ]
     },
     "execution_count": 7,
     "metadata": {},
     "output_type": "execute_result"
    }
   ],
   "source": [
    "function check_prediction_value(pred, test)\n",
    "\n",
    "    # set plot dimensions\n",
    "    plot_size = (800, 400)\n",
    "    \n",
    "    histogram(pred, label = \"pred\", color = \"red\", seriesalpha = 0.5)\n",
    "    display(histogram!(test, label = \"test\", color = \"blue\", seriesalpha = 0.5))\n",
    "\n",
    "end"
   ]
  },
  {
   "cell_type": "markdown",
   "metadata": {},
   "source": [
    "## ORT (Optimal Regression Trees)"
   ]
  },
  {
   "cell_type": "code",
   "execution_count": 8,
   "metadata": {},
   "outputs": [],
   "source": [
    "# define ranges for the hyperparameters\n",
    "max_depth = [3, 4, 5]\n",
    "minbucket = [2, 5, 10]\n",
    ";"
   ]
  },
  {
   "cell_type": "code",
   "execution_count": 9,
   "metadata": {},
   "outputs": [
    {
     "data": {
      "text/plain": [
       "ORT_model (generic function with 1 method)"
      ]
     },
     "execution_count": 9,
     "metadata": {},
     "output_type": "execute_result"
    }
   ],
   "source": [
    "function ORT_model(train_valid, test)\n",
    "\n",
    "    # define the model  \n",
    "    model_oct = IAI.OptimalTreeRegressor(\n",
    "        random_seed = 1,\n",
    "        criterion = :mse,\n",
    "    )\n",
    "\n",
    "    println(\"Training model...\")\n",
    "\n",
    "    # define the grid\n",
    "    grid_oct = IAI.GridSearch(\n",
    "        model_oct,\n",
    "        max_depth = max_depth,\n",
    "        minbucket = minbucket,\n",
    "    )\n",
    "\n",
    "    println(\"Fitting model...\")\n",
    "\n",
    "    # fit the model with 5-fold cross validation\n",
    "    IAI.fit_cv!(grid_oct,\n",
    "     get_features(train_valid), \n",
    "     get_target(train_valid), \n",
    "     #train_valid[:, target],\n",
    "     validation_criterion = :mse, n_folds=5)\n",
    "\n",
    "    println(\"Predicting...\")\n",
    "\n",
    "    # get the best model\n",
    "    pred = IAI.predict(grid_oct, get_features(test))\n",
    "\n",
    "    println(\"Computing results...\")\n",
    "\n",
    "    # compute the results\n",
    "    #compute_results(pred, get_target(test))\n",
    "    transform_and_results(pred, get_target(test))\n",
    "\n",
    "    # check the prediction value\n",
    "    check_prediction_value(pred, get_target(test))\n",
    "\n",
    "    # return the best model\n",
    "    return IAI.get_learner(grid_oct)\n",
    "end"
   ]
  },
  {
   "cell_type": "code",
   "execution_count": 10,
   "metadata": {},
   "outputs": [
    {
     "name": "stdout",
     "output_type": "stream",
     "text": [
      "Training model...\n",
      "Fitting model...\n"
     ]
    },
    {
     "name": "stderr",
     "output_type": "stream",
     "text": [
      "┌ Warning: This copy of Interpretable AI software is for academic purposes only and not for commercial use.\n",
      "└ @ nothing nothing:nothing\n",
      "┌ Warning: Interpretable AI license expires soon: 2022-12-31T00:00:00. If you need to renew, please send us the following machine ID:\n",
      "│ 7c794baeeadd5d7316f791ae6aac034089a6052cce19227d0af4d9df82ac2e5c\n",
      "└ @ nothing nothing:nothing\n"
     ]
    },
    {
     "name": "stdout",
     "output_type": "stream",
     "text": [
      "Predicting...\n",
      "Computing results...\n"
     ]
    },
    {
     "data": {
      "text/html": [
       "<div><div style = \"float: left;\"><span>1×4 DataFrame</span></div><div style = \"clear: both;\"></div></div><div class = \"data-frame\" style = \"overflow-x: scroll;\"><table class = \"data-frame\" style = \"margin-bottom: 6px;\"><thead><tr class = \"header\"><th class = \"rowNumber\" style = \"font-weight: bold; text-align: right;\">Row</th><th style = \"text-align: left;\">mae</th><th style = \"text-align: left;\">mse</th><th style = \"text-align: left;\">rmse</th><th style = \"text-align: left;\">osr2</th></tr><tr class = \"subheader headerLastRow\"><th class = \"rowNumber\" style = \"font-weight: bold; text-align: right;\"></th><th title = \"Float64\" style = \"text-align: left;\">Float64</th><th title = \"Float64\" style = \"text-align: left;\">Float64</th><th title = \"Float64\" style = \"text-align: left;\">Float64</th><th title = \"Float64\" style = \"text-align: left;\">Float64</th></tr></thead><tbody><tr><td class = \"rowNumber\" style = \"font-weight: bold; text-align: right;\">1</td><td style = \"text-align: right;\">4.64633</td><td style = \"text-align: right;\">87.9354</td><td style = \"text-align: right;\">9.37739</td><td style = \"text-align: right;\">0.285801</td></tr></tbody></table></div>"
      ],
      "text/latex": [
       "\\begin{tabular}{r|cccc}\n",
       "\t& mae & mse & rmse & osr2\\\\\n",
       "\t\\hline\n",
       "\t& Float64 & Float64 & Float64 & Float64\\\\\n",
       "\t\\hline\n",
       "\t1 & 4.64633 & 87.9354 & 9.37739 & 0.285801 \\\\\n",
       "\\end{tabular}\n"
      ],
      "text/plain": [
       "\u001b[1m1×4 DataFrame\n",
       "\u001b[1m Row │\u001b[1m mae     \u001b[1m mse     \u001b[1m rmse    \u001b[1m osr2\n",
       "     │\u001b[90m Float64 \u001b[90m Float64 \u001b[90m Float64 \u001b[90m Float64\n",
       "─────┼─────────────────────────────────────\n",
       "   1 │ 4.64633  87.9354  9.37739  0.285801"
      ]
     },
     "metadata": {},
     "output_type": "display_data"
    },
    {
     "data": {
      "image/svg+xml": "<?xml version=\"1.0\" encoding=\"utf-8\"?>\n<svg xmlns=\"http://www.w3.org/2000/svg\" xmlns:xlink=\"http://www.w3.org/1999/xlink\" width=\"600\" height=\"400\" viewBox=\"0 0 2400 1600\">\n<defs>\n  <clipPath id=\"clip520\">\n    <rect x=\"0\" y=\"0\" width=\"2400\" height=\"1600\"/>\n  </clipPath>\n</defs>\n<path clip-path=\"url(#clip520)\" d=\"\nM0 1600 L2400 1600 L2400 0 L0 0  Z\n  \" fill=\"#ffffff\" fill-rule=\"evenodd\" fill-opacity=\"1\"/>\n<defs>\n  <clipPath id=\"clip521\">\n    <rect x=\"480\" y=\"0\" width=\"1681\" height=\"1600\"/>\n  </clipPath>\n</defs>\n<path clip-path=\"url(#clip520)\" d=\"\nM169.121 1486.45 L2352.76 1486.45 L2352.76 47.2441 L169.121 47.2441  Z\n  \" fill=\"#ffffff\" fill-rule=\"evenodd\" fill-opacity=\"1\"/>\n<defs>\n  <clipPath id=\"clip522\">\n    <rect x=\"169\" y=\"47\" width=\"2185\" height=\"1440\"/>\n  </clipPath>\n</defs>\n<polyline clip-path=\"url(#clip522)\" style=\"stroke:#000000; stroke-linecap:round; stroke-linejoin:round; stroke-width:2; stroke-opacity:0.1; fill:none\" points=\"\n  289.225,1486.45 289.225,47.2441 \n  \"/>\n<polyline clip-path=\"url(#clip522)\" style=\"stroke:#000000; stroke-linecap:round; stroke-linejoin:round; stroke-width:2; stroke-opacity:0.1; fill:none\" points=\"\n  721.098,1486.45 721.098,47.2441 \n  \"/>\n<polyline clip-path=\"url(#clip522)\" style=\"stroke:#000000; stroke-linecap:round; stroke-linejoin:round; stroke-width:2; stroke-opacity:0.1; fill:none\" points=\"\n  1152.97,1486.45 1152.97,47.2441 \n  \"/>\n<polyline clip-path=\"url(#clip522)\" style=\"stroke:#000000; stroke-linecap:round; stroke-linejoin:round; stroke-width:2; stroke-opacity:0.1; fill:none\" points=\"\n  1584.84,1486.45 1584.84,47.2441 \n  \"/>\n<polyline clip-path=\"url(#clip522)\" style=\"stroke:#000000; stroke-linecap:round; stroke-linejoin:round; stroke-width:2; stroke-opacity:0.1; fill:none\" points=\"\n  2016.72,1486.45 2016.72,47.2441 \n  \"/>\n<polyline clip-path=\"url(#clip520)\" style=\"stroke:#000000; stroke-linecap:round; stroke-linejoin:round; stroke-width:4; stroke-opacity:1; fill:none\" points=\"\n  169.121,1486.45 2352.76,1486.45 \n  \"/>\n<polyline clip-path=\"url(#clip520)\" style=\"stroke:#000000; stroke-linecap:round; stroke-linejoin:round; stroke-width:4; stroke-opacity:1; fill:none\" points=\"\n  289.225,1486.45 289.225,1467.55 \n  \"/>\n<polyline clip-path=\"url(#clip520)\" style=\"stroke:#000000; stroke-linecap:round; stroke-linejoin:round; stroke-width:4; stroke-opacity:1; fill:none\" points=\"\n  721.098,1486.45 721.098,1467.55 \n  \"/>\n<polyline clip-path=\"url(#clip520)\" style=\"stroke:#000000; stroke-linecap:round; stroke-linejoin:round; stroke-width:4; stroke-opacity:1; fill:none\" points=\"\n  1152.97,1486.45 1152.97,1467.55 \n  \"/>\n<polyline clip-path=\"url(#clip520)\" style=\"stroke:#000000; stroke-linecap:round; stroke-linejoin:round; stroke-width:4; stroke-opacity:1; fill:none\" points=\"\n  1584.84,1486.45 1584.84,1467.55 \n  \"/>\n<polyline clip-path=\"url(#clip520)\" style=\"stroke:#000000; stroke-linecap:round; stroke-linejoin:round; stroke-width:4; stroke-opacity:1; fill:none\" points=\"\n  2016.72,1486.45 2016.72,1467.55 \n  \"/>\n<path clip-path=\"url(#clip520)\" d=\"M289.225 1517.37 Q285.614 1517.37 283.785 1520.93 Q281.98 1524.47 281.98 1531.6 Q281.98 1538.71 283.785 1542.27 Q285.614 1545.82 289.225 1545.82 Q292.859 1545.82 294.665 1542.27 Q296.494 1538.71 296.494 1531.6 Q296.494 1524.47 294.665 1520.93 Q292.859 1517.37 289.225 1517.37 M289.225 1513.66 Q295.035 1513.66 298.091 1518.27 Q301.169 1522.85 301.169 1531.6 Q301.169 1540.33 298.091 1544.94 Q295.035 1549.52 289.225 1549.52 Q283.415 1549.52 280.336 1544.94 Q277.281 1540.33 277.281 1531.6 Q277.281 1522.85 280.336 1518.27 Q283.415 1513.66 289.225 1513.66 Z\" fill=\"#000000\" fill-rule=\"evenodd\" fill-opacity=\"1\" /><path clip-path=\"url(#clip520)\" d=\"M711.48 1544.91 L719.119 1544.91 L719.119 1518.55 L710.808 1520.21 L710.808 1515.95 L719.072 1514.29 L723.748 1514.29 L723.748 1544.91 L731.387 1544.91 L731.387 1548.85 L711.48 1548.85 L711.48 1544.91 Z\" fill=\"#000000\" fill-rule=\"evenodd\" fill-opacity=\"1\" /><path clip-path=\"url(#clip520)\" d=\"M1147.62 1544.91 L1163.94 1544.91 L1163.94 1548.85 L1142 1548.85 L1142 1544.91 Q1144.66 1542.16 1149.24 1537.53 Q1153.85 1532.88 1155.03 1531.53 Q1157.28 1529.01 1158.16 1527.27 Q1159.06 1525.51 1159.06 1523.82 Q1159.06 1521.07 1157.11 1519.33 Q1155.19 1517.6 1152.09 1517.6 Q1149.89 1517.6 1147.44 1518.36 Q1145.01 1519.13 1142.23 1520.68 L1142.23 1515.95 Q1145.05 1514.82 1147.51 1514.24 Q1149.96 1513.66 1152 1513.66 Q1157.37 1513.66 1160.56 1516.35 Q1163.76 1519.03 1163.76 1523.52 Q1163.76 1525.65 1162.95 1527.57 Q1162.16 1529.47 1160.05 1532.07 Q1159.48 1532.74 1156.37 1535.95 Q1153.27 1539.15 1147.62 1544.91 Z\" fill=\"#000000\" fill-rule=\"evenodd\" fill-opacity=\"1\" /><path clip-path=\"url(#clip520)\" d=\"M1589.09 1530.21 Q1592.45 1530.93 1594.32 1533.2 Q1596.22 1535.47 1596.22 1538.8 Q1596.22 1543.92 1592.7 1546.72 Q1589.18 1549.52 1582.7 1549.52 Q1580.53 1549.52 1578.21 1549.08 Q1575.92 1548.66 1573.47 1547.81 L1573.47 1543.29 Q1575.41 1544.43 1577.73 1545.01 Q1580.04 1545.58 1582.56 1545.58 Q1586.96 1545.58 1589.25 1543.85 Q1591.57 1542.11 1591.57 1538.8 Q1591.57 1535.75 1589.41 1534.03 Q1587.29 1532.3 1583.47 1532.3 L1579.44 1532.3 L1579.44 1528.45 L1583.65 1528.45 Q1587.1 1528.45 1588.93 1527.09 Q1590.76 1525.7 1590.76 1523.11 Q1590.76 1520.45 1588.86 1519.03 Q1586.98 1517.6 1583.47 1517.6 Q1581.54 1517.6 1579.35 1518.01 Q1577.15 1518.43 1574.51 1519.31 L1574.51 1515.14 Q1577.17 1514.4 1579.48 1514.03 Q1581.82 1513.66 1583.88 1513.66 Q1589.21 1513.66 1592.31 1516.09 Q1595.41 1518.5 1595.41 1522.62 Q1595.41 1525.49 1593.77 1527.48 Q1592.12 1529.45 1589.09 1530.21 Z\" fill=\"#000000\" fill-rule=\"evenodd\" fill-opacity=\"1\" /><path clip-path=\"url(#clip520)\" d=\"M2019.73 1518.36 L2007.92 1536.81 L2019.73 1536.81 L2019.73 1518.36 M2018.5 1514.29 L2024.38 1514.29 L2024.38 1536.81 L2029.31 1536.81 L2029.31 1540.7 L2024.38 1540.7 L2024.38 1548.85 L2019.73 1548.85 L2019.73 1540.7 L2004.12 1540.7 L2004.12 1536.19 L2018.5 1514.29 Z\" fill=\"#000000\" fill-rule=\"evenodd\" fill-opacity=\"1\" /><polyline clip-path=\"url(#clip522)\" style=\"stroke:#000000; stroke-linecap:round; stroke-linejoin:round; stroke-width:2; stroke-opacity:0.1; fill:none\" points=\"\n  169.121,1445.72 2352.76,1445.72 \n  \"/>\n<polyline clip-path=\"url(#clip522)\" style=\"stroke:#000000; stroke-linecap:round; stroke-linejoin:round; stroke-width:2; stroke-opacity:0.1; fill:none\" points=\"\n  169.121,1226.73 2352.76,1226.73 \n  \"/>\n<polyline clip-path=\"url(#clip522)\" style=\"stroke:#000000; stroke-linecap:round; stroke-linejoin:round; stroke-width:2; stroke-opacity:0.1; fill:none\" points=\"\n  169.121,1007.74 2352.76,1007.74 \n  \"/>\n<polyline clip-path=\"url(#clip522)\" style=\"stroke:#000000; stroke-linecap:round; stroke-linejoin:round; stroke-width:2; stroke-opacity:0.1; fill:none\" points=\"\n  169.121,788.745 2352.76,788.745 \n  \"/>\n<polyline clip-path=\"url(#clip522)\" style=\"stroke:#000000; stroke-linecap:round; stroke-linejoin:round; stroke-width:2; stroke-opacity:0.1; fill:none\" points=\"\n  169.121,569.755 2352.76,569.755 \n  \"/>\n<polyline clip-path=\"url(#clip522)\" style=\"stroke:#000000; stroke-linecap:round; stroke-linejoin:round; stroke-width:2; stroke-opacity:0.1; fill:none\" points=\"\n  169.121,350.765 2352.76,350.765 \n  \"/>\n<polyline clip-path=\"url(#clip522)\" style=\"stroke:#000000; stroke-linecap:round; stroke-linejoin:round; stroke-width:2; stroke-opacity:0.1; fill:none\" points=\"\n  169.121,131.774 2352.76,131.774 \n  \"/>\n<polyline clip-path=\"url(#clip520)\" style=\"stroke:#000000; stroke-linecap:round; stroke-linejoin:round; stroke-width:4; stroke-opacity:1; fill:none\" points=\"\n  169.121,1486.45 169.121,47.2441 \n  \"/>\n<polyline clip-path=\"url(#clip520)\" style=\"stroke:#000000; stroke-linecap:round; stroke-linejoin:round; stroke-width:4; stroke-opacity:1; fill:none\" points=\"\n  169.121,1445.72 188.019,1445.72 \n  \"/>\n<polyline clip-path=\"url(#clip520)\" style=\"stroke:#000000; stroke-linecap:round; stroke-linejoin:round; stroke-width:4; stroke-opacity:1; fill:none\" points=\"\n  169.121,1226.73 188.019,1226.73 \n  \"/>\n<polyline clip-path=\"url(#clip520)\" style=\"stroke:#000000; stroke-linecap:round; stroke-linejoin:round; stroke-width:4; stroke-opacity:1; fill:none\" points=\"\n  169.121,1007.74 188.019,1007.74 \n  \"/>\n<polyline clip-path=\"url(#clip520)\" style=\"stroke:#000000; stroke-linecap:round; stroke-linejoin:round; stroke-width:4; stroke-opacity:1; fill:none\" points=\"\n  169.121,788.745 188.019,788.745 \n  \"/>\n<polyline clip-path=\"url(#clip520)\" style=\"stroke:#000000; stroke-linecap:round; stroke-linejoin:round; stroke-width:4; stroke-opacity:1; fill:none\" points=\"\n  169.121,569.755 188.019,569.755 \n  \"/>\n<polyline clip-path=\"url(#clip520)\" style=\"stroke:#000000; stroke-linecap:round; stroke-linejoin:round; stroke-width:4; stroke-opacity:1; fill:none\" points=\"\n  169.121,350.765 188.019,350.765 \n  \"/>\n<polyline clip-path=\"url(#clip520)\" style=\"stroke:#000000; stroke-linecap:round; stroke-linejoin:round; stroke-width:4; stroke-opacity:1; fill:none\" points=\"\n  169.121,131.774 188.019,131.774 \n  \"/>\n<path clip-path=\"url(#clip520)\" d=\"M121.177 1431.51 Q117.566 1431.51 115.737 1435.08 Q113.932 1438.62 113.932 1445.75 Q113.932 1452.86 115.737 1456.42 Q117.566 1459.96 121.177 1459.96 Q124.811 1459.96 126.617 1456.42 Q128.445 1452.86 128.445 1445.75 Q128.445 1438.62 126.617 1435.08 Q124.811 1431.51 121.177 1431.51 M121.177 1427.81 Q126.987 1427.81 130.043 1432.42 Q133.121 1437 133.121 1445.75 Q133.121 1454.48 130.043 1459.08 Q126.987 1463.67 121.177 1463.67 Q115.367 1463.67 112.288 1459.08 Q109.233 1454.48 109.233 1445.75 Q109.233 1437 112.288 1432.42 Q115.367 1427.81 121.177 1427.81 Z\" fill=\"#000000\" fill-rule=\"evenodd\" fill-opacity=\"1\" /><path clip-path=\"url(#clip520)\" d=\"M85.0429 1240.07 L101.362 1240.07 L101.362 1244.01 L79.4179 1244.01 L79.4179 1240.07 Q82.0799 1237.32 86.6632 1232.69 Q91.2697 1228.03 92.4502 1226.69 Q94.6956 1224.17 95.5752 1222.43 Q96.478 1220.67 96.478 1218.98 Q96.478 1216.23 94.5336 1214.49 Q92.6123 1212.76 89.5104 1212.76 Q87.3114 1212.76 84.8577 1213.52 Q82.4271 1214.28 79.6494 1215.83 L79.6494 1211.11 Q82.4734 1209.98 84.9271 1209.4 Q87.3808 1208.82 89.4178 1208.82 Q94.7882 1208.82 97.9826 1211.51 Q101.177 1214.19 101.177 1218.68 Q101.177 1220.81 100.367 1222.73 Q99.5798 1224.63 97.4734 1227.22 Q96.8947 1227.89 93.7928 1231.11 Q90.691 1234.31 85.0429 1240.07 Z\" fill=\"#000000\" fill-rule=\"evenodd\" fill-opacity=\"1\" /><path clip-path=\"url(#clip520)\" d=\"M121.177 1212.52 Q117.566 1212.52 115.737 1216.09 Q113.932 1219.63 113.932 1226.76 Q113.932 1233.87 115.737 1237.43 Q117.566 1240.97 121.177 1240.97 Q124.811 1240.97 126.617 1237.43 Q128.445 1233.87 128.445 1226.76 Q128.445 1219.63 126.617 1216.09 Q124.811 1212.52 121.177 1212.52 M121.177 1208.82 Q126.987 1208.82 130.043 1213.43 Q133.121 1218.01 133.121 1226.76 Q133.121 1235.49 130.043 1240.09 Q126.987 1244.68 121.177 1244.68 Q115.367 1244.68 112.288 1240.09 Q109.233 1235.49 109.233 1226.76 Q109.233 1218.01 112.288 1213.43 Q115.367 1208.82 121.177 1208.82 Z\" fill=\"#000000\" fill-rule=\"evenodd\" fill-opacity=\"1\" /><path clip-path=\"url(#clip520)\" d=\"M93.8623 994.529 L82.0568 1012.98 L93.8623 1012.98 L93.8623 994.529 M92.6354 990.455 L98.515 990.455 L98.515 1012.98 L103.446 1012.98 L103.446 1016.87 L98.515 1016.87 L98.515 1025.02 L93.8623 1025.02 L93.8623 1016.87 L78.2605 1016.87 L78.2605 1012.35 L92.6354 990.455 Z\" fill=\"#000000\" fill-rule=\"evenodd\" fill-opacity=\"1\" /><path clip-path=\"url(#clip520)\" d=\"M121.177 993.534 Q117.566 993.534 115.737 997.099 Q113.932 1000.64 113.932 1007.77 Q113.932 1014.88 115.737 1018.44 Q117.566 1021.98 121.177 1021.98 Q124.811 1021.98 126.617 1018.44 Q128.445 1014.88 128.445 1007.77 Q128.445 1000.64 126.617 997.099 Q124.811 993.534 121.177 993.534 M121.177 989.83 Q126.987 989.83 130.043 994.437 Q133.121 999.02 133.121 1007.77 Q133.121 1016.5 130.043 1021.1 Q126.987 1025.69 121.177 1025.69 Q115.367 1025.69 112.288 1021.1 Q109.233 1016.5 109.233 1007.77 Q109.233 999.02 112.288 994.437 Q115.367 989.83 121.177 989.83 Z\" fill=\"#000000\" fill-rule=\"evenodd\" fill-opacity=\"1\" /><path clip-path=\"url(#clip520)\" d=\"M91.5938 786.882 Q88.4456 786.882 86.5938 789.034 Q84.7651 791.187 84.7651 794.937 Q84.7651 798.664 86.5938 800.84 Q88.4456 802.993 91.5938 802.993 Q94.7419 802.993 96.5706 800.84 Q98.4224 798.664 98.4224 794.937 Q98.4224 791.187 96.5706 789.034 Q94.7419 786.882 91.5938 786.882 M100.876 772.229 L100.876 776.488 Q99.1169 775.655 97.3113 775.215 Q95.5289 774.775 93.7697 774.775 Q89.1401 774.775 86.6864 777.9 Q84.2558 781.025 83.9086 787.345 Q85.2743 785.331 87.3345 784.266 Q89.3947 783.178 91.8715 783.178 Q97.0798 783.178 100.089 786.349 Q103.121 789.497 103.121 794.937 Q103.121 800.261 99.9733 803.479 Q96.8252 806.696 91.5938 806.696 Q85.5984 806.696 82.4271 802.113 Q79.2559 797.507 79.2559 788.78 Q79.2559 780.585 83.1447 775.724 Q87.0336 770.84 93.5845 770.84 Q95.3437 770.84 97.1261 771.187 Q98.9317 771.534 100.876 772.229 Z\" fill=\"#000000\" fill-rule=\"evenodd\" fill-opacity=\"1\" /><path clip-path=\"url(#clip520)\" d=\"M121.177 774.544 Q117.566 774.544 115.737 778.108 Q113.932 781.65 113.932 788.78 Q113.932 795.886 115.737 799.451 Q117.566 802.993 121.177 802.993 Q124.811 802.993 126.617 799.451 Q128.445 795.886 128.445 788.78 Q128.445 781.65 126.617 778.108 Q124.811 774.544 121.177 774.544 M121.177 770.84 Q126.987 770.84 130.043 775.446 Q133.121 780.03 133.121 788.78 Q133.121 797.507 130.043 802.113 Q126.987 806.696 121.177 806.696 Q115.367 806.696 112.288 802.113 Q109.233 797.507 109.233 788.78 Q109.233 780.03 112.288 775.446 Q115.367 770.84 121.177 770.84 Z\" fill=\"#000000\" fill-rule=\"evenodd\" fill-opacity=\"1\" /><path clip-path=\"url(#clip520)\" d=\"M91.0151 570.623 Q87.6817 570.623 85.7605 572.405 Q83.8623 574.188 83.8623 577.313 Q83.8623 580.438 85.7605 582.22 Q87.6817 584.002 91.0151 584.002 Q94.3484 584.002 96.2697 582.22 Q98.1909 580.414 98.1909 577.313 Q98.1909 574.188 96.2697 572.405 Q94.3715 570.623 91.0151 570.623 M86.3392 568.632 Q83.3299 567.891 81.6401 565.831 Q79.9735 563.771 79.9735 560.808 Q79.9735 556.665 82.9133 554.257 Q85.8762 551.85 91.0151 551.85 Q96.1771 551.85 99.1169 554.257 Q102.057 556.665 102.057 560.808 Q102.057 563.771 100.367 565.831 Q98.7002 567.891 95.7141 568.632 Q99.0937 569.419 100.969 571.711 Q102.867 574.002 102.867 577.313 Q102.867 582.336 99.7882 585.021 Q96.7326 587.706 91.0151 587.706 Q85.2975 587.706 82.2188 585.021 Q79.1633 582.336 79.1633 577.313 Q79.1633 574.002 81.0614 571.711 Q82.9595 569.419 86.3392 568.632 M84.6262 561.248 Q84.6262 563.933 86.2929 565.438 Q87.9827 566.942 91.0151 566.942 Q94.0243 566.942 95.7141 565.438 Q97.4271 563.933 97.4271 561.248 Q97.4271 558.563 95.7141 557.058 Q94.0243 555.553 91.0151 555.553 Q87.9827 555.553 86.2929 557.058 Q84.6262 558.563 84.6262 561.248 Z\" fill=\"#000000\" fill-rule=\"evenodd\" fill-opacity=\"1\" /><path clip-path=\"url(#clip520)\" d=\"M121.177 555.553 Q117.566 555.553 115.737 559.118 Q113.932 562.66 113.932 569.79 Q113.932 576.896 115.737 580.461 Q117.566 584.002 121.177 584.002 Q124.811 584.002 126.617 580.461 Q128.445 576.896 128.445 569.79 Q128.445 562.66 126.617 559.118 Q124.811 555.553 121.177 555.553 M121.177 551.85 Q126.987 551.85 130.043 556.456 Q133.121 561.04 133.121 569.79 Q133.121 578.516 130.043 583.123 Q126.987 587.706 121.177 587.706 Q115.367 587.706 112.288 583.123 Q109.233 578.516 109.233 569.79 Q109.233 561.04 112.288 556.456 Q115.367 551.85 121.177 551.85 Z\" fill=\"#000000\" fill-rule=\"evenodd\" fill-opacity=\"1\" /><path clip-path=\"url(#clip520)\" d=\"M51.6634 364.109 L59.3023 364.109 L59.3023 337.744 L50.9921 339.41 L50.9921 335.151 L59.256 333.485 L63.9319 333.485 L63.9319 364.109 L71.5707 364.109 L71.5707 368.045 L51.6634 368.045 L51.6634 364.109 Z\" fill=\"#000000\" fill-rule=\"evenodd\" fill-opacity=\"1\" /><path clip-path=\"url(#clip520)\" d=\"M91.0151 336.563 Q87.404 336.563 85.5753 340.128 Q83.7697 343.67 83.7697 350.799 Q83.7697 357.906 85.5753 361.471 Q87.404 365.012 91.0151 365.012 Q94.6493 365.012 96.4548 361.471 Q98.2835 357.906 98.2835 350.799 Q98.2835 343.67 96.4548 340.128 Q94.6493 336.563 91.0151 336.563 M91.0151 332.86 Q96.8252 332.86 99.8808 337.466 Q102.959 342.049 102.959 350.799 Q102.959 359.526 99.8808 364.133 Q96.8252 368.716 91.0151 368.716 Q85.2049 368.716 82.1262 364.133 Q79.0707 359.526 79.0707 350.799 Q79.0707 342.049 82.1262 337.466 Q85.2049 332.86 91.0151 332.86 Z\" fill=\"#000000\" fill-rule=\"evenodd\" fill-opacity=\"1\" /><path clip-path=\"url(#clip520)\" d=\"M121.177 336.563 Q117.566 336.563 115.737 340.128 Q113.932 343.67 113.932 350.799 Q113.932 357.906 115.737 361.471 Q117.566 365.012 121.177 365.012 Q124.811 365.012 126.617 361.471 Q128.445 357.906 128.445 350.799 Q128.445 343.67 126.617 340.128 Q124.811 336.563 121.177 336.563 M121.177 332.86 Q126.987 332.86 130.043 337.466 Q133.121 342.049 133.121 350.799 Q133.121 359.526 130.043 364.133 Q126.987 368.716 121.177 368.716 Q115.367 368.716 112.288 364.133 Q109.233 359.526 109.233 350.799 Q109.233 342.049 112.288 337.466 Q115.367 332.86 121.177 332.86 Z\" fill=\"#000000\" fill-rule=\"evenodd\" fill-opacity=\"1\" /><path clip-path=\"url(#clip520)\" d=\"M51.6634 145.119 L59.3023 145.119 L59.3023 118.754 L50.9921 120.42 L50.9921 116.161 L59.256 114.494 L63.9319 114.494 L63.9319 145.119 L71.5707 145.119 L71.5707 149.054 L51.6634 149.054 L51.6634 145.119 Z\" fill=\"#000000\" fill-rule=\"evenodd\" fill-opacity=\"1\" /><path clip-path=\"url(#clip520)\" d=\"M85.0429 145.119 L101.362 145.119 L101.362 149.054 L79.4179 149.054 L79.4179 145.119 Q82.0799 142.365 86.6632 137.735 Q91.2697 133.082 92.4502 131.74 Q94.6956 129.216 95.5752 127.48 Q96.478 125.721 96.478 124.031 Q96.478 121.277 94.5336 119.541 Q92.6123 117.804 89.5104 117.804 Q87.3114 117.804 84.8577 118.568 Q82.4271 119.332 79.6494 120.883 L79.6494 116.161 Q82.4734 115.027 84.9271 114.448 Q87.3808 113.869 89.4178 113.869 Q94.7882 113.869 97.9826 116.554 Q101.177 119.24 101.177 123.73 Q101.177 125.86 100.367 127.781 Q99.5798 129.679 97.4734 132.272 Q96.8947 132.943 93.7928 136.161 Q90.691 139.355 85.0429 145.119 Z\" fill=\"#000000\" fill-rule=\"evenodd\" fill-opacity=\"1\" /><path clip-path=\"url(#clip520)\" d=\"M121.177 117.573 Q117.566 117.573 115.737 121.138 Q113.932 124.679 113.932 131.809 Q113.932 138.915 115.737 142.48 Q117.566 146.022 121.177 146.022 Q124.811 146.022 126.617 142.48 Q128.445 138.915 128.445 131.809 Q128.445 124.679 126.617 121.138 Q124.811 117.573 121.177 117.573 M121.177 113.869 Q126.987 113.869 130.043 118.476 Q133.121 123.059 133.121 131.809 Q133.121 140.536 130.043 145.142 Q126.987 149.726 121.177 149.726 Q115.367 149.726 112.288 145.142 Q109.233 140.536 109.233 131.809 Q109.233 123.059 112.288 118.476 Q115.367 113.869 121.177 113.869 Z\" fill=\"#000000\" fill-rule=\"evenodd\" fill-opacity=\"1\" /><path clip-path=\"url(#clip522)\" d=\"\nM289.225 87.9763 L289.225 1445.72 L505.161 1445.72 L505.161 87.9763 L289.225 87.9763 L289.225 87.9763  Z\n  \" fill=\"#ff0000\" fill-rule=\"evenodd\" fill-opacity=\"0.5\"/>\n<polyline clip-path=\"url(#clip522)\" style=\"stroke:#000000; stroke-linecap:round; stroke-linejoin:round; stroke-width:4; stroke-opacity:0.5; fill:none\" points=\"\n  289.225,87.9763 289.225,1445.72 505.161,1445.72 505.161,87.9763 289.225,87.9763 \n  \"/>\n<path clip-path=\"url(#clip522)\" d=\"\nM505.161 1445.72 L505.161 1445.72 L721.098 1445.72 L721.098 1445.72 L505.161 1445.72 L505.161 1445.72  Z\n  \" fill=\"#ff0000\" fill-rule=\"evenodd\" fill-opacity=\"0.5\"/>\n<polyline clip-path=\"url(#clip522)\" style=\"stroke:#000000; stroke-linecap:round; stroke-linejoin:round; stroke-width:4; stroke-opacity:0.5; fill:none\" points=\"\n  505.161,1445.72 505.161,1445.72 721.098,1445.72 505.161,1445.72 \n  \"/>\n<path clip-path=\"url(#clip522)\" d=\"\nM721.098 504.058 L721.098 1445.72 L937.034 1445.72 L937.034 504.058 L721.098 504.058 L721.098 504.058  Z\n  \" fill=\"#ff0000\" fill-rule=\"evenodd\" fill-opacity=\"0.5\"/>\n<polyline clip-path=\"url(#clip522)\" style=\"stroke:#000000; stroke-linecap:round; stroke-linejoin:round; stroke-width:4; stroke-opacity:0.5; fill:none\" points=\"\n  721.098,504.058 721.098,1445.72 937.034,1445.72 937.034,504.058 721.098,504.058 \n  \"/>\n<path clip-path=\"url(#clip522)\" d=\"\nM937.034 1445.72 L937.034 1445.72 L1152.97 1445.72 L1152.97 1445.72 L937.034 1445.72 L937.034 1445.72  Z\n  \" fill=\"#ff0000\" fill-rule=\"evenodd\" fill-opacity=\"0.5\"/>\n<polyline clip-path=\"url(#clip522)\" style=\"stroke:#000000; stroke-linecap:round; stroke-linejoin:round; stroke-width:4; stroke-opacity:0.5; fill:none\" points=\"\n  937.034,1445.72 937.034,1445.72 1152.97,1445.72 937.034,1445.72 \n  \"/>\n<path clip-path=\"url(#clip522)\" d=\"\nM1152.97 854.442 L1152.97 1445.72 L1368.91 1445.72 L1368.91 854.442 L1152.97 854.442 L1152.97 854.442  Z\n  \" fill=\"#ff0000\" fill-rule=\"evenodd\" fill-opacity=\"0.5\"/>\n<polyline clip-path=\"url(#clip522)\" style=\"stroke:#000000; stroke-linecap:round; stroke-linejoin:round; stroke-width:4; stroke-opacity:0.5; fill:none\" points=\"\n  1152.97,854.442 1152.97,1445.72 1368.91,1445.72 1368.91,854.442 1152.97,854.442 \n  \"/>\n<path clip-path=\"url(#clip522)\" d=\"\nM1368.91 1445.72 L1368.91 1445.72 L1584.84 1445.72 L1584.84 1445.72 L1368.91 1445.72 L1368.91 1445.72  Z\n  \" fill=\"#ff0000\" fill-rule=\"evenodd\" fill-opacity=\"0.5\"/>\n<polyline clip-path=\"url(#clip522)\" style=\"stroke:#000000; stroke-linecap:round; stroke-linejoin:round; stroke-width:4; stroke-opacity:0.5; fill:none\" points=\"\n  1368.91,1445.72 1368.91,1445.72 1584.84,1445.72 1368.91,1445.72 \n  \"/>\n<path clip-path=\"url(#clip522)\" d=\"\nM1584.84 1445.72 L1584.84 1445.72 L1800.78 1445.72 L1800.78 1445.72 L1584.84 1445.72 L1584.84 1445.72  Z\n  \" fill=\"#ff0000\" fill-rule=\"evenodd\" fill-opacity=\"0.5\"/>\n<polyline clip-path=\"url(#clip522)\" style=\"stroke:#000000; stroke-linecap:round; stroke-linejoin:round; stroke-width:4; stroke-opacity:0.5; fill:none\" points=\"\n  1584.84,1445.72 1584.84,1445.72 1800.78,1445.72 1584.84,1445.72 \n  \"/>\n<path clip-path=\"url(#clip522)\" d=\"\nM1800.78 1390.97 L1800.78 1445.72 L2016.72 1445.72 L2016.72 1390.97 L1800.78 1390.97 L1800.78 1390.97  Z\n  \" fill=\"#ff0000\" fill-rule=\"evenodd\" fill-opacity=\"0.5\"/>\n<polyline clip-path=\"url(#clip522)\" style=\"stroke:#000000; stroke-linecap:round; stroke-linejoin:round; stroke-width:4; stroke-opacity:0.5; fill:none\" points=\"\n  1800.78,1390.97 1800.78,1445.72 2016.72,1445.72 2016.72,1390.97 1800.78,1390.97 \n  \"/>\n<circle clip-path=\"url(#clip522)\" style=\"fill:#ff0000; stroke:none; fill-opacity:0\" cx=\"397.193\" cy=\"87.9763\" r=\"2\"/>\n<circle clip-path=\"url(#clip522)\" style=\"fill:#ff0000; stroke:none; fill-opacity:0\" cx=\"613.13\" cy=\"1445.72\" r=\"2\"/>\n<circle clip-path=\"url(#clip522)\" style=\"fill:#ff0000; stroke:none; fill-opacity:0\" cx=\"829.066\" cy=\"504.058\" r=\"2\"/>\n<circle clip-path=\"url(#clip522)\" style=\"fill:#ff0000; stroke:none; fill-opacity:0\" cx=\"1045\" cy=\"1445.72\" r=\"2\"/>\n<circle clip-path=\"url(#clip522)\" style=\"fill:#ff0000; stroke:none; fill-opacity:0\" cx=\"1260.94\" cy=\"854.442\" r=\"2\"/>\n<circle clip-path=\"url(#clip522)\" style=\"fill:#ff0000; stroke:none; fill-opacity:0\" cx=\"1476.87\" cy=\"1445.72\" r=\"2\"/>\n<circle clip-path=\"url(#clip522)\" style=\"fill:#ff0000; stroke:none; fill-opacity:0\" cx=\"1692.81\" cy=\"1445.72\" r=\"2\"/>\n<circle clip-path=\"url(#clip522)\" style=\"fill:#ff0000; stroke:none; fill-opacity:0\" cx=\"1908.75\" cy=\"1390.97\" r=\"2\"/>\n<path clip-path=\"url(#clip522)\" d=\"\nM289.225 131.774 L289.225 1445.72 L505.161 1445.72 L505.161 131.774 L289.225 131.774 L289.225 131.774  Z\n  \" fill=\"#0000ff\" fill-rule=\"evenodd\" fill-opacity=\"0.5\"/>\n<polyline clip-path=\"url(#clip522)\" style=\"stroke:#000000; stroke-linecap:round; stroke-linejoin:round; stroke-width:4; stroke-opacity:0.5; fill:none\" points=\"\n  289.225,131.774 289.225,1445.72 505.161,1445.72 505.161,131.774 289.225,131.774 \n  \"/>\n<path clip-path=\"url(#clip522)\" d=\"\nM505.161 1128.18 L505.161 1445.72 L721.098 1445.72 L721.098 1128.18 L505.161 1128.18 L505.161 1128.18  Z\n  \" fill=\"#0000ff\" fill-rule=\"evenodd\" fill-opacity=\"0.5\"/>\n<polyline clip-path=\"url(#clip522)\" style=\"stroke:#000000; stroke-linecap:round; stroke-linejoin:round; stroke-width:4; stroke-opacity:0.5; fill:none\" points=\"\n  505.161,1128.18 505.161,1445.72 721.098,1445.72 721.098,1128.18 505.161,1128.18 \n  \"/>\n<path clip-path=\"url(#clip522)\" d=\"\nM721.098 1204.83 L721.098 1445.72 L937.034 1445.72 L937.034 1204.83 L721.098 1204.83 L721.098 1204.83  Z\n  \" fill=\"#0000ff\" fill-rule=\"evenodd\" fill-opacity=\"0.5\"/>\n<polyline clip-path=\"url(#clip522)\" style=\"stroke:#000000; stroke-linecap:round; stroke-linejoin:round; stroke-width:4; stroke-opacity:0.5; fill:none\" points=\"\n  721.098,1204.83 721.098,1445.72 937.034,1445.72 937.034,1204.83 721.098,1204.83 \n  \"/>\n<path clip-path=\"url(#clip522)\" d=\"\nM937.034 1128.18 L937.034 1445.72 L1152.97 1445.72 L1152.97 1128.18 L937.034 1128.18 L937.034 1128.18  Z\n  \" fill=\"#0000ff\" fill-rule=\"evenodd\" fill-opacity=\"0.5\"/>\n<polyline clip-path=\"url(#clip522)\" style=\"stroke:#000000; stroke-linecap:round; stroke-linejoin:round; stroke-width:4; stroke-opacity:0.5; fill:none\" points=\"\n  937.034,1128.18 937.034,1445.72 1152.97,1445.72 1152.97,1128.18 937.034,1128.18 \n  \"/>\n<path clip-path=\"url(#clip522)\" d=\"\nM1152.97 1193.88 L1152.97 1445.72 L1368.91 1445.72 L1368.91 1193.88 L1152.97 1193.88 L1152.97 1193.88  Z\n  \" fill=\"#0000ff\" fill-rule=\"evenodd\" fill-opacity=\"0.5\"/>\n<polyline clip-path=\"url(#clip522)\" style=\"stroke:#000000; stroke-linecap:round; stroke-linejoin:round; stroke-width:4; stroke-opacity:0.5; fill:none\" points=\"\n  1152.97,1193.88 1152.97,1445.72 1368.91,1445.72 1368.91,1193.88 1152.97,1193.88 \n  \"/>\n<path clip-path=\"url(#clip522)\" d=\"\nM1368.91 1193.88 L1368.91 1445.72 L1584.84 1445.72 L1584.84 1193.88 L1368.91 1193.88 L1368.91 1193.88  Z\n  \" fill=\"#0000ff\" fill-rule=\"evenodd\" fill-opacity=\"0.5\"/>\n<polyline clip-path=\"url(#clip522)\" style=\"stroke:#000000; stroke-linecap:round; stroke-linejoin:round; stroke-width:4; stroke-opacity:0.5; fill:none\" points=\"\n  1368.91,1193.88 1368.91,1445.72 1584.84,1445.72 1584.84,1193.88 1368.91,1193.88 \n  \"/>\n<path clip-path=\"url(#clip522)\" d=\"\nM1584.84 1281.47 L1584.84 1445.72 L1800.78 1445.72 L1800.78 1281.47 L1584.84 1281.47 L1584.84 1281.47  Z\n  \" fill=\"#0000ff\" fill-rule=\"evenodd\" fill-opacity=\"0.5\"/>\n<polyline clip-path=\"url(#clip522)\" style=\"stroke:#000000; stroke-linecap:round; stroke-linejoin:round; stroke-width:4; stroke-opacity:0.5; fill:none\" points=\"\n  1584.84,1281.47 1584.84,1445.72 1800.78,1445.72 1800.78,1281.47 1584.84,1281.47 \n  \"/>\n<path clip-path=\"url(#clip522)\" d=\"\nM1800.78 1390.97 L1800.78 1445.72 L2016.72 1445.72 L2016.72 1390.97 L1800.78 1390.97 L1800.78 1390.97  Z\n  \" fill=\"#0000ff\" fill-rule=\"evenodd\" fill-opacity=\"0.5\"/>\n<polyline clip-path=\"url(#clip522)\" style=\"stroke:#000000; stroke-linecap:round; stroke-linejoin:round; stroke-width:4; stroke-opacity:0.5; fill:none\" points=\"\n  1800.78,1390.97 1800.78,1445.72 2016.72,1445.72 2016.72,1390.97 1800.78,1390.97 \n  \"/>\n<path clip-path=\"url(#clip522)\" d=\"\nM2016.72 1412.87 L2016.72 1445.72 L2232.65 1445.72 L2232.65 1412.87 L2016.72 1412.87 L2016.72 1412.87  Z\n  \" fill=\"#0000ff\" fill-rule=\"evenodd\" fill-opacity=\"0.5\"/>\n<polyline clip-path=\"url(#clip522)\" style=\"stroke:#000000; stroke-linecap:round; stroke-linejoin:round; stroke-width:4; stroke-opacity:0.5; fill:none\" points=\"\n  2016.72,1412.87 2016.72,1445.72 2232.65,1445.72 2232.65,1412.87 2016.72,1412.87 \n  \"/>\n<circle clip-path=\"url(#clip522)\" style=\"fill:#0000ff; stroke:none; fill-opacity:0\" cx=\"397.193\" cy=\"131.774\" r=\"2\"/>\n<circle clip-path=\"url(#clip522)\" style=\"fill:#0000ff; stroke:none; fill-opacity:0\" cx=\"613.13\" cy=\"1128.18\" r=\"2\"/>\n<circle clip-path=\"url(#clip522)\" style=\"fill:#0000ff; stroke:none; fill-opacity:0\" cx=\"829.066\" cy=\"1204.83\" r=\"2\"/>\n<circle clip-path=\"url(#clip522)\" style=\"fill:#0000ff; stroke:none; fill-opacity:0\" cx=\"1045\" cy=\"1128.18\" r=\"2\"/>\n<circle clip-path=\"url(#clip522)\" style=\"fill:#0000ff; stroke:none; fill-opacity:0\" cx=\"1260.94\" cy=\"1193.88\" r=\"2\"/>\n<circle clip-path=\"url(#clip522)\" style=\"fill:#0000ff; stroke:none; fill-opacity:0\" cx=\"1476.87\" cy=\"1193.88\" r=\"2\"/>\n<circle clip-path=\"url(#clip522)\" style=\"fill:#0000ff; stroke:none; fill-opacity:0\" cx=\"1692.81\" cy=\"1281.47\" r=\"2\"/>\n<circle clip-path=\"url(#clip522)\" style=\"fill:#0000ff; stroke:none; fill-opacity:0\" cx=\"1908.75\" cy=\"1390.97\" r=\"2\"/>\n<circle clip-path=\"url(#clip522)\" style=\"fill:#0000ff; stroke:none; fill-opacity:0\" cx=\"2124.68\" cy=\"1412.87\" r=\"2\"/>\n<path clip-path=\"url(#clip520)\" d=\"\nM1938.15 250.738 L2279.97 250.738 L2279.97 95.2176 L1938.15 95.2176  Z\n  \" fill=\"#ffffff\" fill-rule=\"evenodd\" fill-opacity=\"1\"/>\n<polyline clip-path=\"url(#clip520)\" style=\"stroke:#000000; stroke-linecap:round; stroke-linejoin:round; stroke-width:4; stroke-opacity:1; fill:none\" points=\"\n  1938.15,250.738 2279.97,250.738 2279.97,95.2176 1938.15,95.2176 1938.15,250.738 \n  \"/>\n<path clip-path=\"url(#clip520)\" d=\"\nM2107.99 167.794 L1962.42 167.794 L1962.42 126.322 L2107.99 126.322 L2107.99 167.794  Z\n  \" fill=\"#ff0000\" fill-rule=\"evenodd\" fill-opacity=\"0.5\"/>\n<polyline clip-path=\"url(#clip520)\" style=\"stroke:#000000; stroke-linecap:round; stroke-linejoin:round; stroke-width:4; stroke-opacity:1; fill:none\" points=\"\n  2107.99,167.794 1962.42,167.794 1962.42,126.322 2107.99,126.322 2107.99,167.794 \n  \"/>\n<path clip-path=\"url(#clip520)\" d=\"M2136.54 160.449 L2136.54 174.199 L2132.25 174.199 L2132.25 138.412 L2136.54 138.412 L2136.54 142.347 Q2137.88 140.032 2139.92 138.921 Q2141.98 137.787 2144.82 137.787 Q2149.55 137.787 2152.48 141.537 Q2155.45 145.287 2155.45 151.398 Q2155.45 157.509 2152.48 161.259 Q2149.55 165.009 2144.82 165.009 Q2141.98 165.009 2139.92 163.898 Q2137.88 162.763 2136.54 160.449 M2151.03 151.398 Q2151.03 146.699 2149.08 144.037 Q2147.16 141.352 2143.78 141.352 Q2140.4 141.352 2138.46 144.037 Q2136.54 146.699 2136.54 151.398 Q2136.54 156.097 2138.46 158.782 Q2140.4 161.444 2143.78 161.444 Q2147.16 161.444 2149.08 158.782 Q2151.03 156.097 2151.03 151.398 Z\" fill=\"#000000\" fill-rule=\"evenodd\" fill-opacity=\"1\" /><path clip-path=\"url(#clip520)\" d=\"M2177.53 142.393 Q2176.81 141.977 2175.96 141.791 Q2175.12 141.583 2174.11 141.583 Q2170.49 141.583 2168.55 143.944 Q2166.63 146.282 2166.63 150.68 L2166.63 164.338 L2162.35 164.338 L2162.35 138.412 L2166.63 138.412 L2166.63 142.44 Q2167.97 140.078 2170.12 138.944 Q2172.28 137.787 2175.36 137.787 Q2175.8 137.787 2176.33 137.856 Q2176.86 137.903 2177.51 138.018 L2177.53 142.393 Z\" fill=\"#000000\" fill-rule=\"evenodd\" fill-opacity=\"1\" /><path clip-path=\"url(#clip520)\" d=\"M2203.13 150.31 L2203.13 152.393 L2183.55 152.393 Q2183.83 156.791 2186.19 159.106 Q2188.57 161.398 2192.81 161.398 Q2195.26 161.398 2197.55 160.796 Q2199.87 160.194 2202.14 158.99 L2202.14 163.018 Q2199.85 163.99 2197.44 164.5 Q2195.03 165.009 2192.55 165.009 Q2186.35 165.009 2182.72 161.398 Q2179.11 157.787 2179.11 151.629 Q2179.11 145.264 2182.53 141.537 Q2185.98 137.787 2191.81 137.787 Q2197.04 137.787 2200.08 141.166 Q2203.13 144.523 2203.13 150.31 M2198.87 149.06 Q2198.83 145.565 2196.91 143.481 Q2195.01 141.398 2191.86 141.398 Q2188.29 141.398 2186.14 143.412 Q2184.01 145.426 2183.69 149.083 L2198.87 149.06 Z\" fill=\"#000000\" fill-rule=\"evenodd\" fill-opacity=\"1\" /><path clip-path=\"url(#clip520)\" d=\"M2227.18 142.347 L2227.18 128.319 L2231.44 128.319 L2231.44 164.338 L2227.18 164.338 L2227.18 160.449 Q2225.84 162.763 2223.78 163.898 Q2221.74 165.009 2218.87 165.009 Q2214.17 165.009 2211.21 161.259 Q2208.27 157.509 2208.27 151.398 Q2208.27 145.287 2211.21 141.537 Q2214.17 137.787 2218.87 137.787 Q2221.74 137.787 2223.78 138.921 Q2225.84 140.032 2227.18 142.347 M2212.67 151.398 Q2212.67 156.097 2214.59 158.782 Q2216.54 161.444 2219.92 161.444 Q2223.29 161.444 2225.24 158.782 Q2227.18 156.097 2227.18 151.398 Q2227.18 146.699 2225.24 144.037 Q2223.29 141.352 2219.92 141.352 Q2216.54 141.352 2214.59 144.037 Q2212.67 146.699 2212.67 151.398 Z\" fill=\"#000000\" fill-rule=\"evenodd\" fill-opacity=\"1\" /><path clip-path=\"url(#clip520)\" d=\"\nM2107.99 219.634 L1962.42 219.634 L1962.42 178.162 L2107.99 178.162 L2107.99 219.634  Z\n  \" fill=\"#0000ff\" fill-rule=\"evenodd\" fill-opacity=\"0.5\"/>\n<polyline clip-path=\"url(#clip520)\" style=\"stroke:#000000; stroke-linecap:round; stroke-linejoin:round; stroke-width:4; stroke-opacity:1; fill:none\" points=\"\n  2107.99,219.634 1962.42,219.634 1962.42,178.162 2107.99,178.162 2107.99,219.634 \n  \"/>\n<path clip-path=\"url(#clip520)\" d=\"M2139.66 182.891 L2139.66 190.252 L2148.43 190.252 L2148.43 193.562 L2139.66 193.562 L2139.66 207.636 Q2139.66 210.807 2140.52 211.71 Q2141.4 212.613 2144.06 212.613 L2148.43 212.613 L2148.43 216.178 L2144.06 216.178 Q2139.13 216.178 2137.25 214.349 Q2135.38 212.497 2135.38 207.636 L2135.38 193.562 L2132.25 193.562 L2132.25 190.252 L2135.38 190.252 L2135.38 182.891 L2139.66 182.891 Z\" fill=\"#000000\" fill-rule=\"evenodd\" fill-opacity=\"1\" /><path clip-path=\"url(#clip520)\" d=\"M2176.21 202.15 L2176.21 204.233 L2156.63 204.233 Q2156.91 208.631 2159.27 210.946 Q2161.65 213.238 2165.89 213.238 Q2168.34 213.238 2170.63 212.636 Q2172.95 212.034 2175.22 210.83 L2175.22 214.858 Q2172.92 215.83 2170.52 216.34 Q2168.11 216.849 2165.63 216.849 Q2159.43 216.849 2155.8 213.238 Q2152.18 209.627 2152.18 203.469 Q2152.18 197.104 2155.61 193.377 Q2159.06 189.627 2164.89 189.627 Q2170.12 189.627 2173.16 193.006 Q2176.21 196.363 2176.21 202.15 M2171.95 200.9 Q2171.91 197.405 2169.98 195.321 Q2168.09 193.238 2164.94 193.238 Q2161.37 193.238 2159.22 195.252 Q2157.09 197.266 2156.77 200.923 L2171.95 200.9 Z\" fill=\"#000000\" fill-rule=\"evenodd\" fill-opacity=\"1\" /><path clip-path=\"url(#clip520)\" d=\"M2199.73 191.016 L2199.73 195.043 Q2197.92 194.117 2195.98 193.655 Q2194.04 193.192 2191.95 193.192 Q2188.78 193.192 2187.18 194.164 Q2185.61 195.136 2185.61 197.08 Q2185.61 198.562 2186.74 199.418 Q2187.88 200.252 2191.3 201.016 L2192.76 201.34 Q2197.3 202.312 2199.2 204.094 Q2201.12 205.854 2201.12 209.025 Q2201.12 212.636 2198.25 214.742 Q2195.4 216.849 2190.4 216.849 Q2188.32 216.849 2186.05 216.432 Q2183.8 216.039 2181.3 215.228 L2181.3 210.83 Q2183.67 212.057 2185.96 212.682 Q2188.25 213.284 2190.49 213.284 Q2193.5 213.284 2195.12 212.266 Q2196.74 211.224 2196.74 209.349 Q2196.74 207.613 2195.56 206.687 Q2194.41 205.761 2190.45 204.904 L2188.97 204.557 Q2185.01 203.724 2183.25 202.011 Q2181.49 200.275 2181.49 197.266 Q2181.49 193.608 2184.08 191.618 Q2186.67 189.627 2191.44 189.627 Q2193.8 189.627 2195.89 189.974 Q2197.97 190.321 2199.73 191.016 Z\" fill=\"#000000\" fill-rule=\"evenodd\" fill-opacity=\"1\" /><path clip-path=\"url(#clip520)\" d=\"M2212.11 182.891 L2212.11 190.252 L2220.89 190.252 L2220.89 193.562 L2212.11 193.562 L2212.11 207.636 Q2212.11 210.807 2212.97 211.71 Q2213.85 212.613 2216.51 212.613 L2220.89 212.613 L2220.89 216.178 L2216.51 216.178 Q2211.58 216.178 2209.71 214.349 Q2207.83 212.497 2207.83 207.636 L2207.83 193.562 L2204.71 193.562 L2204.71 190.252 L2207.83 190.252 L2207.83 182.891 L2212.11 182.891 Z\" fill=\"#000000\" fill-rule=\"evenodd\" fill-opacity=\"1\" /></svg>\n"
     },
     "metadata": {},
     "output_type": "display_data"
    }
   ],
   "source": [
    "OCTReg = ORT_model(train_valid, test);\n",
    "\n",
    "# write_json the model\n",
    "IAI.write_json(\"OCTReg.json\", OCTReg)\n",
    "\n",
    "# save the predictions\n",
    "OCTR_pred = IAI.predict(OCTReg, get_features(test))\n",
    "CSV.write(\"OCTR_pred.csv\", DataFrame(pred = OCTR_pred));"
   ]
  },
  {
   "cell_type": "markdown",
   "metadata": {},
   "source": [
    "## ORT-H (Optimal Regression Trees with Hyperplane Splitting)"
   ]
  },
  {
   "cell_type": "code",
   "execution_count": 11,
   "metadata": {},
   "outputs": [],
   "source": [
    "# define ranges for the hyperparameters\n",
    "max_depth = [3, 4]\n",
    "minbucket = [2, 5]\n",
    ";"
   ]
  },
  {
   "cell_type": "code",
   "execution_count": 12,
   "metadata": {},
   "outputs": [
    {
     "data": {
      "text/plain": [
       "ORTH_model (generic function with 1 method)"
      ]
     },
     "execution_count": 12,
     "metadata": {},
     "output_type": "execute_result"
    }
   ],
   "source": [
    "function ORTH_model(train_valid, test)\n",
    "\n",
    "    println(\"Training model...\")\n",
    "\n",
    "    # define the model  \n",
    "    model_octh = IAI.OptimalTreeRegressor(\n",
    "        random_seed = 1,\n",
    "        criterion = :mse,\n",
    "        hyperplane_config= (sparsity=:all,),\n",
    "    )\n",
    "\n",
    "    println(\"Fitting model...\")\n",
    "\n",
    "    # define the grid\n",
    "    grid_octh = IAI.GridSearch(\n",
    "        model_octh,\n",
    "        max_depth = max_depth,\n",
    "        minbucket = minbucket,\n",
    "    )\n",
    "\n",
    "    println(\"Fitting model...\")\n",
    "\n",
    "    # fit the model with 5-fold cross validation\n",
    "    IAI.fit_cv!(grid_octh, get_features(train_valid), Array(get_target(train_valid)), validation_criterion = :mse, n_folds=5)\n",
    "\n",
    "    println(\"Predicting...\")\n",
    "\n",
    "    # get the best model\n",
    "    pred = IAI.predict(grid_octh, get_features(test))\n",
    "\n",
    "    println(\"Computing results...\")\n",
    "\n",
    "    # compute the results\n",
    "    #compute_results(pred, get_target(test))\n",
    "    transform_and_results(pred, get_target(test))\n",
    "\n",
    "    # check the prediction value\n",
    "    check_prediction_value(pred, get_target(test))\n",
    "\n",
    "    # return the best model\n",
    "    return IAI.get_learner(grid_octh)\n",
    "end"
   ]
  },
  {
   "cell_type": "code",
   "execution_count": 13,
   "metadata": {},
   "outputs": [
    {
     "name": "stdout",
     "output_type": "stream",
     "text": [
      "Training model...\n",
      "Fitting model...\n",
      "Fitting model...\n",
      "Predicting...\n",
      "Computing results...\n"
     ]
    },
    {
     "data": {
      "text/html": [
       "<div><div style = \"float: left;\"><span>1×4 DataFrame</span></div><div style = \"clear: both;\"></div></div><div class = \"data-frame\" style = \"overflow-x: scroll;\"><table class = \"data-frame\" style = \"margin-bottom: 6px;\"><thead><tr class = \"header\"><th class = \"rowNumber\" style = \"font-weight: bold; text-align: right;\">Row</th><th style = \"text-align: left;\">mae</th><th style = \"text-align: left;\">mse</th><th style = \"text-align: left;\">rmse</th><th style = \"text-align: left;\">osr2</th></tr><tr class = \"subheader headerLastRow\"><th class = \"rowNumber\" style = \"font-weight: bold; text-align: right;\"></th><th title = \"Float64\" style = \"text-align: left;\">Float64</th><th title = \"Float64\" style = \"text-align: left;\">Float64</th><th title = \"Float64\" style = \"text-align: left;\">Float64</th><th title = \"Float64\" style = \"text-align: left;\">Float64</th></tr></thead><tbody><tr><td class = \"rowNumber\" style = \"font-weight: bold; text-align: right;\">1</td><td style = \"text-align: right;\">4.37597</td><td style = \"text-align: right;\">81.4735</td><td style = \"text-align: right;\">9.02626</td><td style = \"text-align: right;\">0.338284</td></tr></tbody></table></div>"
      ],
      "text/latex": [
       "\\begin{tabular}{r|cccc}\n",
       "\t& mae & mse & rmse & osr2\\\\\n",
       "\t\\hline\n",
       "\t& Float64 & Float64 & Float64 & Float64\\\\\n",
       "\t\\hline\n",
       "\t1 & 4.37597 & 81.4735 & 9.02626 & 0.338284 \\\\\n",
       "\\end{tabular}\n"
      ],
      "text/plain": [
       "\u001b[1m1×4 DataFrame\n",
       "\u001b[1m Row │\u001b[1m mae     \u001b[1m mse     \u001b[1m rmse    \u001b[1m osr2\n",
       "     │\u001b[90m Float64 \u001b[90m Float64 \u001b[90m Float64 \u001b[90m Float64\n",
       "─────┼─────────────────────────────────────\n",
       "   1 │ 4.37597  81.4735  9.02626  0.338284"
      ]
     },
     "metadata": {},
     "output_type": "display_data"
    },
    {
     "data": {
      "image/svg+xml": "<?xml version=\"1.0\" encoding=\"utf-8\"?>\n<svg xmlns=\"http://www.w3.org/2000/svg\" xmlns:xlink=\"http://www.w3.org/1999/xlink\" width=\"600\" height=\"400\" viewBox=\"0 0 2400 1600\">\n<defs>\n  <clipPath id=\"clip560\">\n    <rect x=\"0\" y=\"0\" width=\"2400\" height=\"1600\"/>\n  </clipPath>\n</defs>\n<path clip-path=\"url(#clip560)\" d=\"\nM0 1600 L2400 1600 L2400 0 L0 0  Z\n  \" fill=\"#ffffff\" fill-rule=\"evenodd\" fill-opacity=\"1\"/>\n<defs>\n  <clipPath id=\"clip561\">\n    <rect x=\"480\" y=\"0\" width=\"1681\" height=\"1600\"/>\n  </clipPath>\n</defs>\n<path clip-path=\"url(#clip560)\" d=\"\nM169.121 1486.45 L2352.76 1486.45 L2352.76 47.2441 L169.121 47.2441  Z\n  \" fill=\"#ffffff\" fill-rule=\"evenodd\" fill-opacity=\"1\"/>\n<defs>\n  <clipPath id=\"clip562\">\n    <rect x=\"169\" y=\"47\" width=\"2185\" height=\"1440\"/>\n  </clipPath>\n</defs>\n<polyline clip-path=\"url(#clip562)\" style=\"stroke:#000000; stroke-linecap:round; stroke-linejoin:round; stroke-width:2; stroke-opacity:0.1; fill:none\" points=\"\n  289.225,1486.45 289.225,47.2441 \n  \"/>\n<polyline clip-path=\"url(#clip562)\" style=\"stroke:#000000; stroke-linecap:round; stroke-linejoin:round; stroke-width:2; stroke-opacity:0.1; fill:none\" points=\"\n  721.098,1486.45 721.098,47.2441 \n  \"/>\n<polyline clip-path=\"url(#clip562)\" style=\"stroke:#000000; stroke-linecap:round; stroke-linejoin:round; stroke-width:2; stroke-opacity:0.1; fill:none\" points=\"\n  1152.97,1486.45 1152.97,47.2441 \n  \"/>\n<polyline clip-path=\"url(#clip562)\" style=\"stroke:#000000; stroke-linecap:round; stroke-linejoin:round; stroke-width:2; stroke-opacity:0.1; fill:none\" points=\"\n  1584.84,1486.45 1584.84,47.2441 \n  \"/>\n<polyline clip-path=\"url(#clip562)\" style=\"stroke:#000000; stroke-linecap:round; stroke-linejoin:round; stroke-width:2; stroke-opacity:0.1; fill:none\" points=\"\n  2016.72,1486.45 2016.72,47.2441 \n  \"/>\n<polyline clip-path=\"url(#clip560)\" style=\"stroke:#000000; stroke-linecap:round; stroke-linejoin:round; stroke-width:4; stroke-opacity:1; fill:none\" points=\"\n  169.121,1486.45 2352.76,1486.45 \n  \"/>\n<polyline clip-path=\"url(#clip560)\" style=\"stroke:#000000; stroke-linecap:round; stroke-linejoin:round; stroke-width:4; stroke-opacity:1; fill:none\" points=\"\n  289.225,1486.45 289.225,1467.55 \n  \"/>\n<polyline clip-path=\"url(#clip560)\" style=\"stroke:#000000; stroke-linecap:round; stroke-linejoin:round; stroke-width:4; stroke-opacity:1; fill:none\" points=\"\n  721.098,1486.45 721.098,1467.55 \n  \"/>\n<polyline clip-path=\"url(#clip560)\" style=\"stroke:#000000; stroke-linecap:round; stroke-linejoin:round; stroke-width:4; stroke-opacity:1; fill:none\" points=\"\n  1152.97,1486.45 1152.97,1467.55 \n  \"/>\n<polyline clip-path=\"url(#clip560)\" style=\"stroke:#000000; stroke-linecap:round; stroke-linejoin:round; stroke-width:4; stroke-opacity:1; fill:none\" points=\"\n  1584.84,1486.45 1584.84,1467.55 \n  \"/>\n<polyline clip-path=\"url(#clip560)\" style=\"stroke:#000000; stroke-linecap:round; stroke-linejoin:round; stroke-width:4; stroke-opacity:1; fill:none\" points=\"\n  2016.72,1486.45 2016.72,1467.55 \n  \"/>\n<path clip-path=\"url(#clip560)\" d=\"M289.225 1517.37 Q285.614 1517.37 283.785 1520.93 Q281.98 1524.47 281.98 1531.6 Q281.98 1538.71 283.785 1542.27 Q285.614 1545.82 289.225 1545.82 Q292.859 1545.82 294.665 1542.27 Q296.494 1538.71 296.494 1531.6 Q296.494 1524.47 294.665 1520.93 Q292.859 1517.37 289.225 1517.37 M289.225 1513.66 Q295.035 1513.66 298.091 1518.27 Q301.169 1522.85 301.169 1531.6 Q301.169 1540.33 298.091 1544.94 Q295.035 1549.52 289.225 1549.52 Q283.415 1549.52 280.336 1544.94 Q277.281 1540.33 277.281 1531.6 Q277.281 1522.85 280.336 1518.27 Q283.415 1513.66 289.225 1513.66 Z\" fill=\"#000000\" fill-rule=\"evenodd\" fill-opacity=\"1\" /><path clip-path=\"url(#clip560)\" d=\"M711.48 1544.91 L719.119 1544.91 L719.119 1518.55 L710.808 1520.21 L710.808 1515.95 L719.072 1514.29 L723.748 1514.29 L723.748 1544.91 L731.387 1544.91 L731.387 1548.85 L711.48 1548.85 L711.48 1544.91 Z\" fill=\"#000000\" fill-rule=\"evenodd\" fill-opacity=\"1\" /><path clip-path=\"url(#clip560)\" d=\"M1147.62 1544.91 L1163.94 1544.91 L1163.94 1548.85 L1142 1548.85 L1142 1544.91 Q1144.66 1542.16 1149.24 1537.53 Q1153.85 1532.88 1155.03 1531.53 Q1157.28 1529.01 1158.16 1527.27 Q1159.06 1525.51 1159.06 1523.82 Q1159.06 1521.07 1157.11 1519.33 Q1155.19 1517.6 1152.09 1517.6 Q1149.89 1517.6 1147.44 1518.36 Q1145.01 1519.13 1142.23 1520.68 L1142.23 1515.95 Q1145.05 1514.82 1147.51 1514.24 Q1149.96 1513.66 1152 1513.66 Q1157.37 1513.66 1160.56 1516.35 Q1163.76 1519.03 1163.76 1523.52 Q1163.76 1525.65 1162.95 1527.57 Q1162.16 1529.47 1160.05 1532.07 Q1159.48 1532.74 1156.37 1535.95 Q1153.27 1539.15 1147.62 1544.91 Z\" fill=\"#000000\" fill-rule=\"evenodd\" fill-opacity=\"1\" /><path clip-path=\"url(#clip560)\" d=\"M1589.09 1530.21 Q1592.45 1530.93 1594.32 1533.2 Q1596.22 1535.47 1596.22 1538.8 Q1596.22 1543.92 1592.7 1546.72 Q1589.18 1549.52 1582.7 1549.52 Q1580.53 1549.52 1578.21 1549.08 Q1575.92 1548.66 1573.47 1547.81 L1573.47 1543.29 Q1575.41 1544.43 1577.73 1545.01 Q1580.04 1545.58 1582.56 1545.58 Q1586.96 1545.58 1589.25 1543.85 Q1591.57 1542.11 1591.57 1538.8 Q1591.57 1535.75 1589.41 1534.03 Q1587.29 1532.3 1583.47 1532.3 L1579.44 1532.3 L1579.44 1528.45 L1583.65 1528.45 Q1587.1 1528.45 1588.93 1527.09 Q1590.76 1525.7 1590.76 1523.11 Q1590.76 1520.45 1588.86 1519.03 Q1586.98 1517.6 1583.47 1517.6 Q1581.54 1517.6 1579.35 1518.01 Q1577.15 1518.43 1574.51 1519.31 L1574.51 1515.14 Q1577.17 1514.4 1579.48 1514.03 Q1581.82 1513.66 1583.88 1513.66 Q1589.21 1513.66 1592.31 1516.09 Q1595.41 1518.5 1595.41 1522.62 Q1595.41 1525.49 1593.77 1527.48 Q1592.12 1529.45 1589.09 1530.21 Z\" fill=\"#000000\" fill-rule=\"evenodd\" fill-opacity=\"1\" /><path clip-path=\"url(#clip560)\" d=\"M2019.73 1518.36 L2007.92 1536.81 L2019.73 1536.81 L2019.73 1518.36 M2018.5 1514.29 L2024.38 1514.29 L2024.38 1536.81 L2029.31 1536.81 L2029.31 1540.7 L2024.38 1540.7 L2024.38 1548.85 L2019.73 1548.85 L2019.73 1540.7 L2004.12 1540.7 L2004.12 1536.19 L2018.5 1514.29 Z\" fill=\"#000000\" fill-rule=\"evenodd\" fill-opacity=\"1\" /><polyline clip-path=\"url(#clip562)\" style=\"stroke:#000000; stroke-linecap:round; stroke-linejoin:round; stroke-width:2; stroke-opacity:0.1; fill:none\" points=\"\n  169.121,1445.72 2352.76,1445.72 \n  \"/>\n<polyline clip-path=\"url(#clip562)\" style=\"stroke:#000000; stroke-linecap:round; stroke-linejoin:round; stroke-width:2; stroke-opacity:0.1; fill:none\" points=\"\n  169.121,1162.85 2352.76,1162.85 \n  \"/>\n<polyline clip-path=\"url(#clip562)\" style=\"stroke:#000000; stroke-linecap:round; stroke-linejoin:round; stroke-width:2; stroke-opacity:0.1; fill:none\" points=\"\n  169.121,879.991 2352.76,879.991 \n  \"/>\n<polyline clip-path=\"url(#clip562)\" style=\"stroke:#000000; stroke-linecap:round; stroke-linejoin:round; stroke-width:2; stroke-opacity:0.1; fill:none\" points=\"\n  169.121,597.129 2352.76,597.129 \n  \"/>\n<polyline clip-path=\"url(#clip562)\" style=\"stroke:#000000; stroke-linecap:round; stroke-linejoin:round; stroke-width:2; stroke-opacity:0.1; fill:none\" points=\"\n  169.121,314.266 2352.76,314.266 \n  \"/>\n<polyline clip-path=\"url(#clip560)\" style=\"stroke:#000000; stroke-linecap:round; stroke-linejoin:round; stroke-width:4; stroke-opacity:1; fill:none\" points=\"\n  169.121,1486.45 169.121,47.2441 \n  \"/>\n<polyline clip-path=\"url(#clip560)\" style=\"stroke:#000000; stroke-linecap:round; stroke-linejoin:round; stroke-width:4; stroke-opacity:1; fill:none\" points=\"\n  169.121,1445.72 188.019,1445.72 \n  \"/>\n<polyline clip-path=\"url(#clip560)\" style=\"stroke:#000000; stroke-linecap:round; stroke-linejoin:round; stroke-width:4; stroke-opacity:1; fill:none\" points=\"\n  169.121,1162.85 188.019,1162.85 \n  \"/>\n<polyline clip-path=\"url(#clip560)\" style=\"stroke:#000000; stroke-linecap:round; stroke-linejoin:round; stroke-width:4; stroke-opacity:1; fill:none\" points=\"\n  169.121,879.991 188.019,879.991 \n  \"/>\n<polyline clip-path=\"url(#clip560)\" style=\"stroke:#000000; stroke-linecap:round; stroke-linejoin:round; stroke-width:4; stroke-opacity:1; fill:none\" points=\"\n  169.121,597.129 188.019,597.129 \n  \"/>\n<polyline clip-path=\"url(#clip560)\" style=\"stroke:#000000; stroke-linecap:round; stroke-linejoin:round; stroke-width:4; stroke-opacity:1; fill:none\" points=\"\n  169.121,314.266 188.019,314.266 \n  \"/>\n<path clip-path=\"url(#clip560)\" d=\"M121.177 1431.51 Q117.566 1431.51 115.737 1435.08 Q113.932 1438.62 113.932 1445.75 Q113.932 1452.86 115.737 1456.42 Q117.566 1459.96 121.177 1459.96 Q124.811 1459.96 126.617 1456.42 Q128.445 1452.86 128.445 1445.75 Q128.445 1438.62 126.617 1435.08 Q124.811 1431.51 121.177 1431.51 M121.177 1427.81 Q126.987 1427.81 130.043 1432.42 Q133.121 1437 133.121 1445.75 Q133.121 1454.48 130.043 1459.08 Q126.987 1463.67 121.177 1463.67 Q115.367 1463.67 112.288 1459.08 Q109.233 1454.48 109.233 1445.75 Q109.233 1437 112.288 1432.42 Q115.367 1427.81 121.177 1427.81 Z\" fill=\"#000000\" fill-rule=\"evenodd\" fill-opacity=\"1\" /><path clip-path=\"url(#clip560)\" d=\"M86.0382 1176.2 L102.358 1176.2 L102.358 1180.13 L80.4133 1180.13 L80.4133 1176.2 Q83.0753 1173.44 87.6586 1168.81 Q92.2651 1164.16 93.4456 1162.82 Q95.691 1160.3 96.5706 1158.56 Q97.4734 1156.8 97.4734 1155.11 Q97.4734 1152.36 95.5289 1150.62 Q93.6076 1148.88 90.5058 1148.88 Q88.3067 1148.88 85.8531 1149.65 Q83.4225 1150.41 80.6447 1151.96 L80.6447 1147.24 Q83.4688 1146.11 85.9225 1145.53 Q88.3762 1144.95 90.4132 1144.95 Q95.7836 1144.95 98.978 1147.63 Q102.172 1150.32 102.172 1154.81 Q102.172 1156.94 101.362 1158.86 Q100.575 1160.76 98.4687 1163.35 Q97.89 1164.02 94.7882 1167.24 Q91.6864 1170.43 86.0382 1176.2 Z\" fill=\"#000000\" fill-rule=\"evenodd\" fill-opacity=\"1\" /><path clip-path=\"url(#clip560)\" d=\"M112.219 1145.57 L130.575 1145.57 L130.575 1149.51 L116.501 1149.51 L116.501 1157.98 Q117.52 1157.63 118.538 1157.47 Q119.557 1157.29 120.575 1157.29 Q126.362 1157.29 129.742 1160.46 Q133.121 1163.63 133.121 1169.05 Q133.121 1174.62 129.649 1177.73 Q126.177 1180.8 119.857 1180.8 Q117.682 1180.8 115.413 1180.43 Q113.168 1180.06 110.76 1179.32 L110.76 1174.62 Q112.844 1175.76 115.066 1176.31 Q117.288 1176.87 119.765 1176.87 Q123.77 1176.87 126.107 1174.76 Q128.445 1172.66 128.445 1169.05 Q128.445 1165.43 126.107 1163.33 Q123.77 1161.22 119.765 1161.22 Q117.89 1161.22 116.015 1161.64 Q114.163 1162.05 112.219 1162.93 L112.219 1145.57 Z\" fill=\"#000000\" fill-rule=\"evenodd\" fill-opacity=\"1\" /><path clip-path=\"url(#clip560)\" d=\"M81.0614 862.711 L99.4178 862.711 L99.4178 866.646 L85.3438 866.646 L85.3438 875.118 Q86.3623 874.771 87.3808 874.609 Q88.3993 874.424 89.4178 874.424 Q95.2049 874.424 98.5845 877.595 Q101.964 880.766 101.964 886.183 Q101.964 891.762 98.4919 894.864 Q95.0197 897.942 88.7003 897.942 Q86.5243 897.942 84.2558 897.572 Q82.0105 897.201 79.6031 896.461 L79.6031 891.762 Q81.6864 892.896 83.9086 893.452 Q86.1308 894.007 88.6077 894.007 Q92.6123 894.007 94.9502 891.901 Q97.2882 889.794 97.2882 886.183 Q97.2882 882.572 94.9502 880.465 Q92.6123 878.359 88.6077 878.359 Q86.7327 878.359 84.8577 878.776 Q83.0058 879.192 81.0614 880.072 L81.0614 862.711 Z\" fill=\"#000000\" fill-rule=\"evenodd\" fill-opacity=\"1\" /><path clip-path=\"url(#clip560)\" d=\"M121.177 865.79 Q117.566 865.79 115.737 869.354 Q113.932 872.896 113.932 880.026 Q113.932 887.132 115.737 890.697 Q117.566 894.239 121.177 894.239 Q124.811 894.239 126.617 890.697 Q128.445 887.132 128.445 880.026 Q128.445 872.896 126.617 869.354 Q124.811 865.79 121.177 865.79 M121.177 862.086 Q126.987 862.086 130.043 866.692 Q133.121 871.276 133.121 880.026 Q133.121 888.752 130.043 893.359 Q126.987 897.942 121.177 897.942 Q115.367 897.942 112.288 893.359 Q109.233 888.752 109.233 880.026 Q109.233 871.276 112.288 866.692 Q115.367 862.086 121.177 862.086 Z\" fill=\"#000000\" fill-rule=\"evenodd\" fill-opacity=\"1\" /><path clip-path=\"url(#clip560)\" d=\"M80.8299 579.849 L103.052 579.849 L103.052 581.839 L90.5058 614.409 L85.6216 614.409 L97.4271 583.784 L80.8299 583.784 L80.8299 579.849 Z\" fill=\"#000000\" fill-rule=\"evenodd\" fill-opacity=\"1\" /><path clip-path=\"url(#clip560)\" d=\"M112.219 579.849 L130.575 579.849 L130.575 583.784 L116.501 583.784 L116.501 592.256 Q117.52 591.909 118.538 591.747 Q119.557 591.561 120.575 591.561 Q126.362 591.561 129.742 594.733 Q133.121 597.904 133.121 603.321 Q133.121 608.899 129.649 612.001 Q126.177 615.08 119.857 615.08 Q117.682 615.08 115.413 614.709 Q113.168 614.339 110.76 613.598 L110.76 608.899 Q112.844 610.034 115.066 610.589 Q117.288 611.145 119.765 611.145 Q123.77 611.145 126.107 609.038 Q128.445 606.932 128.445 603.321 Q128.445 599.71 126.107 597.603 Q123.77 595.497 119.765 595.497 Q117.89 595.497 116.015 595.913 Q114.163 596.33 112.219 597.21 L112.219 579.849 Z\" fill=\"#000000\" fill-rule=\"evenodd\" fill-opacity=\"1\" /><path clip-path=\"url(#clip560)\" d=\"M51.6634 327.611 L59.3023 327.611 L59.3023 301.245 L50.9921 302.912 L50.9921 298.653 L59.256 296.986 L63.9319 296.986 L63.9319 327.611 L71.5707 327.611 L71.5707 331.546 L51.6634 331.546 L51.6634 327.611 Z\" fill=\"#000000\" fill-rule=\"evenodd\" fill-opacity=\"1\" /><path clip-path=\"url(#clip560)\" d=\"M91.0151 300.065 Q87.404 300.065 85.5753 303.63 Q83.7697 307.171 83.7697 314.301 Q83.7697 321.407 85.5753 324.972 Q87.404 328.514 91.0151 328.514 Q94.6493 328.514 96.4548 324.972 Q98.2835 321.407 98.2835 314.301 Q98.2835 307.171 96.4548 303.63 Q94.6493 300.065 91.0151 300.065 M91.0151 296.361 Q96.8252 296.361 99.8808 300.968 Q102.959 305.551 102.959 314.301 Q102.959 323.028 99.8808 327.634 Q96.8252 332.217 91.0151 332.217 Q85.2049 332.217 82.1262 327.634 Q79.0707 323.028 79.0707 314.301 Q79.0707 305.551 82.1262 300.968 Q85.2049 296.361 91.0151 296.361 Z\" fill=\"#000000\" fill-rule=\"evenodd\" fill-opacity=\"1\" /><path clip-path=\"url(#clip560)\" d=\"M121.177 300.065 Q117.566 300.065 115.737 303.63 Q113.932 307.171 113.932 314.301 Q113.932 321.407 115.737 324.972 Q117.566 328.514 121.177 328.514 Q124.811 328.514 126.617 324.972 Q128.445 321.407 128.445 314.301 Q128.445 307.171 126.617 303.63 Q124.811 300.065 121.177 300.065 M121.177 296.361 Q126.987 296.361 130.043 300.968 Q133.121 305.551 133.121 314.301 Q133.121 323.028 130.043 327.634 Q126.987 332.217 121.177 332.217 Q115.367 332.217 112.288 327.634 Q109.233 323.028 109.233 314.301 Q109.233 305.551 112.288 300.968 Q115.367 296.361 121.177 296.361 Z\" fill=\"#000000\" fill-rule=\"evenodd\" fill-opacity=\"1\" /><path clip-path=\"url(#clip562)\" d=\"\nM289.225 269.008 L289.225 1445.72 L505.161 1445.72 L505.161 269.008 L289.225 269.008 L289.225 269.008  Z\n  \" fill=\"#ff0000\" fill-rule=\"evenodd\" fill-opacity=\"0.5\"/>\n<polyline clip-path=\"url(#clip562)\" style=\"stroke:#000000; stroke-linecap:round; stroke-linejoin:round; stroke-width:4; stroke-opacity:0.5; fill:none\" points=\"\n  289.225,269.008 289.225,1445.72 505.161,1445.72 505.161,269.008 289.225,269.008 \n  \"/>\n<path clip-path=\"url(#clip562)\" d=\"\nM505.161 1151.54 L505.161 1445.72 L721.098 1445.72 L721.098 1151.54 L505.161 1151.54 L505.161 1151.54  Z\n  \" fill=\"#ff0000\" fill-rule=\"evenodd\" fill-opacity=\"0.5\"/>\n<polyline clip-path=\"url(#clip562)\" style=\"stroke:#000000; stroke-linecap:round; stroke-linejoin:round; stroke-width:4; stroke-opacity:0.5; fill:none\" points=\"\n  505.161,1151.54 505.161,1445.72 721.098,1445.72 721.098,1151.54 505.161,1151.54 \n  \"/>\n<path clip-path=\"url(#clip562)\" d=\"\nM721.098 902.62 L721.098 1445.72 L937.034 1445.72 L937.034 902.62 L721.098 902.62 L721.098 902.62  Z\n  \" fill=\"#ff0000\" fill-rule=\"evenodd\" fill-opacity=\"0.5\"/>\n<polyline clip-path=\"url(#clip562)\" style=\"stroke:#000000; stroke-linecap:round; stroke-linejoin:round; stroke-width:4; stroke-opacity:0.5; fill:none\" points=\"\n  721.098,902.62 721.098,1445.72 937.034,1445.72 937.034,902.62 721.098,902.62 \n  \"/>\n<path clip-path=\"url(#clip562)\" d=\"\nM937.034 1445.72 L937.034 1445.72 L1152.97 1445.72 L1152.97 1445.72 L937.034 1445.72 L937.034 1445.72  Z\n  \" fill=\"#ff0000\" fill-rule=\"evenodd\" fill-opacity=\"0.5\"/>\n<polyline clip-path=\"url(#clip562)\" style=\"stroke:#000000; stroke-linecap:round; stroke-linejoin:round; stroke-width:4; stroke-opacity:0.5; fill:none\" points=\"\n  937.034,1445.72 937.034,1445.72 1152.97,1445.72 937.034,1445.72 \n  \"/>\n<path clip-path=\"url(#clip562)\" d=\"\nM1152.97 755.531 L1152.97 1445.72 L1368.91 1445.72 L1368.91 755.531 L1152.97 755.531 L1152.97 755.531  Z\n  \" fill=\"#ff0000\" fill-rule=\"evenodd\" fill-opacity=\"0.5\"/>\n<polyline clip-path=\"url(#clip562)\" style=\"stroke:#000000; stroke-linecap:round; stroke-linejoin:round; stroke-width:4; stroke-opacity:0.5; fill:none\" points=\"\n  1152.97,755.531 1152.97,1445.72 1368.91,1445.72 1368.91,755.531 1152.97,755.531 \n  \"/>\n<path clip-path=\"url(#clip562)\" d=\"\nM1368.91 1174.17 L1368.91 1445.72 L1584.84 1445.72 L1584.84 1174.17 L1368.91 1174.17 L1368.91 1174.17  Z\n  \" fill=\"#ff0000\" fill-rule=\"evenodd\" fill-opacity=\"0.5\"/>\n<polyline clip-path=\"url(#clip562)\" style=\"stroke:#000000; stroke-linecap:round; stroke-linejoin:round; stroke-width:4; stroke-opacity:0.5; fill:none\" points=\"\n  1368.91,1174.17 1368.91,1445.72 1584.84,1445.72 1584.84,1174.17 1368.91,1174.17 \n  \"/>\n<path clip-path=\"url(#clip562)\" d=\"\nM1584.84 1377.83 L1584.84 1445.72 L1800.78 1445.72 L1800.78 1377.83 L1584.84 1377.83 L1584.84 1377.83  Z\n  \" fill=\"#ff0000\" fill-rule=\"evenodd\" fill-opacity=\"0.5\"/>\n<polyline clip-path=\"url(#clip562)\" style=\"stroke:#000000; stroke-linecap:round; stroke-linejoin:round; stroke-width:4; stroke-opacity:0.5; fill:none\" points=\"\n  1584.84,1377.83 1584.84,1445.72 1800.78,1445.72 1800.78,1377.83 1584.84,1377.83 \n  \"/>\n<circle clip-path=\"url(#clip562)\" style=\"fill:#ff0000; stroke:none; fill-opacity:0\" cx=\"397.193\" cy=\"269.008\" r=\"2\"/>\n<circle clip-path=\"url(#clip562)\" style=\"fill:#ff0000; stroke:none; fill-opacity:0\" cx=\"613.13\" cy=\"1151.54\" r=\"2\"/>\n<circle clip-path=\"url(#clip562)\" style=\"fill:#ff0000; stroke:none; fill-opacity:0\" cx=\"829.066\" cy=\"902.62\" r=\"2\"/>\n<circle clip-path=\"url(#clip562)\" style=\"fill:#ff0000; stroke:none; fill-opacity:0\" cx=\"1045\" cy=\"1445.72\" r=\"2\"/>\n<circle clip-path=\"url(#clip562)\" style=\"fill:#ff0000; stroke:none; fill-opacity:0\" cx=\"1260.94\" cy=\"755.531\" r=\"2\"/>\n<circle clip-path=\"url(#clip562)\" style=\"fill:#ff0000; stroke:none; fill-opacity:0\" cx=\"1476.87\" cy=\"1174.17\" r=\"2\"/>\n<circle clip-path=\"url(#clip562)\" style=\"fill:#ff0000; stroke:none; fill-opacity:0\" cx=\"1692.81\" cy=\"1377.83\" r=\"2\"/>\n<path clip-path=\"url(#clip562)\" d=\"\nM289.225 87.9763 L289.225 1445.72 L505.161 1445.72 L505.161 87.9763 L289.225 87.9763 L289.225 87.9763  Z\n  \" fill=\"#0000ff\" fill-rule=\"evenodd\" fill-opacity=\"0.5\"/>\n<polyline clip-path=\"url(#clip562)\" style=\"stroke:#000000; stroke-linecap:round; stroke-linejoin:round; stroke-width:4; stroke-opacity:0.5; fill:none\" points=\"\n  289.225,87.9763 289.225,1445.72 505.161,1445.72 505.161,87.9763 289.225,87.9763 \n  \"/>\n<path clip-path=\"url(#clip562)\" d=\"\nM505.161 1117.6 L505.161 1445.72 L721.098 1445.72 L721.098 1117.6 L505.161 1117.6 L505.161 1117.6  Z\n  \" fill=\"#0000ff\" fill-rule=\"evenodd\" fill-opacity=\"0.5\"/>\n<polyline clip-path=\"url(#clip562)\" style=\"stroke:#000000; stroke-linecap:round; stroke-linejoin:round; stroke-width:4; stroke-opacity:0.5; fill:none\" points=\"\n  505.161,1117.6 505.161,1445.72 721.098,1445.72 721.098,1117.6 505.161,1117.6 \n  \"/>\n<path clip-path=\"url(#clip562)\" d=\"\nM721.098 1196.8 L721.098 1445.72 L937.034 1445.72 L937.034 1196.8 L721.098 1196.8 L721.098 1196.8  Z\n  \" fill=\"#0000ff\" fill-rule=\"evenodd\" fill-opacity=\"0.5\"/>\n<polyline clip-path=\"url(#clip562)\" style=\"stroke:#000000; stroke-linecap:round; stroke-linejoin:round; stroke-width:4; stroke-opacity:0.5; fill:none\" points=\"\n  721.098,1196.8 721.098,1445.72 937.034,1445.72 937.034,1196.8 721.098,1196.8 \n  \"/>\n<path clip-path=\"url(#clip562)\" d=\"\nM937.034 1117.6 L937.034 1445.72 L1152.97 1445.72 L1152.97 1117.6 L937.034 1117.6 L937.034 1117.6  Z\n  \" fill=\"#0000ff\" fill-rule=\"evenodd\" fill-opacity=\"0.5\"/>\n<polyline clip-path=\"url(#clip562)\" style=\"stroke:#000000; stroke-linecap:round; stroke-linejoin:round; stroke-width:4; stroke-opacity:0.5; fill:none\" points=\"\n  937.034,1117.6 937.034,1445.72 1152.97,1445.72 1152.97,1117.6 937.034,1117.6 \n  \"/>\n<path clip-path=\"url(#clip562)\" d=\"\nM1152.97 1185.48 L1152.97 1445.72 L1368.91 1445.72 L1368.91 1185.48 L1152.97 1185.48 L1152.97 1185.48  Z\n  \" fill=\"#0000ff\" fill-rule=\"evenodd\" fill-opacity=\"0.5\"/>\n<polyline clip-path=\"url(#clip562)\" style=\"stroke:#000000; stroke-linecap:round; stroke-linejoin:round; stroke-width:4; stroke-opacity:0.5; fill:none\" points=\"\n  1152.97,1185.48 1152.97,1445.72 1368.91,1445.72 1368.91,1185.48 1152.97,1185.48 \n  \"/>\n<path clip-path=\"url(#clip562)\" d=\"\nM1368.91 1185.48 L1368.91 1445.72 L1584.84 1445.72 L1584.84 1185.48 L1368.91 1185.48 L1368.91 1185.48  Z\n  \" fill=\"#0000ff\" fill-rule=\"evenodd\" fill-opacity=\"0.5\"/>\n<polyline clip-path=\"url(#clip562)\" style=\"stroke:#000000; stroke-linecap:round; stroke-linejoin:round; stroke-width:4; stroke-opacity:0.5; fill:none\" points=\"\n  1368.91,1185.48 1368.91,1445.72 1584.84,1445.72 1584.84,1185.48 1368.91,1185.48 \n  \"/>\n<path clip-path=\"url(#clip562)\" d=\"\nM1584.84 1276 L1584.84 1445.72 L1800.78 1445.72 L1800.78 1276 L1584.84 1276 L1584.84 1276  Z\n  \" fill=\"#0000ff\" fill-rule=\"evenodd\" fill-opacity=\"0.5\"/>\n<polyline clip-path=\"url(#clip562)\" style=\"stroke:#000000; stroke-linecap:round; stroke-linejoin:round; stroke-width:4; stroke-opacity:0.5; fill:none\" points=\"\n  1584.84,1276 1584.84,1445.72 1800.78,1445.72 1800.78,1276 1584.84,1276 \n  \"/>\n<path clip-path=\"url(#clip562)\" d=\"\nM1800.78 1389.14 L1800.78 1445.72 L2016.72 1445.72 L2016.72 1389.14 L1800.78 1389.14 L1800.78 1389.14  Z\n  \" fill=\"#0000ff\" fill-rule=\"evenodd\" fill-opacity=\"0.5\"/>\n<polyline clip-path=\"url(#clip562)\" style=\"stroke:#000000; stroke-linecap:round; stroke-linejoin:round; stroke-width:4; stroke-opacity:0.5; fill:none\" points=\"\n  1800.78,1389.14 1800.78,1445.72 2016.72,1445.72 2016.72,1389.14 1800.78,1389.14 \n  \"/>\n<path clip-path=\"url(#clip562)\" d=\"\nM2016.72 1411.77 L2016.72 1445.72 L2232.65 1445.72 L2232.65 1411.77 L2016.72 1411.77 L2016.72 1411.77  Z\n  \" fill=\"#0000ff\" fill-rule=\"evenodd\" fill-opacity=\"0.5\"/>\n<polyline clip-path=\"url(#clip562)\" style=\"stroke:#000000; stroke-linecap:round; stroke-linejoin:round; stroke-width:4; stroke-opacity:0.5; fill:none\" points=\"\n  2016.72,1411.77 2016.72,1445.72 2232.65,1445.72 2232.65,1411.77 2016.72,1411.77 \n  \"/>\n<circle clip-path=\"url(#clip562)\" style=\"fill:#0000ff; stroke:none; fill-opacity:0\" cx=\"397.193\" cy=\"87.9763\" r=\"2\"/>\n<circle clip-path=\"url(#clip562)\" style=\"fill:#0000ff; stroke:none; fill-opacity:0\" cx=\"613.13\" cy=\"1117.6\" r=\"2\"/>\n<circle clip-path=\"url(#clip562)\" style=\"fill:#0000ff; stroke:none; fill-opacity:0\" cx=\"829.066\" cy=\"1196.8\" r=\"2\"/>\n<circle clip-path=\"url(#clip562)\" style=\"fill:#0000ff; stroke:none; fill-opacity:0\" cx=\"1045\" cy=\"1117.6\" r=\"2\"/>\n<circle clip-path=\"url(#clip562)\" style=\"fill:#0000ff; stroke:none; fill-opacity:0\" cx=\"1260.94\" cy=\"1185.48\" r=\"2\"/>\n<circle clip-path=\"url(#clip562)\" style=\"fill:#0000ff; stroke:none; fill-opacity:0\" cx=\"1476.87\" cy=\"1185.48\" r=\"2\"/>\n<circle clip-path=\"url(#clip562)\" style=\"fill:#0000ff; stroke:none; fill-opacity:0\" cx=\"1692.81\" cy=\"1276\" r=\"2\"/>\n<circle clip-path=\"url(#clip562)\" style=\"fill:#0000ff; stroke:none; fill-opacity:0\" cx=\"1908.75\" cy=\"1389.14\" r=\"2\"/>\n<circle clip-path=\"url(#clip562)\" style=\"fill:#0000ff; stroke:none; fill-opacity:0\" cx=\"2124.68\" cy=\"1411.77\" r=\"2\"/>\n<path clip-path=\"url(#clip560)\" d=\"\nM1938.15 250.738 L2279.97 250.738 L2279.97 95.2176 L1938.15 95.2176  Z\n  \" fill=\"#ffffff\" fill-rule=\"evenodd\" fill-opacity=\"1\"/>\n<polyline clip-path=\"url(#clip560)\" style=\"stroke:#000000; stroke-linecap:round; stroke-linejoin:round; stroke-width:4; stroke-opacity:1; fill:none\" points=\"\n  1938.15,250.738 2279.97,250.738 2279.97,95.2176 1938.15,95.2176 1938.15,250.738 \n  \"/>\n<path clip-path=\"url(#clip560)\" d=\"\nM2107.99 167.794 L1962.42 167.794 L1962.42 126.322 L2107.99 126.322 L2107.99 167.794  Z\n  \" fill=\"#ff0000\" fill-rule=\"evenodd\" fill-opacity=\"0.5\"/>\n<polyline clip-path=\"url(#clip560)\" style=\"stroke:#000000; stroke-linecap:round; stroke-linejoin:round; stroke-width:4; stroke-opacity:1; fill:none\" points=\"\n  2107.99,167.794 1962.42,167.794 1962.42,126.322 2107.99,126.322 2107.99,167.794 \n  \"/>\n<path clip-path=\"url(#clip560)\" d=\"M2136.54 160.449 L2136.54 174.199 L2132.25 174.199 L2132.25 138.412 L2136.54 138.412 L2136.54 142.347 Q2137.88 140.032 2139.92 138.921 Q2141.98 137.787 2144.82 137.787 Q2149.55 137.787 2152.48 141.537 Q2155.45 145.287 2155.45 151.398 Q2155.45 157.509 2152.48 161.259 Q2149.55 165.009 2144.82 165.009 Q2141.98 165.009 2139.92 163.898 Q2137.88 162.763 2136.54 160.449 M2151.03 151.398 Q2151.03 146.699 2149.08 144.037 Q2147.16 141.352 2143.78 141.352 Q2140.4 141.352 2138.46 144.037 Q2136.54 146.699 2136.54 151.398 Q2136.54 156.097 2138.46 158.782 Q2140.4 161.444 2143.78 161.444 Q2147.16 161.444 2149.08 158.782 Q2151.03 156.097 2151.03 151.398 Z\" fill=\"#000000\" fill-rule=\"evenodd\" fill-opacity=\"1\" /><path clip-path=\"url(#clip560)\" d=\"M2177.53 142.393 Q2176.81 141.977 2175.96 141.791 Q2175.12 141.583 2174.11 141.583 Q2170.49 141.583 2168.55 143.944 Q2166.63 146.282 2166.63 150.68 L2166.63 164.338 L2162.35 164.338 L2162.35 138.412 L2166.63 138.412 L2166.63 142.44 Q2167.97 140.078 2170.12 138.944 Q2172.28 137.787 2175.36 137.787 Q2175.8 137.787 2176.33 137.856 Q2176.86 137.903 2177.51 138.018 L2177.53 142.393 Z\" fill=\"#000000\" fill-rule=\"evenodd\" fill-opacity=\"1\" /><path clip-path=\"url(#clip560)\" d=\"M2203.13 150.31 L2203.13 152.393 L2183.55 152.393 Q2183.83 156.791 2186.19 159.106 Q2188.57 161.398 2192.81 161.398 Q2195.26 161.398 2197.55 160.796 Q2199.87 160.194 2202.14 158.99 L2202.14 163.018 Q2199.85 163.99 2197.44 164.5 Q2195.03 165.009 2192.55 165.009 Q2186.35 165.009 2182.72 161.398 Q2179.11 157.787 2179.11 151.629 Q2179.11 145.264 2182.53 141.537 Q2185.98 137.787 2191.81 137.787 Q2197.04 137.787 2200.08 141.166 Q2203.13 144.523 2203.13 150.31 M2198.87 149.06 Q2198.83 145.565 2196.91 143.481 Q2195.01 141.398 2191.86 141.398 Q2188.29 141.398 2186.14 143.412 Q2184.01 145.426 2183.69 149.083 L2198.87 149.06 Z\" fill=\"#000000\" fill-rule=\"evenodd\" fill-opacity=\"1\" /><path clip-path=\"url(#clip560)\" d=\"M2227.18 142.347 L2227.18 128.319 L2231.44 128.319 L2231.44 164.338 L2227.18 164.338 L2227.18 160.449 Q2225.84 162.763 2223.78 163.898 Q2221.74 165.009 2218.87 165.009 Q2214.17 165.009 2211.21 161.259 Q2208.27 157.509 2208.27 151.398 Q2208.27 145.287 2211.21 141.537 Q2214.17 137.787 2218.87 137.787 Q2221.74 137.787 2223.78 138.921 Q2225.84 140.032 2227.18 142.347 M2212.67 151.398 Q2212.67 156.097 2214.59 158.782 Q2216.54 161.444 2219.92 161.444 Q2223.29 161.444 2225.24 158.782 Q2227.18 156.097 2227.18 151.398 Q2227.18 146.699 2225.24 144.037 Q2223.29 141.352 2219.92 141.352 Q2216.54 141.352 2214.59 144.037 Q2212.67 146.699 2212.67 151.398 Z\" fill=\"#000000\" fill-rule=\"evenodd\" fill-opacity=\"1\" /><path clip-path=\"url(#clip560)\" d=\"\nM2107.99 219.634 L1962.42 219.634 L1962.42 178.162 L2107.99 178.162 L2107.99 219.634  Z\n  \" fill=\"#0000ff\" fill-rule=\"evenodd\" fill-opacity=\"0.5\"/>\n<polyline clip-path=\"url(#clip560)\" style=\"stroke:#000000; stroke-linecap:round; stroke-linejoin:round; stroke-width:4; stroke-opacity:1; fill:none\" points=\"\n  2107.99,219.634 1962.42,219.634 1962.42,178.162 2107.99,178.162 2107.99,219.634 \n  \"/>\n<path clip-path=\"url(#clip560)\" d=\"M2139.66 182.891 L2139.66 190.252 L2148.43 190.252 L2148.43 193.562 L2139.66 193.562 L2139.66 207.636 Q2139.66 210.807 2140.52 211.71 Q2141.4 212.613 2144.06 212.613 L2148.43 212.613 L2148.43 216.178 L2144.06 216.178 Q2139.13 216.178 2137.25 214.349 Q2135.38 212.497 2135.38 207.636 L2135.38 193.562 L2132.25 193.562 L2132.25 190.252 L2135.38 190.252 L2135.38 182.891 L2139.66 182.891 Z\" fill=\"#000000\" fill-rule=\"evenodd\" fill-opacity=\"1\" /><path clip-path=\"url(#clip560)\" d=\"M2176.21 202.15 L2176.21 204.233 L2156.63 204.233 Q2156.91 208.631 2159.27 210.946 Q2161.65 213.238 2165.89 213.238 Q2168.34 213.238 2170.63 212.636 Q2172.95 212.034 2175.22 210.83 L2175.22 214.858 Q2172.92 215.83 2170.52 216.34 Q2168.11 216.849 2165.63 216.849 Q2159.43 216.849 2155.8 213.238 Q2152.18 209.627 2152.18 203.469 Q2152.18 197.104 2155.61 193.377 Q2159.06 189.627 2164.89 189.627 Q2170.12 189.627 2173.16 193.006 Q2176.21 196.363 2176.21 202.15 M2171.95 200.9 Q2171.91 197.405 2169.98 195.321 Q2168.09 193.238 2164.94 193.238 Q2161.37 193.238 2159.22 195.252 Q2157.09 197.266 2156.77 200.923 L2171.95 200.9 Z\" fill=\"#000000\" fill-rule=\"evenodd\" fill-opacity=\"1\" /><path clip-path=\"url(#clip560)\" d=\"M2199.73 191.016 L2199.73 195.043 Q2197.92 194.117 2195.98 193.655 Q2194.04 193.192 2191.95 193.192 Q2188.78 193.192 2187.18 194.164 Q2185.61 195.136 2185.61 197.08 Q2185.61 198.562 2186.74 199.418 Q2187.88 200.252 2191.3 201.016 L2192.76 201.34 Q2197.3 202.312 2199.2 204.094 Q2201.12 205.854 2201.12 209.025 Q2201.12 212.636 2198.25 214.742 Q2195.4 216.849 2190.4 216.849 Q2188.32 216.849 2186.05 216.432 Q2183.8 216.039 2181.3 215.228 L2181.3 210.83 Q2183.67 212.057 2185.96 212.682 Q2188.25 213.284 2190.49 213.284 Q2193.5 213.284 2195.12 212.266 Q2196.74 211.224 2196.74 209.349 Q2196.74 207.613 2195.56 206.687 Q2194.41 205.761 2190.45 204.904 L2188.97 204.557 Q2185.01 203.724 2183.25 202.011 Q2181.49 200.275 2181.49 197.266 Q2181.49 193.608 2184.08 191.618 Q2186.67 189.627 2191.44 189.627 Q2193.8 189.627 2195.89 189.974 Q2197.97 190.321 2199.73 191.016 Z\" fill=\"#000000\" fill-rule=\"evenodd\" fill-opacity=\"1\" /><path clip-path=\"url(#clip560)\" d=\"M2212.11 182.891 L2212.11 190.252 L2220.89 190.252 L2220.89 193.562 L2212.11 193.562 L2212.11 207.636 Q2212.11 210.807 2212.97 211.71 Q2213.85 212.613 2216.51 212.613 L2220.89 212.613 L2220.89 216.178 L2216.51 216.178 Q2211.58 216.178 2209.71 214.349 Q2207.83 212.497 2207.83 207.636 L2207.83 193.562 L2204.71 193.562 L2204.71 190.252 L2207.83 190.252 L2207.83 182.891 L2212.11 182.891 Z\" fill=\"#000000\" fill-rule=\"evenodd\" fill-opacity=\"1\" /></svg>\n"
     },
     "metadata": {},
     "output_type": "display_data"
    }
   ],
   "source": [
    "ORTHReg = ORTH_model(train_valid, test);\n",
    "\n",
    "# write_json the model\n",
    "IAI.write_json(\"ORTHReg.json\", ORTHReg)\n",
    "\n",
    "# save the predictions\n",
    "ORTH_pred = IAI.predict(ORTHReg, get_features(test))\n",
    "CSV.write(\"ORTH_pred.csv\", DataFrame(pred = ORTH_pred));"
   ]
  },
  {
   "cell_type": "code",
   "execution_count": 25,
   "metadata": {},
   "outputs": [
    {
     "data": {
      "text/html": [
       "<div><div style = \"float: left;\"><span>1×4 DataFrame</span></div><div style = \"clear: both;\"></div></div><div class = \"data-frame\" style = \"overflow-x: scroll;\"><table class = \"data-frame\" style = \"margin-bottom: 6px;\"><thead><tr class = \"header\"><th class = \"rowNumber\" style = \"font-weight: bold; text-align: right;\">Row</th><th style = \"text-align: left;\">mae</th><th style = \"text-align: left;\">mse</th><th style = \"text-align: left;\">rmse</th><th style = \"text-align: left;\">osr2</th></tr><tr class = \"subheader headerLastRow\"><th class = \"rowNumber\" style = \"font-weight: bold; text-align: right;\"></th><th title = \"Float64\" style = \"text-align: left;\">Float64</th><th title = \"Float64\" style = \"text-align: left;\">Float64</th><th title = \"Float64\" style = \"text-align: left;\">Float64</th><th title = \"Float64\" style = \"text-align: left;\">Float64</th></tr></thead><tbody><tr><td class = \"rowNumber\" style = \"font-weight: bold; text-align: right;\">1</td><td style = \"text-align: right;\">4.37597</td><td style = \"text-align: right;\">81.4735</td><td style = \"text-align: right;\">9.02626</td><td style = \"text-align: right;\">0.338284</td></tr></tbody></table></div>"
      ],
      "text/latex": [
       "\\begin{tabular}{r|cccc}\n",
       "\t& mae & mse & rmse & osr2\\\\\n",
       "\t\\hline\n",
       "\t& Float64 & Float64 & Float64 & Float64\\\\\n",
       "\t\\hline\n",
       "\t1 & 4.37597 & 81.4735 & 9.02626 & 0.338284 \\\\\n",
       "\\end{tabular}\n"
      ],
      "text/plain": [
       "\u001b[1m1×4 DataFrame\n",
       "\u001b[1m Row │\u001b[1m mae     \u001b[1m mse     \u001b[1m rmse    \u001b[1m osr2\n",
       "     │\u001b[90m Float64 \u001b[90m Float64 \u001b[90m Float64 \u001b[90m Float64\n",
       "─────┼─────────────────────────────────────\n",
       "   1 │ 4.37597  81.4735  9.02626  0.338284"
      ]
     },
     "metadata": {},
     "output_type": "display_data"
    }
   ],
   "source": [
    "# transform and results ORTH_pred\n",
    "transform_and_results(ORTH_pred, get_target(test))"
   ]
  },
  {
   "cell_type": "markdown",
   "metadata": {},
   "source": [
    "Was taking such a long time to run...\n",
    "Let's try again"
   ]
  },
  {
   "cell_type": "markdown",
   "metadata": {},
   "source": [
    "## ORT-L (Optimal Regression Tree with Linear Regression on the leaves)"
   ]
  },
  {
   "cell_type": "code",
   "execution_count": 14,
   "metadata": {},
   "outputs": [
    {
     "data": {
      "text/plain": [
       "ORTL_model (generic function with 1 method)"
      ]
     },
     "execution_count": 14,
     "metadata": {},
     "output_type": "execute_result"
    }
   ],
   "source": [
    "function ORTL_model(train_valid, test)\n",
    "\n",
    "    # define the model  \n",
    "    model_octl = IAI.OptimalTreeRegressor(\n",
    "        random_seed = 1,\n",
    "        criterion = :mse,\n",
    "        max_depth = 4,\n",
    "        minbucket = 15,\n",
    "        regression_features = All(),\n",
    "    )\n",
    "\n",
    "    println(\"Training model...\")\n",
    "\n",
    "    # define the grid\n",
    "    grid_octl = IAI.GridSearch(\n",
    "        model_octl,\n",
    "        regression_lambda=[0.01, 0.05, 0.1]\n",
    "    )\n",
    "\n",
    "    println(\"Fitting model...\")\n",
    "\n",
    "    # fit the model with 5-fold cross validation\n",
    "    IAI.fit_cv!(grid_octl, get_features(train_valid), Array(get_target(train_valid)), validation_criterion = :mse, n_folds=5)\n",
    "\n",
    "    println(\"Predicting...\")\n",
    "\n",
    "    # get the best model\n",
    "    pred = IAI.predict(grid_octl, get_features(test))\n",
    "\n",
    "    println(\"Computing results...\")\n",
    "\n",
    "    # compute the results\n",
    "    #compute_results(pred, get_target(test))\n",
    "    transform_and_results(pred, get_target(test))\n",
    "\n",
    "    # check the prediction value\n",
    "    check_prediction_value(pred, get_target(test))\n",
    "\n",
    "    # return the best model\n",
    "    return IAI.get_learner(grid_octl)\n",
    "end"
   ]
  },
  {
   "cell_type": "code",
   "execution_count": 15,
   "metadata": {},
   "outputs": [
    {
     "name": "stdout",
     "output_type": "stream",
     "text": [
      "Training model...\n",
      "Fitting model...\n"
     ]
    },
    {
     "name": "stderr",
     "output_type": "stream",
     "text": [
      "┌ Warning: Numeric instability detected: objective value after iteration did not match the value that was expected so this change was rejected.\n",
      "│ \n",
      "│ Possible causes include:\n",
      "│ - using linear regression in the leaves with a small `minbucket`\n",
      "│ - using `:tweedie` criterion with a large number of samples\n",
      "│ \n",
      "│ If none of these apply, please let us know so we can investigate.\n",
      "└ @ nothing nothing:nothing\n"
     ]
    },
    {
     "name": "stdout",
     "output_type": "stream",
     "text": [
      "Predicting...\n",
      "Computing results...\n"
     ]
    },
    {
     "data": {
      "text/html": [
       "<div><div style = \"float: left;\"><span>1×4 DataFrame</span></div><div style = \"clear: both;\"></div></div><div class = \"data-frame\" style = \"overflow-x: scroll;\"><table class = \"data-frame\" style = \"margin-bottom: 6px;\"><thead><tr class = \"header\"><th class = \"rowNumber\" style = \"font-weight: bold; text-align: right;\">Row</th><th style = \"text-align: left;\">mae</th><th style = \"text-align: left;\">mse</th><th style = \"text-align: left;\">rmse</th><th style = \"text-align: left;\">osr2</th></tr><tr class = \"subheader headerLastRow\"><th class = \"rowNumber\" style = \"font-weight: bold; text-align: right;\"></th><th title = \"Float64\" style = \"text-align: left;\">Float64</th><th title = \"Float64\" style = \"text-align: left;\">Float64</th><th title = \"Float64\" style = \"text-align: left;\">Float64</th><th title = \"Float64\" style = \"text-align: left;\">Float64</th></tr></thead><tbody><tr><td class = \"rowNumber\" style = \"font-weight: bold; text-align: right;\">1</td><td style = \"text-align: right;\">0.647486</td><td style = \"text-align: right;\">0.69058</td><td style = \"text-align: right;\">0.831011</td><td style = \"text-align: right;\">0.511711</td></tr></tbody></table></div>"
      ],
      "text/latex": [
       "\\begin{tabular}{r|cccc}\n",
       "\t& mae & mse & rmse & osr2\\\\\n",
       "\t\\hline\n",
       "\t& Float64 & Float64 & Float64 & Float64\\\\\n",
       "\t\\hline\n",
       "\t1 & 0.647486 & 0.69058 & 0.831011 & 0.511711 \\\\\n",
       "\\end{tabular}\n"
      ],
      "text/plain": [
       "\u001b[1m1×4 DataFrame\n",
       "\u001b[1m Row │\u001b[1m mae      \u001b[1m mse     \u001b[1m rmse     \u001b[1m osr2\n",
       "     │\u001b[90m Float64  \u001b[90m Float64 \u001b[90m Float64  \u001b[90m Float64\n",
       "─────┼───────────────────────────────────────\n",
       "   1 │ 0.647486  0.69058  0.831011  0.511711"
      ]
     },
     "metadata": {},
     "output_type": "display_data"
    },
    {
     "data": {
      "image/svg+xml": "<?xml version=\"1.0\" encoding=\"utf-8\"?>\n<svg xmlns=\"http://www.w3.org/2000/svg\" xmlns:xlink=\"http://www.w3.org/1999/xlink\" width=\"600\" height=\"400\" viewBox=\"0 0 2400 1600\">\n<defs>\n  <clipPath id=\"clip600\">\n    <rect x=\"0\" y=\"0\" width=\"2400\" height=\"1600\"/>\n  </clipPath>\n</defs>\n<path clip-path=\"url(#clip600)\" d=\"\nM0 1600 L2400 1600 L2400 0 L0 0  Z\n  \" fill=\"#ffffff\" fill-rule=\"evenodd\" fill-opacity=\"1\"/>\n<defs>\n  <clipPath id=\"clip601\">\n    <rect x=\"480\" y=\"0\" width=\"1681\" height=\"1600\"/>\n  </clipPath>\n</defs>\n<path clip-path=\"url(#clip600)\" d=\"\nM169.121 1486.45 L2352.76 1486.45 L2352.76 47.2441 L169.121 47.2441  Z\n  \" fill=\"#ffffff\" fill-rule=\"evenodd\" fill-opacity=\"1\"/>\n<defs>\n  <clipPath id=\"clip602\">\n    <rect x=\"169\" y=\"47\" width=\"2185\" height=\"1440\"/>\n  </clipPath>\n</defs>\n<polyline clip-path=\"url(#clip602)\" style=\"stroke:#000000; stroke-linecap:round; stroke-linejoin:round; stroke-width:2; stroke-opacity:0.1; fill:none\" points=\"\n  548.349,1486.45 548.349,47.2441 \n  \"/>\n<polyline clip-path=\"url(#clip602)\" style=\"stroke:#000000; stroke-linecap:round; stroke-linejoin:round; stroke-width:2; stroke-opacity:0.1; fill:none\" points=\"\n  1066.6,1486.45 1066.6,47.2441 \n  \"/>\n<polyline clip-path=\"url(#clip602)\" style=\"stroke:#000000; stroke-linecap:round; stroke-linejoin:round; stroke-width:2; stroke-opacity:0.1; fill:none\" points=\"\n  1584.84,1486.45 1584.84,47.2441 \n  \"/>\n<polyline clip-path=\"url(#clip602)\" style=\"stroke:#000000; stroke-linecap:round; stroke-linejoin:round; stroke-width:2; stroke-opacity:0.1; fill:none\" points=\"\n  2103.09,1486.45 2103.09,47.2441 \n  \"/>\n<polyline clip-path=\"url(#clip600)\" style=\"stroke:#000000; stroke-linecap:round; stroke-linejoin:round; stroke-width:4; stroke-opacity:1; fill:none\" points=\"\n  169.121,1486.45 2352.76,1486.45 \n  \"/>\n<polyline clip-path=\"url(#clip600)\" style=\"stroke:#000000; stroke-linecap:round; stroke-linejoin:round; stroke-width:4; stroke-opacity:1; fill:none\" points=\"\n  548.349,1486.45 548.349,1467.55 \n  \"/>\n<polyline clip-path=\"url(#clip600)\" style=\"stroke:#000000; stroke-linecap:round; stroke-linejoin:round; stroke-width:4; stroke-opacity:1; fill:none\" points=\"\n  1066.6,1486.45 1066.6,1467.55 \n  \"/>\n<polyline clip-path=\"url(#clip600)\" style=\"stroke:#000000; stroke-linecap:round; stroke-linejoin:round; stroke-width:4; stroke-opacity:1; fill:none\" points=\"\n  1584.84,1486.45 1584.84,1467.55 \n  \"/>\n<polyline clip-path=\"url(#clip600)\" style=\"stroke:#000000; stroke-linecap:round; stroke-linejoin:round; stroke-width:4; stroke-opacity:1; fill:none\" points=\"\n  2103.09,1486.45 2103.09,1467.55 \n  \"/>\n<path clip-path=\"url(#clip600)\" d=\"M548.349 1517.37 Q544.738 1517.37 542.909 1520.93 Q541.103 1524.47 541.103 1531.6 Q541.103 1538.71 542.909 1542.27 Q544.738 1545.82 548.349 1545.82 Q551.983 1545.82 553.788 1542.27 Q555.617 1538.71 555.617 1531.6 Q555.617 1524.47 553.788 1520.93 Q551.983 1517.37 548.349 1517.37 M548.349 1513.66 Q554.159 1513.66 557.214 1518.27 Q560.293 1522.85 560.293 1531.6 Q560.293 1540.33 557.214 1544.94 Q554.159 1549.52 548.349 1549.52 Q542.539 1549.52 539.46 1544.94 Q536.404 1540.33 536.404 1531.6 Q536.404 1522.85 539.46 1518.27 Q542.539 1513.66 548.349 1513.66 Z\" fill=\"#000000\" fill-rule=\"evenodd\" fill-opacity=\"1\" /><path clip-path=\"url(#clip600)\" d=\"M1061.25 1544.91 L1077.57 1544.91 L1077.57 1548.85 L1055.62 1548.85 L1055.62 1544.91 Q1058.29 1542.16 1062.87 1537.53 Q1067.48 1532.88 1068.66 1531.53 Q1070.9 1529.01 1071.78 1527.27 Q1072.68 1525.51 1072.68 1523.82 Q1072.68 1521.07 1070.74 1519.33 Q1068.82 1517.6 1065.72 1517.6 Q1063.52 1517.6 1061.06 1518.36 Q1058.63 1519.13 1055.86 1520.68 L1055.86 1515.95 Q1058.68 1514.82 1061.13 1514.24 Q1063.59 1513.66 1065.62 1513.66 Q1070.99 1513.66 1074.19 1516.35 Q1077.38 1519.03 1077.38 1523.52 Q1077.38 1525.65 1076.57 1527.57 Q1075.79 1529.47 1073.68 1532.07 Q1073.1 1532.74 1070 1535.95 Q1066.9 1539.15 1061.25 1544.91 Z\" fill=\"#000000\" fill-rule=\"evenodd\" fill-opacity=\"1\" /><path clip-path=\"url(#clip600)\" d=\"M1587.85 1518.36 L1576.05 1536.81 L1587.85 1536.81 L1587.85 1518.36 M1586.63 1514.29 L1592.51 1514.29 L1592.51 1536.81 L1597.44 1536.81 L1597.44 1540.7 L1592.51 1540.7 L1592.51 1548.85 L1587.85 1548.85 L1587.85 1540.7 L1572.25 1540.7 L1572.25 1536.19 L1586.63 1514.29 Z\" fill=\"#000000\" fill-rule=\"evenodd\" fill-opacity=\"1\" /><path clip-path=\"url(#clip600)\" d=\"M2103.5 1529.7 Q2100.35 1529.7 2098.5 1531.86 Q2096.67 1534.01 2096.67 1537.76 Q2096.67 1541.49 2098.5 1543.66 Q2100.35 1545.82 2103.5 1545.82 Q2106.64 1545.82 2108.47 1543.66 Q2110.32 1541.49 2110.32 1537.76 Q2110.32 1534.01 2108.47 1531.86 Q2106.64 1529.7 2103.5 1529.7 M2112.78 1515.05 L2112.78 1519.31 Q2111.02 1518.48 2109.21 1518.04 Q2107.43 1517.6 2105.67 1517.6 Q2101.04 1517.6 2098.59 1520.72 Q2096.16 1523.85 2095.81 1530.17 Q2097.18 1528.15 2099.24 1527.09 Q2101.3 1526 2103.77 1526 Q2108.98 1526 2111.99 1529.17 Q2115.02 1532.32 2115.02 1537.76 Q2115.02 1543.08 2111.87 1546.3 Q2108.73 1549.52 2103.5 1549.52 Q2097.5 1549.52 2094.33 1544.94 Q2091.16 1540.33 2091.16 1531.6 Q2091.16 1523.41 2095.05 1518.55 Q2098.94 1513.66 2105.49 1513.66 Q2107.25 1513.66 2109.03 1514.01 Q2110.83 1514.36 2112.78 1515.05 Z\" fill=\"#000000\" fill-rule=\"evenodd\" fill-opacity=\"1\" /><polyline clip-path=\"url(#clip602)\" style=\"stroke:#000000; stroke-linecap:round; stroke-linejoin:round; stroke-width:2; stroke-opacity:0.1; fill:none\" points=\"\n  169.121,1445.72 2352.76,1445.72 \n  \"/>\n<polyline clip-path=\"url(#clip602)\" style=\"stroke:#000000; stroke-linecap:round; stroke-linejoin:round; stroke-width:2; stroke-opacity:0.1; fill:none\" points=\"\n  169.121,1162.85 2352.76,1162.85 \n  \"/>\n<polyline clip-path=\"url(#clip602)\" style=\"stroke:#000000; stroke-linecap:round; stroke-linejoin:round; stroke-width:2; stroke-opacity:0.1; fill:none\" points=\"\n  169.121,879.991 2352.76,879.991 \n  \"/>\n<polyline clip-path=\"url(#clip602)\" style=\"stroke:#000000; stroke-linecap:round; stroke-linejoin:round; stroke-width:2; stroke-opacity:0.1; fill:none\" points=\"\n  169.121,597.129 2352.76,597.129 \n  \"/>\n<polyline clip-path=\"url(#clip602)\" style=\"stroke:#000000; stroke-linecap:round; stroke-linejoin:round; stroke-width:2; stroke-opacity:0.1; fill:none\" points=\"\n  169.121,314.266 2352.76,314.266 \n  \"/>\n<polyline clip-path=\"url(#clip600)\" style=\"stroke:#000000; stroke-linecap:round; stroke-linejoin:round; stroke-width:4; stroke-opacity:1; fill:none\" points=\"\n  169.121,1486.45 169.121,47.2441 \n  \"/>\n<polyline clip-path=\"url(#clip600)\" style=\"stroke:#000000; stroke-linecap:round; stroke-linejoin:round; stroke-width:4; stroke-opacity:1; fill:none\" points=\"\n  169.121,1445.72 188.019,1445.72 \n  \"/>\n<polyline clip-path=\"url(#clip600)\" style=\"stroke:#000000; stroke-linecap:round; stroke-linejoin:round; stroke-width:4; stroke-opacity:1; fill:none\" points=\"\n  169.121,1162.85 188.019,1162.85 \n  \"/>\n<polyline clip-path=\"url(#clip600)\" style=\"stroke:#000000; stroke-linecap:round; stroke-linejoin:round; stroke-width:4; stroke-opacity:1; fill:none\" points=\"\n  169.121,879.991 188.019,879.991 \n  \"/>\n<polyline clip-path=\"url(#clip600)\" style=\"stroke:#000000; stroke-linecap:round; stroke-linejoin:round; stroke-width:4; stroke-opacity:1; fill:none\" points=\"\n  169.121,597.129 188.019,597.129 \n  \"/>\n<polyline clip-path=\"url(#clip600)\" style=\"stroke:#000000; stroke-linecap:round; stroke-linejoin:round; stroke-width:4; stroke-opacity:1; fill:none\" points=\"\n  169.121,314.266 188.019,314.266 \n  \"/>\n<path clip-path=\"url(#clip600)\" d=\"M121.177 1431.51 Q117.566 1431.51 115.737 1435.08 Q113.932 1438.62 113.932 1445.75 Q113.932 1452.86 115.737 1456.42 Q117.566 1459.96 121.177 1459.96 Q124.811 1459.96 126.617 1456.42 Q128.445 1452.86 128.445 1445.75 Q128.445 1438.62 126.617 1435.08 Q124.811 1431.51 121.177 1431.51 M121.177 1427.81 Q126.987 1427.81 130.043 1432.42 Q133.121 1437 133.121 1445.75 Q133.121 1454.48 130.043 1459.08 Q126.987 1463.67 121.177 1463.67 Q115.367 1463.67 112.288 1459.08 Q109.233 1454.48 109.233 1445.75 Q109.233 1437 112.288 1432.42 Q115.367 1427.81 121.177 1427.81 Z\" fill=\"#000000\" fill-rule=\"evenodd\" fill-opacity=\"1\" /><path clip-path=\"url(#clip600)\" d=\"M86.0382 1176.2 L102.358 1176.2 L102.358 1180.13 L80.4133 1180.13 L80.4133 1176.2 Q83.0753 1173.44 87.6586 1168.81 Q92.2651 1164.16 93.4456 1162.82 Q95.691 1160.3 96.5706 1158.56 Q97.4734 1156.8 97.4734 1155.11 Q97.4734 1152.36 95.5289 1150.62 Q93.6076 1148.88 90.5058 1148.88 Q88.3067 1148.88 85.8531 1149.65 Q83.4225 1150.41 80.6447 1151.96 L80.6447 1147.24 Q83.4688 1146.11 85.9225 1145.53 Q88.3762 1144.95 90.4132 1144.95 Q95.7836 1144.95 98.978 1147.63 Q102.172 1150.32 102.172 1154.81 Q102.172 1156.94 101.362 1158.86 Q100.575 1160.76 98.4687 1163.35 Q97.89 1164.02 94.7882 1167.24 Q91.6864 1170.43 86.0382 1176.2 Z\" fill=\"#000000\" fill-rule=\"evenodd\" fill-opacity=\"1\" /><path clip-path=\"url(#clip600)\" d=\"M112.219 1145.57 L130.575 1145.57 L130.575 1149.51 L116.501 1149.51 L116.501 1157.98 Q117.52 1157.63 118.538 1157.47 Q119.557 1157.29 120.575 1157.29 Q126.362 1157.29 129.742 1160.46 Q133.121 1163.63 133.121 1169.05 Q133.121 1174.62 129.649 1177.73 Q126.177 1180.8 119.857 1180.8 Q117.682 1180.8 115.413 1180.43 Q113.168 1180.06 110.76 1179.32 L110.76 1174.62 Q112.844 1175.76 115.066 1176.31 Q117.288 1176.87 119.765 1176.87 Q123.77 1176.87 126.107 1174.76 Q128.445 1172.66 128.445 1169.05 Q128.445 1165.43 126.107 1163.33 Q123.77 1161.22 119.765 1161.22 Q117.89 1161.22 116.015 1161.64 Q114.163 1162.05 112.219 1162.93 L112.219 1145.57 Z\" fill=\"#000000\" fill-rule=\"evenodd\" fill-opacity=\"1\" /><path clip-path=\"url(#clip600)\" d=\"M81.0614 862.711 L99.4178 862.711 L99.4178 866.646 L85.3438 866.646 L85.3438 875.118 Q86.3623 874.771 87.3808 874.609 Q88.3993 874.424 89.4178 874.424 Q95.2049 874.424 98.5845 877.595 Q101.964 880.766 101.964 886.183 Q101.964 891.762 98.4919 894.864 Q95.0197 897.942 88.7003 897.942 Q86.5243 897.942 84.2558 897.572 Q82.0105 897.201 79.6031 896.461 L79.6031 891.762 Q81.6864 892.896 83.9086 893.452 Q86.1308 894.007 88.6077 894.007 Q92.6123 894.007 94.9502 891.901 Q97.2882 889.794 97.2882 886.183 Q97.2882 882.572 94.9502 880.465 Q92.6123 878.359 88.6077 878.359 Q86.7327 878.359 84.8577 878.776 Q83.0058 879.192 81.0614 880.072 L81.0614 862.711 Z\" fill=\"#000000\" fill-rule=\"evenodd\" fill-opacity=\"1\" /><path clip-path=\"url(#clip600)\" d=\"M121.177 865.79 Q117.566 865.79 115.737 869.354 Q113.932 872.896 113.932 880.026 Q113.932 887.132 115.737 890.697 Q117.566 894.239 121.177 894.239 Q124.811 894.239 126.617 890.697 Q128.445 887.132 128.445 880.026 Q128.445 872.896 126.617 869.354 Q124.811 865.79 121.177 865.79 M121.177 862.086 Q126.987 862.086 130.043 866.692 Q133.121 871.276 133.121 880.026 Q133.121 888.752 130.043 893.359 Q126.987 897.942 121.177 897.942 Q115.367 897.942 112.288 893.359 Q109.233 888.752 109.233 880.026 Q109.233 871.276 112.288 866.692 Q115.367 862.086 121.177 862.086 Z\" fill=\"#000000\" fill-rule=\"evenodd\" fill-opacity=\"1\" /><path clip-path=\"url(#clip600)\" d=\"M80.8299 579.849 L103.052 579.849 L103.052 581.839 L90.5058 614.409 L85.6216 614.409 L97.4271 583.784 L80.8299 583.784 L80.8299 579.849 Z\" fill=\"#000000\" fill-rule=\"evenodd\" fill-opacity=\"1\" /><path clip-path=\"url(#clip600)\" d=\"M112.219 579.849 L130.575 579.849 L130.575 583.784 L116.501 583.784 L116.501 592.256 Q117.52 591.909 118.538 591.747 Q119.557 591.561 120.575 591.561 Q126.362 591.561 129.742 594.733 Q133.121 597.904 133.121 603.321 Q133.121 608.899 129.649 612.001 Q126.177 615.08 119.857 615.08 Q117.682 615.08 115.413 614.709 Q113.168 614.339 110.76 613.598 L110.76 608.899 Q112.844 610.034 115.066 610.589 Q117.288 611.145 119.765 611.145 Q123.77 611.145 126.107 609.038 Q128.445 606.932 128.445 603.321 Q128.445 599.71 126.107 597.603 Q123.77 595.497 119.765 595.497 Q117.89 595.497 116.015 595.913 Q114.163 596.33 112.219 597.21 L112.219 579.849 Z\" fill=\"#000000\" fill-rule=\"evenodd\" fill-opacity=\"1\" /><path clip-path=\"url(#clip600)\" d=\"M51.6634 327.611 L59.3023 327.611 L59.3023 301.245 L50.9921 302.912 L50.9921 298.653 L59.256 296.986 L63.9319 296.986 L63.9319 327.611 L71.5707 327.611 L71.5707 331.546 L51.6634 331.546 L51.6634 327.611 Z\" fill=\"#000000\" fill-rule=\"evenodd\" fill-opacity=\"1\" /><path clip-path=\"url(#clip600)\" d=\"M91.0151 300.065 Q87.404 300.065 85.5753 303.63 Q83.7697 307.171 83.7697 314.301 Q83.7697 321.407 85.5753 324.972 Q87.404 328.514 91.0151 328.514 Q94.6493 328.514 96.4548 324.972 Q98.2835 321.407 98.2835 314.301 Q98.2835 307.171 96.4548 303.63 Q94.6493 300.065 91.0151 300.065 M91.0151 296.361 Q96.8252 296.361 99.8808 300.968 Q102.959 305.551 102.959 314.301 Q102.959 323.028 99.8808 327.634 Q96.8252 332.217 91.0151 332.217 Q85.2049 332.217 82.1262 327.634 Q79.0707 323.028 79.0707 314.301 Q79.0707 305.551 82.1262 300.968 Q85.2049 296.361 91.0151 296.361 Z\" fill=\"#000000\" fill-rule=\"evenodd\" fill-opacity=\"1\" /><path clip-path=\"url(#clip600)\" d=\"M121.177 300.065 Q117.566 300.065 115.737 303.63 Q113.932 307.171 113.932 314.301 Q113.932 321.407 115.737 324.972 Q117.566 328.514 121.177 328.514 Q124.811 328.514 126.617 324.972 Q128.445 321.407 128.445 314.301 Q128.445 307.171 126.617 303.63 Q124.811 300.065 121.177 300.065 M121.177 296.361 Q126.987 296.361 130.043 300.968 Q133.121 305.551 133.121 314.301 Q133.121 323.028 130.043 327.634 Q126.987 332.217 121.177 332.217 Q115.367 332.217 112.288 327.634 Q109.233 323.028 109.233 314.301 Q109.233 305.551 112.288 300.968 Q115.367 296.361 121.177 296.361 Z\" fill=\"#000000\" fill-rule=\"evenodd\" fill-opacity=\"1\" /><path clip-path=\"url(#clip602)\" d=\"\nM289.225 1400.46 L289.225 1445.72 L418.787 1445.72 L418.787 1400.46 L289.225 1400.46 L289.225 1400.46  Z\n  \" fill=\"#ff0000\" fill-rule=\"evenodd\" fill-opacity=\"0.5\"/>\n<polyline clip-path=\"url(#clip602)\" style=\"stroke:#000000; stroke-linecap:round; stroke-linejoin:round; stroke-width:4; stroke-opacity:0.5; fill:none\" points=\"\n  289.225,1400.46 289.225,1445.72 418.787,1445.72 418.787,1400.46 289.225,1400.46 \n  \"/>\n<path clip-path=\"url(#clip602)\" d=\"\nM418.787 1242.05 L418.787 1445.72 L548.349 1445.72 L548.349 1242.05 L418.787 1242.05 L418.787 1242.05  Z\n  \" fill=\"#ff0000\" fill-rule=\"evenodd\" fill-opacity=\"0.5\"/>\n<polyline clip-path=\"url(#clip602)\" style=\"stroke:#000000; stroke-linecap:round; stroke-linejoin:round; stroke-width:4; stroke-opacity:0.5; fill:none\" points=\"\n  418.787,1242.05 418.787,1445.72 548.349,1445.72 548.349,1242.05 418.787,1242.05 \n  \"/>\n<path clip-path=\"url(#clip602)\" d=\"\nM548.349 868.676 L548.349 1445.72 L677.911 1445.72 L677.911 868.676 L548.349 868.676 L548.349 868.676  Z\n  \" fill=\"#ff0000\" fill-rule=\"evenodd\" fill-opacity=\"0.5\"/>\n<polyline clip-path=\"url(#clip602)\" style=\"stroke:#000000; stroke-linecap:round; stroke-linejoin:round; stroke-width:4; stroke-opacity:0.5; fill:none\" points=\"\n  548.349,868.676 548.349,1445.72 677.911,1445.72 677.911,868.676 548.349,868.676 \n  \"/>\n<path clip-path=\"url(#clip602)\" d=\"\nM677.911 766.846 L677.911 1445.72 L807.472 1445.72 L807.472 766.846 L677.911 766.846 L677.911 766.846  Z\n  \" fill=\"#ff0000\" fill-rule=\"evenodd\" fill-opacity=\"0.5\"/>\n<polyline clip-path=\"url(#clip602)\" style=\"stroke:#000000; stroke-linecap:round; stroke-linejoin:round; stroke-width:4; stroke-opacity:0.5; fill:none\" points=\"\n  677.911,766.846 677.911,1445.72 807.472,1445.72 807.472,766.846 677.911,766.846 \n  \"/>\n<path clip-path=\"url(#clip602)\" d=\"\nM807.472 947.878 L807.472 1445.72 L937.034 1445.72 L937.034 947.878 L807.472 947.878 L807.472 947.878  Z\n  \" fill=\"#ff0000\" fill-rule=\"evenodd\" fill-opacity=\"0.5\"/>\n<polyline clip-path=\"url(#clip602)\" style=\"stroke:#000000; stroke-linecap:round; stroke-linejoin:round; stroke-width:4; stroke-opacity:0.5; fill:none\" points=\"\n  807.472,947.878 807.472,1445.72 937.034,1445.72 937.034,947.878 807.472,947.878 \n  \"/>\n<path clip-path=\"url(#clip602)\" d=\"\nM937.034 834.733 L937.034 1445.72 L1066.6 1445.72 L1066.6 834.733 L937.034 834.733 L937.034 834.733  Z\n  \" fill=\"#ff0000\" fill-rule=\"evenodd\" fill-opacity=\"0.5\"/>\n<polyline clip-path=\"url(#clip602)\" style=\"stroke:#000000; stroke-linecap:round; stroke-linejoin:round; stroke-width:4; stroke-opacity:0.5; fill:none\" points=\"\n  937.034,834.733 937.034,1445.72 1066.6,1445.72 1066.6,834.733 937.034,834.733 \n  \"/>\n<path clip-path=\"url(#clip602)\" d=\"\nM1066.6 1196.8 L1066.6 1445.72 L1196.16 1445.72 L1196.16 1196.8 L1066.6 1196.8 L1066.6 1196.8  Z\n  \" fill=\"#ff0000\" fill-rule=\"evenodd\" fill-opacity=\"0.5\"/>\n<polyline clip-path=\"url(#clip602)\" style=\"stroke:#000000; stroke-linecap:round; stroke-linejoin:round; stroke-width:4; stroke-opacity:0.5; fill:none\" points=\"\n  1066.6,1196.8 1066.6,1445.72 1196.16,1445.72 1196.16,1196.8 1066.6,1196.8 \n  \"/>\n<path clip-path=\"url(#clip602)\" d=\"\nM1196.16 1332.57 L1196.16 1445.72 L1325.72 1445.72 L1325.72 1332.57 L1196.16 1332.57 L1196.16 1332.57  Z\n  \" fill=\"#ff0000\" fill-rule=\"evenodd\" fill-opacity=\"0.5\"/>\n<polyline clip-path=\"url(#clip602)\" style=\"stroke:#000000; stroke-linecap:round; stroke-linejoin:round; stroke-width:4; stroke-opacity:0.5; fill:none\" points=\"\n  1196.16,1332.57 1196.16,1445.72 1325.72,1445.72 1325.72,1332.57 1196.16,1332.57 \n  \"/>\n<path clip-path=\"url(#clip602)\" d=\"\nM1325.72 1400.46 L1325.72 1445.72 L1455.28 1445.72 L1455.28 1400.46 L1325.72 1400.46 L1325.72 1400.46  Z\n  \" fill=\"#ff0000\" fill-rule=\"evenodd\" fill-opacity=\"0.5\"/>\n<polyline clip-path=\"url(#clip602)\" style=\"stroke:#000000; stroke-linecap:round; stroke-linejoin:round; stroke-width:4; stroke-opacity:0.5; fill:none\" points=\"\n  1325.72,1400.46 1325.72,1445.72 1455.28,1445.72 1455.28,1400.46 1325.72,1400.46 \n  \"/>\n<path clip-path=\"url(#clip602)\" d=\"\nM1455.28 1434.4 L1455.28 1445.72 L1584.84 1445.72 L1584.84 1434.4 L1455.28 1434.4 L1455.28 1434.4  Z\n  \" fill=\"#ff0000\" fill-rule=\"evenodd\" fill-opacity=\"0.5\"/>\n<polyline clip-path=\"url(#clip602)\" style=\"stroke:#000000; stroke-linecap:round; stroke-linejoin:round; stroke-width:4; stroke-opacity:0.5; fill:none\" points=\"\n  1455.28,1434.4 1455.28,1445.72 1584.84,1445.72 1584.84,1434.4 1455.28,1434.4 \n  \"/>\n<path clip-path=\"url(#clip602)\" d=\"\nM1584.84 1445.72 L1584.84 1445.72 L1714.4 1445.72 L1714.4 1445.72 L1584.84 1445.72 L1584.84 1445.72  Z\n  \" fill=\"#ff0000\" fill-rule=\"evenodd\" fill-opacity=\"0.5\"/>\n<polyline clip-path=\"url(#clip602)\" style=\"stroke:#000000; stroke-linecap:round; stroke-linejoin:round; stroke-width:4; stroke-opacity:0.5; fill:none\" points=\"\n  1584.84,1445.72 1584.84,1445.72 1714.4,1445.72 1584.84,1445.72 \n  \"/>\n<path clip-path=\"url(#clip602)\" d=\"\nM1714.4 1445.72 L1714.4 1445.72 L1843.97 1445.72 L1843.97 1445.72 L1714.4 1445.72 L1714.4 1445.72  Z\n  \" fill=\"#ff0000\" fill-rule=\"evenodd\" fill-opacity=\"0.5\"/>\n<polyline clip-path=\"url(#clip602)\" style=\"stroke:#000000; stroke-linecap:round; stroke-linejoin:round; stroke-width:4; stroke-opacity:0.5; fill:none\" points=\"\n  1714.4,1445.72 1714.4,1445.72 1843.97,1445.72 1714.4,1445.72 \n  \"/>\n<path clip-path=\"url(#clip602)\" d=\"\nM1843.97 1445.72 L1843.97 1445.72 L1973.53 1445.72 L1973.53 1445.72 L1843.97 1445.72 L1843.97 1445.72  Z\n  \" fill=\"#ff0000\" fill-rule=\"evenodd\" fill-opacity=\"0.5\"/>\n<polyline clip-path=\"url(#clip602)\" style=\"stroke:#000000; stroke-linecap:round; stroke-linejoin:round; stroke-width:4; stroke-opacity:0.5; fill:none\" points=\"\n  1843.97,1445.72 1843.97,1445.72 1973.53,1445.72 1843.97,1445.72 \n  \"/>\n<path clip-path=\"url(#clip602)\" d=\"\nM1973.53 1445.72 L1973.53 1445.72 L2103.09 1445.72 L2103.09 1445.72 L1973.53 1445.72 L1973.53 1445.72  Z\n  \" fill=\"#ff0000\" fill-rule=\"evenodd\" fill-opacity=\"0.5\"/>\n<polyline clip-path=\"url(#clip602)\" style=\"stroke:#000000; stroke-linecap:round; stroke-linejoin:round; stroke-width:4; stroke-opacity:0.5; fill:none\" points=\"\n  1973.53,1445.72 1973.53,1445.72 2103.09,1445.72 1973.53,1445.72 \n  \"/>\n<path clip-path=\"url(#clip602)\" d=\"\nM2103.09 1434.4 L2103.09 1445.72 L2232.65 1445.72 L2232.65 1434.4 L2103.09 1434.4 L2103.09 1434.4  Z\n  \" fill=\"#ff0000\" fill-rule=\"evenodd\" fill-opacity=\"0.5\"/>\n<polyline clip-path=\"url(#clip602)\" style=\"stroke:#000000; stroke-linecap:round; stroke-linejoin:round; stroke-width:4; stroke-opacity:0.5; fill:none\" points=\"\n  2103.09,1434.4 2103.09,1445.72 2232.65,1445.72 2232.65,1434.4 2103.09,1434.4 \n  \"/>\n<circle clip-path=\"url(#clip602)\" style=\"fill:#ff0000; stroke:none; fill-opacity:0\" cx=\"354.006\" cy=\"1400.46\" r=\"2\"/>\n<circle clip-path=\"url(#clip602)\" style=\"fill:#ff0000; stroke:none; fill-opacity:0\" cx=\"483.568\" cy=\"1242.05\" r=\"2\"/>\n<circle clip-path=\"url(#clip602)\" style=\"fill:#ff0000; stroke:none; fill-opacity:0\" cx=\"613.13\" cy=\"868.676\" r=\"2\"/>\n<circle clip-path=\"url(#clip602)\" style=\"fill:#ff0000; stroke:none; fill-opacity:0\" cx=\"742.691\" cy=\"766.846\" r=\"2\"/>\n<circle clip-path=\"url(#clip602)\" style=\"fill:#ff0000; stroke:none; fill-opacity:0\" cx=\"872.253\" cy=\"947.878\" r=\"2\"/>\n<circle clip-path=\"url(#clip602)\" style=\"fill:#ff0000; stroke:none; fill-opacity:0\" cx=\"1001.82\" cy=\"834.733\" r=\"2\"/>\n<circle clip-path=\"url(#clip602)\" style=\"fill:#ff0000; stroke:none; fill-opacity:0\" cx=\"1131.38\" cy=\"1196.8\" r=\"2\"/>\n<circle clip-path=\"url(#clip602)\" style=\"fill:#ff0000; stroke:none; fill-opacity:0\" cx=\"1260.94\" cy=\"1332.57\" r=\"2\"/>\n<circle clip-path=\"url(#clip602)\" style=\"fill:#ff0000; stroke:none; fill-opacity:0\" cx=\"1390.5\" cy=\"1400.46\" r=\"2\"/>\n<circle clip-path=\"url(#clip602)\" style=\"fill:#ff0000; stroke:none; fill-opacity:0\" cx=\"1520.06\" cy=\"1434.4\" r=\"2\"/>\n<circle clip-path=\"url(#clip602)\" style=\"fill:#ff0000; stroke:none; fill-opacity:0\" cx=\"1649.62\" cy=\"1445.72\" r=\"2\"/>\n<circle clip-path=\"url(#clip602)\" style=\"fill:#ff0000; stroke:none; fill-opacity:0\" cx=\"1779.19\" cy=\"1445.72\" r=\"2\"/>\n<circle clip-path=\"url(#clip602)\" style=\"fill:#ff0000; stroke:none; fill-opacity:0\" cx=\"1908.75\" cy=\"1445.72\" r=\"2\"/>\n<circle clip-path=\"url(#clip602)\" style=\"fill:#ff0000; stroke:none; fill-opacity:0\" cx=\"2038.31\" cy=\"1445.72\" r=\"2\"/>\n<circle clip-path=\"url(#clip602)\" style=\"fill:#ff0000; stroke:none; fill-opacity:0\" cx=\"2167.87\" cy=\"1434.4\" r=\"2\"/>\n<path clip-path=\"url(#clip602)\" d=\"\nM548.349 87.9763 L548.349 1445.72 L677.911 1445.72 L677.911 87.9763 L548.349 87.9763 L548.349 87.9763  Z\n  \" fill=\"#0000ff\" fill-rule=\"evenodd\" fill-opacity=\"0.5\"/>\n<polyline clip-path=\"url(#clip602)\" style=\"stroke:#000000; stroke-linecap:round; stroke-linejoin:round; stroke-width:4; stroke-opacity:0.5; fill:none\" points=\"\n  548.349,87.9763 548.349,1445.72 677.911,1445.72 677.911,87.9763 548.349,87.9763 \n  \"/>\n<path clip-path=\"url(#clip602)\" d=\"\nM677.911 1117.6 L677.911 1445.72 L807.472 1445.72 L807.472 1117.6 L677.911 1117.6 L677.911 1117.6  Z\n  \" fill=\"#0000ff\" fill-rule=\"evenodd\" fill-opacity=\"0.5\"/>\n<polyline clip-path=\"url(#clip602)\" style=\"stroke:#000000; stroke-linecap:round; stroke-linejoin:round; stroke-width:4; stroke-opacity:0.5; fill:none\" points=\"\n  677.911,1117.6 677.911,1445.72 807.472,1445.72 807.472,1117.6 677.911,1117.6 \n  \"/>\n<path clip-path=\"url(#clip602)\" d=\"\nM807.472 1196.8 L807.472 1445.72 L937.034 1445.72 L937.034 1196.8 L807.472 1196.8 L807.472 1196.8  Z\n  \" fill=\"#0000ff\" fill-rule=\"evenodd\" fill-opacity=\"0.5\"/>\n<polyline clip-path=\"url(#clip602)\" style=\"stroke:#000000; stroke-linecap:round; stroke-linejoin:round; stroke-width:4; stroke-opacity:0.5; fill:none\" points=\"\n  807.472,1196.8 807.472,1445.72 937.034,1445.72 937.034,1196.8 807.472,1196.8 \n  \"/>\n<path clip-path=\"url(#clip602)\" d=\"\nM937.034 1117.6 L937.034 1445.72 L1066.6 1445.72 L1066.6 1117.6 L937.034 1117.6 L937.034 1117.6  Z\n  \" fill=\"#0000ff\" fill-rule=\"evenodd\" fill-opacity=\"0.5\"/>\n<polyline clip-path=\"url(#clip602)\" style=\"stroke:#000000; stroke-linecap:round; stroke-linejoin:round; stroke-width:4; stroke-opacity:0.5; fill:none\" points=\"\n  937.034,1117.6 937.034,1445.72 1066.6,1445.72 1066.6,1117.6 937.034,1117.6 \n  \"/>\n<path clip-path=\"url(#clip602)\" d=\"\nM1066.6 1185.48 L1066.6 1445.72 L1196.16 1445.72 L1196.16 1185.48 L1066.6 1185.48 L1066.6 1185.48  Z\n  \" fill=\"#0000ff\" fill-rule=\"evenodd\" fill-opacity=\"0.5\"/>\n<polyline clip-path=\"url(#clip602)\" style=\"stroke:#000000; stroke-linecap:round; stroke-linejoin:round; stroke-width:4; stroke-opacity:0.5; fill:none\" points=\"\n  1066.6,1185.48 1066.6,1445.72 1196.16,1445.72 1196.16,1185.48 1066.6,1185.48 \n  \"/>\n<path clip-path=\"url(#clip602)\" d=\"\nM1196.16 1185.48 L1196.16 1445.72 L1325.72 1445.72 L1325.72 1185.48 L1196.16 1185.48 L1196.16 1185.48  Z\n  \" fill=\"#0000ff\" fill-rule=\"evenodd\" fill-opacity=\"0.5\"/>\n<polyline clip-path=\"url(#clip602)\" style=\"stroke:#000000; stroke-linecap:round; stroke-linejoin:round; stroke-width:4; stroke-opacity:0.5; fill:none\" points=\"\n  1196.16,1185.48 1196.16,1445.72 1325.72,1445.72 1325.72,1185.48 1196.16,1185.48 \n  \"/>\n<path clip-path=\"url(#clip602)\" d=\"\nM1325.72 1276 L1325.72 1445.72 L1455.28 1445.72 L1455.28 1276 L1325.72 1276 L1325.72 1276  Z\n  \" fill=\"#0000ff\" fill-rule=\"evenodd\" fill-opacity=\"0.5\"/>\n<polyline clip-path=\"url(#clip602)\" style=\"stroke:#000000; stroke-linecap:round; stroke-linejoin:round; stroke-width:4; stroke-opacity:0.5; fill:none\" points=\"\n  1325.72,1276 1325.72,1445.72 1455.28,1445.72 1455.28,1276 1325.72,1276 \n  \"/>\n<path clip-path=\"url(#clip602)\" d=\"\nM1455.28 1389.14 L1455.28 1445.72 L1584.84 1445.72 L1584.84 1389.14 L1455.28 1389.14 L1455.28 1389.14  Z\n  \" fill=\"#0000ff\" fill-rule=\"evenodd\" fill-opacity=\"0.5\"/>\n<polyline clip-path=\"url(#clip602)\" style=\"stroke:#000000; stroke-linecap:round; stroke-linejoin:round; stroke-width:4; stroke-opacity:0.5; fill:none\" points=\"\n  1455.28,1389.14 1455.28,1445.72 1584.84,1445.72 1584.84,1389.14 1455.28,1389.14 \n  \"/>\n<path clip-path=\"url(#clip602)\" d=\"\nM1584.84 1411.77 L1584.84 1445.72 L1714.4 1445.72 L1714.4 1411.77 L1584.84 1411.77 L1584.84 1411.77  Z\n  \" fill=\"#0000ff\" fill-rule=\"evenodd\" fill-opacity=\"0.5\"/>\n<polyline clip-path=\"url(#clip602)\" style=\"stroke:#000000; stroke-linecap:round; stroke-linejoin:round; stroke-width:4; stroke-opacity:0.5; fill:none\" points=\"\n  1584.84,1411.77 1584.84,1445.72 1714.4,1445.72 1714.4,1411.77 1584.84,1411.77 \n  \"/>\n<circle clip-path=\"url(#clip602)\" style=\"fill:#0000ff; stroke:none; fill-opacity:0\" cx=\"613.13\" cy=\"87.9763\" r=\"2\"/>\n<circle clip-path=\"url(#clip602)\" style=\"fill:#0000ff; stroke:none; fill-opacity:0\" cx=\"742.691\" cy=\"1117.6\" r=\"2\"/>\n<circle clip-path=\"url(#clip602)\" style=\"fill:#0000ff; stroke:none; fill-opacity:0\" cx=\"872.253\" cy=\"1196.8\" r=\"2\"/>\n<circle clip-path=\"url(#clip602)\" style=\"fill:#0000ff; stroke:none; fill-opacity:0\" cx=\"1001.82\" cy=\"1117.6\" r=\"2\"/>\n<circle clip-path=\"url(#clip602)\" style=\"fill:#0000ff; stroke:none; fill-opacity:0\" cx=\"1131.38\" cy=\"1185.48\" r=\"2\"/>\n<circle clip-path=\"url(#clip602)\" style=\"fill:#0000ff; stroke:none; fill-opacity:0\" cx=\"1260.94\" cy=\"1185.48\" r=\"2\"/>\n<circle clip-path=\"url(#clip602)\" style=\"fill:#0000ff; stroke:none; fill-opacity:0\" cx=\"1390.5\" cy=\"1276\" r=\"2\"/>\n<circle clip-path=\"url(#clip602)\" style=\"fill:#0000ff; stroke:none; fill-opacity:0\" cx=\"1520.06\" cy=\"1389.14\" r=\"2\"/>\n<circle clip-path=\"url(#clip602)\" style=\"fill:#0000ff; stroke:none; fill-opacity:0\" cx=\"1649.62\" cy=\"1411.77\" r=\"2\"/>\n<path clip-path=\"url(#clip600)\" d=\"\nM1938.15 250.738 L2279.97 250.738 L2279.97 95.2176 L1938.15 95.2176  Z\n  \" fill=\"#ffffff\" fill-rule=\"evenodd\" fill-opacity=\"1\"/>\n<polyline clip-path=\"url(#clip600)\" style=\"stroke:#000000; stroke-linecap:round; stroke-linejoin:round; stroke-width:4; stroke-opacity:1; fill:none\" points=\"\n  1938.15,250.738 2279.97,250.738 2279.97,95.2176 1938.15,95.2176 1938.15,250.738 \n  \"/>\n<path clip-path=\"url(#clip600)\" d=\"\nM2107.99 167.794 L1962.42 167.794 L1962.42 126.322 L2107.99 126.322 L2107.99 167.794  Z\n  \" fill=\"#ff0000\" fill-rule=\"evenodd\" fill-opacity=\"0.5\"/>\n<polyline clip-path=\"url(#clip600)\" style=\"stroke:#000000; stroke-linecap:round; stroke-linejoin:round; stroke-width:4; stroke-opacity:1; fill:none\" points=\"\n  2107.99,167.794 1962.42,167.794 1962.42,126.322 2107.99,126.322 2107.99,167.794 \n  \"/>\n<path clip-path=\"url(#clip600)\" d=\"M2136.54 160.449 L2136.54 174.199 L2132.25 174.199 L2132.25 138.412 L2136.54 138.412 L2136.54 142.347 Q2137.88 140.032 2139.92 138.921 Q2141.98 137.787 2144.82 137.787 Q2149.55 137.787 2152.48 141.537 Q2155.45 145.287 2155.45 151.398 Q2155.45 157.509 2152.48 161.259 Q2149.55 165.009 2144.82 165.009 Q2141.98 165.009 2139.92 163.898 Q2137.88 162.763 2136.54 160.449 M2151.03 151.398 Q2151.03 146.699 2149.08 144.037 Q2147.16 141.352 2143.78 141.352 Q2140.4 141.352 2138.46 144.037 Q2136.54 146.699 2136.54 151.398 Q2136.54 156.097 2138.46 158.782 Q2140.4 161.444 2143.78 161.444 Q2147.16 161.444 2149.08 158.782 Q2151.03 156.097 2151.03 151.398 Z\" fill=\"#000000\" fill-rule=\"evenodd\" fill-opacity=\"1\" /><path clip-path=\"url(#clip600)\" d=\"M2177.53 142.393 Q2176.81 141.977 2175.96 141.791 Q2175.12 141.583 2174.11 141.583 Q2170.49 141.583 2168.55 143.944 Q2166.63 146.282 2166.63 150.68 L2166.63 164.338 L2162.35 164.338 L2162.35 138.412 L2166.63 138.412 L2166.63 142.44 Q2167.97 140.078 2170.12 138.944 Q2172.28 137.787 2175.36 137.787 Q2175.8 137.787 2176.33 137.856 Q2176.86 137.903 2177.51 138.018 L2177.53 142.393 Z\" fill=\"#000000\" fill-rule=\"evenodd\" fill-opacity=\"1\" /><path clip-path=\"url(#clip600)\" d=\"M2203.13 150.31 L2203.13 152.393 L2183.55 152.393 Q2183.83 156.791 2186.19 159.106 Q2188.57 161.398 2192.81 161.398 Q2195.26 161.398 2197.55 160.796 Q2199.87 160.194 2202.14 158.99 L2202.14 163.018 Q2199.85 163.99 2197.44 164.5 Q2195.03 165.009 2192.55 165.009 Q2186.35 165.009 2182.72 161.398 Q2179.11 157.787 2179.11 151.629 Q2179.11 145.264 2182.53 141.537 Q2185.98 137.787 2191.81 137.787 Q2197.04 137.787 2200.08 141.166 Q2203.13 144.523 2203.13 150.31 M2198.87 149.06 Q2198.83 145.565 2196.91 143.481 Q2195.01 141.398 2191.86 141.398 Q2188.29 141.398 2186.14 143.412 Q2184.01 145.426 2183.69 149.083 L2198.87 149.06 Z\" fill=\"#000000\" fill-rule=\"evenodd\" fill-opacity=\"1\" /><path clip-path=\"url(#clip600)\" d=\"M2227.18 142.347 L2227.18 128.319 L2231.44 128.319 L2231.44 164.338 L2227.18 164.338 L2227.18 160.449 Q2225.84 162.763 2223.78 163.898 Q2221.74 165.009 2218.87 165.009 Q2214.17 165.009 2211.21 161.259 Q2208.27 157.509 2208.27 151.398 Q2208.27 145.287 2211.21 141.537 Q2214.17 137.787 2218.87 137.787 Q2221.74 137.787 2223.78 138.921 Q2225.84 140.032 2227.18 142.347 M2212.67 151.398 Q2212.67 156.097 2214.59 158.782 Q2216.54 161.444 2219.92 161.444 Q2223.29 161.444 2225.24 158.782 Q2227.18 156.097 2227.18 151.398 Q2227.18 146.699 2225.24 144.037 Q2223.29 141.352 2219.92 141.352 Q2216.54 141.352 2214.59 144.037 Q2212.67 146.699 2212.67 151.398 Z\" fill=\"#000000\" fill-rule=\"evenodd\" fill-opacity=\"1\" /><path clip-path=\"url(#clip600)\" d=\"\nM2107.99 219.634 L1962.42 219.634 L1962.42 178.162 L2107.99 178.162 L2107.99 219.634  Z\n  \" fill=\"#0000ff\" fill-rule=\"evenodd\" fill-opacity=\"0.5\"/>\n<polyline clip-path=\"url(#clip600)\" style=\"stroke:#000000; stroke-linecap:round; stroke-linejoin:round; stroke-width:4; stroke-opacity:1; fill:none\" points=\"\n  2107.99,219.634 1962.42,219.634 1962.42,178.162 2107.99,178.162 2107.99,219.634 \n  \"/>\n<path clip-path=\"url(#clip600)\" d=\"M2139.66 182.891 L2139.66 190.252 L2148.43 190.252 L2148.43 193.562 L2139.66 193.562 L2139.66 207.636 Q2139.66 210.807 2140.52 211.71 Q2141.4 212.613 2144.06 212.613 L2148.43 212.613 L2148.43 216.178 L2144.06 216.178 Q2139.13 216.178 2137.25 214.349 Q2135.38 212.497 2135.38 207.636 L2135.38 193.562 L2132.25 193.562 L2132.25 190.252 L2135.38 190.252 L2135.38 182.891 L2139.66 182.891 Z\" fill=\"#000000\" fill-rule=\"evenodd\" fill-opacity=\"1\" /><path clip-path=\"url(#clip600)\" d=\"M2176.21 202.15 L2176.21 204.233 L2156.63 204.233 Q2156.91 208.631 2159.27 210.946 Q2161.65 213.238 2165.89 213.238 Q2168.34 213.238 2170.63 212.636 Q2172.95 212.034 2175.22 210.83 L2175.22 214.858 Q2172.92 215.83 2170.52 216.34 Q2168.11 216.849 2165.63 216.849 Q2159.43 216.849 2155.8 213.238 Q2152.18 209.627 2152.18 203.469 Q2152.18 197.104 2155.61 193.377 Q2159.06 189.627 2164.89 189.627 Q2170.12 189.627 2173.16 193.006 Q2176.21 196.363 2176.21 202.15 M2171.95 200.9 Q2171.91 197.405 2169.98 195.321 Q2168.09 193.238 2164.94 193.238 Q2161.37 193.238 2159.22 195.252 Q2157.09 197.266 2156.77 200.923 L2171.95 200.9 Z\" fill=\"#000000\" fill-rule=\"evenodd\" fill-opacity=\"1\" /><path clip-path=\"url(#clip600)\" d=\"M2199.73 191.016 L2199.73 195.043 Q2197.92 194.117 2195.98 193.655 Q2194.04 193.192 2191.95 193.192 Q2188.78 193.192 2187.18 194.164 Q2185.61 195.136 2185.61 197.08 Q2185.61 198.562 2186.74 199.418 Q2187.88 200.252 2191.3 201.016 L2192.76 201.34 Q2197.3 202.312 2199.2 204.094 Q2201.12 205.854 2201.12 209.025 Q2201.12 212.636 2198.25 214.742 Q2195.4 216.849 2190.4 216.849 Q2188.32 216.849 2186.05 216.432 Q2183.8 216.039 2181.3 215.228 L2181.3 210.83 Q2183.67 212.057 2185.96 212.682 Q2188.25 213.284 2190.49 213.284 Q2193.5 213.284 2195.12 212.266 Q2196.74 211.224 2196.74 209.349 Q2196.74 207.613 2195.56 206.687 Q2194.41 205.761 2190.45 204.904 L2188.97 204.557 Q2185.01 203.724 2183.25 202.011 Q2181.49 200.275 2181.49 197.266 Q2181.49 193.608 2184.08 191.618 Q2186.67 189.627 2191.44 189.627 Q2193.8 189.627 2195.89 189.974 Q2197.97 190.321 2199.73 191.016 Z\" fill=\"#000000\" fill-rule=\"evenodd\" fill-opacity=\"1\" /><path clip-path=\"url(#clip600)\" d=\"M2212.11 182.891 L2212.11 190.252 L2220.89 190.252 L2220.89 193.562 L2212.11 193.562 L2212.11 207.636 Q2212.11 210.807 2212.97 211.71 Q2213.85 212.613 2216.51 212.613 L2220.89 212.613 L2220.89 216.178 L2216.51 216.178 Q2211.58 216.178 2209.71 214.349 Q2207.83 212.497 2207.83 207.636 L2207.83 193.562 L2204.71 193.562 L2204.71 190.252 L2207.83 190.252 L2207.83 182.891 L2212.11 182.891 Z\" fill=\"#000000\" fill-rule=\"evenodd\" fill-opacity=\"1\" /></svg>\n"
     },
     "metadata": {},
     "output_type": "display_data"
    }
   ],
   "source": [
    "ORTLReg = ORTL_model(train_valid, test);\n",
    "\n",
    "# write_json the model\n",
    "IAI.write_json(\"ORTLReg.json\", ORTLReg)\n",
    "\n",
    "# save the predictions\n",
    "ORTL_pred = IAI.predict(ORTLReg, get_features(test))\n",
    "CSV.write(\"ORTL_pred.csv\", DataFrame(pred = ORTL_pred));"
   ]
  },
  {
   "cell_type": "code",
   "execution_count": 24,
   "metadata": {},
   "outputs": [
    {
     "data": {
      "text/html": [
       "<div><div style = \"float: left;\"><span>1×4 DataFrame</span></div><div style = \"clear: both;\"></div></div><div class = \"data-frame\" style = \"overflow-x: scroll;\"><table class = \"data-frame\" style = \"margin-bottom: 6px;\"><thead><tr class = \"header\"><th class = \"rowNumber\" style = \"font-weight: bold; text-align: right;\">Row</th><th style = \"text-align: left;\">mae</th><th style = \"text-align: left;\">mse</th><th style = \"text-align: left;\">rmse</th><th style = \"text-align: left;\">osr2</th></tr><tr class = \"subheader headerLastRow\"><th class = \"rowNumber\" style = \"font-weight: bold; text-align: right;\"></th><th title = \"Float64\" style = \"text-align: left;\">Float64</th><th title = \"Float64\" style = \"text-align: left;\">Float64</th><th title = \"Float64\" style = \"text-align: left;\">Float64</th><th title = \"Float64\" style = \"text-align: left;\">Float64</th></tr></thead><tbody><tr><td class = \"rowNumber\" style = \"font-weight: bold; text-align: right;\">1</td><td style = \"text-align: right;\">5.84949</td><td style = \"text-align: right;\">884.623</td><td style = \"text-align: right;\">29.7426</td><td style = \"text-align: right;\">-6.18479</td></tr></tbody></table></div>"
      ],
      "text/latex": [
       "\\begin{tabular}{r|cccc}\n",
       "\t& mae & mse & rmse & osr2\\\\\n",
       "\t\\hline\n",
       "\t& Float64 & Float64 & Float64 & Float64\\\\\n",
       "\t\\hline\n",
       "\t1 & 5.84949 & 884.623 & 29.7426 & -6.18479 \\\\\n",
       "\\end{tabular}\n"
      ],
      "text/plain": [
       "\u001b[1m1×4 DataFrame\n",
       "\u001b[1m Row │\u001b[1m mae     \u001b[1m mse     \u001b[1m rmse    \u001b[1m osr2\n",
       "     │\u001b[90m Float64 \u001b[90m Float64 \u001b[90m Float64 \u001b[90m Float64\n",
       "─────┼─────────────────────────────────────\n",
       "   1 │ 5.84949  884.623  29.7426  -6.18479"
      ]
     },
     "metadata": {},
     "output_type": "display_data"
    }
   ],
   "source": [
    "# transfrom and results ORTL_pred\n",
    "transform_and_results(ORTL_pred, get_target(test))"
   ]
  },
  {
   "cell_type": "markdown",
   "metadata": {},
   "source": [
    "## Holistic regression"
   ]
  },
  {
   "cell_type": "code",
   "execution_count": 16,
   "metadata": {},
   "outputs": [
    {
     "data": {
      "text/plain": [
       "pairwise_correlation (generic function with 1 method)"
      ]
     },
     "execution_count": 16,
     "metadata": {},
     "output_type": "execute_result"
    }
   ],
   "source": [
    "function pairwise_correlation(data, rho)\n",
    "\n",
    "    cor_matrix = cor(Matrix(data))\n",
    "\n",
    "    # we know that the matrix is symmetrix\n",
    "    # no need to include the correlation between one variable and itself, of course it is 1\n",
    "    \n",
    "    p = size(cor_matrix)[1]\n",
    "\n",
    "    # list to record the variables with which X[i] is correlated\n",
    "    correlated = []\n",
    "\n",
    "    for i = 1:(p-1)     \n",
    "        for j = (i+1):p\n",
    "            if abs(cor_matrix[i, j]) > rho\n",
    "                push!(correlated, (i, j))\n",
    "            end\n",
    "        end\n",
    "    end\n",
    "\n",
    "    return correlated\n",
    "end"
   ]
  },
  {
   "cell_type": "code",
   "execution_count": 17,
   "metadata": {},
   "outputs": [
    {
     "data": {
      "text/plain": [
       "transform_data (generic function with 1 method)"
      ]
     },
     "execution_count": 17,
     "metadata": {},
     "output_type": "execute_result"
    }
   ],
   "source": [
    "function transform_data(data)\n",
    "    \n",
    "    n, p = size(data)\n",
    "    epsilon = 1\n",
    "\n",
    "    new = []\n",
    "\n",
    "    for j = 1:p\n",
    "        push!(new, data[:, j])\n",
    "        push!(new, sqrt.(abs.(data[:, j])))\n",
    "        push!(new, log.(abs.(data[:, j]) .+ epsilon))\n",
    "    end\n",
    "\n",
    "    return hcat(new...)\n",
    "end"
   ]
  },
  {
   "cell_type": "code",
   "execution_count": 18,
   "metadata": {},
   "outputs": [
    {
     "data": {
      "text/plain": [
       "HolisticRegression (generic function with 1 method)"
      ]
     },
     "execution_count": 18,
     "metadata": {},
     "output_type": "execute_result"
    }
   ],
   "source": [
    "function HolisticRegression(X, y, lambda, k, rho)\n",
    "\n",
    "    # define the model\n",
    "    model = Model(Gurobi.Optimizer)\n",
    "    set_optimizer_attribute(model, \"OutputFlag\", 0)\n",
    "    set_optimizer_attribute(model, \"NonConvex\", 2)\n",
    "\n",
    "    # PARAMETERS\n",
    "\n",
    "    n, p = size(X)\n",
    "\n",
    "    M = 1000\n",
    "\n",
    "    # call function pairwise_correlation to define HC(X)\n",
    "    HC = pairwise_correlation(X, rho)\n",
    "    # define set Tj, because we want to keep at most one transformation\n",
    "    print(1)\n",
    "    T = []\n",
    "    for j = 1:Int(p/3) # this applies to the original p\n",
    "        push!(T, X[:, 3*(j-1)+1 : 3*(j-1)+3])\n",
    "    end\n",
    "\n",
    "    # VARIABLES\n",
    "\n",
    "    @variable(model, beta[1:p])\n",
    "    @variable(model, t)\n",
    "    @variable(model, r)\n",
    "    @variable(model, q[1:p])\n",
    "    @variable(model, z[1:p], binary = true) # binary variable\n",
    "\n",
    "    # OBJECTIVE FUNCTION\n",
    "\n",
    "    @objective(model, Min, t + lambda * r)\n",
    "\n",
    "    # CONSTRAINTS\n",
    "\n",
    "    @constraint(model, t >= sum((y[i]-sum(X[i,j]*beta[j] for j=1:p))^2 for i=1:n)) # to rewrite objective function\n",
    "    @constraint(model, r >= sum(q[j] for j=1:p)) # to rewrite objective function\n",
    "    @constraint(model, [j=1:p], q[j] >= beta[j]) # to rewrite objective function\n",
    "    @constraint(model, [j=1:p], q[j] >= -beta[j]) # to rewrite objective function\n",
    "\n",
    "    @constraint(model, [i=1:p], beta[i]<=M*z[i]) # sparsity\n",
    "    @constraint(model, [i=1:p], beta[i]>=-M*z[i]) # sparsity\n",
    "    @constraint(model, sum(z[i] for i=1:p) <= k) # sparsity\n",
    "\n",
    "    # pairwise collinearity\n",
    "    for (i,j) in HC\n",
    "        @constraint(model, z[i] + z[j] <= 1)\n",
    "    end\n",
    "    \n",
    "    # nonlinear transformation\n",
    "    @constraint(model, [j=1:Int(p/3)], sum(z[i] for i = 3*(j-1)+1 : 3*(j-1)+3) <= 1)\n",
    "\n",
    "    # group sparsity\n",
    "\n",
    "    # significance\n",
    "\n",
    "    # multicollinear relations\n",
    "\n",
    "    # OPTIMIZE\n",
    "\n",
    "    optimize!(model)\n",
    "\n",
    "    return objective_value(model), value.(beta)\n",
    "\n",
    "end"
   ]
  },
  {
   "cell_type": "code",
   "execution_count": 19,
   "metadata": {},
   "outputs": [
    {
     "data": {
      "text/plain": [
       "Holistic_model (generic function with 1 method)"
      ]
     },
     "execution_count": 19,
     "metadata": {},
     "output_type": "execute_result"
    }
   ],
   "source": [
    "function Holistic_model(train_valid, test)\n",
    "\n",
    "    p_total = size(transform_data(get_features(train_valid)))[2]\n",
    "\n",
    "    # initialize best model\n",
    "    obj, best_beta = HolisticRegression(transform_data(get_features(train_valid)), get_target(train_valid), 0, p_total, 0.5)\n",
    "\n",
    "    # run HolisticRegression for different values of lambda and k, save lambda and k that give the best results\n",
    "    for rho in [0.7, 0.9]\n",
    "        for k in [floor(sqrt(p_total)), floor(p_total/2)]\n",
    "            for lambda in [0.1, 0.5]\n",
    "                obj_, beta_ = HolisticRegression(transform_data(get_features(train_valid)), get_target(train_valid), lambda, k, rho)\n",
    "                if obj_ < obj\n",
    "                    best_beta = beta_\n",
    "                end\n",
    "            end\n",
    "        end\n",
    "    end\n",
    "\n",
    "    # define model with best beta, select features corresponding to non-zero beta\n",
    "    features_keep_sorted = [i for (i, beta) in enumerate(best_beta) if beta != 0]\n",
    "\n",
    "    # make predictions using the best model (y = X * beta)\n",
    "    pred = Matrix(transform_data(get_features(test))[:, features_keep_sorted]) * best_beta[features_keep_sorted]\n",
    "\n",
    "    # compute the results\n",
    "    compute_results(pred, get_target(test))\n",
    "\n",
    "    # check the prediction value\n",
    "    check_prediction_value(pred, get_target(test))\n",
    "\n",
    "    # return the best model\n",
    "    return best_beta\n",
    "end"
   ]
  },
  {
   "cell_type": "code",
   "execution_count": 23,
   "metadata": {},
   "outputs": [
    {
     "name": "stdout",
     "output_type": "stream",
     "text": [
      "Set parameter Username\n",
      "Academic license - for non-commercial use only - expires 2023-08-18\n",
      "1Set parameter NonConvex to value 2\n",
      "Set parameter Username\n",
      "Academic license - for non-commercial use only - expires 2023-08-18\n",
      "1Set parameter NonConvex to value 2\n",
      "Set parameter Username\n",
      "Academic license - for non-commercial use only - expires 2023-08-18\n",
      "1Set parameter NonConvex to value 2\n",
      "Set parameter Username\n",
      "Academic license - for non-commercial use only - expires 2023-08-18\n",
      "1Set parameter NonConvex to value 2\n",
      "Set parameter Username\n",
      "Academic license - for non-commercial use only - expires 2023-08-18\n",
      "1Set parameter NonConvex to value 2\n",
      "Set parameter Username\n",
      "Academic license - for non-commercial use only - expires 2023-08-18\n",
      "1Set parameter NonConvex to value 2\n",
      "Set parameter Username\n",
      "Academic license - for non-commercial use only - expires 2023-08-18\n",
      "1Set parameter NonConvex to value 2\n",
      "Set parameter Username\n",
      "Academic license - for non-commercial use only - expires 2023-08-18\n",
      "1Set parameter NonConvex to value 2\n",
      "Set parameter Username\n",
      "Academic license - for non-commercial use only - expires 2023-08-18\n",
      "1Set parameter NonConvex to value 2\n"
     ]
    },
    {
     "data": {
      "text/html": [
       "<div><div style = \"float: left;\"><span>1×4 DataFrame</span></div><div style = \"clear: both;\"></div></div><div class = \"data-frame\" style = \"overflow-x: scroll;\"><table class = \"data-frame\" style = \"margin-bottom: 6px;\"><thead><tr class = \"header\"><th class = \"rowNumber\" style = \"font-weight: bold; text-align: right;\">Row</th><th style = \"text-align: left;\">mae</th><th style = \"text-align: left;\">mse</th><th style = \"text-align: left;\">rmse</th><th style = \"text-align: left;\">osr2</th></tr><tr class = \"subheader headerLastRow\"><th class = \"rowNumber\" style = \"font-weight: bold; text-align: right;\"></th><th title = \"Float64\" style = \"text-align: left;\">Float64</th><th title = \"Float64\" style = \"text-align: left;\">Float64</th><th title = \"Float64\" style = \"text-align: left;\">Float64</th><th title = \"Float64\" style = \"text-align: left;\">Float64</th></tr></thead><tbody><tr><td class = \"rowNumber\" style = \"font-weight: bold; text-align: right;\">1</td><td style = \"text-align: right;\">0.744437</td><td style = \"text-align: right;\">0.803185</td><td style = \"text-align: right;\">0.896206</td><td style = \"text-align: right;\">0.432092</td></tr></tbody></table></div>"
      ],
      "text/latex": [
       "\\begin{tabular}{r|cccc}\n",
       "\t& mae & mse & rmse & osr2\\\\\n",
       "\t\\hline\n",
       "\t& Float64 & Float64 & Float64 & Float64\\\\\n",
       "\t\\hline\n",
       "\t1 & 0.744437 & 0.803185 & 0.896206 & 0.432092 \\\\\n",
       "\\end{tabular}\n"
      ],
      "text/plain": [
       "\u001b[1m1×4 DataFrame\n",
       "\u001b[1m Row │\u001b[1m mae      \u001b[1m mse      \u001b[1m rmse     \u001b[1m osr2\n",
       "     │\u001b[90m Float64  \u001b[90m Float64  \u001b[90m Float64  \u001b[90m Float64\n",
       "─────┼────────────────────────────────────────\n",
       "   1 │ 0.744437  0.803185  0.896206  0.432092"
      ]
     },
     "metadata": {},
     "output_type": "display_data"
    },
    {
     "data": {
      "image/svg+xml": "<?xml version=\"1.0\" encoding=\"utf-8\"?>\n<svg xmlns=\"http://www.w3.org/2000/svg\" xmlns:xlink=\"http://www.w3.org/1999/xlink\" width=\"600\" height=\"400\" viewBox=\"0 0 2400 1600\">\n<defs>\n  <clipPath id=\"clip760\">\n    <rect x=\"0\" y=\"0\" width=\"2400\" height=\"1600\"/>\n  </clipPath>\n</defs>\n<path clip-path=\"url(#clip760)\" d=\"\nM0 1600 L2400 1600 L2400 0 L0 0  Z\n  \" fill=\"#ffffff\" fill-rule=\"evenodd\" fill-opacity=\"1\"/>\n<defs>\n  <clipPath id=\"clip761\">\n    <rect x=\"480\" y=\"0\" width=\"1681\" height=\"1600\"/>\n  </clipPath>\n</defs>\n<path clip-path=\"url(#clip760)\" d=\"\nM169.121 1486.45 L2352.76 1486.45 L2352.76 47.2441 L169.121 47.2441  Z\n  \" fill=\"#ffffff\" fill-rule=\"evenodd\" fill-opacity=\"1\"/>\n<defs>\n  <clipPath id=\"clip762\">\n    <rect x=\"169\" y=\"47\" width=\"2185\" height=\"1440\"/>\n  </clipPath>\n</defs>\n<polyline clip-path=\"url(#clip762)\" style=\"stroke:#000000; stroke-linecap:round; stroke-linejoin:round; stroke-width:2; stroke-opacity:0.1; fill:none\" points=\"\n  451.177,1486.45 451.177,47.2441 \n  \"/>\n<polyline clip-path=\"url(#clip762)\" style=\"stroke:#000000; stroke-linecap:round; stroke-linejoin:round; stroke-width:2; stroke-opacity:0.1; fill:none\" points=\"\n  775.082,1486.45 775.082,47.2441 \n  \"/>\n<polyline clip-path=\"url(#clip762)\" style=\"stroke:#000000; stroke-linecap:round; stroke-linejoin:round; stroke-width:2; stroke-opacity:0.1; fill:none\" points=\"\n  1098.99,1486.45 1098.99,47.2441 \n  \"/>\n<polyline clip-path=\"url(#clip762)\" style=\"stroke:#000000; stroke-linecap:round; stroke-linejoin:round; stroke-width:2; stroke-opacity:0.1; fill:none\" points=\"\n  1422.89,1486.45 1422.89,47.2441 \n  \"/>\n<polyline clip-path=\"url(#clip762)\" style=\"stroke:#000000; stroke-linecap:round; stroke-linejoin:round; stroke-width:2; stroke-opacity:0.1; fill:none\" points=\"\n  1746.8,1486.45 1746.8,47.2441 \n  \"/>\n<polyline clip-path=\"url(#clip762)\" style=\"stroke:#000000; stroke-linecap:round; stroke-linejoin:round; stroke-width:2; stroke-opacity:0.1; fill:none\" points=\"\n  2070.7,1486.45 2070.7,47.2441 \n  \"/>\n<polyline clip-path=\"url(#clip760)\" style=\"stroke:#000000; stroke-linecap:round; stroke-linejoin:round; stroke-width:4; stroke-opacity:1; fill:none\" points=\"\n  169.121,1486.45 2352.76,1486.45 \n  \"/>\n<polyline clip-path=\"url(#clip760)\" style=\"stroke:#000000; stroke-linecap:round; stroke-linejoin:round; stroke-width:4; stroke-opacity:1; fill:none\" points=\"\n  451.177,1486.45 451.177,1467.55 \n  \"/>\n<polyline clip-path=\"url(#clip760)\" style=\"stroke:#000000; stroke-linecap:round; stroke-linejoin:round; stroke-width:4; stroke-opacity:1; fill:none\" points=\"\n  775.082,1486.45 775.082,1467.55 \n  \"/>\n<polyline clip-path=\"url(#clip760)\" style=\"stroke:#000000; stroke-linecap:round; stroke-linejoin:round; stroke-width:4; stroke-opacity:1; fill:none\" points=\"\n  1098.99,1486.45 1098.99,1467.55 \n  \"/>\n<polyline clip-path=\"url(#clip760)\" style=\"stroke:#000000; stroke-linecap:round; stroke-linejoin:round; stroke-width:4; stroke-opacity:1; fill:none\" points=\"\n  1422.89,1486.45 1422.89,1467.55 \n  \"/>\n<polyline clip-path=\"url(#clip760)\" style=\"stroke:#000000; stroke-linecap:round; stroke-linejoin:round; stroke-width:4; stroke-opacity:1; fill:none\" points=\"\n  1746.8,1486.45 1746.8,1467.55 \n  \"/>\n<polyline clip-path=\"url(#clip760)\" style=\"stroke:#000000; stroke-linecap:round; stroke-linejoin:round; stroke-width:4; stroke-opacity:1; fill:none\" points=\"\n  2070.7,1486.45 2070.7,1467.55 \n  \"/>\n<path clip-path=\"url(#clip760)\" d=\"M420.934 1532.02 L450.61 1532.02 L450.61 1535.95 L420.934 1535.95 L420.934 1532.02 Z\" fill=\"#000000\" fill-rule=\"evenodd\" fill-opacity=\"1\" /><path clip-path=\"url(#clip760)\" d=\"M461.513 1544.91 L469.152 1544.91 L469.152 1518.55 L460.842 1520.21 L460.842 1515.95 L469.106 1514.29 L473.781 1514.29 L473.781 1544.91 L481.42 1544.91 L481.42 1548.85 L461.513 1548.85 L461.513 1544.91 Z\" fill=\"#000000\" fill-rule=\"evenodd\" fill-opacity=\"1\" /><path clip-path=\"url(#clip760)\" d=\"M775.082 1517.37 Q771.471 1517.37 769.642 1520.93 Q767.837 1524.47 767.837 1531.6 Q767.837 1538.71 769.642 1542.27 Q771.471 1545.82 775.082 1545.82 Q778.716 1545.82 780.522 1542.27 Q782.35 1538.71 782.35 1531.6 Q782.35 1524.47 780.522 1520.93 Q778.716 1517.37 775.082 1517.37 M775.082 1513.66 Q780.892 1513.66 783.948 1518.27 Q787.026 1522.85 787.026 1531.6 Q787.026 1540.33 783.948 1544.94 Q780.892 1549.52 775.082 1549.52 Q769.272 1549.52 766.193 1544.94 Q763.137 1540.33 763.137 1531.6 Q763.137 1522.85 766.193 1518.27 Q769.272 1513.66 775.082 1513.66 Z\" fill=\"#000000\" fill-rule=\"evenodd\" fill-opacity=\"1\" /><path clip-path=\"url(#clip760)\" d=\"M1089.37 1544.91 L1097.01 1544.91 L1097.01 1518.55 L1088.7 1520.21 L1088.7 1515.95 L1096.96 1514.29 L1101.64 1514.29 L1101.64 1544.91 L1109.28 1544.91 L1109.28 1548.85 L1089.37 1548.85 L1089.37 1544.91 Z\" fill=\"#000000\" fill-rule=\"evenodd\" fill-opacity=\"1\" /><path clip-path=\"url(#clip760)\" d=\"M1417.54 1544.91 L1433.86 1544.91 L1433.86 1548.85 L1411.92 1548.85 L1411.92 1544.91 Q1414.58 1542.16 1419.16 1537.53 Q1423.77 1532.88 1424.95 1531.53 Q1427.2 1529.01 1428.08 1527.27 Q1428.98 1525.51 1428.98 1523.82 Q1428.98 1521.07 1427.03 1519.33 Q1425.11 1517.6 1422.01 1517.6 Q1419.81 1517.6 1417.36 1518.36 Q1414.93 1519.13 1412.15 1520.68 L1412.15 1515.95 Q1414.97 1514.82 1417.43 1514.24 Q1419.88 1513.66 1421.92 1513.66 Q1427.29 1513.66 1430.48 1516.35 Q1433.68 1519.03 1433.68 1523.52 Q1433.68 1525.65 1432.87 1527.57 Q1432.08 1529.47 1429.97 1532.07 Q1429.4 1532.74 1426.29 1535.95 Q1423.19 1539.15 1417.54 1544.91 Z\" fill=\"#000000\" fill-rule=\"evenodd\" fill-opacity=\"1\" /><path clip-path=\"url(#clip760)\" d=\"M1751.04 1530.21 Q1754.4 1530.93 1756.27 1533.2 Q1758.17 1535.47 1758.17 1538.8 Q1758.17 1543.92 1754.65 1546.72 Q1751.14 1549.52 1744.65 1549.52 Q1742.48 1549.52 1740.16 1549.08 Q1737.87 1548.66 1735.42 1547.81 L1735.42 1543.29 Q1737.36 1544.43 1739.68 1545.01 Q1741.99 1545.58 1744.52 1545.58 Q1748.91 1545.58 1751.21 1543.85 Q1753.52 1542.11 1753.52 1538.8 Q1753.52 1535.75 1751.37 1534.03 Q1749.24 1532.3 1745.42 1532.3 L1741.39 1532.3 L1741.39 1528.45 L1745.6 1528.45 Q1749.05 1528.45 1750.88 1527.09 Q1752.71 1525.7 1752.71 1523.11 Q1752.71 1520.45 1750.81 1519.03 Q1748.94 1517.6 1745.42 1517.6 Q1743.5 1517.6 1741.3 1518.01 Q1739.1 1518.43 1736.46 1519.31 L1736.46 1515.14 Q1739.12 1514.4 1741.44 1514.03 Q1743.77 1513.66 1745.83 1513.66 Q1751.16 1513.66 1754.26 1516.09 Q1757.36 1518.5 1757.36 1522.62 Q1757.36 1525.49 1755.72 1527.48 Q1754.08 1529.45 1751.04 1530.21 Z\" fill=\"#000000\" fill-rule=\"evenodd\" fill-opacity=\"1\" /><path clip-path=\"url(#clip760)\" d=\"M2073.71 1518.36 L2061.9 1536.81 L2073.71 1536.81 L2073.71 1518.36 M2072.48 1514.29 L2078.36 1514.29 L2078.36 1536.81 L2083.29 1536.81 L2083.29 1540.7 L2078.36 1540.7 L2078.36 1548.85 L2073.71 1548.85 L2073.71 1540.7 L2058.11 1540.7 L2058.11 1536.19 L2072.48 1514.29 Z\" fill=\"#000000\" fill-rule=\"evenodd\" fill-opacity=\"1\" /><polyline clip-path=\"url(#clip762)\" style=\"stroke:#000000; stroke-linecap:round; stroke-linejoin:round; stroke-width:2; stroke-opacity:0.1; fill:none\" points=\"\n  169.121,1445.72 2352.76,1445.72 \n  \"/>\n<polyline clip-path=\"url(#clip762)\" style=\"stroke:#000000; stroke-linecap:round; stroke-linejoin:round; stroke-width:2; stroke-opacity:0.1; fill:none\" points=\"\n  169.121,1162.85 2352.76,1162.85 \n  \"/>\n<polyline clip-path=\"url(#clip762)\" style=\"stroke:#000000; stroke-linecap:round; stroke-linejoin:round; stroke-width:2; stroke-opacity:0.1; fill:none\" points=\"\n  169.121,879.991 2352.76,879.991 \n  \"/>\n<polyline clip-path=\"url(#clip762)\" style=\"stroke:#000000; stroke-linecap:round; stroke-linejoin:round; stroke-width:2; stroke-opacity:0.1; fill:none\" points=\"\n  169.121,597.129 2352.76,597.129 \n  \"/>\n<polyline clip-path=\"url(#clip762)\" style=\"stroke:#000000; stroke-linecap:round; stroke-linejoin:round; stroke-width:2; stroke-opacity:0.1; fill:none\" points=\"\n  169.121,314.266 2352.76,314.266 \n  \"/>\n<polyline clip-path=\"url(#clip760)\" style=\"stroke:#000000; stroke-linecap:round; stroke-linejoin:round; stroke-width:4; stroke-opacity:1; fill:none\" points=\"\n  169.121,1486.45 169.121,47.2441 \n  \"/>\n<polyline clip-path=\"url(#clip760)\" style=\"stroke:#000000; stroke-linecap:round; stroke-linejoin:round; stroke-width:4; stroke-opacity:1; fill:none\" points=\"\n  169.121,1445.72 188.019,1445.72 \n  \"/>\n<polyline clip-path=\"url(#clip760)\" style=\"stroke:#000000; stroke-linecap:round; stroke-linejoin:round; stroke-width:4; stroke-opacity:1; fill:none\" points=\"\n  169.121,1162.85 188.019,1162.85 \n  \"/>\n<polyline clip-path=\"url(#clip760)\" style=\"stroke:#000000; stroke-linecap:round; stroke-linejoin:round; stroke-width:4; stroke-opacity:1; fill:none\" points=\"\n  169.121,879.991 188.019,879.991 \n  \"/>\n<polyline clip-path=\"url(#clip760)\" style=\"stroke:#000000; stroke-linecap:round; stroke-linejoin:round; stroke-width:4; stroke-opacity:1; fill:none\" points=\"\n  169.121,597.129 188.019,597.129 \n  \"/>\n<polyline clip-path=\"url(#clip760)\" style=\"stroke:#000000; stroke-linecap:round; stroke-linejoin:round; stroke-width:4; stroke-opacity:1; fill:none\" points=\"\n  169.121,314.266 188.019,314.266 \n  \"/>\n<path clip-path=\"url(#clip760)\" d=\"M121.177 1431.51 Q117.566 1431.51 115.737 1435.08 Q113.932 1438.62 113.932 1445.75 Q113.932 1452.86 115.737 1456.42 Q117.566 1459.96 121.177 1459.96 Q124.811 1459.96 126.617 1456.42 Q128.445 1452.86 128.445 1445.75 Q128.445 1438.62 126.617 1435.08 Q124.811 1431.51 121.177 1431.51 M121.177 1427.81 Q126.987 1427.81 130.043 1432.42 Q133.121 1437 133.121 1445.75 Q133.121 1454.48 130.043 1459.08 Q126.987 1463.67 121.177 1463.67 Q115.367 1463.67 112.288 1459.08 Q109.233 1454.48 109.233 1445.75 Q109.233 1437 112.288 1432.42 Q115.367 1427.81 121.177 1427.81 Z\" fill=\"#000000\" fill-rule=\"evenodd\" fill-opacity=\"1\" /><path clip-path=\"url(#clip760)\" d=\"M86.0382 1176.2 L102.358 1176.2 L102.358 1180.13 L80.4133 1180.13 L80.4133 1176.2 Q83.0753 1173.44 87.6586 1168.81 Q92.2651 1164.16 93.4456 1162.82 Q95.691 1160.3 96.5706 1158.56 Q97.4734 1156.8 97.4734 1155.11 Q97.4734 1152.36 95.5289 1150.62 Q93.6076 1148.88 90.5058 1148.88 Q88.3067 1148.88 85.8531 1149.65 Q83.4225 1150.41 80.6447 1151.96 L80.6447 1147.24 Q83.4688 1146.11 85.9225 1145.53 Q88.3762 1144.95 90.4132 1144.95 Q95.7836 1144.95 98.978 1147.63 Q102.172 1150.32 102.172 1154.81 Q102.172 1156.94 101.362 1158.86 Q100.575 1160.76 98.4687 1163.35 Q97.89 1164.02 94.7882 1167.24 Q91.6864 1170.43 86.0382 1176.2 Z\" fill=\"#000000\" fill-rule=\"evenodd\" fill-opacity=\"1\" /><path clip-path=\"url(#clip760)\" d=\"M112.219 1145.57 L130.575 1145.57 L130.575 1149.51 L116.501 1149.51 L116.501 1157.98 Q117.52 1157.63 118.538 1157.47 Q119.557 1157.29 120.575 1157.29 Q126.362 1157.29 129.742 1160.46 Q133.121 1163.63 133.121 1169.05 Q133.121 1174.62 129.649 1177.73 Q126.177 1180.8 119.857 1180.8 Q117.682 1180.8 115.413 1180.43 Q113.168 1180.06 110.76 1179.32 L110.76 1174.62 Q112.844 1175.76 115.066 1176.31 Q117.288 1176.87 119.765 1176.87 Q123.77 1176.87 126.107 1174.76 Q128.445 1172.66 128.445 1169.05 Q128.445 1165.43 126.107 1163.33 Q123.77 1161.22 119.765 1161.22 Q117.89 1161.22 116.015 1161.64 Q114.163 1162.05 112.219 1162.93 L112.219 1145.57 Z\" fill=\"#000000\" fill-rule=\"evenodd\" fill-opacity=\"1\" /><path clip-path=\"url(#clip760)\" d=\"M81.0614 862.711 L99.4178 862.711 L99.4178 866.646 L85.3438 866.646 L85.3438 875.118 Q86.3623 874.771 87.3808 874.609 Q88.3993 874.424 89.4178 874.424 Q95.2049 874.424 98.5845 877.595 Q101.964 880.766 101.964 886.183 Q101.964 891.762 98.4919 894.864 Q95.0197 897.942 88.7003 897.942 Q86.5243 897.942 84.2558 897.572 Q82.0105 897.201 79.6031 896.461 L79.6031 891.762 Q81.6864 892.896 83.9086 893.452 Q86.1308 894.007 88.6077 894.007 Q92.6123 894.007 94.9502 891.901 Q97.2882 889.794 97.2882 886.183 Q97.2882 882.572 94.9502 880.465 Q92.6123 878.359 88.6077 878.359 Q86.7327 878.359 84.8577 878.776 Q83.0058 879.192 81.0614 880.072 L81.0614 862.711 Z\" fill=\"#000000\" fill-rule=\"evenodd\" fill-opacity=\"1\" /><path clip-path=\"url(#clip760)\" d=\"M121.177 865.79 Q117.566 865.79 115.737 869.354 Q113.932 872.896 113.932 880.026 Q113.932 887.132 115.737 890.697 Q117.566 894.239 121.177 894.239 Q124.811 894.239 126.617 890.697 Q128.445 887.132 128.445 880.026 Q128.445 872.896 126.617 869.354 Q124.811 865.79 121.177 865.79 M121.177 862.086 Q126.987 862.086 130.043 866.692 Q133.121 871.276 133.121 880.026 Q133.121 888.752 130.043 893.359 Q126.987 897.942 121.177 897.942 Q115.367 897.942 112.288 893.359 Q109.233 888.752 109.233 880.026 Q109.233 871.276 112.288 866.692 Q115.367 862.086 121.177 862.086 Z\" fill=\"#000000\" fill-rule=\"evenodd\" fill-opacity=\"1\" /><path clip-path=\"url(#clip760)\" d=\"M80.8299 579.849 L103.052 579.849 L103.052 581.839 L90.5058 614.409 L85.6216 614.409 L97.4271 583.784 L80.8299 583.784 L80.8299 579.849 Z\" fill=\"#000000\" fill-rule=\"evenodd\" fill-opacity=\"1\" /><path clip-path=\"url(#clip760)\" d=\"M112.219 579.849 L130.575 579.849 L130.575 583.784 L116.501 583.784 L116.501 592.256 Q117.52 591.909 118.538 591.747 Q119.557 591.561 120.575 591.561 Q126.362 591.561 129.742 594.733 Q133.121 597.904 133.121 603.321 Q133.121 608.899 129.649 612.001 Q126.177 615.08 119.857 615.08 Q117.682 615.08 115.413 614.709 Q113.168 614.339 110.76 613.598 L110.76 608.899 Q112.844 610.034 115.066 610.589 Q117.288 611.145 119.765 611.145 Q123.77 611.145 126.107 609.038 Q128.445 606.932 128.445 603.321 Q128.445 599.71 126.107 597.603 Q123.77 595.497 119.765 595.497 Q117.89 595.497 116.015 595.913 Q114.163 596.33 112.219 597.21 L112.219 579.849 Z\" fill=\"#000000\" fill-rule=\"evenodd\" fill-opacity=\"1\" /><path clip-path=\"url(#clip760)\" d=\"M51.6634 327.611 L59.3023 327.611 L59.3023 301.245 L50.9921 302.912 L50.9921 298.653 L59.256 296.986 L63.9319 296.986 L63.9319 327.611 L71.5707 327.611 L71.5707 331.546 L51.6634 331.546 L51.6634 327.611 Z\" fill=\"#000000\" fill-rule=\"evenodd\" fill-opacity=\"1\" /><path clip-path=\"url(#clip760)\" d=\"M91.0151 300.065 Q87.404 300.065 85.5753 303.63 Q83.7697 307.171 83.7697 314.301 Q83.7697 321.407 85.5753 324.972 Q87.404 328.514 91.0151 328.514 Q94.6493 328.514 96.4548 324.972 Q98.2835 321.407 98.2835 314.301 Q98.2835 307.171 96.4548 303.63 Q94.6493 300.065 91.0151 300.065 M91.0151 296.361 Q96.8252 296.361 99.8808 300.968 Q102.959 305.551 102.959 314.301 Q102.959 323.028 99.8808 327.634 Q96.8252 332.217 91.0151 332.217 Q85.2049 332.217 82.1262 327.634 Q79.0707 323.028 79.0707 314.301 Q79.0707 305.551 82.1262 300.968 Q85.2049 296.361 91.0151 296.361 Z\" fill=\"#000000\" fill-rule=\"evenodd\" fill-opacity=\"1\" /><path clip-path=\"url(#clip760)\" d=\"M121.177 300.065 Q117.566 300.065 115.737 303.63 Q113.932 307.171 113.932 314.301 Q113.932 321.407 115.737 324.972 Q117.566 328.514 121.177 328.514 Q124.811 328.514 126.617 324.972 Q128.445 321.407 128.445 314.301 Q128.445 307.171 126.617 303.63 Q124.811 300.065 121.177 300.065 M121.177 296.361 Q126.987 296.361 130.043 300.968 Q133.121 305.551 133.121 314.301 Q133.121 323.028 130.043 327.634 Q126.987 332.217 121.177 332.217 Q115.367 332.217 112.288 327.634 Q109.233 323.028 109.233 314.301 Q109.233 305.551 112.288 300.968 Q115.367 296.361 121.177 296.361 Z\" fill=\"#000000\" fill-rule=\"evenodd\" fill-opacity=\"1\" /><path clip-path=\"url(#clip762)\" d=\"\nM289.225 1434.4 L289.225 1445.72 L451.177 1445.72 L451.177 1434.4 L289.225 1434.4 L289.225 1434.4  Z\n  \" fill=\"#ff0000\" fill-rule=\"evenodd\" fill-opacity=\"0.5\"/>\n<polyline clip-path=\"url(#clip762)\" style=\"stroke:#000000; stroke-linecap:round; stroke-linejoin:round; stroke-width:4; stroke-opacity:0.5; fill:none\" points=\"\n  289.225,1434.4 289.225,1445.72 451.177,1445.72 451.177,1434.4 289.225,1434.4 \n  \"/>\n<path clip-path=\"url(#clip762)\" d=\"\nM451.177 1377.83 L451.177 1445.72 L613.13 1445.72 L613.13 1377.83 L451.177 1377.83 L451.177 1377.83  Z\n  \" fill=\"#ff0000\" fill-rule=\"evenodd\" fill-opacity=\"0.5\"/>\n<polyline clip-path=\"url(#clip762)\" style=\"stroke:#000000; stroke-linecap:round; stroke-linejoin:round; stroke-width:4; stroke-opacity:0.5; fill:none\" points=\"\n  451.177,1377.83 451.177,1445.72 613.13,1445.72 613.13,1377.83 451.177,1377.83 \n  \"/>\n<path clip-path=\"url(#clip762)\" d=\"\nM613.13 1343.89 L613.13 1445.72 L775.082 1445.72 L775.082 1343.89 L613.13 1343.89 L613.13 1343.89  Z\n  \" fill=\"#ff0000\" fill-rule=\"evenodd\" fill-opacity=\"0.5\"/>\n<polyline clip-path=\"url(#clip762)\" style=\"stroke:#000000; stroke-linecap:round; stroke-linejoin:round; stroke-width:4; stroke-opacity:0.5; fill:none\" points=\"\n  613.13,1343.89 613.13,1445.72 775.082,1445.72 775.082,1343.89 613.13,1343.89 \n  \"/>\n<path clip-path=\"url(#clip762)\" d=\"\nM775.082 1038.39 L775.082 1445.72 L937.034 1445.72 L937.034 1038.39 L775.082 1038.39 L775.082 1038.39  Z\n  \" fill=\"#ff0000\" fill-rule=\"evenodd\" fill-opacity=\"0.5\"/>\n<polyline clip-path=\"url(#clip762)\" style=\"stroke:#000000; stroke-linecap:round; stroke-linejoin:round; stroke-width:4; stroke-opacity:0.5; fill:none\" points=\"\n  775.082,1038.39 775.082,1445.72 937.034,1445.72 937.034,1038.39 775.082,1038.39 \n  \"/>\n<path clip-path=\"url(#clip762)\" d=\"\nM937.034 732.902 L937.034 1445.72 L1098.99 1445.72 L1098.99 732.902 L937.034 732.902 L937.034 732.902  Z\n  \" fill=\"#ff0000\" fill-rule=\"evenodd\" fill-opacity=\"0.5\"/>\n<polyline clip-path=\"url(#clip762)\" style=\"stroke:#000000; stroke-linecap:round; stroke-linejoin:round; stroke-width:4; stroke-opacity:0.5; fill:none\" points=\"\n  937.034,732.902 937.034,1445.72 1098.99,1445.72 1098.99,732.902 937.034,732.902 \n  \"/>\n<path clip-path=\"url(#clip762)\" d=\"\nM1098.99 789.475 L1098.99 1445.72 L1260.94 1445.72 L1260.94 789.475 L1098.99 789.475 L1098.99 789.475  Z\n  \" fill=\"#ff0000\" fill-rule=\"evenodd\" fill-opacity=\"0.5\"/>\n<polyline clip-path=\"url(#clip762)\" style=\"stroke:#000000; stroke-linecap:round; stroke-linejoin:round; stroke-width:4; stroke-opacity:0.5; fill:none\" points=\"\n  1098.99,789.475 1098.99,1445.72 1260.94,1445.72 1260.94,789.475 1098.99,789.475 \n  \"/>\n<path clip-path=\"url(#clip762)\" d=\"\nM1260.94 823.418 L1260.94 1445.72 L1422.89 1445.72 L1422.89 823.418 L1260.94 823.418 L1260.94 823.418  Z\n  \" fill=\"#ff0000\" fill-rule=\"evenodd\" fill-opacity=\"0.5\"/>\n<polyline clip-path=\"url(#clip762)\" style=\"stroke:#000000; stroke-linecap:round; stroke-linejoin:round; stroke-width:4; stroke-opacity:0.5; fill:none\" points=\"\n  1260.94,823.418 1260.94,1445.72 1422.89,1445.72 1422.89,823.418 1260.94,823.418 \n  \"/>\n<path clip-path=\"url(#clip762)\" d=\"\nM1422.89 1117.6 L1422.89 1445.72 L1584.84 1445.72 L1584.84 1117.6 L1422.89 1117.6 L1422.89 1117.6  Z\n  \" fill=\"#ff0000\" fill-rule=\"evenodd\" fill-opacity=\"0.5\"/>\n<polyline clip-path=\"url(#clip762)\" style=\"stroke:#000000; stroke-linecap:round; stroke-linejoin:round; stroke-width:4; stroke-opacity:0.5; fill:none\" points=\"\n  1422.89,1117.6 1422.89,1445.72 1584.84,1445.72 1584.84,1117.6 1422.89,1117.6 \n  \"/>\n<path clip-path=\"url(#clip762)\" d=\"\nM1584.84 1332.57 L1584.84 1445.72 L1746.8 1445.72 L1746.8 1332.57 L1584.84 1332.57 L1584.84 1332.57  Z\n  \" fill=\"#ff0000\" fill-rule=\"evenodd\" fill-opacity=\"0.5\"/>\n<polyline clip-path=\"url(#clip762)\" style=\"stroke:#000000; stroke-linecap:round; stroke-linejoin:round; stroke-width:4; stroke-opacity:0.5; fill:none\" points=\"\n  1584.84,1332.57 1584.84,1445.72 1746.8,1445.72 1746.8,1332.57 1584.84,1332.57 \n  \"/>\n<path clip-path=\"url(#clip762)\" d=\"\nM1746.8 1434.4 L1746.8 1445.72 L1908.75 1445.72 L1908.75 1434.4 L1746.8 1434.4 L1746.8 1434.4  Z\n  \" fill=\"#ff0000\" fill-rule=\"evenodd\" fill-opacity=\"0.5\"/>\n<polyline clip-path=\"url(#clip762)\" style=\"stroke:#000000; stroke-linecap:round; stroke-linejoin:round; stroke-width:4; stroke-opacity:0.5; fill:none\" points=\"\n  1746.8,1434.4 1746.8,1445.72 1908.75,1445.72 1908.75,1434.4 1746.8,1434.4 \n  \"/>\n<path clip-path=\"url(#clip762)\" d=\"\nM1908.75 1445.72 L1908.75 1445.72 L2070.7 1445.72 L2070.7 1445.72 L1908.75 1445.72 L1908.75 1445.72  Z\n  \" fill=\"#ff0000\" fill-rule=\"evenodd\" fill-opacity=\"0.5\"/>\n<polyline clip-path=\"url(#clip762)\" style=\"stroke:#000000; stroke-linecap:round; stroke-linejoin:round; stroke-width:4; stroke-opacity:0.5; fill:none\" points=\"\n  1908.75,1445.72 1908.75,1445.72 2070.7,1445.72 1908.75,1445.72 \n  \"/>\n<path clip-path=\"url(#clip762)\" d=\"\nM2070.7 1434.4 L2070.7 1445.72 L2232.65 1445.72 L2232.65 1434.4 L2070.7 1434.4 L2070.7 1434.4  Z\n  \" fill=\"#ff0000\" fill-rule=\"evenodd\" fill-opacity=\"0.5\"/>\n<polyline clip-path=\"url(#clip762)\" style=\"stroke:#000000; stroke-linecap:round; stroke-linejoin:round; stroke-width:4; stroke-opacity:0.5; fill:none\" points=\"\n  2070.7,1434.4 2070.7,1445.72 2232.65,1445.72 2232.65,1434.4 2070.7,1434.4 \n  \"/>\n<circle clip-path=\"url(#clip762)\" style=\"fill:#ff0000; stroke:none; fill-opacity:0\" cx=\"370.201\" cy=\"1434.4\" r=\"2\"/>\n<circle clip-path=\"url(#clip762)\" style=\"fill:#ff0000; stroke:none; fill-opacity:0\" cx=\"532.153\" cy=\"1377.83\" r=\"2\"/>\n<circle clip-path=\"url(#clip762)\" style=\"fill:#ff0000; stroke:none; fill-opacity:0\" cx=\"694.106\" cy=\"1343.89\" r=\"2\"/>\n<circle clip-path=\"url(#clip762)\" style=\"fill:#ff0000; stroke:none; fill-opacity:0\" cx=\"856.058\" cy=\"1038.39\" r=\"2\"/>\n<circle clip-path=\"url(#clip762)\" style=\"fill:#ff0000; stroke:none; fill-opacity:0\" cx=\"1018.01\" cy=\"732.902\" r=\"2\"/>\n<circle clip-path=\"url(#clip762)\" style=\"fill:#ff0000; stroke:none; fill-opacity:0\" cx=\"1179.96\" cy=\"789.475\" r=\"2\"/>\n<circle clip-path=\"url(#clip762)\" style=\"fill:#ff0000; stroke:none; fill-opacity:0\" cx=\"1341.91\" cy=\"823.418\" r=\"2\"/>\n<circle clip-path=\"url(#clip762)\" style=\"fill:#ff0000; stroke:none; fill-opacity:0\" cx=\"1503.87\" cy=\"1117.6\" r=\"2\"/>\n<circle clip-path=\"url(#clip762)\" style=\"fill:#ff0000; stroke:none; fill-opacity:0\" cx=\"1665.82\" cy=\"1332.57\" r=\"2\"/>\n<circle clip-path=\"url(#clip762)\" style=\"fill:#ff0000; stroke:none; fill-opacity:0\" cx=\"1827.77\" cy=\"1434.4\" r=\"2\"/>\n<circle clip-path=\"url(#clip762)\" style=\"fill:#ff0000; stroke:none; fill-opacity:0\" cx=\"1989.72\" cy=\"1445.72\" r=\"2\"/>\n<circle clip-path=\"url(#clip762)\" style=\"fill:#ff0000; stroke:none; fill-opacity:0\" cx=\"2151.68\" cy=\"1434.4\" r=\"2\"/>\n<path clip-path=\"url(#clip762)\" d=\"\nM775.082 87.9763 L775.082 1445.72 L937.034 1445.72 L937.034 87.9763 L775.082 87.9763 L775.082 87.9763  Z\n  \" fill=\"#0000ff\" fill-rule=\"evenodd\" fill-opacity=\"0.5\"/>\n<polyline clip-path=\"url(#clip762)\" style=\"stroke:#000000; stroke-linecap:round; stroke-linejoin:round; stroke-width:4; stroke-opacity:0.5; fill:none\" points=\"\n  775.082,87.9763 775.082,1445.72 937.034,1445.72 937.034,87.9763 775.082,87.9763 \n  \"/>\n<path clip-path=\"url(#clip762)\" d=\"\nM937.034 1117.6 L937.034 1445.72 L1098.99 1445.72 L1098.99 1117.6 L937.034 1117.6 L937.034 1117.6  Z\n  \" fill=\"#0000ff\" fill-rule=\"evenodd\" fill-opacity=\"0.5\"/>\n<polyline clip-path=\"url(#clip762)\" style=\"stroke:#000000; stroke-linecap:round; stroke-linejoin:round; stroke-width:4; stroke-opacity:0.5; fill:none\" points=\"\n  937.034,1117.6 937.034,1445.72 1098.99,1445.72 1098.99,1117.6 937.034,1117.6 \n  \"/>\n<path clip-path=\"url(#clip762)\" d=\"\nM1098.99 1196.8 L1098.99 1445.72 L1260.94 1445.72 L1260.94 1196.8 L1098.99 1196.8 L1098.99 1196.8  Z\n  \" fill=\"#0000ff\" fill-rule=\"evenodd\" fill-opacity=\"0.5\"/>\n<polyline clip-path=\"url(#clip762)\" style=\"stroke:#000000; stroke-linecap:round; stroke-linejoin:round; stroke-width:4; stroke-opacity:0.5; fill:none\" points=\"\n  1098.99,1196.8 1098.99,1445.72 1260.94,1445.72 1260.94,1196.8 1098.99,1196.8 \n  \"/>\n<path clip-path=\"url(#clip762)\" d=\"\nM1260.94 1117.6 L1260.94 1445.72 L1422.89 1445.72 L1422.89 1117.6 L1260.94 1117.6 L1260.94 1117.6  Z\n  \" fill=\"#0000ff\" fill-rule=\"evenodd\" fill-opacity=\"0.5\"/>\n<polyline clip-path=\"url(#clip762)\" style=\"stroke:#000000; stroke-linecap:round; stroke-linejoin:round; stroke-width:4; stroke-opacity:0.5; fill:none\" points=\"\n  1260.94,1117.6 1260.94,1445.72 1422.89,1445.72 1422.89,1117.6 1260.94,1117.6 \n  \"/>\n<path clip-path=\"url(#clip762)\" d=\"\nM1422.89 1185.48 L1422.89 1445.72 L1584.84 1445.72 L1584.84 1185.48 L1422.89 1185.48 L1422.89 1185.48  Z\n  \" fill=\"#0000ff\" fill-rule=\"evenodd\" fill-opacity=\"0.5\"/>\n<polyline clip-path=\"url(#clip762)\" style=\"stroke:#000000; stroke-linecap:round; stroke-linejoin:round; stroke-width:4; stroke-opacity:0.5; fill:none\" points=\"\n  1422.89,1185.48 1422.89,1445.72 1584.84,1445.72 1584.84,1185.48 1422.89,1185.48 \n  \"/>\n<path clip-path=\"url(#clip762)\" d=\"\nM1584.84 1185.48 L1584.84 1445.72 L1746.8 1445.72 L1746.8 1185.48 L1584.84 1185.48 L1584.84 1185.48  Z\n  \" fill=\"#0000ff\" fill-rule=\"evenodd\" fill-opacity=\"0.5\"/>\n<polyline clip-path=\"url(#clip762)\" style=\"stroke:#000000; stroke-linecap:round; stroke-linejoin:round; stroke-width:4; stroke-opacity:0.5; fill:none\" points=\"\n  1584.84,1185.48 1584.84,1445.72 1746.8,1445.72 1746.8,1185.48 1584.84,1185.48 \n  \"/>\n<path clip-path=\"url(#clip762)\" d=\"\nM1746.8 1276 L1746.8 1445.72 L1908.75 1445.72 L1908.75 1276 L1746.8 1276 L1746.8 1276  Z\n  \" fill=\"#0000ff\" fill-rule=\"evenodd\" fill-opacity=\"0.5\"/>\n<polyline clip-path=\"url(#clip762)\" style=\"stroke:#000000; stroke-linecap:round; stroke-linejoin:round; stroke-width:4; stroke-opacity:0.5; fill:none\" points=\"\n  1746.8,1276 1746.8,1445.72 1908.75,1445.72 1908.75,1276 1746.8,1276 \n  \"/>\n<path clip-path=\"url(#clip762)\" d=\"\nM1908.75 1389.14 L1908.75 1445.72 L2070.7 1445.72 L2070.7 1389.14 L1908.75 1389.14 L1908.75 1389.14  Z\n  \" fill=\"#0000ff\" fill-rule=\"evenodd\" fill-opacity=\"0.5\"/>\n<polyline clip-path=\"url(#clip762)\" style=\"stroke:#000000; stroke-linecap:round; stroke-linejoin:round; stroke-width:4; stroke-opacity:0.5; fill:none\" points=\"\n  1908.75,1389.14 1908.75,1445.72 2070.7,1445.72 2070.7,1389.14 1908.75,1389.14 \n  \"/>\n<path clip-path=\"url(#clip762)\" d=\"\nM2070.7 1411.77 L2070.7 1445.72 L2232.65 1445.72 L2232.65 1411.77 L2070.7 1411.77 L2070.7 1411.77  Z\n  \" fill=\"#0000ff\" fill-rule=\"evenodd\" fill-opacity=\"0.5\"/>\n<polyline clip-path=\"url(#clip762)\" style=\"stroke:#000000; stroke-linecap:round; stroke-linejoin:round; stroke-width:4; stroke-opacity:0.5; fill:none\" points=\"\n  2070.7,1411.77 2070.7,1445.72 2232.65,1445.72 2232.65,1411.77 2070.7,1411.77 \n  \"/>\n<circle clip-path=\"url(#clip762)\" style=\"fill:#0000ff; stroke:none; fill-opacity:0\" cx=\"856.058\" cy=\"87.9763\" r=\"2\"/>\n<circle clip-path=\"url(#clip762)\" style=\"fill:#0000ff; stroke:none; fill-opacity:0\" cx=\"1018.01\" cy=\"1117.6\" r=\"2\"/>\n<circle clip-path=\"url(#clip762)\" style=\"fill:#0000ff; stroke:none; fill-opacity:0\" cx=\"1179.96\" cy=\"1196.8\" r=\"2\"/>\n<circle clip-path=\"url(#clip762)\" style=\"fill:#0000ff; stroke:none; fill-opacity:0\" cx=\"1341.91\" cy=\"1117.6\" r=\"2\"/>\n<circle clip-path=\"url(#clip762)\" style=\"fill:#0000ff; stroke:none; fill-opacity:0\" cx=\"1503.87\" cy=\"1185.48\" r=\"2\"/>\n<circle clip-path=\"url(#clip762)\" style=\"fill:#0000ff; stroke:none; fill-opacity:0\" cx=\"1665.82\" cy=\"1185.48\" r=\"2\"/>\n<circle clip-path=\"url(#clip762)\" style=\"fill:#0000ff; stroke:none; fill-opacity:0\" cx=\"1827.77\" cy=\"1276\" r=\"2\"/>\n<circle clip-path=\"url(#clip762)\" style=\"fill:#0000ff; stroke:none; fill-opacity:0\" cx=\"1989.72\" cy=\"1389.14\" r=\"2\"/>\n<circle clip-path=\"url(#clip762)\" style=\"fill:#0000ff; stroke:none; fill-opacity:0\" cx=\"2151.68\" cy=\"1411.77\" r=\"2\"/>\n<path clip-path=\"url(#clip760)\" d=\"\nM1938.15 250.738 L2279.97 250.738 L2279.97 95.2176 L1938.15 95.2176  Z\n  \" fill=\"#ffffff\" fill-rule=\"evenodd\" fill-opacity=\"1\"/>\n<polyline clip-path=\"url(#clip760)\" style=\"stroke:#000000; stroke-linecap:round; stroke-linejoin:round; stroke-width:4; stroke-opacity:1; fill:none\" points=\"\n  1938.15,250.738 2279.97,250.738 2279.97,95.2176 1938.15,95.2176 1938.15,250.738 \n  \"/>\n<path clip-path=\"url(#clip760)\" d=\"\nM2107.99 167.794 L1962.42 167.794 L1962.42 126.322 L2107.99 126.322 L2107.99 167.794  Z\n  \" fill=\"#ff0000\" fill-rule=\"evenodd\" fill-opacity=\"0.5\"/>\n<polyline clip-path=\"url(#clip760)\" style=\"stroke:#000000; stroke-linecap:round; stroke-linejoin:round; stroke-width:4; stroke-opacity:1; fill:none\" points=\"\n  2107.99,167.794 1962.42,167.794 1962.42,126.322 2107.99,126.322 2107.99,167.794 \n  \"/>\n<path clip-path=\"url(#clip760)\" d=\"M2136.54 160.449 L2136.54 174.199 L2132.25 174.199 L2132.25 138.412 L2136.54 138.412 L2136.54 142.347 Q2137.88 140.032 2139.92 138.921 Q2141.98 137.787 2144.82 137.787 Q2149.55 137.787 2152.48 141.537 Q2155.45 145.287 2155.45 151.398 Q2155.45 157.509 2152.48 161.259 Q2149.55 165.009 2144.82 165.009 Q2141.98 165.009 2139.92 163.898 Q2137.88 162.763 2136.54 160.449 M2151.03 151.398 Q2151.03 146.699 2149.08 144.037 Q2147.16 141.352 2143.78 141.352 Q2140.4 141.352 2138.46 144.037 Q2136.54 146.699 2136.54 151.398 Q2136.54 156.097 2138.46 158.782 Q2140.4 161.444 2143.78 161.444 Q2147.16 161.444 2149.08 158.782 Q2151.03 156.097 2151.03 151.398 Z\" fill=\"#000000\" fill-rule=\"evenodd\" fill-opacity=\"1\" /><path clip-path=\"url(#clip760)\" d=\"M2177.53 142.393 Q2176.81 141.977 2175.96 141.791 Q2175.12 141.583 2174.11 141.583 Q2170.49 141.583 2168.55 143.944 Q2166.63 146.282 2166.63 150.68 L2166.63 164.338 L2162.35 164.338 L2162.35 138.412 L2166.63 138.412 L2166.63 142.44 Q2167.97 140.078 2170.12 138.944 Q2172.28 137.787 2175.36 137.787 Q2175.8 137.787 2176.33 137.856 Q2176.86 137.903 2177.51 138.018 L2177.53 142.393 Z\" fill=\"#000000\" fill-rule=\"evenodd\" fill-opacity=\"1\" /><path clip-path=\"url(#clip760)\" d=\"M2203.13 150.31 L2203.13 152.393 L2183.55 152.393 Q2183.83 156.791 2186.19 159.106 Q2188.57 161.398 2192.81 161.398 Q2195.26 161.398 2197.55 160.796 Q2199.87 160.194 2202.14 158.99 L2202.14 163.018 Q2199.85 163.99 2197.44 164.5 Q2195.03 165.009 2192.55 165.009 Q2186.35 165.009 2182.72 161.398 Q2179.11 157.787 2179.11 151.629 Q2179.11 145.264 2182.53 141.537 Q2185.98 137.787 2191.81 137.787 Q2197.04 137.787 2200.08 141.166 Q2203.13 144.523 2203.13 150.31 M2198.87 149.06 Q2198.83 145.565 2196.91 143.481 Q2195.01 141.398 2191.86 141.398 Q2188.29 141.398 2186.14 143.412 Q2184.01 145.426 2183.69 149.083 L2198.87 149.06 Z\" fill=\"#000000\" fill-rule=\"evenodd\" fill-opacity=\"1\" /><path clip-path=\"url(#clip760)\" d=\"M2227.18 142.347 L2227.18 128.319 L2231.44 128.319 L2231.44 164.338 L2227.18 164.338 L2227.18 160.449 Q2225.84 162.763 2223.78 163.898 Q2221.74 165.009 2218.87 165.009 Q2214.17 165.009 2211.21 161.259 Q2208.27 157.509 2208.27 151.398 Q2208.27 145.287 2211.21 141.537 Q2214.17 137.787 2218.87 137.787 Q2221.74 137.787 2223.78 138.921 Q2225.84 140.032 2227.18 142.347 M2212.67 151.398 Q2212.67 156.097 2214.59 158.782 Q2216.54 161.444 2219.92 161.444 Q2223.29 161.444 2225.24 158.782 Q2227.18 156.097 2227.18 151.398 Q2227.18 146.699 2225.24 144.037 Q2223.29 141.352 2219.92 141.352 Q2216.54 141.352 2214.59 144.037 Q2212.67 146.699 2212.67 151.398 Z\" fill=\"#000000\" fill-rule=\"evenodd\" fill-opacity=\"1\" /><path clip-path=\"url(#clip760)\" d=\"\nM2107.99 219.634 L1962.42 219.634 L1962.42 178.162 L2107.99 178.162 L2107.99 219.634  Z\n  \" fill=\"#0000ff\" fill-rule=\"evenodd\" fill-opacity=\"0.5\"/>\n<polyline clip-path=\"url(#clip760)\" style=\"stroke:#000000; stroke-linecap:round; stroke-linejoin:round; stroke-width:4; stroke-opacity:1; fill:none\" points=\"\n  2107.99,219.634 1962.42,219.634 1962.42,178.162 2107.99,178.162 2107.99,219.634 \n  \"/>\n<path clip-path=\"url(#clip760)\" d=\"M2139.66 182.891 L2139.66 190.252 L2148.43 190.252 L2148.43 193.562 L2139.66 193.562 L2139.66 207.636 Q2139.66 210.807 2140.52 211.71 Q2141.4 212.613 2144.06 212.613 L2148.43 212.613 L2148.43 216.178 L2144.06 216.178 Q2139.13 216.178 2137.25 214.349 Q2135.38 212.497 2135.38 207.636 L2135.38 193.562 L2132.25 193.562 L2132.25 190.252 L2135.38 190.252 L2135.38 182.891 L2139.66 182.891 Z\" fill=\"#000000\" fill-rule=\"evenodd\" fill-opacity=\"1\" /><path clip-path=\"url(#clip760)\" d=\"M2176.21 202.15 L2176.21 204.233 L2156.63 204.233 Q2156.91 208.631 2159.27 210.946 Q2161.65 213.238 2165.89 213.238 Q2168.34 213.238 2170.63 212.636 Q2172.95 212.034 2175.22 210.83 L2175.22 214.858 Q2172.92 215.83 2170.52 216.34 Q2168.11 216.849 2165.63 216.849 Q2159.43 216.849 2155.8 213.238 Q2152.18 209.627 2152.18 203.469 Q2152.18 197.104 2155.61 193.377 Q2159.06 189.627 2164.89 189.627 Q2170.12 189.627 2173.16 193.006 Q2176.21 196.363 2176.21 202.15 M2171.95 200.9 Q2171.91 197.405 2169.98 195.321 Q2168.09 193.238 2164.94 193.238 Q2161.37 193.238 2159.22 195.252 Q2157.09 197.266 2156.77 200.923 L2171.95 200.9 Z\" fill=\"#000000\" fill-rule=\"evenodd\" fill-opacity=\"1\" /><path clip-path=\"url(#clip760)\" d=\"M2199.73 191.016 L2199.73 195.043 Q2197.92 194.117 2195.98 193.655 Q2194.04 193.192 2191.95 193.192 Q2188.78 193.192 2187.18 194.164 Q2185.61 195.136 2185.61 197.08 Q2185.61 198.562 2186.74 199.418 Q2187.88 200.252 2191.3 201.016 L2192.76 201.34 Q2197.3 202.312 2199.2 204.094 Q2201.12 205.854 2201.12 209.025 Q2201.12 212.636 2198.25 214.742 Q2195.4 216.849 2190.4 216.849 Q2188.32 216.849 2186.05 216.432 Q2183.8 216.039 2181.3 215.228 L2181.3 210.83 Q2183.67 212.057 2185.96 212.682 Q2188.25 213.284 2190.49 213.284 Q2193.5 213.284 2195.12 212.266 Q2196.74 211.224 2196.74 209.349 Q2196.74 207.613 2195.56 206.687 Q2194.41 205.761 2190.45 204.904 L2188.97 204.557 Q2185.01 203.724 2183.25 202.011 Q2181.49 200.275 2181.49 197.266 Q2181.49 193.608 2184.08 191.618 Q2186.67 189.627 2191.44 189.627 Q2193.8 189.627 2195.89 189.974 Q2197.97 190.321 2199.73 191.016 Z\" fill=\"#000000\" fill-rule=\"evenodd\" fill-opacity=\"1\" /><path clip-path=\"url(#clip760)\" d=\"M2212.11 182.891 L2212.11 190.252 L2220.89 190.252 L2220.89 193.562 L2212.11 193.562 L2212.11 207.636 Q2212.11 210.807 2212.97 211.71 Q2213.85 212.613 2216.51 212.613 L2220.89 212.613 L2220.89 216.178 L2216.51 216.178 Q2211.58 216.178 2209.71 214.349 Q2207.83 212.497 2207.83 207.636 L2207.83 193.562 L2204.71 193.562 L2204.71 190.252 L2207.83 190.252 L2207.83 182.891 L2212.11 182.891 Z\" fill=\"#000000\" fill-rule=\"evenodd\" fill-opacity=\"1\" /></svg>\n"
     },
     "metadata": {},
     "output_type": "display_data"
    }
   ],
   "source": [
    "HolReg_betas = Holistic_model(train_valid, test);\n",
    "\n",
    "# save the predictions\n",
    "features_keep_sorted = [i for (i, beta) in enumerate(HolReg_betas) if beta != 0]\n",
    "HolReg_pred = Matrix(transform_data(get_features(test))[:, features_keep_sorted]) * HolReg_betas[features_keep_sorted]\n",
    "CSV.write(\"HolReg_pred.csv\", DataFrame(pred = HolReg_pred));"
   ]
  },
  {
   "cell_type": "code",
   "execution_count": 26,
   "metadata": {},
   "outputs": [
    {
     "data": {
      "text/html": [
       "<div><div style = \"float: left;\"><span>1×4 DataFrame</span></div><div style = \"clear: both;\"></div></div><div class = \"data-frame\" style = \"overflow-x: scroll;\"><table class = \"data-frame\" style = \"margin-bottom: 6px;\"><thead><tr class = \"header\"><th class = \"rowNumber\" style = \"font-weight: bold; text-align: right;\">Row</th><th style = \"text-align: left;\">mae</th><th style = \"text-align: left;\">mse</th><th style = \"text-align: left;\">rmse</th><th style = \"text-align: left;\">osr2</th></tr><tr class = \"subheader headerLastRow\"><th class = \"rowNumber\" style = \"font-weight: bold; text-align: right;\"></th><th title = \"Float64\" style = \"text-align: left;\">Float64</th><th title = \"Float64\" style = \"text-align: left;\">Float64</th><th title = \"Float64\" style = \"text-align: left;\">Float64</th><th title = \"Float64\" style = \"text-align: left;\">Float64</th></tr></thead><tbody><tr><td class = \"rowNumber\" style = \"font-weight: bold; text-align: right;\">1</td><td style = \"text-align: right;\">4.43635</td><td style = \"text-align: right;\">81.8851</td><td style = \"text-align: right;\">9.04904</td><td style = \"text-align: right;\">0.334941</td></tr></tbody></table></div>"
      ],
      "text/latex": [
       "\\begin{tabular}{r|cccc}\n",
       "\t& mae & mse & rmse & osr2\\\\\n",
       "\t\\hline\n",
       "\t& Float64 & Float64 & Float64 & Float64\\\\\n",
       "\t\\hline\n",
       "\t1 & 4.43635 & 81.8851 & 9.04904 & 0.334941 \\\\\n",
       "\\end{tabular}\n"
      ],
      "text/plain": [
       "\u001b[1m1×4 DataFrame\n",
       "\u001b[1m Row │\u001b[1m mae     \u001b[1m mse     \u001b[1m rmse    \u001b[1m osr2\n",
       "     │\u001b[90m Float64 \u001b[90m Float64 \u001b[90m Float64 \u001b[90m Float64\n",
       "─────┼─────────────────────────────────────\n",
       "   1 │ 4.43635  81.8851  9.04904  0.334941"
      ]
     },
     "metadata": {},
     "output_type": "display_data"
    }
   ],
   "source": [
    "# transfrom and results HolReg_pred\n",
    "transform_and_results(HolReg_pred, get_target(test))"
   ]
  },
  {
   "cell_type": "code",
   "execution_count": null,
   "metadata": {},
   "outputs": [],
   "source": []
  }
 ],
 "metadata": {
  "kernelspec": {
   "display_name": "Julia (IAI) (fk le bogos) 1.8.2",
   "language": "julia",
   "name": "julia-(iai)-(fk-le-bogos)-1.8"
  },
  "language_info": {
   "file_extension": ".jl",
   "mimetype": "application/julia",
   "name": "julia",
   "version": "1.8.2"
  },
  "orig_nbformat": 4
 },
 "nbformat": 4,
 "nbformat_minor": 2
}
