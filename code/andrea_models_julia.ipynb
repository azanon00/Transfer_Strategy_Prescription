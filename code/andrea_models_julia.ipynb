{
 "cells": [
  {
   "cell_type": "code",
   "execution_count": 1,
   "metadata": {},
   "outputs": [],
   "source": [
    "using DataFrames, CSV, JuMP, Gurobi, Metrics, Plots, StatsBase"
   ]
  },
  {
   "cell_type": "code",
   "execution_count": 2,
   "metadata": {},
   "outputs": [],
   "source": [
    "# load data\n",
    "train_valid = CSV.read(\"train_valid.csv\", DataFrame)\n",
    "test = CSV.read(\"test.csv\", DataFrame);"
   ]
  },
  {
   "cell_type": "code",
   "execution_count": 3,
   "metadata": {},
   "outputs": [],
   "source": [
    "# define target and features\n",
    "target = \"fee\";"
   ]
  },
  {
   "cell_type": "markdown",
   "metadata": {},
   "source": [
    "## Define functions that will be used across models"
   ]
  },
  {
   "cell_type": "code",
   "execution_count": 4,
   "metadata": {},
   "outputs": [
    {
     "data": {
      "text/plain": [
       "get_features (generic function with 1 method)"
      ]
     },
     "execution_count": 4,
     "metadata": {},
     "output_type": "execute_result"
    }
   ],
   "source": [
    "function get_features(df)\n",
    "    return select(df, Not(target))\n",
    "end"
   ]
  },
  {
   "cell_type": "code",
   "execution_count": 5,
   "metadata": {},
   "outputs": [
    {
     "data": {
      "text/plain": [
       "get_target (generic function with 1 method)"
      ]
     },
     "execution_count": 5,
     "metadata": {},
     "output_type": "execute_result"
    }
   ],
   "source": [
    "function get_target(df)\n",
    "\n",
    "    # apply log transform, since the target is skewed\n",
    "    return log.(df[:, target] .+ 1)\n",
    "end"
   ]
  },
  {
   "cell_type": "code",
   "execution_count": 6,
   "metadata": {},
   "outputs": [
    {
     "data": {
      "text/plain": [
       "transform_and_results (generic function with 1 method)"
      ]
     },
     "execution_count": 6,
     "metadata": {},
     "output_type": "execute_result"
    }
   ],
   "source": [
    "function compute_results(pred, test)\n",
    "    # compute the mean absolute error\n",
    "    mae = Metrics.mae(pred, test)\n",
    "    # compute the mean squared error\n",
    "    mse = Metrics.mse(pred, test)\n",
    "    # compute the root mean squared error\n",
    "    rmse = sqrt.(mse)\n",
    "    # compute the r2\n",
    "    osr2 = 1 - sum((test .- pred).^2) / sum((test .- mean(test)).^2)\n",
    "\n",
    "    # turn into dataframe\n",
    "    results = DataFrame(mae = mae, mse = mse, rmse = rmse, osr2 = osr2)\n",
    "\n",
    "    # print the results\n",
    "    display(results)\n",
    "end\n",
    "\n",
    "function transform_and_results(pred, test)\n",
    "    # apply the inverse log transform\n",
    "    pred = exp.(pred) .- 1\n",
    "    test = exp.(test) .- 1\n",
    "\n",
    "    # compute the results\n",
    "    compute_results(pred, test)\n",
    "end"
   ]
  },
  {
   "cell_type": "code",
   "execution_count": 7,
   "metadata": {},
   "outputs": [
    {
     "data": {
      "text/plain": [
       "check_prediction_value (generic function with 1 method)"
      ]
     },
     "execution_count": 7,
     "metadata": {},
     "output_type": "execute_result"
    }
   ],
   "source": [
    "function check_prediction_value(pred, test)\n",
    "\n",
    "    # set plot dimensions\n",
    "    plot_size = (800, 400)\n",
    "    \n",
    "    histogram(pred, label = \"pred\", color = \"red\", seriesalpha = 0.5)\n",
    "    display(histogram!(test, label = \"test\", color = \"blue\", seriesalpha = 0.5))\n",
    "\n",
    "end"
   ]
  },
  {
   "cell_type": "markdown",
   "metadata": {},
   "source": [
    "## ORT (Optimal Regression Trees)"
   ]
  },
  {
   "cell_type": "code",
   "execution_count": 8,
   "metadata": {},
   "outputs": [],
   "source": [
    "# define ranges for the hyperparameters\n",
    "max_depth = [3, 4, 5]\n",
    "minbucket = [2, 5, 10]\n",
    ";"
   ]
  },
  {
   "cell_type": "code",
   "execution_count": 9,
   "metadata": {},
   "outputs": [
    {
     "data": {
      "text/plain": [
       "ORT_model (generic function with 1 method)"
      ]
     },
     "execution_count": 9,
     "metadata": {},
     "output_type": "execute_result"
    }
   ],
   "source": [
    "function ORT_model(train_valid, test)\n",
    "\n",
    "    # define the model  \n",
    "    model_oct = IAI.OptimalTreeRegressor(\n",
    "        random_seed = 1,\n",
    "        criterion = :mse,\n",
    "    )\n",
    "\n",
    "    println(\"Training model...\")\n",
    "\n",
    "    # define the grid\n",
    "    grid_oct = IAI.GridSearch(\n",
    "        model_oct,\n",
    "        max_depth = max_depth,\n",
    "        minbucket = minbucket,\n",
    "    )\n",
    "\n",
    "    println(\"Fitting model...\")\n",
    "\n",
    "    # fit the model with 5-fold cross validation\n",
    "    IAI.fit_cv!(grid_oct,\n",
    "     get_features(train_valid), \n",
    "     get_target(train_valid), \n",
    "     #train_valid[:, target],\n",
    "     validation_criterion = :mse, n_folds=5)\n",
    "\n",
    "    println(\"Predicting...\")\n",
    "\n",
    "    # get the best model\n",
    "    pred = IAI.predict(grid_oct, get_features(test))\n",
    "\n",
    "    println(\"Computing results...\")\n",
    "\n",
    "    # compute the results\n",
    "    #compute_results(pred, get_target(test))\n",
    "    transform_and_results(pred, get_target(test))\n",
    "\n",
    "    # check the prediction value\n",
    "    check_prediction_value(pred, get_target(test))\n",
    "\n",
    "    # return the best model\n",
    "    return IAI.get_learner(grid_oct)\n",
    "end"
   ]
  },
  {
   "cell_type": "code",
   "execution_count": 10,
   "metadata": {},
   "outputs": [
    {
     "name": "stdout",
     "output_type": "stream",
     "text": [
      "Training model...\n",
      "Fitting model...\n"
     ]
    },
    {
     "name": "stderr",
     "output_type": "stream",
     "text": [
      "┌ Warning: This copy of Interpretable AI software is for academic purposes only and not for commercial use.\n",
      "└ @ nothing nothing:nothing\n",
      "┌ Warning: Interpretable AI license expires soon: 2022-12-31T00:00:00. If you need to renew, please send us the following machine ID:\n",
      "│ 7c794baeeadd5d7316f791ae6aac034089a6052cce19227d0af4d9df82ac2e5c\n",
      "└ @ nothing nothing:nothing\n"
     ]
    },
    {
     "name": "stdout",
     "output_type": "stream",
     "text": [
      "Predicting...\n",
      "Computing results...\n"
     ]
    },
    {
     "data": {
      "text/html": [
       "<div><div style = \"float: left;\"><span>1×4 DataFrame</span></div><div style = \"clear: both;\"></div></div><div class = \"data-frame\" style = \"overflow-x: scroll;\"><table class = \"data-frame\" style = \"margin-bottom: 6px;\"><thead><tr class = \"header\"><th class = \"rowNumber\" style = \"font-weight: bold; text-align: right;\">Row</th><th style = \"text-align: left;\">mae</th><th style = \"text-align: left;\">mse</th><th style = \"text-align: left;\">rmse</th><th style = \"text-align: left;\">osr2</th></tr><tr class = \"subheader headerLastRow\"><th class = \"rowNumber\" style = \"font-weight: bold; text-align: right;\"></th><th title = \"Float64\" style = \"text-align: left;\">Float64</th><th title = \"Float64\" style = \"text-align: left;\">Float64</th><th title = \"Float64\" style = \"text-align: left;\">Float64</th><th title = \"Float64\" style = \"text-align: left;\">Float64</th></tr></thead><tbody><tr><td class = \"rowNumber\" style = \"font-weight: bold; text-align: right;\">1</td><td style = \"text-align: right;\">4.64633</td><td style = \"text-align: right;\">87.9354</td><td style = \"text-align: right;\">9.37739</td><td style = \"text-align: right;\">0.285801</td></tr></tbody></table></div>"
      ],
      "text/latex": [
       "\\begin{tabular}{r|cccc}\n",
       "\t& mae & mse & rmse & osr2\\\\\n",
       "\t\\hline\n",
       "\t& Float64 & Float64 & Float64 & Float64\\\\\n",
       "\t\\hline\n",
       "\t1 & 4.64633 & 87.9354 & 9.37739 & 0.285801 \\\\\n",
       "\\end{tabular}\n"
      ],
      "text/plain": [
       "\u001b[1m1×4 DataFrame\n",
       "\u001b[1m Row │\u001b[1m mae     \u001b[1m mse     \u001b[1m rmse    \u001b[1m osr2\n",
       "     │\u001b[90m Float64 \u001b[90m Float64 \u001b[90m Float64 \u001b[90m Float64\n",
       "─────┼─────────────────────────────────────\n",
       "   1 │ 4.64633  87.9354  9.37739  0.285801"
      ]
     },
     "metadata": {},
     "output_type": "display_data"
    },
    {
     "data": {
      "image/svg+xml": "<?xml version=\"1.0\" encoding=\"utf-8\"?>\n<svg xmlns=\"http://www.w3.org/2000/svg\" xmlns:xlink=\"http://www.w3.org/1999/xlink\" width=\"600\" height=\"400\" viewBox=\"0 0 2400 1600\">\n<defs>\n  <clipPath id=\"clip520\">\n    <rect x=\"0\" y=\"0\" width=\"2400\" height=\"1600\"/>\n  </clipPath>\n</defs>\n<path clip-path=\"url(#clip520)\" d=\"\nM0 1600 L2400 1600 L2400 0 L0 0  Z\n  \" fill=\"#ffffff\" fill-rule=\"evenodd\" fill-opacity=\"1\"/>\n<defs>\n  <clipPath id=\"clip521\">\n    <rect x=\"480\" y=\"0\" width=\"1681\" height=\"1600\"/>\n  </clipPath>\n</defs>\n<path clip-path=\"url(#clip520)\" d=\"\nM169.121 1486.45 L2352.76 1486.45 L2352.76 47.2441 L169.121 47.2441  Z\n  \" fill=\"#ffffff\" fill-rule=\"evenodd\" fill-opacity=\"1\"/>\n<defs>\n  <clipPath id=\"clip522\">\n    <rect x=\"169\" y=\"47\" width=\"2185\" height=\"1440\"/>\n  </clipPath>\n</defs>\n<polyline clip-path=\"url(#clip522)\" style=\"stroke:#000000; stroke-linecap:round; stroke-linejoin:round; stroke-width:2; stroke-opacity:0.1; fill:none\" points=\"\n  289.225,1486.45 289.225,47.2441 \n  \"/>\n<polyline clip-path=\"url(#clip522)\" style=\"stroke:#000000; stroke-linecap:round; stroke-linejoin:round; stroke-width:2; stroke-opacity:0.1; fill:none\" points=\"\n  721.098,1486.45 721.098,47.2441 \n  \"/>\n<polyline clip-path=\"url(#clip522)\" style=\"stroke:#000000; stroke-linecap:round; stroke-linejoin:round; stroke-width:2; stroke-opacity:0.1; fill:none\" points=\"\n  1152.97,1486.45 1152.97,47.2441 \n  \"/>\n<polyline clip-path=\"url(#clip522)\" style=\"stroke:#000000; stroke-linecap:round; stroke-linejoin:round; stroke-width:2; stroke-opacity:0.1; fill:none\" points=\"\n  1584.84,1486.45 1584.84,47.2441 \n  \"/>\n<polyline clip-path=\"url(#clip522)\" style=\"stroke:#000000; stroke-linecap:round; stroke-linejoin:round; stroke-width:2; stroke-opacity:0.1; fill:none\" points=\"\n  2016.72,1486.45 2016.72,47.2441 \n  \"/>\n<polyline clip-path=\"url(#clip520)\" style=\"stroke:#000000; stroke-linecap:round; stroke-linejoin:round; stroke-width:4; stroke-opacity:1; fill:none\" points=\"\n  169.121,1486.45 2352.76,1486.45 \n  \"/>\n<polyline clip-path=\"url(#clip520)\" style=\"stroke:#000000; stroke-linecap:round; stroke-linejoin:round; stroke-width:4; stroke-opacity:1; fill:none\" points=\"\n  289.225,1486.45 289.225,1467.55 \n  \"/>\n<polyline clip-path=\"url(#clip520)\" style=\"stroke:#000000; stroke-linecap:round; stroke-linejoin:round; stroke-width:4; stroke-opacity:1; fill:none\" points=\"\n  721.098,1486.45 721.098,1467.55 \n  \"/>\n<polyline clip-path=\"url(#clip520)\" style=\"stroke:#000000; stroke-linecap:round; stroke-linejoin:round; stroke-width:4; stroke-opacity:1; fill:none\" points=\"\n  1152.97,1486.45 1152.97,1467.55 \n  \"/>\n<polyline clip-path=\"url(#clip520)\" style=\"stroke:#000000; stroke-linecap:round; stroke-linejoin:round; stroke-width:4; stroke-opacity:1; fill:none\" points=\"\n  1584.84,1486.45 1584.84,1467.55 \n  \"/>\n<polyline clip-path=\"url(#clip520)\" style=\"stroke:#000000; stroke-linecap:round; stroke-linejoin:round; stroke-width:4; stroke-opacity:1; fill:none\" points=\"\n  2016.72,1486.45 2016.72,1467.55 \n  \"/>\n<path clip-path=\"url(#clip520)\" d=\"M289.225 1517.37 Q285.614 1517.37 283.785 1520.93 Q281.98 1524.47 281.98 1531.6 Q281.98 1538.71 283.785 1542.27 Q285.614 1545.82 289.225 1545.82 Q292.859 1545.82 294.665 1542.27 Q296.494 1538.71 296.494 1531.6 Q296.494 1524.47 294.665 1520.93 Q292.859 1517.37 289.225 1517.37 M289.225 1513.66 Q295.035 1513.66 298.091 1518.27 Q301.169 1522.85 301.169 1531.6 Q301.169 1540.33 298.091 1544.94 Q295.035 1549.52 289.225 1549.52 Q283.415 1549.52 280.336 1544.94 Q277.281 1540.33 277.281 1531.6 Q277.281 1522.85 280.336 1518.27 Q283.415 1513.66 289.225 1513.66 Z\" fill=\"#000000\" fill-rule=\"evenodd\" fill-opacity=\"1\" /><path clip-path=\"url(#clip520)\" d=\"M711.48 1544.91 L719.119 1544.91 L719.119 1518.55 L710.808 1520.21 L710.808 1515.95 L719.072 1514.29 L723.748 1514.29 L723.748 1544.91 L731.387 1544.91 L731.387 1548.85 L711.48 1548.85 L711.48 1544.91 Z\" fill=\"#000000\" fill-rule=\"evenodd\" fill-opacity=\"1\" /><path clip-path=\"url(#clip520)\" d=\"M1147.62 1544.91 L1163.94 1544.91 L1163.94 1548.85 L1142 1548.85 L1142 1544.91 Q1144.66 1542.16 1149.24 1537.53 Q1153.85 1532.88 1155.03 1531.53 Q1157.28 1529.01 1158.16 1527.27 Q1159.06 1525.51 1159.06 1523.82 Q1159.06 1521.07 1157.11 1519.33 Q1155.19 1517.6 1152.09 1517.6 Q1149.89 1517.6 1147.44 1518.36 Q1145.01 1519.13 1142.23 1520.68 L1142.23 1515.95 Q1145.05 1514.82 1147.51 1514.24 Q1149.96 1513.66 1152 1513.66 Q1157.37 1513.66 1160.56 1516.35 Q1163.76 1519.03 1163.76 1523.52 Q1163.76 1525.65 1162.95 1527.57 Q1162.16 1529.47 1160.05 1532.07 Q1159.48 1532.74 1156.37 1535.95 Q1153.27 1539.15 1147.62 1544.91 Z\" fill=\"#000000\" fill-rule=\"evenodd\" fill-opacity=\"1\" /><path clip-path=\"url(#clip520)\" d=\"M1589.09 1530.21 Q1592.45 1530.93 1594.32 1533.2 Q1596.22 1535.47 1596.22 1538.8 Q1596.22 1543.92 1592.7 1546.72 Q1589.18 1549.52 1582.7 1549.52 Q1580.53 1549.52 1578.21 1549.08 Q1575.92 1548.66 1573.47 1547.81 L1573.47 1543.29 Q1575.41 1544.43 1577.73 1545.01 Q1580.04 1545.58 1582.56 1545.58 Q1586.96 1545.58 1589.25 1543.85 Q1591.57 1542.11 1591.57 1538.8 Q1591.57 1535.75 1589.41 1534.03 Q1587.29 1532.3 1583.47 1532.3 L1579.44 1532.3 L1579.44 1528.45 L1583.65 1528.45 Q1587.1 1528.45 1588.93 1527.09 Q1590.76 1525.7 1590.76 1523.11 Q1590.76 1520.45 1588.86 1519.03 Q1586.98 1517.6 1583.47 1517.6 Q1581.54 1517.6 1579.35 1518.01 Q1577.15 1518.43 1574.51 1519.31 L1574.51 1515.14 Q1577.17 1514.4 1579.48 1514.03 Q1581.82 1513.66 1583.88 1513.66 Q1589.21 1513.66 1592.31 1516.09 Q1595.41 1518.5 1595.41 1522.62 Q1595.41 1525.49 1593.77 1527.48 Q1592.12 1529.45 1589.09 1530.21 Z\" fill=\"#000000\" fill-rule=\"evenodd\" fill-opacity=\"1\" /><path clip-path=\"url(#clip520)\" d=\"M2019.73 1518.36 L2007.92 1536.81 L2019.73 1536.81 L2019.73 1518.36 M2018.5 1514.29 L2024.38 1514.29 L2024.38 1536.81 L2029.31 1536.81 L2029.31 1540.7 L2024.38 1540.7 L2024.38 1548.85 L2019.73 1548.85 L2019.73 1540.7 L2004.12 1540.7 L2004.12 1536.19 L2018.5 1514.29 Z\" fill=\"#000000\" fill-rule=\"evenodd\" fill-opacity=\"1\" /><polyline clip-path=\"url(#clip522)\" style=\"stroke:#000000; stroke-linecap:round; stroke-linejoin:round; stroke-width:2; stroke-opacity:0.1; fill:none\" points=\"\n  169.121,1445.72 2352.76,1445.72 \n  \"/>\n<polyline clip-path=\"url(#clip522)\" style=\"stroke:#000000; stroke-linecap:round; stroke-linejoin:round; stroke-width:2; stroke-opacity:0.1; fill:none\" points=\"\n  169.121,1226.73 2352.76,1226.73 \n  \"/>\n<polyline clip-path=\"url(#clip522)\" style=\"stroke:#000000; stroke-linecap:round; stroke-linejoin:round; stroke-width:2; stroke-opacity:0.1; fill:none\" points=\"\n  169.121,1007.74 2352.76,1007.74 \n  \"/>\n<polyline clip-path=\"url(#clip522)\" style=\"stroke:#000000; stroke-linecap:round; stroke-linejoin:round; stroke-width:2; stroke-opacity:0.1; fill:none\" points=\"\n  169.121,788.745 2352.76,788.745 \n  \"/>\n<polyline clip-path=\"url(#clip522)\" style=\"stroke:#000000; stroke-linecap:round; stroke-linejoin:round; stroke-width:2; stroke-opacity:0.1; fill:none\" points=\"\n  169.121,569.755 2352.76,569.755 \n  \"/>\n<polyline clip-path=\"url(#clip522)\" style=\"stroke:#000000; stroke-linecap:round; stroke-linejoin:round; stroke-width:2; stroke-opacity:0.1; fill:none\" points=\"\n  169.121,350.765 2352.76,350.765 \n  \"/>\n<polyline clip-path=\"url(#clip522)\" style=\"stroke:#000000; stroke-linecap:round; stroke-linejoin:round; stroke-width:2; stroke-opacity:0.1; fill:none\" points=\"\n  169.121,131.774 2352.76,131.774 \n  \"/>\n<polyline clip-path=\"url(#clip520)\" style=\"stroke:#000000; stroke-linecap:round; stroke-linejoin:round; stroke-width:4; stroke-opacity:1; fill:none\" points=\"\n  169.121,1486.45 169.121,47.2441 \n  \"/>\n<polyline clip-path=\"url(#clip520)\" style=\"stroke:#000000; stroke-linecap:round; stroke-linejoin:round; stroke-width:4; stroke-opacity:1; fill:none\" points=\"\n  169.121,1445.72 188.019,1445.72 \n  \"/>\n<polyline clip-path=\"url(#clip520)\" style=\"stroke:#000000; stroke-linecap:round; stroke-linejoin:round; stroke-width:4; stroke-opacity:1; fill:none\" points=\"\n  169.121,1226.73 188.019,1226.73 \n  \"/>\n<polyline clip-path=\"url(#clip520)\" style=\"stroke:#000000; stroke-linecap:round; stroke-linejoin:round; stroke-width:4; stroke-opacity:1; fill:none\" points=\"\n  169.121,1007.74 188.019,1007.74 \n  \"/>\n<polyline clip-path=\"url(#clip520)\" style=\"stroke:#000000; stroke-linecap:round; stroke-linejoin:round; stroke-width:4; stroke-opacity:1; fill:none\" points=\"\n  169.121,788.745 188.019,788.745 \n  \"/>\n<polyline clip-path=\"url(#clip520)\" style=\"stroke:#000000; stroke-linecap:round; stroke-linejoin:round; stroke-width:4; stroke-opacity:1; fill:none\" points=\"\n  169.121,569.755 188.019,569.755 \n  \"/>\n<polyline clip-path=\"url(#clip520)\" style=\"stroke:#000000; stroke-linecap:round; stroke-linejoin:round; stroke-width:4; stroke-opacity:1; fill:none\" points=\"\n  169.121,350.765 188.019,350.765 \n  \"/>\n<polyline clip-path=\"url(#clip520)\" style=\"stroke:#000000; stroke-linecap:round; stroke-linejoin:round; stroke-width:4; stroke-opacity:1; fill:none\" points=\"\n  169.121,131.774 188.019,131.774 \n  \"/>\n<path clip-path=\"url(#clip520)\" d=\"M121.177 1431.51 Q117.566 1431.51 115.737 1435.08 Q113.932 1438.62 113.932 1445.75 Q113.932 1452.86 115.737 1456.42 Q117.566 1459.96 121.177 1459.96 Q124.811 1459.96 126.617 1456.42 Q128.445 1452.86 128.445 1445.75 Q128.445 1438.62 126.617 1435.08 Q124.811 1431.51 121.177 1431.51 M121.177 1427.81 Q126.987 1427.81 130.043 1432.42 Q133.121 1437 133.121 1445.75 Q133.121 1454.48 130.043 1459.08 Q126.987 1463.67 121.177 1463.67 Q115.367 1463.67 112.288 1459.08 Q109.233 1454.48 109.233 1445.75 Q109.233 1437 112.288 1432.42 Q115.367 1427.81 121.177 1427.81 Z\" fill=\"#000000\" fill-rule=\"evenodd\" fill-opacity=\"1\" /><path clip-path=\"url(#clip520)\" d=\"M85.0429 1240.07 L101.362 1240.07 L101.362 1244.01 L79.4179 1244.01 L79.4179 1240.07 Q82.0799 1237.32 86.6632 1232.69 Q91.2697 1228.03 92.4502 1226.69 Q94.6956 1224.17 95.5752 1222.43 Q96.478 1220.67 96.478 1218.98 Q96.478 1216.23 94.5336 1214.49 Q92.6123 1212.76 89.5104 1212.76 Q87.3114 1212.76 84.8577 1213.52 Q82.4271 1214.28 79.6494 1215.83 L79.6494 1211.11 Q82.4734 1209.98 84.9271 1209.4 Q87.3808 1208.82 89.4178 1208.82 Q94.7882 1208.82 97.9826 1211.51 Q101.177 1214.19 101.177 1218.68 Q101.177 1220.81 100.367 1222.73 Q99.5798 1224.63 97.4734 1227.22 Q96.8947 1227.89 93.7928 1231.11 Q90.691 1234.31 85.0429 1240.07 Z\" fill=\"#000000\" fill-rule=\"evenodd\" fill-opacity=\"1\" /><path clip-path=\"url(#clip520)\" d=\"M121.177 1212.52 Q117.566 1212.52 115.737 1216.09 Q113.932 1219.63 113.932 1226.76 Q113.932 1233.87 115.737 1237.43 Q117.566 1240.97 121.177 1240.97 Q124.811 1240.97 126.617 1237.43 Q128.445 1233.87 128.445 1226.76 Q128.445 1219.63 126.617 1216.09 Q124.811 1212.52 121.177 1212.52 M121.177 1208.82 Q126.987 1208.82 130.043 1213.43 Q133.121 1218.01 133.121 1226.76 Q133.121 1235.49 130.043 1240.09 Q126.987 1244.68 121.177 1244.68 Q115.367 1244.68 112.288 1240.09 Q109.233 1235.49 109.233 1226.76 Q109.233 1218.01 112.288 1213.43 Q115.367 1208.82 121.177 1208.82 Z\" fill=\"#000000\" fill-rule=\"evenodd\" fill-opacity=\"1\" /><path clip-path=\"url(#clip520)\" d=\"M93.8623 994.529 L82.0568 1012.98 L93.8623 1012.98 L93.8623 994.529 M92.6354 990.455 L98.515 990.455 L98.515 1012.98 L103.446 1012.98 L103.446 1016.87 L98.515 1016.87 L98.515 1025.02 L93.8623 1025.02 L93.8623 1016.87 L78.2605 1016.87 L78.2605 1012.35 L92.6354 990.455 Z\" fill=\"#000000\" fill-rule=\"evenodd\" fill-opacity=\"1\" /><path clip-path=\"url(#clip520)\" d=\"M121.177 993.534 Q117.566 993.534 115.737 997.099 Q113.932 1000.64 113.932 1007.77 Q113.932 1014.88 115.737 1018.44 Q117.566 1021.98 121.177 1021.98 Q124.811 1021.98 126.617 1018.44 Q128.445 1014.88 128.445 1007.77 Q128.445 1000.64 126.617 997.099 Q124.811 993.534 121.177 993.534 M121.177 989.83 Q126.987 989.83 130.043 994.437 Q133.121 999.02 133.121 1007.77 Q133.121 1016.5 130.043 1021.1 Q126.987 1025.69 121.177 1025.69 Q115.367 1025.69 112.288 1021.1 Q109.233 1016.5 109.233 1007.77 Q109.233 999.02 112.288 994.437 Q115.367 989.83 121.177 989.83 Z\" fill=\"#000000\" fill-rule=\"evenodd\" fill-opacity=\"1\" /><path clip-path=\"url(#clip520)\" d=\"M91.5938 786.882 Q88.4456 786.882 86.5938 789.034 Q84.7651 791.187 84.7651 794.937 Q84.7651 798.664 86.5938 800.84 Q88.4456 802.993 91.5938 802.993 Q94.7419 802.993 96.5706 800.84 Q98.4224 798.664 98.4224 794.937 Q98.4224 791.187 96.5706 789.034 Q94.7419 786.882 91.5938 786.882 M100.876 772.229 L100.876 776.488 Q99.1169 775.655 97.3113 775.215 Q95.5289 774.775 93.7697 774.775 Q89.1401 774.775 86.6864 777.9 Q84.2558 781.025 83.9086 787.345 Q85.2743 785.331 87.3345 784.266 Q89.3947 783.178 91.8715 783.178 Q97.0798 783.178 100.089 786.349 Q103.121 789.497 103.121 794.937 Q103.121 800.261 99.9733 803.479 Q96.8252 806.696 91.5938 806.696 Q85.5984 806.696 82.4271 802.113 Q79.2559 797.507 79.2559 788.78 Q79.2559 780.585 83.1447 775.724 Q87.0336 770.84 93.5845 770.84 Q95.3437 770.84 97.1261 771.187 Q98.9317 771.534 100.876 772.229 Z\" fill=\"#000000\" fill-rule=\"evenodd\" fill-opacity=\"1\" /><path clip-path=\"url(#clip520)\" d=\"M121.177 774.544 Q117.566 774.544 115.737 778.108 Q113.932 781.65 113.932 788.78 Q113.932 795.886 115.737 799.451 Q117.566 802.993 121.177 802.993 Q124.811 802.993 126.617 799.451 Q128.445 795.886 128.445 788.78 Q128.445 781.65 126.617 778.108 Q124.811 774.544 121.177 774.544 M121.177 770.84 Q126.987 770.84 130.043 775.446 Q133.121 780.03 133.121 788.78 Q133.121 797.507 130.043 802.113 Q126.987 806.696 121.177 806.696 Q115.367 806.696 112.288 802.113 Q109.233 797.507 109.233 788.78 Q109.233 780.03 112.288 775.446 Q115.367 770.84 121.177 770.84 Z\" fill=\"#000000\" fill-rule=\"evenodd\" fill-opacity=\"1\" /><path clip-path=\"url(#clip520)\" d=\"M91.0151 570.623 Q87.6817 570.623 85.7605 572.405 Q83.8623 574.188 83.8623 577.313 Q83.8623 580.438 85.7605 582.22 Q87.6817 584.002 91.0151 584.002 Q94.3484 584.002 96.2697 582.22 Q98.1909 580.414 98.1909 577.313 Q98.1909 574.188 96.2697 572.405 Q94.3715 570.623 91.0151 570.623 M86.3392 568.632 Q83.3299 567.891 81.6401 565.831 Q79.9735 563.771 79.9735 560.808 Q79.9735 556.665 82.9133 554.257 Q85.8762 551.85 91.0151 551.85 Q96.1771 551.85 99.1169 554.257 Q102.057 556.665 102.057 560.808 Q102.057 563.771 100.367 565.831 Q98.7002 567.891 95.7141 568.632 Q99.0937 569.419 100.969 571.711 Q102.867 574.002 102.867 577.313 Q102.867 582.336 99.7882 585.021 Q96.7326 587.706 91.0151 587.706 Q85.2975 587.706 82.2188 585.021 Q79.1633 582.336 79.1633 577.313 Q79.1633 574.002 81.0614 571.711 Q82.9595 569.419 86.3392 568.632 M84.6262 561.248 Q84.6262 563.933 86.2929 565.438 Q87.9827 566.942 91.0151 566.942 Q94.0243 566.942 95.7141 565.438 Q97.4271 563.933 97.4271 561.248 Q97.4271 558.563 95.7141 557.058 Q94.0243 555.553 91.0151 555.553 Q87.9827 555.553 86.2929 557.058 Q84.6262 558.563 84.6262 561.248 Z\" fill=\"#000000\" fill-rule=\"evenodd\" fill-opacity=\"1\" /><path clip-path=\"url(#clip520)\" d=\"M121.177 555.553 Q117.566 555.553 115.737 559.118 Q113.932 562.66 113.932 569.79 Q113.932 576.896 115.737 580.461 Q117.566 584.002 121.177 584.002 Q124.811 584.002 126.617 580.461 Q128.445 576.896 128.445 569.79 Q128.445 562.66 126.617 559.118 Q124.811 555.553 121.177 555.553 M121.177 551.85 Q126.987 551.85 130.043 556.456 Q133.121 561.04 133.121 569.79 Q133.121 578.516 130.043 583.123 Q126.987 587.706 121.177 587.706 Q115.367 587.706 112.288 583.123 Q109.233 578.516 109.233 569.79 Q109.233 561.04 112.288 556.456 Q115.367 551.85 121.177 551.85 Z\" fill=\"#000000\" fill-rule=\"evenodd\" fill-opacity=\"1\" /><path clip-path=\"url(#clip520)\" d=\"M51.6634 364.109 L59.3023 364.109 L59.3023 337.744 L50.9921 339.41 L50.9921 335.151 L59.256 333.485 L63.9319 333.485 L63.9319 364.109 L71.5707 364.109 L71.5707 368.045 L51.6634 368.045 L51.6634 364.109 Z\" fill=\"#000000\" fill-rule=\"evenodd\" fill-opacity=\"1\" /><path clip-path=\"url(#clip520)\" d=\"M91.0151 336.563 Q87.404 336.563 85.5753 340.128 Q83.7697 343.67 83.7697 350.799 Q83.7697 357.906 85.5753 361.471 Q87.404 365.012 91.0151 365.012 Q94.6493 365.012 96.4548 361.471 Q98.2835 357.906 98.2835 350.799 Q98.2835 343.67 96.4548 340.128 Q94.6493 336.563 91.0151 336.563 M91.0151 332.86 Q96.8252 332.86 99.8808 337.466 Q102.959 342.049 102.959 350.799 Q102.959 359.526 99.8808 364.133 Q96.8252 368.716 91.0151 368.716 Q85.2049 368.716 82.1262 364.133 Q79.0707 359.526 79.0707 350.799 Q79.0707 342.049 82.1262 337.466 Q85.2049 332.86 91.0151 332.86 Z\" fill=\"#000000\" fill-rule=\"evenodd\" fill-opacity=\"1\" /><path clip-path=\"url(#clip520)\" d=\"M121.177 336.563 Q117.566 336.563 115.737 340.128 Q113.932 343.67 113.932 350.799 Q113.932 357.906 115.737 361.471 Q117.566 365.012 121.177 365.012 Q124.811 365.012 126.617 361.471 Q128.445 357.906 128.445 350.799 Q128.445 343.67 126.617 340.128 Q124.811 336.563 121.177 336.563 M121.177 332.86 Q126.987 332.86 130.043 337.466 Q133.121 342.049 133.121 350.799 Q133.121 359.526 130.043 364.133 Q126.987 368.716 121.177 368.716 Q115.367 368.716 112.288 364.133 Q109.233 359.526 109.233 350.799 Q109.233 342.049 112.288 337.466 Q115.367 332.86 121.177 332.86 Z\" fill=\"#000000\" fill-rule=\"evenodd\" fill-opacity=\"1\" /><path clip-path=\"url(#clip520)\" d=\"M51.6634 145.119 L59.3023 145.119 L59.3023 118.754 L50.9921 120.42 L50.9921 116.161 L59.256 114.494 L63.9319 114.494 L63.9319 145.119 L71.5707 145.119 L71.5707 149.054 L51.6634 149.054 L51.6634 145.119 Z\" fill=\"#000000\" fill-rule=\"evenodd\" fill-opacity=\"1\" /><path clip-path=\"url(#clip520)\" d=\"M85.0429 145.119 L101.362 145.119 L101.362 149.054 L79.4179 149.054 L79.4179 145.119 Q82.0799 142.365 86.6632 137.735 Q91.2697 133.082 92.4502 131.74 Q94.6956 129.216 95.5752 127.48 Q96.478 125.721 96.478 124.031 Q96.478 121.277 94.5336 119.541 Q92.6123 117.804 89.5104 117.804 Q87.3114 117.804 84.8577 118.568 Q82.4271 119.332 79.6494 120.883 L79.6494 116.161 Q82.4734 115.027 84.9271 114.448 Q87.3808 113.869 89.4178 113.869 Q94.7882 113.869 97.9826 116.554 Q101.177 119.24 101.177 123.73 Q101.177 125.86 100.367 127.781 Q99.5798 129.679 97.4734 132.272 Q96.8947 132.943 93.7928 136.161 Q90.691 139.355 85.0429 145.119 Z\" fill=\"#000000\" fill-rule=\"evenodd\" fill-opacity=\"1\" /><path clip-path=\"url(#clip520)\" d=\"M121.177 117.573 Q117.566 117.573 115.737 121.138 Q113.932 124.679 113.932 131.809 Q113.932 138.915 115.737 142.48 Q117.566 146.022 121.177 146.022 Q124.811 146.022 126.617 142.48 Q128.445 138.915 128.445 131.809 Q128.445 124.679 126.617 121.138 Q124.811 117.573 121.177 117.573 M121.177 113.869 Q126.987 113.869 130.043 118.476 Q133.121 123.059 133.121 131.809 Q133.121 140.536 130.043 145.142 Q126.987 149.726 121.177 149.726 Q115.367 149.726 112.288 145.142 Q109.233 140.536 109.233 131.809 Q109.233 123.059 112.288 118.476 Q115.367 113.869 121.177 113.869 Z\" fill=\"#000000\" fill-rule=\"evenodd\" fill-opacity=\"1\" /><path clip-path=\"url(#clip522)\" d=\"\nM289.225 87.9763 L289.225 1445.72 L505.161 1445.72 L505.161 87.9763 L289.225 87.9763 L289.225 87.9763  Z\n  \" fill=\"#ff0000\" fill-rule=\"evenodd\" fill-opacity=\"0.5\"/>\n<polyline clip-path=\"url(#clip522)\" style=\"stroke:#000000; stroke-linecap:round; stroke-linejoin:round; stroke-width:4; stroke-opacity:0.5; fill:none\" points=\"\n  289.225,87.9763 289.225,1445.72 505.161,1445.72 505.161,87.9763 289.225,87.9763 \n  \"/>\n<path clip-path=\"url(#clip522)\" d=\"\nM505.161 1445.72 L505.161 1445.72 L721.098 1445.72 L721.098 1445.72 L505.161 1445.72 L505.161 1445.72  Z\n  \" fill=\"#ff0000\" fill-rule=\"evenodd\" fill-opacity=\"0.5\"/>\n<polyline clip-path=\"url(#clip522)\" style=\"stroke:#000000; stroke-linecap:round; stroke-linejoin:round; stroke-width:4; stroke-opacity:0.5; fill:none\" points=\"\n  505.161,1445.72 505.161,1445.72 721.098,1445.72 505.161,1445.72 \n  \"/>\n<path clip-path=\"url(#clip522)\" d=\"\nM721.098 504.058 L721.098 1445.72 L937.034 1445.72 L937.034 504.058 L721.098 504.058 L721.098 504.058  Z\n  \" fill=\"#ff0000\" fill-rule=\"evenodd\" fill-opacity=\"0.5\"/>\n<polyline clip-path=\"url(#clip522)\" style=\"stroke:#000000; stroke-linecap:round; stroke-linejoin:round; stroke-width:4; stroke-opacity:0.5; fill:none\" points=\"\n  721.098,504.058 721.098,1445.72 937.034,1445.72 937.034,504.058 721.098,504.058 \n  \"/>\n<path clip-path=\"url(#clip522)\" d=\"\nM937.034 1445.72 L937.034 1445.72 L1152.97 1445.72 L1152.97 1445.72 L937.034 1445.72 L937.034 1445.72  Z\n  \" fill=\"#ff0000\" fill-rule=\"evenodd\" fill-opacity=\"0.5\"/>\n<polyline clip-path=\"url(#clip522)\" style=\"stroke:#000000; stroke-linecap:round; stroke-linejoin:round; stroke-width:4; stroke-opacity:0.5; fill:none\" points=\"\n  937.034,1445.72 937.034,1445.72 1152.97,1445.72 937.034,1445.72 \n  \"/>\n<path clip-path=\"url(#clip522)\" d=\"\nM1152.97 854.442 L1152.97 1445.72 L1368.91 1445.72 L1368.91 854.442 L1152.97 854.442 L1152.97 854.442  Z\n  \" fill=\"#ff0000\" fill-rule=\"evenodd\" fill-opacity=\"0.5\"/>\n<polyline clip-path=\"url(#clip522)\" style=\"stroke:#000000; stroke-linecap:round; stroke-linejoin:round; stroke-width:4; stroke-opacity:0.5; fill:none\" points=\"\n  1152.97,854.442 1152.97,1445.72 1368.91,1445.72 1368.91,854.442 1152.97,854.442 \n  \"/>\n<path clip-path=\"url(#clip522)\" d=\"\nM1368.91 1445.72 L1368.91 1445.72 L1584.84 1445.72 L1584.84 1445.72 L1368.91 1445.72 L1368.91 1445.72  Z\n  \" fill=\"#ff0000\" fill-rule=\"evenodd\" fill-opacity=\"0.5\"/>\n<polyline clip-path=\"url(#clip522)\" style=\"stroke:#000000; stroke-linecap:round; stroke-linejoin:round; stroke-width:4; stroke-opacity:0.5; fill:none\" points=\"\n  1368.91,1445.72 1368.91,1445.72 1584.84,1445.72 1368.91,1445.72 \n  \"/>\n<path clip-path=\"url(#clip522)\" d=\"\nM1584.84 1445.72 L1584.84 1445.72 L1800.78 1445.72 L1800.78 1445.72 L1584.84 1445.72 L1584.84 1445.72  Z\n  \" fill=\"#ff0000\" fill-rule=\"evenodd\" fill-opacity=\"0.5\"/>\n<polyline clip-path=\"url(#clip522)\" style=\"stroke:#000000; stroke-linecap:round; stroke-linejoin:round; stroke-width:4; stroke-opacity:0.5; fill:none\" points=\"\n  1584.84,1445.72 1584.84,1445.72 1800.78,1445.72 1584.84,1445.72 \n  \"/>\n<path clip-path=\"url(#clip522)\" d=\"\nM1800.78 1390.97 L1800.78 1445.72 L2016.72 1445.72 L2016.72 1390.97 L1800.78 1390.97 L1800.78 1390.97  Z\n  \" fill=\"#ff0000\" fill-rule=\"evenodd\" fill-opacity=\"0.5\"/>\n<polyline clip-path=\"url(#clip522)\" style=\"stroke:#000000; stroke-linecap:round; stroke-linejoin:round; stroke-width:4; stroke-opacity:0.5; fill:none\" points=\"\n  1800.78,1390.97 1800.78,1445.72 2016.72,1445.72 2016.72,1390.97 1800.78,1390.97 \n  \"/>\n<circle clip-path=\"url(#clip522)\" style=\"fill:#ff0000; stroke:none; fill-opacity:0\" cx=\"397.193\" cy=\"87.9763\" r=\"2\"/>\n<circle clip-path=\"url(#clip522)\" style=\"fill:#ff0000; stroke:none; fill-opacity:0\" cx=\"613.13\" cy=\"1445.72\" r=\"2\"/>\n<circle clip-path=\"url(#clip522)\" style=\"fill:#ff0000; stroke:none; fill-opacity:0\" cx=\"829.066\" cy=\"504.058\" r=\"2\"/>\n<circle clip-path=\"url(#clip522)\" style=\"fill:#ff0000; stroke:none; fill-opacity:0\" cx=\"1045\" cy=\"1445.72\" r=\"2\"/>\n<circle clip-path=\"url(#clip522)\" style=\"fill:#ff0000; stroke:none; fill-opacity:0\" cx=\"1260.94\" cy=\"854.442\" r=\"2\"/>\n<circle clip-path=\"url(#clip522)\" style=\"fill:#ff0000; stroke:none; fill-opacity:0\" cx=\"1476.87\" cy=\"1445.72\" r=\"2\"/>\n<circle clip-path=\"url(#clip522)\" style=\"fill:#ff0000; stroke:none; fill-opacity:0\" cx=\"1692.81\" cy=\"1445.72\" r=\"2\"/>\n<circle clip-path=\"url(#clip522)\" style=\"fill:#ff0000; stroke:none; fill-opacity:0\" cx=\"1908.75\" cy=\"1390.97\" r=\"2\"/>\n<path clip-path=\"url(#clip522)\" d=\"\nM289.225 131.774 L289.225 1445.72 L505.161 1445.72 L505.161 131.774 L289.225 131.774 L289.225 131.774  Z\n  \" fill=\"#0000ff\" fill-rule=\"evenodd\" fill-opacity=\"0.5\"/>\n<polyline clip-path=\"url(#clip522)\" style=\"stroke:#000000; stroke-linecap:round; stroke-linejoin:round; stroke-width:4; stroke-opacity:0.5; fill:none\" points=\"\n  289.225,131.774 289.225,1445.72 505.161,1445.72 505.161,131.774 289.225,131.774 \n  \"/>\n<path clip-path=\"url(#clip522)\" d=\"\nM505.161 1128.18 L505.161 1445.72 L721.098 1445.72 L721.098 1128.18 L505.161 1128.18 L505.161 1128.18  Z\n  \" fill=\"#0000ff\" fill-rule=\"evenodd\" fill-opacity=\"0.5\"/>\n<polyline clip-path=\"url(#clip522)\" style=\"stroke:#000000; stroke-linecap:round; stroke-linejoin:round; stroke-width:4; stroke-opacity:0.5; fill:none\" points=\"\n  505.161,1128.18 505.161,1445.72 721.098,1445.72 721.098,1128.18 505.161,1128.18 \n  \"/>\n<path clip-path=\"url(#clip522)\" d=\"\nM721.098 1204.83 L721.098 1445.72 L937.034 1445.72 L937.034 1204.83 L721.098 1204.83 L721.098 1204.83  Z\n  \" fill=\"#0000ff\" fill-rule=\"evenodd\" fill-opacity=\"0.5\"/>\n<polyline clip-path=\"url(#clip522)\" style=\"stroke:#000000; stroke-linecap:round; stroke-linejoin:round; stroke-width:4; stroke-opacity:0.5; fill:none\" points=\"\n  721.098,1204.83 721.098,1445.72 937.034,1445.72 937.034,1204.83 721.098,1204.83 \n  \"/>\n<path clip-path=\"url(#clip522)\" d=\"\nM937.034 1128.18 L937.034 1445.72 L1152.97 1445.72 L1152.97 1128.18 L937.034 1128.18 L937.034 1128.18  Z\n  \" fill=\"#0000ff\" fill-rule=\"evenodd\" fill-opacity=\"0.5\"/>\n<polyline clip-path=\"url(#clip522)\" style=\"stroke:#000000; stroke-linecap:round; stroke-linejoin:round; stroke-width:4; stroke-opacity:0.5; fill:none\" points=\"\n  937.034,1128.18 937.034,1445.72 1152.97,1445.72 1152.97,1128.18 937.034,1128.18 \n  \"/>\n<path clip-path=\"url(#clip522)\" d=\"\nM1152.97 1193.88 L1152.97 1445.72 L1368.91 1445.72 L1368.91 1193.88 L1152.97 1193.88 L1152.97 1193.88  Z\n  \" fill=\"#0000ff\" fill-rule=\"evenodd\" fill-opacity=\"0.5\"/>\n<polyline clip-path=\"url(#clip522)\" style=\"stroke:#000000; stroke-linecap:round; stroke-linejoin:round; stroke-width:4; stroke-opacity:0.5; fill:none\" points=\"\n  1152.97,1193.88 1152.97,1445.72 1368.91,1445.72 1368.91,1193.88 1152.97,1193.88 \n  \"/>\n<path clip-path=\"url(#clip522)\" d=\"\nM1368.91 1193.88 L1368.91 1445.72 L1584.84 1445.72 L1584.84 1193.88 L1368.91 1193.88 L1368.91 1193.88  Z\n  \" fill=\"#0000ff\" fill-rule=\"evenodd\" fill-opacity=\"0.5\"/>\n<polyline clip-path=\"url(#clip522)\" style=\"stroke:#000000; stroke-linecap:round; stroke-linejoin:round; stroke-width:4; stroke-opacity:0.5; fill:none\" points=\"\n  1368.91,1193.88 1368.91,1445.72 1584.84,1445.72 1584.84,1193.88 1368.91,1193.88 \n  \"/>\n<path clip-path=\"url(#clip522)\" d=\"\nM1584.84 1281.47 L1584.84 1445.72 L1800.78 1445.72 L1800.78 1281.47 L1584.84 1281.47 L1584.84 1281.47  Z\n  \" fill=\"#0000ff\" fill-rule=\"evenodd\" fill-opacity=\"0.5\"/>\n<polyline clip-path=\"url(#clip522)\" style=\"stroke:#000000; stroke-linecap:round; stroke-linejoin:round; stroke-width:4; stroke-opacity:0.5; fill:none\" points=\"\n  1584.84,1281.47 1584.84,1445.72 1800.78,1445.72 1800.78,1281.47 1584.84,1281.47 \n  \"/>\n<path clip-path=\"url(#clip522)\" d=\"\nM1800.78 1390.97 L1800.78 1445.72 L2016.72 1445.72 L2016.72 1390.97 L1800.78 1390.97 L1800.78 1390.97  Z\n  \" fill=\"#0000ff\" fill-rule=\"evenodd\" fill-opacity=\"0.5\"/>\n<polyline clip-path=\"url(#clip522)\" style=\"stroke:#000000; stroke-linecap:round; stroke-linejoin:round; stroke-width:4; stroke-opacity:0.5; fill:none\" points=\"\n  1800.78,1390.97 1800.78,1445.72 2016.72,1445.72 2016.72,1390.97 1800.78,1390.97 \n  \"/>\n<path clip-path=\"url(#clip522)\" d=\"\nM2016.72 1412.87 L2016.72 1445.72 L2232.65 1445.72 L2232.65 1412.87 L2016.72 1412.87 L2016.72 1412.87  Z\n  \" fill=\"#0000ff\" fill-rule=\"evenodd\" fill-opacity=\"0.5\"/>\n<polyline clip-path=\"url(#clip522)\" style=\"stroke:#000000; stroke-linecap:round; stroke-linejoin:round; stroke-width:4; stroke-opacity:0.5; fill:none\" points=\"\n  2016.72,1412.87 2016.72,1445.72 2232.65,1445.72 2232.65,1412.87 2016.72,1412.87 \n  \"/>\n<circle clip-path=\"url(#clip522)\" style=\"fill:#0000ff; stroke:none; fill-opacity:0\" cx=\"397.193\" cy=\"131.774\" r=\"2\"/>\n<circle clip-path=\"url(#clip522)\" style=\"fill:#0000ff; stroke:none; fill-opacity:0\" cx=\"613.13\" cy=\"1128.18\" r=\"2\"/>\n<circle clip-path=\"url(#clip522)\" style=\"fill:#0000ff; stroke:none; fill-opacity:0\" cx=\"829.066\" cy=\"1204.83\" r=\"2\"/>\n<circle clip-path=\"url(#clip522)\" style=\"fill:#0000ff; stroke:none; fill-opacity:0\" cx=\"1045\" cy=\"1128.18\" r=\"2\"/>\n<circle clip-path=\"url(#clip522)\" style=\"fill:#0000ff; stroke:none; fill-opacity:0\" cx=\"1260.94\" cy=\"1193.88\" r=\"2\"/>\n<circle clip-path=\"url(#clip522)\" style=\"fill:#0000ff; stroke:none; fill-opacity:0\" cx=\"1476.87\" cy=\"1193.88\" r=\"2\"/>\n<circle clip-path=\"url(#clip522)\" style=\"fill:#0000ff; stroke:none; fill-opacity:0\" cx=\"1692.81\" cy=\"1281.47\" r=\"2\"/>\n<circle clip-path=\"url(#clip522)\" style=\"fill:#0000ff; stroke:none; fill-opacity:0\" cx=\"1908.75\" cy=\"1390.97\" r=\"2\"/>\n<circle clip-path=\"url(#clip522)\" style=\"fill:#0000ff; stroke:none; fill-opacity:0\" cx=\"2124.68\" cy=\"1412.87\" r=\"2\"/>\n<path clip-path=\"url(#clip520)\" d=\"\nM1938.15 250.738 L2279.97 250.738 L2279.97 95.2176 L1938.15 95.2176  Z\n  \" fill=\"#ffffff\" fill-rule=\"evenodd\" fill-opacity=\"1\"/>\n<polyline clip-path=\"url(#clip520)\" style=\"stroke:#000000; stroke-linecap:round; stroke-linejoin:round; stroke-width:4; stroke-opacity:1; fill:none\" points=\"\n  1938.15,250.738 2279.97,250.738 2279.97,95.2176 1938.15,95.2176 1938.15,250.738 \n  \"/>\n<path clip-path=\"url(#clip520)\" d=\"\nM2107.99 167.794 L1962.42 167.794 L1962.42 126.322 L2107.99 126.322 L2107.99 167.794  Z\n  \" fill=\"#ff0000\" fill-rule=\"evenodd\" fill-opacity=\"0.5\"/>\n<polyline clip-path=\"url(#clip520)\" style=\"stroke:#000000; stroke-linecap:round; stroke-linejoin:round; stroke-width:4; stroke-opacity:1; fill:none\" points=\"\n  2107.99,167.794 1962.42,167.794 1962.42,126.322 2107.99,126.322 2107.99,167.794 \n  \"/>\n<path clip-path=\"url(#clip520)\" d=\"M2136.54 160.449 L2136.54 174.199 L2132.25 174.199 L2132.25 138.412 L2136.54 138.412 L2136.54 142.347 Q2137.88 140.032 2139.92 138.921 Q2141.98 137.787 2144.82 137.787 Q2149.55 137.787 2152.48 141.537 Q2155.45 145.287 2155.45 151.398 Q2155.45 157.509 2152.48 161.259 Q2149.55 165.009 2144.82 165.009 Q2141.98 165.009 2139.92 163.898 Q2137.88 162.763 2136.54 160.449 M2151.03 151.398 Q2151.03 146.699 2149.08 144.037 Q2147.16 141.352 2143.78 141.352 Q2140.4 141.352 2138.46 144.037 Q2136.54 146.699 2136.54 151.398 Q2136.54 156.097 2138.46 158.782 Q2140.4 161.444 2143.78 161.444 Q2147.16 161.444 2149.08 158.782 Q2151.03 156.097 2151.03 151.398 Z\" fill=\"#000000\" fill-rule=\"evenodd\" fill-opacity=\"1\" /><path clip-path=\"url(#clip520)\" d=\"M2177.53 142.393 Q2176.81 141.977 2175.96 141.791 Q2175.12 141.583 2174.11 141.583 Q2170.49 141.583 2168.55 143.944 Q2166.63 146.282 2166.63 150.68 L2166.63 164.338 L2162.35 164.338 L2162.35 138.412 L2166.63 138.412 L2166.63 142.44 Q2167.97 140.078 2170.12 138.944 Q2172.28 137.787 2175.36 137.787 Q2175.8 137.787 2176.33 137.856 Q2176.86 137.903 2177.51 138.018 L2177.53 142.393 Z\" fill=\"#000000\" fill-rule=\"evenodd\" fill-opacity=\"1\" /><path clip-path=\"url(#clip520)\" d=\"M2203.13 150.31 L2203.13 152.393 L2183.55 152.393 Q2183.83 156.791 2186.19 159.106 Q2188.57 161.398 2192.81 161.398 Q2195.26 161.398 2197.55 160.796 Q2199.87 160.194 2202.14 158.99 L2202.14 163.018 Q2199.85 163.99 2197.44 164.5 Q2195.03 165.009 2192.55 165.009 Q2186.35 165.009 2182.72 161.398 Q2179.11 157.787 2179.11 151.629 Q2179.11 145.264 2182.53 141.537 Q2185.98 137.787 2191.81 137.787 Q2197.04 137.787 2200.08 141.166 Q2203.13 144.523 2203.13 150.31 M2198.87 149.06 Q2198.83 145.565 2196.91 143.481 Q2195.01 141.398 2191.86 141.398 Q2188.29 141.398 2186.14 143.412 Q2184.01 145.426 2183.69 149.083 L2198.87 149.06 Z\" fill=\"#000000\" fill-rule=\"evenodd\" fill-opacity=\"1\" /><path clip-path=\"url(#clip520)\" d=\"M2227.18 142.347 L2227.18 128.319 L2231.44 128.319 L2231.44 164.338 L2227.18 164.338 L2227.18 160.449 Q2225.84 162.763 2223.78 163.898 Q2221.74 165.009 2218.87 165.009 Q2214.17 165.009 2211.21 161.259 Q2208.27 157.509 2208.27 151.398 Q2208.27 145.287 2211.21 141.537 Q2214.17 137.787 2218.87 137.787 Q2221.74 137.787 2223.78 138.921 Q2225.84 140.032 2227.18 142.347 M2212.67 151.398 Q2212.67 156.097 2214.59 158.782 Q2216.54 161.444 2219.92 161.444 Q2223.29 161.444 2225.24 158.782 Q2227.18 156.097 2227.18 151.398 Q2227.18 146.699 2225.24 144.037 Q2223.29 141.352 2219.92 141.352 Q2216.54 141.352 2214.59 144.037 Q2212.67 146.699 2212.67 151.398 Z\" fill=\"#000000\" fill-rule=\"evenodd\" fill-opacity=\"1\" /><path clip-path=\"url(#clip520)\" d=\"\nM2107.99 219.634 L1962.42 219.634 L1962.42 178.162 L2107.99 178.162 L2107.99 219.634  Z\n  \" fill=\"#0000ff\" fill-rule=\"evenodd\" fill-opacity=\"0.5\"/>\n<polyline clip-path=\"url(#clip520)\" style=\"stroke:#000000; stroke-linecap:round; stroke-linejoin:round; stroke-width:4; stroke-opacity:1; fill:none\" points=\"\n  2107.99,219.634 1962.42,219.634 1962.42,178.162 2107.99,178.162 2107.99,219.634 \n  \"/>\n<path clip-path=\"url(#clip520)\" d=\"M2139.66 182.891 L2139.66 190.252 L2148.43 190.252 L2148.43 193.562 L2139.66 193.562 L2139.66 207.636 Q2139.66 210.807 2140.52 211.71 Q2141.4 212.613 2144.06 212.613 L2148.43 212.613 L2148.43 216.178 L2144.06 216.178 Q2139.13 216.178 2137.25 214.349 Q2135.38 212.497 2135.38 207.636 L2135.38 193.562 L2132.25 193.562 L2132.25 190.252 L2135.38 190.252 L2135.38 182.891 L2139.66 182.891 Z\" fill=\"#000000\" fill-rule=\"evenodd\" fill-opacity=\"1\" /><path clip-path=\"url(#clip520)\" d=\"M2176.21 202.15 L2176.21 204.233 L2156.63 204.233 Q2156.91 208.631 2159.27 210.946 Q2161.65 213.238 2165.89 213.238 Q2168.34 213.238 2170.63 212.636 Q2172.95 212.034 2175.22 210.83 L2175.22 214.858 Q2172.92 215.83 2170.52 216.34 Q2168.11 216.849 2165.63 216.849 Q2159.43 216.849 2155.8 213.238 Q2152.18 209.627 2152.18 203.469 Q2152.18 197.104 2155.61 193.377 Q2159.06 189.627 2164.89 189.627 Q2170.12 189.627 2173.16 193.006 Q2176.21 196.363 2176.21 202.15 M2171.95 200.9 Q2171.91 197.405 2169.98 195.321 Q2168.09 193.238 2164.94 193.238 Q2161.37 193.238 2159.22 195.252 Q2157.09 197.266 2156.77 200.923 L2171.95 200.9 Z\" fill=\"#000000\" fill-rule=\"evenodd\" fill-opacity=\"1\" /><path clip-path=\"url(#clip520)\" d=\"M2199.73 191.016 L2199.73 195.043 Q2197.92 194.117 2195.98 193.655 Q2194.04 193.192 2191.95 193.192 Q2188.78 193.192 2187.18 194.164 Q2185.61 195.136 2185.61 197.08 Q2185.61 198.562 2186.74 199.418 Q2187.88 200.252 2191.3 201.016 L2192.76 201.34 Q2197.3 202.312 2199.2 204.094 Q2201.12 205.854 2201.12 209.025 Q2201.12 212.636 2198.25 214.742 Q2195.4 216.849 2190.4 216.849 Q2188.32 216.849 2186.05 216.432 Q2183.8 216.039 2181.3 215.228 L2181.3 210.83 Q2183.67 212.057 2185.96 212.682 Q2188.25 213.284 2190.49 213.284 Q2193.5 213.284 2195.12 212.266 Q2196.74 211.224 2196.74 209.349 Q2196.74 207.613 2195.56 206.687 Q2194.41 205.761 2190.45 204.904 L2188.97 204.557 Q2185.01 203.724 2183.25 202.011 Q2181.49 200.275 2181.49 197.266 Q2181.49 193.608 2184.08 191.618 Q2186.67 189.627 2191.44 189.627 Q2193.8 189.627 2195.89 189.974 Q2197.97 190.321 2199.73 191.016 Z\" fill=\"#000000\" fill-rule=\"evenodd\" fill-opacity=\"1\" /><path clip-path=\"url(#clip520)\" d=\"M2212.11 182.891 L2212.11 190.252 L2220.89 190.252 L2220.89 193.562 L2212.11 193.562 L2212.11 207.636 Q2212.11 210.807 2212.97 211.71 Q2213.85 212.613 2216.51 212.613 L2220.89 212.613 L2220.89 216.178 L2216.51 216.178 Q2211.58 216.178 2209.71 214.349 Q2207.83 212.497 2207.83 207.636 L2207.83 193.562 L2204.71 193.562 L2204.71 190.252 L2207.83 190.252 L2207.83 182.891 L2212.11 182.891 Z\" fill=\"#000000\" fill-rule=\"evenodd\" fill-opacity=\"1\" /></svg>\n"
     },
     "metadata": {},
     "output_type": "display_data"
    }
   ],
   "source": [
    "OCTReg = ORT_model(train_valid, test);\n",
    "\n",
    "# write_json the model\n",
    "IAI.write_json(\"OCTReg.json\", OCTReg)\n",
    "\n",
    "# save the predictions\n",
    "OCTR_pred = IAI.predict(OCTReg, get_features(test))\n",
    "CSV.write(\"OCTR_pred.csv\", DataFrame(pred = OCTR_pred));"
   ]
  },
  {
   "cell_type": "markdown",
   "metadata": {},
   "source": [
    "## ORT-H (Optimal Regression Trees with Hyperplane Splitting)"
   ]
  },
  {
   "cell_type": "code",
   "execution_count": 11,
   "metadata": {},
   "outputs": [],
   "source": [
    "# define ranges for the hyperparameters\n",
    "max_depth = [3, 4]\n",
    "minbucket = [2, 5]\n",
    ";"
   ]
  },
  {
   "cell_type": "code",
   "execution_count": 12,
   "metadata": {},
   "outputs": [
    {
     "data": {
      "text/plain": [
       "ORTH_model (generic function with 1 method)"
      ]
     },
     "execution_count": 12,
     "metadata": {},
     "output_type": "execute_result"
    }
   ],
   "source": [
    "function ORTH_model(train_valid, test)\n",
    "\n",
    "    println(\"Training model...\")\n",
    "\n",
    "    # define the model  \n",
    "    model_octh = IAI.OptimalTreeRegressor(\n",
    "        random_seed = 1,\n",
    "        criterion = :mse,\n",
    "        hyperplane_config= (sparsity=:all,),\n",
    "    )\n",
    "\n",
    "    println(\"Fitting model...\")\n",
    "\n",
    "    # define the grid\n",
    "    grid_octh = IAI.GridSearch(\n",
    "        model_octh,\n",
    "        max_depth = max_depth,\n",
    "        minbucket = minbucket,\n",
    "    )\n",
    "\n",
    "    println(\"Fitting model...\")\n",
    "\n",
    "    # fit the model with 5-fold cross validation\n",
    "    IAI.fit_cv!(grid_octh, get_features(train_valid), Array(get_target(train_valid)), validation_criterion = :mse, n_folds=5)\n",
    "\n",
    "    println(\"Predicting...\")\n",
    "\n",
    "    # get the best model\n",
    "    pred = IAI.predict(grid_octh, get_features(test))\n",
    "\n",
    "    println(\"Computing results...\")\n",
    "\n",
    "    # compute the results\n",
    "    #compute_results(pred, get_target(test))\n",
    "    transform_and_results(pred, get_target(test))\n",
    "\n",
    "    # check the prediction value\n",
    "    check_prediction_value(pred, get_target(test))\n",
    "\n",
    "    # return the best model\n",
    "    return IAI.get_learner(grid_octh)\n",
    "end"
   ]
  },
  {
   "cell_type": "code",
   "execution_count": 13,
   "metadata": {},
   "outputs": [],
   "source": [
    "ORTHReg = ORTH_model(train_valid, test);\n",
    "\n",
    "# write_json the model\n",
    "IAI.write_json(\"ORTHReg.json\", ORTHReg)\n",
    "\n",
    "# save the predictions\n",
    "ORTH_pred = IAI.predict(ORTHReg, get_features(test))\n",
    "CSV.write(\"ORTH_pred.csv\", DataFrame(pred = ORTH_pred));"
   ]
  },
  {
   "cell_type": "markdown",
   "metadata": {},
   "source": [
    "Was taking such a long time to run...\n",
    "Let's try again"
   ]
  },
  {
   "cell_type": "markdown",
   "metadata": {},
   "source": [
    "## ORT-L (Optimal Regression Tree with Linear Regression on the leaves)"
   ]
  },
  {
   "cell_type": "code",
   "execution_count": null,
   "metadata": {},
   "outputs": [
    {
     "data": {
      "text/plain": [
       "ORTL_model (generic function with 1 method)"
      ]
     },
     "metadata": {},
     "output_type": "display_data"
    }
   ],
   "source": [
    "function ORTL_model(train_valid, test)\n",
    "\n",
    "    # define the model  \n",
    "    model_octl = IAI.OptimalTreeRegressor(\n",
    "        random_seed = 1,\n",
    "        criterion = :mse,\n",
    "        max_depth = 4,\n",
    "        minbucket = 15,\n",
    "        regression_features = All(),\n",
    "    )\n",
    "\n",
    "    println(\"Training model...\")\n",
    "\n",
    "    # define the grid\n",
    "    grid_octl = IAI.GridSearch(\n",
    "        model_octl,\n",
    "        regression_lambda=[0.01, 0.05, 0.1]\n",
    "    )\n",
    "\n",
    "    println(\"Fitting model...\")\n",
    "\n",
    "    # fit the model with 5-fold cross validation\n",
    "    IAI.fit_cv!(grid_octl, get_features(train_valid), Array(get_target(train_valid)), validation_criterion = :mse, n_folds=5)\n",
    "\n",
    "    println(\"Predicting...\")\n",
    "\n",
    "    # get the best model\n",
    "    pred = IAI.predict(grid_octl, get_features(test))\n",
    "\n",
    "    println(\"Computing results...\")\n",
    "\n",
    "    # compute the results\n",
    "    compute_results(pred, get_target(test))\n",
    "\n",
    "    # check the prediction value\n",
    "    check_prediction_value(pred, get_target(test))\n",
    "\n",
    "    # return the best model\n",
    "    return IAI.get_learner(grid_octl)\n",
    "end"
   ]
  },
  {
   "cell_type": "code",
   "execution_count": null,
   "metadata": {},
   "outputs": [],
   "source": [
    "ORTLReg = ORTL_model(train_valid, test);\n",
    "\n",
    "# write_json the model\n",
    "IAI.write_json(\"ORTLReg.json\", ORTLReg)\n",
    "\n",
    "# save the predictions\n",
    "ORTL_pred = IAI.predict(ORTLReg, get_features(test))\n",
    "CSV.write(\"ORTL_pred.csv\", DataFrame(pred = ORTL_pred));"
   ]
  },
  {
   "cell_type": "markdown",
   "metadata": {},
   "source": [
    "## Holistic regression"
   ]
  },
  {
   "cell_type": "code",
   "execution_count": null,
   "metadata": {},
   "outputs": [
    {
     "data": {
      "text/plain": [
       "pairwise_correlation (generic function with 1 method)"
      ]
     },
     "execution_count": 9,
     "metadata": {},
     "output_type": "execute_result"
    }
   ],
   "source": [
    "function pairwise_correlation(data, rho)\n",
    "\n",
    "    cor_matrix = cor(Matrix(data))\n",
    "\n",
    "    # we know that the matrix is symmetrix\n",
    "    # no need to include the correlation between one variable and itself, of course it is 1\n",
    "    \n",
    "    p = size(cor_matrix)[1]\n",
    "\n",
    "    # list to record the variables with which X[i] is correlated\n",
    "    correlated = []\n",
    "\n",
    "    for i = 1:(p-1)     \n",
    "        for j = (i+1):p\n",
    "            if abs(cor_matrix[i, j]) > rho\n",
    "                push!(correlated, (i, j))\n",
    "            end\n",
    "        end\n",
    "    end\n",
    "\n",
    "    return correlated\n",
    "end"
   ]
  },
  {
   "cell_type": "code",
   "execution_count": null,
   "metadata": {},
   "outputs": [
    {
     "data": {
      "text/plain": [
       "transform_data (generic function with 1 method)"
      ]
     },
     "execution_count": 18,
     "metadata": {},
     "output_type": "execute_result"
    }
   ],
   "source": [
    "function transform_data(data)\n",
    "    \n",
    "    n, p = size(data)\n",
    "    epsilon = 1\n",
    "\n",
    "    new = []\n",
    "\n",
    "    for j = 1:p\n",
    "        push!(new, data[:, j])\n",
    "        push!(new, sqrt.(abs.(data[:, j])))\n",
    "        push!(new, log.(abs.(data[:, j]) .+ epsilon))\n",
    "    end\n",
    "\n",
    "    return hcat(new...)\n",
    "end"
   ]
  },
  {
   "cell_type": "code",
   "execution_count": null,
   "metadata": {},
   "outputs": [
    {
     "data": {
      "text/plain": [
       "HolisticRegression (generic function with 1 method)"
      ]
     },
     "execution_count": 57,
     "metadata": {},
     "output_type": "execute_result"
    }
   ],
   "source": [
    "function HolisticRegression(X, y, lambda, k, rho)\n",
    "\n",
    "    # define the model\n",
    "    model = Model(Gurobi.Optimizer)\n",
    "    set_optimizer_attribute(model, \"OutputFlag\", 0)\n",
    "    set_optimizer_attribute(model, \"NonConvex\", 2)\n",
    "\n",
    "    # PARAMETERS\n",
    "\n",
    "    n, p = size(X)\n",
    "\n",
    "    M = 1000\n",
    "\n",
    "    # call function pairwise_correlation to define HC(X)\n",
    "    HC = pairwise_correlation(X, rho)\n",
    "    # define set Tj, because we want to keep at most one transformation\n",
    "    print(1)\n",
    "    T = []\n",
    "    for j = 1:Int(p/3) # this applies to the original p\n",
    "        push!(T, X[:, 3*(j-1)+1 : 3*(j-1)+3])\n",
    "    end\n",
    "\n",
    "    # VARIABLES\n",
    "\n",
    "    @variable(model, beta[1:p])\n",
    "    @variable(model, t)\n",
    "    @variable(model, r)\n",
    "    @variable(model, q[1:p])\n",
    "    @variable(model, z[1:p], binary = true) # binary variable\n",
    "\n",
    "    # OBJECTIVE FUNCTION\n",
    "\n",
    "    @objective(model, Min, t + lambda * r)\n",
    "\n",
    "    # CONSTRAINTS\n",
    "\n",
    "    @constraint(model, t >= sum((y[i]-sum(X[i,j]*beta[j] for j=1:p))^2 for i=1:n)) # to rewrite objective function\n",
    "    @constraint(model, r >= sum(q[j] for j=1:p)) # to rewrite objective function\n",
    "    @constraint(model, [j=1:p], q[j] >= beta[j]) # to rewrite objective function\n",
    "    @constraint(model, [j=1:p], q[j] >= -beta[j]) # to rewrite objective function\n",
    "\n",
    "    @constraint(model, [i=1:p], beta[i]<=M*z[i]) # sparsity\n",
    "    @constraint(model, [i=1:p], beta[i]>=-M*z[i]) # sparsity\n",
    "    @constraint(model, sum(z[i] for i=1:p) <= k) # sparsity\n",
    "\n",
    "    # pairwise collinearity\n",
    "    for (i,j) in HC\n",
    "        @constraint(model, z[i] + z[j] <= 1)\n",
    "    end\n",
    "    \n",
    "    # nonlinear transformation\n",
    "    @constraint(model, [j=1:Int(p/3)], sum(z[i] for i = 3*(j-1)+1 : 3*(j-1)+3) <= 1)\n",
    "\n",
    "    # group sparsity\n",
    "\n",
    "    # significance\n",
    "\n",
    "    # multicollinear relations\n",
    "\n",
    "    # OPTIMIZE\n",
    "\n",
    "    optimize!(model)\n",
    "\n",
    "    return objective_value(model), value.(beta)\n",
    "\n",
    "end"
   ]
  },
  {
   "cell_type": "code",
   "execution_count": null,
   "metadata": {},
   "outputs": [
    {
     "data": {
      "text/plain": [
       "Holistic_model (generic function with 1 method)"
      ]
     },
     "execution_count": 55,
     "metadata": {},
     "output_type": "execute_result"
    }
   ],
   "source": [
    "function Holistic_model(train_valid, test)\n",
    "\n",
    "    p_total = size(transform_data(get_features(train_valid)))[2]\n",
    "\n",
    "    # initialize best model\n",
    "    obj, best_beta = HolisticRegression(transform_data(get_features(train_valid)), get_target(train_valid), 0, p_total, 0.5)\n",
    "\n",
    "    # run HolisticRegression for different values of lambda and k, save lambda and k that give the best results\n",
    "    for rho in [0.7, 0.9]\n",
    "        for k in [floor(sqrt(p_total)), floor(p_total/2)]\n",
    "            for lambda in [0.1, 0.5]\n",
    "                obj_, beta_ = HolisticRegression(transform_data(get_features(train_valid)), get_target(train_valid), lambda, k, rho)\n",
    "                if obj_ < obj\n",
    "                    best_beta = beta_\n",
    "                end\n",
    "            end\n",
    "        end\n",
    "    end\n",
    "\n",
    "    # define model with best beta, select features corresponding to non-zero beta\n",
    "    features_keep_sorted = [i for (i, beta) in enumerate(best_beta) if beta != 0]\n",
    "\n",
    "    # make predictions using the best model (y = X * beta)\n",
    "    pred = Matrix(transform_data(get_features(test))[:, features_keep_sorted]) * best_beta[features_keep_sorted]\n",
    "\n",
    "    # compute the results\n",
    "    compute_results(pred, get_target(test))\n",
    "\n",
    "    # check the prediction value\n",
    "    check_prediction_value(pred, get_target(test))\n",
    "\n",
    "    # return the best model\n",
    "    return best_beta\n",
    "end"
   ]
  },
  {
   "cell_type": "code",
   "execution_count": null,
   "metadata": {},
   "outputs": [
    {
     "name": "stdout",
     "output_type": "stream",
     "text": [
      "Set parameter Username\n",
      "Academic license - for non-commercial use only - expires 2023-08-17\n",
      "1Set parameter NonConvex to value 2\n",
      "Set parameter Username\n",
      "Academic license - for non-commercial use only - expires 2023-08-17\n",
      "1Set parameter NonConvex to value 2\n",
      "Set parameter Username\n",
      "Academic license - for non-commercial use only - expires 2023-08-17\n",
      "1Set parameter NonConvex to value 2\n",
      "Set parameter Username\n",
      "Academic license - for non-commercial use only - expires 2023-08-17\n",
      "1Set parameter NonConvex to value 2\n",
      "Set parameter Username\n",
      "Academic license - for non-commercial use only - expires 2023-08-17\n",
      "1Set parameter NonConvex to value 2\n",
      "Set parameter Username\n",
      "Academic license - for non-commercial use only - expires 2023-08-17\n",
      "1Set parameter NonConvex to value 2\n",
      "Set parameter Username\n",
      "Academic license - for non-commercial use only - expires 2023-08-17\n",
      "1Set parameter NonConvex to value 2\n",
      "Set parameter Username\n",
      "Academic license - for non-commercial use only - expires 2023-08-17\n",
      "1Set parameter NonConvex to value 2\n",
      "Set parameter Username\n",
      "Academic license - for non-commercial use only - expires 2023-08-17\n",
      "1Set parameter NonConvex to value 2\n"
     ]
    },
    {
     "data": {
      "text/html": [
       "<div class=\"data-frame\"><p>1 rows × 4 columns</p><table class=\"data-frame\"><thead><tr><th></th><th>mae</th><th>mse</th><th>rmse</th><th>osr2</th></tr><tr><th></th><th title=\"Float64\">Float64</th><th title=\"Float64\">Float64</th><th title=\"Float64\">Float64</th><th title=\"Float64\">Float64</th></tr></thead><tbody><tr><th>1</th><td>6.06458</td><td>85.0706</td><td>9.22337</td><td>0.309069</td></tr></tbody></table></div>"
      ],
      "text/latex": [
       "\\begin{tabular}{r|cccc}\n",
       "\t& mae & mse & rmse & osr2\\\\\n",
       "\t\\hline\n",
       "\t& Float64 & Float64 & Float64 & Float64\\\\\n",
       "\t\\hline\n",
       "\t1 & 6.06458 & 85.0706 & 9.22337 & 0.309069 \\\\\n",
       "\\end{tabular}\n"
      ],
      "text/plain": [
       "\u001b[1m1×4 DataFrame\u001b[0m\n",
       "\u001b[1m Row \u001b[0m│\u001b[1m mae     \u001b[0m\u001b[1m mse     \u001b[0m\u001b[1m rmse    \u001b[0m\u001b[1m osr2     \u001b[0m\n",
       "\u001b[1m     \u001b[0m│\u001b[90m Float64 \u001b[0m\u001b[90m Float64 \u001b[0m\u001b[90m Float64 \u001b[0m\u001b[90m Float64  \u001b[0m\n",
       "─────┼─────────────────────────────────────\n",
       "   1 │ 6.06458  85.0706  9.22337  0.309069"
      ]
     },
     "metadata": {},
     "output_type": "display_data"
    },
    {
     "data": {
      "image/svg+xml": "<?xml version=\"1.0\" encoding=\"utf-8\"?>\n<svg xmlns=\"http://www.w3.org/2000/svg\" xmlns:xlink=\"http://www.w3.org/1999/xlink\" width=\"600\" height=\"400\" viewBox=\"0 0 2400 1600\">\n<defs>\n  <clipPath id=\"clip880\">\n    <rect x=\"0\" y=\"0\" width=\"2400\" height=\"1600\"/>\n  </clipPath>\n</defs>\n<path clip-path=\"url(#clip880)\" d=\"\nM0 1600 L2400 1600 L2400 0 L0 0  Z\n  \" fill=\"#ffffff\" fill-rule=\"evenodd\" fill-opacity=\"1\"/>\n<defs>\n  <clipPath id=\"clip881\">\n    <rect x=\"480\" y=\"0\" width=\"1681\" height=\"1600\"/>\n  </clipPath>\n</defs>\n<path clip-path=\"url(#clip880)\" d=\"\nM169.121 1486.45 L2352.76 1486.45 L2352.76 47.2441 L169.121 47.2441  Z\n  \" fill=\"#ffffff\" fill-rule=\"evenodd\" fill-opacity=\"1\"/>\n<defs>\n  <clipPath id=\"clip882\">\n    <rect x=\"169\" y=\"47\" width=\"2185\" height=\"1440\"/>\n  </clipPath>\n</defs>\n<polyline clip-path=\"url(#clip882)\" style=\"stroke:#000000; stroke-linecap:round; stroke-linejoin:round; stroke-width:2; stroke-opacity:0.1; fill:none\" points=\"\n  653.553,1486.45 653.553,47.2441 \n  \"/>\n<polyline clip-path=\"url(#clip882)\" style=\"stroke:#000000; stroke-linecap:round; stroke-linejoin:round; stroke-width:2; stroke-opacity:0.1; fill:none\" points=\"\n  1138.22,1486.45 1138.22,47.2441 \n  \"/>\n<polyline clip-path=\"url(#clip882)\" style=\"stroke:#000000; stroke-linecap:round; stroke-linejoin:round; stroke-width:2; stroke-opacity:0.1; fill:none\" points=\"\n  1622.89,1486.45 1622.89,47.2441 \n  \"/>\n<polyline clip-path=\"url(#clip882)\" style=\"stroke:#000000; stroke-linecap:round; stroke-linejoin:round; stroke-width:2; stroke-opacity:0.1; fill:none\" points=\"\n  2107.56,1486.45 2107.56,47.2441 \n  \"/>\n<polyline clip-path=\"url(#clip880)\" style=\"stroke:#000000; stroke-linecap:round; stroke-linejoin:round; stroke-width:4; stroke-opacity:1; fill:none\" points=\"\n  169.121,1486.45 2352.76,1486.45 \n  \"/>\n<polyline clip-path=\"url(#clip880)\" style=\"stroke:#000000; stroke-linecap:round; stroke-linejoin:round; stroke-width:4; stroke-opacity:1; fill:none\" points=\"\n  653.553,1486.45 653.553,1467.55 \n  \"/>\n<polyline clip-path=\"url(#clip880)\" style=\"stroke:#000000; stroke-linecap:round; stroke-linejoin:round; stroke-width:4; stroke-opacity:1; fill:none\" points=\"\n  1138.22,1486.45 1138.22,1467.55 \n  \"/>\n<polyline clip-path=\"url(#clip880)\" style=\"stroke:#000000; stroke-linecap:round; stroke-linejoin:round; stroke-width:4; stroke-opacity:1; fill:none\" points=\"\n  1622.89,1486.45 1622.89,1467.55 \n  \"/>\n<polyline clip-path=\"url(#clip880)\" style=\"stroke:#000000; stroke-linecap:round; stroke-linejoin:round; stroke-width:4; stroke-opacity:1; fill:none\" points=\"\n  2107.56,1486.45 2107.56,1467.55 \n  \"/>\n<path clip-path=\"url(#clip880)\" d=\"M653.553 1517.37 Q649.942 1517.37 648.113 1520.93 Q646.307 1524.47 646.307 1531.6 Q646.307 1538.71 648.113 1542.27 Q649.942 1545.82 653.553 1545.82 Q657.187 1545.82 658.993 1542.27 Q660.821 1538.71 660.821 1531.6 Q660.821 1524.47 658.993 1520.93 Q657.187 1517.37 653.553 1517.37 M653.553 1513.66 Q659.363 1513.66 662.418 1518.27 Q665.497 1522.85 665.497 1531.6 Q665.497 1540.33 662.418 1544.94 Q659.363 1549.52 653.553 1549.52 Q647.743 1549.52 644.664 1544.94 Q641.608 1540.33 641.608 1531.6 Q641.608 1522.85 644.664 1518.27 Q647.743 1513.66 653.553 1513.66 Z\" fill=\"#000000\" fill-rule=\"evenodd\" fill-opacity=\"1\" /><path clip-path=\"url(#clip880)\" d=\"M1117.49 1544.91 L1133.81 1544.91 L1133.81 1548.85 L1111.87 1548.85 L1111.87 1544.91 Q1114.53 1542.16 1119.11 1537.53 Q1123.72 1532.88 1124.9 1531.53 Q1127.14 1529.01 1128.02 1527.27 Q1128.93 1525.51 1128.93 1523.82 Q1128.93 1521.07 1126.98 1519.33 Q1125.06 1517.6 1121.96 1517.6 Q1119.76 1517.6 1117.31 1518.36 Q1114.88 1519.13 1112.1 1520.68 L1112.1 1515.95 Q1114.92 1514.82 1117.38 1514.24 Q1119.83 1513.66 1121.87 1513.66 Q1127.24 1513.66 1130.43 1516.35 Q1133.63 1519.03 1133.63 1523.52 Q1133.63 1525.65 1132.82 1527.57 Q1132.03 1529.47 1129.92 1532.07 Q1129.34 1532.74 1126.24 1535.95 Q1123.14 1539.15 1117.49 1544.91 Z\" fill=\"#000000\" fill-rule=\"evenodd\" fill-opacity=\"1\" /><path clip-path=\"url(#clip880)\" d=\"M1143.67 1514.29 L1162.03 1514.29 L1162.03 1518.22 L1147.95 1518.22 L1147.95 1526.7 Q1148.97 1526.35 1149.99 1526.19 Q1151.01 1526 1152.03 1526 Q1157.82 1526 1161.2 1529.17 Q1164.57 1532.34 1164.57 1537.76 Q1164.57 1543.34 1161.1 1546.44 Q1157.63 1549.52 1151.31 1549.52 Q1149.13 1549.52 1146.87 1549.15 Q1144.62 1548.78 1142.21 1548.04 L1142.21 1543.34 Q1144.3 1544.47 1146.52 1545.03 Q1148.74 1545.58 1151.22 1545.58 Q1155.22 1545.58 1157.56 1543.48 Q1159.9 1541.37 1159.9 1537.76 Q1159.9 1534.15 1157.56 1532.04 Q1155.22 1529.94 1151.22 1529.94 Q1149.34 1529.94 1147.47 1530.35 Q1145.62 1530.77 1143.67 1531.65 L1143.67 1514.29 Z\" fill=\"#000000\" fill-rule=\"evenodd\" fill-opacity=\"1\" /><path clip-path=\"url(#clip880)\" d=\"M1597.59 1514.29 L1615.94 1514.29 L1615.94 1518.22 L1601.87 1518.22 L1601.87 1526.7 Q1602.89 1526.35 1603.91 1526.19 Q1604.93 1526 1605.94 1526 Q1611.73 1526 1615.11 1529.17 Q1618.49 1532.34 1618.49 1537.76 Q1618.49 1543.34 1615.02 1546.44 Q1611.55 1549.52 1605.23 1549.52 Q1603.05 1549.52 1600.78 1549.15 Q1598.54 1548.78 1596.13 1548.04 L1596.13 1543.34 Q1598.21 1544.47 1600.44 1545.03 Q1602.66 1545.58 1605.13 1545.58 Q1609.14 1545.58 1611.48 1543.48 Q1613.81 1541.37 1613.81 1537.76 Q1613.81 1534.15 1611.48 1532.04 Q1609.14 1529.94 1605.13 1529.94 Q1603.26 1529.94 1601.38 1530.35 Q1599.53 1530.77 1597.59 1531.65 L1597.59 1514.29 Z\" fill=\"#000000\" fill-rule=\"evenodd\" fill-opacity=\"1\" /><path clip-path=\"url(#clip880)\" d=\"M1637.7 1517.37 Q1634.09 1517.37 1632.26 1520.93 Q1630.46 1524.47 1630.46 1531.6 Q1630.46 1538.71 1632.26 1542.27 Q1634.09 1545.82 1637.7 1545.82 Q1641.34 1545.82 1643.14 1542.27 Q1644.97 1538.71 1644.97 1531.6 Q1644.97 1524.47 1643.14 1520.93 Q1641.34 1517.37 1637.7 1517.37 M1637.7 1513.66 Q1643.51 1513.66 1646.57 1518.27 Q1649.65 1522.85 1649.65 1531.6 Q1649.65 1540.33 1646.57 1544.94 Q1643.51 1549.52 1637.7 1549.52 Q1631.89 1549.52 1628.81 1544.94 Q1625.76 1540.33 1625.76 1531.6 Q1625.76 1522.85 1628.81 1518.27 Q1631.89 1513.66 1637.7 1513.66 Z\" fill=\"#000000\" fill-rule=\"evenodd\" fill-opacity=\"1\" /><path clip-path=\"url(#clip880)\" d=\"M2081.41 1514.29 L2103.63 1514.29 L2103.63 1516.28 L2091.09 1548.85 L2086.2 1548.85 L2098.01 1518.22 L2081.41 1518.22 L2081.41 1514.29 Z\" fill=\"#000000\" fill-rule=\"evenodd\" fill-opacity=\"1\" /><path clip-path=\"url(#clip880)\" d=\"M2112.8 1514.29 L2131.16 1514.29 L2131.16 1518.22 L2117.08 1518.22 L2117.08 1526.7 Q2118.1 1526.35 2119.12 1526.19 Q2120.14 1526 2121.16 1526 Q2126.94 1526 2130.32 1529.17 Q2133.7 1532.34 2133.7 1537.76 Q2133.7 1543.34 2130.23 1546.44 Q2126.76 1549.52 2120.44 1549.52 Q2118.26 1549.52 2115.99 1549.15 Q2113.75 1548.78 2111.34 1548.04 L2111.34 1543.34 Q2113.42 1544.47 2115.65 1545.03 Q2117.87 1545.58 2120.35 1545.58 Q2124.35 1545.58 2126.69 1543.48 Q2129.03 1541.37 2129.03 1537.76 Q2129.03 1534.15 2126.69 1532.04 Q2124.35 1529.94 2120.35 1529.94 Q2118.47 1529.94 2116.6 1530.35 Q2114.74 1530.77 2112.8 1531.65 L2112.8 1514.29 Z\" fill=\"#000000\" fill-rule=\"evenodd\" fill-opacity=\"1\" /><polyline clip-path=\"url(#clip882)\" style=\"stroke:#000000; stroke-linecap:round; stroke-linejoin:round; stroke-width:2; stroke-opacity:0.1; fill:none\" points=\"\n  169.121,1445.72 2352.76,1445.72 \n  \"/>\n<polyline clip-path=\"url(#clip882)\" style=\"stroke:#000000; stroke-linecap:round; stroke-linejoin:round; stroke-width:2; stroke-opacity:0.1; fill:none\" points=\"\n  169.121,996.133 2352.76,996.133 \n  \"/>\n<polyline clip-path=\"url(#clip882)\" style=\"stroke:#000000; stroke-linecap:round; stroke-linejoin:round; stroke-width:2; stroke-opacity:0.1; fill:none\" points=\"\n  169.121,546.551 2352.76,546.551 \n  \"/>\n<polyline clip-path=\"url(#clip882)\" style=\"stroke:#000000; stroke-linecap:round; stroke-linejoin:round; stroke-width:2; stroke-opacity:0.1; fill:none\" points=\"\n  169.121,96.9679 2352.76,96.9679 \n  \"/>\n<polyline clip-path=\"url(#clip880)\" style=\"stroke:#000000; stroke-linecap:round; stroke-linejoin:round; stroke-width:4; stroke-opacity:1; fill:none\" points=\"\n  169.121,1486.45 169.121,47.2441 \n  \"/>\n<polyline clip-path=\"url(#clip880)\" style=\"stroke:#000000; stroke-linecap:round; stroke-linejoin:round; stroke-width:4; stroke-opacity:1; fill:none\" points=\"\n  169.121,1445.72 188.019,1445.72 \n  \"/>\n<polyline clip-path=\"url(#clip880)\" style=\"stroke:#000000; stroke-linecap:round; stroke-linejoin:round; stroke-width:4; stroke-opacity:1; fill:none\" points=\"\n  169.121,996.133 188.019,996.133 \n  \"/>\n<polyline clip-path=\"url(#clip880)\" style=\"stroke:#000000; stroke-linecap:round; stroke-linejoin:round; stroke-width:4; stroke-opacity:1; fill:none\" points=\"\n  169.121,546.551 188.019,546.551 \n  \"/>\n<polyline clip-path=\"url(#clip880)\" style=\"stroke:#000000; stroke-linecap:round; stroke-linejoin:round; stroke-width:4; stroke-opacity:1; fill:none\" points=\"\n  169.121,96.9679 188.019,96.9679 \n  \"/>\n<path clip-path=\"url(#clip880)\" d=\"M121.177 1431.51 Q117.566 1431.51 115.737 1435.08 Q113.932 1438.62 113.932 1445.75 Q113.932 1452.86 115.737 1456.42 Q117.566 1459.96 121.177 1459.96 Q124.811 1459.96 126.617 1456.42 Q128.445 1452.86 128.445 1445.75 Q128.445 1438.62 126.617 1435.08 Q124.811 1431.51 121.177 1431.51 M121.177 1427.81 Q126.987 1427.81 130.043 1432.42 Q133.121 1437 133.121 1445.75 Q133.121 1454.48 130.043 1459.08 Q126.987 1463.67 121.177 1463.67 Q115.367 1463.67 112.288 1459.08 Q109.233 1454.48 109.233 1445.75 Q109.233 1437 112.288 1432.42 Q115.367 1427.81 121.177 1427.81 Z\" fill=\"#000000\" fill-rule=\"evenodd\" fill-opacity=\"1\" /><path clip-path=\"url(#clip880)\" d=\"M81.0614 978.853 L99.4178 978.853 L99.4178 982.788 L85.3438 982.788 L85.3438 991.26 Q86.3623 990.913 87.3808 990.751 Q88.3993 990.566 89.4178 990.566 Q95.2049 990.566 98.5845 993.737 Q101.964 996.909 101.964 1002.33 Q101.964 1007.9 98.4919 1011.01 Q95.0197 1014.08 88.7003 1014.08 Q86.5243 1014.08 84.2558 1013.71 Q82.0105 1013.34 79.6031 1012.6 L79.6031 1007.9 Q81.6864 1009.04 83.9086 1009.59 Q86.1308 1010.15 88.6077 1010.15 Q92.6123 1010.15 94.9502 1008.04 Q97.2882 1005.94 97.2882 1002.33 Q97.2882 998.714 94.9502 996.608 Q92.6123 994.501 88.6077 994.501 Q86.7327 994.501 84.8577 994.918 Q83.0058 995.334 81.0614 996.214 L81.0614 978.853 Z\" fill=\"#000000\" fill-rule=\"evenodd\" fill-opacity=\"1\" /><path clip-path=\"url(#clip880)\" d=\"M121.177 981.932 Q117.566 981.932 115.737 985.497 Q113.932 989.038 113.932 996.168 Q113.932 1003.27 115.737 1006.84 Q117.566 1010.38 121.177 1010.38 Q124.811 1010.38 126.617 1006.84 Q128.445 1003.27 128.445 996.168 Q128.445 989.038 126.617 985.497 Q124.811 981.932 121.177 981.932 M121.177 978.228 Q126.987 978.228 130.043 982.835 Q133.121 987.418 133.121 996.168 Q133.121 1004.89 130.043 1009.5 Q126.987 1014.08 121.177 1014.08 Q115.367 1014.08 112.288 1009.5 Q109.233 1004.89 109.233 996.168 Q109.233 987.418 112.288 982.835 Q115.367 978.228 121.177 978.228 Z\" fill=\"#000000\" fill-rule=\"evenodd\" fill-opacity=\"1\" /><path clip-path=\"url(#clip880)\" d=\"M51.6634 559.895 L59.3023 559.895 L59.3023 533.53 L50.9921 535.196 L50.9921 530.937 L59.256 529.271 L63.9319 529.271 L63.9319 559.895 L71.5707 559.895 L71.5707 563.831 L51.6634 563.831 L51.6634 559.895 Z\" fill=\"#000000\" fill-rule=\"evenodd\" fill-opacity=\"1\" /><path clip-path=\"url(#clip880)\" d=\"M91.0151 532.349 Q87.404 532.349 85.5753 535.914 Q83.7697 539.456 83.7697 546.585 Q83.7697 553.692 85.5753 557.256 Q87.404 560.798 91.0151 560.798 Q94.6493 560.798 96.4548 557.256 Q98.2835 553.692 98.2835 546.585 Q98.2835 539.456 96.4548 535.914 Q94.6493 532.349 91.0151 532.349 M91.0151 528.646 Q96.8252 528.646 99.8808 533.252 Q102.959 537.835 102.959 546.585 Q102.959 555.312 99.8808 559.919 Q96.8252 564.502 91.0151 564.502 Q85.2049 564.502 82.1262 559.919 Q79.0707 555.312 79.0707 546.585 Q79.0707 537.835 82.1262 533.252 Q85.2049 528.646 91.0151 528.646 Z\" fill=\"#000000\" fill-rule=\"evenodd\" fill-opacity=\"1\" /><path clip-path=\"url(#clip880)\" d=\"M121.177 532.349 Q117.566 532.349 115.737 535.914 Q113.932 539.456 113.932 546.585 Q113.932 553.692 115.737 557.256 Q117.566 560.798 121.177 560.798 Q124.811 560.798 126.617 557.256 Q128.445 553.692 128.445 546.585 Q128.445 539.456 126.617 535.914 Q124.811 532.349 121.177 532.349 M121.177 528.646 Q126.987 528.646 130.043 533.252 Q133.121 537.835 133.121 546.585 Q133.121 555.312 130.043 559.919 Q126.987 564.502 121.177 564.502 Q115.367 564.502 112.288 559.919 Q109.233 555.312 109.233 546.585 Q109.233 537.835 112.288 533.252 Q115.367 528.646 121.177 528.646 Z\" fill=\"#000000\" fill-rule=\"evenodd\" fill-opacity=\"1\" /><path clip-path=\"url(#clip880)\" d=\"M51.6634 110.313 L59.3023 110.313 L59.3023 83.9472 L50.9921 85.6138 L50.9921 81.3546 L59.256 79.6879 L63.9319 79.6879 L63.9319 110.313 L71.5707 110.313 L71.5707 114.248 L51.6634 114.248 L51.6634 110.313 Z\" fill=\"#000000\" fill-rule=\"evenodd\" fill-opacity=\"1\" /><path clip-path=\"url(#clip880)\" d=\"M81.0614 79.6879 L99.4178 79.6879 L99.4178 83.6231 L85.3438 83.6231 L85.3438 92.0953 Q86.3623 91.748 87.3808 91.586 Q88.3993 91.4008 89.4178 91.4008 Q95.2049 91.4008 98.5845 94.5721 Q101.964 97.7434 101.964 103.16 Q101.964 108.739 98.4919 111.841 Q95.0197 114.919 88.7003 114.919 Q86.5243 114.919 84.2558 114.549 Q82.0105 114.178 79.6031 113.438 L79.6031 108.739 Q81.6864 109.873 83.9086 110.429 Q86.1308 110.984 88.6077 110.984 Q92.6123 110.984 94.9502 108.878 Q97.2882 106.771 97.2882 103.16 Q97.2882 99.5489 94.9502 97.4425 Q92.6123 95.336 88.6077 95.336 Q86.7327 95.336 84.8577 95.7527 Q83.0058 96.1693 81.0614 97.0489 L81.0614 79.6879 Z\" fill=\"#000000\" fill-rule=\"evenodd\" fill-opacity=\"1\" /><path clip-path=\"url(#clip880)\" d=\"M121.177 82.7666 Q117.566 82.7666 115.737 86.3314 Q113.932 89.8731 113.932 97.0027 Q113.932 104.109 115.737 107.674 Q117.566 111.216 121.177 111.216 Q124.811 111.216 126.617 107.674 Q128.445 104.109 128.445 97.0027 Q128.445 89.8731 126.617 86.3314 Q124.811 82.7666 121.177 82.7666 M121.177 79.0629 Q126.987 79.0629 130.043 83.6694 Q133.121 88.2527 133.121 97.0027 Q133.121 105.729 130.043 110.336 Q126.987 114.919 121.177 114.919 Q115.367 114.919 112.288 110.336 Q109.233 105.729 109.233 97.0027 Q109.233 88.2527 112.288 83.6694 Q115.367 79.0629 121.177 79.0629 Z\" fill=\"#000000\" fill-rule=\"evenodd\" fill-opacity=\"1\" /><path clip-path=\"url(#clip882)\" d=\"\nM265.818 1436.72 L265.818 1445.72 L362.752 1445.72 L362.752 1436.72 L265.818 1436.72 L265.818 1436.72  Z\n  \" fill=\"#ff0000\" fill-rule=\"evenodd\" fill-opacity=\"0.5\"/>\n<polyline clip-path=\"url(#clip882)\" style=\"stroke:#000000; stroke-linecap:round; stroke-linejoin:round; stroke-width:4; stroke-opacity:0.5; fill:none\" points=\"\n  265.818,1436.72 265.818,1445.72 362.752,1445.72 362.752,1436.72 265.818,1436.72 \n  \"/>\n<path clip-path=\"url(#clip882)\" d=\"\nM362.752 1418.74 L362.752 1445.72 L459.686 1445.72 L459.686 1418.74 L362.752 1418.74 L362.752 1418.74  Z\n  \" fill=\"#ff0000\" fill-rule=\"evenodd\" fill-opacity=\"0.5\"/>\n<polyline clip-path=\"url(#clip882)\" style=\"stroke:#000000; stroke-linecap:round; stroke-linejoin:round; stroke-width:4; stroke-opacity:0.5; fill:none\" points=\"\n  362.752,1418.74 362.752,1445.72 459.686,1445.72 459.686,1418.74 362.752,1418.74 \n  \"/>\n<path clip-path=\"url(#clip882)\" d=\"\nM459.686 1373.78 L459.686 1445.72 L556.619 1445.72 L556.619 1373.78 L459.686 1373.78 L459.686 1373.78  Z\n  \" fill=\"#ff0000\" fill-rule=\"evenodd\" fill-opacity=\"0.5\"/>\n<polyline clip-path=\"url(#clip882)\" style=\"stroke:#000000; stroke-linecap:round; stroke-linejoin:round; stroke-width:4; stroke-opacity:0.5; fill:none\" points=\"\n  459.686,1373.78 459.686,1445.72 556.619,1445.72 556.619,1373.78 459.686,1373.78 \n  \"/>\n<path clip-path=\"url(#clip882)\" d=\"\nM556.619 1122.02 L556.619 1445.72 L653.553 1445.72 L653.553 1122.02 L556.619 1122.02 L556.619 1122.02  Z\n  \" fill=\"#ff0000\" fill-rule=\"evenodd\" fill-opacity=\"0.5\"/>\n<polyline clip-path=\"url(#clip882)\" style=\"stroke:#000000; stroke-linecap:round; stroke-linejoin:round; stroke-width:4; stroke-opacity:0.5; fill:none\" points=\"\n  556.619,1122.02 556.619,1445.72 653.553,1445.72 653.553,1122.02 556.619,1122.02 \n  \"/>\n<path clip-path=\"url(#clip882)\" d=\"\nM653.553 834.283 L653.553 1445.72 L750.486 1445.72 L750.486 834.283 L653.553 834.283 L653.553 834.283  Z\n  \" fill=\"#ff0000\" fill-rule=\"evenodd\" fill-opacity=\"0.5\"/>\n<polyline clip-path=\"url(#clip882)\" style=\"stroke:#000000; stroke-linecap:round; stroke-linejoin:round; stroke-width:4; stroke-opacity:0.5; fill:none\" points=\"\n  653.553,834.283 653.553,1445.72 750.486,1445.72 750.486,834.283 653.553,834.283 \n  \"/>\n<path clip-path=\"url(#clip882)\" d=\"\nM750.486 816.3 L750.486 1445.72 L847.42 1445.72 L847.42 816.3 L750.486 816.3 L750.486 816.3  Z\n  \" fill=\"#ff0000\" fill-rule=\"evenodd\" fill-opacity=\"0.5\"/>\n<polyline clip-path=\"url(#clip882)\" style=\"stroke:#000000; stroke-linecap:round; stroke-linejoin:round; stroke-width:4; stroke-opacity:0.5; fill:none\" points=\"\n  750.486,816.3 750.486,1445.72 847.42,1445.72 847.42,816.3 750.486,816.3 \n  \"/>\n<path clip-path=\"url(#clip882)\" d=\"\nM847.42 942.183 L847.42 1445.72 L944.354 1445.72 L944.354 942.183 L847.42 942.183 L847.42 942.183  Z\n  \" fill=\"#ff0000\" fill-rule=\"evenodd\" fill-opacity=\"0.5\"/>\n<polyline clip-path=\"url(#clip882)\" style=\"stroke:#000000; stroke-linecap:round; stroke-linejoin:round; stroke-width:4; stroke-opacity:0.5; fill:none\" points=\"\n  847.42,942.183 847.42,1445.72 944.354,1445.72 944.354,942.183 847.42,942.183 \n  \"/>\n<path clip-path=\"url(#clip882)\" d=\"\nM944.354 1265.88 L944.354 1445.72 L1041.29 1445.72 L1041.29 1265.88 L944.354 1265.88 L944.354 1265.88  Z\n  \" fill=\"#ff0000\" fill-rule=\"evenodd\" fill-opacity=\"0.5\"/>\n<polyline clip-path=\"url(#clip882)\" style=\"stroke:#000000; stroke-linecap:round; stroke-linejoin:round; stroke-width:4; stroke-opacity:0.5; fill:none\" points=\"\n  944.354,1265.88 944.354,1445.72 1041.29,1445.72 1041.29,1265.88 944.354,1265.88 \n  \"/>\n<path clip-path=\"url(#clip882)\" d=\"\nM1041.29 1391.77 L1041.29 1445.72 L1138.22 1445.72 L1138.22 1391.77 L1041.29 1391.77 L1041.29 1391.77  Z\n  \" fill=\"#ff0000\" fill-rule=\"evenodd\" fill-opacity=\"0.5\"/>\n<polyline clip-path=\"url(#clip882)\" style=\"stroke:#000000; stroke-linecap:round; stroke-linejoin:round; stroke-width:4; stroke-opacity:0.5; fill:none\" points=\"\n  1041.29,1391.77 1041.29,1445.72 1138.22,1445.72 1138.22,1391.77 1041.29,1391.77 \n  \"/>\n<path clip-path=\"url(#clip882)\" d=\"\nM1138.22 1445.72 L1138.22 1445.72 L1235.15 1445.72 L1235.15 1445.72 L1138.22 1445.72 L1138.22 1445.72  Z\n  \" fill=\"#ff0000\" fill-rule=\"evenodd\" fill-opacity=\"0.5\"/>\n<polyline clip-path=\"url(#clip882)\" style=\"stroke:#000000; stroke-linecap:round; stroke-linejoin:round; stroke-width:4; stroke-opacity:0.5; fill:none\" points=\"\n  1138.22,1445.72 1138.22,1445.72 1235.15,1445.72 1138.22,1445.72 \n  \"/>\n<path clip-path=\"url(#clip882)\" d=\"\nM1235.15 1445.72 L1235.15 1445.72 L1332.09 1445.72 L1332.09 1445.72 L1235.15 1445.72 L1235.15 1445.72  Z\n  \" fill=\"#ff0000\" fill-rule=\"evenodd\" fill-opacity=\"0.5\"/>\n<polyline clip-path=\"url(#clip882)\" style=\"stroke:#000000; stroke-linecap:round; stroke-linejoin:round; stroke-width:4; stroke-opacity:0.5; fill:none\" points=\"\n  1235.15,1445.72 1235.15,1445.72 1332.09,1445.72 1235.15,1445.72 \n  \"/>\n<path clip-path=\"url(#clip882)\" d=\"\nM1332.09 1436.72 L1332.09 1445.72 L1429.02 1445.72 L1429.02 1436.72 L1332.09 1436.72 L1332.09 1436.72  Z\n  \" fill=\"#ff0000\" fill-rule=\"evenodd\" fill-opacity=\"0.5\"/>\n<polyline clip-path=\"url(#clip882)\" style=\"stroke:#000000; stroke-linecap:round; stroke-linejoin:round; stroke-width:4; stroke-opacity:0.5; fill:none\" points=\"\n  1332.09,1436.72 1332.09,1445.72 1429.02,1445.72 1429.02,1436.72 1332.09,1436.72 \n  \"/>\n<circle clip-path=\"url(#clip882)\" style=\"fill:#ff0000; stroke:none; fill-opacity:0\" cx=\"314.285\" cy=\"1436.72\" r=\"2\"/>\n<circle clip-path=\"url(#clip882)\" style=\"fill:#ff0000; stroke:none; fill-opacity:0\" cx=\"411.219\" cy=\"1418.74\" r=\"2\"/>\n<circle clip-path=\"url(#clip882)\" style=\"fill:#ff0000; stroke:none; fill-opacity:0\" cx=\"508.152\" cy=\"1373.78\" r=\"2\"/>\n<circle clip-path=\"url(#clip882)\" style=\"fill:#ff0000; stroke:none; fill-opacity:0\" cx=\"605.086\" cy=\"1122.02\" r=\"2\"/>\n<circle clip-path=\"url(#clip882)\" style=\"fill:#ff0000; stroke:none; fill-opacity:0\" cx=\"702.02\" cy=\"834.283\" r=\"2\"/>\n<circle clip-path=\"url(#clip882)\" style=\"fill:#ff0000; stroke:none; fill-opacity:0\" cx=\"798.953\" cy=\"816.3\" r=\"2\"/>\n<circle clip-path=\"url(#clip882)\" style=\"fill:#ff0000; stroke:none; fill-opacity:0\" cx=\"895.887\" cy=\"942.183\" r=\"2\"/>\n<circle clip-path=\"url(#clip882)\" style=\"fill:#ff0000; stroke:none; fill-opacity:0\" cx=\"992.82\" cy=\"1265.88\" r=\"2\"/>\n<circle clip-path=\"url(#clip882)\" style=\"fill:#ff0000; stroke:none; fill-opacity:0\" cx=\"1089.75\" cy=\"1391.77\" r=\"2\"/>\n<circle clip-path=\"url(#clip882)\" style=\"fill:#ff0000; stroke:none; fill-opacity:0\" cx=\"1186.69\" cy=\"1445.72\" r=\"2\"/>\n<circle clip-path=\"url(#clip882)\" style=\"fill:#ff0000; stroke:none; fill-opacity:0\" cx=\"1283.62\" cy=\"1445.72\" r=\"2\"/>\n<circle clip-path=\"url(#clip882)\" style=\"fill:#ff0000; stroke:none; fill-opacity:0\" cx=\"1380.55\" cy=\"1436.72\" r=\"2\"/>\n<path clip-path=\"url(#clip882)\" d=\"\nM653.553 87.9763 L653.553 1445.72 L692.326 1445.72 L692.326 87.9763 L653.553 87.9763 L653.553 87.9763  Z\n  \" fill=\"#0000ff\" fill-rule=\"evenodd\" fill-opacity=\"0.5\"/>\n<polyline clip-path=\"url(#clip882)\" style=\"stroke:#000000; stroke-linecap:round; stroke-linejoin:round; stroke-width:4; stroke-opacity:0.5; fill:none\" points=\"\n  653.553,87.9763 653.553,1445.72 692.326,1445.72 692.326,87.9763 653.553,87.9763 \n  \"/>\n<path clip-path=\"url(#clip882)\" d=\"\nM692.326 1220.92 L692.326 1445.72 L731.1 1445.72 L731.1 1220.92 L692.326 1220.92 L692.326 1220.92  Z\n  \" fill=\"#0000ff\" fill-rule=\"evenodd\" fill-opacity=\"0.5\"/>\n<polyline clip-path=\"url(#clip882)\" style=\"stroke:#000000; stroke-linecap:round; stroke-linejoin:round; stroke-width:4; stroke-opacity:0.5; fill:none\" points=\"\n  692.326,1220.92 692.326,1445.72 731.1,1445.72 731.1,1220.92 692.326,1220.92 \n  \"/>\n<path clip-path=\"url(#clip882)\" d=\"\nM731.1 1256.89 L731.1 1445.72 L769.873 1445.72 L769.873 1256.89 L731.1 1256.89 L731.1 1256.89  Z\n  \" fill=\"#0000ff\" fill-rule=\"evenodd\" fill-opacity=\"0.5\"/>\n<polyline clip-path=\"url(#clip882)\" style=\"stroke:#000000; stroke-linecap:round; stroke-linejoin:round; stroke-width:4; stroke-opacity:0.5; fill:none\" points=\"\n  731.1,1256.89 731.1,1445.72 769.873,1445.72 769.873,1256.89 731.1,1256.89 \n  \"/>\n<path clip-path=\"url(#clip882)\" d=\"\nM769.873 1319.83 L769.873 1445.72 L808.646 1445.72 L808.646 1319.83 L769.873 1319.83 L769.873 1319.83  Z\n  \" fill=\"#0000ff\" fill-rule=\"evenodd\" fill-opacity=\"0.5\"/>\n<polyline clip-path=\"url(#clip882)\" style=\"stroke:#000000; stroke-linecap:round; stroke-linejoin:round; stroke-width:4; stroke-opacity:0.5; fill:none\" points=\"\n  769.873,1319.83 769.873,1445.72 808.646,1445.72 808.646,1319.83 769.873,1319.83 \n  \"/>\n<path clip-path=\"url(#clip882)\" d=\"\nM808.646 1382.77 L808.646 1445.72 L847.42 1445.72 L847.42 1382.77 L808.646 1382.77 L808.646 1382.77  Z\n  \" fill=\"#0000ff\" fill-rule=\"evenodd\" fill-opacity=\"0.5\"/>\n<polyline clip-path=\"url(#clip882)\" style=\"stroke:#000000; stroke-linecap:round; stroke-linejoin:round; stroke-width:4; stroke-opacity:0.5; fill:none\" points=\"\n  808.646,1382.77 808.646,1445.72 847.42,1445.72 847.42,1382.77 808.646,1382.77 \n  \"/>\n<path clip-path=\"url(#clip882)\" d=\"\nM847.42 1391.77 L847.42 1445.72 L886.193 1445.72 L886.193 1391.77 L847.42 1391.77 L847.42 1391.77  Z\n  \" fill=\"#0000ff\" fill-rule=\"evenodd\" fill-opacity=\"0.5\"/>\n<polyline clip-path=\"url(#clip882)\" style=\"stroke:#000000; stroke-linecap:round; stroke-linejoin:round; stroke-width:4; stroke-opacity:0.5; fill:none\" points=\"\n  847.42,1391.77 847.42,1445.72 886.193,1445.72 886.193,1391.77 847.42,1391.77 \n  \"/>\n<path clip-path=\"url(#clip882)\" d=\"\nM886.193 1364.79 L886.193 1445.72 L924.967 1445.72 L924.967 1364.79 L886.193 1364.79 L886.193 1364.79  Z\n  \" fill=\"#0000ff\" fill-rule=\"evenodd\" fill-opacity=\"0.5\"/>\n<polyline clip-path=\"url(#clip882)\" style=\"stroke:#000000; stroke-linecap:round; stroke-linejoin:round; stroke-width:4; stroke-opacity:0.5; fill:none\" points=\"\n  886.193,1364.79 886.193,1445.72 924.967,1445.72 924.967,1364.79 886.193,1364.79 \n  \"/>\n<path clip-path=\"url(#clip882)\" d=\"\nM924.967 1382.77 L924.967 1445.72 L963.74 1445.72 L963.74 1382.77 L924.967 1382.77 L924.967 1382.77  Z\n  \" fill=\"#0000ff\" fill-rule=\"evenodd\" fill-opacity=\"0.5\"/>\n<polyline clip-path=\"url(#clip882)\" style=\"stroke:#000000; stroke-linecap:round; stroke-linejoin:round; stroke-width:4; stroke-opacity:0.5; fill:none\" points=\"\n  924.967,1382.77 924.967,1445.72 963.74,1445.72 963.74,1382.77 924.967,1382.77 \n  \"/>\n<path clip-path=\"url(#clip882)\" d=\"\nM963.74 1409.75 L963.74 1445.72 L1002.51 1445.72 L1002.51 1409.75 L963.74 1409.75 L963.74 1409.75  Z\n  \" fill=\"#0000ff\" fill-rule=\"evenodd\" fill-opacity=\"0.5\"/>\n<polyline clip-path=\"url(#clip882)\" style=\"stroke:#000000; stroke-linecap:round; stroke-linejoin:round; stroke-width:4; stroke-opacity:0.5; fill:none\" points=\"\n  963.74,1409.75 963.74,1445.72 1002.51,1445.72 1002.51,1409.75 963.74,1409.75 \n  \"/>\n<path clip-path=\"url(#clip882)\" d=\"\nM1002.51 1427.73 L1002.51 1445.72 L1041.29 1445.72 L1041.29 1427.73 L1002.51 1427.73 L1002.51 1427.73  Z\n  \" fill=\"#0000ff\" fill-rule=\"evenodd\" fill-opacity=\"0.5\"/>\n<polyline clip-path=\"url(#clip882)\" style=\"stroke:#000000; stroke-linecap:round; stroke-linejoin:round; stroke-width:4; stroke-opacity:0.5; fill:none\" points=\"\n  1002.51,1427.73 1002.51,1445.72 1041.29,1445.72 1041.29,1427.73 1002.51,1427.73 \n  \"/>\n<path clip-path=\"url(#clip882)\" d=\"\nM1041.29 1427.73 L1041.29 1445.72 L1080.06 1445.72 L1080.06 1427.73 L1041.29 1427.73 L1041.29 1427.73  Z\n  \" fill=\"#0000ff\" fill-rule=\"evenodd\" fill-opacity=\"0.5\"/>\n<polyline clip-path=\"url(#clip882)\" style=\"stroke:#000000; stroke-linecap:round; stroke-linejoin:round; stroke-width:4; stroke-opacity:0.5; fill:none\" points=\"\n  1041.29,1427.73 1041.29,1445.72 1080.06,1445.72 1080.06,1427.73 1041.29,1427.73 \n  \"/>\n<path clip-path=\"url(#clip882)\" d=\"\nM1080.06 1427.73 L1080.06 1445.72 L1118.83 1445.72 L1118.83 1427.73 L1080.06 1427.73 L1080.06 1427.73  Z\n  \" fill=\"#0000ff\" fill-rule=\"evenodd\" fill-opacity=\"0.5\"/>\n<polyline clip-path=\"url(#clip882)\" style=\"stroke:#000000; stroke-linecap:round; stroke-linejoin:round; stroke-width:4; stroke-opacity:0.5; fill:none\" points=\"\n  1080.06,1427.73 1080.06,1445.72 1118.83,1445.72 1118.83,1427.73 1080.06,1427.73 \n  \"/>\n<path clip-path=\"url(#clip882)\" d=\"\nM1118.83 1427.73 L1118.83 1445.72 L1157.61 1445.72 L1157.61 1427.73 L1118.83 1427.73 L1118.83 1427.73  Z\n  \" fill=\"#0000ff\" fill-rule=\"evenodd\" fill-opacity=\"0.5\"/>\n<polyline clip-path=\"url(#clip882)\" style=\"stroke:#000000; stroke-linecap:round; stroke-linejoin:round; stroke-width:4; stroke-opacity:0.5; fill:none\" points=\"\n  1118.83,1427.73 1118.83,1445.72 1157.61,1445.72 1157.61,1427.73 1118.83,1427.73 \n  \"/>\n<path clip-path=\"url(#clip882)\" d=\"\nM1157.61 1409.75 L1157.61 1445.72 L1196.38 1445.72 L1196.38 1409.75 L1157.61 1409.75 L1157.61 1409.75  Z\n  \" fill=\"#0000ff\" fill-rule=\"evenodd\" fill-opacity=\"0.5\"/>\n<polyline clip-path=\"url(#clip882)\" style=\"stroke:#000000; stroke-linecap:round; stroke-linejoin:round; stroke-width:4; stroke-opacity:0.5; fill:none\" points=\"\n  1157.61,1409.75 1157.61,1445.72 1196.38,1445.72 1196.38,1409.75 1157.61,1409.75 \n  \"/>\n<path clip-path=\"url(#clip882)\" d=\"\nM1196.38 1427.73 L1196.38 1445.72 L1235.15 1445.72 L1235.15 1427.73 L1196.38 1427.73 L1196.38 1427.73  Z\n  \" fill=\"#0000ff\" fill-rule=\"evenodd\" fill-opacity=\"0.5\"/>\n<polyline clip-path=\"url(#clip882)\" style=\"stroke:#000000; stroke-linecap:round; stroke-linejoin:round; stroke-width:4; stroke-opacity:0.5; fill:none\" points=\"\n  1196.38,1427.73 1196.38,1445.72 1235.15,1445.72 1235.15,1427.73 1196.38,1427.73 \n  \"/>\n<path clip-path=\"url(#clip882)\" d=\"\nM1235.15 1427.73 L1235.15 1445.72 L1273.93 1445.72 L1273.93 1427.73 L1235.15 1427.73 L1235.15 1427.73  Z\n  \" fill=\"#0000ff\" fill-rule=\"evenodd\" fill-opacity=\"0.5\"/>\n<polyline clip-path=\"url(#clip882)\" style=\"stroke:#000000; stroke-linecap:round; stroke-linejoin:round; stroke-width:4; stroke-opacity:0.5; fill:none\" points=\"\n  1235.15,1427.73 1235.15,1445.72 1273.93,1445.72 1273.93,1427.73 1235.15,1427.73 \n  \"/>\n<path clip-path=\"url(#clip882)\" d=\"\nM1273.93 1427.73 L1273.93 1445.72 L1312.7 1445.72 L1312.7 1427.73 L1273.93 1427.73 L1273.93 1427.73  Z\n  \" fill=\"#0000ff\" fill-rule=\"evenodd\" fill-opacity=\"0.5\"/>\n<polyline clip-path=\"url(#clip882)\" style=\"stroke:#000000; stroke-linecap:round; stroke-linejoin:round; stroke-width:4; stroke-opacity:0.5; fill:none\" points=\"\n  1273.93,1427.73 1273.93,1445.72 1312.7,1445.72 1312.7,1427.73 1273.93,1427.73 \n  \"/>\n<path clip-path=\"url(#clip882)\" d=\"\nM1312.7 1445.72 L1312.7 1445.72 L1351.47 1445.72 L1351.47 1445.72 L1312.7 1445.72 L1312.7 1445.72  Z\n  \" fill=\"#0000ff\" fill-rule=\"evenodd\" fill-opacity=\"0.5\"/>\n<polyline clip-path=\"url(#clip882)\" style=\"stroke:#000000; stroke-linecap:round; stroke-linejoin:round; stroke-width:4; stroke-opacity:0.5; fill:none\" points=\"\n  1312.7,1445.72 1312.7,1445.72 1351.47,1445.72 1312.7,1445.72 \n  \"/>\n<path clip-path=\"url(#clip882)\" d=\"\nM1351.47 1436.72 L1351.47 1445.72 L1390.25 1445.72 L1390.25 1436.72 L1351.47 1436.72 L1351.47 1436.72  Z\n  \" fill=\"#0000ff\" fill-rule=\"evenodd\" fill-opacity=\"0.5\"/>\n<polyline clip-path=\"url(#clip882)\" style=\"stroke:#000000; stroke-linecap:round; stroke-linejoin:round; stroke-width:4; stroke-opacity:0.5; fill:none\" points=\"\n  1351.47,1436.72 1351.47,1445.72 1390.25,1445.72 1390.25,1436.72 1351.47,1436.72 \n  \"/>\n<path clip-path=\"url(#clip882)\" d=\"\nM1390.25 1445.72 L1390.25 1445.72 L1429.02 1445.72 L1429.02 1445.72 L1390.25 1445.72 L1390.25 1445.72  Z\n  \" fill=\"#0000ff\" fill-rule=\"evenodd\" fill-opacity=\"0.5\"/>\n<polyline clip-path=\"url(#clip882)\" style=\"stroke:#000000; stroke-linecap:round; stroke-linejoin:round; stroke-width:4; stroke-opacity:0.5; fill:none\" points=\"\n  1390.25,1445.72 1390.25,1445.72 1429.02,1445.72 1390.25,1445.72 \n  \"/>\n<path clip-path=\"url(#clip882)\" d=\"\nM1429.02 1436.72 L1429.02 1445.72 L1467.79 1445.72 L1467.79 1436.72 L1429.02 1436.72 L1429.02 1436.72  Z\n  \" fill=\"#0000ff\" fill-rule=\"evenodd\" fill-opacity=\"0.5\"/>\n<polyline clip-path=\"url(#clip882)\" style=\"stroke:#000000; stroke-linecap:round; stroke-linejoin:round; stroke-width:4; stroke-opacity:0.5; fill:none\" points=\"\n  1429.02,1436.72 1429.02,1445.72 1467.79,1445.72 1467.79,1436.72 1429.02,1436.72 \n  \"/>\n<path clip-path=\"url(#clip882)\" d=\"\nM1467.79 1445.72 L1467.79 1445.72 L1506.57 1445.72 L1506.57 1445.72 L1467.79 1445.72 L1467.79 1445.72  Z\n  \" fill=\"#0000ff\" fill-rule=\"evenodd\" fill-opacity=\"0.5\"/>\n<polyline clip-path=\"url(#clip882)\" style=\"stroke:#000000; stroke-linecap:round; stroke-linejoin:round; stroke-width:4; stroke-opacity:0.5; fill:none\" points=\"\n  1467.79,1445.72 1467.79,1445.72 1506.57,1445.72 1467.79,1445.72 \n  \"/>\n<path clip-path=\"url(#clip882)\" d=\"\nM1506.57 1436.72 L1506.57 1445.72 L1545.34 1445.72 L1545.34 1436.72 L1506.57 1436.72 L1506.57 1436.72  Z\n  \" fill=\"#0000ff\" fill-rule=\"evenodd\" fill-opacity=\"0.5\"/>\n<polyline clip-path=\"url(#clip882)\" style=\"stroke:#000000; stroke-linecap:round; stroke-linejoin:round; stroke-width:4; stroke-opacity:0.5; fill:none\" points=\"\n  1506.57,1436.72 1506.57,1445.72 1545.34,1445.72 1545.34,1436.72 1506.57,1436.72 \n  \"/>\n<path clip-path=\"url(#clip882)\" d=\"\nM1545.34 1445.72 L1545.34 1445.72 L1584.12 1445.72 L1584.12 1445.72 L1545.34 1445.72 L1545.34 1445.72  Z\n  \" fill=\"#0000ff\" fill-rule=\"evenodd\" fill-opacity=\"0.5\"/>\n<polyline clip-path=\"url(#clip882)\" style=\"stroke:#000000; stroke-linecap:round; stroke-linejoin:round; stroke-width:4; stroke-opacity:0.5; fill:none\" points=\"\n  1545.34,1445.72 1545.34,1445.72 1584.12,1445.72 1545.34,1445.72 \n  \"/>\n<path clip-path=\"url(#clip882)\" d=\"\nM1584.12 1445.72 L1584.12 1445.72 L1622.89 1445.72 L1622.89 1445.72 L1584.12 1445.72 L1584.12 1445.72  Z\n  \" fill=\"#0000ff\" fill-rule=\"evenodd\" fill-opacity=\"0.5\"/>\n<polyline clip-path=\"url(#clip882)\" style=\"stroke:#000000; stroke-linecap:round; stroke-linejoin:round; stroke-width:4; stroke-opacity:0.5; fill:none\" points=\"\n  1584.12,1445.72 1584.12,1445.72 1622.89,1445.72 1584.12,1445.72 \n  \"/>\n<path clip-path=\"url(#clip882)\" d=\"\nM1622.89 1436.72 L1622.89 1445.72 L1661.66 1445.72 L1661.66 1436.72 L1622.89 1436.72 L1622.89 1436.72  Z\n  \" fill=\"#0000ff\" fill-rule=\"evenodd\" fill-opacity=\"0.5\"/>\n<polyline clip-path=\"url(#clip882)\" style=\"stroke:#000000; stroke-linecap:round; stroke-linejoin:round; stroke-width:4; stroke-opacity:0.5; fill:none\" points=\"\n  1622.89,1436.72 1622.89,1445.72 1661.66,1445.72 1661.66,1436.72 1622.89,1436.72 \n  \"/>\n<path clip-path=\"url(#clip882)\" d=\"\nM1661.66 1445.72 L1661.66 1445.72 L1700.44 1445.72 L1700.44 1445.72 L1661.66 1445.72 L1661.66 1445.72  Z\n  \" fill=\"#0000ff\" fill-rule=\"evenodd\" fill-opacity=\"0.5\"/>\n<polyline clip-path=\"url(#clip882)\" style=\"stroke:#000000; stroke-linecap:round; stroke-linejoin:round; stroke-width:4; stroke-opacity:0.5; fill:none\" points=\"\n  1661.66,1445.72 1661.66,1445.72 1700.44,1445.72 1661.66,1445.72 \n  \"/>\n<path clip-path=\"url(#clip882)\" d=\"\nM1700.44 1445.72 L1700.44 1445.72 L1739.21 1445.72 L1739.21 1445.72 L1700.44 1445.72 L1700.44 1445.72  Z\n  \" fill=\"#0000ff\" fill-rule=\"evenodd\" fill-opacity=\"0.5\"/>\n<polyline clip-path=\"url(#clip882)\" style=\"stroke:#000000; stroke-linecap:round; stroke-linejoin:round; stroke-width:4; stroke-opacity:0.5; fill:none\" points=\"\n  1700.44,1445.72 1700.44,1445.72 1739.21,1445.72 1700.44,1445.72 \n  \"/>\n<path clip-path=\"url(#clip882)\" d=\"\nM1739.21 1445.72 L1739.21 1445.72 L1777.98 1445.72 L1777.98 1445.72 L1739.21 1445.72 L1739.21 1445.72  Z\n  \" fill=\"#0000ff\" fill-rule=\"evenodd\" fill-opacity=\"0.5\"/>\n<polyline clip-path=\"url(#clip882)\" style=\"stroke:#000000; stroke-linecap:round; stroke-linejoin:round; stroke-width:4; stroke-opacity:0.5; fill:none\" points=\"\n  1739.21,1445.72 1739.21,1445.72 1777.98,1445.72 1739.21,1445.72 \n  \"/>\n<path clip-path=\"url(#clip882)\" d=\"\nM1777.98 1445.72 L1777.98 1445.72 L1816.76 1445.72 L1816.76 1445.72 L1777.98 1445.72 L1777.98 1445.72  Z\n  \" fill=\"#0000ff\" fill-rule=\"evenodd\" fill-opacity=\"0.5\"/>\n<polyline clip-path=\"url(#clip882)\" style=\"stroke:#000000; stroke-linecap:round; stroke-linejoin:round; stroke-width:4; stroke-opacity:0.5; fill:none\" points=\"\n  1777.98,1445.72 1777.98,1445.72 1816.76,1445.72 1777.98,1445.72 \n  \"/>\n<path clip-path=\"url(#clip882)\" d=\"\nM1816.76 1436.72 L1816.76 1445.72 L1855.53 1445.72 L1855.53 1436.72 L1816.76 1436.72 L1816.76 1436.72  Z\n  \" fill=\"#0000ff\" fill-rule=\"evenodd\" fill-opacity=\"0.5\"/>\n<polyline clip-path=\"url(#clip882)\" style=\"stroke:#000000; stroke-linecap:round; stroke-linejoin:round; stroke-width:4; stroke-opacity:0.5; fill:none\" points=\"\n  1816.76,1436.72 1816.76,1445.72 1855.53,1445.72 1855.53,1436.72 1816.76,1436.72 \n  \"/>\n<path clip-path=\"url(#clip882)\" d=\"\nM1855.53 1445.72 L1855.53 1445.72 L1894.3 1445.72 L1894.3 1445.72 L1855.53 1445.72 L1855.53 1445.72  Z\n  \" fill=\"#0000ff\" fill-rule=\"evenodd\" fill-opacity=\"0.5\"/>\n<polyline clip-path=\"url(#clip882)\" style=\"stroke:#000000; stroke-linecap:round; stroke-linejoin:round; stroke-width:4; stroke-opacity:0.5; fill:none\" points=\"\n  1855.53,1445.72 1855.53,1445.72 1894.3,1445.72 1855.53,1445.72 \n  \"/>\n<path clip-path=\"url(#clip882)\" d=\"\nM1894.3 1445.72 L1894.3 1445.72 L1933.08 1445.72 L1933.08 1445.72 L1894.3 1445.72 L1894.3 1445.72  Z\n  \" fill=\"#0000ff\" fill-rule=\"evenodd\" fill-opacity=\"0.5\"/>\n<polyline clip-path=\"url(#clip882)\" style=\"stroke:#000000; stroke-linecap:round; stroke-linejoin:round; stroke-width:4; stroke-opacity:0.5; fill:none\" points=\"\n  1894.3,1445.72 1894.3,1445.72 1933.08,1445.72 1894.3,1445.72 \n  \"/>\n<path clip-path=\"url(#clip882)\" d=\"\nM1933.08 1445.72 L1933.08 1445.72 L1971.85 1445.72 L1971.85 1445.72 L1933.08 1445.72 L1933.08 1445.72  Z\n  \" fill=\"#0000ff\" fill-rule=\"evenodd\" fill-opacity=\"0.5\"/>\n<polyline clip-path=\"url(#clip882)\" style=\"stroke:#000000; stroke-linecap:round; stroke-linejoin:round; stroke-width:4; stroke-opacity:0.5; fill:none\" points=\"\n  1933.08,1445.72 1933.08,1445.72 1971.85,1445.72 1933.08,1445.72 \n  \"/>\n<path clip-path=\"url(#clip882)\" d=\"\nM1971.85 1445.72 L1971.85 1445.72 L2010.62 1445.72 L2010.62 1445.72 L1971.85 1445.72 L1971.85 1445.72  Z\n  \" fill=\"#0000ff\" fill-rule=\"evenodd\" fill-opacity=\"0.5\"/>\n<polyline clip-path=\"url(#clip882)\" style=\"stroke:#000000; stroke-linecap:round; stroke-linejoin:round; stroke-width:4; stroke-opacity:0.5; fill:none\" points=\"\n  1971.85,1445.72 1971.85,1445.72 2010.62,1445.72 1971.85,1445.72 \n  \"/>\n<path clip-path=\"url(#clip882)\" d=\"\nM2010.62 1445.72 L2010.62 1445.72 L2049.4 1445.72 L2049.4 1445.72 L2010.62 1445.72 L2010.62 1445.72  Z\n  \" fill=\"#0000ff\" fill-rule=\"evenodd\" fill-opacity=\"0.5\"/>\n<polyline clip-path=\"url(#clip882)\" style=\"stroke:#000000; stroke-linecap:round; stroke-linejoin:round; stroke-width:4; stroke-opacity:0.5; fill:none\" points=\"\n  2010.62,1445.72 2010.62,1445.72 2049.4,1445.72 2010.62,1445.72 \n  \"/>\n<path clip-path=\"url(#clip882)\" d=\"\nM2049.4 1445.72 L2049.4 1445.72 L2088.17 1445.72 L2088.17 1445.72 L2049.4 1445.72 L2049.4 1445.72  Z\n  \" fill=\"#0000ff\" fill-rule=\"evenodd\" fill-opacity=\"0.5\"/>\n<polyline clip-path=\"url(#clip882)\" style=\"stroke:#000000; stroke-linecap:round; stroke-linejoin:round; stroke-width:4; stroke-opacity:0.5; fill:none\" points=\"\n  2049.4,1445.72 2049.4,1445.72 2088.17,1445.72 2049.4,1445.72 \n  \"/>\n<path clip-path=\"url(#clip882)\" d=\"\nM2088.17 1436.72 L2088.17 1445.72 L2126.94 1445.72 L2126.94 1436.72 L2088.17 1436.72 L2088.17 1436.72  Z\n  \" fill=\"#0000ff\" fill-rule=\"evenodd\" fill-opacity=\"0.5\"/>\n<polyline clip-path=\"url(#clip882)\" style=\"stroke:#000000; stroke-linecap:round; stroke-linejoin:round; stroke-width:4; stroke-opacity:0.5; fill:none\" points=\"\n  2088.17,1436.72 2088.17,1445.72 2126.94,1445.72 2126.94,1436.72 2088.17,1436.72 \n  \"/>\n<path clip-path=\"url(#clip882)\" d=\"\nM2126.94 1445.72 L2126.94 1445.72 L2165.72 1445.72 L2165.72 1445.72 L2126.94 1445.72 L2126.94 1445.72  Z\n  \" fill=\"#0000ff\" fill-rule=\"evenodd\" fill-opacity=\"0.5\"/>\n<polyline clip-path=\"url(#clip882)\" style=\"stroke:#000000; stroke-linecap:round; stroke-linejoin:round; stroke-width:4; stroke-opacity:0.5; fill:none\" points=\"\n  2126.94,1445.72 2126.94,1445.72 2165.72,1445.72 2126.94,1445.72 \n  \"/>\n<path clip-path=\"url(#clip882)\" d=\"\nM2165.72 1445.72 L2165.72 1445.72 L2204.49 1445.72 L2204.49 1445.72 L2165.72 1445.72 L2165.72 1445.72  Z\n  \" fill=\"#0000ff\" fill-rule=\"evenodd\" fill-opacity=\"0.5\"/>\n<polyline clip-path=\"url(#clip882)\" style=\"stroke:#000000; stroke-linecap:round; stroke-linejoin:round; stroke-width:4; stroke-opacity:0.5; fill:none\" points=\"\n  2165.72,1445.72 2165.72,1445.72 2204.49,1445.72 2165.72,1445.72 \n  \"/>\n<path clip-path=\"url(#clip882)\" d=\"\nM2204.49 1436.72 L2204.49 1445.72 L2243.26 1445.72 L2243.26 1436.72 L2204.49 1436.72 L2204.49 1436.72  Z\n  \" fill=\"#0000ff\" fill-rule=\"evenodd\" fill-opacity=\"0.5\"/>\n<polyline clip-path=\"url(#clip882)\" style=\"stroke:#000000; stroke-linecap:round; stroke-linejoin:round; stroke-width:4; stroke-opacity:0.5; fill:none\" points=\"\n  2204.49,1436.72 2204.49,1445.72 2243.26,1445.72 2243.26,1436.72 2204.49,1436.72 \n  \"/>\n<circle clip-path=\"url(#clip882)\" style=\"fill:#0000ff; stroke:none; fill-opacity:0\" cx=\"672.939\" cy=\"87.9763\" r=\"2\"/>\n<circle clip-path=\"url(#clip882)\" style=\"fill:#0000ff; stroke:none; fill-opacity:0\" cx=\"711.713\" cy=\"1220.92\" r=\"2\"/>\n<circle clip-path=\"url(#clip882)\" style=\"fill:#0000ff; stroke:none; fill-opacity:0\" cx=\"750.486\" cy=\"1256.89\" r=\"2\"/>\n<circle clip-path=\"url(#clip882)\" style=\"fill:#0000ff; stroke:none; fill-opacity:0\" cx=\"789.26\" cy=\"1319.83\" r=\"2\"/>\n<circle clip-path=\"url(#clip882)\" style=\"fill:#0000ff; stroke:none; fill-opacity:0\" cx=\"828.033\" cy=\"1382.77\" r=\"2\"/>\n<circle clip-path=\"url(#clip882)\" style=\"fill:#0000ff; stroke:none; fill-opacity:0\" cx=\"866.807\" cy=\"1391.77\" r=\"2\"/>\n<circle clip-path=\"url(#clip882)\" style=\"fill:#0000ff; stroke:none; fill-opacity:0\" cx=\"905.58\" cy=\"1364.79\" r=\"2\"/>\n<circle clip-path=\"url(#clip882)\" style=\"fill:#0000ff; stroke:none; fill-opacity:0\" cx=\"944.354\" cy=\"1382.77\" r=\"2\"/>\n<circle clip-path=\"url(#clip882)\" style=\"fill:#0000ff; stroke:none; fill-opacity:0\" cx=\"983.127\" cy=\"1409.75\" r=\"2\"/>\n<circle clip-path=\"url(#clip882)\" style=\"fill:#0000ff; stroke:none; fill-opacity:0\" cx=\"1021.9\" cy=\"1427.73\" r=\"2\"/>\n<circle clip-path=\"url(#clip882)\" style=\"fill:#0000ff; stroke:none; fill-opacity:0\" cx=\"1060.67\" cy=\"1427.73\" r=\"2\"/>\n<circle clip-path=\"url(#clip882)\" style=\"fill:#0000ff; stroke:none; fill-opacity:0\" cx=\"1099.45\" cy=\"1427.73\" r=\"2\"/>\n<circle clip-path=\"url(#clip882)\" style=\"fill:#0000ff; stroke:none; fill-opacity:0\" cx=\"1138.22\" cy=\"1427.73\" r=\"2\"/>\n<circle clip-path=\"url(#clip882)\" style=\"fill:#0000ff; stroke:none; fill-opacity:0\" cx=\"1176.99\" cy=\"1409.75\" r=\"2\"/>\n<circle clip-path=\"url(#clip882)\" style=\"fill:#0000ff; stroke:none; fill-opacity:0\" cx=\"1215.77\" cy=\"1427.73\" r=\"2\"/>\n<circle clip-path=\"url(#clip882)\" style=\"fill:#0000ff; stroke:none; fill-opacity:0\" cx=\"1254.54\" cy=\"1427.73\" r=\"2\"/>\n<circle clip-path=\"url(#clip882)\" style=\"fill:#0000ff; stroke:none; fill-opacity:0\" cx=\"1293.31\" cy=\"1427.73\" r=\"2\"/>\n<circle clip-path=\"url(#clip882)\" style=\"fill:#0000ff; stroke:none; fill-opacity:0\" cx=\"1332.09\" cy=\"1445.72\" r=\"2\"/>\n<circle clip-path=\"url(#clip882)\" style=\"fill:#0000ff; stroke:none; fill-opacity:0\" cx=\"1370.86\" cy=\"1436.72\" r=\"2\"/>\n<circle clip-path=\"url(#clip882)\" style=\"fill:#0000ff; stroke:none; fill-opacity:0\" cx=\"1409.63\" cy=\"1445.72\" r=\"2\"/>\n<circle clip-path=\"url(#clip882)\" style=\"fill:#0000ff; stroke:none; fill-opacity:0\" cx=\"1448.41\" cy=\"1436.72\" r=\"2\"/>\n<circle clip-path=\"url(#clip882)\" style=\"fill:#0000ff; stroke:none; fill-opacity:0\" cx=\"1487.18\" cy=\"1445.72\" r=\"2\"/>\n<circle clip-path=\"url(#clip882)\" style=\"fill:#0000ff; stroke:none; fill-opacity:0\" cx=\"1525.96\" cy=\"1436.72\" r=\"2\"/>\n<circle clip-path=\"url(#clip882)\" style=\"fill:#0000ff; stroke:none; fill-opacity:0\" cx=\"1564.73\" cy=\"1445.72\" r=\"2\"/>\n<circle clip-path=\"url(#clip882)\" style=\"fill:#0000ff; stroke:none; fill-opacity:0\" cx=\"1603.5\" cy=\"1445.72\" r=\"2\"/>\n<circle clip-path=\"url(#clip882)\" style=\"fill:#0000ff; stroke:none; fill-opacity:0\" cx=\"1642.28\" cy=\"1436.72\" r=\"2\"/>\n<circle clip-path=\"url(#clip882)\" style=\"fill:#0000ff; stroke:none; fill-opacity:0\" cx=\"1681.05\" cy=\"1445.72\" r=\"2\"/>\n<circle clip-path=\"url(#clip882)\" style=\"fill:#0000ff; stroke:none; fill-opacity:0\" cx=\"1719.82\" cy=\"1445.72\" r=\"2\"/>\n<circle clip-path=\"url(#clip882)\" style=\"fill:#0000ff; stroke:none; fill-opacity:0\" cx=\"1758.6\" cy=\"1445.72\" r=\"2\"/>\n<circle clip-path=\"url(#clip882)\" style=\"fill:#0000ff; stroke:none; fill-opacity:0\" cx=\"1797.37\" cy=\"1445.72\" r=\"2\"/>\n<circle clip-path=\"url(#clip882)\" style=\"fill:#0000ff; stroke:none; fill-opacity:0\" cx=\"1836.14\" cy=\"1436.72\" r=\"2\"/>\n<circle clip-path=\"url(#clip882)\" style=\"fill:#0000ff; stroke:none; fill-opacity:0\" cx=\"1874.92\" cy=\"1445.72\" r=\"2\"/>\n<circle clip-path=\"url(#clip882)\" style=\"fill:#0000ff; stroke:none; fill-opacity:0\" cx=\"1913.69\" cy=\"1445.72\" r=\"2\"/>\n<circle clip-path=\"url(#clip882)\" style=\"fill:#0000ff; stroke:none; fill-opacity:0\" cx=\"1952.46\" cy=\"1445.72\" r=\"2\"/>\n<circle clip-path=\"url(#clip882)\" style=\"fill:#0000ff; stroke:none; fill-opacity:0\" cx=\"1991.24\" cy=\"1445.72\" r=\"2\"/>\n<circle clip-path=\"url(#clip882)\" style=\"fill:#0000ff; stroke:none; fill-opacity:0\" cx=\"2030.01\" cy=\"1445.72\" r=\"2\"/>\n<circle clip-path=\"url(#clip882)\" style=\"fill:#0000ff; stroke:none; fill-opacity:0\" cx=\"2068.78\" cy=\"1445.72\" r=\"2\"/>\n<circle clip-path=\"url(#clip882)\" style=\"fill:#0000ff; stroke:none; fill-opacity:0\" cx=\"2107.56\" cy=\"1436.72\" r=\"2\"/>\n<circle clip-path=\"url(#clip882)\" style=\"fill:#0000ff; stroke:none; fill-opacity:0\" cx=\"2146.33\" cy=\"1445.72\" r=\"2\"/>\n<circle clip-path=\"url(#clip882)\" style=\"fill:#0000ff; stroke:none; fill-opacity:0\" cx=\"2185.1\" cy=\"1445.72\" r=\"2\"/>\n<circle clip-path=\"url(#clip882)\" style=\"fill:#0000ff; stroke:none; fill-opacity:0\" cx=\"2223.88\" cy=\"1436.72\" r=\"2\"/>\n<path clip-path=\"url(#clip880)\" d=\"\nM1938.15 250.738 L2279.97 250.738 L2279.97 95.2176 L1938.15 95.2176  Z\n  \" fill=\"#ffffff\" fill-rule=\"evenodd\" fill-opacity=\"1\"/>\n<polyline clip-path=\"url(#clip880)\" style=\"stroke:#000000; stroke-linecap:round; stroke-linejoin:round; stroke-width:4; stroke-opacity:1; fill:none\" points=\"\n  1938.15,250.738 2279.97,250.738 2279.97,95.2176 1938.15,95.2176 1938.15,250.738 \n  \"/>\n<path clip-path=\"url(#clip880)\" d=\"\nM1962.42 167.794 L2107.99 167.794 L2107.99 126.322 L1962.42 126.322 L1962.42 167.794  Z\n  \" fill=\"#ff0000\" fill-rule=\"evenodd\" fill-opacity=\"0.5\"/>\n<polyline clip-path=\"url(#clip880)\" style=\"stroke:#000000; stroke-linecap:round; stroke-linejoin:round; stroke-width:4; stroke-opacity:1; fill:none\" points=\"\n  1962.42,167.794 2107.99,167.794 2107.99,126.322 1962.42,126.322 1962.42,167.794 \n  \"/>\n<path clip-path=\"url(#clip880)\" d=\"M2136.54 160.449 L2136.54 174.199 L2132.25 174.199 L2132.25 138.412 L2136.54 138.412 L2136.54 142.347 Q2137.88 140.032 2139.92 138.921 Q2141.98 137.787 2144.82 137.787 Q2149.55 137.787 2152.48 141.537 Q2155.45 145.287 2155.45 151.398 Q2155.45 157.509 2152.48 161.259 Q2149.55 165.009 2144.82 165.009 Q2141.98 165.009 2139.92 163.898 Q2137.88 162.763 2136.54 160.449 M2151.03 151.398 Q2151.03 146.699 2149.08 144.037 Q2147.16 141.352 2143.78 141.352 Q2140.4 141.352 2138.46 144.037 Q2136.54 146.699 2136.54 151.398 Q2136.54 156.097 2138.46 158.782 Q2140.4 161.444 2143.78 161.444 Q2147.16 161.444 2149.08 158.782 Q2151.03 156.097 2151.03 151.398 Z\" fill=\"#000000\" fill-rule=\"evenodd\" fill-opacity=\"1\" /><path clip-path=\"url(#clip880)\" d=\"M2177.53 142.393 Q2176.81 141.977 2175.96 141.791 Q2175.12 141.583 2174.11 141.583 Q2170.49 141.583 2168.55 143.944 Q2166.63 146.282 2166.63 150.68 L2166.63 164.338 L2162.35 164.338 L2162.35 138.412 L2166.63 138.412 L2166.63 142.44 Q2167.97 140.078 2170.12 138.944 Q2172.28 137.787 2175.36 137.787 Q2175.8 137.787 2176.33 137.856 Q2176.86 137.903 2177.51 138.018 L2177.53 142.393 Z\" fill=\"#000000\" fill-rule=\"evenodd\" fill-opacity=\"1\" /><path clip-path=\"url(#clip880)\" d=\"M2203.13 150.31 L2203.13 152.393 L2183.55 152.393 Q2183.83 156.791 2186.19 159.106 Q2188.57 161.398 2192.81 161.398 Q2195.26 161.398 2197.55 160.796 Q2199.87 160.194 2202.14 158.99 L2202.14 163.018 Q2199.85 163.99 2197.44 164.5 Q2195.03 165.009 2192.55 165.009 Q2186.35 165.009 2182.72 161.398 Q2179.11 157.787 2179.11 151.629 Q2179.11 145.264 2182.53 141.537 Q2185.98 137.787 2191.81 137.787 Q2197.04 137.787 2200.08 141.166 Q2203.13 144.523 2203.13 150.31 M2198.87 149.06 Q2198.83 145.565 2196.91 143.481 Q2195.01 141.398 2191.86 141.398 Q2188.29 141.398 2186.14 143.412 Q2184.01 145.426 2183.69 149.083 L2198.87 149.06 Z\" fill=\"#000000\" fill-rule=\"evenodd\" fill-opacity=\"1\" /><path clip-path=\"url(#clip880)\" d=\"M2227.18 142.347 L2227.18 128.319 L2231.44 128.319 L2231.44 164.338 L2227.18 164.338 L2227.18 160.449 Q2225.84 162.763 2223.78 163.898 Q2221.74 165.009 2218.87 165.009 Q2214.17 165.009 2211.21 161.259 Q2208.27 157.509 2208.27 151.398 Q2208.27 145.287 2211.21 141.537 Q2214.17 137.787 2218.87 137.787 Q2221.74 137.787 2223.78 138.921 Q2225.84 140.032 2227.18 142.347 M2212.67 151.398 Q2212.67 156.097 2214.59 158.782 Q2216.54 161.444 2219.92 161.444 Q2223.29 161.444 2225.24 158.782 Q2227.18 156.097 2227.18 151.398 Q2227.18 146.699 2225.24 144.037 Q2223.29 141.352 2219.92 141.352 Q2216.54 141.352 2214.59 144.037 Q2212.67 146.699 2212.67 151.398 Z\" fill=\"#000000\" fill-rule=\"evenodd\" fill-opacity=\"1\" /><path clip-path=\"url(#clip880)\" d=\"\nM1962.42 219.634 L2107.99 219.634 L2107.99 178.162 L1962.42 178.162 L1962.42 219.634  Z\n  \" fill=\"#0000ff\" fill-rule=\"evenodd\" fill-opacity=\"0.5\"/>\n<polyline clip-path=\"url(#clip880)\" style=\"stroke:#000000; stroke-linecap:round; stroke-linejoin:round; stroke-width:4; stroke-opacity:1; fill:none\" points=\"\n  1962.42,219.634 2107.99,219.634 2107.99,178.162 1962.42,178.162 1962.42,219.634 \n  \"/>\n<path clip-path=\"url(#clip880)\" d=\"M2139.66 182.891 L2139.66 190.252 L2148.43 190.252 L2148.43 193.562 L2139.66 193.562 L2139.66 207.636 Q2139.66 210.807 2140.52 211.71 Q2141.4 212.613 2144.06 212.613 L2148.43 212.613 L2148.43 216.178 L2144.06 216.178 Q2139.13 216.178 2137.25 214.349 Q2135.38 212.497 2135.38 207.636 L2135.38 193.562 L2132.25 193.562 L2132.25 190.252 L2135.38 190.252 L2135.38 182.891 L2139.66 182.891 Z\" fill=\"#000000\" fill-rule=\"evenodd\" fill-opacity=\"1\" /><path clip-path=\"url(#clip880)\" d=\"M2176.21 202.15 L2176.21 204.233 L2156.63 204.233 Q2156.91 208.631 2159.27 210.946 Q2161.65 213.238 2165.89 213.238 Q2168.34 213.238 2170.63 212.636 Q2172.95 212.034 2175.22 210.83 L2175.22 214.858 Q2172.92 215.83 2170.52 216.34 Q2168.11 216.849 2165.63 216.849 Q2159.43 216.849 2155.8 213.238 Q2152.18 209.627 2152.18 203.469 Q2152.18 197.104 2155.61 193.377 Q2159.06 189.627 2164.89 189.627 Q2170.12 189.627 2173.16 193.006 Q2176.21 196.363 2176.21 202.15 M2171.95 200.9 Q2171.91 197.405 2169.98 195.321 Q2168.09 193.238 2164.94 193.238 Q2161.37 193.238 2159.22 195.252 Q2157.09 197.266 2156.77 200.923 L2171.95 200.9 Z\" fill=\"#000000\" fill-rule=\"evenodd\" fill-opacity=\"1\" /><path clip-path=\"url(#clip880)\" d=\"M2199.73 191.016 L2199.73 195.043 Q2197.92 194.117 2195.98 193.655 Q2194.04 193.192 2191.95 193.192 Q2188.78 193.192 2187.18 194.164 Q2185.61 195.136 2185.61 197.08 Q2185.61 198.562 2186.74 199.418 Q2187.88 200.252 2191.3 201.016 L2192.76 201.34 Q2197.3 202.312 2199.2 204.094 Q2201.12 205.854 2201.12 209.025 Q2201.12 212.636 2198.25 214.742 Q2195.4 216.849 2190.4 216.849 Q2188.32 216.849 2186.05 216.432 Q2183.8 216.039 2181.3 215.228 L2181.3 210.83 Q2183.67 212.057 2185.96 212.682 Q2188.25 213.284 2190.49 213.284 Q2193.5 213.284 2195.12 212.266 Q2196.74 211.224 2196.74 209.349 Q2196.74 207.613 2195.56 206.687 Q2194.41 205.761 2190.45 204.904 L2188.97 204.557 Q2185.01 203.724 2183.25 202.011 Q2181.49 200.275 2181.49 197.266 Q2181.49 193.608 2184.08 191.618 Q2186.67 189.627 2191.44 189.627 Q2193.8 189.627 2195.89 189.974 Q2197.97 190.321 2199.73 191.016 Z\" fill=\"#000000\" fill-rule=\"evenodd\" fill-opacity=\"1\" /><path clip-path=\"url(#clip880)\" d=\"M2212.11 182.891 L2212.11 190.252 L2220.89 190.252 L2220.89 193.562 L2212.11 193.562 L2212.11 207.636 Q2212.11 210.807 2212.97 211.71 Q2213.85 212.613 2216.51 212.613 L2220.89 212.613 L2220.89 216.178 L2216.51 216.178 Q2211.58 216.178 2209.71 214.349 Q2207.83 212.497 2207.83 207.636 L2207.83 193.562 L2204.71 193.562 L2204.71 190.252 L2207.83 190.252 L2207.83 182.891 L2212.11 182.891 Z\" fill=\"#000000\" fill-rule=\"evenodd\" fill-opacity=\"1\" /></svg>\n"
     },
     "metadata": {},
     "output_type": "display_data"
    }
   ],
   "source": [
    "HolReg_betas = Holistic_model(train_valid, test);\n",
    "\n",
    "# save the predictions\n",
    "HolReg_pred = Matrix(transform_data(get_features(test))[:, features_keep_sorted]) * HolReg_betas[features_keep_sorted]\n",
    "CSV.write(\"HolReg_pred.csv\", DataFrame(pred = HolReg_pred));"
   ]
  },
  {
   "cell_type": "code",
   "execution_count": null,
   "metadata": {},
   "outputs": [],
   "source": []
  }
 ],
 "metadata": {
  "kernelspec": {
   "display_name": "Julia (IAI) (fk le bogos) 1.8.2",
   "language": "julia",
   "name": "julia-(iai)-(fk-le-bogos)-1.8"
  },
  "language_info": {
   "file_extension": ".jl",
   "mimetype": "application/julia",
   "name": "julia",
   "version": "1.8.2"
  },
  "orig_nbformat": 4
 },
 "nbformat": 4,
 "nbformat_minor": 2
}
