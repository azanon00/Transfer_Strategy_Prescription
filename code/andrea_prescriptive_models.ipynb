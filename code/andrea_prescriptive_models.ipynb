{
 "cells": [
  {
   "cell_type": "markdown",
   "metadata": {},
   "source": [
    "see whatsapp messages for possible improvements\n",
    "\n",
    "get curve for delta"
   ]
  },
  {
   "cell_type": "markdown",
   "metadata": {},
   "source": [
    "# import data and libraries"
   ]
  },
  {
   "cell_type": "code",
   "execution_count": 1,
   "metadata": {},
   "outputs": [],
   "source": [
    "using CSV, DataFrames, Plots, Random, DecisionTree, Statistics, LinearAlgebra, JuMP, Gurobi, NearestNeighbors"
   ]
  },
  {
   "cell_type": "code",
   "execution_count": 2,
   "metadata": {},
   "outputs": [],
   "source": [
    "const GRB_ENV = Gurobi.Env(output_flag=0);"
   ]
  },
  {
   "cell_type": "code",
   "execution_count": 3,
   "metadata": {},
   "outputs": [],
   "source": [
    "# load data, we have to keep the data for all the players\n",
    "data = CSV.read(\"../data/fifa/players_22_preprocessed.csv\", DataFrame)\n",
    "transfers = CSV.read(\"../data/Transfers/all_transfers.csv\", DataFrame);"
   ]
  },
  {
   "cell_type": "code",
   "execution_count": 5,
   "metadata": {},
   "outputs": [],
   "source": [
    "# iterate over all clubs, and save players that are part of that clubs\n",
    "club_players = Dict()\n",
    "for club in Set(data[:, \"club_name\"])\n",
    "    club_players[club] = data[data[:, \"club_name\"] .== club, :]\n",
    "end"
   ]
  },
  {
   "cell_type": "code",
   "execution_count": 6,
   "metadata": {},
   "outputs": [],
   "source": [
    "# keep only 2022 transfers\n",
    "transfers = transfers[transfers[:, \"year\"] .== 2022, :];"
   ]
  },
  {
   "cell_type": "markdown",
   "metadata": {},
   "source": [
    "# Choose club we are making prescription for"
   ]
  },
  {
   "cell_type": "markdown",
   "metadata": {},
   "source": [
    "When we do prescription, we are pretending to be one specific club. We can do the same for multiple clubs."
   ]
  },
  {
   "cell_type": "code",
   "execution_count": 13,
   "metadata": {},
   "outputs": [],
   "source": [
    "club_choosen = \"AC Milan\"\n",
    "club_choosen_transferName = \"AC Milan\"\n",
    ";"
   ]
  },
  {
   "cell_type": "code",
   "execution_count": 14,
   "metadata": {},
   "outputs": [],
   "source": [
    "data_club = club_players[club_choosen]\n",
    "data_rest = data[data[:, \"club_name\"] .!= club_choosen, :]\n",
    ";"
   ]
  },
  {
   "cell_type": "code",
   "execution_count": 15,
   "metadata": {},
   "outputs": [
    {
     "data": {
      "text/plain": [
       "get_parameters (generic function with 1 method)"
      ]
     },
     "execution_count": 15,
     "metadata": {},
     "output_type": "execute_result"
    }
   ],
   "source": [
    "# get parameters we need in our prescriptive model\n",
    "function get_parameters(data_club, data_rest, transfers_club)\n",
    "    n = size(data_rest, 1) # players that can be recruited\n",
    "    N_c = k = size(data_club, 1) # number of players in the club, equal to how many we can consider to sell\n",
    "    N_min = minimum([size(club_players[club])[1] for club in keys(club_players)]) # minimum number of players in the club\n",
    "    N_max = maximum([size(club_players[club])[1] for club in keys(club_players)]) # maximum number of players in the club\n",
    "    B_max = 10 # maximum number of players that can be bought\n",
    "    S_max = 3 # maximum number of players that can be sold\n",
    "\n",
    "    # for players outside the club\n",
    "    p_o = data_rest[:, \"potential\"] # potential\n",
    "    r_o = data_rest[:, \"overall\"] # rating\n",
    "    v_o = data_rest[:, \"value_eur\"] # value (later we will use the value predicted in the prediction part)\n",
    "    m_o = 0.9 * r_o + 0.1 * p_o # overall rating\n",
    "    a_o = data_rest[:, \"age\"] # age\n",
    "\n",
    "    # for players inside the club\n",
    "    p_c = data_club[:, \"potential\"] # potential \n",
    "    r_c = data_club[:, \"overall\"] # rating \n",
    "    v_c = data_club[:, \"value_eur\"] # value (same as above)\n",
    "    m_c = 0.6 * r_c + 0.4 * p_c # overall rating\n",
    "    a_c = data_club[:, \"age\"] # age\n",
    "\n",
    "    𝛅 = 1 # how much we want to improve the team\n",
    "    𝛾 = 0.2 # how much we can increase the average age at most\n",
    "\n",
    "    return n, N_c, N_min, N_max, B_max, S_max, p_o, r_o, v_o, m_o, a_o, p_c, r_c, v_c, m_c, a_c, 𝛅, 𝛾\n",
    "end"
   ]
  },
  {
   "cell_type": "markdown",
   "metadata": {},
   "source": [
    "### interesting idea:\n",
    "\n",
    "instead of manually choosing the value of 𝛅, we can compute it from the last transfer window of that team.\n",
    "As a consquence, our optimization model will find the cheapest way to do better than what the team did in real life.\n",
    "Of course, we can't do that in the future, but it's still true that a team could put the delta they want and get the results."
   ]
  },
  {
   "cell_type": "markdown",
   "metadata": {},
   "source": [
    "## Define functions that will be used across models"
   ]
  },
  {
   "cell_type": "code",
   "execution_count": 16,
   "metadata": {},
   "outputs": [],
   "source": [
    "# define target and features\n",
    "target = \"fee\";"
   ]
  },
  {
   "cell_type": "code",
   "execution_count": 17,
   "metadata": {},
   "outputs": [
    {
     "data": {
      "text/plain": [
       "get_features (generic function with 1 method)"
      ]
     },
     "execution_count": 17,
     "metadata": {},
     "output_type": "execute_result"
    }
   ],
   "source": [
    "function get_features(df)\n",
    "    return select(df, Not(target))\n",
    "end"
   ]
  },
  {
   "cell_type": "code",
   "execution_count": 18,
   "metadata": {},
   "outputs": [
    {
     "data": {
      "text/plain": [
       "get_target (generic function with 1 method)"
      ]
     },
     "execution_count": 18,
     "metadata": {},
     "output_type": "execute_result"
    }
   ],
   "source": [
    "function get_target(df)\n",
    "    return df[:, target]\n",
    "end"
   ]
  },
  {
   "cell_type": "code",
   "execution_count": 15,
   "metadata": {},
   "outputs": [
    {
     "data": {
      "text/plain": [
       "compute_results (generic function with 1 method)"
      ]
     },
     "execution_count": 15,
     "metadata": {},
     "output_type": "execute_result"
    }
   ],
   "source": [
    "function compute_results(pred, test)\n",
    "    # compute the mean absolute error\n",
    "    mae = Metrics.mae(pred, test)\n",
    "    # compute the mean squared error\n",
    "    mse = Metrics.mse(pred, test)\n",
    "    # compute the root mean squared error\n",
    "    rmse = sqrt.(mse)\n",
    "    # compute the r2\n",
    "    osr2 = Metrics.r2_score(pred, test)\n",
    "\n",
    "    # turn into dataframe\n",
    "    results = DataFrame(mae = mae, mse = mse, rmse = rmse, osr2 = osr2)\n",
    "\n",
    "    # print the results\n",
    "    display(results)\n",
    "end"
   ]
  },
  {
   "cell_type": "code",
   "execution_count": 16,
   "metadata": {},
   "outputs": [
    {
     "data": {
      "text/plain": [
       "check_prediction_value (generic function with 1 method)"
      ]
     },
     "execution_count": 16,
     "metadata": {},
     "output_type": "execute_result"
    }
   ],
   "source": [
    "function check_prediction_value(pred, test)\n",
    "\n",
    "    # set plot dimensions\n",
    "    plot_size = (800, 400)\n",
    "    \n",
    "    histogram(pred, label = \"pred\", color = \"red\", seriesalpha = 0.5)\n",
    "    display(histogram!(test, label = \"test\", color = \"blue\", seriesalpha = 0.5))\n",
    "\n",
    "end"
   ]
  },
  {
   "cell_type": "markdown",
   "metadata": {},
   "source": [
    "# Approach 0: What truly happened in the last transfer window"
   ]
  },
  {
   "cell_type": "code",
   "execution_count": 97,
   "metadata": {},
   "outputs": [],
   "source": [
    "# useful to compare our model with what truly happens\n",
    "transfers_club = transfers[transfers[:, \"club_name\"] .== club_choosen_transferName, :]\n",
    "transfers_club = transfers_club[completecases(transfers_club), :];"
   ]
  },
  {
   "cell_type": "code",
   "execution_count": 98,
   "metadata": {},
   "outputs": [
    {
     "data": {
      "text/html": [
       "<div><div style = \"float: left;\"><span>7×12 DataFrame</span></div><div style = \"clear: both;\"></div></div><div class = \"data-frame\" style = \"overflow-x: scroll;\"><table class = \"data-frame\" style = \"margin-bottom: 6px;\"><thead><tr class = \"header\"><th class = \"rowNumber\" style = \"font-weight: bold; text-align: right;\">Row</th><th style = \"text-align: left;\">club_name</th><th style = \"text-align: left;\">player_name</th><th style = \"text-align: left;\">age</th><th style = \"text-align: left;\">position</th><th style = \"text-align: left;\">club_involved_name</th><th style = \"text-align: left;\">fee</th><th style = \"text-align: left;\">transfer_movement</th><th style = \"text-align: left;\">transfer_period</th><th style = \"text-align: left;\">fee_cleaned</th><th style = \"text-align: left;\">league_name</th><th style = \"text-align: left;\">year</th><th style = \"text-align: left;\">season</th></tr><tr class = \"subheader headerLastRow\"><th class = \"rowNumber\" style = \"font-weight: bold; text-align: right;\"></th><th title = \"String\" style = \"text-align: left;\">String</th><th title = \"String\" style = \"text-align: left;\">String</th><th title = \"Union{Missing, Float64}\" style = \"text-align: left;\">Float64?</th><th title = \"String31\" style = \"text-align: left;\">String31</th><th title = \"String31\" style = \"text-align: left;\">String31</th><th title = \"Union{Missing, String31}\" style = \"text-align: left;\">String31?</th><th title = \"String3\" style = \"text-align: left;\">String3</th><th title = \"String7\" style = \"text-align: left;\">String7</th><th title = \"Union{Missing, Float64}\" style = \"text-align: left;\">Float64?</th><th title = \"String31\" style = \"text-align: left;\">String31</th><th title = \"Int64\" style = \"text-align: left;\">Int64</th><th title = \"String15\" style = \"text-align: left;\">String15</th></tr></thead><tbody><tr><td class = \"rowNumber\" style = \"font-weight: bold; text-align: right;\">1</td><td style = \"text-align: left;\">FC Barcelona</td><td style = \"text-align: left;\">Raphinha</td><td style = \"text-align: right;\">25.0</td><td style = \"text-align: left;\">Right Winger</td><td style = \"text-align: left;\">Leeds</td><td style = \"text-align: left;\">€58.00m</td><td style = \"text-align: left;\">in</td><td style = \"text-align: left;\">summer</td><td style = \"text-align: right;\">58.0</td><td style = \"text-align: left;\">Primera Division</td><td style = \"text-align: right;\">2022</td><td style = \"text-align: left;\">2022/2023</td></tr><tr><td class = \"rowNumber\" style = \"font-weight: bold; text-align: right;\">2</td><td style = \"text-align: left;\">FC Barcelona</td><td style = \"text-align: left;\">Jules Koundé</td><td style = \"text-align: right;\">23.0</td><td style = \"text-align: left;\">Centre-Back</td><td style = \"text-align: left;\">Sevilla FC</td><td style = \"text-align: left;\">€50.00m</td><td style = \"text-align: left;\">in</td><td style = \"text-align: left;\">summer</td><td style = \"text-align: right;\">50.0</td><td style = \"text-align: left;\">Primera Division</td><td style = \"text-align: right;\">2022</td><td style = \"text-align: left;\">2022/2023</td></tr><tr><td class = \"rowNumber\" style = \"font-weight: bold; text-align: right;\">3</td><td style = \"text-align: left;\">FC Barcelona</td><td style = \"text-align: left;\">Robert Lewandowski</td><td style = \"text-align: right;\">33.0</td><td style = \"text-align: left;\">Centre-Forward</td><td style = \"text-align: left;\">Bayern Munich</td><td style = \"text-align: left;\">€45.00m</td><td style = \"text-align: left;\">in</td><td style = \"text-align: left;\">summer</td><td style = \"text-align: right;\">45.0</td><td style = \"text-align: left;\">Primera Division</td><td style = \"text-align: right;\">2022</td><td style = \"text-align: left;\">2022/2023</td></tr><tr><td class = \"rowNumber\" style = \"font-weight: bold; text-align: right;\">4</td><td style = \"text-align: left;\">FC Barcelona</td><td style = \"text-align: left;\">Marcos Alonso</td><td style = \"text-align: right;\">31.0</td><td style = \"text-align: left;\">Left-Back</td><td style = \"text-align: left;\">Chelsea</td><td style = \"text-align: left;\">free transfer</td><td style = \"text-align: left;\">in</td><td style = \"text-align: left;\">summer</td><td style = \"text-align: right;\">0.0</td><td style = \"text-align: left;\">Primera Division</td><td style = \"text-align: right;\">2022</td><td style = \"text-align: left;\">2022/2023</td></tr><tr><td class = \"rowNumber\" style = \"font-weight: bold; text-align: right;\">5</td><td style = \"text-align: left;\">FC Barcelona</td><td style = \"text-align: left;\">Héctor Bellerín</td><td style = \"text-align: right;\">27.0</td><td style = \"text-align: left;\">Right-Back</td><td style = \"text-align: left;\">Arsenal</td><td style = \"text-align: left;\">free transfer</td><td style = \"text-align: left;\">in</td><td style = \"text-align: left;\">summer</td><td style = \"text-align: right;\">0.0</td><td style = \"text-align: left;\">Primera Division</td><td style = \"text-align: right;\">2022</td><td style = \"text-align: left;\">2022/2023</td></tr><tr><td class = \"rowNumber\" style = \"font-weight: bold; text-align: right;\">6</td><td style = \"text-align: left;\">FC Barcelona</td><td style = \"text-align: left;\">Andreas Christensen</td><td style = \"text-align: right;\">26.0</td><td style = \"text-align: left;\">Centre-Back</td><td style = \"text-align: left;\">Chelsea</td><td style = \"text-align: left;\">free transfer</td><td style = \"text-align: left;\">in</td><td style = \"text-align: left;\">summer</td><td style = \"text-align: right;\">0.0</td><td style = \"text-align: left;\">Primera Division</td><td style = \"text-align: right;\">2022</td><td style = \"text-align: left;\">2022/2023</td></tr><tr><td class = \"rowNumber\" style = \"font-weight: bold; text-align: right;\">7</td><td style = \"text-align: left;\">FC Barcelona</td><td style = \"text-align: left;\">Franck Kessié</td><td style = \"text-align: right;\">25.0</td><td style = \"text-align: left;\">Central Midfield</td><td style = \"text-align: left;\">AC Milan</td><td style = \"text-align: left;\">free transfer</td><td style = \"text-align: left;\">in</td><td style = \"text-align: left;\">summer</td><td style = \"text-align: right;\">0.0</td><td style = \"text-align: left;\">Primera Division</td><td style = \"text-align: right;\">2022</td><td style = \"text-align: left;\">2022/2023</td></tr></tbody></table></div>"
      ],
      "text/latex": [
       "\\begin{tabular}{r|cccccc}\n",
       "\t& club\\_name & player\\_name & age & position & club\\_involved\\_name & \\\\\n",
       "\t\\hline\n",
       "\t& String & String & Float64? & String31 & String31 & \\\\\n",
       "\t\\hline\n",
       "\t1 & FC Barcelona & Raphinha & 25.0 & Right Winger & Leeds & $\\dots$ \\\\\n",
       "\t2 & FC Barcelona & Jules Koundé & 23.0 & Centre-Back & Sevilla FC & $\\dots$ \\\\\n",
       "\t3 & FC Barcelona & Robert Lewandowski & 33.0 & Centre-Forward & Bayern Munich & $\\dots$ \\\\\n",
       "\t4 & FC Barcelona & Marcos Alonso & 31.0 & Left-Back & Chelsea & $\\dots$ \\\\\n",
       "\t5 & FC Barcelona & Héctor Bellerín & 27.0 & Right-Back & Arsenal & $\\dots$ \\\\\n",
       "\t6 & FC Barcelona & Andreas Christensen & 26.0 & Centre-Back & Chelsea & $\\dots$ \\\\\n",
       "\t7 & FC Barcelona & Franck Kessié & 25.0 & Central Midfield & AC Milan & $\\dots$ \\\\\n",
       "\\end{tabular}\n"
      ],
      "text/plain": [
       "\u001b[1m7×12 DataFrame\n",
       "\u001b[1m Row │\u001b[1m club_name    \u001b[1m player_name         \u001b[1m age      \u001b[1m position         \u001b[1m club_inv ⋯\n",
       "     │\u001b[90m String       \u001b[90m String              \u001b[90m Float64? \u001b[90m String31         \u001b[90m String31 ⋯\n",
       "─────┼──────────────────────────────────────────────────────────────────────────\n",
       "   1 │ FC Barcelona  Raphinha                 25.0  Right Winger      Leeds    ⋯\n",
       "   2 │ FC Barcelona  Jules Koundé             23.0  Centre-Back       Sevilla\n",
       "   3 │ FC Barcelona  Robert Lewandowski       33.0  Centre-Forward    Bayern M\n",
       "   4 │ FC Barcelona  Marcos Alonso            31.0  Left-Back         Chelsea\n",
       "   5 │ FC Barcelona  Héctor Bellerín          27.0  Right-Back        Arsenal  ⋯\n",
       "   6 │ FC Barcelona  Andreas Christensen      26.0  Centre-Back       Chelsea\n",
       "   7 │ FC Barcelona  Franck Kessié            25.0  Central Midfield  AC Milan\n",
       "\u001b[36m                                                               8 columns omitted"
      ]
     },
     "execution_count": 98,
     "metadata": {},
     "output_type": "execute_result"
    }
   ],
   "source": [
    "transfers_in = transfers_club[transfers_club[:, \"transfer_movement\"] .== \"in\", :]"
   ]
  },
  {
   "cell_type": "code",
   "execution_count": 99,
   "metadata": {},
   "outputs": [
    {
     "data": {
      "text/html": [
       "<div><div style = \"float: left;\"><span>11×12 DataFrame</span></div><div style = \"clear: both;\"></div></div><div class = \"data-frame\" style = \"overflow-x: scroll;\"><table class = \"data-frame\" style = \"margin-bottom: 6px;\"><thead><tr class = \"header\"><th class = \"rowNumber\" style = \"font-weight: bold; text-align: right;\">Row</th><th style = \"text-align: left;\">club_name</th><th style = \"text-align: left;\">player_name</th><th style = \"text-align: left;\">age</th><th style = \"text-align: left;\">position</th><th style = \"text-align: left;\">club_involved_name</th><th style = \"text-align: left;\">fee</th><th style = \"text-align: left;\">transfer_movement</th><th style = \"text-align: left;\">transfer_period</th><th style = \"text-align: left;\">fee_cleaned</th><th style = \"text-align: left;\">league_name</th><th style = \"text-align: left;\">year</th><th style = \"text-align: left;\">season</th></tr><tr class = \"subheader headerLastRow\"><th class = \"rowNumber\" style = \"font-weight: bold; text-align: right;\"></th><th title = \"String\" style = \"text-align: left;\">String</th><th title = \"String\" style = \"text-align: left;\">String</th><th title = \"Union{Missing, Float64}\" style = \"text-align: left;\">Float64?</th><th title = \"String31\" style = \"text-align: left;\">String31</th><th title = \"String31\" style = \"text-align: left;\">String31</th><th title = \"Union{Missing, String31}\" style = \"text-align: left;\">String31?</th><th title = \"String3\" style = \"text-align: left;\">String3</th><th title = \"String7\" style = \"text-align: left;\">String7</th><th title = \"Union{Missing, Float64}\" style = \"text-align: left;\">Float64?</th><th title = \"String31\" style = \"text-align: left;\">String31</th><th title = \"Int64\" style = \"text-align: left;\">Int64</th><th title = \"String15\" style = \"text-align: left;\">String15</th></tr></thead><tbody><tr><td class = \"rowNumber\" style = \"font-weight: bold; text-align: right;\">1</td><td style = \"text-align: left;\">FC Barcelona</td><td style = \"text-align: left;\">Philippe Coutinho</td><td style = \"text-align: right;\">30.0</td><td style = \"text-align: left;\">Left Winger</td><td style = \"text-align: left;\">Aston Villa</td><td style = \"text-align: left;\">€20.00m</td><td style = \"text-align: left;\">out</td><td style = \"text-align: left;\">summer</td><td style = \"text-align: right;\">20.0</td><td style = \"text-align: left;\">Primera Division</td><td style = \"text-align: right;\">2022</td><td style = \"text-align: left;\">2022/2023</td></tr><tr><td class = \"rowNumber\" style = \"font-weight: bold; text-align: right;\">2</td><td style = \"text-align: left;\">FC Barcelona</td><td style = \"text-align: left;\">Pierre-Emerick Aubameyang</td><td style = \"text-align: right;\">33.0</td><td style = \"text-align: left;\">Centre-Forward</td><td style = \"text-align: left;\">Chelsea</td><td style = \"text-align: left;\">€12.00m</td><td style = \"text-align: left;\">out</td><td style = \"text-align: left;\">summer</td><td style = \"text-align: right;\">12.0</td><td style = \"text-align: left;\">Primera Division</td><td style = \"text-align: right;\">2022</td><td style = \"text-align: left;\">2022/2023</td></tr><tr><td class = \"rowNumber\" style = \"font-weight: bold; text-align: right;\">3</td><td style = \"text-align: left;\">FC Barcelona</td><td style = \"text-align: left;\">Francisco Trincão</td><td style = \"text-align: right;\">22.0</td><td style = \"text-align: left;\">Right Winger</td><td style = \"text-align: left;\">Sporting CP</td><td style = \"text-align: left;\">Loan fee:€3.00m</td><td style = \"text-align: left;\">out</td><td style = \"text-align: left;\">summer</td><td style = \"text-align: right;\">3.0</td><td style = \"text-align: left;\">Primera Division</td><td style = \"text-align: right;\">2022</td><td style = \"text-align: left;\">2022/2023</td></tr><tr><td class = \"rowNumber\" style = \"font-weight: bold; text-align: right;\">4</td><td style = \"text-align: left;\">FC Barcelona</td><td style = \"text-align: left;\">Dani Alves</td><td style = \"text-align: right;\">39.0</td><td style = \"text-align: left;\">Right-Back</td><td style = \"text-align: left;\">UNAM Pumas</td><td style = \"text-align: left;\">free transfer</td><td style = \"text-align: left;\">out</td><td style = \"text-align: left;\">summer</td><td style = \"text-align: right;\">0.0</td><td style = \"text-align: left;\">Primera Division</td><td style = \"text-align: right;\">2022</td><td style = \"text-align: left;\">2022/2023</td></tr><tr><td class = \"rowNumber\" style = \"font-weight: bold; text-align: right;\">5</td><td style = \"text-align: left;\">FC Barcelona</td><td style = \"text-align: left;\">Miralem Pjanic</td><td style = \"text-align: right;\">32.0</td><td style = \"text-align: left;\">Central Midfield</td><td style = \"text-align: left;\">Sharjah FC</td><td style = \"text-align: left;\">free transfer</td><td style = \"text-align: left;\">out</td><td style = \"text-align: left;\">summer</td><td style = \"text-align: right;\">0.0</td><td style = \"text-align: left;\">Primera Division</td><td style = \"text-align: right;\">2022</td><td style = \"text-align: left;\">2022/2023</td></tr><tr><td class = \"rowNumber\" style = \"font-weight: bold; text-align: right;\">6</td><td style = \"text-align: left;\">FC Barcelona</td><td style = \"text-align: left;\">Martin Braithwaite</td><td style = \"text-align: right;\">31.0</td><td style = \"text-align: left;\">Centre-Forward</td><td style = \"text-align: left;\">Espanyol</td><td style = \"text-align: left;\">free transfer</td><td style = \"text-align: left;\">out</td><td style = \"text-align: left;\">summer</td><td style = \"text-align: right;\">0.0</td><td style = \"text-align: left;\">Primera Division</td><td style = \"text-align: right;\">2022</td><td style = \"text-align: left;\">2022/2023</td></tr><tr><td class = \"rowNumber\" style = \"font-weight: bold; text-align: right;\">7</td><td style = \"text-align: left;\">FC Barcelona</td><td style = \"text-align: left;\">Neto</td><td style = \"text-align: right;\">33.0</td><td style = \"text-align: left;\">Goalkeeper</td><td style = \"text-align: left;\">Bournemouth</td><td style = \"text-align: left;\">free transfer</td><td style = \"text-align: left;\">out</td><td style = \"text-align: left;\">summer</td><td style = \"text-align: right;\">0.0</td><td style = \"text-align: left;\">Primera Division</td><td style = \"text-align: right;\">2022</td><td style = \"text-align: left;\">2022/2023</td></tr><tr><td class = \"rowNumber\" style = \"font-weight: bold; text-align: right;\">8</td><td style = \"text-align: left;\">FC Barcelona</td><td style = \"text-align: left;\">Riqui Puig</td><td style = \"text-align: right;\">22.0</td><td style = \"text-align: left;\">Central Midfield</td><td style = \"text-align: left;\">Los Angeles</td><td style = \"text-align: left;\">free transfer</td><td style = \"text-align: left;\">out</td><td style = \"text-align: left;\">summer</td><td style = \"text-align: right;\">0.0</td><td style = \"text-align: left;\">Primera Division</td><td style = \"text-align: right;\">2022</td><td style = \"text-align: left;\">2022/2023</td></tr><tr><td class = \"rowNumber\" style = \"font-weight: bold; text-align: right;\">9</td><td style = \"text-align: left;\">FC Barcelona</td><td style = \"text-align: left;\">Óscar Mingueza</td><td style = \"text-align: right;\">23.0</td><td style = \"text-align: left;\">Centre-Back</td><td style = \"text-align: left;\">Celta de Vigo</td><td style = \"text-align: left;\">free transfer</td><td style = \"text-align: left;\">out</td><td style = \"text-align: left;\">summer</td><td style = \"text-align: right;\">0.0</td><td style = \"text-align: left;\">Primera Division</td><td style = \"text-align: right;\">2022</td><td style = \"text-align: left;\">2022/2023</td></tr><tr><td class = \"rowNumber\" style = \"font-weight: bold; text-align: right;\">10</td><td style = \"text-align: left;\">FC Barcelona</td><td style = \"text-align: left;\">Moussa Wagué</td><td style = \"text-align: right;\">23.0</td><td style = \"text-align: left;\">Right-Back</td><td style = \"text-align: left;\">HNK Gorica</td><td style = \"text-align: left;\">free transfer</td><td style = \"text-align: left;\">out</td><td style = \"text-align: left;\">summer</td><td style = \"text-align: right;\">0.0</td><td style = \"text-align: left;\">Primera Division</td><td style = \"text-align: right;\">2022</td><td style = \"text-align: left;\">2022/2023</td></tr><tr><td class = \"rowNumber\" style = \"font-weight: bold; text-align: right;\">11</td><td style = \"text-align: left;\">FC Barcelona</td><td style = \"text-align: left;\">Rey Manaj</td><td style = \"text-align: right;\">25.0</td><td style = \"text-align: left;\">Centre-Forward</td><td style = \"text-align: left;\">Watford</td><td style = \"text-align: left;\">free transfer</td><td style = \"text-align: left;\">out</td><td style = \"text-align: left;\">summer</td><td style = \"text-align: right;\">0.0</td><td style = \"text-align: left;\">Primera Division</td><td style = \"text-align: right;\">2022</td><td style = \"text-align: left;\">2022/2023</td></tr></tbody></table></div>"
      ],
      "text/latex": [
       "\\begin{tabular}{r|cccccc}\n",
       "\t& club\\_name & player\\_name & age & position & club\\_involved\\_name & \\\\\n",
       "\t\\hline\n",
       "\t& String & String & Float64? & String31 & String31 & \\\\\n",
       "\t\\hline\n",
       "\t1 & FC Barcelona & Philippe Coutinho & 30.0 & Left Winger & Aston Villa & $\\dots$ \\\\\n",
       "\t2 & FC Barcelona & Pierre-Emerick Aubameyang & 33.0 & Centre-Forward & Chelsea & $\\dots$ \\\\\n",
       "\t3 & FC Barcelona & Francisco Trincão & 22.0 & Right Winger & Sporting CP & $\\dots$ \\\\\n",
       "\t4 & FC Barcelona & Dani Alves & 39.0 & Right-Back & UNAM Pumas & $\\dots$ \\\\\n",
       "\t5 & FC Barcelona & Miralem Pjanic & 32.0 & Central Midfield & Sharjah FC & $\\dots$ \\\\\n",
       "\t6 & FC Barcelona & Martin Braithwaite & 31.0 & Centre-Forward & Espanyol & $\\dots$ \\\\\n",
       "\t7 & FC Barcelona & Neto & 33.0 & Goalkeeper & Bournemouth & $\\dots$ \\\\\n",
       "\t8 & FC Barcelona & Riqui Puig & 22.0 & Central Midfield & Los Angeles & $\\dots$ \\\\\n",
       "\t9 & FC Barcelona & Óscar Mingueza & 23.0 & Centre-Back & Celta de Vigo & $\\dots$ \\\\\n",
       "\t10 & FC Barcelona & Moussa Wagué & 23.0 & Right-Back & HNK Gorica & $\\dots$ \\\\\n",
       "\t11 & FC Barcelona & Rey Manaj & 25.0 & Centre-Forward & Watford & $\\dots$ \\\\\n",
       "\\end{tabular}\n"
      ],
      "text/plain": [
       "\u001b[1m11×12 DataFrame\n",
       "\u001b[1m Row │\u001b[1m club_name    \u001b[1m player_name               \u001b[1m age      \u001b[1m position         \u001b[1m cl ⋯\n",
       "     │\u001b[90m String       \u001b[90m String                    \u001b[90m Float64? \u001b[90m String31         \u001b[90m St ⋯\n",
       "─────┼──────────────────────────────────────────────────────────────────────────\n",
       "   1 │ FC Barcelona  Philippe Coutinho              30.0  Left Winger       As ⋯\n",
       "   2 │ FC Barcelona  Pierre-Emerick Aubameyang      33.0  Centre-Forward    Ch\n",
       "   3 │ FC Barcelona  Francisco Trincão              22.0  Right Winger      Sp\n",
       "   4 │ FC Barcelona  Dani Alves                     39.0  Right-Back        UN\n",
       "   5 │ FC Barcelona  Miralem Pjanic                 32.0  Central Midfield  Sh ⋯\n",
       "   6 │ FC Barcelona  Martin Braithwaite             31.0  Centre-Forward    Es\n",
       "   7 │ FC Barcelona  Neto                           33.0  Goalkeeper        Bo\n",
       "   8 │ FC Barcelona  Riqui Puig                     22.0  Central Midfield  Lo\n",
       "   9 │ FC Barcelona  Óscar Mingueza                 23.0  Centre-Back       Ce ⋯\n",
       "  10 │ FC Barcelona  Moussa Wagué                   23.0  Right-Back        HN\n",
       "  11 │ FC Barcelona  Rey Manaj                      25.0  Centre-Forward    Wa\n",
       "\u001b[36m                                                               8 columns omitted"
      ]
     },
     "execution_count": 99,
     "metadata": {},
     "output_type": "execute_result"
    }
   ],
   "source": [
    "transfers_out = transfers_club[transfers_club[:, \"transfer_movement\"] .== \"out\", :]"
   ]
  },
  {
   "cell_type": "code",
   "execution_count": 104,
   "metadata": {},
   "outputs": [
    {
     "data": {
      "text/plain": [
       "-118.0"
      ]
     },
     "execution_count": 104,
     "metadata": {},
     "output_type": "execute_result"
    }
   ],
   "source": [
    "revenue =  sum(transfers_out[:, \"fee_cleaned\"]) - sum(transfers_in[:, \"fee_cleaned\"])"
   ]
  },
  {
   "cell_type": "markdown",
   "metadata": {},
   "source": [
    "# Approach 1: Regress and compare"
   ]
  },
  {
   "cell_type": "code",
   "execution_count": 53,
   "metadata": {},
   "outputs": [
    {
     "data": {
      "text/plain": [
       "regress_and_compare (generic function with 2 methods)"
      ]
     },
     "execution_count": 53,
     "metadata": {},
     "output_type": "execute_result"
    }
   ],
   "source": [
    "function regress_and_compare(data_club, data_rest, transfers_club)\n",
    "\n",
    "    # get parameters\n",
    "    n, N_c, N_min, N_max, B_max, S_max, p_o, r_o, v_o, m_o, a_o, p_c, r_c, v_c, m_c, a_c, 𝛅, 𝛾 = get_parameters(data_club, data_rest, transfers_club)\n",
    "\n",
    "    # define model\n",
    "    model = Model(() -> Gurobi.Optimizer(GRB_ENV))\n",
    "    set_optimizer_attributes(model, \"OutputFlag\" => 0, \"TimeLimit\" => 60)\n",
    "\n",
    "    # define variables\n",
    "    @variable(model, b[i = 1:n], Bin) # 1 if we buy player i, 0 otherwise\n",
    "    @variable(model, s[j = 1:k], Bin) # 1 if we sell player j, 0 otherwise\n",
    "\n",
    "    # define objective\n",
    "    @objective(model, Max, sum(s[j] * v_c[j] for j = 1:k) - sum(b[i] * v_o[i] for i = 1:n))\n",
    "\n",
    "    # define constraints\n",
    "    @constraint(model, sum((1 - s[j]) * m_c[j] for j = 1:k) + sum(b[i] * m_o[i] for i = 1:n) >= (sum(m_c[j] for j = 1:k)/k + 𝛅) * (k + sum(b[i] for i = 1:n) - sum(s[j] for j = 1:k)))\n",
    "    @constraint(model, sum(b[i] for i = 1:n) <= B_max) # maximum number of players that can be bought\n",
    "    @constraint(model, sum(s[j] for j = 1:k) <= S_max) # maximum number of players that can be sold\n",
    "    @constraint(model, N_min <= N_c + sum(b[i] for i = 1:n) - sum(s[j] for j = 1:k) <= N_max) # number of players in the club after the transfer window\n",
    "    @constraint(model, sum((1 - s[j]) * a_c[j] for j = 1:k) + sum(b[i] * a_o[i] for i = 1:n) <= (sum(a_c[j] for j = 1:k)/k + 𝛾) * (k + sum(b[i] for i = 1:n) - sum(s[j] for j = 1:k))) # average age of the team\n",
    "\n",
    "    # solve model\n",
    "    optimize!(model)\n",
    "\n",
    "    return objective_value(model), value.(b), value.(s)\n",
    "end"
   ]
  },
  {
   "cell_type": "code",
   "execution_count": 54,
   "metadata": {},
   "outputs": [],
   "source": [
    "obj, b, s = regress_and_compare(data_club, data_rest, transfers_club);"
   ]
  },
  {
   "cell_type": "code",
   "execution_count": 56,
   "metadata": {},
   "outputs": [
    {
     "data": {
      "text/html": [
       "<div><div style = \"float: left;\"><span>4×63 DataFrame</span></div><div style = \"clear: both;\"></div></div><div class = \"data-frame\" style = \"overflow-x: scroll;\"><table class = \"data-frame\" style = \"margin-bottom: 6px;\"><thead><tr class = \"header\"><th class = \"rowNumber\" style = \"font-weight: bold; text-align: right;\">Row</th><th style = \"text-align: left;\">short_name</th><th style = \"text-align: left;\">overall</th><th style = \"text-align: left;\">potential</th><th style = \"text-align: left;\">value_eur</th><th style = \"text-align: left;\">wage_eur</th><th style = \"text-align: left;\">age</th><th style = \"text-align: left;\">height_cm</th><th style = \"text-align: left;\">weight_kg</th><th style = \"text-align: left;\">club_name</th><th style = \"text-align: left;\">league_level</th><th style = \"text-align: left;\">club_joined</th><th style = \"text-align: left;\">club_contract_valid_until</th><th style = \"text-align: left;\">preferred_foot</th><th style = \"text-align: left;\">weak_foot</th><th style = \"text-align: left;\">skill_moves</th><th style = \"text-align: left;\">international_reputation</th><th style = \"text-align: left;\">release_clause_eur</th><th style = \"text-align: left;\">pace</th><th style = \"text-align: left;\">shooting</th><th style = \"text-align: left;\">passing</th><th style = \"text-align: left;\">dribbling</th><th style = \"text-align: left;\">defending</th><th style = \"text-align: left;\">physic</th><th style = \"text-align: left;\">attacking_crossing</th><th style = \"text-align: left;\">attacking_finishing</th><th style = \"text-align: left;\">attacking_heading_accuracy</th><th style = \"text-align: left;\">attacking_short_passing</th><th style = \"text-align: left;\">attacking_volleys</th><th style = \"text-align: left;\">skill_dribbling</th><th style = \"text-align: left;\">skill_curve</th><th style = \"text-align: left;\">skill_fk_accuracy</th><th style = \"text-align: left;\">skill_long_passing</th><th style = \"text-align: left;\">skill_ball_control</th><th style = \"text-align: left;\">movement_acceleration</th><th style = \"text-align: left;\">movement_sprint_speed</th><th style = \"text-align: left;\">movement_agility</th><th style = \"text-align: left;\">movement_reactions</th><th style = \"text-align: left;\">movement_balance</th><th style = \"text-align: left;\">power_shot_power</th><th style = \"text-align: left;\">power_jumping</th><th style = \"text-align: left;\">power_stamina</th><th style = \"text-align: left;\">power_strength</th><th style = \"text-align: left;\">power_long_shots</th><th style = \"text-align: left;\">mentality_aggression</th><th style = \"text-align: left;\">mentality_interceptions</th><th style = \"text-align: left;\">mentality_positioning</th><th style = \"text-align: left;\">mentality_vision</th><th style = \"text-align: left;\">mentality_penalties</th><th style = \"text-align: left;\">mentality_composure</th><th style = \"text-align: left;\">defending_marking_awareness</th><th style = \"text-align: left;\">defending_standing_tackle</th><th style = \"text-align: left;\">defending_sliding_tackle</th><th style = \"text-align: left;\">goalkeeping_diving</th><th style = \"text-align: left;\">goalkeeping_handling</th><th style = \"text-align: left;\">goalkeeping_kicking</th><th style = \"text-align: left;\">goalkeeping_positioning</th><th style = \"text-align: left;\">goalkeeping_reflexes</th><th style = \"text-align: left;\">position_A</th><th style = \"text-align: left;\">position_D</th><th style = \"text-align: left;\">position_G</th><th style = \"text-align: left;\">position_M</th><th style = \"text-align: left;\">attack_work_rate</th><th style = \"text-align: left;\">defense_work_rate</th></tr><tr class = \"subheader headerLastRow\"><th class = \"rowNumber\" style = \"font-weight: bold; text-align: right;\"></th><th title = \"String31\" style = \"text-align: left;\">String31</th><th title = \"Int64\" style = \"text-align: left;\">Int64</th><th title = \"Int64\" style = \"text-align: left;\">Int64</th><th title = \"Float64\" style = \"text-align: left;\">Float64</th><th title = \"Float64\" style = \"text-align: left;\">Float64</th><th title = \"Int64\" style = \"text-align: left;\">Int64</th><th title = \"Int64\" style = \"text-align: left;\">Int64</th><th title = \"Int64\" style = \"text-align: left;\">Int64</th><th title = \"String\" style = \"text-align: left;\">String</th><th title = \"Float64\" style = \"text-align: left;\">Float64</th><th title = \"Int64\" style = \"text-align: left;\">Int64</th><th title = \"Float64\" style = \"text-align: left;\">Float64</th><th title = \"Int64\" style = \"text-align: left;\">Int64</th><th title = \"Int64\" style = \"text-align: left;\">Int64</th><th title = \"Int64\" style = \"text-align: left;\">Int64</th><th title = \"Int64\" style = \"text-align: left;\">Int64</th><th title = \"Float64\" style = \"text-align: left;\">Float64</th><th title = \"Float64\" style = \"text-align: left;\">Float64</th><th title = \"Float64\" style = \"text-align: left;\">Float64</th><th title = \"Float64\" style = \"text-align: left;\">Float64</th><th title = \"Float64\" style = \"text-align: left;\">Float64</th><th title = \"Float64\" style = \"text-align: left;\">Float64</th><th title = \"Float64\" style = \"text-align: left;\">Float64</th><th title = \"Int64\" style = \"text-align: left;\">Int64</th><th title = \"Int64\" style = \"text-align: left;\">Int64</th><th title = \"Int64\" style = \"text-align: left;\">Int64</th><th title = \"Int64\" style = \"text-align: left;\">Int64</th><th title = \"Int64\" style = \"text-align: left;\">Int64</th><th title = \"Int64\" style = \"text-align: left;\">Int64</th><th title = \"Int64\" style = \"text-align: left;\">Int64</th><th title = \"Int64\" style = \"text-align: left;\">Int64</th><th title = \"Int64\" style = \"text-align: left;\">Int64</th><th title = \"Int64\" style = \"text-align: left;\">Int64</th><th title = \"Int64\" style = \"text-align: left;\">Int64</th><th title = \"Int64\" style = \"text-align: left;\">Int64</th><th title = \"Int64\" style = \"text-align: left;\">Int64</th><th title = \"Int64\" style = \"text-align: left;\">Int64</th><th title = \"Int64\" style = \"text-align: left;\">Int64</th><th title = \"Int64\" style = \"text-align: left;\">Int64</th><th title = \"Int64\" style = \"text-align: left;\">Int64</th><th title = \"Int64\" style = \"text-align: left;\">Int64</th><th title = \"Int64\" style = \"text-align: left;\">Int64</th><th title = \"Int64\" style = \"text-align: left;\">Int64</th><th title = \"Int64\" style = \"text-align: left;\">Int64</th><th title = \"Int64\" style = \"text-align: left;\">Int64</th><th title = \"Int64\" style = \"text-align: left;\">Int64</th><th title = \"Int64\" style = \"text-align: left;\">Int64</th><th title = \"Int64\" style = \"text-align: left;\">Int64</th><th title = \"Int64\" style = \"text-align: left;\">Int64</th><th title = \"Int64\" style = \"text-align: left;\">Int64</th><th title = \"Int64\" style = \"text-align: left;\">Int64</th><th title = \"Int64\" style = \"text-align: left;\">Int64</th><th title = \"Int64\" style = \"text-align: left;\">Int64</th><th title = \"Int64\" style = \"text-align: left;\">Int64</th><th title = \"Int64\" style = \"text-align: left;\">Int64</th><th title = \"Int64\" style = \"text-align: left;\">Int64</th><th title = \"Int64\" style = \"text-align: left;\">Int64</th><th title = \"Int64\" style = \"text-align: left;\">Int64</th><th title = \"Int64\" style = \"text-align: left;\">Int64</th><th title = \"Int64\" style = \"text-align: left;\">Int64</th><th title = \"Int64\" style = \"text-align: left;\">Int64</th><th title = \"Int64\" style = \"text-align: left;\">Int64</th><th title = \"Int64\" style = \"text-align: left;\">Int64</th></tr></thead><tbody><tr><td class = \"rowNumber\" style = \"font-weight: bold; text-align: right;\">1</td><td style = \"text-align: left;\">Sergio Ramos</td><td style = \"text-align: right;\">88</td><td style = \"text-align: right;\">88</td><td style = \"text-align: right;\">2.4e7</td><td style = \"text-align: right;\">115000.0</td><td style = \"text-align: right;\">35</td><td style = \"text-align: right;\">184</td><td style = \"text-align: right;\">82</td><td style = \"text-align: left;\">Paris Saint-Germain</td><td style = \"text-align: right;\">1.0</td><td style = \"text-align: right;\">2021</td><td style = \"text-align: right;\">2023.0</td><td style = \"text-align: right;\">1</td><td style = \"text-align: right;\">3</td><td style = \"text-align: right;\">3</td><td style = \"text-align: right;\">4</td><td style = \"text-align: right;\">4.44e7</td><td style = \"text-align: right;\">70.0</td><td style = \"text-align: right;\">70.0</td><td style = \"text-align: right;\">76.0</td><td style = \"text-align: right;\">74.0</td><td style = \"text-align: right;\">88.0</td><td style = \"text-align: right;\">84.0</td><td style = \"text-align: right;\">66</td><td style = \"text-align: right;\">65</td><td style = \"text-align: right;\">92</td><td style = \"text-align: right;\">82</td><td style = \"text-align: right;\">69</td><td style = \"text-align: right;\">65</td><td style = \"text-align: right;\">74</td><td style = \"text-align: right;\">76</td><td style = \"text-align: right;\">83</td><td style = \"text-align: right;\">83</td><td style = \"text-align: right;\">71</td><td style = \"text-align: right;\">69</td><td style = \"text-align: right;\">77</td><td style = \"text-align: right;\">92</td><td style = \"text-align: right;\">66</td><td style = \"text-align: right;\">79</td><td style = \"text-align: right;\">93</td><td style = \"text-align: right;\">78</td><td style = \"text-align: right;\">84</td><td style = \"text-align: right;\">64</td><td style = \"text-align: right;\">90</td><td style = \"text-align: right;\">87</td><td style = \"text-align: right;\">73</td><td style = \"text-align: right;\">71</td><td style = \"text-align: right;\">92</td><td style = \"text-align: right;\">88</td><td style = \"text-align: right;\">84</td><td style = \"text-align: right;\">89</td><td style = \"text-align: right;\">91</td><td style = \"text-align: right;\">11</td><td style = \"text-align: right;\">8</td><td style = \"text-align: right;\">9</td><td style = \"text-align: right;\">7</td><td style = \"text-align: right;\">11</td><td style = \"text-align: right;\">0</td><td style = \"text-align: right;\">1</td><td style = \"text-align: right;\">0</td><td style = \"text-align: right;\">0</td><td style = \"text-align: right;\">3</td><td style = \"text-align: right;\">2</td></tr><tr><td class = \"rowNumber\" style = \"font-weight: bold; text-align: right;\">2</td><td style = \"text-align: left;\">Rosberto Dourado</td><td style = \"text-align: right;\">81</td><td style = \"text-align: right;\">81</td><td style = \"text-align: right;\">2.7e7</td><td style = \"text-align: right;\">26000.0</td><td style = \"text-align: right;\">21</td><td style = \"text-align: right;\">175</td><td style = \"text-align: right;\">70</td><td style = \"text-align: left;\">Sport Club Corinthians Paulista</td><td style = \"text-align: right;\">1.0</td><td style = \"text-align: right;\">2021</td><td style = \"text-align: right;\">2024.0</td><td style = \"text-align: right;\">1</td><td style = \"text-align: right;\">4</td><td style = \"text-align: right;\">2</td><td style = \"text-align: right;\">1</td><td style = \"text-align: right;\">5.13e7</td><td style = \"text-align: right;\">77.0</td><td style = \"text-align: right;\">57.0</td><td style = \"text-align: right;\">74.0</td><td style = \"text-align: right;\">77.0</td><td style = \"text-align: right;\">82.0</td><td style = \"text-align: right;\">68.0</td><td style = \"text-align: right;\">61</td><td style = \"text-align: right;\">53</td><td style = \"text-align: right;\">70</td><td style = \"text-align: right;\">82</td><td style = \"text-align: right;\">57</td><td style = \"text-align: right;\">77</td><td style = \"text-align: right;\">54</td><td style = \"text-align: right;\">57</td><td style = \"text-align: right;\">78</td><td style = \"text-align: right;\">76</td><td style = \"text-align: right;\">75</td><td style = \"text-align: right;\">78</td><td style = \"text-align: right;\">72</td><td style = \"text-align: right;\">80</td><td style = \"text-align: right;\">77</td><td style = \"text-align: right;\">60</td><td style = \"text-align: right;\">40</td><td style = \"text-align: right;\">91</td><td style = \"text-align: right;\">56</td><td style = \"text-align: right;\">59</td><td style = \"text-align: right;\">75</td><td style = \"text-align: right;\">82</td><td style = \"text-align: right;\">58</td><td style = \"text-align: right;\">77</td><td style = \"text-align: right;\">77</td><td style = \"text-align: right;\">81</td><td style = \"text-align: right;\">83</td><td style = \"text-align: right;\">86</td><td style = \"text-align: right;\">80</td><td style = \"text-align: right;\">15</td><td style = \"text-align: right;\">14</td><td style = \"text-align: right;\">14</td><td style = \"text-align: right;\">10</td><td style = \"text-align: right;\">9</td><td style = \"text-align: right;\">0</td><td style = \"text-align: right;\">0</td><td style = \"text-align: right;\">0</td><td style = \"text-align: right;\">1</td><td style = \"text-align: right;\">3</td><td style = \"text-align: right;\">2</td></tr><tr><td class = \"rowNumber\" style = \"font-weight: bold; text-align: right;\">3</td><td style = \"text-align: left;\">Welington Dano</td><td style = \"text-align: right;\">81</td><td style = \"text-align: right;\">81</td><td style = \"text-align: right;\">2.75e7</td><td style = \"text-align: right;\">31000.0</td><td style = \"text-align: right;\">21</td><td style = \"text-align: right;\">178</td><td style = \"text-align: right;\">69</td><td style = \"text-align: left;\">Clube Atlético Mineiro</td><td style = \"text-align: right;\">1.0</td><td style = \"text-align: right;\">2021</td><td style = \"text-align: right;\">2024.0</td><td style = \"text-align: right;\">0</td><td style = \"text-align: right;\">4</td><td style = \"text-align: right;\">4</td><td style = \"text-align: right;\">1</td><td style = \"text-align: right;\">4.95e7</td><td style = \"text-align: right;\">79.0</td><td style = \"text-align: right;\">54.0</td><td style = \"text-align: right;\">76.0</td><td style = \"text-align: right;\">79.0</td><td style = \"text-align: right;\">75.0</td><td style = \"text-align: right;\">74.0</td><td style = \"text-align: right;\">82</td><td style = \"text-align: right;\">51</td><td style = \"text-align: right;\">69</td><td style = \"text-align: right;\">78</td><td style = \"text-align: right;\">47</td><td style = \"text-align: right;\">77</td><td style = \"text-align: right;\">83</td><td style = \"text-align: right;\">52</td><td style = \"text-align: right;\">71</td><td style = \"text-align: right;\">78</td><td style = \"text-align: right;\">78</td><td style = \"text-align: right;\">80</td><td style = \"text-align: right;\">83</td><td style = \"text-align: right;\">80</td><td style = \"text-align: right;\">81</td><td style = \"text-align: right;\">55</td><td style = \"text-align: right;\">71</td><td style = \"text-align: right;\">89</td><td style = \"text-align: right;\">68</td><td style = \"text-align: right;\">53</td><td style = \"text-align: right;\">69</td><td style = \"text-align: right;\">77</td><td style = \"text-align: right;\">72</td><td style = \"text-align: right;\">75</td><td style = \"text-align: right;\">61</td><td style = \"text-align: right;\">82</td><td style = \"text-align: right;\">70</td><td style = \"text-align: right;\">77</td><td style = \"text-align: right;\">81</td><td style = \"text-align: right;\">16</td><td style = \"text-align: right;\">15</td><td style = \"text-align: right;\">15</td><td style = \"text-align: right;\">7</td><td style = \"text-align: right;\">7</td><td style = \"text-align: right;\">0</td><td style = \"text-align: right;\">1</td><td style = \"text-align: right;\">0</td><td style = \"text-align: right;\">0</td><td style = \"text-align: right;\">2</td><td style = \"text-align: right;\">2</td></tr><tr><td class = \"rowNumber\" style = \"font-weight: bold; text-align: right;\">4</td><td style = \"text-align: left;\">B. Kamara</td><td style = \"text-align: right;\">80</td><td style = \"text-align: right;\">86</td><td style = \"text-align: right;\">3.1e7</td><td style = \"text-align: right;\">30000.0</td><td style = \"text-align: right;\">21</td><td style = \"text-align: right;\">184</td><td style = \"text-align: right;\">68</td><td style = \"text-align: left;\">Olympique de Marseille</td><td style = \"text-align: right;\">1.0</td><td style = \"text-align: right;\">2021</td><td style = \"text-align: right;\">2022.0</td><td style = \"text-align: right;\">1</td><td style = \"text-align: right;\">3</td><td style = \"text-align: right;\">3</td><td style = \"text-align: right;\">2</td><td style = \"text-align: right;\">6.51e7</td><td style = \"text-align: right;\">74.0</td><td style = \"text-align: right;\">50.0</td><td style = \"text-align: right;\">72.0</td><td style = \"text-align: right;\">73.0</td><td style = \"text-align: right;\">79.0</td><td style = \"text-align: right;\">78.0</td><td style = \"text-align: right;\">64</td><td style = \"text-align: right;\">39</td><td style = \"text-align: right;\">73</td><td style = \"text-align: right;\">79</td><td style = \"text-align: right;\">28</td><td style = \"text-align: right;\">70</td><td style = \"text-align: right;\">59</td><td style = \"text-align: right;\">47</td><td style = \"text-align: right;\">78</td><td style = \"text-align: right;\">78</td><td style = \"text-align: right;\">74</td><td style = \"text-align: right;\">74</td><td style = \"text-align: right;\">66</td><td style = \"text-align: right;\">73</td><td style = \"text-align: right;\">67</td><td style = \"text-align: right;\">66</td><td style = \"text-align: right;\">74</td><td style = \"text-align: right;\">78</td><td style = \"text-align: right;\">76</td><td style = \"text-align: right;\">63</td><td style = \"text-align: right;\">83</td><td style = \"text-align: right;\">83</td><td style = \"text-align: right;\">43</td><td style = \"text-align: right;\">74</td><td style = \"text-align: right;\">63</td><td style = \"text-align: right;\">81</td><td style = \"text-align: right;\">76</td><td style = \"text-align: right;\">81</td><td style = \"text-align: right;\">80</td><td style = \"text-align: right;\">8</td><td style = \"text-align: right;\">12</td><td style = \"text-align: right;\">8</td><td style = \"text-align: right;\">6</td><td style = \"text-align: right;\">11</td><td style = \"text-align: right;\">0</td><td style = \"text-align: right;\">0</td><td style = \"text-align: right;\">0</td><td style = \"text-align: right;\">1</td><td style = \"text-align: right;\">2</td><td style = \"text-align: right;\">3</td></tr></tbody></table></div>"
      ],
      "text/latex": [
       "\\begin{tabular}{r|ccccccccc}\n",
       "\t& short\\_name & overall & potential & value\\_eur & wage\\_eur & age & height\\_cm & weight\\_kg & \\\\\n",
       "\t\\hline\n",
       "\t& String31 & Int64 & Int64 & Float64 & Float64 & Int64 & Int64 & Int64 & \\\\\n",
       "\t\\hline\n",
       "\t1 & Sergio Ramos & 88 & 88 & 2.4e7 & 115000.0 & 35 & 184 & 82 & $\\dots$ \\\\\n",
       "\t2 & Rosberto Dourado & 81 & 81 & 2.7e7 & 26000.0 & 21 & 175 & 70 & $\\dots$ \\\\\n",
       "\t3 & Welington Dano & 81 & 81 & 2.75e7 & 31000.0 & 21 & 178 & 69 & $\\dots$ \\\\\n",
       "\t4 & B. Kamara & 80 & 86 & 3.1e7 & 30000.0 & 21 & 184 & 68 & $\\dots$ \\\\\n",
       "\\end{tabular}\n"
      ],
      "text/plain": [
       "\u001b[1m4×63 DataFrame\n",
       "\u001b[1m Row │\u001b[1m short_name       \u001b[1m overall \u001b[1m potential \u001b[1m value_eur \u001b[1m wage_eur \u001b[1m age   \u001b[1m heigh ⋯\n",
       "     │\u001b[90m String31         \u001b[90m Int64   \u001b[90m Int64     \u001b[90m Float64   \u001b[90m Float64  \u001b[90m Int64 \u001b[90m Int64 ⋯\n",
       "─────┼──────────────────────────────────────────────────────────────────────────\n",
       "   1 │ Sergio Ramos           88         88     2.4e7   115000.0     35        ⋯\n",
       "   2 │ Rosberto Dourado       81         81     2.7e7    26000.0     21\n",
       "   3 │ Welington Dano         81         81     2.75e7   31000.0     21\n",
       "   4 │ B. Kamara              80         86     3.1e7    30000.0     21\n",
       "\u001b[36m                                                              57 columns omitted"
      ]
     },
     "execution_count": 56,
     "metadata": {},
     "output_type": "execute_result"
    }
   ],
   "source": [
    "# get the players that we buy and sell\n",
    "buy = data_rest[b .== 1, :]"
   ]
  },
  {
   "cell_type": "code",
   "execution_count": 57,
   "metadata": {},
   "outputs": [
    {
     "data": {
      "text/html": [
       "<div><div style = \"float: left;\"><span>3×63 DataFrame</span></div><div style = \"clear: both;\"></div></div><div class = \"data-frame\" style = \"overflow-x: scroll;\"><table class = \"data-frame\" style = \"margin-bottom: 6px;\"><thead><tr class = \"header\"><th class = \"rowNumber\" style = \"font-weight: bold; text-align: right;\">Row</th><th style = \"text-align: left;\">short_name</th><th style = \"text-align: left;\">overall</th><th style = \"text-align: left;\">potential</th><th style = \"text-align: left;\">value_eur</th><th style = \"text-align: left;\">wage_eur</th><th style = \"text-align: left;\">age</th><th style = \"text-align: left;\">height_cm</th><th style = \"text-align: left;\">weight_kg</th><th style = \"text-align: left;\">club_name</th><th style = \"text-align: left;\">league_level</th><th style = \"text-align: left;\">club_joined</th><th style = \"text-align: left;\">club_contract_valid_until</th><th style = \"text-align: left;\">preferred_foot</th><th style = \"text-align: left;\">weak_foot</th><th style = \"text-align: left;\">skill_moves</th><th style = \"text-align: left;\">international_reputation</th><th style = \"text-align: left;\">release_clause_eur</th><th style = \"text-align: left;\">pace</th><th style = \"text-align: left;\">shooting</th><th style = \"text-align: left;\">passing</th><th style = \"text-align: left;\">dribbling</th><th style = \"text-align: left;\">defending</th><th style = \"text-align: left;\">physic</th><th style = \"text-align: left;\">attacking_crossing</th><th style = \"text-align: left;\">attacking_finishing</th><th style = \"text-align: left;\">attacking_heading_accuracy</th><th style = \"text-align: left;\">attacking_short_passing</th><th style = \"text-align: left;\">attacking_volleys</th><th style = \"text-align: left;\">skill_dribbling</th><th style = \"text-align: left;\">skill_curve</th><th style = \"text-align: left;\">skill_fk_accuracy</th><th style = \"text-align: left;\">skill_long_passing</th><th style = \"text-align: left;\">skill_ball_control</th><th style = \"text-align: left;\">movement_acceleration</th><th style = \"text-align: left;\">movement_sprint_speed</th><th style = \"text-align: left;\">movement_agility</th><th style = \"text-align: left;\">movement_reactions</th><th style = \"text-align: left;\">movement_balance</th><th style = \"text-align: left;\">power_shot_power</th><th style = \"text-align: left;\">power_jumping</th><th style = \"text-align: left;\">power_stamina</th><th style = \"text-align: left;\">power_strength</th><th style = \"text-align: left;\">power_long_shots</th><th style = \"text-align: left;\">mentality_aggression</th><th style = \"text-align: left;\">mentality_interceptions</th><th style = \"text-align: left;\">mentality_positioning</th><th style = \"text-align: left;\">mentality_vision</th><th style = \"text-align: left;\">mentality_penalties</th><th style = \"text-align: left;\">mentality_composure</th><th style = \"text-align: left;\">defending_marking_awareness</th><th style = \"text-align: left;\">defending_standing_tackle</th><th style = \"text-align: left;\">defending_sliding_tackle</th><th style = \"text-align: left;\">goalkeeping_diving</th><th style = \"text-align: left;\">goalkeeping_handling</th><th style = \"text-align: left;\">goalkeeping_kicking</th><th style = \"text-align: left;\">goalkeeping_positioning</th><th style = \"text-align: left;\">goalkeeping_reflexes</th><th style = \"text-align: left;\">position_A</th><th style = \"text-align: left;\">position_D</th><th style = \"text-align: left;\">position_G</th><th style = \"text-align: left;\">position_M</th><th style = \"text-align: left;\">attack_work_rate</th><th style = \"text-align: left;\">defense_work_rate</th></tr><tr class = \"subheader headerLastRow\"><th class = \"rowNumber\" style = \"font-weight: bold; text-align: right;\"></th><th title = \"String31\" style = \"text-align: left;\">String31</th><th title = \"Int64\" style = \"text-align: left;\">Int64</th><th title = \"Int64\" style = \"text-align: left;\">Int64</th><th title = \"Float64\" style = \"text-align: left;\">Float64</th><th title = \"Float64\" style = \"text-align: left;\">Float64</th><th title = \"Int64\" style = \"text-align: left;\">Int64</th><th title = \"Int64\" style = \"text-align: left;\">Int64</th><th title = \"Int64\" style = \"text-align: left;\">Int64</th><th title = \"String\" style = \"text-align: left;\">String</th><th title = \"Float64\" style = \"text-align: left;\">Float64</th><th title = \"Int64\" style = \"text-align: left;\">Int64</th><th title = \"Float64\" style = \"text-align: left;\">Float64</th><th title = \"Int64\" style = \"text-align: left;\">Int64</th><th title = \"Int64\" style = \"text-align: left;\">Int64</th><th title = \"Int64\" style = \"text-align: left;\">Int64</th><th title = \"Int64\" style = \"text-align: left;\">Int64</th><th title = \"Float64\" style = \"text-align: left;\">Float64</th><th title = \"Float64\" style = \"text-align: left;\">Float64</th><th title = \"Float64\" style = \"text-align: left;\">Float64</th><th title = \"Float64\" style = \"text-align: left;\">Float64</th><th title = \"Float64\" style = \"text-align: left;\">Float64</th><th title = \"Float64\" style = \"text-align: left;\">Float64</th><th title = \"Float64\" style = \"text-align: left;\">Float64</th><th title = \"Int64\" style = \"text-align: left;\">Int64</th><th title = \"Int64\" style = \"text-align: left;\">Int64</th><th title = \"Int64\" style = \"text-align: left;\">Int64</th><th title = \"Int64\" style = \"text-align: left;\">Int64</th><th title = \"Int64\" style = \"text-align: left;\">Int64</th><th title = \"Int64\" style = \"text-align: left;\">Int64</th><th title = \"Int64\" style = \"text-align: left;\">Int64</th><th title = \"Int64\" style = \"text-align: left;\">Int64</th><th title = \"Int64\" style = \"text-align: left;\">Int64</th><th title = \"Int64\" style = \"text-align: left;\">Int64</th><th title = \"Int64\" style = \"text-align: left;\">Int64</th><th title = \"Int64\" style = \"text-align: left;\">Int64</th><th title = \"Int64\" style = \"text-align: left;\">Int64</th><th title = \"Int64\" style = \"text-align: left;\">Int64</th><th title = \"Int64\" style = \"text-align: left;\">Int64</th><th title = \"Int64\" style = \"text-align: left;\">Int64</th><th title = \"Int64\" style = \"text-align: left;\">Int64</th><th title = \"Int64\" style = \"text-align: left;\">Int64</th><th title = \"Int64\" style = \"text-align: left;\">Int64</th><th title = \"Int64\" style = \"text-align: left;\">Int64</th><th title = \"Int64\" style = \"text-align: left;\">Int64</th><th title = \"Int64\" style = \"text-align: left;\">Int64</th><th title = \"Int64\" style = \"text-align: left;\">Int64</th><th title = \"Int64\" style = \"text-align: left;\">Int64</th><th title = \"Int64\" style = \"text-align: left;\">Int64</th><th title = \"Int64\" style = \"text-align: left;\">Int64</th><th title = \"Int64\" style = \"text-align: left;\">Int64</th><th title = \"Int64\" style = \"text-align: left;\">Int64</th><th title = \"Int64\" style = \"text-align: left;\">Int64</th><th title = \"Int64\" style = \"text-align: left;\">Int64</th><th title = \"Int64\" style = \"text-align: left;\">Int64</th><th title = \"Int64\" style = \"text-align: left;\">Int64</th><th title = \"Int64\" style = \"text-align: left;\">Int64</th><th title = \"Int64\" style = \"text-align: left;\">Int64</th><th title = \"Int64\" style = \"text-align: left;\">Int64</th><th title = \"Int64\" style = \"text-align: left;\">Int64</th><th title = \"Int64\" style = \"text-align: left;\">Int64</th><th title = \"Int64\" style = \"text-align: left;\">Int64</th><th title = \"Int64\" style = \"text-align: left;\">Int64</th><th title = \"Int64\" style = \"text-align: left;\">Int64</th></tr></thead><tbody><tr><td class = \"rowNumber\" style = \"font-weight: bold; text-align: right;\">1</td><td style = \"text-align: left;\">F. de Jong</td><td style = \"text-align: right;\">87</td><td style = \"text-align: right;\">92</td><td style = \"text-align: right;\">1.195e8</td><td style = \"text-align: right;\">210000.0</td><td style = \"text-align: right;\">24</td><td style = \"text-align: right;\">180</td><td style = \"text-align: right;\">74</td><td style = \"text-align: left;\">FC Barcelona</td><td style = \"text-align: right;\">1.0</td><td style = \"text-align: right;\">2021</td><td style = \"text-align: right;\">2026.0</td><td style = \"text-align: right;\">1</td><td style = \"text-align: right;\">3</td><td style = \"text-align: right;\">4</td><td style = \"text-align: right;\">3</td><td style = \"text-align: right;\">2.539e8</td><td style = \"text-align: right;\">81.0</td><td style = \"text-align: right;\">69.0</td><td style = \"text-align: right;\">85.0</td><td style = \"text-align: right;\">88.0</td><td style = \"text-align: right;\">77.0</td><td style = \"text-align: right;\">78.0</td><td style = \"text-align: right;\">78</td><td style = \"text-align: right;\">72</td><td style = \"text-align: right;\">72</td><td style = \"text-align: right;\">91</td><td style = \"text-align: right;\">70</td><td style = \"text-align: right;\">88</td><td style = \"text-align: right;\">84</td><td style = \"text-align: right;\">64</td><td style = \"text-align: right;\">87</td><td style = \"text-align: right;\">89</td><td style = \"text-align: right;\">80</td><td style = \"text-align: right;\">82</td><td style = \"text-align: right;\">88</td><td style = \"text-align: right;\">88</td><td style = \"text-align: right;\">79</td><td style = \"text-align: right;\">68</td><td style = \"text-align: right;\">76</td><td style = \"text-align: right;\">90</td><td style = \"text-align: right;\">74</td><td style = \"text-align: right;\">66</td><td style = \"text-align: right;\">75</td><td style = \"text-align: right;\">82</td><td style = \"text-align: right;\">77</td><td style = \"text-align: right;\">86</td><td style = \"text-align: right;\">45</td><td style = \"text-align: right;\">90</td><td style = \"text-align: right;\">76</td><td style = \"text-align: right;\">76</td><td style = \"text-align: right;\">77</td><td style = \"text-align: right;\">7</td><td style = \"text-align: right;\">13</td><td style = \"text-align: right;\">10</td><td style = \"text-align: right;\">10</td><td style = \"text-align: right;\">9</td><td style = \"text-align: right;\">0</td><td style = \"text-align: right;\">0</td><td style = \"text-align: right;\">0</td><td style = \"text-align: right;\">1</td><td style = \"text-align: right;\">3</td><td style = \"text-align: right;\">2</td></tr><tr><td class = \"rowNumber\" style = \"font-weight: bold; text-align: right;\">2</td><td style = \"text-align: left;\">Matheus Pereira</td><td style = \"text-align: right;\">68</td><td style = \"text-align: right;\">76</td><td style = \"text-align: right;\">2.7e6</td><td style = \"text-align: right;\">35000.0</td><td style = \"text-align: right;\">23</td><td style = \"text-align: right;\">181</td><td style = \"text-align: right;\">68</td><td style = \"text-align: left;\">FC Barcelona</td><td style = \"text-align: right;\">1.0</td><td style = \"text-align: right;\">2021</td><td style = \"text-align: right;\">2025.0</td><td style = \"text-align: right;\">0</td><td style = \"text-align: right;\">3</td><td style = \"text-align: right;\">4</td><td style = \"text-align: right;\">1</td><td style = \"text-align: right;\">6.1e6</td><td style = \"text-align: right;\">69.0</td><td style = \"text-align: right;\">60.0</td><td style = \"text-align: right;\">65.0</td><td style = \"text-align: right;\">74.0</td><td style = \"text-align: right;\">35.0</td><td style = \"text-align: right;\">58.0</td><td style = \"text-align: right;\">60</td><td style = \"text-align: right;\">62</td><td style = \"text-align: right;\">52</td><td style = \"text-align: right;\">67</td><td style = \"text-align: right;\">66</td><td style = \"text-align: right;\">75</td><td style = \"text-align: right;\">73</td><td style = \"text-align: right;\">64</td><td style = \"text-align: right;\">63</td><td style = \"text-align: right;\">74</td><td style = \"text-align: right;\">68</td><td style = \"text-align: right;\">69</td><td style = \"text-align: right;\">78</td><td style = \"text-align: right;\">70</td><td style = \"text-align: right;\">69</td><td style = \"text-align: right;\">58</td><td style = \"text-align: right;\">59</td><td style = \"text-align: right;\">69</td><td style = \"text-align: right;\">55</td><td style = \"text-align: right;\">57</td><td style = \"text-align: right;\">50</td><td style = \"text-align: right;\">33</td><td style = \"text-align: right;\">62</td><td style = \"text-align: right;\">67</td><td style = \"text-align: right;\">62</td><td style = \"text-align: right;\">73</td><td style = \"text-align: right;\">25</td><td style = \"text-align: right;\">40</td><td style = \"text-align: right;\">38</td><td style = \"text-align: right;\">9</td><td style = \"text-align: right;\">13</td><td style = \"text-align: right;\">7</td><td style = \"text-align: right;\">9</td><td style = \"text-align: right;\">10</td><td style = \"text-align: right;\">0</td><td style = \"text-align: right;\">0</td><td style = \"text-align: right;\">0</td><td style = \"text-align: right;\">1</td><td style = \"text-align: right;\">2</td><td style = \"text-align: right;\">2</td></tr><tr><td class = \"rowNumber\" style = \"font-weight: bold; text-align: right;\">3</td><td style = \"text-align: left;\">Álex Collado</td><td style = \"text-align: right;\">67</td><td style = \"text-align: right;\">79</td><td style = \"text-align: right;\">2.5e6</td><td style = \"text-align: right;\">33000.0</td><td style = \"text-align: right;\">22</td><td style = \"text-align: right;\">177</td><td style = \"text-align: right;\">66</td><td style = \"text-align: left;\">FC Barcelona</td><td style = \"text-align: right;\">1.0</td><td style = \"text-align: right;\">2021</td><td style = \"text-align: right;\">2023.0</td><td style = \"text-align: right;\">0</td><td style = \"text-align: right;\">3</td><td style = \"text-align: right;\">3</td><td style = \"text-align: right;\">1</td><td style = \"text-align: right;\">5.6e6</td><td style = \"text-align: right;\">63.0</td><td style = \"text-align: right;\">65.0</td><td style = \"text-align: right;\">70.0</td><td style = \"text-align: right;\">69.0</td><td style = \"text-align: right;\">56.0</td><td style = \"text-align: right;\">39.0</td><td style = \"text-align: right;\">70</td><td style = \"text-align: right;\">64</td><td style = \"text-align: right;\">51</td><td style = \"text-align: right;\">68</td><td style = \"text-align: right;\">53</td><td style = \"text-align: right;\">71</td><td style = \"text-align: right;\">73</td><td style = \"text-align: right;\">75</td><td style = \"text-align: right;\">64</td><td style = \"text-align: right;\">68</td><td style = \"text-align: right;\">64</td><td style = \"text-align: right;\">63</td><td style = \"text-align: right;\">69</td><td style = \"text-align: right;\">66</td><td style = \"text-align: right;\">68</td><td style = \"text-align: right;\">68</td><td style = \"text-align: right;\">43</td><td style = \"text-align: right;\">34</td><td style = \"text-align: right;\">38</td><td style = \"text-align: right;\">70</td><td style = \"text-align: right;\">48</td><td style = \"text-align: right;\">53</td><td style = \"text-align: right;\">62</td><td style = \"text-align: right;\">74</td><td style = \"text-align: right;\">63</td><td style = \"text-align: right;\">67</td><td style = \"text-align: right;\">59</td><td style = \"text-align: right;\">56</td><td style = \"text-align: right;\">57</td><td style = \"text-align: right;\">10</td><td style = \"text-align: right;\">9</td><td style = \"text-align: right;\">12</td><td style = \"text-align: right;\">12</td><td style = \"text-align: right;\">11</td><td style = \"text-align: right;\">1</td><td style = \"text-align: right;\">0</td><td style = \"text-align: right;\">0</td><td style = \"text-align: right;\">0</td><td style = \"text-align: right;\">2</td><td style = \"text-align: right;\">2</td></tr></tbody></table></div>"
      ],
      "text/latex": [
       "\\begin{tabular}{r|ccccccccc}\n",
       "\t& short\\_name & overall & potential & value\\_eur & wage\\_eur & age & height\\_cm & weight\\_kg & \\\\\n",
       "\t\\hline\n",
       "\t& String31 & Int64 & Int64 & Float64 & Float64 & Int64 & Int64 & Int64 & \\\\\n",
       "\t\\hline\n",
       "\t1 & F. de Jong & 87 & 92 & 1.195e8 & 210000.0 & 24 & 180 & 74 & $\\dots$ \\\\\n",
       "\t2 & Matheus Pereira & 68 & 76 & 2.7e6 & 35000.0 & 23 & 181 & 68 & $\\dots$ \\\\\n",
       "\t3 & Álex Collado & 67 & 79 & 2.5e6 & 33000.0 & 22 & 177 & 66 & $\\dots$ \\\\\n",
       "\\end{tabular}\n"
      ],
      "text/plain": [
       "\u001b[1m3×63 DataFrame\n",
       "\u001b[1m Row │\u001b[1m short_name      \u001b[1m overall \u001b[1m potential \u001b[1m value_eur \u001b[1m wage_eur \u001b[1m age   \u001b[1m height ⋯\n",
       "     │\u001b[90m String31        \u001b[90m Int64   \u001b[90m Int64     \u001b[90m Float64   \u001b[90m Float64  \u001b[90m Int64 \u001b[90m Int64  ⋯\n",
       "─────┼──────────────────────────────────────────────────────────────────────────\n",
       "   1 │ F. de Jong            87         92    1.195e8  210000.0     24         ⋯\n",
       "   2 │ Matheus Pereira       68         76    2.7e6     35000.0     23\n",
       "   3 │ Álex Collado          67         79    2.5e6     33000.0     22\n",
       "\u001b[36m                                                              57 columns omitted"
      ]
     },
     "execution_count": 57,
     "metadata": {},
     "output_type": "execute_result"
    }
   ],
   "source": [
    "sell = data_club[s .== 1, :]"
   ]
  },
  {
   "cell_type": "markdown",
   "metadata": {},
   "source": [
    "# Useless because objective function is linear"
   ]
  },
  {
   "cell_type": "markdown",
   "metadata": {},
   "source": [
    "## Approach 2: KNN"
   ]
  },
  {
   "cell_type": "code",
   "execution_count": 35,
   "metadata": {},
   "outputs": [],
   "source": [
    "num_neighbors = 6\n",
    ";"
   ]
  },
  {
   "cell_type": "code",
   "execution_count": 84,
   "metadata": {},
   "outputs": [],
   "source": [
    "v = new_data[: , \"value_eur\"]; # find value for all players"
   ]
  },
  {
   "cell_type": "code",
   "execution_count": 85,
   "metadata": {},
   "outputs": [
    {
     "data": {
      "text/plain": [
       "find_nearest_neighbors (generic function with 1 method)"
      ]
     },
     "execution_count": 85,
     "metadata": {},
     "output_type": "execute_result"
    }
   ],
   "source": [
    "# knn is not used for predicting the transfer fee, but for finding the nearest players to the one being considered\n",
    "function find_nearest_neighbors(new_data)\n",
    "\n",
    "    new_data = new_data[:, names(new_data) .!= \"short_name\"]\n",
    "    new_data = new_data[: , names(new_data) .!= \"club_name\"]\n",
    "    \n",
    "    # train k-Nearest Neighbors Model\n",
    "    df = vcat(train_valid, test)\n",
    "\n",
    "    xDataTraining = Matrix(get_features(df))\n",
    "    yDataTraining = get_target(df)\n",
    "\n",
    "    xDataNew = Matrix(new_data)\n",
    "\n",
    "    kdtree = KDTree(xDataTraining'; leafsize = 10)\n",
    "\n",
    "    # indices returns for each player the indices of the k nearest neighbors\n",
    "    indices, distance = knn(kdtree, xDataNew', num_neighbors)\n",
    "\n",
    "    return indices\n",
    "end"
   ]
  },
  {
   "cell_type": "code",
   "execution_count": 83,
   "metadata": {},
   "outputs": [
    {
     "data": {
      "text/plain": [
       "k_near_neigh (generic function with 2 methods)"
      ]
     },
     "execution_count": 83,
     "metadata": {},
     "output_type": "execute_result"
    }
   ],
   "source": [
    "function k_near_neigh(data_club, data_rest, transfers_club, num_neighbors)\n",
    "\n",
    "    # get parameters\n",
    "    n, N_c, N_min, N_max, B_max, S_max, p_o, r_o, v_o, m_o, a_o, p_c, r_c, v_c, m_c, a_c, 𝛅, 𝛾 = get_parameters(data_club, data_rest, transfers_club)\n",
    "\n",
    "    # find nearest neighbors\n",
    "    indices_club = find_nearest_neighbors(data_club)\n",
    "    indices_rest = find_nearest_neighbors(data_rest)\n",
    "\n",
    "    # define model\n",
    "    model = Model(() -> Gurobi.Optimizer(GRB_ENV))\n",
    "    set_optimizer_attributes(model, \"OutputFlag\" => 0, \"TimeLimit\" => 60)\n",
    "\n",
    "    # define variables\n",
    "    @variable(model, b[i = 1:n], Bin) # 1 if we buy player i, 0 otherwise\n",
    "    @variable(model, s[j = 1:N_c], Bin) # 1 if we sell player j, 0 otherwise\n",
    "\n",
    "    # define objective\n",
    "    @objective(model, Max, sum(sum(s[j] * v[l] for l in indices_club[j]) / num_neighbors for j = 1:N_c) - \n",
    "            sum(sum(b[i] * v[l] for l in indices_rest[i]) / num_neighbors for i = 1:n))\n",
    "\n",
    "    # define constraints\n",
    "    @constraint(model, sum((1 - s[j]) * m_c[j] for j = 1:N_c) + sum(b[i] * m_o[i] for i = 1:n) >= (sum(m_c[j] for j = 1:N_c)/N_c + 𝛅) * (N_c + sum(b[i] for i = 1:n) - sum(s[j] for j = 1:N_c)))\n",
    "    @constraint(model, sum(b[i] for i = 1:n) <= B_max) # maximum number of players that can be bought\n",
    "    @constraint(model, sum(s[j] for j = 1:N_c) <= S_max) # maximum number of players that can be sold\n",
    "    @constraint(model, N_min <= N_c + sum(b[i] for i = 1:n) - sum(s[j] for j = 1:N_c) <= N_max) # number of players in the club after the transfer window\n",
    "    @constraint(model, sum((1 - s[j]) * a_c[j] for j = 1:N_c) + sum(b[i] * a_o[i] for i = 1:n) <= (sum(a_c[j] for j = 1:N_c)/N_c + 𝛾) * (N_c + sum(b[i] for i = 1:n) - sum(s[j] for j = 1:N_c))) # average age of the team\n",
    "\n",
    "    # solve model\n",
    "    optimize!(model)\n",
    "\n",
    "    return objective_value(model), value.(b), value.(s)\n",
    "end"
   ]
  },
  {
   "cell_type": "code",
   "execution_count": 80,
   "metadata": {},
   "outputs": [
    {
     "name": "stdout",
     "output_type": "stream",
     "text": [
      "1234567"
     ]
    }
   ],
   "source": [
    "obj_knn, b_knn, s_knn = k_near_neigh(data_club, data_rest, transfers_club, num_neighbors);"
   ]
  },
  {
   "cell_type": "code",
   "execution_count": 81,
   "metadata": {},
   "outputs": [
    {
     "data": {
      "text/html": [
       "<div><div style = \"float: left;\"><span>1×63 DataFrame</span></div><div style = \"clear: both;\"></div></div><div class = \"data-frame\" style = \"overflow-x: scroll;\"><table class = \"data-frame\" style = \"margin-bottom: 6px;\"><thead><tr class = \"header\"><th class = \"rowNumber\" style = \"font-weight: bold; text-align: right;\">Row</th><th style = \"text-align: left;\">short_name</th><th style = \"text-align: left;\">overall</th><th style = \"text-align: left;\">potential</th><th style = \"text-align: left;\">value_eur</th><th style = \"text-align: left;\">wage_eur</th><th style = \"text-align: left;\">age</th><th style = \"text-align: left;\">height_cm</th><th style = \"text-align: left;\">weight_kg</th><th style = \"text-align: left;\">club_name</th><th style = \"text-align: left;\">league_level</th><th style = \"text-align: left;\">club_joined</th><th style = \"text-align: left;\">club_contract_valid_until</th><th style = \"text-align: left;\">preferred_foot</th><th style = \"text-align: left;\">weak_foot</th><th style = \"text-align: left;\">skill_moves</th><th style = \"text-align: left;\">international_reputation</th><th style = \"text-align: left;\">release_clause_eur</th><th style = \"text-align: left;\">pace</th><th style = \"text-align: left;\">shooting</th><th style = \"text-align: left;\">passing</th><th style = \"text-align: left;\">dribbling</th><th style = \"text-align: left;\">defending</th><th style = \"text-align: left;\">physic</th><th style = \"text-align: left;\">attacking_crossing</th><th style = \"text-align: left;\">attacking_finishing</th><th style = \"text-align: left;\">attacking_heading_accuracy</th><th style = \"text-align: left;\">attacking_short_passing</th><th style = \"text-align: left;\">attacking_volleys</th><th style = \"text-align: left;\">skill_dribbling</th><th style = \"text-align: left;\">skill_curve</th><th style = \"text-align: left;\">skill_fk_accuracy</th><th style = \"text-align: left;\">skill_long_passing</th><th style = \"text-align: left;\">skill_ball_control</th><th style = \"text-align: left;\">movement_acceleration</th><th style = \"text-align: left;\">movement_sprint_speed</th><th style = \"text-align: left;\">movement_agility</th><th style = \"text-align: left;\">movement_reactions</th><th style = \"text-align: left;\">movement_balance</th><th style = \"text-align: left;\">power_shot_power</th><th style = \"text-align: left;\">power_jumping</th><th style = \"text-align: left;\">power_stamina</th><th style = \"text-align: left;\">power_strength</th><th style = \"text-align: left;\">power_long_shots</th><th style = \"text-align: left;\">mentality_aggression</th><th style = \"text-align: left;\">mentality_interceptions</th><th style = \"text-align: left;\">mentality_positioning</th><th style = \"text-align: left;\">mentality_vision</th><th style = \"text-align: left;\">mentality_penalties</th><th style = \"text-align: left;\">mentality_composure</th><th style = \"text-align: left;\">defending_marking_awareness</th><th style = \"text-align: left;\">defending_standing_tackle</th><th style = \"text-align: left;\">defending_sliding_tackle</th><th style = \"text-align: left;\">goalkeeping_diving</th><th style = \"text-align: left;\">goalkeeping_handling</th><th style = \"text-align: left;\">goalkeeping_kicking</th><th style = \"text-align: left;\">goalkeeping_positioning</th><th style = \"text-align: left;\">goalkeeping_reflexes</th><th style = \"text-align: left;\">position_A</th><th style = \"text-align: left;\">position_D</th><th style = \"text-align: left;\">position_G</th><th style = \"text-align: left;\">position_M</th><th style = \"text-align: left;\">attack_work_rate</th><th style = \"text-align: left;\">defense_work_rate</th></tr><tr class = \"subheader headerLastRow\"><th class = \"rowNumber\" style = \"font-weight: bold; text-align: right;\"></th><th title = \"String31\" style = \"text-align: left;\">String31</th><th title = \"Int64\" style = \"text-align: left;\">Int64</th><th title = \"Int64\" style = \"text-align: left;\">Int64</th><th title = \"Float64\" style = \"text-align: left;\">Float64</th><th title = \"Float64\" style = \"text-align: left;\">Float64</th><th title = \"Int64\" style = \"text-align: left;\">Int64</th><th title = \"Int64\" style = \"text-align: left;\">Int64</th><th title = \"Int64\" style = \"text-align: left;\">Int64</th><th title = \"String\" style = \"text-align: left;\">String</th><th title = \"Float64\" style = \"text-align: left;\">Float64</th><th title = \"Int64\" style = \"text-align: left;\">Int64</th><th title = \"Float64\" style = \"text-align: left;\">Float64</th><th title = \"Int64\" style = \"text-align: left;\">Int64</th><th title = \"Int64\" style = \"text-align: left;\">Int64</th><th title = \"Int64\" style = \"text-align: left;\">Int64</th><th title = \"Int64\" style = \"text-align: left;\">Int64</th><th title = \"Float64\" style = \"text-align: left;\">Float64</th><th title = \"Float64\" style = \"text-align: left;\">Float64</th><th title = \"Float64\" style = \"text-align: left;\">Float64</th><th title = \"Float64\" style = \"text-align: left;\">Float64</th><th title = \"Float64\" style = \"text-align: left;\">Float64</th><th title = \"Float64\" style = \"text-align: left;\">Float64</th><th title = \"Float64\" style = \"text-align: left;\">Float64</th><th title = \"Int64\" style = \"text-align: left;\">Int64</th><th title = \"Int64\" style = \"text-align: left;\">Int64</th><th title = \"Int64\" style = \"text-align: left;\">Int64</th><th title = \"Int64\" style = \"text-align: left;\">Int64</th><th title = \"Int64\" style = \"text-align: left;\">Int64</th><th title = \"Int64\" style = \"text-align: left;\">Int64</th><th title = \"Int64\" style = \"text-align: left;\">Int64</th><th title = \"Int64\" style = \"text-align: left;\">Int64</th><th title = \"Int64\" style = \"text-align: left;\">Int64</th><th title = \"Int64\" style = \"text-align: left;\">Int64</th><th title = \"Int64\" style = \"text-align: left;\">Int64</th><th title = \"Int64\" style = \"text-align: left;\">Int64</th><th title = \"Int64\" style = \"text-align: left;\">Int64</th><th title = \"Int64\" style = \"text-align: left;\">Int64</th><th title = \"Int64\" style = \"text-align: left;\">Int64</th><th title = \"Int64\" style = \"text-align: left;\">Int64</th><th title = \"Int64\" style = \"text-align: left;\">Int64</th><th title = \"Int64\" style = \"text-align: left;\">Int64</th><th title = \"Int64\" style = \"text-align: left;\">Int64</th><th title = \"Int64\" style = \"text-align: left;\">Int64</th><th title = \"Int64\" style = \"text-align: left;\">Int64</th><th title = \"Int64\" style = \"text-align: left;\">Int64</th><th title = \"Int64\" style = \"text-align: left;\">Int64</th><th title = \"Int64\" style = \"text-align: left;\">Int64</th><th title = \"Int64\" style = \"text-align: left;\">Int64</th><th title = \"Int64\" style = \"text-align: left;\">Int64</th><th title = \"Int64\" style = \"text-align: left;\">Int64</th><th title = \"Int64\" style = \"text-align: left;\">Int64</th><th title = \"Int64\" style = \"text-align: left;\">Int64</th><th title = \"Int64\" style = \"text-align: left;\">Int64</th><th title = \"Int64\" style = \"text-align: left;\">Int64</th><th title = \"Int64\" style = \"text-align: left;\">Int64</th><th title = \"Int64\" style = \"text-align: left;\">Int64</th><th title = \"Int64\" style = \"text-align: left;\">Int64</th><th title = \"Int64\" style = \"text-align: left;\">Int64</th><th title = \"Int64\" style = \"text-align: left;\">Int64</th><th title = \"Int64\" style = \"text-align: left;\">Int64</th><th title = \"Int64\" style = \"text-align: left;\">Int64</th><th title = \"Int64\" style = \"text-align: left;\">Int64</th><th title = \"Int64\" style = \"text-align: left;\">Int64</th></tr></thead><tbody><tr><td class = \"rowNumber\" style = \"font-weight: bold; text-align: right;\">1</td><td style = \"text-align: left;\">K. Mbappé</td><td style = \"text-align: right;\">91</td><td style = \"text-align: right;\">95</td><td style = \"text-align: right;\">1.94e8</td><td style = \"text-align: right;\">230000.0</td><td style = \"text-align: right;\">22</td><td style = \"text-align: right;\">182</td><td style = \"text-align: right;\">73</td><td style = \"text-align: left;\">Paris Saint-Germain</td><td style = \"text-align: right;\">1.0</td><td style = \"text-align: right;\">2021</td><td style = \"text-align: right;\">2022.0</td><td style = \"text-align: right;\">1</td><td style = \"text-align: right;\">4</td><td style = \"text-align: right;\">5</td><td style = \"text-align: right;\">4</td><td style = \"text-align: right;\">3.735e8</td><td style = \"text-align: right;\">97.0</td><td style = \"text-align: right;\">88.0</td><td style = \"text-align: right;\">80.0</td><td style = \"text-align: right;\">92.0</td><td style = \"text-align: right;\">36.0</td><td style = \"text-align: right;\">77.0</td><td style = \"text-align: right;\">78</td><td style = \"text-align: right;\">93</td><td style = \"text-align: right;\">72</td><td style = \"text-align: right;\">85</td><td style = \"text-align: right;\">83</td><td style = \"text-align: right;\">93</td><td style = \"text-align: right;\">80</td><td style = \"text-align: right;\">69</td><td style = \"text-align: right;\">71</td><td style = \"text-align: right;\">91</td><td style = \"text-align: right;\">97</td><td style = \"text-align: right;\">97</td><td style = \"text-align: right;\">92</td><td style = \"text-align: right;\">93</td><td style = \"text-align: right;\">83</td><td style = \"text-align: right;\">86</td><td style = \"text-align: right;\">78</td><td style = \"text-align: right;\">88</td><td style = \"text-align: right;\">77</td><td style = \"text-align: right;\">82</td><td style = \"text-align: right;\">62</td><td style = \"text-align: right;\">38</td><td style = \"text-align: right;\">92</td><td style = \"text-align: right;\">82</td><td style = \"text-align: right;\">79</td><td style = \"text-align: right;\">88</td><td style = \"text-align: right;\">26</td><td style = \"text-align: right;\">34</td><td style = \"text-align: right;\">32</td><td style = \"text-align: right;\">13</td><td style = \"text-align: right;\">5</td><td style = \"text-align: right;\">7</td><td style = \"text-align: right;\">11</td><td style = \"text-align: right;\">6</td><td style = \"text-align: right;\">1</td><td style = \"text-align: right;\">0</td><td style = \"text-align: right;\">0</td><td style = \"text-align: right;\">0</td><td style = \"text-align: right;\">3</td><td style = \"text-align: right;\">1</td></tr></tbody></table></div>"
      ],
      "text/latex": [
       "\\begin{tabular}{r|ccccccccc}\n",
       "\t& short\\_name & overall & potential & value\\_eur & wage\\_eur & age & height\\_cm & weight\\_kg & \\\\\n",
       "\t\\hline\n",
       "\t& String31 & Int64 & Int64 & Float64 & Float64 & Int64 & Int64 & Int64 & \\\\\n",
       "\t\\hline\n",
       "\t1 & K. Mbappé & 91 & 95 & 1.94e8 & 230000.0 & 22 & 182 & 73 & $\\dots$ \\\\\n",
       "\\end{tabular}\n"
      ],
      "text/plain": [
       "\u001b[1m1×63 DataFrame\n",
       "\u001b[1m Row │\u001b[1m short_name \u001b[1m overall \u001b[1m potential \u001b[1m value_eur \u001b[1m wage_eur \u001b[1m age   \u001b[1m height_cm \u001b[1m  ⋯\n",
       "     │\u001b[90m String31   \u001b[90m Int64   \u001b[90m Int64     \u001b[90m Float64   \u001b[90m Float64  \u001b[90m Int64 \u001b[90m Int64     \u001b[90m  ⋯\n",
       "─────┼──────────────────────────────────────────────────────────────────────────\n",
       "   1 │ K. Mbappé        91         95     1.94e8  230000.0     22        182   ⋯\n",
       "\u001b[36m                                                              56 columns omitted"
      ]
     },
     "execution_count": 81,
     "metadata": {},
     "output_type": "execute_result"
    }
   ],
   "source": [
    "# get the players that we buy and sell\n",
    "buy_knn = data_rest[b_knn .== 1, :]"
   ]
  },
  {
   "cell_type": "code",
   "execution_count": 82,
   "metadata": {},
   "outputs": [
    {
     "data": {
      "text/html": [
       "<div><div style = \"float: left;\"><span>3×63 DataFrame</span></div><div style = \"clear: both;\"></div></div><div class = \"data-frame\" style = \"overflow-x: scroll;\"><table class = \"data-frame\" style = \"margin-bottom: 6px;\"><thead><tr class = \"header\"><th class = \"rowNumber\" style = \"font-weight: bold; text-align: right;\">Row</th><th style = \"text-align: left;\">short_name</th><th style = \"text-align: left;\">overall</th><th style = \"text-align: left;\">potential</th><th style = \"text-align: left;\">value_eur</th><th style = \"text-align: left;\">wage_eur</th><th style = \"text-align: left;\">age</th><th style = \"text-align: left;\">height_cm</th><th style = \"text-align: left;\">weight_kg</th><th style = \"text-align: left;\">club_name</th><th style = \"text-align: left;\">league_level</th><th style = \"text-align: left;\">club_joined</th><th style = \"text-align: left;\">club_contract_valid_until</th><th style = \"text-align: left;\">preferred_foot</th><th style = \"text-align: left;\">weak_foot</th><th style = \"text-align: left;\">skill_moves</th><th style = \"text-align: left;\">international_reputation</th><th style = \"text-align: left;\">release_clause_eur</th><th style = \"text-align: left;\">pace</th><th style = \"text-align: left;\">shooting</th><th style = \"text-align: left;\">passing</th><th style = \"text-align: left;\">dribbling</th><th style = \"text-align: left;\">defending</th><th style = \"text-align: left;\">physic</th><th style = \"text-align: left;\">attacking_crossing</th><th style = \"text-align: left;\">attacking_finishing</th><th style = \"text-align: left;\">attacking_heading_accuracy</th><th style = \"text-align: left;\">attacking_short_passing</th><th style = \"text-align: left;\">attacking_volleys</th><th style = \"text-align: left;\">skill_dribbling</th><th style = \"text-align: left;\">skill_curve</th><th style = \"text-align: left;\">skill_fk_accuracy</th><th style = \"text-align: left;\">skill_long_passing</th><th style = \"text-align: left;\">skill_ball_control</th><th style = \"text-align: left;\">movement_acceleration</th><th style = \"text-align: left;\">movement_sprint_speed</th><th style = \"text-align: left;\">movement_agility</th><th style = \"text-align: left;\">movement_reactions</th><th style = \"text-align: left;\">movement_balance</th><th style = \"text-align: left;\">power_shot_power</th><th style = \"text-align: left;\">power_jumping</th><th style = \"text-align: left;\">power_stamina</th><th style = \"text-align: left;\">power_strength</th><th style = \"text-align: left;\">power_long_shots</th><th style = \"text-align: left;\">mentality_aggression</th><th style = \"text-align: left;\">mentality_interceptions</th><th style = \"text-align: left;\">mentality_positioning</th><th style = \"text-align: left;\">mentality_vision</th><th style = \"text-align: left;\">mentality_penalties</th><th style = \"text-align: left;\">mentality_composure</th><th style = \"text-align: left;\">defending_marking_awareness</th><th style = \"text-align: left;\">defending_standing_tackle</th><th style = \"text-align: left;\">defending_sliding_tackle</th><th style = \"text-align: left;\">goalkeeping_diving</th><th style = \"text-align: left;\">goalkeeping_handling</th><th style = \"text-align: left;\">goalkeeping_kicking</th><th style = \"text-align: left;\">goalkeeping_positioning</th><th style = \"text-align: left;\">goalkeeping_reflexes</th><th style = \"text-align: left;\">position_A</th><th style = \"text-align: left;\">position_D</th><th style = \"text-align: left;\">position_G</th><th style = \"text-align: left;\">position_M</th><th style = \"text-align: left;\">attack_work_rate</th><th style = \"text-align: left;\">defense_work_rate</th></tr><tr class = \"subheader headerLastRow\"><th class = \"rowNumber\" style = \"font-weight: bold; text-align: right;\"></th><th title = \"String31\" style = \"text-align: left;\">String31</th><th title = \"Int64\" style = \"text-align: left;\">Int64</th><th title = \"Int64\" style = \"text-align: left;\">Int64</th><th title = \"Float64\" style = \"text-align: left;\">Float64</th><th title = \"Float64\" style = \"text-align: left;\">Float64</th><th title = \"Int64\" style = \"text-align: left;\">Int64</th><th title = \"Int64\" style = \"text-align: left;\">Int64</th><th title = \"Int64\" style = \"text-align: left;\">Int64</th><th title = \"String\" style = \"text-align: left;\">String</th><th title = \"Float64\" style = \"text-align: left;\">Float64</th><th title = \"Int64\" style = \"text-align: left;\">Int64</th><th title = \"Float64\" style = \"text-align: left;\">Float64</th><th title = \"Int64\" style = \"text-align: left;\">Int64</th><th title = \"Int64\" style = \"text-align: left;\">Int64</th><th title = \"Int64\" style = \"text-align: left;\">Int64</th><th title = \"Int64\" style = \"text-align: left;\">Int64</th><th title = \"Float64\" style = \"text-align: left;\">Float64</th><th title = \"Float64\" style = \"text-align: left;\">Float64</th><th title = \"Float64\" style = \"text-align: left;\">Float64</th><th title = \"Float64\" style = \"text-align: left;\">Float64</th><th title = \"Float64\" style = \"text-align: left;\">Float64</th><th title = \"Float64\" style = \"text-align: left;\">Float64</th><th title = \"Float64\" style = \"text-align: left;\">Float64</th><th title = \"Int64\" style = \"text-align: left;\">Int64</th><th title = \"Int64\" style = \"text-align: left;\">Int64</th><th title = \"Int64\" style = \"text-align: left;\">Int64</th><th title = \"Int64\" style = \"text-align: left;\">Int64</th><th title = \"Int64\" style = \"text-align: left;\">Int64</th><th title = \"Int64\" style = \"text-align: left;\">Int64</th><th title = \"Int64\" style = \"text-align: left;\">Int64</th><th title = \"Int64\" style = \"text-align: left;\">Int64</th><th title = \"Int64\" style = \"text-align: left;\">Int64</th><th title = \"Int64\" style = \"text-align: left;\">Int64</th><th title = \"Int64\" style = \"text-align: left;\">Int64</th><th title = \"Int64\" style = \"text-align: left;\">Int64</th><th title = \"Int64\" style = \"text-align: left;\">Int64</th><th title = \"Int64\" style = \"text-align: left;\">Int64</th><th title = \"Int64\" style = \"text-align: left;\">Int64</th><th title = \"Int64\" style = \"text-align: left;\">Int64</th><th title = \"Int64\" style = \"text-align: left;\">Int64</th><th title = \"Int64\" style = \"text-align: left;\">Int64</th><th title = \"Int64\" style = \"text-align: left;\">Int64</th><th title = \"Int64\" style = \"text-align: left;\">Int64</th><th title = \"Int64\" style = \"text-align: left;\">Int64</th><th title = \"Int64\" style = \"text-align: left;\">Int64</th><th title = \"Int64\" style = \"text-align: left;\">Int64</th><th title = \"Int64\" style = \"text-align: left;\">Int64</th><th title = \"Int64\" style = \"text-align: left;\">Int64</th><th title = \"Int64\" style = \"text-align: left;\">Int64</th><th title = \"Int64\" style = \"text-align: left;\">Int64</th><th title = \"Int64\" style = \"text-align: left;\">Int64</th><th title = \"Int64\" style = \"text-align: left;\">Int64</th><th title = \"Int64\" style = \"text-align: left;\">Int64</th><th title = \"Int64\" style = \"text-align: left;\">Int64</th><th title = \"Int64\" style = \"text-align: left;\">Int64</th><th title = \"Int64\" style = \"text-align: left;\">Int64</th><th title = \"Int64\" style = \"text-align: left;\">Int64</th><th title = \"Int64\" style = \"text-align: left;\">Int64</th><th title = \"Int64\" style = \"text-align: left;\">Int64</th><th title = \"Int64\" style = \"text-align: left;\">Int64</th><th title = \"Int64\" style = \"text-align: left;\">Int64</th><th title = \"Int64\" style = \"text-align: left;\">Int64</th><th title = \"Int64\" style = \"text-align: left;\">Int64</th></tr></thead><tbody><tr><td class = \"rowNumber\" style = \"font-weight: bold; text-align: right;\">1</td><td style = \"text-align: left;\">S. Umtiti</td><td style = \"text-align: right;\">80</td><td style = \"text-align: right;\">80</td><td style = \"text-align: right;\">1.95e7</td><td style = \"text-align: right;\">125000.0</td><td style = \"text-align: right;\">27</td><td style = \"text-align: right;\">182</td><td style = \"text-align: right;\">75</td><td style = \"text-align: left;\">FC Barcelona</td><td style = \"text-align: right;\">1.0</td><td style = \"text-align: right;\">2021</td><td style = \"text-align: right;\">2023.0</td><td style = \"text-align: right;\">0</td><td style = \"text-align: right;\">3</td><td style = \"text-align: right;\">2</td><td style = \"text-align: right;\">3</td><td style = \"text-align: right;\">4.0e7</td><td style = \"text-align: right;\">65.0</td><td style = \"text-align: right;\">62.0</td><td style = \"text-align: right;\">68.0</td><td style = \"text-align: right;\">67.0</td><td style = \"text-align: right;\">80.0</td><td style = \"text-align: right;\">78.0</td><td style = \"text-align: right;\">61</td><td style = \"text-align: right;\">51</td><td style = \"text-align: right;\">78</td><td style = \"text-align: right;\">76</td><td style = \"text-align: right;\">65</td><td style = \"text-align: right;\">64</td><td style = \"text-align: right;\">72</td><td style = \"text-align: right;\">62</td><td style = \"text-align: right;\">73</td><td style = \"text-align: right;\">73</td><td style = \"text-align: right;\">64</td><td style = \"text-align: right;\">65</td><td style = \"text-align: right;\">58</td><td style = \"text-align: right;\">78</td><td style = \"text-align: right;\">64</td><td style = \"text-align: right;\">83</td><td style = \"text-align: right;\">81</td><td style = \"text-align: right;\">64</td><td style = \"text-align: right;\">84</td><td style = \"text-align: right;\">70</td><td style = \"text-align: right;\">80</td><td style = \"text-align: right;\">81</td><td style = \"text-align: right;\">51</td><td style = \"text-align: right;\">58</td><td style = \"text-align: right;\">59</td><td style = \"text-align: right;\">74</td><td style = \"text-align: right;\">80</td><td style = \"text-align: right;\">80</td><td style = \"text-align: right;\">79</td><td style = \"text-align: right;\">15</td><td style = \"text-align: right;\">10</td><td style = \"text-align: right;\">14</td><td style = \"text-align: right;\">12</td><td style = \"text-align: right;\">15</td><td style = \"text-align: right;\">0</td><td style = \"text-align: right;\">1</td><td style = \"text-align: right;\">0</td><td style = \"text-align: right;\">0</td><td style = \"text-align: right;\">1</td><td style = \"text-align: right;\">2</td></tr><tr><td class = \"rowNumber\" style = \"font-weight: bold; text-align: right;\">2</td><td style = \"text-align: left;\">Álex Collado</td><td style = \"text-align: right;\">67</td><td style = \"text-align: right;\">79</td><td style = \"text-align: right;\">2.5e6</td><td style = \"text-align: right;\">33000.0</td><td style = \"text-align: right;\">22</td><td style = \"text-align: right;\">177</td><td style = \"text-align: right;\">66</td><td style = \"text-align: left;\">FC Barcelona</td><td style = \"text-align: right;\">1.0</td><td style = \"text-align: right;\">2021</td><td style = \"text-align: right;\">2023.0</td><td style = \"text-align: right;\">0</td><td style = \"text-align: right;\">3</td><td style = \"text-align: right;\">3</td><td style = \"text-align: right;\">1</td><td style = \"text-align: right;\">5.6e6</td><td style = \"text-align: right;\">63.0</td><td style = \"text-align: right;\">65.0</td><td style = \"text-align: right;\">70.0</td><td style = \"text-align: right;\">69.0</td><td style = \"text-align: right;\">56.0</td><td style = \"text-align: right;\">39.0</td><td style = \"text-align: right;\">70</td><td style = \"text-align: right;\">64</td><td style = \"text-align: right;\">51</td><td style = \"text-align: right;\">68</td><td style = \"text-align: right;\">53</td><td style = \"text-align: right;\">71</td><td style = \"text-align: right;\">73</td><td style = \"text-align: right;\">75</td><td style = \"text-align: right;\">64</td><td style = \"text-align: right;\">68</td><td style = \"text-align: right;\">64</td><td style = \"text-align: right;\">63</td><td style = \"text-align: right;\">69</td><td style = \"text-align: right;\">66</td><td style = \"text-align: right;\">68</td><td style = \"text-align: right;\">68</td><td style = \"text-align: right;\">43</td><td style = \"text-align: right;\">34</td><td style = \"text-align: right;\">38</td><td style = \"text-align: right;\">70</td><td style = \"text-align: right;\">48</td><td style = \"text-align: right;\">53</td><td style = \"text-align: right;\">62</td><td style = \"text-align: right;\">74</td><td style = \"text-align: right;\">63</td><td style = \"text-align: right;\">67</td><td style = \"text-align: right;\">59</td><td style = \"text-align: right;\">56</td><td style = \"text-align: right;\">57</td><td style = \"text-align: right;\">10</td><td style = \"text-align: right;\">9</td><td style = \"text-align: right;\">12</td><td style = \"text-align: right;\">12</td><td style = \"text-align: right;\">11</td><td style = \"text-align: right;\">1</td><td style = \"text-align: right;\">0</td><td style = \"text-align: right;\">0</td><td style = \"text-align: right;\">0</td><td style = \"text-align: right;\">2</td><td style = \"text-align: right;\">2</td></tr><tr><td class = \"rowNumber\" style = \"font-weight: bold; text-align: right;\">3</td><td style = \"text-align: left;\">Gavi</td><td style = \"text-align: right;\">66</td><td style = \"text-align: right;\">85</td><td style = \"text-align: right;\">2.1e6</td><td style = \"text-align: right;\">4000.0</td><td style = \"text-align: right;\">16</td><td style = \"text-align: right;\">173</td><td style = \"text-align: right;\">68</td><td style = \"text-align: left;\">FC Barcelona</td><td style = \"text-align: right;\">1.0</td><td style = \"text-align: right;\">2021</td><td style = \"text-align: right;\">2023.0</td><td style = \"text-align: right;\">1</td><td style = \"text-align: right;\">3</td><td style = \"text-align: right;\">2</td><td style = \"text-align: right;\">1</td><td style = \"text-align: right;\">5.6e6</td><td style = \"text-align: right;\">66.0</td><td style = \"text-align: right;\">53.0</td><td style = \"text-align: right;\">67.0</td><td style = \"text-align: right;\">69.0</td><td style = \"text-align: right;\">50.0</td><td style = \"text-align: right;\">48.0</td><td style = \"text-align: right;\">59</td><td style = \"text-align: right;\">55</td><td style = \"text-align: right;\">38</td><td style = \"text-align: right;\">73</td><td style = \"text-align: right;\">46</td><td style = \"text-align: right;\">67</td><td style = \"text-align: right;\">65</td><td style = \"text-align: right;\">47</td><td style = \"text-align: right;\">69</td><td style = \"text-align: right;\">70</td><td style = \"text-align: right;\">68</td><td style = \"text-align: right;\">64</td><td style = \"text-align: right;\">77</td><td style = \"text-align: right;\">64</td><td style = \"text-align: right;\">78</td><td style = \"text-align: right;\">49</td><td style = \"text-align: right;\">48</td><td style = \"text-align: right;\">52</td><td style = \"text-align: right;\">44</td><td style = \"text-align: right;\">53</td><td style = \"text-align: right;\">54</td><td style = \"text-align: right;\">58</td><td style = \"text-align: right;\">59</td><td style = \"text-align: right;\">70</td><td style = \"text-align: right;\">51</td><td style = \"text-align: right;\">68</td><td style = \"text-align: right;\">49</td><td style = \"text-align: right;\">53</td><td style = \"text-align: right;\">44</td><td style = \"text-align: right;\">8</td><td style = \"text-align: right;\">10</td><td style = \"text-align: right;\">11</td><td style = \"text-align: right;\">7</td><td style = \"text-align: right;\">13</td><td style = \"text-align: right;\">0</td><td style = \"text-align: right;\">0</td><td style = \"text-align: right;\">0</td><td style = \"text-align: right;\">1</td><td style = \"text-align: right;\">2</td><td style = \"text-align: right;\">2</td></tr></tbody></table></div>"
      ],
      "text/latex": [
       "\\begin{tabular}{r|ccccccccc}\n",
       "\t& short\\_name & overall & potential & value\\_eur & wage\\_eur & age & height\\_cm & weight\\_kg & \\\\\n",
       "\t\\hline\n",
       "\t& String31 & Int64 & Int64 & Float64 & Float64 & Int64 & Int64 & Int64 & \\\\\n",
       "\t\\hline\n",
       "\t1 & S. Umtiti & 80 & 80 & 1.95e7 & 125000.0 & 27 & 182 & 75 & $\\dots$ \\\\\n",
       "\t2 & Álex Collado & 67 & 79 & 2.5e6 & 33000.0 & 22 & 177 & 66 & $\\dots$ \\\\\n",
       "\t3 & Gavi & 66 & 85 & 2.1e6 & 4000.0 & 16 & 173 & 68 & $\\dots$ \\\\\n",
       "\\end{tabular}\n"
      ],
      "text/plain": [
       "\u001b[1m3×63 DataFrame\n",
       "\u001b[1m Row │\u001b[1m short_name   \u001b[1m overall \u001b[1m potential \u001b[1m value_eur \u001b[1m wage_eur \u001b[1m age   \u001b[1m height_cm ⋯\n",
       "     │\u001b[90m String31     \u001b[90m Int64   \u001b[90m Int64     \u001b[90m Float64   \u001b[90m Float64  \u001b[90m Int64 \u001b[90m Int64     ⋯\n",
       "─────┼──────────────────────────────────────────────────────────────────────────\n",
       "   1 │ S. Umtiti          80         80     1.95e7  125000.0     27        182 ⋯\n",
       "   2 │ Álex Collado       67         79     2.5e6    33000.0     22        177\n",
       "   3 │ Gavi               66         85     2.1e6     4000.0     16        173\n",
       "\u001b[36m                                                              56 columns omitted"
      ]
     },
     "execution_count": 82,
     "metadata": {},
     "output_type": "execute_result"
    }
   ],
   "source": [
    "sell_knn = data_club[s_knn .== 1, :]"
   ]
  },
  {
   "cell_type": "markdown",
   "metadata": {},
   "source": [
    "## Approach 3: CART and OCT"
   ]
  }
 ],
 "metadata": {
  "kernelspec": {
   "display_name": "Julia 1.8.0",
   "language": "julia",
   "name": "julia-1.8"
  },
  "language_info": {
   "file_extension": ".jl",
   "mimetype": "application/julia",
   "name": "julia",
   "version": "1.8.0"
  },
  "orig_nbformat": 4,
  "vscode": {
   "interpreter": {
    "hash": "06afd10951fdd4fed0e6da45c5305413c17e961fcd92f272d77ba5ed1e4178f9"
   }
  }
 },
 "nbformat": 4,
 "nbformat_minor": 2
}
