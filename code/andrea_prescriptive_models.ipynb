{
 "cells": [
  {
   "cell_type": "code",
   "execution_count": 11,
   "metadata": {},
   "outputs": [],
   "source": [
    "using CSV, DataFrames, Plots, Random, DecisionTree, Statistics, LinearAlgebra, JuMP, Gurobi, NearestNeighbors"
   ]
  },
  {
   "cell_type": "code",
   "execution_count": 129,
   "metadata": {},
   "outputs": [],
   "source": [
    "const GRB_ENV = Gurobi.Env(output_flag=0);"
   ]
  },
  {
   "cell_type": "code",
   "execution_count": 69,
   "metadata": {},
   "outputs": [],
   "source": [
    "# load data, we have to keep the data for all the players\n",
    "data = CSV.read(\"../data/fifa/players_22_preprocessed.csv\", DataFrame)\n",
    "transfers = CSV.read(\"../data/Transfers/all_transfers.csv\", DataFrame);"
   ]
  },
  {
   "cell_type": "code",
   "execution_count": 41,
   "metadata": {},
   "outputs": [],
   "source": [
    "# iterate over all clubs, and save players that are part of that clubs\n",
    "club_players = Dict()\n",
    "for club in Set(data[:, \"club_name\"])\n",
    "    club_players[club] = data[data[:, \"club_name\"] .== club, :]\n",
    "end"
   ]
  },
  {
   "cell_type": "code",
   "execution_count": 75,
   "metadata": {},
   "outputs": [],
   "source": [
    "# keep only 2022 transfers\n",
    "transfers = transfers[transfers[:, \"year\"] .== 2022, :];"
   ]
  },
  {
   "cell_type": "code",
   "execution_count": 77,
   "metadata": {},
   "outputs": [
    {
     "data": {
      "text/html": [
       "<div><div style = \"float: left;\"><span>5×12 DataFrame</span></div><div style = \"clear: both;\"></div></div><div class = \"data-frame\" style = \"overflow-x: scroll;\"><table class = \"data-frame\" style = \"margin-bottom: 6px;\"><thead><tr class = \"header\"><th class = \"rowNumber\" style = \"font-weight: bold; text-align: right;\">Row</th><th style = \"text-align: left;\">club_name</th><th style = \"text-align: left;\">player_name</th><th style = \"text-align: left;\">age</th><th style = \"text-align: left;\">position</th><th style = \"text-align: left;\">club_involved_name</th><th style = \"text-align: left;\">fee</th><th style = \"text-align: left;\">transfer_movement</th><th style = \"text-align: left;\">transfer_period</th><th style = \"text-align: left;\">fee_cleaned</th><th style = \"text-align: left;\">league_name</th><th style = \"text-align: left;\">year</th><th style = \"text-align: left;\">season</th></tr><tr class = \"subheader headerLastRow\"><th class = \"rowNumber\" style = \"font-weight: bold; text-align: right;\"></th><th title = \"String\" style = \"text-align: left;\">String</th><th title = \"String\" style = \"text-align: left;\">String</th><th title = \"Union{Missing, Float64}\" style = \"text-align: left;\">Float64?</th><th title = \"String31\" style = \"text-align: left;\">String31</th><th title = \"String31\" style = \"text-align: left;\">String31</th><th title = \"Union{Missing, String31}\" style = \"text-align: left;\">String31?</th><th title = \"String3\" style = \"text-align: left;\">String3</th><th title = \"String7\" style = \"text-align: left;\">String7</th><th title = \"Union{Missing, Float64}\" style = \"text-align: left;\">Float64?</th><th title = \"String31\" style = \"text-align: left;\">String31</th><th title = \"Int64\" style = \"text-align: left;\">Int64</th><th title = \"String15\" style = \"text-align: left;\">String15</th></tr></thead><tbody><tr><td class = \"rowNumber\" style = \"font-weight: bold; text-align: right;\">1</td><td style = \"text-align: left;\">Bayern Munich</td><td style = \"text-align: left;\">Matthijs de Ligt</td><td style = \"text-align: right;\">22.0</td><td style = \"text-align: left;\">Centre-Back</td><td style = \"text-align: left;\">Juventus</td><td style = \"text-align: left;\">€67.00m</td><td style = \"text-align: left;\">in</td><td style = \"text-align: left;\">summer</td><td style = \"text-align: right;\">67.0</td><td style = \"text-align: left;\">1 Bundesliga</td><td style = \"text-align: right;\">2022</td><td style = \"text-align: left;\">2022/2023</td></tr><tr><td class = \"rowNumber\" style = \"font-weight: bold; text-align: right;\">2</td><td style = \"text-align: left;\">Bayern Munich</td><td style = \"text-align: left;\">Sadio Mané</td><td style = \"text-align: right;\">30.0</td><td style = \"text-align: left;\">Left Winger</td><td style = \"text-align: left;\">Liverpool</td><td style = \"text-align: left;\">€32.00m</td><td style = \"text-align: left;\">in</td><td style = \"text-align: left;\">summer</td><td style = \"text-align: right;\">32.0</td><td style = \"text-align: left;\">1 Bundesliga</td><td style = \"text-align: right;\">2022</td><td style = \"text-align: left;\">2022/2023</td></tr><tr><td class = \"rowNumber\" style = \"font-weight: bold; text-align: right;\">3</td><td style = \"text-align: left;\">Bayern Munich</td><td style = \"text-align: left;\">Mathys Tel</td><td style = \"text-align: right;\">17.0</td><td style = \"text-align: left;\">Centre-Forward</td><td style = \"text-align: left;\">Stade Rennais</td><td style = \"text-align: left;\">€20.00m</td><td style = \"text-align: left;\">in</td><td style = \"text-align: left;\">summer</td><td style = \"text-align: right;\">20.0</td><td style = \"text-align: left;\">1 Bundesliga</td><td style = \"text-align: right;\">2022</td><td style = \"text-align: left;\">2022/2023</td></tr><tr><td class = \"rowNumber\" style = \"font-weight: bold; text-align: right;\">4</td><td style = \"text-align: left;\">Bayern Munich</td><td style = \"text-align: left;\">Ryan Gravenberch</td><td style = \"text-align: right;\">20.0</td><td style = \"text-align: left;\">Central Midfield</td><td style = \"text-align: left;\">Ajax</td><td style = \"text-align: left;\">€18.50m</td><td style = \"text-align: left;\">in</td><td style = \"text-align: left;\">summer</td><td style = \"text-align: right;\">18.5</td><td style = \"text-align: left;\">1 Bundesliga</td><td style = \"text-align: right;\">2022</td><td style = \"text-align: left;\">2022/2023</td></tr><tr><td class = \"rowNumber\" style = \"font-weight: bold; text-align: right;\">5</td><td style = \"text-align: left;\">Bayern Munich</td><td style = \"text-align: left;\">Noussair Mazraoui</td><td style = \"text-align: right;\">24.0</td><td style = \"text-align: left;\">Right-Back</td><td style = \"text-align: left;\">Ajax</td><td style = \"text-align: left;\">free transfer</td><td style = \"text-align: left;\">in</td><td style = \"text-align: left;\">summer</td><td style = \"text-align: right;\">0.0</td><td style = \"text-align: left;\">1 Bundesliga</td><td style = \"text-align: right;\">2022</td><td style = \"text-align: left;\">2022/2023</td></tr></tbody></table></div>"
      ],
      "text/latex": [
       "\\begin{tabular}{r|cccccc}\n",
       "\t& club\\_name & player\\_name & age & position & club\\_involved\\_name & \\\\\n",
       "\t\\hline\n",
       "\t& String & String & Float64? & String31 & String31 & \\\\\n",
       "\t\\hline\n",
       "\t1 & Bayern Munich & Matthijs de Ligt & 22.0 & Centre-Back & Juventus & $\\dots$ \\\\\n",
       "\t2 & Bayern Munich & Sadio Mané & 30.0 & Left Winger & Liverpool & $\\dots$ \\\\\n",
       "\t3 & Bayern Munich & Mathys Tel & 17.0 & Centre-Forward & Stade Rennais & $\\dots$ \\\\\n",
       "\t4 & Bayern Munich & Ryan Gravenberch & 20.0 & Central Midfield & Ajax & $\\dots$ \\\\\n",
       "\t5 & Bayern Munich & Noussair Mazraoui & 24.0 & Right-Back & Ajax & $\\dots$ \\\\\n",
       "\\end{tabular}\n"
      ],
      "text/plain": [
       "\u001b[1m5×12 DataFrame\n",
       "\u001b[1m Row │\u001b[1m club_name     \u001b[1m player_name       \u001b[1m age      \u001b[1m position         \u001b[1m club_invo ⋯\n",
       "     │\u001b[90m String        \u001b[90m String            \u001b[90m Float64? \u001b[90m String31         \u001b[90m String31  ⋯\n",
       "─────┼──────────────────────────────────────────────────────────────────────────\n",
       "   1 │ Bayern Munich  Matthijs de Ligt       22.0  Centre-Back       Juventus  ⋯\n",
       "   2 │ Bayern Munich  Sadio Mané             30.0  Left Winger       Liverpool\n",
       "   3 │ Bayern Munich  Mathys Tel             17.0  Centre-Forward    Stade Ren\n",
       "   4 │ Bayern Munich  Ryan Gravenberch       20.0  Central Midfield  Ajax\n",
       "   5 │ Bayern Munich  Noussair Mazraoui      24.0  Right-Back        Ajax      ⋯\n",
       "\u001b[36m                                                               8 columns omitted"
      ]
     },
     "execution_count": 77,
     "metadata": {},
     "output_type": "execute_result"
    }
   ],
   "source": [
    "transfers[1:5,:]"
   ]
  },
  {
   "cell_type": "markdown",
   "metadata": {},
   "source": [
    "When we do prescription, we are pretending to be one specific club. We can do the same for multiple clubs."
   ]
  },
  {
   "cell_type": "code",
   "execution_count": 124,
   "metadata": {},
   "outputs": [],
   "source": [
    "club_choosen = \"FC Barcelona\"\n",
    "club_choosen_transferName = \"FC Barcelona\"\n",
    ";"
   ]
  },
  {
   "cell_type": "code",
   "execution_count": 125,
   "metadata": {},
   "outputs": [],
   "source": [
    "data_club = club_players[club_choosen]\n",
    "data_rest = data[data[:, \"club_name\"] .!= club_choosen, :]\n",
    ";"
   ]
  },
  {
   "cell_type": "code",
   "execution_count": 126,
   "metadata": {},
   "outputs": [
    {
     "data": {
      "text/plain": [
       "118.0"
      ]
     },
     "execution_count": 126,
     "metadata": {},
     "output_type": "execute_result"
    }
   ],
   "source": [
    "# useful to compare our model with what truly happens\n",
    "transfers_club = transfers[transfers[:, \"club_name\"] .== club_choosen_transferName, [\"transfer_movement\", \"fee_cleaned\"]]\n",
    "transfers_club = transfers_club[completecases(transfers_club), :]\n",
    "\n",
    "transfers_in = transfers_club[transfers_club[:, \"transfer_movement\"] .== \"in\", \"fee_cleaned\"]\n",
    "transfers_out = transfers_club[transfers_club[:, \"transfer_movement\"] .== \"out\", \"fee_cleaned\"]\n",
    "\n",
    "net_spend = sum(transfers_in) - sum(transfers_out)"
   ]
  },
  {
   "cell_type": "code",
   "execution_count": 178,
   "metadata": {},
   "outputs": [],
   "source": [
    "# get parameters we need in our prescriptive model\n",
    "\n",
    "n = size(data_rest, 1) # players that can be recruited\n",
    "N_c = k = size(data_club, 1) # number of players in the club, equal to how many we can consider to sell\n",
    "N_min = minimum([size(club_players[club])[1] for club in keys(club_players)]) # minimum number of players in the club\n",
    "N_max = maximum([size(club_players[club])[1] for club in keys(club_players)]) # maximum number of players in the club\n",
    "B_max = 10 # maximum number of players that can be bought\n",
    "S_max = 10 # maximum number of players that can be sold\n",
    "\n",
    "# for players outside the club\n",
    "p_o = data_rest[:, \"potential\"] # potential\n",
    "r_o = data_rest[:, \"overall\"] # rating\n",
    "v_o = data_rest[:, \"value_eur\"] # value (later we will use the value predicted in the prediction part)\n",
    "m_o = 0.9 * r_o + 0.1 * p_o # overall rating\n",
    "\n",
    "# for players inside the club\n",
    "p_c = data_club[:, \"potential\"] # potential \n",
    "r_c = data_club[:, \"overall\"] # rating \n",
    "v_c = data_club[:, \"value_eur\"] # value (same as above)\n",
    "m_c = 0.9 * r_c + 0.1 * p_c # overall rating\n",
    "\n",
    "𝛅 = 1 # how much we want to improve the team\n",
    ";"
   ]
  },
  {
   "cell_type": "code",
   "execution_count": 179,
   "metadata": {},
   "outputs": [
    {
     "data": {
      "text/plain": [
       "77.61851851851851"
      ]
     },
     "execution_count": 179,
     "metadata": {},
     "output_type": "execute_result"
    }
   ],
   "source": [
    "sum(m_c) / k"
   ]
  },
  {
   "cell_type": "markdown",
   "metadata": {},
   "source": [
    "# Approach 1: Regress and compare"
   ]
  },
  {
   "cell_type": "code",
   "execution_count": 188,
   "metadata": {},
   "outputs": [
    {
     "data": {
      "text/plain": [
       "regress_and_compare (generic function with 3 methods)"
      ]
     },
     "execution_count": 188,
     "metadata": {},
     "output_type": "execute_result"
    }
   ],
   "source": [
    "function regress_and_compare(n, N_c, k, N_min, N_max, B_max, S_max, p_o, r_o, v_o, m_o, p_c, r_c, v_c, m_c, 𝛅)\n",
    "\n",
    "    # define model\n",
    "    model = Model(() -> Gurobi.Optimizer(GRB_ENV))\n",
    "    set_optimizer_attributes(model, \"OutputFlag\" => 0, \"TimeLimit\" => 60)\n",
    "\n",
    "    # define variables\n",
    "    @variable(model, b[i = 1:n], Bin) # 1 if we buy player i, 0 otherwise\n",
    "    @variable(model, s[j = 1:k], Bin) # 1 if we sell player j, 0 otherwise\n",
    "\n",
    "    # define objective\n",
    "    @objective(model, Max, sum(s[j] * v_c[j] for j = 1:k) - sum(b[i] * v_o[i] for i = 1:n))\n",
    "\n",
    "    # define constraints\n",
    "    @constraint(model, sum((1 - s[j]) * m_c[j] for j = 1:k) + sum(b[i] * m_o[i] for i = 1:n) >= (sum(m_c[j] for j = 1:k)/k + 𝛅) * (k + sum(b[i] for i = 1:n) - sum(s[j] for j = 1:k)))\n",
    "    @constraint(model, sum(b[i] for i = 1:n) <= B_max) # maximum number of players that can be bought\n",
    "    @constraint(model, sum(s[j] for j = 1:k) <= S_max) # maximum number of players that can be sold\n",
    "    @constraint(model, N_min <= N_c + sum(b[i] for i = 1:n) - sum(s[j] for j = 1:k) <= N_max) # number of players in the club after the transfer window\n",
    "\n",
    "    # solve model\n",
    "    optimize!(model)\n",
    "\n",
    "    return objective_value(model), value.(b), value.(s)\n",
    "end"
   ]
  },
  {
   "cell_type": "code",
   "execution_count": 189,
   "metadata": {},
   "outputs": [],
   "source": [
    "obj, b, s = regress_and_compare(n, N_c, k, N_min, N_max, B_max, S_max, p_o, r_o, v_o, m_o, p_c, r_c, v_c, m_c, 𝛅);"
   ]
  },
  {
   "cell_type": "code",
   "execution_count": 193,
   "metadata": {},
   "outputs": [
    {
     "data": {
      "text/plain": [
       "359700000"
      ]
     },
     "execution_count": 193,
     "metadata": {},
     "output_type": "execute_result"
    }
   ],
   "source": [
    "Int(obj)"
   ]
  },
  {
   "cell_type": "code",
   "execution_count": 191,
   "metadata": {},
   "outputs": [
    {
     "data": {
      "text/html": [
       "<div><div style = \"float: left;\"><span>5×63 DataFrame</span></div><div style = \"clear: both;\"></div></div><div class = \"data-frame\" style = \"overflow-x: scroll;\"><table class = \"data-frame\" style = \"margin-bottom: 6px;\"><thead><tr class = \"header\"><th class = \"rowNumber\" style = \"font-weight: bold; text-align: right;\">Row</th><th style = \"text-align: left;\">short_name</th><th style = \"text-align: left;\">overall</th><th style = \"text-align: left;\">potential</th><th style = \"text-align: left;\">value_eur</th><th style = \"text-align: left;\">wage_eur</th><th style = \"text-align: left;\">age</th><th style = \"text-align: left;\">height_cm</th><th style = \"text-align: left;\">weight_kg</th><th style = \"text-align: left;\">club_name</th><th style = \"text-align: left;\">league_level</th><th style = \"text-align: left;\">club_joined</th><th style = \"text-align: left;\">club_contract_valid_until</th><th style = \"text-align: left;\">preferred_foot</th><th style = \"text-align: left;\">weak_foot</th><th style = \"text-align: left;\">skill_moves</th><th style = \"text-align: left;\">international_reputation</th><th style = \"text-align: left;\">release_clause_eur</th><th style = \"text-align: left;\">pace</th><th style = \"text-align: left;\">shooting</th><th style = \"text-align: left;\">passing</th><th style = \"text-align: left;\">dribbling</th><th style = \"text-align: left;\">defending</th><th style = \"text-align: left;\">physic</th><th style = \"text-align: left;\">attacking_crossing</th><th style = \"text-align: left;\">attacking_finishing</th><th style = \"text-align: left;\">attacking_heading_accuracy</th><th style = \"text-align: left;\">attacking_short_passing</th><th style = \"text-align: left;\">attacking_volleys</th><th style = \"text-align: left;\">skill_dribbling</th><th style = \"text-align: left;\">skill_curve</th><th style = \"text-align: left;\">skill_fk_accuracy</th><th style = \"text-align: left;\">skill_long_passing</th><th style = \"text-align: left;\">skill_ball_control</th><th style = \"text-align: left;\">movement_acceleration</th><th style = \"text-align: left;\">movement_sprint_speed</th><th style = \"text-align: left;\">movement_agility</th><th style = \"text-align: left;\">movement_reactions</th><th style = \"text-align: left;\">movement_balance</th><th style = \"text-align: left;\">power_shot_power</th><th style = \"text-align: left;\">power_jumping</th><th style = \"text-align: left;\">power_stamina</th><th style = \"text-align: left;\">power_strength</th><th style = \"text-align: left;\">power_long_shots</th><th style = \"text-align: left;\">mentality_aggression</th><th style = \"text-align: left;\">mentality_interceptions</th><th style = \"text-align: left;\">mentality_positioning</th><th style = \"text-align: left;\">mentality_vision</th><th style = \"text-align: left;\">mentality_penalties</th><th style = \"text-align: left;\">mentality_composure</th><th style = \"text-align: left;\">defending_marking_awareness</th><th style = \"text-align: left;\">defending_standing_tackle</th><th style = \"text-align: left;\">defending_sliding_tackle</th><th style = \"text-align: left;\">goalkeeping_diving</th><th style = \"text-align: left;\">goalkeeping_handling</th><th style = \"text-align: left;\">goalkeeping_kicking</th><th style = \"text-align: left;\">goalkeeping_positioning</th><th style = \"text-align: left;\">goalkeeping_reflexes</th><th style = \"text-align: left;\">position_A</th><th style = \"text-align: left;\">position_D</th><th style = \"text-align: left;\">position_G</th><th style = \"text-align: left;\">position_M</th><th style = \"text-align: left;\">attack_work_rate</th><th style = \"text-align: left;\">defense_work_rate</th></tr><tr class = \"subheader headerLastRow\"><th class = \"rowNumber\" style = \"font-weight: bold; text-align: right;\"></th><th title = \"String31\" style = \"text-align: left;\">String31</th><th title = \"Int64\" style = \"text-align: left;\">Int64</th><th title = \"Int64\" style = \"text-align: left;\">Int64</th><th title = \"Float64\" style = \"text-align: left;\">Float64</th><th title = \"Float64\" style = \"text-align: left;\">Float64</th><th title = \"Int64\" style = \"text-align: left;\">Int64</th><th title = \"Int64\" style = \"text-align: left;\">Int64</th><th title = \"Int64\" style = \"text-align: left;\">Int64</th><th title = \"String\" style = \"text-align: left;\">String</th><th title = \"Float64\" style = \"text-align: left;\">Float64</th><th title = \"Int64\" style = \"text-align: left;\">Int64</th><th title = \"Float64\" style = \"text-align: left;\">Float64</th><th title = \"Int64\" style = \"text-align: left;\">Int64</th><th title = \"Int64\" style = \"text-align: left;\">Int64</th><th title = \"Int64\" style = \"text-align: left;\">Int64</th><th title = \"Int64\" style = \"text-align: left;\">Int64</th><th title = \"Float64\" style = \"text-align: left;\">Float64</th><th title = \"Float64\" style = \"text-align: left;\">Float64</th><th title = \"Float64\" style = \"text-align: left;\">Float64</th><th title = \"Float64\" style = \"text-align: left;\">Float64</th><th title = \"Float64\" style = \"text-align: left;\">Float64</th><th title = \"Float64\" style = \"text-align: left;\">Float64</th><th title = \"Float64\" style = \"text-align: left;\">Float64</th><th title = \"Int64\" style = \"text-align: left;\">Int64</th><th title = \"Int64\" style = \"text-align: left;\">Int64</th><th title = \"Int64\" style = \"text-align: left;\">Int64</th><th title = \"Int64\" style = \"text-align: left;\">Int64</th><th title = \"Int64\" style = \"text-align: left;\">Int64</th><th title = \"Int64\" style = \"text-align: left;\">Int64</th><th title = \"Int64\" style = \"text-align: left;\">Int64</th><th title = \"Int64\" style = \"text-align: left;\">Int64</th><th title = \"Int64\" style = \"text-align: left;\">Int64</th><th title = \"Int64\" style = \"text-align: left;\">Int64</th><th title = \"Int64\" style = \"text-align: left;\">Int64</th><th title = \"Int64\" style = \"text-align: left;\">Int64</th><th title = \"Int64\" style = \"text-align: left;\">Int64</th><th title = \"Int64\" style = \"text-align: left;\">Int64</th><th title = \"Int64\" style = \"text-align: left;\">Int64</th><th title = \"Int64\" style = \"text-align: left;\">Int64</th><th title = \"Int64\" style = \"text-align: left;\">Int64</th><th title = \"Int64\" style = \"text-align: left;\">Int64</th><th title = \"Int64\" style = \"text-align: left;\">Int64</th><th title = \"Int64\" style = \"text-align: left;\">Int64</th><th title = \"Int64\" style = \"text-align: left;\">Int64</th><th title = \"Int64\" style = \"text-align: left;\">Int64</th><th title = \"Int64\" style = \"text-align: left;\">Int64</th><th title = \"Int64\" style = \"text-align: left;\">Int64</th><th title = \"Int64\" style = \"text-align: left;\">Int64</th><th title = \"Int64\" style = \"text-align: left;\">Int64</th><th title = \"Int64\" style = \"text-align: left;\">Int64</th><th title = \"Int64\" style = \"text-align: left;\">Int64</th><th title = \"Int64\" style = \"text-align: left;\">Int64</th><th title = \"Int64\" style = \"text-align: left;\">Int64</th><th title = \"Int64\" style = \"text-align: left;\">Int64</th><th title = \"Int64\" style = \"text-align: left;\">Int64</th><th title = \"Int64\" style = \"text-align: left;\">Int64</th><th title = \"Int64\" style = \"text-align: left;\">Int64</th><th title = \"Int64\" style = \"text-align: left;\">Int64</th><th title = \"Int64\" style = \"text-align: left;\">Int64</th><th title = \"Int64\" style = \"text-align: left;\">Int64</th><th title = \"Int64\" style = \"text-align: left;\">Int64</th><th title = \"Int64\" style = \"text-align: left;\">Int64</th><th title = \"Int64\" style = \"text-align: left;\">Int64</th></tr></thead><tbody><tr><td class = \"rowNumber\" style = \"font-weight: bold; text-align: right;\">1</td><td style = \"text-align: left;\">G. Chiellini</td><td style = \"text-align: right;\">86</td><td style = \"text-align: right;\">86</td><td style = \"text-align: right;\">1.2e7</td><td style = \"text-align: right;\">88000.0</td><td style = \"text-align: right;\">36</td><td style = \"text-align: right;\">187</td><td style = \"text-align: right;\">85</td><td style = \"text-align: left;\">Juventus</td><td style = \"text-align: right;\">1.0</td><td style = \"text-align: right;\">2021</td><td style = \"text-align: right;\">2023.0</td><td style = \"text-align: right;\">0</td><td style = \"text-align: right;\">3</td><td style = \"text-align: right;\">2</td><td style = \"text-align: right;\">4</td><td style = \"text-align: right;\">1.98e7</td><td style = \"text-align: right;\">68.0</td><td style = \"text-align: right;\">46.0</td><td style = \"text-align: right;\">60.0</td><td style = \"text-align: right;\">59.0</td><td style = \"text-align: right;\">89.0</td><td style = \"text-align: right;\">85.0</td><td style = \"text-align: right;\">63</td><td style = \"text-align: right;\">33</td><td style = \"text-align: right;\">77</td><td style = \"text-align: right;\">65</td><td style = \"text-align: right;\">45</td><td style = \"text-align: right;\">57</td><td style = \"text-align: right;\">60</td><td style = \"text-align: right;\">31</td><td style = \"text-align: right;\">67</td><td style = \"text-align: right;\">57</td><td style = \"text-align: right;\">67</td><td style = \"text-align: right;\">69</td><td style = \"text-align: right;\">53</td><td style = \"text-align: right;\">80</td><td style = \"text-align: right;\">57</td><td style = \"text-align: right;\">78</td><td style = \"text-align: right;\">91</td><td style = \"text-align: right;\">71</td><td style = \"text-align: right;\">91</td><td style = \"text-align: right;\">49</td><td style = \"text-align: right;\">88</td><td style = \"text-align: right;\">89</td><td style = \"text-align: right;\">28</td><td style = \"text-align: right;\">50</td><td style = \"text-align: right;\">50</td><td style = \"text-align: right;\">83</td><td style = \"text-align: right;\">93</td><td style = \"text-align: right;\">89</td><td style = \"text-align: right;\">88</td><td style = \"text-align: right;\">3</td><td style = \"text-align: right;\">3</td><td style = \"text-align: right;\">2</td><td style = \"text-align: right;\">4</td><td style = \"text-align: right;\">3</td><td style = \"text-align: right;\">0</td><td style = \"text-align: right;\">1</td><td style = \"text-align: right;\">0</td><td style = \"text-align: right;\">0</td><td style = \"text-align: right;\">2</td><td style = \"text-align: right;\">3</td></tr><tr><td class = \"rowNumber\" style = \"font-weight: bold; text-align: right;\">2</td><td style = \"text-align: left;\">Thiago Silva</td><td style = \"text-align: right;\">85</td><td style = \"text-align: right;\">85</td><td style = \"text-align: right;\">9.5e6</td><td style = \"text-align: right;\">105000.0</td><td style = \"text-align: right;\">36</td><td style = \"text-align: right;\">183</td><td style = \"text-align: right;\">79</td><td style = \"text-align: left;\">Chelsea</td><td style = \"text-align: right;\">1.0</td><td style = \"text-align: right;\">2021</td><td style = \"text-align: right;\">2022.0</td><td style = \"text-align: right;\">1</td><td style = \"text-align: right;\">3</td><td style = \"text-align: right;\">2</td><td style = \"text-align: right;\">4</td><td style = \"text-align: right;\">1.76e7</td><td style = \"text-align: right;\">53.0</td><td style = \"text-align: right;\">54.0</td><td style = \"text-align: right;\">72.0</td><td style = \"text-align: right;\">72.0</td><td style = \"text-align: right;\">86.0</td><td style = \"text-align: right;\">78.0</td><td style = \"text-align: right;\">60</td><td style = \"text-align: right;\">40</td><td style = \"text-align: right;\">81</td><td style = \"text-align: right;\">80</td><td style = \"text-align: right;\">61</td><td style = \"text-align: right;\">67</td><td style = \"text-align: right;\">62</td><td style = \"text-align: right;\">61</td><td style = \"text-align: right;\">80</td><td style = \"text-align: right;\">79</td><td style = \"text-align: right;\">52</td><td style = \"text-align: right;\">54</td><td style = \"text-align: right;\">67</td><td style = \"text-align: right;\">82</td><td style = \"text-align: right;\">66</td><td style = \"text-align: right;\">71</td><td style = \"text-align: right;\">88</td><td style = \"text-align: right;\">68</td><td style = \"text-align: right;\">82</td><td style = \"text-align: right;\">65</td><td style = \"text-align: right;\">76</td><td style = \"text-align: right;\">88</td><td style = \"text-align: right;\">59</td><td style = \"text-align: right;\">71</td><td style = \"text-align: right;\">60</td><td style = \"text-align: right;\">86</td><td style = \"text-align: right;\">87</td><td style = \"text-align: right;\">86</td><td style = \"text-align: right;\">84</td><td style = \"text-align: right;\">9</td><td style = \"text-align: right;\">12</td><td style = \"text-align: right;\">5</td><td style = \"text-align: right;\">9</td><td style = \"text-align: right;\">10</td><td style = \"text-align: right;\">0</td><td style = \"text-align: right;\">1</td><td style = \"text-align: right;\">0</td><td style = \"text-align: right;\">0</td><td style = \"text-align: right;\">2</td><td style = \"text-align: right;\">3</td></tr><tr><td class = \"rowNumber\" style = \"font-weight: bold; text-align: right;\">3</td><td style = \"text-align: left;\">Fernandinho</td><td style = \"text-align: right;\">83</td><td style = \"text-align: right;\">83</td><td style = \"text-align: right;\">7.0e6</td><td style = \"text-align: right;\">100000.0</td><td style = \"text-align: right;\">36</td><td style = \"text-align: right;\">179</td><td style = \"text-align: right;\">67</td><td style = \"text-align: left;\">Manchester City</td><td style = \"text-align: right;\">1.0</td><td style = \"text-align: right;\">2021</td><td style = \"text-align: right;\">2022.0</td><td style = \"text-align: right;\">1</td><td style = \"text-align: right;\">4</td><td style = \"text-align: right;\">3</td><td style = \"text-align: right;\">3</td><td style = \"text-align: right;\">1.3e7</td><td style = \"text-align: right;\">59.0</td><td style = \"text-align: right;\">72.0</td><td style = \"text-align: right;\">75.0</td><td style = \"text-align: right;\">78.0</td><td style = \"text-align: right;\">84.0</td><td style = \"text-align: right;\">75.0</td><td style = \"text-align: right;\">68</td><td style = \"text-align: right;\">66</td><td style = \"text-align: right;\">71</td><td style = \"text-align: right;\">83</td><td style = \"text-align: right;\">70</td><td style = \"text-align: right;\">76</td><td style = \"text-align: right;\">68</td><td style = \"text-align: right;\">71</td><td style = \"text-align: right;\">81</td><td style = \"text-align: right;\">81</td><td style = \"text-align: right;\">67</td><td style = \"text-align: right;\">52</td><td style = \"text-align: right;\">69</td><td style = \"text-align: right;\">86</td><td style = \"text-align: right;\">77</td><td style = \"text-align: right;\">83</td><td style = \"text-align: right;\">84</td><td style = \"text-align: right;\">66</td><td style = \"text-align: right;\">75</td><td style = \"text-align: right;\">76</td><td style = \"text-align: right;\">86</td><td style = \"text-align: right;\">85</td><td style = \"text-align: right;\">70</td><td style = \"text-align: right;\">66</td><td style = \"text-align: right;\">61</td><td style = \"text-align: right;\">81</td><td style = \"text-align: right;\">87</td><td style = \"text-align: right;\">85</td><td style = \"text-align: right;\">80</td><td style = \"text-align: right;\">12</td><td style = \"text-align: right;\">11</td><td style = \"text-align: right;\">5</td><td style = \"text-align: right;\">13</td><td style = \"text-align: right;\">7</td><td style = \"text-align: right;\">0</td><td style = \"text-align: right;\">0</td><td style = \"text-align: right;\">0</td><td style = \"text-align: right;\">1</td><td style = \"text-align: right;\">2</td><td style = \"text-align: right;\">3</td></tr><tr><td class = \"rowNumber\" style = \"font-weight: bold; text-align: right;\">4</td><td style = \"text-align: left;\">Pepe</td><td style = \"text-align: right;\">82</td><td style = \"text-align: right;\">82</td><td style = \"text-align: right;\">5.5e6</td><td style = \"text-align: right;\">14000.0</td><td style = \"text-align: right;\">38</td><td style = \"text-align: right;\">188</td><td style = \"text-align: right;\">80</td><td style = \"text-align: left;\">FC Porto</td><td style = \"text-align: right;\">1.0</td><td style = \"text-align: right;\">2021</td><td style = \"text-align: right;\">2023.0</td><td style = \"text-align: right;\">1</td><td style = \"text-align: right;\">3</td><td style = \"text-align: right;\">2</td><td style = \"text-align: right;\">4</td><td style = \"text-align: right;\">1.1e7</td><td style = \"text-align: right;\">80.0</td><td style = \"text-align: right;\">51.0</td><td style = \"text-align: right;\">60.0</td><td style = \"text-align: right;\">61.0</td><td style = \"text-align: right;\">82.0</td><td style = \"text-align: right;\">87.0</td><td style = \"text-align: right;\">46</td><td style = \"text-align: right;\">46</td><td style = \"text-align: right;\">81</td><td style = \"text-align: right;\">73</td><td style = \"text-align: right;\">23</td><td style = \"text-align: right;\">58</td><td style = \"text-align: right;\">44</td><td style = \"text-align: right;\">47</td><td style = \"text-align: right;\">75</td><td style = \"text-align: right;\">60</td><td style = \"text-align: right;\">79</td><td style = \"text-align: right;\">81</td><td style = \"text-align: right;\">62</td><td style = \"text-align: right;\">81</td><td style = \"text-align: right;\">48</td><td style = \"text-align: right;\">63</td><td style = \"text-align: right;\">89</td><td style = \"text-align: right;\">82</td><td style = \"text-align: right;\">86</td><td style = \"text-align: right;\">56</td><td style = \"text-align: right;\">94</td><td style = \"text-align: right;\">78</td><td style = \"text-align: right;\">40</td><td style = \"text-align: right;\">48</td><td style = \"text-align: right;\">57</td><td style = \"text-align: right;\">80</td><td style = \"text-align: right;\">86</td><td style = \"text-align: right;\">82</td><td style = \"text-align: right;\">81</td><td style = \"text-align: right;\">8</td><td style = \"text-align: right;\">15</td><td style = \"text-align: right;\">5</td><td style = \"text-align: right;\">9</td><td style = \"text-align: right;\">10</td><td style = \"text-align: right;\">0</td><td style = \"text-align: right;\">1</td><td style = \"text-align: right;\">0</td><td style = \"text-align: right;\">0</td><td style = \"text-align: right;\">2</td><td style = \"text-align: right;\">3</td></tr><tr><td class = \"rowNumber\" style = \"font-weight: bold; text-align: right;\">5</td><td style = \"text-align: left;\">José Fonte</td><td style = \"text-align: right;\">81</td><td style = \"text-align: right;\">81</td><td style = \"text-align: right;\">4.6e6</td><td style = \"text-align: right;\">30000.0</td><td style = \"text-align: right;\">37</td><td style = \"text-align: right;\">191</td><td style = \"text-align: right;\">84</td><td style = \"text-align: left;\">LOSC Lille</td><td style = \"text-align: right;\">1.0</td><td style = \"text-align: right;\">2021</td><td style = \"text-align: right;\">2022.0</td><td style = \"text-align: right;\">1</td><td style = \"text-align: right;\">3</td><td style = \"text-align: right;\">2</td><td style = \"text-align: right;\">3</td><td style = \"text-align: right;\">8.7e6</td><td style = \"text-align: right;\">32.0</td><td style = \"text-align: right;\">46.0</td><td style = \"text-align: right;\">62.0</td><td style = \"text-align: right;\">63.0</td><td style = \"text-align: right;\">83.0</td><td style = \"text-align: right;\">77.0</td><td style = \"text-align: right;\">47</td><td style = \"text-align: right;\">42</td><td style = \"text-align: right;\">85</td><td style = \"text-align: right;\">74</td><td style = \"text-align: right;\">36</td><td style = \"text-align: right;\">61</td><td style = \"text-align: right;\">51</td><td style = \"text-align: right;\">32</td><td style = \"text-align: right;\">69</td><td style = \"text-align: right;\">68</td><td style = \"text-align: right;\">32</td><td style = \"text-align: right;\">32</td><td style = \"text-align: right;\">43</td><td style = \"text-align: right;\">83</td><td style = \"text-align: right;\">51</td><td style = \"text-align: right;\">60</td><td style = \"text-align: right;\">74</td><td style = \"text-align: right;\">57</td><td style = \"text-align: right;\">84</td><td style = \"text-align: right;\">43</td><td style = \"text-align: right;\">83</td><td style = \"text-align: right;\">82</td><td style = \"text-align: right;\">48</td><td style = \"text-align: right;\">63</td><td style = \"text-align: right;\">43</td><td style = \"text-align: right;\">79</td><td style = \"text-align: right;\">84</td><td style = \"text-align: right;\">83</td><td style = \"text-align: right;\">78</td><td style = \"text-align: right;\">7</td><td style = \"text-align: right;\">11</td><td style = \"text-align: right;\">16</td><td style = \"text-align: right;\">10</td><td style = \"text-align: right;\">6</td><td style = \"text-align: right;\">0</td><td style = \"text-align: right;\">1</td><td style = \"text-align: right;\">0</td><td style = \"text-align: right;\">0</td><td style = \"text-align: right;\">2</td><td style = \"text-align: right;\">3</td></tr></tbody></table></div>"
      ],
      "text/latex": [
       "\\begin{tabular}{r|ccccccccc}\n",
       "\t& short\\_name & overall & potential & value\\_eur & wage\\_eur & age & height\\_cm & weight\\_kg & \\\\\n",
       "\t\\hline\n",
       "\t& String31 & Int64 & Int64 & Float64 & Float64 & Int64 & Int64 & Int64 & \\\\\n",
       "\t\\hline\n",
       "\t1 & G. Chiellini & 86 & 86 & 1.2e7 & 88000.0 & 36 & 187 & 85 & $\\dots$ \\\\\n",
       "\t2 & Thiago Silva & 85 & 85 & 9.5e6 & 105000.0 & 36 & 183 & 79 & $\\dots$ \\\\\n",
       "\t3 & Fernandinho & 83 & 83 & 7.0e6 & 100000.0 & 36 & 179 & 67 & $\\dots$ \\\\\n",
       "\t4 & Pepe & 82 & 82 & 5.5e6 & 14000.0 & 38 & 188 & 80 & $\\dots$ \\\\\n",
       "\t5 & José Fonte & 81 & 81 & 4.6e6 & 30000.0 & 37 & 191 & 84 & $\\dots$ \\\\\n",
       "\\end{tabular}\n"
      ],
      "text/plain": [
       "\u001b[1m5×63 DataFrame\n",
       "\u001b[1m Row │\u001b[1m short_name   \u001b[1m overall \u001b[1m potential \u001b[1m value_eur \u001b[1m wage_eur \u001b[1m age   \u001b[1m height_cm ⋯\n",
       "     │\u001b[90m String31     \u001b[90m Int64   \u001b[90m Int64     \u001b[90m Float64   \u001b[90m Float64  \u001b[90m Int64 \u001b[90m Int64     ⋯\n",
       "─────┼──────────────────────────────────────────────────────────────────────────\n",
       "   1 │ G. Chiellini       86         86      1.2e7   88000.0     36        187 ⋯\n",
       "   2 │ Thiago Silva       85         85      9.5e6  105000.0     36        183\n",
       "   3 │ Fernandinho        83         83      7.0e6  100000.0     36        179\n",
       "   4 │ Pepe               82         82      5.5e6   14000.0     38        188\n",
       "   5 │ José Fonte         81         81      4.6e6   30000.0     37        191 ⋯\n",
       "\u001b[36m                                                              56 columns omitted"
      ]
     },
     "execution_count": 191,
     "metadata": {},
     "output_type": "execute_result"
    }
   ],
   "source": [
    "# get the players that we buy and sell\n",
    "buy = data_rest[b .== 1, :]"
   ]
  },
  {
   "cell_type": "code",
   "execution_count": 192,
   "metadata": {},
   "outputs": [
    {
     "data": {
      "text/html": [
       "<div><div style = \"float: left;\"><span>10×63 DataFrame</span></div><div style = \"clear: both;\"></div></div><div class = \"data-frame\" style = \"overflow-x: scroll;\"><table class = \"data-frame\" style = \"margin-bottom: 6px;\"><thead><tr class = \"header\"><th class = \"rowNumber\" style = \"font-weight: bold; text-align: right;\">Row</th><th style = \"text-align: left;\">short_name</th><th style = \"text-align: left;\">overall</th><th style = \"text-align: left;\">potential</th><th style = \"text-align: left;\">value_eur</th><th style = \"text-align: left;\">wage_eur</th><th style = \"text-align: left;\">age</th><th style = \"text-align: left;\">height_cm</th><th style = \"text-align: left;\">weight_kg</th><th style = \"text-align: left;\">club_name</th><th style = \"text-align: left;\">league_level</th><th style = \"text-align: left;\">club_joined</th><th style = \"text-align: left;\">club_contract_valid_until</th><th style = \"text-align: left;\">preferred_foot</th><th style = \"text-align: left;\">weak_foot</th><th style = \"text-align: left;\">skill_moves</th><th style = \"text-align: left;\">international_reputation</th><th style = \"text-align: left;\">release_clause_eur</th><th style = \"text-align: left;\">pace</th><th style = \"text-align: left;\">shooting</th><th style = \"text-align: left;\">passing</th><th style = \"text-align: left;\">dribbling</th><th style = \"text-align: left;\">defending</th><th style = \"text-align: left;\">physic</th><th style = \"text-align: left;\">attacking_crossing</th><th style = \"text-align: left;\">attacking_finishing</th><th style = \"text-align: left;\">attacking_heading_accuracy</th><th style = \"text-align: left;\">attacking_short_passing</th><th style = \"text-align: left;\">attacking_volleys</th><th style = \"text-align: left;\">skill_dribbling</th><th style = \"text-align: left;\">skill_curve</th><th style = \"text-align: left;\">skill_fk_accuracy</th><th style = \"text-align: left;\">skill_long_passing</th><th style = \"text-align: left;\">skill_ball_control</th><th style = \"text-align: left;\">movement_acceleration</th><th style = \"text-align: left;\">movement_sprint_speed</th><th style = \"text-align: left;\">movement_agility</th><th style = \"text-align: left;\">movement_reactions</th><th style = \"text-align: left;\">movement_balance</th><th style = \"text-align: left;\">power_shot_power</th><th style = \"text-align: left;\">power_jumping</th><th style = \"text-align: left;\">power_stamina</th><th style = \"text-align: left;\">power_strength</th><th style = \"text-align: left;\">power_long_shots</th><th style = \"text-align: left;\">mentality_aggression</th><th style = \"text-align: left;\">mentality_interceptions</th><th style = \"text-align: left;\">mentality_positioning</th><th style = \"text-align: left;\">mentality_vision</th><th style = \"text-align: left;\">mentality_penalties</th><th style = \"text-align: left;\">mentality_composure</th><th style = \"text-align: left;\">defending_marking_awareness</th><th style = \"text-align: left;\">defending_standing_tackle</th><th style = \"text-align: left;\">defending_sliding_tackle</th><th style = \"text-align: left;\">goalkeeping_diving</th><th style = \"text-align: left;\">goalkeeping_handling</th><th style = \"text-align: left;\">goalkeeping_kicking</th><th style = \"text-align: left;\">goalkeeping_positioning</th><th style = \"text-align: left;\">goalkeeping_reflexes</th><th style = \"text-align: left;\">position_A</th><th style = \"text-align: left;\">position_D</th><th style = \"text-align: left;\">position_G</th><th style = \"text-align: left;\">position_M</th><th style = \"text-align: left;\">attack_work_rate</th><th style = \"text-align: left;\">defense_work_rate</th></tr><tr class = \"subheader headerLastRow\"><th class = \"rowNumber\" style = \"font-weight: bold; text-align: right;\"></th><th title = \"String31\" style = \"text-align: left;\">String31</th><th title = \"Int64\" style = \"text-align: left;\">Int64</th><th title = \"Int64\" style = \"text-align: left;\">Int64</th><th title = \"Float64\" style = \"text-align: left;\">Float64</th><th title = \"Float64\" style = \"text-align: left;\">Float64</th><th title = \"Int64\" style = \"text-align: left;\">Int64</th><th title = \"Int64\" style = \"text-align: left;\">Int64</th><th title = \"Int64\" style = \"text-align: left;\">Int64</th><th title = \"String\" style = \"text-align: left;\">String</th><th title = \"Float64\" style = \"text-align: left;\">Float64</th><th title = \"Int64\" style = \"text-align: left;\">Int64</th><th title = \"Float64\" style = \"text-align: left;\">Float64</th><th title = \"Int64\" style = \"text-align: left;\">Int64</th><th title = \"Int64\" style = \"text-align: left;\">Int64</th><th title = \"Int64\" style = \"text-align: left;\">Int64</th><th title = \"Int64\" style = \"text-align: left;\">Int64</th><th title = \"Float64\" style = \"text-align: left;\">Float64</th><th title = \"Float64\" style = \"text-align: left;\">Float64</th><th title = \"Float64\" style = \"text-align: left;\">Float64</th><th title = \"Float64\" style = \"text-align: left;\">Float64</th><th title = \"Float64\" style = \"text-align: left;\">Float64</th><th title = \"Float64\" style = \"text-align: left;\">Float64</th><th title = \"Float64\" style = \"text-align: left;\">Float64</th><th title = \"Int64\" style = \"text-align: left;\">Int64</th><th title = \"Int64\" style = \"text-align: left;\">Int64</th><th title = \"Int64\" style = \"text-align: left;\">Int64</th><th title = \"Int64\" style = \"text-align: left;\">Int64</th><th title = \"Int64\" style = \"text-align: left;\">Int64</th><th title = \"Int64\" style = \"text-align: left;\">Int64</th><th title = \"Int64\" style = \"text-align: left;\">Int64</th><th title = \"Int64\" style = \"text-align: left;\">Int64</th><th title = \"Int64\" style = \"text-align: left;\">Int64</th><th title = \"Int64\" style = \"text-align: left;\">Int64</th><th title = \"Int64\" style = \"text-align: left;\">Int64</th><th title = \"Int64\" style = \"text-align: left;\">Int64</th><th title = \"Int64\" style = \"text-align: left;\">Int64</th><th title = \"Int64\" style = \"text-align: left;\">Int64</th><th title = \"Int64\" style = \"text-align: left;\">Int64</th><th title = \"Int64\" style = \"text-align: left;\">Int64</th><th title = \"Int64\" style = \"text-align: left;\">Int64</th><th title = \"Int64\" style = \"text-align: left;\">Int64</th><th title = \"Int64\" style = \"text-align: left;\">Int64</th><th title = \"Int64\" style = \"text-align: left;\">Int64</th><th title = \"Int64\" style = \"text-align: left;\">Int64</th><th title = \"Int64\" style = \"text-align: left;\">Int64</th><th title = \"Int64\" style = \"text-align: left;\">Int64</th><th title = \"Int64\" style = \"text-align: left;\">Int64</th><th title = \"Int64\" style = \"text-align: left;\">Int64</th><th title = \"Int64\" style = \"text-align: left;\">Int64</th><th title = \"Int64\" style = \"text-align: left;\">Int64</th><th title = \"Int64\" style = \"text-align: left;\">Int64</th><th title = \"Int64\" style = \"text-align: left;\">Int64</th><th title = \"Int64\" style = \"text-align: left;\">Int64</th><th title = \"Int64\" style = \"text-align: left;\">Int64</th><th title = \"Int64\" style = \"text-align: left;\">Int64</th><th title = \"Int64\" style = \"text-align: left;\">Int64</th><th title = \"Int64\" style = \"text-align: left;\">Int64</th><th title = \"Int64\" style = \"text-align: left;\">Int64</th><th title = \"Int64\" style = \"text-align: left;\">Int64</th><th title = \"Int64\" style = \"text-align: left;\">Int64</th><th title = \"Int64\" style = \"text-align: left;\">Int64</th><th title = \"Int64\" style = \"text-align: left;\">Int64</th><th title = \"Int64\" style = \"text-align: left;\">Int64</th></tr></thead><tbody><tr><td class = \"rowNumber\" style = \"font-weight: bold; text-align: right;\">1</td><td style = \"text-align: left;\">S. Agüero</td><td style = \"text-align: right;\">87</td><td style = \"text-align: right;\">87</td><td style = \"text-align: right;\">5.1e7</td><td style = \"text-align: right;\">260000.0</td><td style = \"text-align: right;\">33</td><td style = \"text-align: right;\">173</td><td style = \"text-align: right;\">70</td><td style = \"text-align: left;\">FC Barcelona</td><td style = \"text-align: right;\">1.0</td><td style = \"text-align: right;\">2021</td><td style = \"text-align: right;\">2023.0</td><td style = \"text-align: right;\">1</td><td style = \"text-align: right;\">4</td><td style = \"text-align: right;\">4</td><td style = \"text-align: right;\">4</td><td style = \"text-align: right;\">1.046e8</td><td style = \"text-align: right;\">71.0</td><td style = \"text-align: right;\">89.0</td><td style = \"text-align: right;\">75.0</td><td style = \"text-align: right;\">87.0</td><td style = \"text-align: right;\">33.0</td><td style = \"text-align: right;\">69.0</td><td style = \"text-align: right;\">70</td><td style = \"text-align: right;\">93</td><td style = \"text-align: right;\">78</td><td style = \"text-align: right;\">80</td><td style = \"text-align: right;\">85</td><td style = \"text-align: right;\">86</td><td style = \"text-align: right;\">83</td><td style = \"text-align: right;\">73</td><td style = \"text-align: right;\">64</td><td style = \"text-align: right;\">88</td><td style = \"text-align: right;\">75</td><td style = \"text-align: right;\">68</td><td style = \"text-align: right;\">82</td><td style = \"text-align: right;\">89</td><td style = \"text-align: right;\">90</td><td style = \"text-align: right;\">90</td><td style = \"text-align: right;\">78</td><td style = \"text-align: right;\">62</td><td style = \"text-align: right;\">74</td><td style = \"text-align: right;\">83</td><td style = \"text-align: right;\">65</td><td style = \"text-align: right;\">24</td><td style = \"text-align: right;\">91</td><td style = \"text-align: right;\">80</td><td style = \"text-align: right;\">75</td><td style = \"text-align: right;\">91</td><td style = \"text-align: right;\">30</td><td style = \"text-align: right;\">29</td><td style = \"text-align: right;\">24</td><td style = \"text-align: right;\">13</td><td style = \"text-align: right;\">15</td><td style = \"text-align: right;\">6</td><td style = \"text-align: right;\">11</td><td style = \"text-align: right;\">14</td><td style = \"text-align: right;\">1</td><td style = \"text-align: right;\">0</td><td style = \"text-align: right;\">0</td><td style = \"text-align: right;\">0</td><td style = \"text-align: right;\">3</td><td style = \"text-align: right;\">2</td></tr><tr><td class = \"rowNumber\" style = \"font-weight: bold; text-align: right;\">2</td><td style = \"text-align: left;\">F. de Jong</td><td style = \"text-align: right;\">87</td><td style = \"text-align: right;\">92</td><td style = \"text-align: right;\">1.195e8</td><td style = \"text-align: right;\">210000.0</td><td style = \"text-align: right;\">24</td><td style = \"text-align: right;\">180</td><td style = \"text-align: right;\">74</td><td style = \"text-align: left;\">FC Barcelona</td><td style = \"text-align: right;\">1.0</td><td style = \"text-align: right;\">2021</td><td style = \"text-align: right;\">2026.0</td><td style = \"text-align: right;\">1</td><td style = \"text-align: right;\">3</td><td style = \"text-align: right;\">4</td><td style = \"text-align: right;\">3</td><td style = \"text-align: right;\">2.539e8</td><td style = \"text-align: right;\">81.0</td><td style = \"text-align: right;\">69.0</td><td style = \"text-align: right;\">85.0</td><td style = \"text-align: right;\">88.0</td><td style = \"text-align: right;\">77.0</td><td style = \"text-align: right;\">78.0</td><td style = \"text-align: right;\">78</td><td style = \"text-align: right;\">72</td><td style = \"text-align: right;\">72</td><td style = \"text-align: right;\">91</td><td style = \"text-align: right;\">70</td><td style = \"text-align: right;\">88</td><td style = \"text-align: right;\">84</td><td style = \"text-align: right;\">64</td><td style = \"text-align: right;\">87</td><td style = \"text-align: right;\">89</td><td style = \"text-align: right;\">80</td><td style = \"text-align: right;\">82</td><td style = \"text-align: right;\">88</td><td style = \"text-align: right;\">88</td><td style = \"text-align: right;\">79</td><td style = \"text-align: right;\">68</td><td style = \"text-align: right;\">76</td><td style = \"text-align: right;\">90</td><td style = \"text-align: right;\">74</td><td style = \"text-align: right;\">66</td><td style = \"text-align: right;\">75</td><td style = \"text-align: right;\">82</td><td style = \"text-align: right;\">77</td><td style = \"text-align: right;\">86</td><td style = \"text-align: right;\">45</td><td style = \"text-align: right;\">90</td><td style = \"text-align: right;\">76</td><td style = \"text-align: right;\">76</td><td style = \"text-align: right;\">77</td><td style = \"text-align: right;\">7</td><td style = \"text-align: right;\">13</td><td style = \"text-align: right;\">10</td><td style = \"text-align: right;\">10</td><td style = \"text-align: right;\">9</td><td style = \"text-align: right;\">0</td><td style = \"text-align: right;\">0</td><td style = \"text-align: right;\">0</td><td style = \"text-align: right;\">1</td><td style = \"text-align: right;\">3</td><td style = \"text-align: right;\">2</td></tr><tr><td class = \"rowNumber\" style = \"font-weight: bold; text-align: right;\">3</td><td style = \"text-align: left;\">Jordi Alba</td><td style = \"text-align: right;\">86</td><td style = \"text-align: right;\">86</td><td style = \"text-align: right;\">4.7e7</td><td style = \"text-align: right;\">200000.0</td><td style = \"text-align: right;\">32</td><td style = \"text-align: right;\">170</td><td style = \"text-align: right;\">68</td><td style = \"text-align: left;\">FC Barcelona</td><td style = \"text-align: right;\">1.0</td><td style = \"text-align: right;\">2021</td><td style = \"text-align: right;\">2024.0</td><td style = \"text-align: right;\">0</td><td style = \"text-align: right;\">3</td><td style = \"text-align: right;\">3</td><td style = \"text-align: right;\">3</td><td style = \"text-align: right;\">9.64e7</td><td style = \"text-align: right;\">86.0</td><td style = \"text-align: right;\">69.0</td><td style = \"text-align: right;\">81.0</td><td style = \"text-align: right;\">83.0</td><td style = \"text-align: right;\">77.0</td><td style = \"text-align: right;\">71.0</td><td style = \"text-align: right;\">85</td><td style = \"text-align: right;\">73</td><td style = \"text-align: right;\">70</td><td style = \"text-align: right;\">85</td><td style = \"text-align: right;\">60</td><td style = \"text-align: right;\">81</td><td style = \"text-align: right;\">80</td><td style = \"text-align: right;\">63</td><td style = \"text-align: right;\">79</td><td style = \"text-align: right;\">85</td><td style = \"text-align: right;\">87</td><td style = \"text-align: right;\">86</td><td style = \"text-align: right;\">90</td><td style = \"text-align: right;\">80</td><td style = \"text-align: right;\">85</td><td style = \"text-align: right;\">64</td><td style = \"text-align: right;\">80</td><td style = \"text-align: right;\">87</td><td style = \"text-align: right;\">61</td><td style = \"text-align: right;\">66</td><td style = \"text-align: right;\">75</td><td style = \"text-align: right;\">81</td><td style = \"text-align: right;\">83</td><td style = \"text-align: right;\">78</td><td style = \"text-align: right;\">59</td><td style = \"text-align: right;\">80</td><td style = \"text-align: right;\">74</td><td style = \"text-align: right;\">78</td><td style = \"text-align: right;\">80</td><td style = \"text-align: right;\">13</td><td style = \"text-align: right;\">15</td><td style = \"text-align: right;\">13</td><td style = \"text-align: right;\">6</td><td style = \"text-align: right;\">13</td><td style = \"text-align: right;\">0</td><td style = \"text-align: right;\">1</td><td style = \"text-align: right;\">0</td><td style = \"text-align: right;\">0</td><td style = \"text-align: right;\">3</td><td style = \"text-align: right;\">2</td></tr><tr><td class = \"rowNumber\" style = \"font-weight: bold; text-align: right;\">4</td><td style = \"text-align: left;\">M. Depay</td><td style = \"text-align: right;\">85</td><td style = \"text-align: right;\">86</td><td style = \"text-align: right;\">6.3e7</td><td style = \"text-align: right;\">220000.0</td><td style = \"text-align: right;\">27</td><td style = \"text-align: right;\">176</td><td style = \"text-align: right;\">78</td><td style = \"text-align: left;\">FC Barcelona</td><td style = \"text-align: right;\">1.0</td><td style = \"text-align: right;\">2021</td><td style = \"text-align: right;\">2023.0</td><td style = \"text-align: right;\">1</td><td style = \"text-align: right;\">3</td><td style = \"text-align: right;\">5</td><td style = \"text-align: right;\">3</td><td style = \"text-align: right;\">1.339e8</td><td style = \"text-align: right;\">82.0</td><td style = \"text-align: right;\">83.0</td><td style = \"text-align: right;\">82.0</td><td style = \"text-align: right;\">84.0</td><td style = \"text-align: right;\">30.0</td><td style = \"text-align: right;\">79.0</td><td style = \"text-align: right;\">84</td><td style = \"text-align: right;\">83</td><td style = \"text-align: right;\">65</td><td style = \"text-align: right;\">81</td><td style = \"text-align: right;\">74</td><td style = \"text-align: right;\">86</td><td style = \"text-align: right;\">85</td><td style = \"text-align: right;\">83</td><td style = \"text-align: right;\">76</td><td style = \"text-align: right;\">85</td><td style = \"text-align: right;\">81</td><td style = \"text-align: right;\">83</td><td style = \"text-align: right;\">80</td><td style = \"text-align: right;\">83</td><td style = \"text-align: right;\">81</td><td style = \"text-align: right;\">87</td><td style = \"text-align: right;\">69</td><td style = \"text-align: right;\">79</td><td style = \"text-align: right;\">83</td><td style = \"text-align: right;\">83</td><td style = \"text-align: right;\">72</td><td style = \"text-align: right;\">28</td><td style = \"text-align: right;\">85</td><td style = \"text-align: right;\">85</td><td style = \"text-align: right;\">76</td><td style = \"text-align: right;\">80</td><td style = \"text-align: right;\">23</td><td style = \"text-align: right;\">31</td><td style = \"text-align: right;\">20</td><td style = \"text-align: right;\">8</td><td style = \"text-align: right;\">14</td><td style = \"text-align: right;\">6</td><td style = \"text-align: right;\">12</td><td style = \"text-align: right;\">10</td><td style = \"text-align: right;\">1</td><td style = \"text-align: right;\">0</td><td style = \"text-align: right;\">0</td><td style = \"text-align: right;\">0</td><td style = \"text-align: right;\">3</td><td style = \"text-align: right;\">1</td></tr><tr><td class = \"rowNumber\" style = \"font-weight: bold; text-align: right;\">5</td><td style = \"text-align: left;\">O. Dembélé</td><td style = \"text-align: right;\">83</td><td style = \"text-align: right;\">88</td><td style = \"text-align: right;\">5.5e7</td><td style = \"text-align: right;\">165000.0</td><td style = \"text-align: right;\">24</td><td style = \"text-align: right;\">178</td><td style = \"text-align: right;\">67</td><td style = \"text-align: left;\">FC Barcelona</td><td style = \"text-align: right;\">1.0</td><td style = \"text-align: right;\">2021</td><td style = \"text-align: right;\">2022.0</td><td style = \"text-align: right;\">0</td><td style = \"text-align: right;\">5</td><td style = \"text-align: right;\">5</td><td style = \"text-align: right;\">3</td><td style = \"text-align: right;\">1.169e8</td><td style = \"text-align: right;\">93.0</td><td style = \"text-align: right;\">77.0</td><td style = \"text-align: right;\">77.0</td><td style = \"text-align: right;\">86.0</td><td style = \"text-align: right;\">36.0</td><td style = \"text-align: right;\">56.0</td><td style = \"text-align: right;\">81</td><td style = \"text-align: right;\">75</td><td style = \"text-align: right;\">43</td><td style = \"text-align: right;\">78</td><td style = \"text-align: right;\">76</td><td style = \"text-align: right;\">89</td><td style = \"text-align: right;\">82</td><td style = \"text-align: right;\">64</td><td style = \"text-align: right;\">76</td><td style = \"text-align: right;\">84</td><td style = \"text-align: right;\">94</td><td style = \"text-align: right;\">93</td><td style = \"text-align: right;\">89</td><td style = \"text-align: right;\">78</td><td style = \"text-align: right;\">80</td><td style = \"text-align: right;\">83</td><td style = \"text-align: right;\">58</td><td style = \"text-align: right;\">68</td><td style = \"text-align: right;\">51</td><td style = \"text-align: right;\">76</td><td style = \"text-align: right;\">54</td><td style = \"text-align: right;\">36</td><td style = \"text-align: right;\">77</td><td style = \"text-align: right;\">76</td><td style = \"text-align: right;\">75</td><td style = \"text-align: right;\">80</td><td style = \"text-align: right;\">42</td><td style = \"text-align: right;\">30</td><td style = \"text-align: right;\">33</td><td style = \"text-align: right;\">6</td><td style = \"text-align: right;\">6</td><td style = \"text-align: right;\">14</td><td style = \"text-align: right;\">10</td><td style = \"text-align: right;\">13</td><td style = \"text-align: right;\">1</td><td style = \"text-align: right;\">0</td><td style = \"text-align: right;\">0</td><td style = \"text-align: right;\">0</td><td style = \"text-align: right;\">3</td><td style = \"text-align: right;\">2</td></tr><tr><td class = \"rowNumber\" style = \"font-weight: bold; text-align: right;\">6</td><td style = \"text-align: left;\">Pedri</td><td style = \"text-align: right;\">81</td><td style = \"text-align: right;\">91</td><td style = \"text-align: right;\">5.4e7</td><td style = \"text-align: right;\">51000.0</td><td style = \"text-align: right;\">18</td><td style = \"text-align: right;\">174</td><td style = \"text-align: right;\">61</td><td style = \"text-align: left;\">FC Barcelona</td><td style = \"text-align: right;\">1.0</td><td style = \"text-align: right;\">2021</td><td style = \"text-align: right;\">2022.0</td><td style = \"text-align: right;\">1</td><td style = \"text-align: right;\">4</td><td style = \"text-align: right;\">4</td><td style = \"text-align: right;\">2</td><td style = \"text-align: right;\">1.215e8</td><td style = \"text-align: right;\">78.0</td><td style = \"text-align: right;\">65.0</td><td style = \"text-align: right;\">79.0</td><td style = \"text-align: right;\">84.0</td><td style = \"text-align: right;\">66.0</td><td style = \"text-align: right;\">63.0</td><td style = \"text-align: right;\">68</td><td style = \"text-align: right;\">68</td><td style = \"text-align: right;\">50</td><td style = \"text-align: right;\">85</td><td style = \"text-align: right;\">45</td><td style = \"text-align: right;\">84</td><td style = \"text-align: right;\">73</td><td style = \"text-align: right;\">51</td><td style = \"text-align: right;\">80</td><td style = \"text-align: right;\">83</td><td style = \"text-align: right;\">81</td><td style = \"text-align: right;\">76</td><td style = \"text-align: right;\">88</td><td style = \"text-align: right;\">81</td><td style = \"text-align: right;\">89</td><td style = \"text-align: right;\">62</td><td style = \"text-align: right;\">65</td><td style = \"text-align: right;\">86</td><td style = \"text-align: right;\">53</td><td style = \"text-align: right;\">65</td><td style = \"text-align: right;\">59</td><td style = \"text-align: right;\">68</td><td style = \"text-align: right;\">77</td><td style = \"text-align: right;\">86</td><td style = \"text-align: right;\">53</td><td style = \"text-align: right;\">84</td><td style = \"text-align: right;\">65</td><td style = \"text-align: right;\">73</td><td style = \"text-align: right;\">63</td><td style = \"text-align: right;\">12</td><td style = \"text-align: right;\">7</td><td style = \"text-align: right;\">11</td><td style = \"text-align: right;\">8</td><td style = \"text-align: right;\">8</td><td style = \"text-align: right;\">0</td><td style = \"text-align: right;\">0</td><td style = \"text-align: right;\">0</td><td style = \"text-align: right;\">1</td><td style = \"text-align: right;\">3</td><td style = \"text-align: right;\">3</td></tr><tr><td class = \"rowNumber\" style = \"font-weight: bold; text-align: right;\">7</td><td style = \"text-align: left;\">Matheus Pereira</td><td style = \"text-align: right;\">68</td><td style = \"text-align: right;\">76</td><td style = \"text-align: right;\">2.7e6</td><td style = \"text-align: right;\">35000.0</td><td style = \"text-align: right;\">23</td><td style = \"text-align: right;\">181</td><td style = \"text-align: right;\">68</td><td style = \"text-align: left;\">FC Barcelona</td><td style = \"text-align: right;\">1.0</td><td style = \"text-align: right;\">2021</td><td style = \"text-align: right;\">2025.0</td><td style = \"text-align: right;\">0</td><td style = \"text-align: right;\">3</td><td style = \"text-align: right;\">4</td><td style = \"text-align: right;\">1</td><td style = \"text-align: right;\">6.1e6</td><td style = \"text-align: right;\">69.0</td><td style = \"text-align: right;\">60.0</td><td style = \"text-align: right;\">65.0</td><td style = \"text-align: right;\">74.0</td><td style = \"text-align: right;\">35.0</td><td style = \"text-align: right;\">58.0</td><td style = \"text-align: right;\">60</td><td style = \"text-align: right;\">62</td><td style = \"text-align: right;\">52</td><td style = \"text-align: right;\">67</td><td style = \"text-align: right;\">66</td><td style = \"text-align: right;\">75</td><td style = \"text-align: right;\">73</td><td style = \"text-align: right;\">64</td><td style = \"text-align: right;\">63</td><td style = \"text-align: right;\">74</td><td style = \"text-align: right;\">68</td><td style = \"text-align: right;\">69</td><td style = \"text-align: right;\">78</td><td style = \"text-align: right;\">70</td><td style = \"text-align: right;\">69</td><td style = \"text-align: right;\">58</td><td style = \"text-align: right;\">59</td><td style = \"text-align: right;\">69</td><td style = \"text-align: right;\">55</td><td style = \"text-align: right;\">57</td><td style = \"text-align: right;\">50</td><td style = \"text-align: right;\">33</td><td style = \"text-align: right;\">62</td><td style = \"text-align: right;\">67</td><td style = \"text-align: right;\">62</td><td style = \"text-align: right;\">73</td><td style = \"text-align: right;\">25</td><td style = \"text-align: right;\">40</td><td style = \"text-align: right;\">38</td><td style = \"text-align: right;\">9</td><td style = \"text-align: right;\">13</td><td style = \"text-align: right;\">7</td><td style = \"text-align: right;\">9</td><td style = \"text-align: right;\">10</td><td style = \"text-align: right;\">0</td><td style = \"text-align: right;\">0</td><td style = \"text-align: right;\">0</td><td style = \"text-align: right;\">1</td><td style = \"text-align: right;\">2</td><td style = \"text-align: right;\">2</td></tr><tr><td class = \"rowNumber\" style = \"font-weight: bold; text-align: right;\">8</td><td style = \"text-align: left;\">K. Ruiz-Atil</td><td style = \"text-align: right;\">66</td><td style = \"text-align: right;\">81</td><td style = \"text-align: right;\">2.0e6</td><td style = \"text-align: right;\">10000.0</td><td style = \"text-align: right;\">18</td><td style = \"text-align: right;\">173</td><td style = \"text-align: right;\">60</td><td style = \"text-align: left;\">FC Barcelona</td><td style = \"text-align: right;\">1.0</td><td style = \"text-align: right;\">2021</td><td style = \"text-align: right;\">2024.0</td><td style = \"text-align: right;\">1</td><td style = \"text-align: right;\">3</td><td style = \"text-align: right;\">3</td><td style = \"text-align: right;\">1</td><td style = \"text-align: right;\">5.4e6</td><td style = \"text-align: right;\">67.0</td><td style = \"text-align: right;\">54.0</td><td style = \"text-align: right;\">64.0</td><td style = \"text-align: right;\">72.0</td><td style = \"text-align: right;\">44.0</td><td style = \"text-align: right;\">41.0</td><td style = \"text-align: right;\">54</td><td style = \"text-align: right;\">53</td><td style = \"text-align: right;\">30</td><td style = \"text-align: right;\">70</td><td style = \"text-align: right;\">52</td><td style = \"text-align: right;\">72</td><td style = \"text-align: right;\">68</td><td style = \"text-align: right;\">59</td><td style = \"text-align: right;\">65</td><td style = \"text-align: right;\">71</td><td style = \"text-align: right;\">69</td><td style = \"text-align: right;\">66</td><td style = \"text-align: right;\">81</td><td style = \"text-align: right;\">59</td><td style = \"text-align: right;\">79</td><td style = \"text-align: right;\">60</td><td style = \"text-align: right;\">50</td><td style = \"text-align: right;\">59</td><td style = \"text-align: right;\">32</td><td style = \"text-align: right;\">48</td><td style = \"text-align: right;\">40</td><td style = \"text-align: right;\">29</td><td style = \"text-align: right;\">60</td><td style = \"text-align: right;\">64</td><td style = \"text-align: right;\">58</td><td style = \"text-align: right;\">69</td><td style = \"text-align: right;\">43</td><td style = \"text-align: right;\">55</td><td style = \"text-align: right;\">53</td><td style = \"text-align: right;\">8</td><td style = \"text-align: right;\">8</td><td style = \"text-align: right;\">14</td><td style = \"text-align: right;\">13</td><td style = \"text-align: right;\">9</td><td style = \"text-align: right;\">0</td><td style = \"text-align: right;\">0</td><td style = \"text-align: right;\">0</td><td style = \"text-align: right;\">1</td><td style = \"text-align: right;\">2</td><td style = \"text-align: right;\">2</td></tr><tr><td class = \"rowNumber\" style = \"font-weight: bold; text-align: right;\">9</td><td style = \"text-align: left;\">Álex Balde</td><td style = \"text-align: right;\">66</td><td style = \"text-align: right;\">82</td><td style = \"text-align: right;\">2.0e6</td><td style = \"text-align: right;\">1000.0</td><td style = \"text-align: right;\">17</td><td style = \"text-align: right;\">175</td><td style = \"text-align: right;\">69</td><td style = \"text-align: left;\">FC Barcelona</td><td style = \"text-align: right;\">1.0</td><td style = \"text-align: right;\">2021</td><td style = \"text-align: right;\">2024.0</td><td style = \"text-align: right;\">0</td><td style = \"text-align: right;\">3</td><td style = \"text-align: right;\">3</td><td style = \"text-align: right;\">1</td><td style = \"text-align: right;\">5.4e6</td><td style = \"text-align: right;\">76.0</td><td style = \"text-align: right;\">35.0</td><td style = \"text-align: right;\">53.0</td><td style = \"text-align: right;\">66.0</td><td style = \"text-align: right;\">62.0</td><td style = \"text-align: right;\">48.0</td><td style = \"text-align: right;\">67</td><td style = \"text-align: right;\">40</td><td style = \"text-align: right;\">58</td><td style = \"text-align: right;\">60</td><td style = \"text-align: right;\">32</td><td style = \"text-align: right;\">68</td><td style = \"text-align: right;\">31</td><td style = \"text-align: right;\">25</td><td style = \"text-align: right;\">42</td><td style = \"text-align: right;\">69</td><td style = \"text-align: right;\">74</td><td style = \"text-align: right;\">78</td><td style = \"text-align: right;\">59</td><td style = \"text-align: right;\">62</td><td style = \"text-align: right;\">59</td><td style = \"text-align: right;\">44</td><td style = \"text-align: right;\">34</td><td style = \"text-align: right;\">62</td><td style = \"text-align: right;\">46</td><td style = \"text-align: right;\">14</td><td style = \"text-align: right;\">38</td><td style = \"text-align: right;\">64</td><td style = \"text-align: right;\">40</td><td style = \"text-align: right;\">45</td><td style = \"text-align: right;\">41</td><td style = \"text-align: right;\">47</td><td style = \"text-align: right;\">65</td><td style = \"text-align: right;\">61</td><td style = \"text-align: right;\">60</td><td style = \"text-align: right;\">5</td><td style = \"text-align: right;\">8</td><td style = \"text-align: right;\">7</td><td style = \"text-align: right;\">10</td><td style = \"text-align: right;\">13</td><td style = \"text-align: right;\">0</td><td style = \"text-align: right;\">1</td><td style = \"text-align: right;\">0</td><td style = \"text-align: right;\">0</td><td style = \"text-align: right;\">3</td><td style = \"text-align: right;\">2</td></tr><tr><td class = \"rowNumber\" style = \"font-weight: bold; text-align: right;\">10</td><td style = \"text-align: left;\">Gavi</td><td style = \"text-align: right;\">66</td><td style = \"text-align: right;\">85</td><td style = \"text-align: right;\">2.1e6</td><td style = \"text-align: right;\">4000.0</td><td style = \"text-align: right;\">16</td><td style = \"text-align: right;\">173</td><td style = \"text-align: right;\">68</td><td style = \"text-align: left;\">FC Barcelona</td><td style = \"text-align: right;\">1.0</td><td style = \"text-align: right;\">2021</td><td style = \"text-align: right;\">2023.0</td><td style = \"text-align: right;\">1</td><td style = \"text-align: right;\">3</td><td style = \"text-align: right;\">2</td><td style = \"text-align: right;\">1</td><td style = \"text-align: right;\">5.6e6</td><td style = \"text-align: right;\">66.0</td><td style = \"text-align: right;\">53.0</td><td style = \"text-align: right;\">67.0</td><td style = \"text-align: right;\">69.0</td><td style = \"text-align: right;\">50.0</td><td style = \"text-align: right;\">48.0</td><td style = \"text-align: right;\">59</td><td style = \"text-align: right;\">55</td><td style = \"text-align: right;\">38</td><td style = \"text-align: right;\">73</td><td style = \"text-align: right;\">46</td><td style = \"text-align: right;\">67</td><td style = \"text-align: right;\">65</td><td style = \"text-align: right;\">47</td><td style = \"text-align: right;\">69</td><td style = \"text-align: right;\">70</td><td style = \"text-align: right;\">68</td><td style = \"text-align: right;\">64</td><td style = \"text-align: right;\">77</td><td style = \"text-align: right;\">64</td><td style = \"text-align: right;\">78</td><td style = \"text-align: right;\">49</td><td style = \"text-align: right;\">48</td><td style = \"text-align: right;\">52</td><td style = \"text-align: right;\">44</td><td style = \"text-align: right;\">53</td><td style = \"text-align: right;\">54</td><td style = \"text-align: right;\">58</td><td style = \"text-align: right;\">59</td><td style = \"text-align: right;\">70</td><td style = \"text-align: right;\">51</td><td style = \"text-align: right;\">68</td><td style = \"text-align: right;\">49</td><td style = \"text-align: right;\">53</td><td style = \"text-align: right;\">44</td><td style = \"text-align: right;\">8</td><td style = \"text-align: right;\">10</td><td style = \"text-align: right;\">11</td><td style = \"text-align: right;\">7</td><td style = \"text-align: right;\">13</td><td style = \"text-align: right;\">0</td><td style = \"text-align: right;\">0</td><td style = \"text-align: right;\">0</td><td style = \"text-align: right;\">1</td><td style = \"text-align: right;\">2</td><td style = \"text-align: right;\">2</td></tr></tbody></table></div>"
      ],
      "text/latex": [
       "\\begin{tabular}{r|ccccccccc}\n",
       "\t& short\\_name & overall & potential & value\\_eur & wage\\_eur & age & height\\_cm & weight\\_kg & \\\\\n",
       "\t\\hline\n",
       "\t& String31 & Int64 & Int64 & Float64 & Float64 & Int64 & Int64 & Int64 & \\\\\n",
       "\t\\hline\n",
       "\t1 & S. Agüero & 87 & 87 & 5.1e7 & 260000.0 & 33 & 173 & 70 & $\\dots$ \\\\\n",
       "\t2 & F. de Jong & 87 & 92 & 1.195e8 & 210000.0 & 24 & 180 & 74 & $\\dots$ \\\\\n",
       "\t3 & Jordi Alba & 86 & 86 & 4.7e7 & 200000.0 & 32 & 170 & 68 & $\\dots$ \\\\\n",
       "\t4 & M. Depay & 85 & 86 & 6.3e7 & 220000.0 & 27 & 176 & 78 & $\\dots$ \\\\\n",
       "\t5 & O. Dembélé & 83 & 88 & 5.5e7 & 165000.0 & 24 & 178 & 67 & $\\dots$ \\\\\n",
       "\t6 & Pedri & 81 & 91 & 5.4e7 & 51000.0 & 18 & 174 & 61 & $\\dots$ \\\\\n",
       "\t7 & Matheus Pereira & 68 & 76 & 2.7e6 & 35000.0 & 23 & 181 & 68 & $\\dots$ \\\\\n",
       "\t8 & K. Ruiz-Atil & 66 & 81 & 2.0e6 & 10000.0 & 18 & 173 & 60 & $\\dots$ \\\\\n",
       "\t9 & Álex Balde & 66 & 82 & 2.0e6 & 1000.0 & 17 & 175 & 69 & $\\dots$ \\\\\n",
       "\t10 & Gavi & 66 & 85 & 2.1e6 & 4000.0 & 16 & 173 & 68 & $\\dots$ \\\\\n",
       "\\end{tabular}\n"
      ],
      "text/plain": [
       "\u001b[1m10×63 DataFrame\n",
       "\u001b[1m Row │\u001b[1m short_name      \u001b[1m overall \u001b[1m potential \u001b[1m value_eur \u001b[1m wage_eur \u001b[1m age   \u001b[1m height ⋯\n",
       "     │\u001b[90m String31        \u001b[90m Int64   \u001b[90m Int64     \u001b[90m Float64   \u001b[90m Float64  \u001b[90m Int64 \u001b[90m Int64  ⋯\n",
       "─────┼──────────────────────────────────────────────────────────────────────────\n",
       "   1 │ S. Agüero             87         87    5.1e7    260000.0     33         ⋯\n",
       "   2 │ F. de Jong            87         92    1.195e8  210000.0     24\n",
       "   3 │ Jordi Alba            86         86    4.7e7    200000.0     32\n",
       "   4 │ M. Depay              85         86    6.3e7    220000.0     27\n",
       "   5 │ O. Dembélé            83         88    5.5e7    165000.0     24         ⋯\n",
       "   6 │ Pedri                 81         91    5.4e7     51000.0     18\n",
       "   7 │ Matheus Pereira       68         76    2.7e6     35000.0     23\n",
       "   8 │ K. Ruiz-Atil          66         81    2.0e6     10000.0     18\n",
       "   9 │ Álex Balde            66         82    2.0e6      1000.0     17         ⋯\n",
       "  10 │ Gavi                  66         85    2.1e6      4000.0     16\n",
       "\u001b[36m                                                              57 columns omitted"
      ]
     },
     "execution_count": 192,
     "metadata": {},
     "output_type": "execute_result"
    }
   ],
   "source": [
    "sell = data_club[s .== 1, :]"
   ]
  },
  {
   "cell_type": "markdown",
   "metadata": {},
   "source": [
    "# see whatsapp messages for possible improvements"
   ]
  }
 ],
 "metadata": {
  "kernelspec": {
   "display_name": "Julia 1.8.0",
   "language": "julia",
   "name": "julia-1.8"
  },
  "language_info": {
   "file_extension": ".jl",
   "mimetype": "application/julia",
   "name": "julia",
   "version": "1.8.0"
  },
  "orig_nbformat": 4,
  "vscode": {
   "interpreter": {
    "hash": "06afd10951fdd4fed0e6da45c5305413c17e961fcd92f272d77ba5ed1e4178f9"
   }
  }
 },
 "nbformat": 4,
 "nbformat_minor": 2
}
