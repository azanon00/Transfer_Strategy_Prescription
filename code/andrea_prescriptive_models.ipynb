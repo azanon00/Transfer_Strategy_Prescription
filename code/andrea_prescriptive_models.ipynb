{
 "cells": [
  {
   "cell_type": "markdown",
   "metadata": {},
   "source": [
    "see whatsapp messages for possible improvements\n",
    "\n",
    "get curve for delta"
   ]
  },
  {
   "cell_type": "markdown",
   "metadata": {},
   "source": [
    "# import data and libraries"
   ]
  },
  {
   "cell_type": "code",
   "execution_count": 1,
   "metadata": {},
   "outputs": [],
   "source": [
    "using CSV, DataFrames, Plots, Random, DecisionTree, Statistics, LinearAlgebra, JuMP, Gurobi, NearestNeighbors"
   ]
  },
  {
   "cell_type": "code",
   "execution_count": 2,
   "metadata": {},
   "outputs": [],
   "source": [
    "const GRB_ENV = Gurobi.Env(output_flag=0);"
   ]
  },
  {
   "cell_type": "code",
   "execution_count": 3,
   "metadata": {},
   "outputs": [],
   "source": [
    "# load data, we have to keep the data for all the players\n",
    "data = CSV.read(\"../data/fifa/players_22_preprocessed.csv\", DataFrame)\n",
    "transfers = CSV.read(\"../data/Transfers/all_transfers.csv\", DataFrame);"
   ]
  },
  {
   "cell_type": "code",
   "execution_count": 45,
   "metadata": {},
   "outputs": [],
   "source": [
    "# iterate over all clubs, and save players that are part of that clubs\n",
    "club_players = Dict()\n",
    "for club in Set(data[:, \"club_name\"])\n",
    "    club_players[club] = data[data[:, \"club_name\"] .== club, :]\n",
    "end"
   ]
  },
  {
   "cell_type": "code",
   "execution_count": 32,
   "metadata": {},
   "outputs": [
    {
     "data": {
      "text/plain": [
       "true_transfers (generic function with 1 method)"
      ]
     },
     "execution_count": 32,
     "metadata": {},
     "output_type": "execute_result"
    }
   ],
   "source": [
    "function true_transfers(club_choosen_transferName, transfers)\n",
    "\n",
    "    # useful to compare our model with what truly happens\n",
    "    transfers_club = transfers[transfers[:, \"club_name\"] .== club_choosen_transferName, :]\n",
    "    transfers_club = transfers_club[completecases(transfers_club), :]\n",
    "\n",
    "    transfers_in = transfers_club[transfers_club[:, \"transfer_movement\"] .== \"in\", :]\n",
    "\n",
    "    transfers_out = transfers_club[transfers_club[:, \"transfer_movement\"] .== \"out\", :]\n",
    "\n",
    "    return transfers_in, transfers_out\n",
    "\n",
    "end"
   ]
  },
  {
   "cell_type": "code",
   "execution_count": 6,
   "metadata": {},
   "outputs": [],
   "source": [
    "# keep only 2022 transfers\n",
    "transfers = transfers[transfers[:, \"year\"] .== 2022, :];"
   ]
  },
  {
   "cell_type": "markdown",
   "metadata": {},
   "source": [
    "# Choose club we are making prescription for"
   ]
  },
  {
   "cell_type": "markdown",
   "metadata": {},
   "source": [
    "When we do prescription, we are pretending to be one specific club. We can do the same for multiple clubs."
   ]
  },
  {
   "cell_type": "code",
   "execution_count": 13,
   "metadata": {},
   "outputs": [],
   "source": [
    "club_choosen = \"AC Milan\"\n",
    "club_choosen_transferName = \"AC Milan\"\n",
    ";"
   ]
  },
  {
   "cell_type": "code",
   "execution_count": 14,
   "metadata": {},
   "outputs": [],
   "source": [
    "data_club = club_players[club_choosen]\n",
    "data_rest = data[data[:, \"club_name\"] .!= club_choosen, :]\n",
    ";"
   ]
  },
  {
   "cell_type": "code",
   "execution_count": 217,
   "metadata": {},
   "outputs": [
    {
     "data": {
      "text/plain": [
       "compute_improvement_age (generic function with 1 method)"
      ]
     },
     "execution_count": 217,
     "metadata": {},
     "output_type": "execute_result"
    }
   ],
   "source": [
    "function compute_improvement_age(m_o, a_o, m_c, a_c)\n",
    "\n",
    "    transfers_in, transfers_out = true_transfers(club_choosen_transferName, transfers)\n",
    "\n",
    "    # for each player in transfers_in find m_in and a_in\n",
    "    m_in = []\n",
    "    a_in = []\n",
    "    for i in 1:size(transfers_in, 1)\n",
    "        \n",
    "        player = split(transfers_in[i, \"player_name\"], [' '])[end]\n",
    "        \n",
    "        m = 0.5 .* data_rest[contains.(data_rest[:, \"short_name\"], player), \"overall\"] .+ 0.5 .* data_rest[contains.(data_rest[:, \"short_name\"], player), \"potential\"]\n",
    "        append!(m_in, m)\n",
    "        append!(a_in, data_rest[contains.(data_rest[:, \"short_name\"], player), \"age\"])\n",
    "    end\n",
    "\n",
    "    # for each player in transfers_out find m_out and a_out\n",
    "    m_out = []\n",
    "    a_out = []\n",
    "    for i in 1:size(transfers_out, 1)\n",
    "        player = split(transfers_out[i, \"player_name\"], [' '])[end]\n",
    "\n",
    "        m = 0.5 * data_club[contains.(data_club[:, \"short_name\"], player), \"overall\"] + 0.5 * data_club[contains.(data_club[:, \"short_name\"], player), \"potential\"]\n",
    "        append!(m_out, m)\n",
    "        append!(a_out, data_club[contains.(data_club[:, \"short_name\"], player), \"age\"])\n",
    "    end\n",
    "\n",
    "    delta = (sum(m_c) - sum(m_out) + sum(m_in)) / (length(m_c) + length(m_in) - length(m_out)) - mean(m_c)\n",
    "    gamma = (sum(a_c) - sum(a_out) + sum(a_in)) / (length(a_c) + length(a_in) - length(a_out)) - mean(a_c)\n",
    "\n",
    "    return delta, gamma\n",
    "end"
   ]
  },
  {
   "cell_type": "code",
   "execution_count": 218,
   "metadata": {},
   "outputs": [
    {
     "data": {
      "text/plain": [
       "get_parameters (generic function with 2 methods)"
      ]
     },
     "execution_count": 218,
     "metadata": {},
     "output_type": "execute_result"
    }
   ],
   "source": [
    "# get parameters we need in our prescriptive model\n",
    "function get_parameters(club_players, data_club, data_rest, transfers_club)\n",
    "    n = size(data_rest, 1) # players that can be recruited\n",
    "    N_c = k = size(data_club, 1) # number of players in the club, equal to how many we can consider to sell\n",
    "    N_min = minimum([size(club_players[club])[1] for club in keys(club_players)]) # minimum number of players in the club\n",
    "    N_max = maximum([size(club_players[club])[1] for club in keys(club_players)]) # maximum number of players in the club\n",
    "     B_max = 10 # maximum number of players that can be bought\n",
    "    S_max = 5 # maximum number of players that can be sold\n",
    "\n",
    "    # for players outside the club\n",
    "    p_o = data_rest[:, \"potential\"] # potential\n",
    "    r_o = data_rest[:, \"overall\"] # rating\n",
    "    v_o = data_rest[:, \"value_eur\"] # value (later we will use the value predicted in the prediction part)\n",
    "    m_o = 0.2 .* r_o .+ 0.8 .* p_o # overall rating\n",
    "    a_o = data_rest[:, \"age\"] # age\n",
    "\n",
    "    # for players inside the club\n",
    "    p_c = data_club[:, \"potential\"] # potential \n",
    "    r_c = data_club[:, \"overall\"] # rating \n",
    "    v_c = data_club[:, \"value_eur\"] # value (same as above)\n",
    "    m_c = 0.2 .* r_c .+ 0.8 .* p_c # overall rating\n",
    "    a_c = data_club[:, \"age\"] # age\n",
    "\n",
    "    # compute how much transfers improved the quality of the team\n",
    "    𝛅, 𝛾 = compute_improvement_age(m_o, a_o, m_c, a_c)\n",
    "    # how much we want to improve the team\n",
    "    # how much we can increase the average age at most\n",
    "\n",
    "    return n, N_c, N_min, N_max, B_max, S_max, p_o, r_o, v_o, m_o, a_o, p_c, r_c, v_c, m_c, a_c, 𝛅, 𝛾\n",
    "end"
   ]
  },
  {
   "cell_type": "code",
   "execution_count": 219,
   "metadata": {},
   "outputs": [],
   "source": [
    "get_parameters(club_players, data_club, data_rest, transfers);"
   ]
  },
  {
   "cell_type": "markdown",
   "metadata": {},
   "source": [
    "## Define functions that will be used across models"
   ]
  },
  {
   "cell_type": "code",
   "execution_count": 16,
   "metadata": {},
   "outputs": [],
   "source": [
    "# define target and features\n",
    "target = \"fee\";"
   ]
  },
  {
   "cell_type": "code",
   "execution_count": 17,
   "metadata": {},
   "outputs": [
    {
     "data": {
      "text/plain": [
       "get_features (generic function with 1 method)"
      ]
     },
     "execution_count": 17,
     "metadata": {},
     "output_type": "execute_result"
    }
   ],
   "source": [
    "function get_features(df)\n",
    "    return select(df, Not(target))\n",
    "end"
   ]
  },
  {
   "cell_type": "code",
   "execution_count": 18,
   "metadata": {},
   "outputs": [
    {
     "data": {
      "text/plain": [
       "get_target (generic function with 1 method)"
      ]
     },
     "execution_count": 18,
     "metadata": {},
     "output_type": "execute_result"
    }
   ],
   "source": [
    "function get_target(df)\n",
    "    return df[:, target]\n",
    "end"
   ]
  },
  {
   "cell_type": "code",
   "execution_count": 19,
   "metadata": {},
   "outputs": [
    {
     "data": {
      "text/plain": [
       "compute_results (generic function with 1 method)"
      ]
     },
     "execution_count": 19,
     "metadata": {},
     "output_type": "execute_result"
    }
   ],
   "source": [
    "function compute_results(pred, test)\n",
    "    # compute the mean absolute error\n",
    "    mae = Metrics.mae(pred, test)\n",
    "    # compute the mean squared error\n",
    "    mse = Metrics.mse(pred, test)\n",
    "    # compute the root mean squared error\n",
    "    rmse = sqrt.(mse)\n",
    "    # compute the r2\n",
    "    osr2 = Metrics.r2_score(pred, test)\n",
    "\n",
    "    # turn into dataframe\n",
    "    results = DataFrame(mae = mae, mse = mse, rmse = rmse, osr2 = osr2)\n",
    "\n",
    "    # print the results\n",
    "    display(results)\n",
    "end"
   ]
  },
  {
   "cell_type": "code",
   "execution_count": 20,
   "metadata": {},
   "outputs": [
    {
     "data": {
      "text/plain": [
       "check_prediction_value (generic function with 1 method)"
      ]
     },
     "execution_count": 20,
     "metadata": {},
     "output_type": "execute_result"
    }
   ],
   "source": [
    "function check_prediction_value(pred, test)\n",
    "\n",
    "    # set plot dimensions\n",
    "    plot_size = (800, 400)\n",
    "    \n",
    "    histogram(pred, label = \"pred\", color = \"red\", seriesalpha = 0.5)\n",
    "    display(histogram!(test, label = \"test\", color = \"blue\", seriesalpha = 0.5))\n",
    "\n",
    "end"
   ]
  },
  {
   "cell_type": "markdown",
   "metadata": {},
   "source": [
    "# What truly happened in the last transfer window"
   ]
  },
  {
   "cell_type": "code",
   "execution_count": 196,
   "metadata": {},
   "outputs": [
    {
     "data": {
      "text/plain": [
       "-35.0"
      ]
     },
     "execution_count": 196,
     "metadata": {},
     "output_type": "execute_result"
    }
   ],
   "source": [
    "transfers_in, transfers_out = true_transfers(club_choosen_transferName, transfers)\n",
    "revenue =  round(sum(transfers_out[:, \"fee_cleaned\"]) - sum(transfers_in[:, \"fee_cleaned\"]), digits = 0)"
   ]
  },
  {
   "cell_type": "markdown",
   "metadata": {},
   "source": [
    "# Approach 1: Regress and compare"
   ]
  },
  {
   "cell_type": "code",
   "execution_count": 272,
   "metadata": {},
   "outputs": [
    {
     "data": {
      "text/html": [
       "<div><div style = \"float: left;\"><span>5×63 DataFrame</span></div><div style = \"clear: both;\"></div></div><div class = \"data-frame\" style = \"overflow-x: scroll;\"><table class = \"data-frame\" style = \"margin-bottom: 6px;\"><thead><tr class = \"header\"><th class = \"rowNumber\" style = \"font-weight: bold; text-align: right;\">Row</th><th style = \"text-align: left;\">short_name</th><th style = \"text-align: left;\">overall</th><th style = \"text-align: left;\">potential</th><th style = \"text-align: left;\">value_eur</th><th style = \"text-align: left;\">wage_eur</th><th style = \"text-align: left;\">age</th><th style = \"text-align: left;\">height_cm</th><th style = \"text-align: left;\">weight_kg</th><th style = \"text-align: left;\">club_name</th><th style = \"text-align: left;\">league_level</th><th style = \"text-align: left;\">club_joined</th><th style = \"text-align: left;\">club_contract_valid_until</th><th style = \"text-align: left;\">preferred_foot</th><th style = \"text-align: left;\">weak_foot</th><th style = \"text-align: left;\">skill_moves</th><th style = \"text-align: left;\">international_reputation</th><th style = \"text-align: left;\">release_clause_eur</th><th style = \"text-align: left;\">pace</th><th style = \"text-align: left;\">shooting</th><th style = \"text-align: left;\">passing</th><th style = \"text-align: left;\">dribbling</th><th style = \"text-align: left;\">defending</th><th style = \"text-align: left;\">physic</th><th style = \"text-align: left;\">attacking_crossing</th><th style = \"text-align: left;\">attacking_finishing</th><th style = \"text-align: left;\">attacking_heading_accuracy</th><th style = \"text-align: left;\">attacking_short_passing</th><th style = \"text-align: left;\">attacking_volleys</th><th style = \"text-align: left;\">skill_dribbling</th><th style = \"text-align: left;\">skill_curve</th><th style = \"text-align: left;\">skill_fk_accuracy</th><th style = \"text-align: left;\">skill_long_passing</th><th style = \"text-align: left;\">skill_ball_control</th><th style = \"text-align: left;\">movement_acceleration</th><th style = \"text-align: left;\">movement_sprint_speed</th><th style = \"text-align: left;\">movement_agility</th><th style = \"text-align: left;\">movement_reactions</th><th style = \"text-align: left;\">movement_balance</th><th style = \"text-align: left;\">power_shot_power</th><th style = \"text-align: left;\">power_jumping</th><th style = \"text-align: left;\">power_stamina</th><th style = \"text-align: left;\">power_strength</th><th style = \"text-align: left;\">power_long_shots</th><th style = \"text-align: left;\">mentality_aggression</th><th style = \"text-align: left;\">mentality_interceptions</th><th style = \"text-align: left;\">mentality_positioning</th><th style = \"text-align: left;\">mentality_vision</th><th style = \"text-align: left;\">mentality_penalties</th><th style = \"text-align: left;\">mentality_composure</th><th style = \"text-align: left;\">defending_marking_awareness</th><th style = \"text-align: left;\">defending_standing_tackle</th><th style = \"text-align: left;\">defending_sliding_tackle</th><th style = \"text-align: left;\">goalkeeping_diving</th><th style = \"text-align: left;\">goalkeeping_handling</th><th style = \"text-align: left;\">goalkeeping_kicking</th><th style = \"text-align: left;\">goalkeeping_positioning</th><th style = \"text-align: left;\">goalkeeping_reflexes</th><th style = \"text-align: left;\">position_A</th><th style = \"text-align: left;\">position_D</th><th style = \"text-align: left;\">position_G</th><th style = \"text-align: left;\">position_M</th><th style = \"text-align: left;\">attack_work_rate</th><th style = \"text-align: left;\">defense_work_rate</th></tr><tr class = \"subheader headerLastRow\"><th class = \"rowNumber\" style = \"font-weight: bold; text-align: right;\"></th><th title = \"String31\" style = \"text-align: left;\">String31</th><th title = \"Int64\" style = \"text-align: left;\">Int64</th><th title = \"Int64\" style = \"text-align: left;\">Int64</th><th title = \"Float64\" style = \"text-align: left;\">Float64</th><th title = \"Float64\" style = \"text-align: left;\">Float64</th><th title = \"Int64\" style = \"text-align: left;\">Int64</th><th title = \"Int64\" style = \"text-align: left;\">Int64</th><th title = \"Int64\" style = \"text-align: left;\">Int64</th><th title = \"String\" style = \"text-align: left;\">String</th><th title = \"Float64\" style = \"text-align: left;\">Float64</th><th title = \"Int64\" style = \"text-align: left;\">Int64</th><th title = \"Float64\" style = \"text-align: left;\">Float64</th><th title = \"Int64\" style = \"text-align: left;\">Int64</th><th title = \"Int64\" style = \"text-align: left;\">Int64</th><th title = \"Int64\" style = \"text-align: left;\">Int64</th><th title = \"Int64\" style = \"text-align: left;\">Int64</th><th title = \"Float64\" style = \"text-align: left;\">Float64</th><th title = \"Float64\" style = \"text-align: left;\">Float64</th><th title = \"Float64\" style = \"text-align: left;\">Float64</th><th title = \"Float64\" style = \"text-align: left;\">Float64</th><th title = \"Float64\" style = \"text-align: left;\">Float64</th><th title = \"Float64\" style = \"text-align: left;\">Float64</th><th title = \"Float64\" style = \"text-align: left;\">Float64</th><th title = \"Int64\" style = \"text-align: left;\">Int64</th><th title = \"Int64\" style = \"text-align: left;\">Int64</th><th title = \"Int64\" style = \"text-align: left;\">Int64</th><th title = \"Int64\" style = \"text-align: left;\">Int64</th><th title = \"Int64\" style = \"text-align: left;\">Int64</th><th title = \"Int64\" style = \"text-align: left;\">Int64</th><th title = \"Int64\" style = \"text-align: left;\">Int64</th><th title = \"Int64\" style = \"text-align: left;\">Int64</th><th title = \"Int64\" style = \"text-align: left;\">Int64</th><th title = \"Int64\" style = \"text-align: left;\">Int64</th><th title = \"Int64\" style = \"text-align: left;\">Int64</th><th title = \"Int64\" style = \"text-align: left;\">Int64</th><th title = \"Int64\" style = \"text-align: left;\">Int64</th><th title = \"Int64\" style = \"text-align: left;\">Int64</th><th title = \"Int64\" style = \"text-align: left;\">Int64</th><th title = \"Int64\" style = \"text-align: left;\">Int64</th><th title = \"Int64\" style = \"text-align: left;\">Int64</th><th title = \"Int64\" style = \"text-align: left;\">Int64</th><th title = \"Int64\" style = \"text-align: left;\">Int64</th><th title = \"Int64\" style = \"text-align: left;\">Int64</th><th title = \"Int64\" style = \"text-align: left;\">Int64</th><th title = \"Int64\" style = \"text-align: left;\">Int64</th><th title = \"Int64\" style = \"text-align: left;\">Int64</th><th title = \"Int64\" style = \"text-align: left;\">Int64</th><th title = \"Int64\" style = \"text-align: left;\">Int64</th><th title = \"Int64\" style = \"text-align: left;\">Int64</th><th title = \"Int64\" style = \"text-align: left;\">Int64</th><th title = \"Int64\" style = \"text-align: left;\">Int64</th><th title = \"Int64\" style = \"text-align: left;\">Int64</th><th title = \"Int64\" style = \"text-align: left;\">Int64</th><th title = \"Int64\" style = \"text-align: left;\">Int64</th><th title = \"Int64\" style = \"text-align: left;\">Int64</th><th title = \"Int64\" style = \"text-align: left;\">Int64</th><th title = \"Int64\" style = \"text-align: left;\">Int64</th><th title = \"Int64\" style = \"text-align: left;\">Int64</th><th title = \"Int64\" style = \"text-align: left;\">Int64</th><th title = \"Int64\" style = \"text-align: left;\">Int64</th><th title = \"Int64\" style = \"text-align: left;\">Int64</th><th title = \"Int64\" style = \"text-align: left;\">Int64</th><th title = \"Int64\" style = \"text-align: left;\">Int64</th></tr></thead><tbody><tr><td class = \"rowNumber\" style = \"font-weight: bold; text-align: right;\">1</td><td style = \"text-align: left;\">Z. Ibrahimović</td><td style = \"text-align: right;\">84</td><td style = \"text-align: right;\">84</td><td style = \"text-align: right;\">1.45e7</td><td style = \"text-align: right;\">51000.0</td><td style = \"text-align: right;\">39</td><td style = \"text-align: right;\">195</td><td style = \"text-align: right;\">95</td><td style = \"text-align: left;\">AC Milan</td><td style = \"text-align: right;\">1.0</td><td style = \"text-align: right;\">2021</td><td style = \"text-align: right;\">2022.0</td><td style = \"text-align: right;\">1</td><td style = \"text-align: right;\">4</td><td style = \"text-align: right;\">5</td><td style = \"text-align: right;\">5</td><td style = \"text-align: right;\">2.47e7</td><td style = \"text-align: right;\">65.0</td><td style = \"text-align: right;\">87.0</td><td style = \"text-align: right;\">78.0</td><td style = \"text-align: right;\">79.0</td><td style = \"text-align: right;\">34.0</td><td style = \"text-align: right;\">77.0</td><td style = \"text-align: right;\">72</td><td style = \"text-align: right;\">86</td><td style = \"text-align: right;\">83</td><td style = \"text-align: right;\">80</td><td style = \"text-align: right;\">88</td><td style = \"text-align: right;\">78</td><td style = \"text-align: right;\">80</td><td style = \"text-align: right;\">75</td><td style = \"text-align: right;\">73</td><td style = \"text-align: right;\">86</td><td style = \"text-align: right;\">64</td><td style = \"text-align: right;\">66</td><td style = \"text-align: right;\">71</td><td style = \"text-align: right;\">83</td><td style = \"text-align: right;\">53</td><td style = \"text-align: right;\">88</td><td style = \"text-align: right;\">79</td><td style = \"text-align: right;\">52</td><td style = \"text-align: right;\">87</td><td style = \"text-align: right;\">88</td><td style = \"text-align: right;\">84</td><td style = \"text-align: right;\">20</td><td style = \"text-align: right;\">89</td><td style = \"text-align: right;\">84</td><td style = \"text-align: right;\">83</td><td style = \"text-align: right;\">90</td><td style = \"text-align: right;\">28</td><td style = \"text-align: right;\">37</td><td style = \"text-align: right;\">24</td><td style = \"text-align: right;\">13</td><td style = \"text-align: right;\">15</td><td style = \"text-align: right;\">10</td><td style = \"text-align: right;\">9</td><td style = \"text-align: right;\">12</td><td style = \"text-align: right;\">1</td><td style = \"text-align: right;\">0</td><td style = \"text-align: right;\">0</td><td style = \"text-align: right;\">0</td><td style = \"text-align: right;\">2</td><td style = \"text-align: right;\">1</td></tr><tr><td class = \"rowNumber\" style = \"font-weight: bold; text-align: right;\">2</td><td style = \"text-align: left;\">F. Kessié</td><td style = \"text-align: right;\">84</td><td style = \"text-align: right;\">86</td><td style = \"text-align: right;\">4.95e7</td><td style = \"text-align: right;\">51000.0</td><td style = \"text-align: right;\">24</td><td style = \"text-align: right;\">183</td><td style = \"text-align: right;\">88</td><td style = \"text-align: left;\">AC Milan</td><td style = \"text-align: right;\">1.0</td><td style = \"text-align: right;\">2021</td><td style = \"text-align: right;\">2022.0</td><td style = \"text-align: right;\">1</td><td style = \"text-align: right;\">4</td><td style = \"text-align: right;\">3</td><td style = \"text-align: right;\">3</td><td style = \"text-align: right;\">8.79e7</td><td style = \"text-align: right;\">78.0</td><td style = \"text-align: right;\">74.0</td><td style = \"text-align: right;\">74.0</td><td style = \"text-align: right;\">80.0</td><td style = \"text-align: right;\">82.0</td><td style = \"text-align: right;\">87.0</td><td style = \"text-align: right;\">66</td><td style = \"text-align: right;\">67</td><td style = \"text-align: right;\">68</td><td style = \"text-align: right;\">83</td><td style = \"text-align: right;\">60</td><td style = \"text-align: right;\">78</td><td style = \"text-align: right;\">58</td><td style = \"text-align: right;\">48</td><td style = \"text-align: right;\">75</td><td style = \"text-align: right;\">84</td><td style = \"text-align: right;\">76</td><td style = \"text-align: right;\">79</td><td style = \"text-align: right;\">72</td><td style = \"text-align: right;\">81</td><td style = \"text-align: right;\">79</td><td style = \"text-align: right;\">84</td><td style = \"text-align: right;\">72</td><td style = \"text-align: right;\">94</td><td style = \"text-align: right;\">86</td><td style = \"text-align: right;\">78</td><td style = \"text-align: right;\">84</td><td style = \"text-align: right;\">84</td><td style = \"text-align: right;\">74</td><td style = \"text-align: right;\">76</td><td style = \"text-align: right;\">89</td><td style = \"text-align: right;\">84</td><td style = \"text-align: right;\">85</td><td style = \"text-align: right;\">84</td><td style = \"text-align: right;\">78</td><td style = \"text-align: right;\">9</td><td style = \"text-align: right;\">11</td><td style = \"text-align: right;\">12</td><td style = \"text-align: right;\">12</td><td style = \"text-align: right;\">10</td><td style = \"text-align: right;\">0</td><td style = \"text-align: right;\">0</td><td style = \"text-align: right;\">0</td><td style = \"text-align: right;\">1</td><td style = \"text-align: right;\">3</td><td style = \"text-align: right;\">3</td></tr><tr><td class = \"rowNumber\" style = \"font-weight: bold; text-align: right;\">3</td><td style = \"text-align: left;\">T. Hernández</td><td style = \"text-align: right;\">84</td><td style = \"text-align: right;\">90</td><td style = \"text-align: right;\">6.25e7</td><td style = \"text-align: right;\">51000.0</td><td style = \"text-align: right;\">23</td><td style = \"text-align: right;\">184</td><td style = \"text-align: right;\">81</td><td style = \"text-align: left;\">AC Milan</td><td style = \"text-align: right;\">1.0</td><td style = \"text-align: right;\">2021</td><td style = \"text-align: right;\">2024.0</td><td style = \"text-align: right;\">0</td><td style = \"text-align: right;\">3</td><td style = \"text-align: right;\">3</td><td style = \"text-align: right;\">3</td><td style = \"text-align: right;\">1.188e8</td><td style = \"text-align: right;\">93.0</td><td style = \"text-align: right;\">71.0</td><td style = \"text-align: right;\">76.0</td><td style = \"text-align: right;\">81.0</td><td style = \"text-align: right;\">77.0</td><td style = \"text-align: right;\">82.0</td><td style = \"text-align: right;\">84</td><td style = \"text-align: right;\">68</td><td style = \"text-align: right;\">74</td><td style = \"text-align: right;\">78</td><td style = \"text-align: right;\">66</td><td style = \"text-align: right;\">83</td><td style = \"text-align: right;\">69</td><td style = \"text-align: right;\">64</td><td style = \"text-align: right;\">68</td><td style = \"text-align: right;\">79</td><td style = \"text-align: right;\">92</td><td style = \"text-align: right;\">94</td><td style = \"text-align: right;\">78</td><td style = \"text-align: right;\">84</td><td style = \"text-align: right;\">75</td><td style = \"text-align: right;\">80</td><td style = \"text-align: right;\">68</td><td style = \"text-align: right;\">90</td><td style = \"text-align: right;\">79</td><td style = \"text-align: right;\">72</td><td style = \"text-align: right;\">82</td><td style = \"text-align: right;\">78</td><td style = \"text-align: right;\">80</td><td style = \"text-align: right;\">74</td><td style = \"text-align: right;\">50</td><td style = \"text-align: right;\">80</td><td style = \"text-align: right;\">74</td><td style = \"text-align: right;\">79</td><td style = \"text-align: right;\">80</td><td style = \"text-align: right;\">12</td><td style = \"text-align: right;\">10</td><td style = \"text-align: right;\">7</td><td style = \"text-align: right;\">7</td><td style = \"text-align: right;\">7</td><td style = \"text-align: right;\">0</td><td style = \"text-align: right;\">1</td><td style = \"text-align: right;\">0</td><td style = \"text-align: right;\">0</td><td style = \"text-align: right;\">3</td><td style = \"text-align: right;\">2</td></tr><tr><td class = \"rowNumber\" style = \"font-weight: bold; text-align: right;\">4</td><td style = \"text-align: left;\">S. Kjær</td><td style = \"text-align: right;\">83</td><td style = \"text-align: right;\">83</td><td style = \"text-align: right;\">2.35e7</td><td style = \"text-align: right;\">54000.0</td><td style = \"text-align: right;\">32</td><td style = \"text-align: right;\">190</td><td style = \"text-align: right;\">86</td><td style = \"text-align: left;\">AC Milan</td><td style = \"text-align: right;\">1.0</td><td style = \"text-align: right;\">2021</td><td style = \"text-align: right;\">2022.0</td><td style = \"text-align: right;\">1</td><td style = \"text-align: right;\">3</td><td style = \"text-align: right;\">2</td><td style = \"text-align: right;\">3</td><td style = \"text-align: right;\">4.0e7</td><td style = \"text-align: right;\">67.0</td><td style = \"text-align: right;\">55.0</td><td style = \"text-align: right;\">64.0</td><td style = \"text-align: right;\">59.0</td><td style = \"text-align: right;\">85.0</td><td style = \"text-align: right;\">78.0</td><td style = \"text-align: right;\">50</td><td style = \"text-align: right;\">55</td><td style = \"text-align: right;\">81</td><td style = \"text-align: right;\">76</td><td style = \"text-align: right;\">37</td><td style = \"text-align: right;\">50</td><td style = \"text-align: right;\">52</td><td style = \"text-align: right;\">69</td><td style = \"text-align: right;\">72</td><td style = \"text-align: right;\">70</td><td style = \"text-align: right;\">63</td><td style = \"text-align: right;\">71</td><td style = \"text-align: right;\">57</td><td style = \"text-align: right;\">79</td><td style = \"text-align: right;\">53</td><td style = \"text-align: right;\">78</td><td style = \"text-align: right;\">81</td><td style = \"text-align: right;\">65</td><td style = \"text-align: right;\">82</td><td style = \"text-align: right;\">41</td><td style = \"text-align: right;\">82</td><td style = \"text-align: right;\">85</td><td style = \"text-align: right;\">31</td><td style = \"text-align: right;\">55</td><td style = \"text-align: right;\">61</td><td style = \"text-align: right;\">69</td><td style = \"text-align: right;\">87</td><td style = \"text-align: right;\">85</td><td style = \"text-align: right;\">81</td><td style = \"text-align: right;\">6</td><td style = \"text-align: right;\">10</td><td style = \"text-align: right;\">13</td><td style = \"text-align: right;\">10</td><td style = \"text-align: right;\">15</td><td style = \"text-align: right;\">0</td><td style = \"text-align: right;\">1</td><td style = \"text-align: right;\">0</td><td style = \"text-align: right;\">0</td><td style = \"text-align: right;\">1</td><td style = \"text-align: right;\">3</td></tr><tr><td class = \"rowNumber\" style = \"font-weight: bold; text-align: right;\">5</td><td style = \"text-align: left;\">A. Romagnoli</td><td style = \"text-align: right;\">82</td><td style = \"text-align: right;\">83</td><td style = \"text-align: right;\">3.15e7</td><td style = \"text-align: right;\">49000.0</td><td style = \"text-align: right;\">26</td><td style = \"text-align: right;\">185</td><td style = \"text-align: right;\">75</td><td style = \"text-align: left;\">AC Milan</td><td style = \"text-align: right;\">1.0</td><td style = \"text-align: right;\">2021</td><td style = \"text-align: right;\">2022.0</td><td style = \"text-align: right;\">0</td><td style = \"text-align: right;\">3</td><td style = \"text-align: right;\">2</td><td style = \"text-align: right;\">2</td><td style = \"text-align: right;\">5.59e7</td><td style = \"text-align: right;\">68.0</td><td style = \"text-align: right;\">40.0</td><td style = \"text-align: right;\">56.0</td><td style = \"text-align: right;\">68.0</td><td style = \"text-align: right;\">85.0</td><td style = \"text-align: right;\">78.0</td><td style = \"text-align: right;\">36</td><td style = \"text-align: right;\">30</td><td style = \"text-align: right;\">78</td><td style = \"text-align: right;\">75</td><td style = \"text-align: right;\">28</td><td style = \"text-align: right;\">65</td><td style = \"text-align: right;\">36</td><td style = \"text-align: right;\">24</td><td style = \"text-align: right;\">70</td><td style = \"text-align: right;\">75</td><td style = \"text-align: right;\">66</td><td style = \"text-align: right;\">69</td><td style = \"text-align: right;\">55</td><td style = \"text-align: right;\">80</td><td style = \"text-align: right;\">53</td><td style = \"text-align: right;\">64</td><td style = \"text-align: right;\">79</td><td style = \"text-align: right;\">70</td><td style = \"text-align: right;\">79</td><td style = \"text-align: right;\">46</td><td style = \"text-align: right;\">84</td><td style = \"text-align: right;\">86</td><td style = \"text-align: right;\">31</td><td style = \"text-align: right;\">45</td><td style = \"text-align: right;\">34</td><td style = \"text-align: right;\">76</td><td style = \"text-align: right;\">87</td><td style = \"text-align: right;\">86</td><td style = \"text-align: right;\">82</td><td style = \"text-align: right;\">9</td><td style = \"text-align: right;\">14</td><td style = \"text-align: right;\">12</td><td style = \"text-align: right;\">8</td><td style = \"text-align: right;\">9</td><td style = \"text-align: right;\">0</td><td style = \"text-align: right;\">1</td><td style = \"text-align: right;\">0</td><td style = \"text-align: right;\">0</td><td style = \"text-align: right;\">2</td><td style = \"text-align: right;\">2</td></tr></tbody></table></div>"
      ],
      "text/latex": [
       "\\begin{tabular}{r|ccccccccc}\n",
       "\t& short\\_name & overall & potential & value\\_eur & wage\\_eur & age & height\\_cm & weight\\_kg & \\\\\n",
       "\t\\hline\n",
       "\t& String31 & Int64 & Int64 & Float64 & Float64 & Int64 & Int64 & Int64 & \\\\\n",
       "\t\\hline\n",
       "\t1 & Z. Ibrahimović & 84 & 84 & 1.45e7 & 51000.0 & 39 & 195 & 95 & $\\dots$ \\\\\n",
       "\t2 & F. Kessié & 84 & 86 & 4.95e7 & 51000.0 & 24 & 183 & 88 & $\\dots$ \\\\\n",
       "\t3 & T. Hernández & 84 & 90 & 6.25e7 & 51000.0 & 23 & 184 & 81 & $\\dots$ \\\\\n",
       "\t4 & S. Kjær & 83 & 83 & 2.35e7 & 54000.0 & 32 & 190 & 86 & $\\dots$ \\\\\n",
       "\t5 & A. Romagnoli & 82 & 83 & 3.15e7 & 49000.0 & 26 & 185 & 75 & $\\dots$ \\\\\n",
       "\\end{tabular}\n"
      ],
      "text/plain": [
       "\u001b[1m5×63 DataFrame\n",
       "\u001b[1m Row │\u001b[1m short_name     \u001b[1m overall \u001b[1m potential \u001b[1m value_eur \u001b[1m wage_eur \u001b[1m age   \u001b[1m height_ ⋯\n",
       "     │\u001b[90m String31       \u001b[90m Int64   \u001b[90m Int64     \u001b[90m Float64   \u001b[90m Float64  \u001b[90m Int64 \u001b[90m Int64   ⋯\n",
       "─────┼──────────────────────────────────────────────────────────────────────────\n",
       "   1 │ Z. Ibrahimović       84         84     1.45e7   51000.0     39        1 ⋯\n",
       "   2 │ F. Kessié            84         86     4.95e7   51000.0     24        1\n",
       "   3 │ T. Hernández         84         90     6.25e7   51000.0     23        1\n",
       "   4 │ S. Kjær              83         83     2.35e7   54000.0     32        1\n",
       "   5 │ A. Romagnoli         82         83     3.15e7   49000.0     26        1 ⋯\n",
       "\u001b[36m                                                              57 columns omitted"
      ]
     },
     "execution_count": 272,
     "metadata": {},
     "output_type": "execute_result"
    }
   ],
   "source": [
    "data_club[1:5,:]"
   ]
  },
  {
   "cell_type": "code",
   "execution_count": 311,
   "metadata": {},
   "outputs": [
    {
     "data": {
      "text/plain": [
       "get_role (generic function with 1 method)"
      ]
     },
     "execution_count": 311,
     "metadata": {},
     "output_type": "execute_result"
    }
   ],
   "source": [
    "function get_role(data)\n",
    "\n",
    "    # get the role of each player\n",
    "    att = data_club[:, \"position_A\"]\n",
    "    mid = data_club[:, \"position_M\"]\n",
    "    def = data_club[:, \"position_D\"]\n",
    "    gk = data_club[:, \"position_G\"]\n",
    "\n",
    "    return att, mid, def, gk\n",
    "end"
   ]
  },
  {
   "cell_type": "code",
   "execution_count": 312,
   "metadata": {},
   "outputs": [
    {
     "data": {
      "text/plain": [
       "get_range_role (generic function with 1 method)"
      ]
     },
     "execution_count": 312,
     "metadata": {},
     "output_type": "execute_result"
    }
   ],
   "source": [
    "function get_range_role(data)\n",
    "    a = []\n",
    "    m = []\n",
    "    d = []\n",
    "    g = []\n",
    "\n",
    "    for club in keys(club_players)\n",
    "\n",
    "        append!(a, length(findall(x -> x == 1, club_players[club][:, \"position_A\"])))\n",
    "        append!(m, length(findall(x -> x == 1, club_players[club][:, \"position_M\"])))\n",
    "        append!(d, length(findall(x -> x == 1, club_players[club][:, \"position_D\"])))\n",
    "        append!(g, length(findall(x -> x == 1, club_players[club][:, \"position_G\"])))\n",
    "    end\n",
    "\n",
    "    return round(std(a)), round(std(m)), round(std(d)), round(std(g))\n",
    "end"
   ]
  },
  {
   "cell_type": "code",
   "execution_count": 325,
   "metadata": {},
   "outputs": [
    {
     "data": {
      "text/plain": [
       "regress_and_compare (generic function with 2 methods)"
      ]
     },
     "execution_count": 325,
     "metadata": {},
     "output_type": "execute_result"
    }
   ],
   "source": [
    "function regress_and_compare(data_club, data_rest, transfers_club, 𝛅)\n",
    "\n",
    "    print(1)\n",
    "\n",
    "    # get parameters\n",
    "    n, k, N_min, N_max, B_max, S_max, p_o, r_o, v_o, m_o, a_o, p_c, r_c, v_c, m_c, a_c, delta, 𝛾 = get_parameters(data_club, data_rest, transfers_club)\n",
    "print(2)\n",
    "    N_c = k\n",
    "print(3)\n",
    "    # get sets of attackers, midfielders, defenders and goalkeepers inside the club\n",
    "    att_c, mid_c, def_c, gk_c = get_role(data_club)\n",
    "    # get number of players in each\n",
    "    n_att_c = length(findall(x -> x == 1, att_c))\n",
    "    n_mid_c = length(findall(x -> x == 1, mid_c))\n",
    "    n_def_c = length(findall(x -> x == 1, def_c))\n",
    "    n_gk_c = length(findall(x -> x == 1, gk_c))\n",
    "print(4)\n",
    "    # get sets of attackers, midfielders, defenders and goalkeepers outside the club\n",
    "    att_o, mid_o, def_o, gk_o = get_role(data_rest)\n",
    "    # get number of players in each\n",
    "    n_att_o = length(findall(x -> x == 1, att_o))\n",
    "    n_mid_o = length(findall(x -> x == 1, mid_o))\n",
    "    n_def_o = length(findall(x -> x == 1, def_o))\n",
    "    n_gk_o = length(findall(x -> x == 1, gk_o))\n",
    "print(5)\n",
    "    # get the range of the number of players in each role\n",
    "    a_range, m_range, d_range, g_range = get_range_role(club_players)\n",
    "print(6)\n",
    "    ### MODEL ###\n",
    "    model = Model(() -> Gurobi.Optimizer(GRB_ENV))\n",
    "    set_optimizer_attributes(model, \"OutputFlag\" => 0, \"TimeLimit\" => 120)\n",
    "print(7)\n",
    "    ### VARIABLES ###\n",
    "    @variable(model, b[i = 1:n], Bin) # 1 if we buy player i, 0 otherwise\n",
    "    @variable(model, s[j = 1:k], Bin) # 1 if we sell player j, 0 otherwise\n",
    "print(8)\n",
    "    ### OBJECTIVE ###\n",
    "    @objective(model, Max, sum(s[j] * v_c[j] for j = 1:k) - sum(b[i] * v_o[i] for i = 1:n))\n",
    "print(9)\n",
    "    ### CONSTRAINTS ###\n",
    "    # improvement constraint\n",
    "    @constraint(model, sum((1 - s[j]) * m_c[j] for j = 1:k) + sum(b[i] * m_o[i] for i = 1:n) >= (sum(m_c[j] for j = 1:k)/k + 𝛅) * (k + sum(b[i] for i = 1:n) - sum(s[j] for j = 1:k)))\n",
    "    # maximum number of players that can be bought\n",
    "    @constraint(model, sum(b[i] for i = 1:n) <= B_max)\n",
    "    # maximum number of players that can be sold\n",
    "    @constraint(model, sum(s[j] for j = 1:k) <= S_max) \n",
    "    # number of players in the club after the transfer window\n",
    "    @constraint(model, N_min <= N_c + sum(b[i] for i = 1:n) - sum(s[j] for j = 1:k) <= N_max) \n",
    "    # average age of the team\n",
    "    @constraint(model, sum((1 - s[j]) * a_c[j] for j = 1:k) + sum(b[i] * a_o[i] for i = 1:n) <= (sum(a_c[j] for j = 1:k)/k + 𝛾) * (k + sum(b[i] for i = 1:n) - sum(s[j] for j = 1:k)))\n",
    "    print(10)\n",
    "    # number of players in each role we have + we buy - we sell is within a range\n",
    "    @constraint(model, - a_range <= sum(b[i] * att_o[i] for i = 1:n_att_o) - sum((s[j]) * att_c[j] for j = 1:n_att_c) <= a_range)\n",
    "    @constraint(model, - m_range <= sum(b[i] * mid_o[i] for i = 1:n_mid_o) - sum((s[j]) * mid_c[j] for j = 1:n_mid_c) <= m_range)\n",
    "    @constraint(model, - d_range <= sum(b[i] * def_o[i] for i = 1:n_def_o) - sum((s[j]) * def_c[j] for j = 1:n_def_c) <= d_range)    \n",
    "    @constraint(model, - g_range <= sum(b[i] * gk_o[i] for i = 1:n_gk_o) - sum(s[j] * gk_c[j] for j = 1:n_gk_c) <= g_range)\n",
    "    print(11)\n",
    "\n",
    "    # solve model\n",
    "    optimize!(model)\n",
    "\n",
    "    return objective_value(model), value.(b), value.(s)\n",
    "end"
   ]
  },
  {
   "cell_type": "code",
   "execution_count": 326,
   "metadata": {},
   "outputs": [
    {
     "name": "stdout",
     "output_type": "stream",
     "text": [
      "12345678910"
     ]
    },
    {
     "ename": "LoadError",
     "evalue": "At In[325]:56: `@constraint(model, -g_range <= sum(($(Expr(:escape, :(b[i]))) * $(Expr(:escape, :(gk_o[i]))) for i = 1:n_gk_o)) - sum(($(Expr(:escape, :(s[j]))) * $(Expr(:escape, :(gk_c[j]))) for j = 1:n_gk_c)) <= g_range)`: Unrecognized constraint building format. Tried to invoke `build_constraint(error, MutableArithmetics.Zero(), -0.0, 0.0)`, but no such method exists. This is due to specifying an unrecognized function, constraint set, and/or extra positional/keyword arguments.\n\nIf you're trying to create a JuMP extension, you need to implement `build_constraint` to accomodate these arguments.",
     "output_type": "error",
     "traceback": [
      "At In[325]:56: `@constraint(model, -g_range <= sum(($(Expr(:escape, :(b[i]))) * $(Expr(:escape, :(gk_o[i]))) for i = 1:n_gk_o)) - sum(($(Expr(:escape, :(s[j]))) * $(Expr(:escape, :(gk_c[j]))) for j = 1:n_gk_c)) <= g_range)`: Unrecognized constraint building format. Tried to invoke `build_constraint(error, MutableArithmetics.Zero(), -0.0, 0.0)`, but no such method exists. This is due to specifying an unrecognized function, constraint set, and/or extra positional/keyword arguments.\n\nIf you're trying to create a JuMP extension, you need to implement `build_constraint` to accomodate these arguments.",
      "",
      "Stacktrace:",
      "  [1] error(::String, ::String)",
      "    @ Base /Applications/Julia-1.8.app/Contents/Resources/julia/lib/julia/sys.dylib:-1",
      "  [2] _macro_error(macroname::Symbol, args::Tuple{Symbol, Expr}, source::LineNumberNode, str::String)",
      "    @ JuMP /Users/iai/builds/InterpretableAI/SystemImage/SysImgBuilder/.julia/packages/JuMP/gVq7V/src/macros.jl:1585",
      "  [3] (::JuMP.var\"#_error#100\"{Tuple{Symbol, Expr}, Symbol, LineNumberNode})(str::String)",
      "    @ JuMP /Users/iai/builds/InterpretableAI/SystemImage/SysImgBuilder/.julia/packages/JuMP/gVq7V/src/macros.jl:733",
      "  [4] build_constraint(_error::JuMP.var\"#_error#100\"{Tuple{Symbol, Expr}, Symbol, LineNumberNode}, func::MutableArithmetics.Zero, set::Float64, args::Float64; kwargs::Base.Pairs{Symbol, Union{}, Tuple{}, NamedTuple{(), Tuple{}}})",
      "    @ JuMP /Users/iai/builds/InterpretableAI/SystemImage/SysImgBuilder/.julia/packages/JuMP/gVq7V/src/macros.jl:534",
      "  [5] build_constraint(_error::Function, func::MutableArithmetics.Zero, set::Float64, args::Float64)",
      "    @ JuMP /Users/iai/builds/InterpretableAI/SystemImage/SysImgBuilder/.julia/packages/JuMP/gVq7V/src/macros.jl:529",
      "  [6] macro expansion",
      "    @ /Users/iai/builds/InterpretableAI/SystemImage/SysImgBuilder/.julia/packages/JuMP/gVq7V/src/macros.jl:820 [inlined]",
      "  [7] regress_and_compare(data_club::DataFrame, data_rest::DataFrame, transfers_club::DataFrame, 𝛅::Float64)",
      "    @ Main ./In[325]:56",
      "  [8] top-level scope",
      "    @ ./In[326]:9",
      "  [9] eval",
      "    @ ./boot.jl:368 [inlined]",
      " [10] include_string(mapexpr::typeof(REPL.softscope), mod::Module, code::String, filename::String)",
      "    @ Base ./loading.jl:1428"
     ]
    }
   ],
   "source": [
    "# run models for different values of delta\n",
    "d = []\n",
    "result = []\n",
    "bought = []\n",
    "sold = []\n",
    "delta_range = [n/10 for n in range(-7,30)]\n",
    "\n",
    "for delta in delta_range\n",
    "    obj, b, s = regress_and_compare(data_club, data_rest, transfers_club, delta)\n",
    "    push!(d, delta)\n",
    "    push!(result, obj)\n",
    "    push!(bought, b)\n",
    "    push!(sold, s)\n",
    "end\n"
   ]
  },
  {
   "cell_type": "code",
   "execution_count": 253,
   "metadata": {},
   "outputs": [
    {
     "data": {
      "image/svg+xml": "<?xml version=\"1.0\" encoding=\"utf-8\"?>\n<svg xmlns=\"http://www.w3.org/2000/svg\" xmlns:xlink=\"http://www.w3.org/1999/xlink\" width=\"800\" height=\"400\" viewBox=\"0 0 3200 1600\">\n<defs>\n  <clipPath id=\"clip810\">\n    <rect x=\"0\" y=\"0\" width=\"3200\" height=\"1600\"/>\n  </clipPath>\n</defs>\n<path clip-path=\"url(#clip810)\" d=\"\nM0 1600 L3200 1600 L3200 0 L0 0  Z\n  \" fill=\"#ffffff\" fill-rule=\"evenodd\" fill-opacity=\"1\"/>\n<defs>\n  <clipPath id=\"clip811\">\n    <rect x=\"640\" y=\"0\" width=\"2241\" height=\"1600\"/>\n  </clipPath>\n</defs>\n<path clip-path=\"url(#clip810)\" d=\"\nM372.629 1443.7 L3152.76 1443.7 L3152.76 47.2441 L372.629 47.2441  Z\n  \" fill=\"#ffffff\" fill-rule=\"evenodd\" fill-opacity=\"1\"/>\n<defs>\n  <clipPath id=\"clip812\">\n    <rect x=\"372\" y=\"47\" width=\"2781\" height=\"1397\"/>\n  </clipPath>\n</defs>\n<polyline clip-path=\"url(#clip812)\" style=\"stroke:#000000; stroke-linecap:round; stroke-linejoin:round; stroke-width:2; stroke-opacity:0.1; fill:none\" points=\"\n  947.51,1443.7 947.51,47.2441 \n  \"/>\n<polyline clip-path=\"url(#clip812)\" style=\"stroke:#000000; stroke-linecap:round; stroke-linejoin:round; stroke-width:2; stroke-opacity:0.1; fill:none\" points=\"\n  1656.36,1443.7 1656.36,47.2441 \n  \"/>\n<polyline clip-path=\"url(#clip812)\" style=\"stroke:#000000; stroke-linecap:round; stroke-linejoin:round; stroke-width:2; stroke-opacity:0.1; fill:none\" points=\"\n  2365.22,1443.7 2365.22,47.2441 \n  \"/>\n<polyline clip-path=\"url(#clip812)\" style=\"stroke:#000000; stroke-linecap:round; stroke-linejoin:round; stroke-width:2; stroke-opacity:0.1; fill:none\" points=\"\n  3074.07,1443.7 3074.07,47.2441 \n  \"/>\n<polyline clip-path=\"url(#clip810)\" style=\"stroke:#000000; stroke-linecap:round; stroke-linejoin:round; stroke-width:4; stroke-opacity:1; fill:none\" points=\"\n  372.629,1443.7 3152.76,1443.7 \n  \"/>\n<polyline clip-path=\"url(#clip810)\" style=\"stroke:#000000; stroke-linecap:round; stroke-linejoin:round; stroke-width:4; stroke-opacity:1; fill:none\" points=\"\n  947.51,1443.7 947.51,1424.8 \n  \"/>\n<polyline clip-path=\"url(#clip810)\" style=\"stroke:#000000; stroke-linecap:round; stroke-linejoin:round; stroke-width:4; stroke-opacity:1; fill:none\" points=\"\n  1656.36,1443.7 1656.36,1424.8 \n  \"/>\n<polyline clip-path=\"url(#clip810)\" style=\"stroke:#000000; stroke-linecap:round; stroke-linejoin:round; stroke-width:4; stroke-opacity:1; fill:none\" points=\"\n  2365.22,1443.7 2365.22,1424.8 \n  \"/>\n<polyline clip-path=\"url(#clip810)\" style=\"stroke:#000000; stroke-linecap:round; stroke-linejoin:round; stroke-width:4; stroke-opacity:1; fill:none\" points=\"\n  3074.07,1443.7 3074.07,1424.8 \n  \"/>\n<path clip-path=\"url(#clip810)\" d=\"M947.51 1481.02 Q943.899 1481.02 942.07 1484.58 Q940.265 1488.12 940.265 1495.25 Q940.265 1502.36 942.07 1505.93 Q943.899 1509.47 947.51 1509.47 Q951.144 1509.47 952.95 1505.93 Q954.778 1502.36 954.778 1495.25 Q954.778 1488.12 952.95 1484.58 Q951.144 1481.02 947.51 1481.02 M947.51 1477.31 Q953.32 1477.31 956.376 1481.92 Q959.454 1486.5 959.454 1495.25 Q959.454 1503.98 956.376 1508.59 Q953.32 1513.17 947.51 1513.17 Q941.7 1513.17 938.621 1508.59 Q935.565 1503.98 935.565 1495.25 Q935.565 1486.5 938.621 1481.92 Q941.7 1477.31 947.51 1477.31 Z\" fill=\"#000000\" fill-rule=\"evenodd\" fill-opacity=\"1\" /><path clip-path=\"url(#clip810)\" d=\"M1646.75 1508.56 L1654.39 1508.56 L1654.39 1482.2 L1646.07 1483.87 L1646.07 1479.61 L1654.34 1477.94 L1659.01 1477.94 L1659.01 1508.56 L1666.65 1508.56 L1666.65 1512.5 L1646.75 1512.5 L1646.75 1508.56 Z\" fill=\"#000000\" fill-rule=\"evenodd\" fill-opacity=\"1\" /><path clip-path=\"url(#clip810)\" d=\"M2359.87 1508.56 L2376.19 1508.56 L2376.19 1512.5 L2354.25 1512.5 L2354.25 1508.56 Q2356.91 1505.81 2361.49 1501.18 Q2366.1 1496.53 2367.28 1495.19 Q2369.52 1492.66 2370.4 1490.93 Q2371.31 1489.17 2371.31 1487.48 Q2371.31 1484.72 2369.36 1482.99 Q2367.44 1481.25 2364.34 1481.25 Q2362.14 1481.25 2359.69 1482.01 Q2357.26 1482.78 2354.48 1484.33 L2354.48 1479.61 Q2357.3 1478.47 2359.76 1477.89 Q2362.21 1477.31 2364.25 1477.31 Q2369.62 1477.31 2372.81 1480 Q2376.01 1482.69 2376.01 1487.18 Q2376.01 1489.31 2375.2 1491.23 Q2374.41 1493.12 2372.3 1495.72 Q2371.72 1496.39 2368.62 1499.61 Q2365.52 1502.8 2359.87 1508.56 Z\" fill=\"#000000\" fill-rule=\"evenodd\" fill-opacity=\"1\" /><path clip-path=\"url(#clip810)\" d=\"M3078.32 1493.87 Q3081.68 1494.58 3083.55 1496.85 Q3085.45 1499.12 3085.45 1502.45 Q3085.45 1507.57 3081.93 1510.37 Q3078.41 1513.17 3071.93 1513.17 Q3069.76 1513.17 3067.44 1512.73 Q3065.15 1512.31 3062.7 1511.46 L3062.7 1506.94 Q3064.64 1508.08 3066.96 1508.66 Q3069.27 1509.24 3071.79 1509.24 Q3076.19 1509.24 3078.48 1507.5 Q3080.8 1505.76 3080.8 1502.45 Q3080.8 1499.4 3078.64 1497.69 Q3076.52 1495.95 3072.7 1495.95 L3068.67 1495.95 L3068.67 1492.11 L3072.88 1492.11 Q3076.33 1492.11 3078.16 1490.74 Q3079.99 1489.35 3079.99 1486.76 Q3079.99 1484.1 3078.09 1482.69 Q3076.21 1481.25 3072.7 1481.25 Q3070.77 1481.25 3068.58 1481.67 Q3066.38 1482.08 3063.74 1482.96 L3063.74 1478.8 Q3066.4 1478.06 3068.71 1477.69 Q3071.05 1477.31 3073.11 1477.31 Q3078.44 1477.31 3081.54 1479.75 Q3084.64 1482.15 3084.64 1486.27 Q3084.64 1489.14 3083 1491.13 Q3081.35 1493.1 3078.32 1493.87 Z\" fill=\"#000000\" fill-rule=\"evenodd\" fill-opacity=\"1\" /><path clip-path=\"url(#clip810)\" d=\"M1710.91 1570.33 L1710.91 1551.04 L1716.76 1551.04 L1716.76 1600.56 L1710.91 1600.56 L1710.91 1595.22 Q1709.06 1598.4 1706.23 1599.96 Q1703.43 1601.49 1699.48 1601.49 Q1693.02 1601.49 1688.95 1596.33 Q1684.9 1591.17 1684.9 1582.77 Q1684.9 1574.37 1688.95 1569.21 Q1693.02 1564.06 1699.48 1564.06 Q1703.43 1564.06 1706.23 1565.62 Q1709.06 1567.14 1710.91 1570.33 M1690.95 1582.77 Q1690.95 1589.23 1693.59 1592.92 Q1696.27 1596.59 1700.91 1596.59 Q1705.56 1596.59 1708.23 1592.92 Q1710.91 1589.23 1710.91 1582.77 Q1710.91 1576.31 1708.23 1572.65 Q1705.56 1568.96 1700.91 1568.96 Q1696.27 1568.96 1693.59 1572.65 Q1690.95 1576.31 1690.95 1582.77 Z\" fill=\"#000000\" fill-rule=\"evenodd\" fill-opacity=\"1\" /><path clip-path=\"url(#clip810)\" d=\"M1759.32 1581.28 L1759.32 1584.14 L1732.39 1584.14 Q1732.77 1590.19 1736.02 1593.37 Q1739.3 1596.52 1745.12 1596.52 Q1748.5 1596.52 1751.65 1595.69 Q1754.83 1594.87 1757.95 1593.21 L1757.95 1598.75 Q1754.8 1600.09 1751.49 1600.79 Q1748.18 1601.49 1744.77 1601.49 Q1736.24 1601.49 1731.25 1596.52 Q1726.28 1591.56 1726.28 1583.09 Q1726.28 1574.34 1730.99 1569.21 Q1735.73 1564.06 1743.75 1564.06 Q1750.95 1564.06 1755.12 1568.7 Q1759.32 1573.32 1759.32 1581.28 M1753.46 1579.56 Q1753.4 1574.75 1750.76 1571.89 Q1748.15 1569.02 1743.82 1569.02 Q1738.92 1569.02 1735.96 1571.79 Q1733.03 1574.56 1732.58 1579.59 L1753.46 1579.56 Z\" fill=\"#000000\" fill-rule=\"evenodd\" fill-opacity=\"1\" /><path clip-path=\"url(#clip810)\" d=\"M1768.93 1551.04 L1774.79 1551.04 L1774.79 1600.56 L1768.93 1600.56 L1768.93 1551.04 Z\" fill=\"#000000\" fill-rule=\"evenodd\" fill-opacity=\"1\" /><path clip-path=\"url(#clip810)\" d=\"M1792.83 1554.79 L1792.83 1564.92 L1804.9 1564.92 L1804.9 1569.47 L1792.83 1569.47 L1792.83 1588.82 Q1792.83 1593.18 1794.01 1594.42 Q1795.22 1595.66 1798.88 1595.66 L1804.9 1595.66 L1804.9 1600.56 L1798.88 1600.56 Q1792.1 1600.56 1789.52 1598.05 Q1786.95 1595.5 1786.95 1588.82 L1786.95 1569.47 L1782.65 1569.47 L1782.65 1564.92 L1786.95 1564.92 L1786.95 1554.79 L1792.83 1554.79 Z\" fill=\"#000000\" fill-rule=\"evenodd\" fill-opacity=\"1\" /><path clip-path=\"url(#clip810)\" d=\"M1828.8 1582.64 Q1821.7 1582.64 1818.97 1584.27 Q1816.23 1585.89 1816.23 1589.81 Q1816.23 1592.92 1818.27 1594.77 Q1820.33 1596.59 1823.87 1596.59 Q1828.74 1596.59 1831.66 1593.15 Q1834.62 1589.68 1834.62 1583.95 L1834.62 1582.64 L1828.8 1582.64 M1840.48 1580.23 L1840.48 1600.56 L1834.62 1600.56 L1834.62 1595.15 Q1832.62 1598.4 1829.63 1599.96 Q1826.64 1601.49 1822.31 1601.49 Q1816.83 1601.49 1813.59 1598.43 Q1810.37 1595.34 1810.37 1590.19 Q1810.37 1584.17 1814.38 1581.12 Q1818.42 1578.06 1826.41 1578.06 L1834.62 1578.06 L1834.62 1577.49 Q1834.62 1573.45 1831.95 1571.25 Q1829.31 1569.02 1824.5 1569.02 Q1821.45 1569.02 1818.55 1569.75 Q1815.66 1570.49 1812.98 1571.95 L1812.98 1566.54 Q1816.2 1565.3 1819.22 1564.69 Q1822.24 1564.06 1825.11 1564.06 Q1832.84 1564.06 1836.66 1568.07 Q1840.48 1572.08 1840.48 1580.23 Z\" fill=\"#000000\" fill-rule=\"evenodd\" fill-opacity=\"1\" /><polyline clip-path=\"url(#clip812)\" style=\"stroke:#000000; stroke-linecap:round; stroke-linejoin:round; stroke-width:2; stroke-opacity:0.1; fill:none\" points=\"\n  372.629,1381.83 3152.76,1381.83 \n  \"/>\n<polyline clip-path=\"url(#clip812)\" style=\"stroke:#000000; stroke-linecap:round; stroke-linejoin:round; stroke-width:2; stroke-opacity:0.1; fill:none\" points=\"\n  372.629,1142.12 3152.76,1142.12 \n  \"/>\n<polyline clip-path=\"url(#clip812)\" style=\"stroke:#000000; stroke-linecap:round; stroke-linejoin:round; stroke-width:2; stroke-opacity:0.1; fill:none\" points=\"\n  372.629,902.418 3152.76,902.418 \n  \"/>\n<polyline clip-path=\"url(#clip812)\" style=\"stroke:#000000; stroke-linecap:round; stroke-linejoin:round; stroke-width:2; stroke-opacity:0.1; fill:none\" points=\"\n  372.629,662.714 3152.76,662.714 \n  \"/>\n<polyline clip-path=\"url(#clip812)\" style=\"stroke:#000000; stroke-linecap:round; stroke-linejoin:round; stroke-width:2; stroke-opacity:0.1; fill:none\" points=\"\n  372.629,423.011 3152.76,423.011 \n  \"/>\n<polyline clip-path=\"url(#clip812)\" style=\"stroke:#000000; stroke-linecap:round; stroke-linejoin:round; stroke-width:2; stroke-opacity:0.1; fill:none\" points=\"\n  372.629,183.307 3152.76,183.307 \n  \"/>\n<polyline clip-path=\"url(#clip810)\" style=\"stroke:#000000; stroke-linecap:round; stroke-linejoin:round; stroke-width:4; stroke-opacity:1; fill:none\" points=\"\n  372.629,1443.7 372.629,47.2441 \n  \"/>\n<polyline clip-path=\"url(#clip810)\" style=\"stroke:#000000; stroke-linecap:round; stroke-linejoin:round; stroke-width:4; stroke-opacity:1; fill:none\" points=\"\n  372.629,1381.83 391.527,1381.83 \n  \"/>\n<polyline clip-path=\"url(#clip810)\" style=\"stroke:#000000; stroke-linecap:round; stroke-linejoin:round; stroke-width:4; stroke-opacity:1; fill:none\" points=\"\n  372.629,1142.12 391.527,1142.12 \n  \"/>\n<polyline clip-path=\"url(#clip810)\" style=\"stroke:#000000; stroke-linecap:round; stroke-linejoin:round; stroke-width:4; stroke-opacity:1; fill:none\" points=\"\n  372.629,902.418 391.527,902.418 \n  \"/>\n<polyline clip-path=\"url(#clip810)\" style=\"stroke:#000000; stroke-linecap:round; stroke-linejoin:round; stroke-width:4; stroke-opacity:1; fill:none\" points=\"\n  372.629,662.714 391.527,662.714 \n  \"/>\n<polyline clip-path=\"url(#clip810)\" style=\"stroke:#000000; stroke-linecap:round; stroke-linejoin:round; stroke-width:4; stroke-opacity:1; fill:none\" points=\"\n  372.629,423.011 391.527,423.011 \n  \"/>\n<polyline clip-path=\"url(#clip810)\" style=\"stroke:#000000; stroke-linecap:round; stroke-linejoin:round; stroke-width:4; stroke-opacity:1; fill:none\" points=\"\n  372.629,183.307 391.527,183.307 \n  \"/>\n<path clip-path=\"url(#clip810)\" d=\"M98.3802 1388.72 L128.056 1388.72 L128.056 1392.66 L98.3802 1392.66 L98.3802 1388.72 Z\" fill=\"#000000\" fill-rule=\"evenodd\" fill-opacity=\"1\" /><path clip-path=\"url(#clip810)\" d=\"M150.996 1375.07 L139.19 1393.52 L150.996 1393.52 L150.996 1375.07 M149.769 1370.99 L155.648 1370.99 L155.648 1393.52 L160.579 1393.52 L160.579 1397.4 L155.648 1397.4 L155.648 1405.55 L150.996 1405.55 L150.996 1397.4 L135.394 1397.4 L135.394 1392.89 L149.769 1370.99 Z\" fill=\"#000000\" fill-rule=\"evenodd\" fill-opacity=\"1\" /><path clip-path=\"url(#clip810)\" d=\"M168.31 1399.67 L173.195 1399.67 L173.195 1405.55 L168.31 1405.55 L168.31 1399.67 Z\" fill=\"#000000\" fill-rule=\"evenodd\" fill-opacity=\"1\" /><path clip-path=\"url(#clip810)\" d=\"M193.38 1374.07 Q189.769 1374.07 187.94 1377.64 Q186.134 1381.18 186.134 1388.31 Q186.134 1395.41 187.94 1398.98 Q189.769 1402.52 193.38 1402.52 Q197.014 1402.52 198.819 1398.98 Q200.648 1395.41 200.648 1388.31 Q200.648 1381.18 198.819 1377.64 Q197.014 1374.07 193.38 1374.07 M193.38 1370.37 Q199.19 1370.37 202.245 1374.97 Q205.324 1379.56 205.324 1388.31 Q205.324 1397.03 202.245 1401.64 Q199.19 1406.22 193.38 1406.22 Q187.569 1406.22 184.491 1401.64 Q181.435 1397.03 181.435 1388.31 Q181.435 1379.56 184.491 1374.97 Q187.569 1370.37 193.38 1370.37 Z\" fill=\"#000000\" fill-rule=\"evenodd\" fill-opacity=\"1\" /><path clip-path=\"url(#clip810)\" d=\"M241.713 1380.09 L231.134 1390.71 L241.713 1401.29 L238.958 1404.09 L228.333 1393.47 L217.708 1404.09 L214.977 1401.29 L225.532 1390.71 L214.977 1380.09 L217.708 1377.29 L228.333 1387.91 L238.958 1377.29 L241.713 1380.09 Z\" fill=\"#000000\" fill-rule=\"evenodd\" fill-opacity=\"1\" /><path clip-path=\"url(#clip810)\" d=\"M254.074 1401.62 L261.713 1401.62 L261.713 1375.25 L253.402 1376.92 L253.402 1372.66 L261.666 1370.99 L266.342 1370.99 L266.342 1401.62 L273.981 1401.62 L273.981 1405.55 L254.074 1405.55 L254.074 1401.62 Z\" fill=\"#000000\" fill-rule=\"evenodd\" fill-opacity=\"1\" /><path clip-path=\"url(#clip810)\" d=\"M293.425 1374.07 Q289.814 1374.07 287.986 1377.64 Q286.18 1381.18 286.18 1388.31 Q286.18 1395.41 287.986 1398.98 Q289.814 1402.52 293.425 1402.52 Q297.06 1402.52 298.865 1398.98 Q300.694 1395.41 300.694 1388.31 Q300.694 1381.18 298.865 1377.64 Q297.06 1374.07 293.425 1374.07 M293.425 1370.37 Q299.236 1370.37 302.291 1374.97 Q305.37 1379.56 305.37 1388.31 Q305.37 1397.03 302.291 1401.64 Q299.236 1406.22 293.425 1406.22 Q287.615 1406.22 284.537 1401.64 Q281.481 1397.03 281.481 1388.31 Q281.481 1379.56 284.537 1374.97 Q287.615 1370.37 293.425 1370.37 Z\" fill=\"#000000\" fill-rule=\"evenodd\" fill-opacity=\"1\" /><path clip-path=\"url(#clip810)\" d=\"M314.999 1364.81 Q312.291 1364.81 310.73 1366.26 Q309.188 1367.7 309.188 1370.24 Q309.188 1372.78 310.73 1374.23 Q312.291 1375.68 314.999 1375.68 Q317.708 1375.68 319.269 1374.23 Q320.83 1372.76 320.83 1370.24 Q320.83 1367.7 319.269 1366.26 Q317.726 1364.81 314.999 1364.81 M311.2 1363.19 Q308.755 1362.59 307.382 1360.91 Q306.028 1359.24 306.028 1356.83 Q306.028 1353.47 308.417 1351.51 Q310.824 1349.55 314.999 1349.55 Q319.193 1349.55 321.582 1351.51 Q323.971 1353.47 323.971 1356.83 Q323.971 1359.24 322.598 1360.91 Q321.244 1362.59 318.817 1363.19 Q321.563 1363.83 323.087 1365.69 Q324.629 1367.55 324.629 1370.24 Q324.629 1374.32 322.128 1376.51 Q319.645 1378.69 314.999 1378.69 Q310.354 1378.69 307.852 1376.51 Q305.37 1374.32 305.37 1370.24 Q305.37 1367.55 306.912 1365.69 Q308.454 1363.83 311.2 1363.19 M309.808 1357.19 Q309.808 1359.37 311.163 1360.59 Q312.536 1361.82 314.999 1361.82 Q317.444 1361.82 318.817 1360.59 Q320.209 1359.37 320.209 1357.19 Q320.209 1355.01 318.817 1353.79 Q317.444 1352.56 314.999 1352.56 Q312.536 1352.56 311.163 1353.79 Q309.808 1355.01 309.808 1357.19 Z\" fill=\"#000000\" fill-rule=\"evenodd\" fill-opacity=\"1\" /><path clip-path=\"url(#clip810)\" d=\"M98.3802 1149.02 L128.056 1149.02 L128.056 1152.96 L98.3802 1152.96 L98.3802 1149.02 Z\" fill=\"#000000\" fill-rule=\"evenodd\" fill-opacity=\"1\" /><path clip-path=\"url(#clip810)\" d=\"M152.315 1147.21 Q155.672 1147.93 157.547 1150.2 Q159.445 1152.47 159.445 1155.8 Q159.445 1160.92 155.926 1163.72 Q152.408 1166.52 145.926 1166.52 Q143.75 1166.52 141.435 1166.08 Q139.144 1165.66 136.69 1164.81 L136.69 1160.29 Q138.635 1161.43 140.949 1162.01 Q143.264 1162.59 145.787 1162.59 Q150.185 1162.59 152.477 1160.85 Q154.792 1159.11 154.792 1155.8 Q154.792 1152.75 152.639 1151.03 Q150.51 1149.3 146.69 1149.3 L142.662 1149.3 L142.662 1145.46 L146.875 1145.46 Q150.324 1145.46 152.153 1144.09 Q153.982 1142.7 153.982 1140.11 Q153.982 1137.45 152.084 1136.03 Q150.209 1134.6 146.69 1134.6 Q144.769 1134.6 142.57 1135.02 Q140.371 1135.43 137.732 1136.31 L137.732 1132.15 Q140.394 1131.4 142.709 1131.03 Q145.047 1130.66 147.107 1130.66 Q152.431 1130.66 155.533 1133.09 Q158.634 1135.5 158.634 1139.62 Q158.634 1142.49 156.991 1144.48 Q155.347 1146.45 152.315 1147.21 Z\" fill=\"#000000\" fill-rule=\"evenodd\" fill-opacity=\"1\" /><path clip-path=\"url(#clip810)\" d=\"M168.31 1159.97 L173.195 1159.97 L173.195 1165.85 L168.31 1165.85 L168.31 1159.97 Z\" fill=\"#000000\" fill-rule=\"evenodd\" fill-opacity=\"1\" /><path clip-path=\"url(#clip810)\" d=\"M193.38 1134.37 Q189.769 1134.37 187.94 1137.93 Q186.134 1141.47 186.134 1148.6 Q186.134 1155.71 187.94 1159.28 Q189.769 1162.82 193.38 1162.82 Q197.014 1162.82 198.819 1159.28 Q200.648 1155.71 200.648 1148.6 Q200.648 1141.47 198.819 1137.93 Q197.014 1134.37 193.38 1134.37 M193.38 1130.66 Q199.19 1130.66 202.245 1135.27 Q205.324 1139.85 205.324 1148.6 Q205.324 1157.33 202.245 1161.94 Q199.19 1166.52 193.38 1166.52 Q187.569 1166.52 184.491 1161.94 Q181.435 1157.33 181.435 1148.6 Q181.435 1139.85 184.491 1135.27 Q187.569 1130.66 193.38 1130.66 Z\" fill=\"#000000\" fill-rule=\"evenodd\" fill-opacity=\"1\" /><path clip-path=\"url(#clip810)\" d=\"M241.713 1140.39 L231.134 1151.01 L241.713 1161.59 L238.958 1164.39 L228.333 1153.77 L217.708 1164.39 L214.977 1161.59 L225.532 1151.01 L214.977 1140.39 L217.708 1137.59 L228.333 1148.21 L238.958 1137.59 L241.713 1140.39 Z\" fill=\"#000000\" fill-rule=\"evenodd\" fill-opacity=\"1\" /><path clip-path=\"url(#clip810)\" d=\"M254.074 1161.91 L261.713 1161.91 L261.713 1135.55 L253.402 1137.22 L253.402 1132.96 L261.666 1131.29 L266.342 1131.29 L266.342 1161.91 L273.981 1161.91 L273.981 1165.85 L254.074 1165.85 L254.074 1161.91 Z\" fill=\"#000000\" fill-rule=\"evenodd\" fill-opacity=\"1\" /><path clip-path=\"url(#clip810)\" d=\"M293.425 1134.37 Q289.814 1134.37 287.986 1137.93 Q286.18 1141.47 286.18 1148.6 Q286.18 1155.71 287.986 1159.28 Q289.814 1162.82 293.425 1162.82 Q297.06 1162.82 298.865 1159.28 Q300.694 1155.71 300.694 1148.6 Q300.694 1141.47 298.865 1137.93 Q297.06 1134.37 293.425 1134.37 M293.425 1130.66 Q299.236 1130.66 302.291 1135.27 Q305.37 1139.85 305.37 1148.6 Q305.37 1157.33 302.291 1161.94 Q299.236 1166.52 293.425 1166.52 Q287.615 1166.52 284.537 1161.94 Q281.481 1157.33 281.481 1148.6 Q281.481 1139.85 284.537 1135.27 Q287.615 1130.66 293.425 1130.66 Z\" fill=\"#000000\" fill-rule=\"evenodd\" fill-opacity=\"1\" /><path clip-path=\"url(#clip810)\" d=\"M314.999 1125.1 Q312.291 1125.1 310.73 1126.55 Q309.188 1128 309.188 1130.54 Q309.188 1133.08 310.73 1134.53 Q312.291 1135.97 314.999 1135.97 Q317.708 1135.97 319.269 1134.53 Q320.83 1133.06 320.83 1130.54 Q320.83 1128 319.269 1126.55 Q317.726 1125.1 314.999 1125.1 M311.2 1123.49 Q308.755 1122.88 307.382 1121.21 Q306.028 1119.54 306.028 1117.13 Q306.028 1113.76 308.417 1111.81 Q310.824 1109.85 314.999 1109.85 Q319.193 1109.85 321.582 1111.81 Q323.971 1113.76 323.971 1117.13 Q323.971 1119.54 322.598 1121.21 Q321.244 1122.88 318.817 1123.49 Q321.563 1124.13 323.087 1125.99 Q324.629 1127.85 324.629 1130.54 Q324.629 1134.62 322.128 1136.8 Q319.645 1138.98 314.999 1138.98 Q310.354 1138.98 307.852 1136.8 Q305.37 1134.62 305.37 1130.54 Q305.37 1127.85 306.912 1125.99 Q308.454 1124.13 311.2 1123.49 M309.808 1117.49 Q309.808 1119.67 311.163 1120.89 Q312.536 1122.11 314.999 1122.11 Q317.444 1122.11 318.817 1120.89 Q320.209 1119.67 320.209 1117.49 Q320.209 1115.31 318.817 1114.08 Q317.444 1112.86 314.999 1112.86 Q312.536 1112.86 311.163 1114.08 Q309.808 1115.31 309.808 1117.49 Z\" fill=\"#000000\" fill-rule=\"evenodd\" fill-opacity=\"1\" /><path clip-path=\"url(#clip810)\" d=\"M98.3802 909.317 L128.056 909.317 L128.056 913.252 L98.3802 913.252 L98.3802 909.317 Z\" fill=\"#000000\" fill-rule=\"evenodd\" fill-opacity=\"1\" /><path clip-path=\"url(#clip810)\" d=\"M142.176 922.21 L158.496 922.21 L158.496 926.146 L136.551 926.146 L136.551 922.21 Q139.213 919.456 143.797 914.826 Q148.403 910.173 149.584 908.831 Q151.829 906.308 152.709 904.572 Q153.611 902.812 153.611 901.122 Q153.611 898.368 151.667 896.632 Q149.746 894.896 146.644 894.896 Q144.445 894.896 141.991 895.66 Q139.56 896.423 136.783 897.974 L136.783 893.252 Q139.607 892.118 142.06 891.539 Q144.514 890.961 146.551 890.961 Q151.922 890.961 155.116 893.646 Q158.31 896.331 158.31 900.822 Q158.31 902.951 157.5 904.872 Q156.713 906.771 154.607 909.363 Q154.028 910.034 150.926 913.252 Q147.824 916.446 142.176 922.21 Z\" fill=\"#000000\" fill-rule=\"evenodd\" fill-opacity=\"1\" /><path clip-path=\"url(#clip810)\" d=\"M168.31 920.266 L173.195 920.266 L173.195 926.146 L168.31 926.146 L168.31 920.266 Z\" fill=\"#000000\" fill-rule=\"evenodd\" fill-opacity=\"1\" /><path clip-path=\"url(#clip810)\" d=\"M193.38 894.664 Q189.769 894.664 187.94 898.229 Q186.134 901.771 186.134 908.9 Q186.134 916.007 187.94 919.571 Q189.769 923.113 193.38 923.113 Q197.014 923.113 198.819 919.571 Q200.648 916.007 200.648 908.9 Q200.648 901.771 198.819 898.229 Q197.014 894.664 193.38 894.664 M193.38 890.961 Q199.19 890.961 202.245 895.567 Q205.324 900.15 205.324 908.9 Q205.324 917.627 202.245 922.233 Q199.19 926.817 193.38 926.817 Q187.569 926.817 184.491 922.233 Q181.435 917.627 181.435 908.9 Q181.435 900.15 184.491 895.567 Q187.569 890.961 193.38 890.961 Z\" fill=\"#000000\" fill-rule=\"evenodd\" fill-opacity=\"1\" /><path clip-path=\"url(#clip810)\" d=\"M241.713 900.683 L231.134 911.308 L241.713 921.886 L238.958 924.687 L228.333 914.062 L217.708 924.687 L214.977 921.886 L225.532 911.308 L214.977 900.683 L217.708 897.882 L228.333 908.507 L238.958 897.882 L241.713 900.683 Z\" fill=\"#000000\" fill-rule=\"evenodd\" fill-opacity=\"1\" /><path clip-path=\"url(#clip810)\" d=\"M254.074 922.21 L261.713 922.21 L261.713 895.845 L253.402 897.511 L253.402 893.252 L261.666 891.586 L266.342 891.586 L266.342 922.21 L273.981 922.21 L273.981 926.146 L254.074 926.146 L254.074 922.21 Z\" fill=\"#000000\" fill-rule=\"evenodd\" fill-opacity=\"1\" /><path clip-path=\"url(#clip810)\" d=\"M293.425 894.664 Q289.814 894.664 287.986 898.229 Q286.18 901.771 286.18 908.9 Q286.18 916.007 287.986 919.571 Q289.814 923.113 293.425 923.113 Q297.06 923.113 298.865 919.571 Q300.694 916.007 300.694 908.9 Q300.694 901.771 298.865 898.229 Q297.06 894.664 293.425 894.664 M293.425 890.961 Q299.236 890.961 302.291 895.567 Q305.37 900.15 305.37 908.9 Q305.37 917.627 302.291 922.233 Q299.236 926.817 293.425 926.817 Q287.615 926.817 284.537 922.233 Q281.481 917.627 281.481 908.9 Q281.481 900.15 284.537 895.567 Q287.615 890.961 293.425 890.961 Z\" fill=\"#000000\" fill-rule=\"evenodd\" fill-opacity=\"1\" /><path clip-path=\"url(#clip810)\" d=\"M314.999 885.4 Q312.291 885.4 310.73 886.849 Q309.188 888.297 309.188 890.836 Q309.188 893.375 310.73 894.823 Q312.291 896.271 314.999 896.271 Q317.708 896.271 319.269 894.823 Q320.83 893.356 320.83 890.836 Q320.83 888.297 319.269 886.849 Q317.726 885.4 314.999 885.4 M311.2 883.783 Q308.755 883.181 307.382 881.507 Q306.028 879.833 306.028 877.426 Q306.028 874.059 308.417 872.103 Q310.824 870.147 314.999 870.147 Q319.193 870.147 321.582 872.103 Q323.971 874.059 323.971 877.426 Q323.971 879.833 322.598 881.507 Q321.244 883.181 318.817 883.783 Q321.563 884.422 323.087 886.284 Q324.629 888.146 324.629 890.836 Q324.629 894.917 322.128 897.099 Q319.645 899.281 314.999 899.281 Q310.354 899.281 307.852 897.099 Q305.37 894.917 305.37 890.836 Q305.37 888.146 306.912 886.284 Q308.454 884.422 311.2 883.783 M309.808 877.783 Q309.808 879.965 311.163 881.187 Q312.536 882.41 314.999 882.41 Q317.444 882.41 318.817 881.187 Q320.209 879.965 320.209 877.783 Q320.209 875.602 318.817 874.379 Q317.444 873.157 314.999 873.157 Q312.536 873.157 311.163 874.379 Q309.808 875.602 309.808 877.783 Z\" fill=\"#000000\" fill-rule=\"evenodd\" fill-opacity=\"1\" /><path clip-path=\"url(#clip810)\" d=\"M98.3802 669.613 L128.056 669.613 L128.056 673.548 L98.3802 673.548 L98.3802 669.613 Z\" fill=\"#000000\" fill-rule=\"evenodd\" fill-opacity=\"1\" /><path clip-path=\"url(#clip810)\" d=\"M138.959 682.507 L146.597 682.507 L146.597 656.141 L138.287 657.808 L138.287 653.549 L146.551 651.882 L151.227 651.882 L151.227 682.507 L158.866 682.507 L158.866 686.442 L138.959 686.442 L138.959 682.507 Z\" fill=\"#000000\" fill-rule=\"evenodd\" fill-opacity=\"1\" /><path clip-path=\"url(#clip810)\" d=\"M168.31 680.562 L173.195 680.562 L173.195 686.442 L168.31 686.442 L168.31 680.562 Z\" fill=\"#000000\" fill-rule=\"evenodd\" fill-opacity=\"1\" /><path clip-path=\"url(#clip810)\" d=\"M193.38 654.961 Q189.769 654.961 187.94 658.525 Q186.134 662.067 186.134 669.197 Q186.134 676.303 187.94 679.868 Q189.769 683.41 193.38 683.41 Q197.014 683.41 198.819 679.868 Q200.648 676.303 200.648 669.197 Q200.648 662.067 198.819 658.525 Q197.014 654.961 193.38 654.961 M193.38 651.257 Q199.19 651.257 202.245 655.863 Q205.324 660.447 205.324 669.197 Q205.324 677.923 202.245 682.53 Q199.19 687.113 193.38 687.113 Q187.569 687.113 184.491 682.53 Q181.435 677.923 181.435 669.197 Q181.435 660.447 184.491 655.863 Q187.569 651.257 193.38 651.257 Z\" fill=\"#000000\" fill-rule=\"evenodd\" fill-opacity=\"1\" /><path clip-path=\"url(#clip810)\" d=\"M241.713 660.979 L231.134 671.604 L241.713 682.183 L238.958 684.984 L228.333 674.359 L217.708 684.984 L214.977 682.183 L225.532 671.604 L214.977 660.979 L217.708 658.178 L228.333 668.803 L238.958 658.178 L241.713 660.979 Z\" fill=\"#000000\" fill-rule=\"evenodd\" fill-opacity=\"1\" /><path clip-path=\"url(#clip810)\" d=\"M254.074 682.507 L261.713 682.507 L261.713 656.141 L253.402 657.808 L253.402 653.549 L261.666 651.882 L266.342 651.882 L266.342 682.507 L273.981 682.507 L273.981 686.442 L254.074 686.442 L254.074 682.507 Z\" fill=\"#000000\" fill-rule=\"evenodd\" fill-opacity=\"1\" /><path clip-path=\"url(#clip810)\" d=\"M293.425 654.961 Q289.814 654.961 287.986 658.525 Q286.18 662.067 286.18 669.197 Q286.18 676.303 287.986 679.868 Q289.814 683.41 293.425 683.41 Q297.06 683.41 298.865 679.868 Q300.694 676.303 300.694 669.197 Q300.694 662.067 298.865 658.525 Q297.06 654.961 293.425 654.961 M293.425 651.257 Q299.236 651.257 302.291 655.863 Q305.37 660.447 305.37 669.197 Q305.37 677.923 302.291 682.53 Q299.236 687.113 293.425 687.113 Q287.615 687.113 284.537 682.53 Q281.481 677.923 281.481 669.197 Q281.481 660.447 284.537 655.863 Q287.615 651.257 293.425 651.257 Z\" fill=\"#000000\" fill-rule=\"evenodd\" fill-opacity=\"1\" /><path clip-path=\"url(#clip810)\" d=\"M314.999 645.697 Q312.291 645.697 310.73 647.145 Q309.188 648.593 309.188 651.132 Q309.188 653.671 310.73 655.119 Q312.291 656.568 314.999 656.568 Q317.708 656.568 319.269 655.119 Q320.83 653.652 320.83 651.132 Q320.83 648.593 319.269 647.145 Q317.726 645.697 314.999 645.697 M311.2 644.079 Q308.755 643.477 307.382 641.804 Q306.028 640.13 306.028 637.722 Q306.028 634.356 308.417 632.4 Q310.824 630.444 314.999 630.444 Q319.193 630.444 321.582 632.4 Q323.971 634.356 323.971 637.722 Q323.971 640.13 322.598 641.804 Q321.244 643.477 318.817 644.079 Q321.563 644.719 323.087 646.581 Q324.629 648.443 324.629 651.132 Q324.629 655.214 322.128 657.395 Q319.645 659.577 314.999 659.577 Q310.354 659.577 307.852 657.395 Q305.37 655.214 305.37 651.132 Q305.37 648.443 306.912 646.581 Q308.454 644.719 311.2 644.079 M309.808 638.08 Q309.808 640.261 311.163 641.484 Q312.536 642.706 314.999 642.706 Q317.444 642.706 318.817 641.484 Q320.209 640.261 320.209 638.08 Q320.209 635.898 318.817 634.675 Q317.444 633.453 314.999 633.453 Q312.536 633.453 311.163 634.675 Q309.808 635.898 309.808 638.08 Z\" fill=\"#000000\" fill-rule=\"evenodd\" fill-opacity=\"1\" /><path clip-path=\"url(#clip810)\" d=\"M312.685 408.809 Q309.073 408.809 307.245 412.374 Q305.439 415.916 305.439 423.045 Q305.439 430.152 307.245 433.717 Q309.073 437.258 312.685 437.258 Q316.319 437.258 318.124 433.717 Q319.953 430.152 319.953 423.045 Q319.953 415.916 318.124 412.374 Q316.319 408.809 312.685 408.809 M312.685 405.106 Q318.495 405.106 321.55 409.712 Q324.629 414.295 324.629 423.045 Q324.629 431.772 321.55 436.379 Q318.495 440.962 312.685 440.962 Q306.874 440.962 303.796 436.379 Q300.74 431.772 300.74 423.045 Q300.74 414.295 303.796 409.712 Q306.874 405.106 312.685 405.106 Z\" fill=\"#000000\" fill-rule=\"evenodd\" fill-opacity=\"1\" /><path clip-path=\"url(#clip810)\" d=\"M138.959 203.099 L146.597 203.099 L146.597 176.734 L138.287 178.401 L138.287 174.141 L146.551 172.475 L151.227 172.475 L151.227 203.099 L158.866 203.099 L158.866 207.035 L138.959 207.035 L138.959 203.099 Z\" fill=\"#000000\" fill-rule=\"evenodd\" fill-opacity=\"1\" /><path clip-path=\"url(#clip810)\" d=\"M168.31 201.155 L173.195 201.155 L173.195 207.035 L168.31 207.035 L168.31 201.155 Z\" fill=\"#000000\" fill-rule=\"evenodd\" fill-opacity=\"1\" /><path clip-path=\"url(#clip810)\" d=\"M193.38 175.553 Q189.769 175.553 187.94 179.118 Q186.134 182.66 186.134 189.789 Q186.134 196.896 187.94 200.461 Q189.769 204.002 193.38 204.002 Q197.014 204.002 198.819 200.461 Q200.648 196.896 200.648 189.789 Q200.648 182.66 198.819 179.118 Q197.014 175.553 193.38 175.553 M193.38 171.85 Q199.19 171.85 202.245 176.456 Q205.324 181.039 205.324 189.789 Q205.324 198.516 202.245 203.123 Q199.19 207.706 193.38 207.706 Q187.569 207.706 184.491 203.123 Q181.435 198.516 181.435 189.789 Q181.435 181.039 184.491 176.456 Q187.569 171.85 193.38 171.85 Z\" fill=\"#000000\" fill-rule=\"evenodd\" fill-opacity=\"1\" /><path clip-path=\"url(#clip810)\" d=\"M241.713 181.572 L231.134 192.197 L241.713 202.775 L238.958 205.576 L228.333 194.951 L217.708 205.576 L214.977 202.775 L225.532 192.197 L214.977 181.572 L217.708 178.771 L228.333 189.396 L238.958 178.771 L241.713 181.572 Z\" fill=\"#000000\" fill-rule=\"evenodd\" fill-opacity=\"1\" /><path clip-path=\"url(#clip810)\" d=\"M254.074 203.099 L261.713 203.099 L261.713 176.734 L253.402 178.401 L253.402 174.141 L261.666 172.475 L266.342 172.475 L266.342 203.099 L273.981 203.099 L273.981 207.035 L254.074 207.035 L254.074 203.099 Z\" fill=\"#000000\" fill-rule=\"evenodd\" fill-opacity=\"1\" /><path clip-path=\"url(#clip810)\" d=\"M293.425 175.553 Q289.814 175.553 287.986 179.118 Q286.18 182.66 286.18 189.789 Q286.18 196.896 287.986 200.461 Q289.814 204.002 293.425 204.002 Q297.06 204.002 298.865 200.461 Q300.694 196.896 300.694 189.789 Q300.694 182.66 298.865 179.118 Q297.06 175.553 293.425 175.553 M293.425 171.85 Q299.236 171.85 302.291 176.456 Q305.37 181.039 305.37 189.789 Q305.37 198.516 302.291 203.123 Q299.236 207.706 293.425 207.706 Q287.615 207.706 284.537 203.123 Q281.481 198.516 281.481 189.789 Q281.481 181.039 284.537 176.456 Q287.615 171.85 293.425 171.85 Z\" fill=\"#000000\" fill-rule=\"evenodd\" fill-opacity=\"1\" /><path clip-path=\"url(#clip810)\" d=\"M314.999 166.29 Q312.291 166.29 310.73 167.738 Q309.188 169.186 309.188 171.725 Q309.188 174.264 310.73 175.712 Q312.291 177.16 314.999 177.16 Q317.708 177.16 319.269 175.712 Q320.83 174.245 320.83 171.725 Q320.83 169.186 319.269 167.738 Q317.726 166.29 314.999 166.29 M311.2 164.672 Q308.755 164.07 307.382 162.396 Q306.028 160.722 306.028 158.315 Q306.028 154.948 308.417 152.992 Q310.824 151.036 314.999 151.036 Q319.193 151.036 321.582 152.992 Q323.971 154.948 323.971 158.315 Q323.971 160.722 322.598 162.396 Q321.244 164.07 318.817 164.672 Q321.563 165.312 323.087 167.174 Q324.629 169.035 324.629 171.725 Q324.629 175.806 322.128 177.988 Q319.645 180.17 314.999 180.17 Q310.354 180.17 307.852 177.988 Q305.37 175.806 305.37 171.725 Q305.37 169.035 306.912 167.174 Q308.454 165.312 311.2 164.672 M309.808 158.672 Q309.808 160.854 311.163 162.077 Q312.536 163.299 314.999 163.299 Q317.444 163.299 318.817 162.077 Q320.209 160.854 320.209 158.672 Q320.209 156.491 318.817 155.268 Q317.444 154.046 314.999 154.046 Q312.536 154.046 311.163 155.268 Q309.808 156.491 309.808 158.672 Z\" fill=\"#000000\" fill-rule=\"evenodd\" fill-opacity=\"1\" /><path clip-path=\"url(#clip810)\" d=\"M4.58208 973.794 Q4.58208 978.505 8.27419 981.242 Q11.9345 983.979 18.332 983.979 Q24.7295 983.979 28.4217 981.274 Q32.0819 978.536 32.0819 973.794 Q32.0819 969.115 28.3898 966.378 Q24.6977 963.641 18.332 963.641 Q11.9981 963.641 8.30602 966.378 Q4.58208 969.115 4.58208 973.794 M-0.38317 973.794 Q-0.38317 966.155 4.58208 961.795 Q9.54733 957.434 18.332 957.434 Q27.0849 957.434 32.0819 961.795 Q37.0472 966.155 37.0472 973.794 Q37.0472 981.465 32.0819 985.825 Q27.0849 990.154 18.332 990.154 Q9.54733 990.154 4.58208 985.825 Q-0.38317 981.465 -0.38317 973.794 Z\" fill=\"#000000\" fill-rule=\"evenodd\" fill-opacity=\"1\" /><path clip-path=\"url(#clip810)\" d=\"M18.332 922.136 Q11.8708 922.136 8.21053 924.81 Q4.51842 927.452 4.51842 932.099 Q4.51842 936.746 8.21053 939.419 Q11.8708 942.061 18.332 942.061 Q24.7932 942.061 28.4853 939.419 Q32.1456 936.746 32.1456 932.099 Q32.1456 927.452 28.4853 924.81 Q24.7932 922.136 18.332 922.136 M5.88705 942.061 Q2.7042 940.215 1.17643 937.414 Q-0.38317 934.581 -0.38317 930.666 Q-0.38317 924.173 4.77305 920.131 Q9.92927 916.057 18.332 916.057 Q26.7347 916.057 31.891 920.131 Q37.0472 924.173 37.0472 930.666 Q37.0472 934.581 35.5194 937.414 Q33.9598 940.215 30.777 942.061 L36.1242 942.061 L36.1242 947.949 L-13.401 947.949 L-13.401 942.061 L5.88705 942.061 Z\" fill=\"#000000\" fill-rule=\"evenodd\" fill-opacity=\"1\" /><path clip-path=\"url(#clip810)\" d=\"M0.4762 906.349 L0.4762 900.493 L36.7607 900.493 Q43.572 900.493 46.6276 903.103 Q49.6831 905.681 49.6831 911.442 L49.6831 913.67 L44.7179 913.67 L44.7179 912.11 Q44.7179 908.768 43.1583 907.559 Q41.6305 906.349 36.7607 906.349 L0.4762 906.349 M-13.401 906.349 L-13.401 900.493 L-5.98499 900.493 L-5.98499 906.349 L-13.401 906.349 Z\" fill=\"#000000\" fill-rule=\"evenodd\" fill-opacity=\"1\" /><path clip-path=\"url(#clip810)\" d=\"M16.8361 857.747 L19.7006 857.747 L19.7006 884.674 Q25.7481 884.292 28.9309 881.046 Q32.0819 877.767 32.0819 871.943 Q32.0819 868.569 31.2544 865.418 Q30.4269 862.235 28.7718 859.116 L34.3099 859.116 Q35.6467 862.267 36.347 865.577 Q37.0472 868.887 37.0472 872.293 Q37.0472 880.823 32.0819 885.82 Q27.1167 890.785 18.6503 890.785 Q9.89745 890.785 4.77305 886.075 Q-0.38317 881.332 -0.38317 873.311 Q-0.38317 866.118 4.2638 861.948 Q8.87893 857.747 16.8361 857.747 M15.1173 863.604 Q10.3112 863.667 7.44665 866.309 Q4.58208 868.919 4.58208 873.248 Q4.58208 878.149 7.35116 881.109 Q10.1202 884.037 15.1492 884.483 L15.1173 863.604 Z\" fill=\"#000000\" fill-rule=\"evenodd\" fill-opacity=\"1\" /><path clip-path=\"url(#clip810)\" d=\"M1.84483 822.481 L7.31933 822.481 Q5.95071 824.964 5.28231 827.478 Q4.58208 829.961 4.58208 832.507 Q4.58208 838.204 8.21053 841.355 Q11.8072 844.506 18.332 844.506 Q24.8569 844.506 28.4853 841.355 Q32.0819 838.204 32.0819 832.507 Q32.0819 829.961 31.4135 827.478 Q30.7133 824.964 29.3447 822.481 L34.7555 822.481 Q35.9014 824.932 36.4743 827.574 Q37.0472 830.184 37.0472 833.144 Q37.0472 841.196 31.9864 845.939 Q26.9257 850.681 18.332 850.681 Q9.61099 850.681 4.61391 845.907 Q-0.38317 841.101 -0.38317 832.762 Q-0.38317 830.056 0.189744 827.478 Q0.730829 824.9 1.84483 822.481 Z\" fill=\"#000000\" fill-rule=\"evenodd\" fill-opacity=\"1\" /><path clip-path=\"url(#clip810)\" d=\"M-9.64527 806.503 L0.4762 806.503 L0.4762 794.44 L5.02768 794.44 L5.02768 806.503 L24.3794 806.503 Q28.7399 806.503 29.9813 805.326 Q31.2226 804.116 31.2226 800.456 L31.2226 794.44 L36.1242 794.44 L36.1242 800.456 Q36.1242 807.235 33.6097 809.813 Q31.0634 812.391 24.3794 812.391 L5.02768 812.391 L5.02768 816.688 L0.4762 816.688 L0.4762 812.391 L-9.64527 812.391 L-9.64527 806.503 Z\" fill=\"#000000\" fill-rule=\"evenodd\" fill-opacity=\"1\" /><path clip-path=\"url(#clip810)\" d=\"M0.4762 786.738 L0.4762 780.881 L36.1242 780.881 L36.1242 786.738 L0.4762 786.738 M-13.401 786.738 L-13.401 780.881 L-5.98499 780.881 L-5.98499 786.738 L-13.401 786.738 Z\" fill=\"#000000\" fill-rule=\"evenodd\" fill-opacity=\"1\" /><path clip-path=\"url(#clip810)\" d=\"M0.4762 772.829 L0.4762 766.622 L30.395 755.482 L0.4762 744.342 L0.4762 738.135 L36.1242 751.503 L36.1242 759.461 L0.4762 772.829 Z\" fill=\"#000000\" fill-rule=\"evenodd\" fill-opacity=\"1\" /><path clip-path=\"url(#clip810)\" d=\"M16.8361 699.559 L19.7006 699.559 L19.7006 726.486 Q25.7481 726.104 28.9309 722.858 Q32.0819 719.579 32.0819 713.755 Q32.0819 710.381 31.2544 707.23 Q30.4269 704.047 28.7718 700.928 L34.3099 700.928 Q35.6467 704.079 36.347 707.389 Q37.0472 710.699 37.0472 714.105 Q37.0472 722.635 32.0819 727.632 Q27.1167 732.597 18.6503 732.597 Q9.89745 732.597 4.77305 727.887 Q-0.38317 723.144 -0.38317 715.123 Q-0.38317 707.93 4.2638 703.761 Q8.87893 699.559 16.8361 699.559 M15.1173 705.416 Q10.3112 705.479 7.44665 708.121 Q4.58208 710.731 4.58208 715.06 Q4.58208 719.961 7.35116 722.921 Q10.1202 725.85 15.1492 726.295 L15.1173 705.416 Z\" fill=\"#000000\" fill-rule=\"evenodd\" fill-opacity=\"1\" /><path clip-path=\"url(#clip810)\" d=\"M0.4762 673.428 L0.4762 667.222 L30.395 656.082 L0.4762 644.942 L0.4762 638.735 L36.1242 652.103 L36.1242 660.06 L0.4762 673.428 Z\" fill=\"#000000\" fill-rule=\"evenodd\" fill-opacity=\"1\" /><path clip-path=\"url(#clip810)\" d=\"M18.2047 614.45 Q18.2047 621.548 19.8279 624.285 Q21.4512 627.022 25.3661 627.022 Q28.4853 627.022 30.3314 624.985 Q32.1456 622.916 32.1456 619.383 Q32.1456 614.513 28.7081 611.585 Q25.2388 608.625 19.5097 608.625 L18.2047 608.625 L18.2047 614.45 M15.7857 602.769 L36.1242 602.769 L36.1242 608.625 L30.7133 608.625 Q33.9598 610.63 35.5194 613.622 Q37.0472 616.614 37.0472 620.943 Q37.0472 626.417 33.9916 629.664 Q30.9043 632.879 25.7481 632.879 Q19.7325 632.879 16.6769 628.868 Q13.6214 624.826 13.6214 616.837 L13.6214 608.625 L13.0485 608.625 Q9.00625 608.625 6.81008 611.299 Q4.58208 613.941 4.58208 618.747 Q4.58208 621.802 5.31414 624.699 Q6.04619 627.595 7.51031 630.269 L2.09946 630.269 Q0.858143 627.054 0.253401 624.03 Q-0.38317 621.006 -0.38317 618.142 Q-0.38317 610.408 3.62723 606.588 Q7.63762 602.769 15.7857 602.769 Z\" fill=\"#000000\" fill-rule=\"evenodd\" fill-opacity=\"1\" /><path clip-path=\"url(#clip810)\" d=\"M-13.401 590.706 L-13.401 584.849 L36.1242 584.849 L36.1242 590.706 L-13.401 590.706 Z\" fill=\"#000000\" fill-rule=\"evenodd\" fill-opacity=\"1\" /><path clip-path=\"url(#clip810)\" d=\"M22.0559 573.2 L0.4762 573.2 L0.4762 567.344 L21.8331 567.344 Q26.8939 567.344 29.4402 565.37 Q31.9546 563.397 31.9546 559.45 Q31.9546 554.708 28.9309 551.97 Q25.9072 549.201 20.6873 549.201 L0.4762 549.201 L0.4762 543.345 L36.1242 543.345 L36.1242 549.201 L30.6496 549.201 Q33.8962 551.334 35.4876 554.167 Q37.0472 556.967 37.0472 560.691 Q37.0472 566.834 33.2278 570.017 Q29.4083 573.2 22.0559 573.2 M-0.38317 558.463 L-0.38317 558.463 Z\" fill=\"#000000\" fill-rule=\"evenodd\" fill-opacity=\"1\" /><path clip-path=\"url(#clip810)\" d=\"M16.8361 500.79 L19.7006 500.79 L19.7006 527.717 Q25.7481 527.335 28.9309 524.089 Q32.0819 520.81 32.0819 514.986 Q32.0819 511.612 31.2544 508.461 Q30.4269 505.278 28.7718 502.159 L34.3099 502.159 Q35.6467 505.31 36.347 508.62 Q37.0472 511.93 37.0472 515.336 Q37.0472 523.866 32.0819 528.863 Q27.1167 533.828 18.6503 533.828 Q9.89745 533.828 4.77305 529.118 Q-0.38317 524.375 -0.38317 516.354 Q-0.38317 509.161 4.2638 504.991 Q8.87893 500.79 16.8361 500.79 M15.1173 506.647 Q10.3112 506.71 7.44665 509.352 Q4.58208 511.962 4.58208 516.291 Q4.58208 521.192 7.35116 524.152 Q10.1202 527.08 15.1492 527.526 L15.1173 506.647 Z\" fill=\"#000000\" fill-rule=\"evenodd\" fill-opacity=\"1\" /><polyline clip-path=\"url(#clip812)\" style=\"stroke:#009af9; stroke-linecap:round; stroke-linejoin:round; stroke-width:4; stroke-opacity:1; fill:none\" points=\"\n  451.312,86.7664 522.197,93.2384 593.083,98.0325 663.968,98.0325 734.854,138.782 805.739,138.782 876.624,161.554 947.51,166.348 1018.4,189.12 1089.28,202.304 \n  1160.17,209.255 1231.05,240.416 1301.94,247.847 1372.82,252.641 1443.71,275.413 1514.59,308.732 1585.48,311.369 1656.36,340.613 1727.25,378.486 1798.14,405.812 \n  1869.02,428.823 1939.91,455.191 2010.79,490.907 2081.68,531.656 2152.56,585.59 2223.45,635.927 2294.33,676.677 2365.22,742.596 2436.1,786.941 2506.99,833.683 \n  2577.87,878.028 2648.76,975.587 2719.65,1037.43 2790.53,1093.76 2861.42,1187.25 2932.3,1238.78 3003.19,1322.68 3074.07,1404.18 \n  \"/>\n<path clip-path=\"url(#clip810)\" d=\"\nM465.3 197.473 L1099.21 197.473 L1099.21 93.7926 L465.3 93.7926  Z\n  \" fill=\"#ffffff\" fill-rule=\"evenodd\" fill-opacity=\"1\"/>\n<polyline clip-path=\"url(#clip810)\" style=\"stroke:#000000; stroke-linecap:round; stroke-linejoin:round; stroke-width:4; stroke-opacity:1; fill:none\" points=\"\n  465.3,197.473 1099.21,197.473 1099.21,93.7926 465.3,93.7926 465.3,197.473 \n  \"/>\n<polyline clip-path=\"url(#clip810)\" style=\"stroke:#009af9; stroke-linecap:round; stroke-linejoin:round; stroke-width:4; stroke-opacity:1; fill:none\" points=\"\n  496.19,145.633 681.532,145.633 \n  \"/>\n<path clip-path=\"url(#clip810)\" d=\"M724.32 139.973 Q720.894 139.973 718.904 142.658 Q716.913 145.32 716.913 149.973 Q716.913 154.626 718.881 157.311 Q720.871 159.973 724.32 159.973 Q727.723 159.973 729.714 157.288 Q731.705 154.602 731.705 149.973 Q731.705 145.366 729.714 142.681 Q727.723 139.973 724.32 139.973 M724.32 136.362 Q729.876 136.362 733.047 139.973 Q736.218 143.584 736.218 149.973 Q736.218 156.339 733.047 159.973 Q729.876 163.584 724.32 163.584 Q718.742 163.584 715.57 159.973 Q712.422 156.339 712.422 149.973 Q712.422 143.584 715.57 139.973 Q718.742 136.362 724.32 136.362 Z\" fill=\"#000000\" fill-rule=\"evenodd\" fill-opacity=\"1\" /><path clip-path=\"url(#clip810)\" d=\"M761.89 149.973 Q761.89 145.274 759.945 142.612 Q758.024 139.927 754.644 139.927 Q751.265 139.927 749.32 142.612 Q747.399 145.274 747.399 149.973 Q747.399 154.672 749.32 157.357 Q751.265 160.019 754.644 160.019 Q758.024 160.019 759.945 157.357 Q761.89 154.672 761.89 149.973 M747.399 140.922 Q748.741 138.607 750.779 137.496 Q752.839 136.362 755.686 136.362 Q760.408 136.362 763.348 140.112 Q766.311 143.862 766.311 149.973 Q766.311 156.084 763.348 159.834 Q760.408 163.584 755.686 163.584 Q752.839 163.584 750.779 162.473 Q748.741 161.339 747.399 159.024 L747.399 162.913 L743.117 162.913 L743.117 126.894 L747.399 126.894 L747.399 140.922 Z\" fill=\"#000000\" fill-rule=\"evenodd\" fill-opacity=\"1\" /><path clip-path=\"url(#clip810)\" d=\"M773.371 136.987 L777.63 136.987 L777.63 163.376 Q777.63 168.329 775.732 170.551 Q773.857 172.774 769.667 172.774 L768.047 172.774 L768.047 169.163 L769.181 169.163 Q771.612 169.163 772.491 168.028 Q773.371 166.917 773.371 163.376 L773.371 136.987 M773.371 126.894 L777.63 126.894 L777.63 132.288 L773.371 132.288 L773.371 126.894 Z\" fill=\"#000000\" fill-rule=\"evenodd\" fill-opacity=\"1\" /><path clip-path=\"url(#clip810)\" d=\"M808.718 148.885 L808.718 150.968 L789.135 150.968 Q789.413 155.366 791.774 157.681 Q794.158 159.973 798.394 159.973 Q800.848 159.973 803.139 159.371 Q805.454 158.769 807.723 157.565 L807.723 161.593 Q805.431 162.565 803.024 163.075 Q800.616 163.584 798.139 163.584 Q791.936 163.584 788.301 159.973 Q784.69 156.362 784.69 150.204 Q784.69 143.839 788.116 140.112 Q791.565 136.362 797.399 136.362 Q802.63 136.362 805.662 139.741 Q808.718 143.098 808.718 148.885 M804.459 147.635 Q804.412 144.14 802.491 142.056 Q800.593 139.973 797.445 139.973 Q793.88 139.973 791.727 141.987 Q789.598 144.001 789.274 147.658 L804.459 147.635 Z\" fill=\"#000000\" fill-rule=\"evenodd\" fill-opacity=\"1\" /><path clip-path=\"url(#clip810)\" d=\"M834.366 137.982 L834.366 141.964 Q832.56 140.968 830.732 140.482 Q828.926 139.973 827.074 139.973 Q822.931 139.973 820.639 142.612 Q818.348 145.228 818.348 149.973 Q818.348 154.718 820.639 157.357 Q822.931 159.973 827.074 159.973 Q828.926 159.973 830.732 159.487 Q832.56 158.977 834.366 157.982 L834.366 161.917 Q832.584 162.751 830.662 163.167 Q828.764 163.584 826.611 163.584 Q820.755 163.584 817.306 159.903 Q813.857 156.223 813.857 149.973 Q813.857 143.63 817.329 139.996 Q820.824 136.362 826.889 136.362 Q828.857 136.362 830.732 136.779 Q832.607 137.172 834.366 137.982 Z\" fill=\"#000000\" fill-rule=\"evenodd\" fill-opacity=\"1\" /><path clip-path=\"url(#clip810)\" d=\"M845.986 129.626 L845.986 136.987 L854.759 136.987 L854.759 140.297 L845.986 140.297 L845.986 154.371 Q845.986 157.542 846.843 158.445 Q847.722 159.348 850.384 159.348 L854.759 159.348 L854.759 162.913 L850.384 162.913 Q845.454 162.913 843.579 161.084 Q841.704 159.232 841.704 154.371 L841.704 140.297 L838.579 140.297 L838.579 136.987 L841.704 136.987 L841.704 129.626 L845.986 129.626 Z\" fill=\"#000000\" fill-rule=\"evenodd\" fill-opacity=\"1\" /><path clip-path=\"url(#clip810)\" d=\"M860.361 136.987 L864.62 136.987 L864.62 162.913 L860.361 162.913 L860.361 136.987 M860.361 126.894 L864.62 126.894 L864.62 132.288 L860.361 132.288 L860.361 126.894 Z\" fill=\"#000000\" fill-rule=\"evenodd\" fill-opacity=\"1\" /><path clip-path=\"url(#clip810)\" d=\"M870.477 136.987 L874.991 136.987 L883.093 158.746 L891.194 136.987 L895.708 136.987 L885.986 162.913 L880.199 162.913 L870.477 136.987 Z\" fill=\"#000000\" fill-rule=\"evenodd\" fill-opacity=\"1\" /><path clip-path=\"url(#clip810)\" d=\"M923.764 148.885 L923.764 150.968 L904.18 150.968 Q904.458 155.366 906.819 157.681 Q909.204 159.973 913.44 159.973 Q915.893 159.973 918.185 159.371 Q920.5 158.769 922.768 157.565 L922.768 161.593 Q920.477 162.565 918.069 163.075 Q915.662 163.584 913.185 163.584 Q906.981 163.584 903.347 159.973 Q899.736 156.362 899.736 150.204 Q899.736 143.839 903.162 140.112 Q906.611 136.362 912.444 136.362 Q917.676 136.362 920.708 139.741 Q923.764 143.098 923.764 148.885 M919.504 147.635 Q919.458 144.14 917.537 142.056 Q915.639 139.973 912.491 139.973 Q908.926 139.973 906.773 141.987 Q904.643 144.001 904.319 147.658 L919.504 147.635 Z\" fill=\"#000000\" fill-rule=\"evenodd\" fill-opacity=\"1\" /><path clip-path=\"url(#clip810)\" d=\"M942.768 136.987 L947.282 136.987 L955.384 158.746 L963.486 136.987 L968 136.987 L958.277 162.913 L952.49 162.913 L942.768 136.987 Z\" fill=\"#000000\" fill-rule=\"evenodd\" fill-opacity=\"1\" /><path clip-path=\"url(#clip810)\" d=\"M985.662 149.88 Q980.5 149.88 978.509 151.061 Q976.518 152.241 976.518 155.089 Q976.518 157.357 978 158.7 Q979.504 160.019 982.074 160.019 Q985.615 160.019 987.745 157.519 Q989.898 154.996 989.898 150.829 L989.898 149.88 L985.662 149.88 M994.157 148.121 L994.157 162.913 L989.898 162.913 L989.898 158.977 Q988.439 161.339 986.263 162.473 Q984.087 163.584 980.939 163.584 Q976.958 163.584 974.597 161.362 Q972.259 159.116 972.259 155.366 Q972.259 150.991 975.175 148.769 Q978.115 146.547 983.925 146.547 L989.898 146.547 L989.898 146.13 Q989.898 143.191 987.953 141.593 Q986.032 139.973 982.537 139.973 Q980.314 139.973 978.208 140.505 Q976.101 141.038 974.157 142.103 L974.157 138.167 Q976.495 137.265 978.694 136.825 Q980.893 136.362 982.976 136.362 Q988.601 136.362 991.379 139.278 Q994.157 142.195 994.157 148.121 Z\" fill=\"#000000\" fill-rule=\"evenodd\" fill-opacity=\"1\" /><path clip-path=\"url(#clip810)\" d=\"M1002.93 126.894 L1007.19 126.894 L1007.19 162.913 L1002.93 162.913 L1002.93 126.894 Z\" fill=\"#000000\" fill-rule=\"evenodd\" fill-opacity=\"1\" /><path clip-path=\"url(#clip810)\" d=\"M1015.66 152.681 L1015.66 136.987 L1019.92 136.987 L1019.92 152.519 Q1019.92 156.2 1021.36 158.052 Q1022.79 159.88 1025.66 159.88 Q1029.11 159.88 1031.1 157.681 Q1033.11 155.482 1033.11 151.686 L1033.11 136.987 L1037.37 136.987 L1037.37 162.913 L1033.11 162.913 L1033.11 158.931 Q1031.56 161.292 1029.5 162.45 Q1027.47 163.584 1024.76 163.584 Q1020.29 163.584 1017.98 160.806 Q1015.66 158.028 1015.66 152.681 M1026.38 136.362 L1026.38 136.362 Z\" fill=\"#000000\" fill-rule=\"evenodd\" fill-opacity=\"1\" /><path clip-path=\"url(#clip810)\" d=\"M1068.32 148.885 L1068.32 150.968 L1048.74 150.968 Q1049.02 155.366 1051.38 157.681 Q1053.76 159.973 1058 159.973 Q1060.45 159.973 1062.74 159.371 Q1065.06 158.769 1067.33 157.565 L1067.33 161.593 Q1065.04 162.565 1062.63 163.075 Q1060.22 163.584 1057.74 163.584 Q1051.54 163.584 1047.91 159.973 Q1044.3 156.362 1044.3 150.204 Q1044.3 143.839 1047.72 140.112 Q1051.17 136.362 1057 136.362 Q1062.24 136.362 1065.27 139.741 Q1068.32 143.098 1068.32 148.885 M1064.06 147.635 Q1064.02 144.14 1062.1 142.056 Q1060.2 139.973 1057.05 139.973 Q1053.49 139.973 1051.33 141.987 Q1049.2 144.001 1048.88 147.658 L1064.06 147.635 Z\" fill=\"#000000\" fill-rule=\"evenodd\" fill-opacity=\"1\" /></svg>\n"
     },
     "execution_count": 253,
     "metadata": {},
     "output_type": "execute_result"
    }
   ],
   "source": [
    "plot(d, result, label = \"objective value\", xlabel = \"delta\", ylabel = \"objective value\", legend = :topleft, size = (800, 400))"
   ]
  },
  {
   "cell_type": "code",
   "execution_count": 254,
   "metadata": {},
   "outputs": [
    {
     "data": {
      "text/plain": [
       "1-element Vector{Int64}:\n",
       " 23"
      ]
     },
     "execution_count": 254,
     "metadata": {},
     "output_type": "execute_result"
    }
   ],
   "source": [
    "index = findall(x -> x == 𝛅, delta_range)"
   ]
  },
  {
   "cell_type": "code",
   "execution_count": 269,
   "metadata": {},
   "outputs": [],
   "source": [
    "# visualize results for a specific delta\n",
    "𝛅 = 2\n",
    "\n",
    "obj, b, s = regress_and_compare(data_club, data_rest, transfers_club, 𝛅);"
   ]
  },
  {
   "cell_type": "code",
   "execution_count": 270,
   "metadata": {},
   "outputs": [
    {
     "data": {
      "text/html": [
       "<div><div style = \"float: left;\"><span>3×63 DataFrame</span></div><div style = \"clear: both;\"></div></div><div class = \"data-frame\" style = \"overflow-x: scroll;\"><table class = \"data-frame\" style = \"margin-bottom: 6px;\"><thead><tr class = \"header\"><th class = \"rowNumber\" style = \"font-weight: bold; text-align: right;\">Row</th><th style = \"text-align: left;\">short_name</th><th style = \"text-align: left;\">overall</th><th style = \"text-align: left;\">potential</th><th style = \"text-align: left;\">value_eur</th><th style = \"text-align: left;\">wage_eur</th><th style = \"text-align: left;\">age</th><th style = \"text-align: left;\">height_cm</th><th style = \"text-align: left;\">weight_kg</th><th style = \"text-align: left;\">club_name</th><th style = \"text-align: left;\">league_level</th><th style = \"text-align: left;\">club_joined</th><th style = \"text-align: left;\">club_contract_valid_until</th><th style = \"text-align: left;\">preferred_foot</th><th style = \"text-align: left;\">weak_foot</th><th style = \"text-align: left;\">skill_moves</th><th style = \"text-align: left;\">international_reputation</th><th style = \"text-align: left;\">release_clause_eur</th><th style = \"text-align: left;\">pace</th><th style = \"text-align: left;\">shooting</th><th style = \"text-align: left;\">passing</th><th style = \"text-align: left;\">dribbling</th><th style = \"text-align: left;\">defending</th><th style = \"text-align: left;\">physic</th><th style = \"text-align: left;\">attacking_crossing</th><th style = \"text-align: left;\">attacking_finishing</th><th style = \"text-align: left;\">attacking_heading_accuracy</th><th style = \"text-align: left;\">attacking_short_passing</th><th style = \"text-align: left;\">attacking_volleys</th><th style = \"text-align: left;\">skill_dribbling</th><th style = \"text-align: left;\">skill_curve</th><th style = \"text-align: left;\">skill_fk_accuracy</th><th style = \"text-align: left;\">skill_long_passing</th><th style = \"text-align: left;\">skill_ball_control</th><th style = \"text-align: left;\">movement_acceleration</th><th style = \"text-align: left;\">movement_sprint_speed</th><th style = \"text-align: left;\">movement_agility</th><th style = \"text-align: left;\">movement_reactions</th><th style = \"text-align: left;\">movement_balance</th><th style = \"text-align: left;\">power_shot_power</th><th style = \"text-align: left;\">power_jumping</th><th style = \"text-align: left;\">power_stamina</th><th style = \"text-align: left;\">power_strength</th><th style = \"text-align: left;\">power_long_shots</th><th style = \"text-align: left;\">mentality_aggression</th><th style = \"text-align: left;\">mentality_interceptions</th><th style = \"text-align: left;\">mentality_positioning</th><th style = \"text-align: left;\">mentality_vision</th><th style = \"text-align: left;\">mentality_penalties</th><th style = \"text-align: left;\">mentality_composure</th><th style = \"text-align: left;\">defending_marking_awareness</th><th style = \"text-align: left;\">defending_standing_tackle</th><th style = \"text-align: left;\">defending_sliding_tackle</th><th style = \"text-align: left;\">goalkeeping_diving</th><th style = \"text-align: left;\">goalkeeping_handling</th><th style = \"text-align: left;\">goalkeeping_kicking</th><th style = \"text-align: left;\">goalkeeping_positioning</th><th style = \"text-align: left;\">goalkeeping_reflexes</th><th style = \"text-align: left;\">position_A</th><th style = \"text-align: left;\">position_D</th><th style = \"text-align: left;\">position_G</th><th style = \"text-align: left;\">position_M</th><th style = \"text-align: left;\">attack_work_rate</th><th style = \"text-align: left;\">defense_work_rate</th></tr><tr class = \"subheader headerLastRow\"><th class = \"rowNumber\" style = \"font-weight: bold; text-align: right;\"></th><th title = \"String31\" style = \"text-align: left;\">String31</th><th title = \"Int64\" style = \"text-align: left;\">Int64</th><th title = \"Int64\" style = \"text-align: left;\">Int64</th><th title = \"Float64\" style = \"text-align: left;\">Float64</th><th title = \"Float64\" style = \"text-align: left;\">Float64</th><th title = \"Int64\" style = \"text-align: left;\">Int64</th><th title = \"Int64\" style = \"text-align: left;\">Int64</th><th title = \"Int64\" style = \"text-align: left;\">Int64</th><th title = \"String\" style = \"text-align: left;\">String</th><th title = \"Float64\" style = \"text-align: left;\">Float64</th><th title = \"Int64\" style = \"text-align: left;\">Int64</th><th title = \"Float64\" style = \"text-align: left;\">Float64</th><th title = \"Int64\" style = \"text-align: left;\">Int64</th><th title = \"Int64\" style = \"text-align: left;\">Int64</th><th title = \"Int64\" style = \"text-align: left;\">Int64</th><th title = \"Int64\" style = \"text-align: left;\">Int64</th><th title = \"Float64\" style = \"text-align: left;\">Float64</th><th title = \"Float64\" style = \"text-align: left;\">Float64</th><th title = \"Float64\" style = \"text-align: left;\">Float64</th><th title = \"Float64\" style = \"text-align: left;\">Float64</th><th title = \"Float64\" style = \"text-align: left;\">Float64</th><th title = \"Float64\" style = \"text-align: left;\">Float64</th><th title = \"Float64\" style = \"text-align: left;\">Float64</th><th title = \"Int64\" style = \"text-align: left;\">Int64</th><th title = \"Int64\" style = \"text-align: left;\">Int64</th><th title = \"Int64\" style = \"text-align: left;\">Int64</th><th title = \"Int64\" style = \"text-align: left;\">Int64</th><th title = \"Int64\" style = \"text-align: left;\">Int64</th><th title = \"Int64\" style = \"text-align: left;\">Int64</th><th title = \"Int64\" style = \"text-align: left;\">Int64</th><th title = \"Int64\" style = \"text-align: left;\">Int64</th><th title = \"Int64\" style = \"text-align: left;\">Int64</th><th title = \"Int64\" style = \"text-align: left;\">Int64</th><th title = \"Int64\" style = \"text-align: left;\">Int64</th><th title = \"Int64\" style = \"text-align: left;\">Int64</th><th title = \"Int64\" style = \"text-align: left;\">Int64</th><th title = \"Int64\" style = \"text-align: left;\">Int64</th><th title = \"Int64\" style = \"text-align: left;\">Int64</th><th title = \"Int64\" style = \"text-align: left;\">Int64</th><th title = \"Int64\" style = \"text-align: left;\">Int64</th><th title = \"Int64\" style = \"text-align: left;\">Int64</th><th title = \"Int64\" style = \"text-align: left;\">Int64</th><th title = \"Int64\" style = \"text-align: left;\">Int64</th><th title = \"Int64\" style = \"text-align: left;\">Int64</th><th title = \"Int64\" style = \"text-align: left;\">Int64</th><th title = \"Int64\" style = \"text-align: left;\">Int64</th><th title = \"Int64\" style = \"text-align: left;\">Int64</th><th title = \"Int64\" style = \"text-align: left;\">Int64</th><th title = \"Int64\" style = \"text-align: left;\">Int64</th><th title = \"Int64\" style = \"text-align: left;\">Int64</th><th title = \"Int64\" style = \"text-align: left;\">Int64</th><th title = \"Int64\" style = \"text-align: left;\">Int64</th><th title = \"Int64\" style = \"text-align: left;\">Int64</th><th title = \"Int64\" style = \"text-align: left;\">Int64</th><th title = \"Int64\" style = \"text-align: left;\">Int64</th><th title = \"Int64\" style = \"text-align: left;\">Int64</th><th title = \"Int64\" style = \"text-align: left;\">Int64</th><th title = \"Int64\" style = \"text-align: left;\">Int64</th><th title = \"Int64\" style = \"text-align: left;\">Int64</th><th title = \"Int64\" style = \"text-align: left;\">Int64</th><th title = \"Int64\" style = \"text-align: left;\">Int64</th><th title = \"Int64\" style = \"text-align: left;\">Int64</th><th title = \"Int64\" style = \"text-align: left;\">Int64</th></tr></thead><tbody><tr><td class = \"rowNumber\" style = \"font-weight: bold; text-align: right;\">1</td><td style = \"text-align: left;\">L. Messi</td><td style = \"text-align: right;\">93</td><td style = \"text-align: right;\">93</td><td style = \"text-align: right;\">7.8e7</td><td style = \"text-align: right;\">320000.0</td><td style = \"text-align: right;\">34</td><td style = \"text-align: right;\">170</td><td style = \"text-align: right;\">72</td><td style = \"text-align: left;\">Paris Saint-Germain</td><td style = \"text-align: right;\">1.0</td><td style = \"text-align: right;\">2021</td><td style = \"text-align: right;\">2023.0</td><td style = \"text-align: right;\">0</td><td style = \"text-align: right;\">4</td><td style = \"text-align: right;\">4</td><td style = \"text-align: right;\">5</td><td style = \"text-align: right;\">1.443e8</td><td style = \"text-align: right;\">85.0</td><td style = \"text-align: right;\">92.0</td><td style = \"text-align: right;\">91.0</td><td style = \"text-align: right;\">95.0</td><td style = \"text-align: right;\">34.0</td><td style = \"text-align: right;\">65.0</td><td style = \"text-align: right;\">85</td><td style = \"text-align: right;\">95</td><td style = \"text-align: right;\">70</td><td style = \"text-align: right;\">91</td><td style = \"text-align: right;\">88</td><td style = \"text-align: right;\">96</td><td style = \"text-align: right;\">93</td><td style = \"text-align: right;\">94</td><td style = \"text-align: right;\">91</td><td style = \"text-align: right;\">96</td><td style = \"text-align: right;\">91</td><td style = \"text-align: right;\">80</td><td style = \"text-align: right;\">91</td><td style = \"text-align: right;\">94</td><td style = \"text-align: right;\">95</td><td style = \"text-align: right;\">86</td><td style = \"text-align: right;\">68</td><td style = \"text-align: right;\">72</td><td style = \"text-align: right;\">69</td><td style = \"text-align: right;\">94</td><td style = \"text-align: right;\">44</td><td style = \"text-align: right;\">40</td><td style = \"text-align: right;\">93</td><td style = \"text-align: right;\">95</td><td style = \"text-align: right;\">75</td><td style = \"text-align: right;\">96</td><td style = \"text-align: right;\">20</td><td style = \"text-align: right;\">35</td><td style = \"text-align: right;\">24</td><td style = \"text-align: right;\">6</td><td style = \"text-align: right;\">11</td><td style = \"text-align: right;\">15</td><td style = \"text-align: right;\">14</td><td style = \"text-align: right;\">8</td><td style = \"text-align: right;\">1</td><td style = \"text-align: right;\">0</td><td style = \"text-align: right;\">0</td><td style = \"text-align: right;\">0</td><td style = \"text-align: right;\">2</td><td style = \"text-align: right;\">1</td></tr><tr><td class = \"rowNumber\" style = \"font-weight: bold; text-align: right;\">2</td><td style = \"text-align: left;\">A. Isak</td><td style = \"text-align: right;\">82</td><td style = \"text-align: right;\">86</td><td style = \"text-align: right;\">4.5e7</td><td style = \"text-align: right;\">37000.0</td><td style = \"text-align: right;\">21</td><td style = \"text-align: right;\">192</td><td style = \"text-align: right;\">77</td><td style = \"text-align: left;\">Real Sociedad</td><td style = \"text-align: right;\">1.0</td><td style = \"text-align: right;\">2021</td><td style = \"text-align: right;\">2026.0</td><td style = \"text-align: right;\">1</td><td style = \"text-align: right;\">5</td><td style = \"text-align: right;\">4</td><td style = \"text-align: right;\">2</td><td style = \"text-align: right;\">9.79e7</td><td style = \"text-align: right;\">84.0</td><td style = \"text-align: right;\">82.0</td><td style = \"text-align: right;\">68.0</td><td style = \"text-align: right;\">79.0</td><td style = \"text-align: right;\">29.0</td><td style = \"text-align: right;\">69.0</td><td style = \"text-align: right;\">61</td><td style = \"text-align: right;\">83</td><td style = \"text-align: right;\">77</td><td style = \"text-align: right;\">79</td><td style = \"text-align: right;\">83</td><td style = \"text-align: right;\">79</td><td style = \"text-align: right;\">70</td><td style = \"text-align: right;\">57</td><td style = \"text-align: right;\">47</td><td style = \"text-align: right;\">82</td><td style = \"text-align: right;\">82</td><td style = \"text-align: right;\">85</td><td style = \"text-align: right;\">79</td><td style = \"text-align: right;\">81</td><td style = \"text-align: right;\">66</td><td style = \"text-align: right;\">84</td><td style = \"text-align: right;\">71</td><td style = \"text-align: right;\">70</td><td style = \"text-align: right;\">75</td><td style = \"text-align: right;\">77</td><td style = \"text-align: right;\">52</td><td style = \"text-align: right;\">29</td><td style = \"text-align: right;\">86</td><td style = \"text-align: right;\">76</td><td style = \"text-align: right;\">75</td><td style = \"text-align: right;\">77</td><td style = \"text-align: right;\">25</td><td style = \"text-align: right;\">21</td><td style = \"text-align: right;\">18</td><td style = \"text-align: right;\">7</td><td style = \"text-align: right;\">6</td><td style = \"text-align: right;\">9</td><td style = \"text-align: right;\">7</td><td style = \"text-align: right;\">11</td><td style = \"text-align: right;\">1</td><td style = \"text-align: right;\">0</td><td style = \"text-align: right;\">0</td><td style = \"text-align: right;\">0</td><td style = \"text-align: right;\">3</td><td style = \"text-align: right;\">1</td></tr><tr><td class = \"rowNumber\" style = \"font-weight: bold; text-align: right;\">3</td><td style = \"text-align: left;\">D. Rice</td><td style = \"text-align: right;\">82</td><td style = \"text-align: right;\">87</td><td style = \"text-align: right;\">4.3e7</td><td style = \"text-align: right;\">69000.0</td><td style = \"text-align: right;\">22</td><td style = \"text-align: right;\">185</td><td style = \"text-align: right;\">80</td><td style = \"text-align: left;\">West Ham United</td><td style = \"text-align: right;\">1.0</td><td style = \"text-align: right;\">2021</td><td style = \"text-align: right;\">2024.0</td><td style = \"text-align: right;\">1</td><td style = \"text-align: right;\">3</td><td style = \"text-align: right;\">2</td><td style = \"text-align: right;\">1</td><td style = \"text-align: right;\">8.49e7</td><td style = \"text-align: right;\">66.0</td><td style = \"text-align: right;\">53.0</td><td style = \"text-align: right;\">71.0</td><td style = \"text-align: right;\">74.0</td><td style = \"text-align: right;\">81.0</td><td style = \"text-align: right;\">79.0</td><td style = \"text-align: right;\">50</td><td style = \"text-align: right;\">42</td><td style = \"text-align: right;\">71</td><td style = \"text-align: right;\">82</td><td style = \"text-align: right;\">40</td><td style = \"text-align: right;\">75</td><td style = \"text-align: right;\">58</td><td style = \"text-align: right;\">53</td><td style = \"text-align: right;\">80</td><td style = \"text-align: right;\">79</td><td style = \"text-align: right;\">64</td><td style = \"text-align: right;\">68</td><td style = \"text-align: right;\">53</td><td style = \"text-align: right;\">77</td><td style = \"text-align: right;\">61</td><td style = \"text-align: right;\">70</td><td style = \"text-align: right;\">74</td><td style = \"text-align: right;\">84</td><td style = \"text-align: right;\">76</td><td style = \"text-align: right;\">60</td><td style = \"text-align: right;\">82</td><td style = \"text-align: right;\">83</td><td style = \"text-align: right;\">54</td><td style = \"text-align: right;\">75</td><td style = \"text-align: right;\">71</td><td style = \"text-align: right;\">80</td><td style = \"text-align: right;\">80</td><td style = \"text-align: right;\">83</td><td style = \"text-align: right;\">80</td><td style = \"text-align: right;\">8</td><td style = \"text-align: right;\">11</td><td style = \"text-align: right;\">14</td><td style = \"text-align: right;\">5</td><td style = \"text-align: right;\">9</td><td style = \"text-align: right;\">0</td><td style = \"text-align: right;\">0</td><td style = \"text-align: right;\">0</td><td style = \"text-align: right;\">1</td><td style = \"text-align: right;\">2</td><td style = \"text-align: right;\">3</td></tr></tbody></table></div>"
      ],
      "text/latex": [
       "\\begin{tabular}{r|ccccccccc}\n",
       "\t& short\\_name & overall & potential & value\\_eur & wage\\_eur & age & height\\_cm & weight\\_kg & \\\\\n",
       "\t\\hline\n",
       "\t& String31 & Int64 & Int64 & Float64 & Float64 & Int64 & Int64 & Int64 & \\\\\n",
       "\t\\hline\n",
       "\t1 & L. Messi & 93 & 93 & 7.8e7 & 320000.0 & 34 & 170 & 72 & $\\dots$ \\\\\n",
       "\t2 & A. Isak & 82 & 86 & 4.5e7 & 37000.0 & 21 & 192 & 77 & $\\dots$ \\\\\n",
       "\t3 & D. Rice & 82 & 87 & 4.3e7 & 69000.0 & 22 & 185 & 80 & $\\dots$ \\\\\n",
       "\\end{tabular}\n"
      ],
      "text/plain": [
       "\u001b[1m3×63 DataFrame\n",
       "\u001b[1m Row │\u001b[1m short_name \u001b[1m overall \u001b[1m potential \u001b[1m value_eur \u001b[1m wage_eur \u001b[1m age   \u001b[1m height_cm \u001b[1m  ⋯\n",
       "     │\u001b[90m String31   \u001b[90m Int64   \u001b[90m Int64     \u001b[90m Float64   \u001b[90m Float64  \u001b[90m Int64 \u001b[90m Int64     \u001b[90m  ⋯\n",
       "─────┼──────────────────────────────────────────────────────────────────────────\n",
       "   1 │ L. Messi         93         93      7.8e7  320000.0     34        170   ⋯\n",
       "   2 │ A. Isak          82         86      4.5e7   37000.0     21        192\n",
       "   3 │ D. Rice          82         87      4.3e7   69000.0     22        185\n",
       "\u001b[36m                                                              56 columns omitted"
      ]
     },
     "execution_count": 270,
     "metadata": {},
     "output_type": "execute_result"
    }
   ],
   "source": [
    "# get the players that we buy and sell\n",
    "buy = data_rest[b .== 1, :]"
   ]
  },
  {
   "cell_type": "code",
   "execution_count": 271,
   "metadata": {},
   "outputs": [
    {
     "data": {
      "text/html": [
       "<div><div style = \"float: left;\"><span>5×63 DataFrame</span></div><div style = \"clear: both;\"></div></div><div class = \"data-frame\" style = \"overflow-x: scroll;\"><table class = \"data-frame\" style = \"margin-bottom: 6px;\"><thead><tr class = \"header\"><th class = \"rowNumber\" style = \"font-weight: bold; text-align: right;\">Row</th><th style = \"text-align: left;\">short_name</th><th style = \"text-align: left;\">overall</th><th style = \"text-align: left;\">potential</th><th style = \"text-align: left;\">value_eur</th><th style = \"text-align: left;\">wage_eur</th><th style = \"text-align: left;\">age</th><th style = \"text-align: left;\">height_cm</th><th style = \"text-align: left;\">weight_kg</th><th style = \"text-align: left;\">club_name</th><th style = \"text-align: left;\">league_level</th><th style = \"text-align: left;\">club_joined</th><th style = \"text-align: left;\">club_contract_valid_until</th><th style = \"text-align: left;\">preferred_foot</th><th style = \"text-align: left;\">weak_foot</th><th style = \"text-align: left;\">skill_moves</th><th style = \"text-align: left;\">international_reputation</th><th style = \"text-align: left;\">release_clause_eur</th><th style = \"text-align: left;\">pace</th><th style = \"text-align: left;\">shooting</th><th style = \"text-align: left;\">passing</th><th style = \"text-align: left;\">dribbling</th><th style = \"text-align: left;\">defending</th><th style = \"text-align: left;\">physic</th><th style = \"text-align: left;\">attacking_crossing</th><th style = \"text-align: left;\">attacking_finishing</th><th style = \"text-align: left;\">attacking_heading_accuracy</th><th style = \"text-align: left;\">attacking_short_passing</th><th style = \"text-align: left;\">attacking_volleys</th><th style = \"text-align: left;\">skill_dribbling</th><th style = \"text-align: left;\">skill_curve</th><th style = \"text-align: left;\">skill_fk_accuracy</th><th style = \"text-align: left;\">skill_long_passing</th><th style = \"text-align: left;\">skill_ball_control</th><th style = \"text-align: left;\">movement_acceleration</th><th style = \"text-align: left;\">movement_sprint_speed</th><th style = \"text-align: left;\">movement_agility</th><th style = \"text-align: left;\">movement_reactions</th><th style = \"text-align: left;\">movement_balance</th><th style = \"text-align: left;\">power_shot_power</th><th style = \"text-align: left;\">power_jumping</th><th style = \"text-align: left;\">power_stamina</th><th style = \"text-align: left;\">power_strength</th><th style = \"text-align: left;\">power_long_shots</th><th style = \"text-align: left;\">mentality_aggression</th><th style = \"text-align: left;\">mentality_interceptions</th><th style = \"text-align: left;\">mentality_positioning</th><th style = \"text-align: left;\">mentality_vision</th><th style = \"text-align: left;\">mentality_penalties</th><th style = \"text-align: left;\">mentality_composure</th><th style = \"text-align: left;\">defending_marking_awareness</th><th style = \"text-align: left;\">defending_standing_tackle</th><th style = \"text-align: left;\">defending_sliding_tackle</th><th style = \"text-align: left;\">goalkeeping_diving</th><th style = \"text-align: left;\">goalkeeping_handling</th><th style = \"text-align: left;\">goalkeeping_kicking</th><th style = \"text-align: left;\">goalkeeping_positioning</th><th style = \"text-align: left;\">goalkeeping_reflexes</th><th style = \"text-align: left;\">position_A</th><th style = \"text-align: left;\">position_D</th><th style = \"text-align: left;\">position_G</th><th style = \"text-align: left;\">position_M</th><th style = \"text-align: left;\">attack_work_rate</th><th style = \"text-align: left;\">defense_work_rate</th></tr><tr class = \"subheader headerLastRow\"><th class = \"rowNumber\" style = \"font-weight: bold; text-align: right;\"></th><th title = \"String31\" style = \"text-align: left;\">String31</th><th title = \"Int64\" style = \"text-align: left;\">Int64</th><th title = \"Int64\" style = \"text-align: left;\">Int64</th><th title = \"Float64\" style = \"text-align: left;\">Float64</th><th title = \"Float64\" style = \"text-align: left;\">Float64</th><th title = \"Int64\" style = \"text-align: left;\">Int64</th><th title = \"Int64\" style = \"text-align: left;\">Int64</th><th title = \"Int64\" style = \"text-align: left;\">Int64</th><th title = \"String\" style = \"text-align: left;\">String</th><th title = \"Float64\" style = \"text-align: left;\">Float64</th><th title = \"Int64\" style = \"text-align: left;\">Int64</th><th title = \"Float64\" style = \"text-align: left;\">Float64</th><th title = \"Int64\" style = \"text-align: left;\">Int64</th><th title = \"Int64\" style = \"text-align: left;\">Int64</th><th title = \"Int64\" style = \"text-align: left;\">Int64</th><th title = \"Int64\" style = \"text-align: left;\">Int64</th><th title = \"Float64\" style = \"text-align: left;\">Float64</th><th title = \"Float64\" style = \"text-align: left;\">Float64</th><th title = \"Float64\" style = \"text-align: left;\">Float64</th><th title = \"Float64\" style = \"text-align: left;\">Float64</th><th title = \"Float64\" style = \"text-align: left;\">Float64</th><th title = \"Float64\" style = \"text-align: left;\">Float64</th><th title = \"Float64\" style = \"text-align: left;\">Float64</th><th title = \"Int64\" style = \"text-align: left;\">Int64</th><th title = \"Int64\" style = \"text-align: left;\">Int64</th><th title = \"Int64\" style = \"text-align: left;\">Int64</th><th title = \"Int64\" style = \"text-align: left;\">Int64</th><th title = \"Int64\" style = \"text-align: left;\">Int64</th><th title = \"Int64\" style = \"text-align: left;\">Int64</th><th title = \"Int64\" style = \"text-align: left;\">Int64</th><th title = \"Int64\" style = \"text-align: left;\">Int64</th><th title = \"Int64\" style = \"text-align: left;\">Int64</th><th title = \"Int64\" style = \"text-align: left;\">Int64</th><th title = \"Int64\" style = \"text-align: left;\">Int64</th><th title = \"Int64\" style = \"text-align: left;\">Int64</th><th title = \"Int64\" style = \"text-align: left;\">Int64</th><th title = \"Int64\" style = \"text-align: left;\">Int64</th><th title = \"Int64\" style = \"text-align: left;\">Int64</th><th title = \"Int64\" style = \"text-align: left;\">Int64</th><th title = \"Int64\" style = \"text-align: left;\">Int64</th><th title = \"Int64\" style = \"text-align: left;\">Int64</th><th title = \"Int64\" style = \"text-align: left;\">Int64</th><th title = \"Int64\" style = \"text-align: left;\">Int64</th><th title = \"Int64\" style = \"text-align: left;\">Int64</th><th title = \"Int64\" style = \"text-align: left;\">Int64</th><th title = \"Int64\" style = \"text-align: left;\">Int64</th><th title = \"Int64\" style = \"text-align: left;\">Int64</th><th title = \"Int64\" style = \"text-align: left;\">Int64</th><th title = \"Int64\" style = \"text-align: left;\">Int64</th><th title = \"Int64\" style = \"text-align: left;\">Int64</th><th title = \"Int64\" style = \"text-align: left;\">Int64</th><th title = \"Int64\" style = \"text-align: left;\">Int64</th><th title = \"Int64\" style = \"text-align: left;\">Int64</th><th title = \"Int64\" style = \"text-align: left;\">Int64</th><th title = \"Int64\" style = \"text-align: left;\">Int64</th><th title = \"Int64\" style = \"text-align: left;\">Int64</th><th title = \"Int64\" style = \"text-align: left;\">Int64</th><th title = \"Int64\" style = \"text-align: left;\">Int64</th><th title = \"Int64\" style = \"text-align: left;\">Int64</th><th title = \"Int64\" style = \"text-align: left;\">Int64</th><th title = \"Int64\" style = \"text-align: left;\">Int64</th><th title = \"Int64\" style = \"text-align: left;\">Int64</th><th title = \"Int64\" style = \"text-align: left;\">Int64</th></tr></thead><tbody><tr><td class = \"rowNumber\" style = \"font-weight: bold; text-align: right;\">1</td><td style = \"text-align: left;\">Z. Ibrahimović</td><td style = \"text-align: right;\">84</td><td style = \"text-align: right;\">84</td><td style = \"text-align: right;\">1.45e7</td><td style = \"text-align: right;\">51000.0</td><td style = \"text-align: right;\">39</td><td style = \"text-align: right;\">195</td><td style = \"text-align: right;\">95</td><td style = \"text-align: left;\">AC Milan</td><td style = \"text-align: right;\">1.0</td><td style = \"text-align: right;\">2021</td><td style = \"text-align: right;\">2022.0</td><td style = \"text-align: right;\">1</td><td style = \"text-align: right;\">4</td><td style = \"text-align: right;\">5</td><td style = \"text-align: right;\">5</td><td style = \"text-align: right;\">2.47e7</td><td style = \"text-align: right;\">65.0</td><td style = \"text-align: right;\">87.0</td><td style = \"text-align: right;\">78.0</td><td style = \"text-align: right;\">79.0</td><td style = \"text-align: right;\">34.0</td><td style = \"text-align: right;\">77.0</td><td style = \"text-align: right;\">72</td><td style = \"text-align: right;\">86</td><td style = \"text-align: right;\">83</td><td style = \"text-align: right;\">80</td><td style = \"text-align: right;\">88</td><td style = \"text-align: right;\">78</td><td style = \"text-align: right;\">80</td><td style = \"text-align: right;\">75</td><td style = \"text-align: right;\">73</td><td style = \"text-align: right;\">86</td><td style = \"text-align: right;\">64</td><td style = \"text-align: right;\">66</td><td style = \"text-align: right;\">71</td><td style = \"text-align: right;\">83</td><td style = \"text-align: right;\">53</td><td style = \"text-align: right;\">88</td><td style = \"text-align: right;\">79</td><td style = \"text-align: right;\">52</td><td style = \"text-align: right;\">87</td><td style = \"text-align: right;\">88</td><td style = \"text-align: right;\">84</td><td style = \"text-align: right;\">20</td><td style = \"text-align: right;\">89</td><td style = \"text-align: right;\">84</td><td style = \"text-align: right;\">83</td><td style = \"text-align: right;\">90</td><td style = \"text-align: right;\">28</td><td style = \"text-align: right;\">37</td><td style = \"text-align: right;\">24</td><td style = \"text-align: right;\">13</td><td style = \"text-align: right;\">15</td><td style = \"text-align: right;\">10</td><td style = \"text-align: right;\">9</td><td style = \"text-align: right;\">12</td><td style = \"text-align: right;\">1</td><td style = \"text-align: right;\">0</td><td style = \"text-align: right;\">0</td><td style = \"text-align: right;\">0</td><td style = \"text-align: right;\">2</td><td style = \"text-align: right;\">1</td></tr><tr><td class = \"rowNumber\" style = \"font-weight: bold; text-align: right;\">2</td><td style = \"text-align: left;\">O. Giroud</td><td style = \"text-align: right;\">79</td><td style = \"text-align: right;\">79</td><td style = \"text-align: right;\">8.5e6</td><td style = \"text-align: right;\">48000.0</td><td style = \"text-align: right;\">34</td><td style = \"text-align: right;\">193</td><td style = \"text-align: right;\">91</td><td style = \"text-align: left;\">AC Milan</td><td style = \"text-align: right;\">1.0</td><td style = \"text-align: right;\">2021</td><td style = \"text-align: right;\">2024.0</td><td style = \"text-align: right;\">0</td><td style = \"text-align: right;\">3</td><td style = \"text-align: right;\">3</td><td style = \"text-align: right;\">3</td><td style = \"text-align: right;\">1.45e7</td><td style = \"text-align: right;\">39.0</td><td style = \"text-align: right;\">80.0</td><td style = \"text-align: right;\">70.0</td><td style = \"text-align: right;\">71.0</td><td style = \"text-align: right;\">42.0</td><td style = \"text-align: right;\">77.0</td><td style = \"text-align: right;\">64</td><td style = \"text-align: right;\">82</td><td style = \"text-align: right;\">90</td><td style = \"text-align: right;\">75</td><td style = \"text-align: right;\">82</td><td style = \"text-align: right;\">69</td><td style = \"text-align: right;\">70</td><td style = \"text-align: right;\">65</td><td style = \"text-align: right;\">58</td><td style = \"text-align: right;\">81</td><td style = \"text-align: right;\">34</td><td style = \"text-align: right;\">43</td><td style = \"text-align: right;\">54</td><td style = \"text-align: right;\">81</td><td style = \"text-align: right;\">53</td><td style = \"text-align: right;\">84</td><td style = \"text-align: right;\">82</td><td style = \"text-align: right;\">54</td><td style = \"text-align: right;\">88</td><td style = \"text-align: right;\">66</td><td style = \"text-align: right;\">76</td><td style = \"text-align: right;\">42</td><td style = \"text-align: right;\">82</td><td style = \"text-align: right;\">77</td><td style = \"text-align: right;\">90</td><td style = \"text-align: right;\">79</td><td style = \"text-align: right;\">37</td><td style = \"text-align: right;\">37</td><td style = \"text-align: right;\">20</td><td style = \"text-align: right;\">12</td><td style = \"text-align: right;\">15</td><td style = \"text-align: right;\">11</td><td style = \"text-align: right;\">6</td><td style = \"text-align: right;\">5</td><td style = \"text-align: right;\">1</td><td style = \"text-align: right;\">0</td><td style = \"text-align: right;\">0</td><td style = \"text-align: right;\">0</td><td style = \"text-align: right;\">2</td><td style = \"text-align: right;\">2</td></tr><tr><td class = \"rowNumber\" style = \"font-weight: bold; text-align: right;\">3</td><td style = \"text-align: left;\">R. Krunić</td><td style = \"text-align: right;\">75</td><td style = \"text-align: right;\">75</td><td style = \"text-align: right;\">6.0e6</td><td style = \"text-align: right;\">33000.0</td><td style = \"text-align: right;\">27</td><td style = \"text-align: right;\">184</td><td style = \"text-align: right;\">74</td><td style = \"text-align: left;\">AC Milan</td><td style = \"text-align: right;\">1.0</td><td style = \"text-align: right;\">2021</td><td style = \"text-align: right;\">2024.0</td><td style = \"text-align: right;\">1</td><td style = \"text-align: right;\">3</td><td style = \"text-align: right;\">3</td><td style = \"text-align: right;\">1</td><td style = \"text-align: right;\">1.02e7</td><td style = \"text-align: right;\">67.0</td><td style = \"text-align: right;\">72.0</td><td style = \"text-align: right;\">74.0</td><td style = \"text-align: right;\">75.0</td><td style = \"text-align: right;\">68.0</td><td style = \"text-align: right;\">70.0</td><td style = \"text-align: right;\">68</td><td style = \"text-align: right;\">70</td><td style = \"text-align: right;\">66</td><td style = \"text-align: right;\">78</td><td style = \"text-align: right;\">66</td><td style = \"text-align: right;\">76</td><td style = \"text-align: right;\">68</td><td style = \"text-align: right;\">70</td><td style = \"text-align: right;\">76</td><td style = \"text-align: right;\">78</td><td style = \"text-align: right;\">68</td><td style = \"text-align: right;\">66</td><td style = \"text-align: right;\">73</td><td style = \"text-align: right;\">73</td><td style = \"text-align: right;\">68</td><td style = \"text-align: right;\">76</td><td style = \"text-align: right;\">74</td><td style = \"text-align: right;\">72</td><td style = \"text-align: right;\">71</td><td style = \"text-align: right;\">76</td><td style = \"text-align: right;\">64</td><td style = \"text-align: right;\">66</td><td style = \"text-align: right;\">70</td><td style = \"text-align: right;\">74</td><td style = \"text-align: right;\">66</td><td style = \"text-align: right;\">68</td><td style = \"text-align: right;\">66</td><td style = \"text-align: right;\">71</td><td style = \"text-align: right;\">67</td><td style = \"text-align: right;\">14</td><td style = \"text-align: right;\">9</td><td style = \"text-align: right;\">12</td><td style = \"text-align: right;\">10</td><td style = \"text-align: right;\">14</td><td style = \"text-align: right;\">0</td><td style = \"text-align: right;\">0</td><td style = \"text-align: right;\">0</td><td style = \"text-align: right;\">1</td><td style = \"text-align: right;\">3</td><td style = \"text-align: right;\">2</td></tr><tr><td class = \"rowNumber\" style = \"font-weight: bold; text-align: right;\">4</td><td style = \"text-align: left;\">F. Ballo-Touré</td><td style = \"text-align: right;\">72</td><td style = \"text-align: right;\">76</td><td style = \"text-align: right;\">3.1e6</td><td style = \"text-align: right;\">20000.0</td><td style = \"text-align: right;\">24</td><td style = \"text-align: right;\">182</td><td style = \"text-align: right;\">70</td><td style = \"text-align: left;\">AC Milan</td><td style = \"text-align: right;\">1.0</td><td style = \"text-align: right;\">2021</td><td style = \"text-align: right;\">2025.0</td><td style = \"text-align: right;\">0</td><td style = \"text-align: right;\">2</td><td style = \"text-align: right;\">3</td><td style = \"text-align: right;\">1</td><td style = \"text-align: right;\">5.5e6</td><td style = \"text-align: right;\">85.0</td><td style = \"text-align: right;\">51.0</td><td style = \"text-align: right;\">67.0</td><td style = \"text-align: right;\">70.0</td><td style = \"text-align: right;\">66.0</td><td style = \"text-align: right;\">72.0</td><td style = \"text-align: right;\">71</td><td style = \"text-align: right;\">49</td><td style = \"text-align: right;\">58</td><td style = \"text-align: right;\">71</td><td style = \"text-align: right;\">39</td><td style = \"text-align: right;\">72</td><td style = \"text-align: right;\">68</td><td style = \"text-align: right;\">49</td><td style = \"text-align: right;\">65</td><td style = \"text-align: right;\">71</td><td style = \"text-align: right;\">86</td><td style = \"text-align: right;\">85</td><td style = \"text-align: right;\">69</td><td style = \"text-align: right;\">65</td><td style = \"text-align: right;\">69</td><td style = \"text-align: right;\">56</td><td style = \"text-align: right;\">62</td><td style = \"text-align: right;\">76</td><td style = \"text-align: right;\">71</td><td style = \"text-align: right;\">52</td><td style = \"text-align: right;\">74</td><td style = \"text-align: right;\">65</td><td style = \"text-align: right;\">64</td><td style = \"text-align: right;\">64</td><td style = \"text-align: right;\">53</td><td style = \"text-align: right;\">63</td><td style = \"text-align: right;\">66</td><td style = \"text-align: right;\">70</td><td style = \"text-align: right;\">68</td><td style = \"text-align: right;\">14</td><td style = \"text-align: right;\">14</td><td style = \"text-align: right;\">7</td><td style = \"text-align: right;\">11</td><td style = \"text-align: right;\">8</td><td style = \"text-align: right;\">0</td><td style = \"text-align: right;\">1</td><td style = \"text-align: right;\">0</td><td style = \"text-align: right;\">0</td><td style = \"text-align: right;\">3</td><td style = \"text-align: right;\">2</td></tr><tr><td class = \"rowNumber\" style = \"font-weight: bold; text-align: right;\">5</td><td style = \"text-align: left;\">D. Maldini</td><td style = \"text-align: right;\">59</td><td style = \"text-align: right;\">77</td><td style = \"text-align: right;\">575000.0</td><td style = \"text-align: right;\">3000.0</td><td style = \"text-align: right;\">19</td><td style = \"text-align: right;\">186</td><td style = \"text-align: right;\">70</td><td style = \"text-align: left;\">AC Milan</td><td style = \"text-align: right;\">1.0</td><td style = \"text-align: right;\">2021</td><td style = \"text-align: right;\">2024.0</td><td style = \"text-align: right;\">1</td><td style = \"text-align: right;\">4</td><td style = \"text-align: right;\">3</td><td style = \"text-align: right;\">1</td><td style = \"text-align: right;\">1.3e6</td><td style = \"text-align: right;\">68.0</td><td style = \"text-align: right;\">51.0</td><td style = \"text-align: right;\">59.0</td><td style = \"text-align: right;\">61.0</td><td style = \"text-align: right;\">38.0</td><td style = \"text-align: right;\">50.0</td><td style = \"text-align: right;\">52</td><td style = \"text-align: right;\">48</td><td style = \"text-align: right;\">48</td><td style = \"text-align: right;\">66</td><td style = \"text-align: right;\">48</td><td style = \"text-align: right;\">60</td><td style = \"text-align: right;\">60</td><td style = \"text-align: right;\">60</td><td style = \"text-align: right;\">58</td><td style = \"text-align: right;\">62</td><td style = \"text-align: right;\">67</td><td style = \"text-align: right;\">69</td><td style = \"text-align: right;\">70</td><td style = \"text-align: right;\">56</td><td style = \"text-align: right;\">66</td><td style = \"text-align: right;\">60</td><td style = \"text-align: right;\">54</td><td style = \"text-align: right;\">47</td><td style = \"text-align: right;\">53</td><td style = \"text-align: right;\">50</td><td style = \"text-align: right;\">46</td><td style = \"text-align: right;\">34</td><td style = \"text-align: right;\">54</td><td style = \"text-align: right;\">56</td><td style = \"text-align: right;\">52</td><td style = \"text-align: right;\">55</td><td style = \"text-align: right;\">30</td><td style = \"text-align: right;\">44</td><td style = \"text-align: right;\">40</td><td style = \"text-align: right;\">12</td><td style = \"text-align: right;\">12</td><td style = \"text-align: right;\">14</td><td style = \"text-align: right;\">13</td><td style = \"text-align: right;\">14</td><td style = \"text-align: right;\">0</td><td style = \"text-align: right;\">0</td><td style = \"text-align: right;\">0</td><td style = \"text-align: right;\">1</td><td style = \"text-align: right;\">2</td><td style = \"text-align: right;\">2</td></tr></tbody></table></div>"
      ],
      "text/latex": [
       "\\begin{tabular}{r|ccccccccc}\n",
       "\t& short\\_name & overall & potential & value\\_eur & wage\\_eur & age & height\\_cm & weight\\_kg & \\\\\n",
       "\t\\hline\n",
       "\t& String31 & Int64 & Int64 & Float64 & Float64 & Int64 & Int64 & Int64 & \\\\\n",
       "\t\\hline\n",
       "\t1 & Z. Ibrahimović & 84 & 84 & 1.45e7 & 51000.0 & 39 & 195 & 95 & $\\dots$ \\\\\n",
       "\t2 & O. Giroud & 79 & 79 & 8.5e6 & 48000.0 & 34 & 193 & 91 & $\\dots$ \\\\\n",
       "\t3 & R. Krunić & 75 & 75 & 6.0e6 & 33000.0 & 27 & 184 & 74 & $\\dots$ \\\\\n",
       "\t4 & F. Ballo-Touré & 72 & 76 & 3.1e6 & 20000.0 & 24 & 182 & 70 & $\\dots$ \\\\\n",
       "\t5 & D. Maldini & 59 & 77 & 575000.0 & 3000.0 & 19 & 186 & 70 & $\\dots$ \\\\\n",
       "\\end{tabular}\n"
      ],
      "text/plain": [
       "\u001b[1m5×63 DataFrame\n",
       "\u001b[1m Row │\u001b[1m short_name     \u001b[1m overall \u001b[1m potential \u001b[1m value_eur   \u001b[1m wage_eur \u001b[1m age   \u001b[1m heigh ⋯\n",
       "     │\u001b[90m String31       \u001b[90m Int64   \u001b[90m Int64     \u001b[90m Float64     \u001b[90m Float64  \u001b[90m Int64 \u001b[90m Int64 ⋯\n",
       "─────┼──────────────────────────────────────────────────────────────────────────\n",
       "   1 │ Z. Ibrahimović       84         84       1.45e7   51000.0     39        ⋯\n",
       "   2 │ O. Giroud            79         79       8.5e6    48000.0     34\n",
       "   3 │ R. Krunić            75         75       6.0e6    33000.0     27\n",
       "   4 │ F. Ballo-Touré       72         76       3.1e6    20000.0     24\n",
       "   5 │ D. Maldini           59         77  575000.0       3000.0     19        ⋯\n",
       "\u001b[36m                                                              57 columns omitted"
      ]
     },
     "execution_count": 271,
     "metadata": {},
     "output_type": "execute_result"
    }
   ],
   "source": [
    "sell = data_club[s .== 1, :]"
   ]
  },
  {
   "cell_type": "markdown",
   "metadata": {},
   "source": [
    "# Useless because objective function is linear"
   ]
  },
  {
   "cell_type": "markdown",
   "metadata": {},
   "source": [
    "## Approach 2: KNN"
   ]
  },
  {
   "cell_type": "code",
   "execution_count": 35,
   "metadata": {},
   "outputs": [],
   "source": [
    "num_neighbors = 6\n",
    ";"
   ]
  },
  {
   "cell_type": "code",
   "execution_count": 84,
   "metadata": {},
   "outputs": [],
   "source": [
    "v = new_data[: , \"value_eur\"]; # find value for all players"
   ]
  },
  {
   "cell_type": "code",
   "execution_count": 85,
   "metadata": {},
   "outputs": [
    {
     "data": {
      "text/plain": [
       "find_nearest_neighbors (generic function with 1 method)"
      ]
     },
     "execution_count": 85,
     "metadata": {},
     "output_type": "execute_result"
    }
   ],
   "source": [
    "# knn is not used for predicting the transfer fee, but for finding the nearest players to the one being considered\n",
    "function find_nearest_neighbors(new_data)\n",
    "\n",
    "    new_data = new_data[:, names(new_data) .!= \"short_name\"]\n",
    "    new_data = new_data[: , names(new_data) .!= \"club_name\"]\n",
    "    \n",
    "    # train k-Nearest Neighbors Model\n",
    "    df = vcat(train_valid, test)\n",
    "\n",
    "    xDataTraining = Matrix(get_features(df))\n",
    "    yDataTraining = get_target(df)\n",
    "\n",
    "    xDataNew = Matrix(new_data)\n",
    "\n",
    "    kdtree = KDTree(xDataTraining'; leafsize = 10)\n",
    "\n",
    "    # indices returns for each player the indices of the k nearest neighbors\n",
    "    indices, distance = knn(kdtree, xDataNew', num_neighbors)\n",
    "\n",
    "    return indices\n",
    "end"
   ]
  },
  {
   "cell_type": "code",
   "execution_count": 83,
   "metadata": {},
   "outputs": [
    {
     "data": {
      "text/plain": [
       "k_near_neigh (generic function with 2 methods)"
      ]
     },
     "execution_count": 83,
     "metadata": {},
     "output_type": "execute_result"
    }
   ],
   "source": [
    "function k_near_neigh(data_club, data_rest, transfers_club, num_neighbors)\n",
    "\n",
    "    # get parameters\n",
    "    n, N_c, N_min, N_max, B_max, S_max, p_o, r_o, v_o, m_o, a_o, p_c, r_c, v_c, m_c, a_c, 𝛅, 𝛾 = get_parameters(data_club, data_rest, transfers_club)\n",
    "\n",
    "    # find nearest neighbors\n",
    "    indices_club = find_nearest_neighbors(data_club)\n",
    "    indices_rest = find_nearest_neighbors(data_rest)\n",
    "\n",
    "    # define model\n",
    "    model = Model(() -> Gurobi.Optimizer(GRB_ENV))\n",
    "    set_optimizer_attributes(model, \"OutputFlag\" => 0, \"TimeLimit\" => 60)\n",
    "\n",
    "    # define variables\n",
    "    @variable(model, b[i = 1:n], Bin) # 1 if we buy player i, 0 otherwise\n",
    "    @variable(model, s[j = 1:N_c], Bin) # 1 if we sell player j, 0 otherwise\n",
    "\n",
    "    # define objective\n",
    "    @objective(model, Max, sum(sum(s[j] * v[l] for l in indices_club[j]) / num_neighbors for j = 1:N_c) - \n",
    "            sum(sum(b[i] * v[l] for l in indices_rest[i]) / num_neighbors for i = 1:n))\n",
    "\n",
    "    # define constraints\n",
    "    @constraint(model, sum((1 - s[j]) * m_c[j] for j = 1:N_c) + sum(b[i] * m_o[i] for i = 1:n) >= (sum(m_c[j] for j = 1:N_c)/N_c + 𝛅) * (N_c + sum(b[i] for i = 1:n) - sum(s[j] for j = 1:N_c)))\n",
    "    @constraint(model, sum(b[i] for i = 1:n) <= B_max) # maximum number of players that can be bought\n",
    "    @constraint(model, sum(s[j] for j = 1:N_c) <= S_max) # maximum number of players that can be sold\n",
    "    @constraint(model, N_min <= N_c + sum(b[i] for i = 1:n) - sum(s[j] for j = 1:N_c) <= N_max) # number of players in the club after the transfer window\n",
    "    @constraint(model, sum((1 - s[j]) * a_c[j] for j = 1:N_c) + sum(b[i] * a_o[i] for i = 1:n) <= (sum(a_c[j] for j = 1:N_c)/N_c + 𝛾) * (N_c + sum(b[i] for i = 1:n) - sum(s[j] for j = 1:N_c))) # average age of the team\n",
    "\n",
    "    # solve model\n",
    "    optimize!(model)\n",
    "\n",
    "    return objective_value(model), value.(b), value.(s)\n",
    "end"
   ]
  },
  {
   "cell_type": "code",
   "execution_count": null,
   "metadata": {},
   "outputs": [],
   "source": [
    "obj_knn, b_knn, s_knn = k_near_neigh(data_club, data_rest, transfers_club, num_neighbors);"
   ]
  },
  {
   "cell_type": "code",
   "execution_count": 81,
   "metadata": {},
   "outputs": [
    {
     "data": {
      "text/html": [
       "<div><div style = \"float: left;\"><span>1×63 DataFrame</span></div><div style = \"clear: both;\"></div></div><div class = \"data-frame\" style = \"overflow-x: scroll;\"><table class = \"data-frame\" style = \"margin-bottom: 6px;\"><thead><tr class = \"header\"><th class = \"rowNumber\" style = \"font-weight: bold; text-align: right;\">Row</th><th style = \"text-align: left;\">short_name</th><th style = \"text-align: left;\">overall</th><th style = \"text-align: left;\">potential</th><th style = \"text-align: left;\">value_eur</th><th style = \"text-align: left;\">wage_eur</th><th style = \"text-align: left;\">age</th><th style = \"text-align: left;\">height_cm</th><th style = \"text-align: left;\">weight_kg</th><th style = \"text-align: left;\">club_name</th><th style = \"text-align: left;\">league_level</th><th style = \"text-align: left;\">club_joined</th><th style = \"text-align: left;\">club_contract_valid_until</th><th style = \"text-align: left;\">preferred_foot</th><th style = \"text-align: left;\">weak_foot</th><th style = \"text-align: left;\">skill_moves</th><th style = \"text-align: left;\">international_reputation</th><th style = \"text-align: left;\">release_clause_eur</th><th style = \"text-align: left;\">pace</th><th style = \"text-align: left;\">shooting</th><th style = \"text-align: left;\">passing</th><th style = \"text-align: left;\">dribbling</th><th style = \"text-align: left;\">defending</th><th style = \"text-align: left;\">physic</th><th style = \"text-align: left;\">attacking_crossing</th><th style = \"text-align: left;\">attacking_finishing</th><th style = \"text-align: left;\">attacking_heading_accuracy</th><th style = \"text-align: left;\">attacking_short_passing</th><th style = \"text-align: left;\">attacking_volleys</th><th style = \"text-align: left;\">skill_dribbling</th><th style = \"text-align: left;\">skill_curve</th><th style = \"text-align: left;\">skill_fk_accuracy</th><th style = \"text-align: left;\">skill_long_passing</th><th style = \"text-align: left;\">skill_ball_control</th><th style = \"text-align: left;\">movement_acceleration</th><th style = \"text-align: left;\">movement_sprint_speed</th><th style = \"text-align: left;\">movement_agility</th><th style = \"text-align: left;\">movement_reactions</th><th style = \"text-align: left;\">movement_balance</th><th style = \"text-align: left;\">power_shot_power</th><th style = \"text-align: left;\">power_jumping</th><th style = \"text-align: left;\">power_stamina</th><th style = \"text-align: left;\">power_strength</th><th style = \"text-align: left;\">power_long_shots</th><th style = \"text-align: left;\">mentality_aggression</th><th style = \"text-align: left;\">mentality_interceptions</th><th style = \"text-align: left;\">mentality_positioning</th><th style = \"text-align: left;\">mentality_vision</th><th style = \"text-align: left;\">mentality_penalties</th><th style = \"text-align: left;\">mentality_composure</th><th style = \"text-align: left;\">defending_marking_awareness</th><th style = \"text-align: left;\">defending_standing_tackle</th><th style = \"text-align: left;\">defending_sliding_tackle</th><th style = \"text-align: left;\">goalkeeping_diving</th><th style = \"text-align: left;\">goalkeeping_handling</th><th style = \"text-align: left;\">goalkeeping_kicking</th><th style = \"text-align: left;\">goalkeeping_positioning</th><th style = \"text-align: left;\">goalkeeping_reflexes</th><th style = \"text-align: left;\">position_A</th><th style = \"text-align: left;\">position_D</th><th style = \"text-align: left;\">position_G</th><th style = \"text-align: left;\">position_M</th><th style = \"text-align: left;\">attack_work_rate</th><th style = \"text-align: left;\">defense_work_rate</th></tr><tr class = \"subheader headerLastRow\"><th class = \"rowNumber\" style = \"font-weight: bold; text-align: right;\"></th><th title = \"String31\" style = \"text-align: left;\">String31</th><th title = \"Int64\" style = \"text-align: left;\">Int64</th><th title = \"Int64\" style = \"text-align: left;\">Int64</th><th title = \"Float64\" style = \"text-align: left;\">Float64</th><th title = \"Float64\" style = \"text-align: left;\">Float64</th><th title = \"Int64\" style = \"text-align: left;\">Int64</th><th title = \"Int64\" style = \"text-align: left;\">Int64</th><th title = \"Int64\" style = \"text-align: left;\">Int64</th><th title = \"String\" style = \"text-align: left;\">String</th><th title = \"Float64\" style = \"text-align: left;\">Float64</th><th title = \"Int64\" style = \"text-align: left;\">Int64</th><th title = \"Float64\" style = \"text-align: left;\">Float64</th><th title = \"Int64\" style = \"text-align: left;\">Int64</th><th title = \"Int64\" style = \"text-align: left;\">Int64</th><th title = \"Int64\" style = \"text-align: left;\">Int64</th><th title = \"Int64\" style = \"text-align: left;\">Int64</th><th title = \"Float64\" style = \"text-align: left;\">Float64</th><th title = \"Float64\" style = \"text-align: left;\">Float64</th><th title = \"Float64\" style = \"text-align: left;\">Float64</th><th title = \"Float64\" style = \"text-align: left;\">Float64</th><th title = \"Float64\" style = \"text-align: left;\">Float64</th><th title = \"Float64\" style = \"text-align: left;\">Float64</th><th title = \"Float64\" style = \"text-align: left;\">Float64</th><th title = \"Int64\" style = \"text-align: left;\">Int64</th><th title = \"Int64\" style = \"text-align: left;\">Int64</th><th title = \"Int64\" style = \"text-align: left;\">Int64</th><th title = \"Int64\" style = \"text-align: left;\">Int64</th><th title = \"Int64\" style = \"text-align: left;\">Int64</th><th title = \"Int64\" style = \"text-align: left;\">Int64</th><th title = \"Int64\" style = \"text-align: left;\">Int64</th><th title = \"Int64\" style = \"text-align: left;\">Int64</th><th title = \"Int64\" style = \"text-align: left;\">Int64</th><th title = \"Int64\" style = \"text-align: left;\">Int64</th><th title = \"Int64\" style = \"text-align: left;\">Int64</th><th title = \"Int64\" style = \"text-align: left;\">Int64</th><th title = \"Int64\" style = \"text-align: left;\">Int64</th><th title = \"Int64\" style = \"text-align: left;\">Int64</th><th title = \"Int64\" style = \"text-align: left;\">Int64</th><th title = \"Int64\" style = \"text-align: left;\">Int64</th><th title = \"Int64\" style = \"text-align: left;\">Int64</th><th title = \"Int64\" style = \"text-align: left;\">Int64</th><th title = \"Int64\" style = \"text-align: left;\">Int64</th><th title = \"Int64\" style = \"text-align: left;\">Int64</th><th title = \"Int64\" style = \"text-align: left;\">Int64</th><th title = \"Int64\" style = \"text-align: left;\">Int64</th><th title = \"Int64\" style = \"text-align: left;\">Int64</th><th title = \"Int64\" style = \"text-align: left;\">Int64</th><th title = \"Int64\" style = \"text-align: left;\">Int64</th><th title = \"Int64\" style = \"text-align: left;\">Int64</th><th title = \"Int64\" style = \"text-align: left;\">Int64</th><th title = \"Int64\" style = \"text-align: left;\">Int64</th><th title = \"Int64\" style = \"text-align: left;\">Int64</th><th title = \"Int64\" style = \"text-align: left;\">Int64</th><th title = \"Int64\" style = \"text-align: left;\">Int64</th><th title = \"Int64\" style = \"text-align: left;\">Int64</th><th title = \"Int64\" style = \"text-align: left;\">Int64</th><th title = \"Int64\" style = \"text-align: left;\">Int64</th><th title = \"Int64\" style = \"text-align: left;\">Int64</th><th title = \"Int64\" style = \"text-align: left;\">Int64</th><th title = \"Int64\" style = \"text-align: left;\">Int64</th><th title = \"Int64\" style = \"text-align: left;\">Int64</th><th title = \"Int64\" style = \"text-align: left;\">Int64</th><th title = \"Int64\" style = \"text-align: left;\">Int64</th></tr></thead><tbody><tr><td class = \"rowNumber\" style = \"font-weight: bold; text-align: right;\">1</td><td style = \"text-align: left;\">K. Mbappé</td><td style = \"text-align: right;\">91</td><td style = \"text-align: right;\">95</td><td style = \"text-align: right;\">1.94e8</td><td style = \"text-align: right;\">230000.0</td><td style = \"text-align: right;\">22</td><td style = \"text-align: right;\">182</td><td style = \"text-align: right;\">73</td><td style = \"text-align: left;\">Paris Saint-Germain</td><td style = \"text-align: right;\">1.0</td><td style = \"text-align: right;\">2021</td><td style = \"text-align: right;\">2022.0</td><td style = \"text-align: right;\">1</td><td style = \"text-align: right;\">4</td><td style = \"text-align: right;\">5</td><td style = \"text-align: right;\">4</td><td style = \"text-align: right;\">3.735e8</td><td style = \"text-align: right;\">97.0</td><td style = \"text-align: right;\">88.0</td><td style = \"text-align: right;\">80.0</td><td style = \"text-align: right;\">92.0</td><td style = \"text-align: right;\">36.0</td><td style = \"text-align: right;\">77.0</td><td style = \"text-align: right;\">78</td><td style = \"text-align: right;\">93</td><td style = \"text-align: right;\">72</td><td style = \"text-align: right;\">85</td><td style = \"text-align: right;\">83</td><td style = \"text-align: right;\">93</td><td style = \"text-align: right;\">80</td><td style = \"text-align: right;\">69</td><td style = \"text-align: right;\">71</td><td style = \"text-align: right;\">91</td><td style = \"text-align: right;\">97</td><td style = \"text-align: right;\">97</td><td style = \"text-align: right;\">92</td><td style = \"text-align: right;\">93</td><td style = \"text-align: right;\">83</td><td style = \"text-align: right;\">86</td><td style = \"text-align: right;\">78</td><td style = \"text-align: right;\">88</td><td style = \"text-align: right;\">77</td><td style = \"text-align: right;\">82</td><td style = \"text-align: right;\">62</td><td style = \"text-align: right;\">38</td><td style = \"text-align: right;\">92</td><td style = \"text-align: right;\">82</td><td style = \"text-align: right;\">79</td><td style = \"text-align: right;\">88</td><td style = \"text-align: right;\">26</td><td style = \"text-align: right;\">34</td><td style = \"text-align: right;\">32</td><td style = \"text-align: right;\">13</td><td style = \"text-align: right;\">5</td><td style = \"text-align: right;\">7</td><td style = \"text-align: right;\">11</td><td style = \"text-align: right;\">6</td><td style = \"text-align: right;\">1</td><td style = \"text-align: right;\">0</td><td style = \"text-align: right;\">0</td><td style = \"text-align: right;\">0</td><td style = \"text-align: right;\">3</td><td style = \"text-align: right;\">1</td></tr></tbody></table></div>"
      ],
      "text/latex": [
       "\\begin{tabular}{r|ccccccccc}\n",
       "\t& short\\_name & overall & potential & value\\_eur & wage\\_eur & age & height\\_cm & weight\\_kg & \\\\\n",
       "\t\\hline\n",
       "\t& String31 & Int64 & Int64 & Float64 & Float64 & Int64 & Int64 & Int64 & \\\\\n",
       "\t\\hline\n",
       "\t1 & K. Mbappé & 91 & 95 & 1.94e8 & 230000.0 & 22 & 182 & 73 & $\\dots$ \\\\\n",
       "\\end{tabular}\n"
      ],
      "text/plain": [
       "\u001b[1m1×63 DataFrame\n",
       "\u001b[1m Row │\u001b[1m short_name \u001b[1m overall \u001b[1m potential \u001b[1m value_eur \u001b[1m wage_eur \u001b[1m age   \u001b[1m height_cm \u001b[1m  ⋯\n",
       "     │\u001b[90m String31   \u001b[90m Int64   \u001b[90m Int64     \u001b[90m Float64   \u001b[90m Float64  \u001b[90m Int64 \u001b[90m Int64     \u001b[90m  ⋯\n",
       "─────┼──────────────────────────────────────────────────────────────────────────\n",
       "   1 │ K. Mbappé        91         95     1.94e8  230000.0     22        182   ⋯\n",
       "\u001b[36m                                                              56 columns omitted"
      ]
     },
     "execution_count": 81,
     "metadata": {},
     "output_type": "execute_result"
    }
   ],
   "source": [
    "# get the players that we buy and sell\n",
    "buy_knn = data_rest[b_knn .== 1, :]"
   ]
  },
  {
   "cell_type": "code",
   "execution_count": 82,
   "metadata": {},
   "outputs": [
    {
     "data": {
      "text/html": [
       "<div><div style = \"float: left;\"><span>3×63 DataFrame</span></div><div style = \"clear: both;\"></div></div><div class = \"data-frame\" style = \"overflow-x: scroll;\"><table class = \"data-frame\" style = \"margin-bottom: 6px;\"><thead><tr class = \"header\"><th class = \"rowNumber\" style = \"font-weight: bold; text-align: right;\">Row</th><th style = \"text-align: left;\">short_name</th><th style = \"text-align: left;\">overall</th><th style = \"text-align: left;\">potential</th><th style = \"text-align: left;\">value_eur</th><th style = \"text-align: left;\">wage_eur</th><th style = \"text-align: left;\">age</th><th style = \"text-align: left;\">height_cm</th><th style = \"text-align: left;\">weight_kg</th><th style = \"text-align: left;\">club_name</th><th style = \"text-align: left;\">league_level</th><th style = \"text-align: left;\">club_joined</th><th style = \"text-align: left;\">club_contract_valid_until</th><th style = \"text-align: left;\">preferred_foot</th><th style = \"text-align: left;\">weak_foot</th><th style = \"text-align: left;\">skill_moves</th><th style = \"text-align: left;\">international_reputation</th><th style = \"text-align: left;\">release_clause_eur</th><th style = \"text-align: left;\">pace</th><th style = \"text-align: left;\">shooting</th><th style = \"text-align: left;\">passing</th><th style = \"text-align: left;\">dribbling</th><th style = \"text-align: left;\">defending</th><th style = \"text-align: left;\">physic</th><th style = \"text-align: left;\">attacking_crossing</th><th style = \"text-align: left;\">attacking_finishing</th><th style = \"text-align: left;\">attacking_heading_accuracy</th><th style = \"text-align: left;\">attacking_short_passing</th><th style = \"text-align: left;\">attacking_volleys</th><th style = \"text-align: left;\">skill_dribbling</th><th style = \"text-align: left;\">skill_curve</th><th style = \"text-align: left;\">skill_fk_accuracy</th><th style = \"text-align: left;\">skill_long_passing</th><th style = \"text-align: left;\">skill_ball_control</th><th style = \"text-align: left;\">movement_acceleration</th><th style = \"text-align: left;\">movement_sprint_speed</th><th style = \"text-align: left;\">movement_agility</th><th style = \"text-align: left;\">movement_reactions</th><th style = \"text-align: left;\">movement_balance</th><th style = \"text-align: left;\">power_shot_power</th><th style = \"text-align: left;\">power_jumping</th><th style = \"text-align: left;\">power_stamina</th><th style = \"text-align: left;\">power_strength</th><th style = \"text-align: left;\">power_long_shots</th><th style = \"text-align: left;\">mentality_aggression</th><th style = \"text-align: left;\">mentality_interceptions</th><th style = \"text-align: left;\">mentality_positioning</th><th style = \"text-align: left;\">mentality_vision</th><th style = \"text-align: left;\">mentality_penalties</th><th style = \"text-align: left;\">mentality_composure</th><th style = \"text-align: left;\">defending_marking_awareness</th><th style = \"text-align: left;\">defending_standing_tackle</th><th style = \"text-align: left;\">defending_sliding_tackle</th><th style = \"text-align: left;\">goalkeeping_diving</th><th style = \"text-align: left;\">goalkeeping_handling</th><th style = \"text-align: left;\">goalkeeping_kicking</th><th style = \"text-align: left;\">goalkeeping_positioning</th><th style = \"text-align: left;\">goalkeeping_reflexes</th><th style = \"text-align: left;\">position_A</th><th style = \"text-align: left;\">position_D</th><th style = \"text-align: left;\">position_G</th><th style = \"text-align: left;\">position_M</th><th style = \"text-align: left;\">attack_work_rate</th><th style = \"text-align: left;\">defense_work_rate</th></tr><tr class = \"subheader headerLastRow\"><th class = \"rowNumber\" style = \"font-weight: bold; text-align: right;\"></th><th title = \"String31\" style = \"text-align: left;\">String31</th><th title = \"Int64\" style = \"text-align: left;\">Int64</th><th title = \"Int64\" style = \"text-align: left;\">Int64</th><th title = \"Float64\" style = \"text-align: left;\">Float64</th><th title = \"Float64\" style = \"text-align: left;\">Float64</th><th title = \"Int64\" style = \"text-align: left;\">Int64</th><th title = \"Int64\" style = \"text-align: left;\">Int64</th><th title = \"Int64\" style = \"text-align: left;\">Int64</th><th title = \"String\" style = \"text-align: left;\">String</th><th title = \"Float64\" style = \"text-align: left;\">Float64</th><th title = \"Int64\" style = \"text-align: left;\">Int64</th><th title = \"Float64\" style = \"text-align: left;\">Float64</th><th title = \"Int64\" style = \"text-align: left;\">Int64</th><th title = \"Int64\" style = \"text-align: left;\">Int64</th><th title = \"Int64\" style = \"text-align: left;\">Int64</th><th title = \"Int64\" style = \"text-align: left;\">Int64</th><th title = \"Float64\" style = \"text-align: left;\">Float64</th><th title = \"Float64\" style = \"text-align: left;\">Float64</th><th title = \"Float64\" style = \"text-align: left;\">Float64</th><th title = \"Float64\" style = \"text-align: left;\">Float64</th><th title = \"Float64\" style = \"text-align: left;\">Float64</th><th title = \"Float64\" style = \"text-align: left;\">Float64</th><th title = \"Float64\" style = \"text-align: left;\">Float64</th><th title = \"Int64\" style = \"text-align: left;\">Int64</th><th title = \"Int64\" style = \"text-align: left;\">Int64</th><th title = \"Int64\" style = \"text-align: left;\">Int64</th><th title = \"Int64\" style = \"text-align: left;\">Int64</th><th title = \"Int64\" style = \"text-align: left;\">Int64</th><th title = \"Int64\" style = \"text-align: left;\">Int64</th><th title = \"Int64\" style = \"text-align: left;\">Int64</th><th title = \"Int64\" style = \"text-align: left;\">Int64</th><th title = \"Int64\" style = \"text-align: left;\">Int64</th><th title = \"Int64\" style = \"text-align: left;\">Int64</th><th title = \"Int64\" style = \"text-align: left;\">Int64</th><th title = \"Int64\" style = \"text-align: left;\">Int64</th><th title = \"Int64\" style = \"text-align: left;\">Int64</th><th title = \"Int64\" style = \"text-align: left;\">Int64</th><th title = \"Int64\" style = \"text-align: left;\">Int64</th><th title = \"Int64\" style = \"text-align: left;\">Int64</th><th title = \"Int64\" style = \"text-align: left;\">Int64</th><th title = \"Int64\" style = \"text-align: left;\">Int64</th><th title = \"Int64\" style = \"text-align: left;\">Int64</th><th title = \"Int64\" style = \"text-align: left;\">Int64</th><th title = \"Int64\" style = \"text-align: left;\">Int64</th><th title = \"Int64\" style = \"text-align: left;\">Int64</th><th title = \"Int64\" style = \"text-align: left;\">Int64</th><th title = \"Int64\" style = \"text-align: left;\">Int64</th><th title = \"Int64\" style = \"text-align: left;\">Int64</th><th title = \"Int64\" style = \"text-align: left;\">Int64</th><th title = \"Int64\" style = \"text-align: left;\">Int64</th><th title = \"Int64\" style = \"text-align: left;\">Int64</th><th title = \"Int64\" style = \"text-align: left;\">Int64</th><th title = \"Int64\" style = \"text-align: left;\">Int64</th><th title = \"Int64\" style = \"text-align: left;\">Int64</th><th title = \"Int64\" style = \"text-align: left;\">Int64</th><th title = \"Int64\" style = \"text-align: left;\">Int64</th><th title = \"Int64\" style = \"text-align: left;\">Int64</th><th title = \"Int64\" style = \"text-align: left;\">Int64</th><th title = \"Int64\" style = \"text-align: left;\">Int64</th><th title = \"Int64\" style = \"text-align: left;\">Int64</th><th title = \"Int64\" style = \"text-align: left;\">Int64</th><th title = \"Int64\" style = \"text-align: left;\">Int64</th><th title = \"Int64\" style = \"text-align: left;\">Int64</th></tr></thead><tbody><tr><td class = \"rowNumber\" style = \"font-weight: bold; text-align: right;\">1</td><td style = \"text-align: left;\">S. Umtiti</td><td style = \"text-align: right;\">80</td><td style = \"text-align: right;\">80</td><td style = \"text-align: right;\">1.95e7</td><td style = \"text-align: right;\">125000.0</td><td style = \"text-align: right;\">27</td><td style = \"text-align: right;\">182</td><td style = \"text-align: right;\">75</td><td style = \"text-align: left;\">FC Barcelona</td><td style = \"text-align: right;\">1.0</td><td style = \"text-align: right;\">2021</td><td style = \"text-align: right;\">2023.0</td><td style = \"text-align: right;\">0</td><td style = \"text-align: right;\">3</td><td style = \"text-align: right;\">2</td><td style = \"text-align: right;\">3</td><td style = \"text-align: right;\">4.0e7</td><td style = \"text-align: right;\">65.0</td><td style = \"text-align: right;\">62.0</td><td style = \"text-align: right;\">68.0</td><td style = \"text-align: right;\">67.0</td><td style = \"text-align: right;\">80.0</td><td style = \"text-align: right;\">78.0</td><td style = \"text-align: right;\">61</td><td style = \"text-align: right;\">51</td><td style = \"text-align: right;\">78</td><td style = \"text-align: right;\">76</td><td style = \"text-align: right;\">65</td><td style = \"text-align: right;\">64</td><td style = \"text-align: right;\">72</td><td style = \"text-align: right;\">62</td><td style = \"text-align: right;\">73</td><td style = \"text-align: right;\">73</td><td style = \"text-align: right;\">64</td><td style = \"text-align: right;\">65</td><td style = \"text-align: right;\">58</td><td style = \"text-align: right;\">78</td><td style = \"text-align: right;\">64</td><td style = \"text-align: right;\">83</td><td style = \"text-align: right;\">81</td><td style = \"text-align: right;\">64</td><td style = \"text-align: right;\">84</td><td style = \"text-align: right;\">70</td><td style = \"text-align: right;\">80</td><td style = \"text-align: right;\">81</td><td style = \"text-align: right;\">51</td><td style = \"text-align: right;\">58</td><td style = \"text-align: right;\">59</td><td style = \"text-align: right;\">74</td><td style = \"text-align: right;\">80</td><td style = \"text-align: right;\">80</td><td style = \"text-align: right;\">79</td><td style = \"text-align: right;\">15</td><td style = \"text-align: right;\">10</td><td style = \"text-align: right;\">14</td><td style = \"text-align: right;\">12</td><td style = \"text-align: right;\">15</td><td style = \"text-align: right;\">0</td><td style = \"text-align: right;\">1</td><td style = \"text-align: right;\">0</td><td style = \"text-align: right;\">0</td><td style = \"text-align: right;\">1</td><td style = \"text-align: right;\">2</td></tr><tr><td class = \"rowNumber\" style = \"font-weight: bold; text-align: right;\">2</td><td style = \"text-align: left;\">Álex Collado</td><td style = \"text-align: right;\">67</td><td style = \"text-align: right;\">79</td><td style = \"text-align: right;\">2.5e6</td><td style = \"text-align: right;\">33000.0</td><td style = \"text-align: right;\">22</td><td style = \"text-align: right;\">177</td><td style = \"text-align: right;\">66</td><td style = \"text-align: left;\">FC Barcelona</td><td style = \"text-align: right;\">1.0</td><td style = \"text-align: right;\">2021</td><td style = \"text-align: right;\">2023.0</td><td style = \"text-align: right;\">0</td><td style = \"text-align: right;\">3</td><td style = \"text-align: right;\">3</td><td style = \"text-align: right;\">1</td><td style = \"text-align: right;\">5.6e6</td><td style = \"text-align: right;\">63.0</td><td style = \"text-align: right;\">65.0</td><td style = \"text-align: right;\">70.0</td><td style = \"text-align: right;\">69.0</td><td style = \"text-align: right;\">56.0</td><td style = \"text-align: right;\">39.0</td><td style = \"text-align: right;\">70</td><td style = \"text-align: right;\">64</td><td style = \"text-align: right;\">51</td><td style = \"text-align: right;\">68</td><td style = \"text-align: right;\">53</td><td style = \"text-align: right;\">71</td><td style = \"text-align: right;\">73</td><td style = \"text-align: right;\">75</td><td style = \"text-align: right;\">64</td><td style = \"text-align: right;\">68</td><td style = \"text-align: right;\">64</td><td style = \"text-align: right;\">63</td><td style = \"text-align: right;\">69</td><td style = \"text-align: right;\">66</td><td style = \"text-align: right;\">68</td><td style = \"text-align: right;\">68</td><td style = \"text-align: right;\">43</td><td style = \"text-align: right;\">34</td><td style = \"text-align: right;\">38</td><td style = \"text-align: right;\">70</td><td style = \"text-align: right;\">48</td><td style = \"text-align: right;\">53</td><td style = \"text-align: right;\">62</td><td style = \"text-align: right;\">74</td><td style = \"text-align: right;\">63</td><td style = \"text-align: right;\">67</td><td style = \"text-align: right;\">59</td><td style = \"text-align: right;\">56</td><td style = \"text-align: right;\">57</td><td style = \"text-align: right;\">10</td><td style = \"text-align: right;\">9</td><td style = \"text-align: right;\">12</td><td style = \"text-align: right;\">12</td><td style = \"text-align: right;\">11</td><td style = \"text-align: right;\">1</td><td style = \"text-align: right;\">0</td><td style = \"text-align: right;\">0</td><td style = \"text-align: right;\">0</td><td style = \"text-align: right;\">2</td><td style = \"text-align: right;\">2</td></tr><tr><td class = \"rowNumber\" style = \"font-weight: bold; text-align: right;\">3</td><td style = \"text-align: left;\">Gavi</td><td style = \"text-align: right;\">66</td><td style = \"text-align: right;\">85</td><td style = \"text-align: right;\">2.1e6</td><td style = \"text-align: right;\">4000.0</td><td style = \"text-align: right;\">16</td><td style = \"text-align: right;\">173</td><td style = \"text-align: right;\">68</td><td style = \"text-align: left;\">FC Barcelona</td><td style = \"text-align: right;\">1.0</td><td style = \"text-align: right;\">2021</td><td style = \"text-align: right;\">2023.0</td><td style = \"text-align: right;\">1</td><td style = \"text-align: right;\">3</td><td style = \"text-align: right;\">2</td><td style = \"text-align: right;\">1</td><td style = \"text-align: right;\">5.6e6</td><td style = \"text-align: right;\">66.0</td><td style = \"text-align: right;\">53.0</td><td style = \"text-align: right;\">67.0</td><td style = \"text-align: right;\">69.0</td><td style = \"text-align: right;\">50.0</td><td style = \"text-align: right;\">48.0</td><td style = \"text-align: right;\">59</td><td style = \"text-align: right;\">55</td><td style = \"text-align: right;\">38</td><td style = \"text-align: right;\">73</td><td style = \"text-align: right;\">46</td><td style = \"text-align: right;\">67</td><td style = \"text-align: right;\">65</td><td style = \"text-align: right;\">47</td><td style = \"text-align: right;\">69</td><td style = \"text-align: right;\">70</td><td style = \"text-align: right;\">68</td><td style = \"text-align: right;\">64</td><td style = \"text-align: right;\">77</td><td style = \"text-align: right;\">64</td><td style = \"text-align: right;\">78</td><td style = \"text-align: right;\">49</td><td style = \"text-align: right;\">48</td><td style = \"text-align: right;\">52</td><td style = \"text-align: right;\">44</td><td style = \"text-align: right;\">53</td><td style = \"text-align: right;\">54</td><td style = \"text-align: right;\">58</td><td style = \"text-align: right;\">59</td><td style = \"text-align: right;\">70</td><td style = \"text-align: right;\">51</td><td style = \"text-align: right;\">68</td><td style = \"text-align: right;\">49</td><td style = \"text-align: right;\">53</td><td style = \"text-align: right;\">44</td><td style = \"text-align: right;\">8</td><td style = \"text-align: right;\">10</td><td style = \"text-align: right;\">11</td><td style = \"text-align: right;\">7</td><td style = \"text-align: right;\">13</td><td style = \"text-align: right;\">0</td><td style = \"text-align: right;\">0</td><td style = \"text-align: right;\">0</td><td style = \"text-align: right;\">1</td><td style = \"text-align: right;\">2</td><td style = \"text-align: right;\">2</td></tr></tbody></table></div>"
      ],
      "text/latex": [
       "\\begin{tabular}{r|ccccccccc}\n",
       "\t& short\\_name & overall & potential & value\\_eur & wage\\_eur & age & height\\_cm & weight\\_kg & \\\\\n",
       "\t\\hline\n",
       "\t& String31 & Int64 & Int64 & Float64 & Float64 & Int64 & Int64 & Int64 & \\\\\n",
       "\t\\hline\n",
       "\t1 & S. Umtiti & 80 & 80 & 1.95e7 & 125000.0 & 27 & 182 & 75 & $\\dots$ \\\\\n",
       "\t2 & Álex Collado & 67 & 79 & 2.5e6 & 33000.0 & 22 & 177 & 66 & $\\dots$ \\\\\n",
       "\t3 & Gavi & 66 & 85 & 2.1e6 & 4000.0 & 16 & 173 & 68 & $\\dots$ \\\\\n",
       "\\end{tabular}\n"
      ],
      "text/plain": [
       "\u001b[1m3×63 DataFrame\n",
       "\u001b[1m Row │\u001b[1m short_name   \u001b[1m overall \u001b[1m potential \u001b[1m value_eur \u001b[1m wage_eur \u001b[1m age   \u001b[1m height_cm ⋯\n",
       "     │\u001b[90m String31     \u001b[90m Int64   \u001b[90m Int64     \u001b[90m Float64   \u001b[90m Float64  \u001b[90m Int64 \u001b[90m Int64     ⋯\n",
       "─────┼──────────────────────────────────────────────────────────────────────────\n",
       "   1 │ S. Umtiti          80         80     1.95e7  125000.0     27        182 ⋯\n",
       "   2 │ Álex Collado       67         79     2.5e6    33000.0     22        177\n",
       "   3 │ Gavi               66         85     2.1e6     4000.0     16        173\n",
       "\u001b[36m                                                              56 columns omitted"
      ]
     },
     "execution_count": 82,
     "metadata": {},
     "output_type": "execute_result"
    }
   ],
   "source": [
    "sell_knn = data_club[s_knn .== 1, :]"
   ]
  },
  {
   "cell_type": "markdown",
   "metadata": {},
   "source": [
    "## Approach 3: CART and OCT"
   ]
  }
 ],
 "metadata": {
  "kernelspec": {
   "display_name": "Julia 1.8.0",
   "language": "julia",
   "name": "julia-1.8"
  },
  "language_info": {
   "file_extension": ".jl",
   "mimetype": "application/julia",
   "name": "julia",
   "version": "1.8.0"
  },
  "orig_nbformat": 4,
  "vscode": {
   "interpreter": {
    "hash": "06afd10951fdd4fed0e6da45c5305413c17e961fcd92f272d77ba5ed1e4178f9"
   }
  }
 },
 "nbformat": 4,
 "nbformat_minor": 2
}
