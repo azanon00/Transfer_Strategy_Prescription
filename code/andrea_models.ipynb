{
 "cells": [
  {
   "cell_type": "code",
   "execution_count": 1,
   "metadata": {},
   "outputs": [],
   "source": [
    "import pandas as pd"
   ]
  },
  {
   "cell_type": "code",
   "execution_count": 6,
   "metadata": {},
   "outputs": [
    {
     "name": "stderr",
     "output_type": "stream",
     "text": [
      "/var/folders/dr/5t6cn8v902z3qf17nwghn0r00000gn/T/ipykernel_2286/187800224.py:1: DtypeWarning: Columns (25,108) have mixed types. Specify dtype option on import or set low_memory=False.\n",
      "  players = pd.read_csv('data/players_22.csv')\n"
     ]
    },
    {
     "data": {
      "text/plain": [
       "(19239, 110)"
      ]
     },
     "execution_count": 6,
     "metadata": {},
     "output_type": "execute_result"
    }
   ],
   "source": [
    "players = pd.read_csv('data/players_22.csv')\n",
    "players.shape"
   ]
  },
  {
   "cell_type": "code",
   "execution_count": 8,
   "metadata": {},
   "outputs": [
    {
     "data": {
      "text/plain": [
       "(23498, 12)"
      ]
     },
     "execution_count": 8,
     "metadata": {},
     "output_type": "execute_result"
    }
   ],
   "source": [
    "transfers_premierLeague = pd.read_csv('data/transfers/premier-league.csv')\n",
    "transfers_premierLeague.shape"
   ]
  },
  {
   "cell_type": "code",
   "execution_count": 10,
   "metadata": {},
   "outputs": [
    {
     "data": {
      "text/plain": [
       "(28211, 12)"
      ]
     },
     "execution_count": 10,
     "metadata": {},
     "output_type": "execute_result"
    }
   ],
   "source": [
    "transfers_serieA = pd.read_csv('data/transfers/serie-a.csv')\n",
    "transfers_serieA.shape"
   ]
  },
  {
   "cell_type": "code",
   "execution_count": 11,
   "metadata": {},
   "outputs": [
    {
     "data": {
      "text/plain": [
       "(14032, 12)"
      ]
     },
     "execution_count": 11,
     "metadata": {},
     "output_type": "execute_result"
    }
   ],
   "source": [
    "transfers_bundesliga = pd.read_csv('data/transfers/1-bundesliga.csv')\n",
    "transfers_bundesliga.shape"
   ]
  },
  {
   "cell_type": "code",
   "execution_count": null,
   "metadata": {},
   "outputs": [],
   "source": []
  },
  {
   "cell_type": "code",
   "execution_count": 9,
   "metadata": {},
   "outputs": [
    {
     "data": {
      "text/html": [
       "<div>\n",
       "<style scoped>\n",
       "    .dataframe tbody tr th:only-of-type {\n",
       "        vertical-align: middle;\n",
       "    }\n",
       "\n",
       "    .dataframe tbody tr th {\n",
       "        vertical-align: top;\n",
       "    }\n",
       "\n",
       "    .dataframe thead th {\n",
       "        text-align: right;\n",
       "    }\n",
       "</style>\n",
       "<table border=\"1\" class=\"dataframe\">\n",
       "  <thead>\n",
       "    <tr style=\"text-align: right;\">\n",
       "      <th></th>\n",
       "      <th>club_name</th>\n",
       "      <th>player_name</th>\n",
       "      <th>age</th>\n",
       "      <th>position</th>\n",
       "      <th>club_involved_name</th>\n",
       "      <th>fee</th>\n",
       "      <th>transfer_movement</th>\n",
       "      <th>transfer_period</th>\n",
       "      <th>fee_cleaned</th>\n",
       "      <th>league_name</th>\n",
       "      <th>year</th>\n",
       "      <th>season</th>\n",
       "    </tr>\n",
       "  </thead>\n",
       "  <tbody>\n",
       "    <tr>\n",
       "      <th>0</th>\n",
       "      <td>Middlesbrough FC</td>\n",
       "      <td>Tommy Wright</td>\n",
       "      <td>26.0</td>\n",
       "      <td>Left Winger</td>\n",
       "      <td>Leicester</td>\n",
       "      <td>€910Th.</td>\n",
       "      <td>in</td>\n",
       "      <td>Summer</td>\n",
       "      <td>0.91</td>\n",
       "      <td>Premier League</td>\n",
       "      <td>1992</td>\n",
       "      <td>1992/1993</td>\n",
       "    </tr>\n",
       "    <tr>\n",
       "      <th>1</th>\n",
       "      <td>Middlesbrough FC</td>\n",
       "      <td>Jonathan Gittens</td>\n",
       "      <td>28.0</td>\n",
       "      <td>defence</td>\n",
       "      <td>Southampton</td>\n",
       "      <td>€250Th.</td>\n",
       "      <td>in</td>\n",
       "      <td>Summer</td>\n",
       "      <td>0.25</td>\n",
       "      <td>Premier League</td>\n",
       "      <td>1992</td>\n",
       "      <td>1992/1993</td>\n",
       "    </tr>\n",
       "    <tr>\n",
       "      <th>2</th>\n",
       "      <td>Middlesbrough FC</td>\n",
       "      <td>Chris Morris</td>\n",
       "      <td>28.0</td>\n",
       "      <td>Right-Back</td>\n",
       "      <td>Celtic</td>\n",
       "      <td>?</td>\n",
       "      <td>in</td>\n",
       "      <td>Summer</td>\n",
       "      <td>NaN</td>\n",
       "      <td>Premier League</td>\n",
       "      <td>1992</td>\n",
       "      <td>1992/1993</td>\n",
       "    </tr>\n",
       "    <tr>\n",
       "      <th>3</th>\n",
       "      <td>Middlesbrough FC</td>\n",
       "      <td>Ben Roberts</td>\n",
       "      <td>17.0</td>\n",
       "      <td>Goalkeeper</td>\n",
       "      <td>Boro U18</td>\n",
       "      <td>-</td>\n",
       "      <td>in</td>\n",
       "      <td>Summer</td>\n",
       "      <td>NaN</td>\n",
       "      <td>Premier League</td>\n",
       "      <td>1992</td>\n",
       "      <td>1992/1993</td>\n",
       "    </tr>\n",
       "    <tr>\n",
       "      <th>4</th>\n",
       "      <td>Middlesbrough FC</td>\n",
       "      <td>Andy Todd</td>\n",
       "      <td>17.0</td>\n",
       "      <td>Centre-Back</td>\n",
       "      <td>Boro U18</td>\n",
       "      <td>-</td>\n",
       "      <td>in</td>\n",
       "      <td>Summer</td>\n",
       "      <td>NaN</td>\n",
       "      <td>Premier League</td>\n",
       "      <td>1992</td>\n",
       "      <td>1992/1993</td>\n",
       "    </tr>\n",
       "  </tbody>\n",
       "</table>\n",
       "</div>"
      ],
      "text/plain": [
       "          club_name       player_name   age     position club_involved_name  \\\n",
       "0  Middlesbrough FC      Tommy Wright  26.0  Left Winger          Leicester   \n",
       "1  Middlesbrough FC  Jonathan Gittens  28.0      defence        Southampton   \n",
       "2  Middlesbrough FC      Chris Morris  28.0   Right-Back             Celtic   \n",
       "3  Middlesbrough FC       Ben Roberts  17.0   Goalkeeper           Boro U18   \n",
       "4  Middlesbrough FC         Andy Todd  17.0  Centre-Back           Boro U18   \n",
       "\n",
       "       fee transfer_movement transfer_period  fee_cleaned     league_name  \\\n",
       "0  €910Th.                in          Summer         0.91  Premier League   \n",
       "1  €250Th.                in          Summer         0.25  Premier League   \n",
       "2        ?                in          Summer          NaN  Premier League   \n",
       "3        -                in          Summer          NaN  Premier League   \n",
       "4        -                in          Summer          NaN  Premier League   \n",
       "\n",
       "   year     season  \n",
       "0  1992  1992/1993  \n",
       "1  1992  1992/1993  \n",
       "2  1992  1992/1993  \n",
       "3  1992  1992/1993  \n",
       "4  1992  1992/1993  "
      ]
     },
     "execution_count": 9,
     "metadata": {},
     "output_type": "execute_result"
    }
   ],
   "source": [
    "transfers_premierLeague.head()"
   ]
  }
 ],
 "metadata": {
  "kernelspec": {
   "display_name": "Python 3.9.7 ('base')",
   "language": "python",
   "name": "python3"
  },
  "language_info": {
   "codemirror_mode": {
    "name": "ipython",
    "version": 3
   },
   "file_extension": ".py",
   "mimetype": "text/x-python",
   "name": "python",
   "nbconvert_exporter": "python",
   "pygments_lexer": "ipython3",
   "version": "3.9.7"
  },
  "orig_nbformat": 4,
  "vscode": {
   "interpreter": {
    "hash": "40d3a090f54c6569ab1632332b64b2c03c39dcf918b08424e98f38b5ae0af88f"
   }
  }
 },
 "nbformat": 4,
 "nbformat_minor": 2
}
