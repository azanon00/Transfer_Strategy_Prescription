{
 "cells": [
  {
   "cell_type": "markdown",
   "metadata": {},
   "source": [
    "####\n",
    "We should put some if clauses such that if contract expires or there is a release clause our prediction is not made by the model, but we already know the transfer value\n",
    "###"
   ]
  },
  {
   "cell_type": "code",
   "execution_count": 1,
   "metadata": {},
   "outputs": [],
   "source": [
    "import pandas as pd\n",
    "import numpy as np\n",
    "from collections import Counter\n",
    "from sklearn.preprocessing import OneHotEncoder\n",
    "import os\n",
    "import glob\n",
    "from sklearn.model_selection import train_test_split\n",
    "from sklearn.model_selection import GridSearchCV\n",
    "from sklearn.linear_model import LinearRegression\n",
    "from sklearn.linear_model import Lasso\n",
    "from sklearn.linear_model import LassoCV\n",
    "from sklearn.ensemble  import RandomForestRegressor\n",
    "from matplotlib import pyplot as plt\n",
    "from matplotlib.pyplot import figure\n",
    "from xgboost import XGBRegressor"
   ]
  },
  {
   "cell_type": "code",
   "execution_count": 2,
   "metadata": {},
   "outputs": [
    {
     "data": {
      "text/html": [
       "<div>\n",
       "<style scoped>\n",
       "    .dataframe tbody tr th:only-of-type {\n",
       "        vertical-align: middle;\n",
       "    }\n",
       "\n",
       "    .dataframe tbody tr th {\n",
       "        vertical-align: top;\n",
       "    }\n",
       "\n",
       "    .dataframe thead th {\n",
       "        text-align: right;\n",
       "    }\n",
       "</style>\n",
       "<table border=\"1\" class=\"dataframe\">\n",
       "  <thead>\n",
       "    <tr style=\"text-align: right;\">\n",
       "      <th></th>\n",
       "      <th>transfer_period</th>\n",
       "      <th>fee</th>\n",
       "      <th>year</th>\n",
       "      <th>overall</th>\n",
       "      <th>potential</th>\n",
       "      <th>value_eur</th>\n",
       "      <th>wage_eur</th>\n",
       "      <th>age</th>\n",
       "      <th>height_cm</th>\n",
       "      <th>weight_kg</th>\n",
       "      <th>...</th>\n",
       "      <th>goalkeeping_handling</th>\n",
       "      <th>goalkeeping_kicking</th>\n",
       "      <th>goalkeeping_positioning</th>\n",
       "      <th>goalkeeping_reflexes</th>\n",
       "      <th>position_A</th>\n",
       "      <th>position_D</th>\n",
       "      <th>position_G</th>\n",
       "      <th>position_M</th>\n",
       "      <th>attack_work_rate</th>\n",
       "      <th>defense_work_rate</th>\n",
       "    </tr>\n",
       "  </thead>\n",
       "  <tbody>\n",
       "    <tr>\n",
       "      <th>0</th>\n",
       "      <td>0</td>\n",
       "      <td>9.0</td>\n",
       "      <td>2020</td>\n",
       "      <td>63.0</td>\n",
       "      <td>77.0</td>\n",
       "      <td>750000.0</td>\n",
       "      <td>2000.0</td>\n",
       "      <td>18.0</td>\n",
       "      <td>186.0</td>\n",
       "      <td>74.0</td>\n",
       "      <td>...</td>\n",
       "      <td>10.0</td>\n",
       "      <td>11.0</td>\n",
       "      <td>9.0</td>\n",
       "      <td>10.0</td>\n",
       "      <td>0.0</td>\n",
       "      <td>0.0</td>\n",
       "      <td>0.0</td>\n",
       "      <td>1.0</td>\n",
       "      <td>3.0</td>\n",
       "      <td>2.0</td>\n",
       "    </tr>\n",
       "    <tr>\n",
       "      <th>1</th>\n",
       "      <td>1</td>\n",
       "      <td>0.0</td>\n",
       "      <td>2020</td>\n",
       "      <td>72.0</td>\n",
       "      <td>75.0</td>\n",
       "      <td>4000000.0</td>\n",
       "      <td>12000.0</td>\n",
       "      <td>25.0</td>\n",
       "      <td>181.0</td>\n",
       "      <td>69.0</td>\n",
       "      <td>...</td>\n",
       "      <td>14.0</td>\n",
       "      <td>6.0</td>\n",
       "      <td>14.0</td>\n",
       "      <td>10.0</td>\n",
       "      <td>1.0</td>\n",
       "      <td>0.0</td>\n",
       "      <td>0.0</td>\n",
       "      <td>0.0</td>\n",
       "      <td>2.0</td>\n",
       "      <td>2.0</td>\n",
       "    </tr>\n",
       "    <tr>\n",
       "      <th>2</th>\n",
       "      <td>1</td>\n",
       "      <td>0.0</td>\n",
       "      <td>2020</td>\n",
       "      <td>72.0</td>\n",
       "      <td>72.0</td>\n",
       "      <td>2700000.0</td>\n",
       "      <td>30000.0</td>\n",
       "      <td>31.0</td>\n",
       "      <td>182.0</td>\n",
       "      <td>74.0</td>\n",
       "      <td>...</td>\n",
       "      <td>1.0</td>\n",
       "      <td>1.0</td>\n",
       "      <td>1.0</td>\n",
       "      <td>1.0</td>\n",
       "      <td>0.0</td>\n",
       "      <td>0.0</td>\n",
       "      <td>0.0</td>\n",
       "      <td>1.0</td>\n",
       "      <td>2.0</td>\n",
       "      <td>2.0</td>\n",
       "    </tr>\n",
       "    <tr>\n",
       "      <th>3</th>\n",
       "      <td>1</td>\n",
       "      <td>0.0</td>\n",
       "      <td>2020</td>\n",
       "      <td>60.0</td>\n",
       "      <td>76.0</td>\n",
       "      <td>425000.0</td>\n",
       "      <td>2000.0</td>\n",
       "      <td>18.0</td>\n",
       "      <td>183.0</td>\n",
       "      <td>78.0</td>\n",
       "      <td>...</td>\n",
       "      <td>13.0</td>\n",
       "      <td>13.0</td>\n",
       "      <td>12.0</td>\n",
       "      <td>8.0</td>\n",
       "      <td>1.0</td>\n",
       "      <td>0.0</td>\n",
       "      <td>0.0</td>\n",
       "      <td>0.0</td>\n",
       "      <td>2.0</td>\n",
       "      <td>2.0</td>\n",
       "    </tr>\n",
       "    <tr>\n",
       "      <th>4</th>\n",
       "      <td>1</td>\n",
       "      <td>4.0</td>\n",
       "      <td>2020</td>\n",
       "      <td>73.0</td>\n",
       "      <td>81.0</td>\n",
       "      <td>6000000.0</td>\n",
       "      <td>21000.0</td>\n",
       "      <td>22.0</td>\n",
       "      <td>178.0</td>\n",
       "      <td>76.0</td>\n",
       "      <td>...</td>\n",
       "      <td>14.0</td>\n",
       "      <td>12.0</td>\n",
       "      <td>15.0</td>\n",
       "      <td>11.0</td>\n",
       "      <td>1.0</td>\n",
       "      <td>0.0</td>\n",
       "      <td>0.0</td>\n",
       "      <td>0.0</td>\n",
       "      <td>3.0</td>\n",
       "      <td>1.0</td>\n",
       "    </tr>\n",
       "  </tbody>\n",
       "</table>\n",
       "<p>5 rows × 64 columns</p>\n",
       "</div>"
      ],
      "text/plain": [
       "   transfer_period  fee  year  overall  potential  value_eur  wage_eur   age  \\\n",
       "0                0  9.0  2020     63.0       77.0   750000.0    2000.0  18.0   \n",
       "1                1  0.0  2020     72.0       75.0  4000000.0   12000.0  25.0   \n",
       "2                1  0.0  2020     72.0       72.0  2700000.0   30000.0  31.0   \n",
       "3                1  0.0  2020     60.0       76.0   425000.0    2000.0  18.0   \n",
       "4                1  4.0  2020     73.0       81.0  6000000.0   21000.0  22.0   \n",
       "\n",
       "   height_cm  weight_kg  ...  goalkeeping_handling  goalkeeping_kicking  \\\n",
       "0      186.0       74.0  ...                  10.0                 11.0   \n",
       "1      181.0       69.0  ...                  14.0                  6.0   \n",
       "2      182.0       74.0  ...                   1.0                  1.0   \n",
       "3      183.0       78.0  ...                  13.0                 13.0   \n",
       "4      178.0       76.0  ...                  14.0                 12.0   \n",
       "\n",
       "   goalkeeping_positioning  goalkeeping_reflexes  position_A  position_D  \\\n",
       "0                      9.0                  10.0         0.0         0.0   \n",
       "1                     14.0                  10.0         1.0         0.0   \n",
       "2                      1.0                   1.0         0.0         0.0   \n",
       "3                     12.0                   8.0         1.0         0.0   \n",
       "4                     15.0                  11.0         1.0         0.0   \n",
       "\n",
       "   position_G  position_M  attack_work_rate  defense_work_rate  \n",
       "0         0.0         1.0               3.0                2.0  \n",
       "1         0.0         0.0               2.0                2.0  \n",
       "2         0.0         1.0               2.0                2.0  \n",
       "3         0.0         0.0               2.0                2.0  \n",
       "4         0.0         0.0               3.0                1.0  \n",
       "\n",
       "[5 rows x 64 columns]"
      ]
     },
     "execution_count": 2,
     "metadata": {},
     "output_type": "execute_result"
    }
   ],
   "source": [
    "# read files\n",
    "from pathlib import Path\n",
    "path = str(Path(\"andrea_models.ipynb\").parent.absolute().parent.absolute()) + \"/data/Final/\"\n",
    "csv_files = glob.glob(os.path.join(path, \"*.csv\"))\n",
    "\n",
    "# create unique dataframe with all the players\n",
    "players = []\n",
    "\n",
    "# loop over the list of csv files\n",
    "for f in csv_files:\n",
    "      \n",
    "    # read the csv file\n",
    "    df = pd.read_csv(f)\n",
    "\n",
    "    # append the dataframe to the list\n",
    "    players.append(df)\n",
    "\n",
    "data = pd.concat(players).reset_index(drop = True)\n",
    "\n",
    "# save player_name in a variable\n",
    "player_name = data[\"player_name\"]\n",
    "\n",
    "# drop the columns that are not needed\n",
    "data.drop([\"player_name\", \"short_name\", \"previous_short_name\", \"name_similarity\", \"club_similarity\", \"new_club\", \"old_club\", \"club_name\"], axis = 1, inplace = True)\n",
    "\n",
    "data.head()"
   ]
  },
  {
   "cell_type": "code",
   "execution_count": 3,
   "metadata": {},
   "outputs": [],
   "source": [
    "# train-test split, use random_state = 0\n",
    "train_valid, test = train_test_split(data, test_size = 0.2, random_state = 0)"
   ]
  },
  {
   "cell_type": "code",
   "execution_count": 4,
   "metadata": {},
   "outputs": [],
   "source": [
    "# print them in new csv so we can use them in the other notebook\n",
    "train_valid.to_csv(\"train_valid.csv\", index = False)\n",
    "test.to_csv(\"test.csv\", index = False)"
   ]
  },
  {
   "cell_type": "code",
   "execution_count": 5,
   "metadata": {},
   "outputs": [],
   "source": [
    "# define target and features\n",
    "target = \"fee\""
   ]
  },
  {
   "cell_type": "markdown",
   "metadata": {},
   "source": [
    "## Define functions that will be used across models"
   ]
  },
  {
   "cell_type": "code",
   "execution_count": 6,
   "metadata": {},
   "outputs": [],
   "source": [
    "def get_features(df):\n",
    "    return df.drop(target, axis = 1)"
   ]
  },
  {
   "cell_type": "code",
   "execution_count": 13,
   "metadata": {},
   "outputs": [],
   "source": [
    "def get_target(df):\n",
    "    \n",
    "    # apply log transformation to the target\n",
    "    y = [np.log(element) if element != 0 else 0 for element in df[target] ]\n",
    "    return y"
   ]
  },
  {
   "cell_type": "code",
   "execution_count": 8,
   "metadata": {},
   "outputs": [],
   "source": [
    "def compute_results(pred, test):\n",
    "    # compute the mean absolute error\n",
    "    mae = np.mean(np.abs(pred - test))\n",
    "    # compute the mean squared error\n",
    "    mse = np.mean((pred - test)**2)\n",
    "    # compute the root mean squared error\n",
    "    rmse = np.sqrt(mse)\n",
    "    # compute the r2\n",
    "    osr2 = np.mean((pred - test)**2) / np.var(test)\n",
    "\n",
    "    # turn into dataframe\n",
    "    results = pd.DataFrame({\"mae\": mae, \"mse\": mse, \"rmse\": rmse, \"osr2\": osr2}, index = [0])\n",
    "\n",
    "    # print the results\n",
    "    print(results)"
   ]
  },
  {
   "cell_type": "code",
   "execution_count": 9,
   "metadata": {},
   "outputs": [],
   "source": [
    "def check_prediction_value(pred, test):\n",
    "\n",
    "    # set dimensions\n",
    "    figure(figsize=(10, 4), dpi=80)\n",
    "    \n",
    "    xaxes = np.arange(0, len(pred))\n",
    "    plt.hist(pred, xaxes, alpha = 0.5, label = \"pred\", color = \"red\")\n",
    "    plt.hist(test, xaxes, alpha = 0.5, label = \"test\", color = \"blue\")\n",
    "    plt.legend(loc = \"upper right\")\n"
   ]
  },
  {
   "cell_type": "markdown",
   "metadata": {},
   "source": [
    "## Linear Regression"
   ]
  },
  {
   "cell_type": "code",
   "execution_count": 10,
   "metadata": {},
   "outputs": [],
   "source": [
    "def LinearRegression_model(train_valid, test):\n",
    "\n",
    "    # define model\n",
    "    model = LinearRegression()\n",
    "\n",
    "    # fit the model\n",
    "    model.fit(get_features(train_valid), get_target(train_valid))\n",
    "\n",
    "    # predict\n",
    "    pred = model.predict(get_features(test))\n",
    "\n",
    "    compute_results(pred, get_target(test))\n",
    "\n",
    "    check_prediction_value(pred, get_target(test))\n",
    "\n",
    "    return model"
   ]
  },
  {
   "cell_type": "code",
   "execution_count": 14,
   "metadata": {},
   "outputs": [
    {
     "name": "stdout",
     "output_type": "stream",
     "text": [
      "        mae      mse      rmse     osr2\n",
      "0  0.724719  0.85653  0.925489  0.54171\n"
     ]
    },
    {
     "data": {
      "image/png": "[encoded data removed]",
      "text/plain": [
       "<Figure size 800x320 with 1 Axes>"
      ]
     },
     "metadata": {
      "needs_background": "light"
     },
     "output_type": "display_data"
    }
   ],
   "source": [
    "LinReg = LinearRegression_model(train_valid, test)"
   ]
  },
  {
   "cell_type": "markdown",
   "metadata": {},
   "source": [
    "## Lasso Regression"
   ]
  },
  {
   "cell_type": "code",
   "execution_count": 15,
   "metadata": {},
   "outputs": [],
   "source": [
    "def Lasso_model(train_valid, test):\n",
    "\n",
    "    # define model\n",
    "    model = LassoCV(cv=5, random_state=0) # 5-fold cross validation to select the best alpha\n",
    "\n",
    "    # fit the model\n",
    "    model.fit(get_features(train_valid), get_target(train_valid))\n",
    "\n",
    "    # predict\n",
    "    pred = model.predict(get_features(test))\n",
    "\n",
    "    compute_results(pred, get_target(test))\n",
    "\n",
    "    check_prediction_value(pred, get_target(test))\n",
    "\n",
    "    return model"
   ]
  },
  {
   "cell_type": "code",
   "execution_count": 16,
   "metadata": {},
   "outputs": [
    {
     "name": "stdout",
     "output_type": "stream",
     "text": [
      "        mae       mse      rmse      osr2\n",
      "0  1.000927  1.436678  1.198615  0.908623\n"
     ]
    },
    {
     "data": {
      "image/png": "[encoded data removed]",
      "text/plain": [
       "<Figure size 800x320 with 1 Axes>"
      ]
     },
     "metadata": {
      "needs_background": "light"
     },
     "output_type": "display_data"
    }
   ],
   "source": [
    "LassoReg = Lasso_model(train_valid, test)"
   ]
  },
  {
   "cell_type": "markdown",
   "metadata": {},
   "source": [
    "## Random Forest"
   ]
  },
  {
   "cell_type": "code",
   "execution_count": 19,
   "metadata": {},
   "outputs": [],
   "source": [
    "def RandomForest_model(train_valid, test):\n",
    "\n",
    "    # define model\n",
    "    model = RandomForestRegressor(n_estimators = 200, random_state=0)\n",
    "\n",
    "    # define parameters\n",
    "    parameters = {\"max_depth\": [10, 15, 20],\n",
    "                  \"min_samples_split\": [2, 5, 10],\n",
    "                  \"max_features\": [10, 15, 20],\n",
    "                  }\n",
    "\n",
    "    # define grid search\n",
    "    grid = GridSearchCV(model, parameters, verbose = 3)\n",
    "\n",
    "    # fit the model\n",
    "    grid.fit(get_features(train_valid), get_target(train_valid))\n",
    "\n",
    "    # predict\n",
    "    pred = grid.predict(get_features(test))\n",
    "\n",
    "    compute_results(pred, get_target(test))\n",
    "\n",
    "    check_prediction_value(pred, get_target(test))\n",
    "\n",
    "    print(grid.best_params_)\n",
    "\n",
    "    return grid.best_estimator_\n"
   ]
  },
  {
   "cell_type": "code",
   "execution_count": 20,
   "metadata": {},
   "outputs": [
    {
     "name": "stdout",
     "output_type": "stream",
     "text": [
      "Fitting 5 folds for each of 27 candidates, totalling 135 fits\n",
      "[CV] max_depth=10, max_features=10, min_samples_split=2 ..............\n"
     ]
    },
    {
     "name": "stderr",
     "output_type": "stream",
     "text": [
      "[Parallel(n_jobs=1)]: Using backend SequentialBackend with 1 concurrent workers.\n"
     ]
    },
    {
     "name": "stdout",
     "output_type": "stream",
     "text": [
      "[CV]  max_depth=10, max_features=10, min_samples_split=2, score=0.406, total=   1.0s\n",
      "[CV] max_depth=10, max_features=10, min_samples_split=2 ..............\n"
     ]
    },
    {
     "name": "stderr",
     "output_type": "stream",
     "text": [
      "[Parallel(n_jobs=1)]: Done   1 out of   1 | elapsed:    1.0s remaining:    0.0s\n"
     ]
    },
    {
     "name": "stdout",
     "output_type": "stream",
     "text": [
      "[CV]  max_depth=10, max_features=10, min_samples_split=2, score=0.521, total=   0.8s\n",
      "[CV] max_depth=10, max_features=10, min_samples_split=2 ..............\n"
     ]
    },
    {
     "name": "stderr",
     "output_type": "stream",
     "text": [
      "[Parallel(n_jobs=1)]: Done   2 out of   2 | elapsed:    1.9s remaining:    0.0s\n"
     ]
    },
    {
     "name": "stdout",
     "output_type": "stream",
     "text": [
      "[CV]  max_depth=10, max_features=10, min_samples_split=2, score=0.415, total=   0.7s\n",
      "[CV] max_depth=10, max_features=10, min_samples_split=2 ..............\n",
      "[CV]  max_depth=10, max_features=10, min_samples_split=2, score=0.523, total=   1.1s\n",
      "[CV] max_depth=10, max_features=10, min_samples_split=2 ..............\n",
      "[CV]  max_depth=10, max_features=10, min_samples_split=2, score=0.471, total=   0.8s\n",
      "[CV] max_depth=10, max_features=10, min_samples_split=5 ..............\n",
      "[CV]  max_depth=10, max_features=10, min_samples_split=5, score=0.407, total=   0.9s\n",
      "[CV] max_depth=10, max_features=10, min_samples_split=5 ..............\n",
      "[CV]  max_depth=10, max_features=10, min_samples_split=5, score=0.527, total=   0.7s\n",
      "[CV] max_depth=10, max_features=10, min_samples_split=5 ..............\n",
      "[CV]  max_depth=10, max_features=10, min_samples_split=5, score=0.416, total=   0.7s\n",
      "[CV] max_depth=10, max_features=10, min_samples_split=5 ..............\n",
      "[CV]  max_depth=10, max_features=10, min_samples_split=5, score=0.523, total=   1.1s\n",
      "[CV] max_depth=10, max_features=10, min_samples_split=5 ..............\n",
      "[CV]  max_depth=10, max_features=10, min_samples_split=5, score=0.474, total=   0.7s\n",
      "[CV] max_depth=10, max_features=10, min_samples_split=10 .............\n",
      "[CV]  max_depth=10, max_features=10, min_samples_split=10, score=0.405, total=   0.7s\n",
      "[CV] max_depth=10, max_features=10, min_samples_split=10 .............\n",
      "[CV]  max_depth=10, max_features=10, min_samples_split=10, score=0.529, total=   0.7s\n",
      "[CV] max_depth=10, max_features=10, min_samples_split=10 .............\n",
      "[CV]  max_depth=10, max_features=10, min_samples_split=10, score=0.412, total=   0.8s\n",
      "[CV] max_depth=10, max_features=10, min_samples_split=10 .............\n",
      "[CV]  max_depth=10, max_features=10, min_samples_split=10, score=0.515, total=   0.8s\n",
      "[CV] max_depth=10, max_features=10, min_samples_split=10 .............\n",
      "[CV]  max_depth=10, max_features=10, min_samples_split=10, score=0.470, total=   0.7s\n",
      "[CV] max_depth=10, max_features=15, min_samples_split=2 ..............\n",
      "[CV]  max_depth=10, max_features=15, min_samples_split=2, score=0.411, total=   0.9s\n",
      "[CV] max_depth=10, max_features=15, min_samples_split=2 ..............\n",
      "[CV]  max_depth=10, max_features=15, min_samples_split=2, score=0.537, total=   0.9s\n",
      "[CV] max_depth=10, max_features=15, min_samples_split=2 ..............\n",
      "[CV]  max_depth=10, max_features=15, min_samples_split=2, score=0.435, total=   0.9s\n",
      "[CV] max_depth=10, max_features=15, min_samples_split=2 ..............\n",
      "[CV]  max_depth=10, max_features=15, min_samples_split=2, score=0.541, total=   1.2s\n",
      "[CV] max_depth=10, max_features=15, min_samples_split=2 ..............\n",
      "[CV]  max_depth=10, max_features=15, min_samples_split=2, score=0.486, total=   1.6s\n",
      "[CV] max_depth=10, max_features=15, min_samples_split=5 ..............\n",
      "[CV]  max_depth=10, max_features=15, min_samples_split=5, score=0.405, total=   0.9s\n",
      "[CV] max_depth=10, max_features=15, min_samples_split=5 ..............\n",
      "[CV]  max_depth=10, max_features=15, min_samples_split=5, score=0.541, total=   0.9s\n",
      "[CV] max_depth=10, max_features=15, min_samples_split=5 ..............\n",
      "[CV]  max_depth=10, max_features=15, min_samples_split=5, score=0.434, total=   0.9s\n",
      "[CV] max_depth=10, max_features=15, min_samples_split=5 ..............\n",
      "[CV]  max_depth=10, max_features=15, min_samples_split=5, score=0.546, total=   0.9s\n",
      "[CV] max_depth=10, max_features=15, min_samples_split=5 ..............\n",
      "[CV]  max_depth=10, max_features=15, min_samples_split=5, score=0.485, total=   1.1s\n",
      "[CV] max_depth=10, max_features=15, min_samples_split=10 .............\n",
      "[CV]  max_depth=10, max_features=15, min_samples_split=10, score=0.405, total=   1.2s\n",
      "[CV] max_depth=10, max_features=15, min_samples_split=10 .............\n",
      "[CV]  max_depth=10, max_features=15, min_samples_split=10, score=0.527, total=   1.1s\n",
      "[CV] max_depth=10, max_features=15, min_samples_split=10 .............\n",
      "[CV]  max_depth=10, max_features=15, min_samples_split=10, score=0.427, total=   1.0s\n",
      "[CV] max_depth=10, max_features=15, min_samples_split=10 .............\n",
      "[CV]  max_depth=10, max_features=15, min_samples_split=10, score=0.544, total=   1.0s\n",
      "[CV] max_depth=10, max_features=15, min_samples_split=10 .............\n",
      "[CV]  max_depth=10, max_features=15, min_samples_split=10, score=0.482, total=   0.9s\n",
      "[CV] max_depth=10, max_features=20, min_samples_split=2 ..............\n",
      "[CV]  max_depth=10, max_features=20, min_samples_split=2, score=0.404, total=   1.2s\n",
      "[CV] max_depth=10, max_features=20, min_samples_split=2 ..............\n",
      "[CV]  max_depth=10, max_features=20, min_samples_split=2, score=0.548, total=   1.2s\n",
      "[CV] max_depth=10, max_features=20, min_samples_split=2 ..............\n",
      "[CV]  max_depth=10, max_features=20, min_samples_split=2, score=0.438, total=   1.2s\n",
      "[CV] max_depth=10, max_features=20, min_samples_split=2 ..............\n",
      "[CV]  max_depth=10, max_features=20, min_samples_split=2, score=0.560, total=   1.1s\n",
      "[CV] max_depth=10, max_features=20, min_samples_split=2 ..............\n",
      "[CV]  max_depth=10, max_features=20, min_samples_split=2, score=0.495, total=   1.2s\n",
      "[CV] max_depth=10, max_features=20, min_samples_split=5 ..............\n",
      "[CV]  max_depth=10, max_features=20, min_samples_split=5, score=0.393, total=   1.5s\n",
      "[CV] max_depth=10, max_features=20, min_samples_split=5 ..............\n",
      "[CV]  max_depth=10, max_features=20, min_samples_split=5, score=0.550, total=   2.1s\n",
      "[CV] max_depth=10, max_features=20, min_samples_split=5 ..............\n",
      "[CV]  max_depth=10, max_features=20, min_samples_split=5, score=0.440, total=   1.8s\n",
      "[CV] max_depth=10, max_features=20, min_samples_split=5 ..............\n",
      "[CV]  max_depth=10, max_features=20, min_samples_split=5, score=0.553, total=   1.8s\n",
      "[CV] max_depth=10, max_features=20, min_samples_split=5 ..............\n",
      "[CV]  max_depth=10, max_features=20, min_samples_split=5, score=0.497, total=   1.7s\n",
      "[CV] max_depth=10, max_features=20, min_samples_split=10 .............\n",
      "[CV]  max_depth=10, max_features=20, min_samples_split=10, score=0.397, total=   1.1s\n",
      "[CV] max_depth=10, max_features=20, min_samples_split=10 .............\n",
      "[CV]  max_depth=10, max_features=20, min_samples_split=10, score=0.554, total=   1.1s\n",
      "[CV] max_depth=10, max_features=20, min_samples_split=10 .............\n",
      "[CV]  max_depth=10, max_features=20, min_samples_split=10, score=0.437, total=   1.1s\n",
      "[CV] max_depth=10, max_features=20, min_samples_split=10 .............\n",
      "[CV]  max_depth=10, max_features=20, min_samples_split=10, score=0.558, total=   1.6s\n",
      "[CV] max_depth=10, max_features=20, min_samples_split=10 .............\n",
      "[CV]  max_depth=10, max_features=20, min_samples_split=10, score=0.496, total=   1.4s\n",
      "[CV] max_depth=15, max_features=10, min_samples_split=2 ..............\n",
      "[CV]  max_depth=15, max_features=10, min_samples_split=2, score=0.416, total=   0.9s\n",
      "[CV] max_depth=15, max_features=10, min_samples_split=2 ..............\n",
      "[CV]  max_depth=15, max_features=10, min_samples_split=2, score=0.519, total=   0.9s\n",
      "[CV] max_depth=15, max_features=10, min_samples_split=2 ..............\n",
      "[CV]  max_depth=15, max_features=10, min_samples_split=2, score=0.420, total=   0.9s\n",
      "[CV] max_depth=15, max_features=10, min_samples_split=2 ..............\n",
      "[CV]  max_depth=15, max_features=10, min_samples_split=2, score=0.530, total=   0.9s\n",
      "[CV] max_depth=15, max_features=10, min_samples_split=2 ..............\n",
      "[CV]  max_depth=15, max_features=10, min_samples_split=2, score=0.476, total=   0.9s\n",
      "[CV] max_depth=15, max_features=10, min_samples_split=5 ..............\n",
      "[CV]  max_depth=15, max_features=10, min_samples_split=5, score=0.410, total=   0.8s\n",
      "[CV] max_depth=15, max_features=10, min_samples_split=5 ..............\n",
      "[CV]  max_depth=15, max_features=10, min_samples_split=5, score=0.517, total=   0.8s\n",
      "[CV] max_depth=15, max_features=10, min_samples_split=5 ..............\n",
      "[CV]  max_depth=15, max_features=10, min_samples_split=5, score=0.409, total=   0.8s\n",
      "[CV] max_depth=15, max_features=10, min_samples_split=5 ..............\n",
      "[CV]  max_depth=15, max_features=10, min_samples_split=5, score=0.519, total=   0.8s\n",
      "[CV] max_depth=15, max_features=10, min_samples_split=5 ..............\n",
      "[CV]  max_depth=15, max_features=10, min_samples_split=5, score=0.455, total=   0.8s\n",
      "[CV] max_depth=15, max_features=10, min_samples_split=10 .............\n",
      "[CV]  max_depth=15, max_features=10, min_samples_split=10, score=0.396, total=   0.7s\n",
      "[CV] max_depth=15, max_features=10, min_samples_split=10 .............\n",
      "[CV]  max_depth=15, max_features=10, min_samples_split=10, score=0.509, total=   0.7s\n",
      "[CV] max_depth=15, max_features=10, min_samples_split=10 .............\n",
      "[CV]  max_depth=15, max_features=10, min_samples_split=10, score=0.419, total=   0.7s\n",
      "[CV] max_depth=15, max_features=10, min_samples_split=10 .............\n",
      "[CV]  max_depth=15, max_features=10, min_samples_split=10, score=0.524, total=   0.7s\n",
      "[CV] max_depth=15, max_features=10, min_samples_split=10 .............\n",
      "[CV]  max_depth=15, max_features=10, min_samples_split=10, score=0.474, total=   0.7s\n",
      "[CV] max_depth=15, max_features=15, min_samples_split=2 ..............\n",
      "[CV]  max_depth=15, max_features=15, min_samples_split=2, score=0.400, total=   1.1s\n",
      "[CV] max_depth=15, max_features=15, min_samples_split=2 ..............\n",
      "[CV]  max_depth=15, max_features=15, min_samples_split=2, score=0.547, total=   1.2s\n",
      "[CV] max_depth=15, max_features=15, min_samples_split=2 ..............\n",
      "[CV]  max_depth=15, max_features=15, min_samples_split=2, score=0.436, total=   1.1s\n",
      "[CV] max_depth=15, max_features=15, min_samples_split=2 ..............\n",
      "[CV]  max_depth=15, max_features=15, min_samples_split=2, score=0.539, total=   1.2s\n",
      "[CV] max_depth=15, max_features=15, min_samples_split=2 ..............\n",
      "[CV]  max_depth=15, max_features=15, min_samples_split=2, score=0.484, total=   1.1s\n",
      "[CV] max_depth=15, max_features=15, min_samples_split=5 ..............\n",
      "[CV]  max_depth=15, max_features=15, min_samples_split=5, score=0.404, total=   1.1s\n",
      "[CV] max_depth=15, max_features=15, min_samples_split=5 ..............\n",
      "[CV]  max_depth=15, max_features=15, min_samples_split=5, score=0.539, total=   1.1s\n",
      "[CV] max_depth=15, max_features=15, min_samples_split=5 ..............\n",
      "[CV]  max_depth=15, max_features=15, min_samples_split=5, score=0.432, total=   1.2s\n",
      "[CV] max_depth=15, max_features=15, min_samples_split=5 ..............\n",
      "[CV]  max_depth=15, max_features=15, min_samples_split=5, score=0.542, total=   1.1s\n",
      "[CV] max_depth=15, max_features=15, min_samples_split=5 ..............\n",
      "[CV]  max_depth=15, max_features=15, min_samples_split=5, score=0.479, total=   1.1s\n",
      "[CV] max_depth=15, max_features=15, min_samples_split=10 .............\n",
      "[CV]  max_depth=15, max_features=15, min_samples_split=10, score=0.402, total=   1.0s\n",
      "[CV] max_depth=15, max_features=15, min_samples_split=10 .............\n",
      "[CV]  max_depth=15, max_features=15, min_samples_split=10, score=0.536, total=   1.0s\n",
      "[CV] max_depth=15, max_features=15, min_samples_split=10 .............\n",
      "[CV]  max_depth=15, max_features=15, min_samples_split=10, score=0.440, total=   1.0s\n",
      "[CV] max_depth=15, max_features=15, min_samples_split=10 .............\n",
      "[CV]  max_depth=15, max_features=15, min_samples_split=10, score=0.540, total=   1.0s\n",
      "[CV] max_depth=15, max_features=15, min_samples_split=10 .............\n",
      "[CV]  max_depth=15, max_features=15, min_samples_split=10, score=0.475, total=   1.0s\n",
      "[CV] max_depth=15, max_features=20, min_samples_split=2 ..............\n",
      "[CV]  max_depth=15, max_features=20, min_samples_split=2, score=0.396, total=   1.4s\n",
      "[CV] max_depth=15, max_features=20, min_samples_split=2 ..............\n",
      "[CV]  max_depth=15, max_features=20, min_samples_split=2, score=0.543, total=   1.4s\n",
      "[CV] max_depth=15, max_features=20, min_samples_split=2 ..............\n",
      "[CV]  max_depth=15, max_features=20, min_samples_split=2, score=0.427, total=   1.4s\n",
      "[CV] max_depth=15, max_features=20, min_samples_split=2 ..............\n",
      "[CV]  max_depth=15, max_features=20, min_samples_split=2, score=0.565, total=   1.4s\n",
      "[CV] max_depth=15, max_features=20, min_samples_split=2 ..............\n",
      "[CV]  max_depth=15, max_features=20, min_samples_split=2, score=0.496, total=   1.5s\n",
      "[CV] max_depth=15, max_features=20, min_samples_split=5 ..............\n",
      "[CV]  max_depth=15, max_features=20, min_samples_split=5, score=0.401, total=   1.3s\n",
      "[CV] max_depth=15, max_features=20, min_samples_split=5 ..............\n",
      "[CV]  max_depth=15, max_features=20, min_samples_split=5, score=0.539, total=   1.3s\n",
      "[CV] max_depth=15, max_features=20, min_samples_split=5 ..............\n",
      "[CV]  max_depth=15, max_features=20, min_samples_split=5, score=0.433, total=   1.3s\n",
      "[CV] max_depth=15, max_features=20, min_samples_split=5 ..............\n",
      "[CV]  max_depth=15, max_features=20, min_samples_split=5, score=0.559, total=   1.3s\n",
      "[CV] max_depth=15, max_features=20, min_samples_split=5 ..............\n",
      "[CV]  max_depth=15, max_features=20, min_samples_split=5, score=0.501, total=   1.3s\n",
      "[CV] max_depth=15, max_features=20, min_samples_split=10 .............\n",
      "[CV]  max_depth=15, max_features=20, min_samples_split=10, score=0.399, total=   1.2s\n",
      "[CV] max_depth=15, max_features=20, min_samples_split=10 .............\n",
      "[CV]  max_depth=15, max_features=20, min_samples_split=10, score=0.547, total=   1.2s\n",
      "[CV] max_depth=15, max_features=20, min_samples_split=10 .............\n",
      "[CV]  max_depth=15, max_features=20, min_samples_split=10, score=0.445, total=   1.2s\n",
      "[CV] max_depth=15, max_features=20, min_samples_split=10 .............\n",
      "[CV]  max_depth=15, max_features=20, min_samples_split=10, score=0.558, total=   1.2s\n",
      "[CV] max_depth=15, max_features=20, min_samples_split=10 .............\n",
      "[CV]  max_depth=15, max_features=20, min_samples_split=10, score=0.492, total=   1.2s\n",
      "[CV] max_depth=20, max_features=10, min_samples_split=2 ..............\n",
      "[CV]  max_depth=20, max_features=10, min_samples_split=2, score=0.406, total=   0.9s\n",
      "[CV] max_depth=20, max_features=10, min_samples_split=2 ..............\n",
      "[CV]  max_depth=20, max_features=10, min_samples_split=2, score=0.518, total=   1.0s\n",
      "[CV] max_depth=20, max_features=10, min_samples_split=2 ..............\n",
      "[CV]  max_depth=20, max_features=10, min_samples_split=2, score=0.415, total=   1.0s\n",
      "[CV] max_depth=20, max_features=10, min_samples_split=2 ..............\n",
      "[CV]  max_depth=20, max_features=10, min_samples_split=2, score=0.523, total=   1.0s\n",
      "[CV] max_depth=20, max_features=10, min_samples_split=2 ..............\n",
      "[CV]  max_depth=20, max_features=10, min_samples_split=2, score=0.465, total=   0.9s\n",
      "[CV] max_depth=20, max_features=10, min_samples_split=5 ..............\n",
      "[CV]  max_depth=20, max_features=10, min_samples_split=5, score=0.421, total=   0.8s\n",
      "[CV] max_depth=20, max_features=10, min_samples_split=5 ..............\n",
      "[CV]  max_depth=20, max_features=10, min_samples_split=5, score=0.534, total=   0.8s\n",
      "[CV] max_depth=20, max_features=10, min_samples_split=5 ..............\n",
      "[CV]  max_depth=20, max_features=10, min_samples_split=5, score=0.418, total=   1.0s\n",
      "[CV] max_depth=20, max_features=10, min_samples_split=5 ..............\n",
      "[CV]  max_depth=20, max_features=10, min_samples_split=5, score=0.523, total=   0.8s\n",
      "[CV] max_depth=20, max_features=10, min_samples_split=5 ..............\n",
      "[CV]  max_depth=20, max_features=10, min_samples_split=5, score=0.458, total=   0.8s\n",
      "[CV] max_depth=20, max_features=10, min_samples_split=10 .............\n",
      "[CV]  max_depth=20, max_features=10, min_samples_split=10, score=0.400, total=   0.8s\n",
      "[CV] max_depth=20, max_features=10, min_samples_split=10 .............\n",
      "[CV]  max_depth=20, max_features=10, min_samples_split=10, score=0.519, total=   0.8s\n",
      "[CV] max_depth=20, max_features=10, min_samples_split=10 .............\n",
      "[CV]  max_depth=20, max_features=10, min_samples_split=10, score=0.421, total=   0.7s\n",
      "[CV] max_depth=20, max_features=10, min_samples_split=10 .............\n",
      "[CV]  max_depth=20, max_features=10, min_samples_split=10, score=0.523, total=   0.8s\n",
      "[CV] max_depth=20, max_features=10, min_samples_split=10 .............\n",
      "[CV]  max_depth=20, max_features=10, min_samples_split=10, score=0.468, total=   0.8s\n",
      "[CV] max_depth=20, max_features=15, min_samples_split=2 ..............\n",
      "[CV]  max_depth=20, max_features=15, min_samples_split=2, score=0.402, total=   1.1s\n",
      "[CV] max_depth=20, max_features=15, min_samples_split=2 ..............\n",
      "[CV]  max_depth=20, max_features=15, min_samples_split=2, score=0.543, total=   1.2s\n",
      "[CV] max_depth=20, max_features=15, min_samples_split=2 ..............\n",
      "[CV]  max_depth=20, max_features=15, min_samples_split=2, score=0.419, total=   1.1s\n",
      "[CV] max_depth=20, max_features=15, min_samples_split=2 ..............\n",
      "[CV]  max_depth=20, max_features=15, min_samples_split=2, score=0.543, total=   1.2s\n",
      "[CV] max_depth=20, max_features=15, min_samples_split=2 ..............\n",
      "[CV]  max_depth=20, max_features=15, min_samples_split=2, score=0.479, total=   1.2s\n",
      "[CV] max_depth=20, max_features=15, min_samples_split=5 ..............\n",
      "[CV]  max_depth=20, max_features=15, min_samples_split=5, score=0.410, total=   1.1s\n",
      "[CV] max_depth=20, max_features=15, min_samples_split=5 ..............\n",
      "[CV]  max_depth=20, max_features=15, min_samples_split=5, score=0.541, total=   1.1s\n",
      "[CV] max_depth=20, max_features=15, min_samples_split=5 ..............\n",
      "[CV]  max_depth=20, max_features=15, min_samples_split=5, score=0.431, total=   1.1s\n",
      "[CV] max_depth=20, max_features=15, min_samples_split=5 ..............\n",
      "[CV]  max_depth=20, max_features=15, min_samples_split=5, score=0.544, total=   1.2s\n",
      "[CV] max_depth=20, max_features=15, min_samples_split=5 ..............\n",
      "[CV]  max_depth=20, max_features=15, min_samples_split=5, score=0.477, total=   1.1s\n",
      "[CV] max_depth=20, max_features=15, min_samples_split=10 .............\n",
      "[CV]  max_depth=20, max_features=15, min_samples_split=10, score=0.397, total=   1.0s\n",
      "[CV] max_depth=20, max_features=15, min_samples_split=10 .............\n",
      "[CV]  max_depth=20, max_features=15, min_samples_split=10, score=0.541, total=   1.0s\n",
      "[CV] max_depth=20, max_features=15, min_samples_split=10 .............\n",
      "[CV]  max_depth=20, max_features=15, min_samples_split=10, score=0.427, total=   1.0s\n",
      "[CV] max_depth=20, max_features=15, min_samples_split=10 .............\n",
      "[CV]  max_depth=20, max_features=15, min_samples_split=10, score=0.544, total=   1.0s\n",
      "[CV] max_depth=20, max_features=15, min_samples_split=10 .............\n",
      "[CV]  max_depth=20, max_features=15, min_samples_split=10, score=0.476, total=   1.0s\n",
      "[CV] max_depth=20, max_features=20, min_samples_split=2 ..............\n",
      "[CV]  max_depth=20, max_features=20, min_samples_split=2, score=0.401, total=   1.4s\n",
      "[CV] max_depth=20, max_features=20, min_samples_split=2 ..............\n",
      "[CV]  max_depth=20, max_features=20, min_samples_split=2, score=0.547, total=   1.4s\n",
      "[CV] max_depth=20, max_features=20, min_samples_split=2 ..............\n",
      "[CV]  max_depth=20, max_features=20, min_samples_split=2, score=0.427, total=   1.4s\n",
      "[CV] max_depth=20, max_features=20, min_samples_split=2 ..............\n",
      "[CV]  max_depth=20, max_features=20, min_samples_split=2, score=0.552, total=   1.4s\n",
      "[CV] max_depth=20, max_features=20, min_samples_split=2 ..............\n",
      "[CV]  max_depth=20, max_features=20, min_samples_split=2, score=0.501, total=   1.4s\n",
      "[CV] max_depth=20, max_features=20, min_samples_split=5 ..............\n",
      "[CV]  max_depth=20, max_features=20, min_samples_split=5, score=0.399, total=   1.3s\n",
      "[CV] max_depth=20, max_features=20, min_samples_split=5 ..............\n",
      "[CV]  max_depth=20, max_features=20, min_samples_split=5, score=0.543, total=   1.3s\n",
      "[CV] max_depth=20, max_features=20, min_samples_split=5 ..............\n",
      "[CV]  max_depth=20, max_features=20, min_samples_split=5, score=0.446, total=   1.3s\n",
      "[CV] max_depth=20, max_features=20, min_samples_split=5 ..............\n",
      "[CV]  max_depth=20, max_features=20, min_samples_split=5, score=0.551, total=   1.4s\n",
      "[CV] max_depth=20, max_features=20, min_samples_split=5 ..............\n",
      "[CV]  max_depth=20, max_features=20, min_samples_split=5, score=0.505, total=   1.3s\n",
      "[CV] max_depth=20, max_features=20, min_samples_split=10 .............\n",
      "[CV]  max_depth=20, max_features=20, min_samples_split=10, score=0.396, total=   1.2s\n",
      "[CV] max_depth=20, max_features=20, min_samples_split=10 .............\n",
      "[CV]  max_depth=20, max_features=20, min_samples_split=10, score=0.550, total=   1.3s\n",
      "[CV] max_depth=20, max_features=20, min_samples_split=10 .............\n",
      "[CV]  max_depth=20, max_features=20, min_samples_split=10, score=0.448, total=   1.3s\n",
      "[CV] max_depth=20, max_features=20, min_samples_split=10 .............\n",
      "[CV]  max_depth=20, max_features=20, min_samples_split=10, score=0.557, total=   1.2s\n",
      "[CV] max_depth=20, max_features=20, min_samples_split=10 .............\n",
      "[CV]  max_depth=20, max_features=20, min_samples_split=10, score=0.491, total=   1.3s\n"
     ]
    },
    {
     "name": "stderr",
     "output_type": "stream",
     "text": [
      "[Parallel(n_jobs=1)]: Done 135 out of 135 | elapsed:  2.4min finished\n"
     ]
    },
    {
     "name": "stdout",
     "output_type": "stream",
     "text": [
      "        mae       mse      rmse      osr2\n",
      "0  0.682274  0.795027  0.891643  0.502813\n",
      "{'max_depth': 10, 'max_features': 20, 'min_samples_split': 2}\n"
     ]
    },
    {
     "data": {
      "image/png": "[encoded data removed]",
      "text/plain": [
       "<Figure size 800x320 with 1 Axes>"
      ]
     },
     "metadata": {
      "needs_background": "light"
     },
     "output_type": "display_data"
    }
   ],
   "source": [
    "RFReg = RandomForest_model(train_valid, test)"
   ]
  },
  {
   "cell_type": "markdown",
   "metadata": {},
   "source": [
    "## XGBoost"
   ]
  },
  {
   "cell_type": "code",
   "execution_count": 98,
   "metadata": {},
   "outputs": [],
   "source": [
    "def XGB_model(train_valid, test):\n",
    "\n",
    "    #  define model\n",
    "    model = XGBRegressor(n_estimators = 200, random_state=0)\n",
    "\n",
    "    # define parameters\n",
    "    parameters = {\"max_depth\": [4, 6, 10],\n",
    "                  \"alpha\": [0, 0.1, 0.3],\n",
    "                  \"eta\": [0.001, 0.1, 0.3],\n",
    "                  }\n",
    "\n",
    "    # define grid search\n",
    "    grid = GridSearchCV(model, parameters)\n",
    "\n",
    "    # fit the model\n",
    "    grid.fit(get_features(train_valid), get_target(train_valid))\n",
    "\n",
    "    # predict\n",
    "    pred = grid.predict(get_features(test))\n",
    "\n",
    "    compute_results(pred, get_target(test))\n",
    "\n",
    "    check_prediction_value(pred, get_target(test))\n",
    "\n",
    "    print(grid.best_params_)\n",
    "\n",
    "    return grid.best_estimator_\n",
    "    \n"
   ]
  },
  {
   "cell_type": "code",
   "execution_count": 99,
   "metadata": {},
   "outputs": [
    {
     "name": "stdout",
     "output_type": "stream",
     "text": [
      "        mae        mse      rmse      osr2\n",
      "0  4.720444  65.413068  8.087835  0.531276\n",
      "{'alpha': 0, 'eta': 0.1, 'max_depth': 4}\n"
     ]
    },
    {
     "data": {
      "image/png": "[encoded data removed]",
      "text/plain": [
       "<Figure size 800x320 with 1 Axes>"
      ]
     },
     "metadata": {
      "needs_background": "light"
     },
     "output_type": "display_data"
    }
   ],
   "source": [
    "XGBReg = XGB_model(train_valid, test)"
   ]
  }
 ],
 "metadata": {
  "kernelspec": {
   "display_name": "Python 3.8.5 ('base')",
   "language": "python",
   "name": "python3"
  },
  "language_info": {
   "codemirror_mode": {
    "name": "ipython",
    "version": 3
   },
   "file_extension": ".py",
   "mimetype": "text/x-python",
   "name": "python",
   "nbconvert_exporter": "python",
   "pygments_lexer": "ipython3",
   "version": "3.8.5"
  },
  "orig_nbformat": 4,
  "vscode": {
   "interpreter": {
    "hash": "52002eef324b916e53a46f596d2d141481c25a5be36e2d1baddbb05f14750a5c"
   }
  }
 },
 "nbformat": 4,
 "nbformat_minor": 2
}
