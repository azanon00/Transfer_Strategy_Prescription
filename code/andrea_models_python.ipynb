{
 "cells": [
  {
   "cell_type": "markdown",
   "metadata": {},
   "source": [
    "####\n",
    "We should put some if clauses such that if contract expires or there is a release clause our prediction is not made by the model, but we already know the transfer value\n",
    "###"
   ]
  },
  {
   "cell_type": "code",
   "execution_count": 80,
   "metadata": {},
   "outputs": [],
   "source": [
    "import pandas as pd\n",
    "import numpy as np\n",
    "from collections import Counter\n",
    "from sklearn.preprocessing import OneHotEncoder\n",
    "import os\n",
    "import glob\n",
    "from sklearn.model_selection import train_test_split\n",
    "from sklearn.model_selection import GridSearchCV\n",
    "from sklearn.linear_model import LinearRegression\n",
    "from sklearn.linear_model import Lasso\n",
    "from sklearn.linear_model import LassoCV\n",
    "from sklearn.ensemble  import RandomForestRegressor\n",
    "from matplotlib import pyplot as plt\n",
    "from matplotlib.pyplot import figure\n",
    "from xgboost import XGBRegressor"
   ]
  },
  {
   "cell_type": "code",
   "execution_count": 103,
   "metadata": {},
   "outputs": [
    {
     "data": {
      "text/html": [
       "<div>\n",
       "<style scoped>\n",
       "    .dataframe tbody tr th:only-of-type {\n",
       "        vertical-align: middle;\n",
       "    }\n",
       "\n",
       "    .dataframe tbody tr th {\n",
       "        vertical-align: top;\n",
       "    }\n",
       "\n",
       "    .dataframe thead th {\n",
       "        text-align: right;\n",
       "    }\n",
       "</style>\n",
       "<table border=\"1\" class=\"dataframe\">\n",
       "  <thead>\n",
       "    <tr style=\"text-align: right;\">\n",
       "      <th></th>\n",
       "      <th>transfer_period</th>\n",
       "      <th>fee</th>\n",
       "      <th>year</th>\n",
       "      <th>overall</th>\n",
       "      <th>potential</th>\n",
       "      <th>value_eur</th>\n",
       "      <th>wage_eur</th>\n",
       "      <th>age</th>\n",
       "      <th>height_cm</th>\n",
       "      <th>weight_kg</th>\n",
       "      <th>...</th>\n",
       "      <th>goalkeeping_handling</th>\n",
       "      <th>goalkeeping_kicking</th>\n",
       "      <th>goalkeeping_positioning</th>\n",
       "      <th>goalkeeping_reflexes</th>\n",
       "      <th>position_A</th>\n",
       "      <th>position_D</th>\n",
       "      <th>position_G</th>\n",
       "      <th>position_M</th>\n",
       "      <th>attack_work_rate</th>\n",
       "      <th>defense_work_rate</th>\n",
       "    </tr>\n",
       "  </thead>\n",
       "  <tbody>\n",
       "    <tr>\n",
       "      <th>0</th>\n",
       "      <td>0</td>\n",
       "      <td>9.0</td>\n",
       "      <td>2020</td>\n",
       "      <td>63.0</td>\n",
       "      <td>77.0</td>\n",
       "      <td>750000.0</td>\n",
       "      <td>2000.0</td>\n",
       "      <td>18.0</td>\n",
       "      <td>186.0</td>\n",
       "      <td>74.0</td>\n",
       "      <td>...</td>\n",
       "      <td>10.0</td>\n",
       "      <td>11.0</td>\n",
       "      <td>9.0</td>\n",
       "      <td>10.0</td>\n",
       "      <td>0.0</td>\n",
       "      <td>0.0</td>\n",
       "      <td>0.0</td>\n",
       "      <td>1.0</td>\n",
       "      <td>3.0</td>\n",
       "      <td>2.0</td>\n",
       "    </tr>\n",
       "    <tr>\n",
       "      <th>1</th>\n",
       "      <td>1</td>\n",
       "      <td>0.0</td>\n",
       "      <td>2020</td>\n",
       "      <td>72.0</td>\n",
       "      <td>75.0</td>\n",
       "      <td>4000000.0</td>\n",
       "      <td>12000.0</td>\n",
       "      <td>25.0</td>\n",
       "      <td>181.0</td>\n",
       "      <td>69.0</td>\n",
       "      <td>...</td>\n",
       "      <td>14.0</td>\n",
       "      <td>6.0</td>\n",
       "      <td>14.0</td>\n",
       "      <td>10.0</td>\n",
       "      <td>1.0</td>\n",
       "      <td>0.0</td>\n",
       "      <td>0.0</td>\n",
       "      <td>0.0</td>\n",
       "      <td>2.0</td>\n",
       "      <td>2.0</td>\n",
       "    </tr>\n",
       "    <tr>\n",
       "      <th>2</th>\n",
       "      <td>1</td>\n",
       "      <td>0.0</td>\n",
       "      <td>2020</td>\n",
       "      <td>72.0</td>\n",
       "      <td>72.0</td>\n",
       "      <td>2700000.0</td>\n",
       "      <td>30000.0</td>\n",
       "      <td>31.0</td>\n",
       "      <td>182.0</td>\n",
       "      <td>74.0</td>\n",
       "      <td>...</td>\n",
       "      <td>1.0</td>\n",
       "      <td>1.0</td>\n",
       "      <td>1.0</td>\n",
       "      <td>1.0</td>\n",
       "      <td>0.0</td>\n",
       "      <td>0.0</td>\n",
       "      <td>0.0</td>\n",
       "      <td>1.0</td>\n",
       "      <td>2.0</td>\n",
       "      <td>2.0</td>\n",
       "    </tr>\n",
       "    <tr>\n",
       "      <th>3</th>\n",
       "      <td>1</td>\n",
       "      <td>0.0</td>\n",
       "      <td>2020</td>\n",
       "      <td>60.0</td>\n",
       "      <td>76.0</td>\n",
       "      <td>425000.0</td>\n",
       "      <td>2000.0</td>\n",
       "      <td>18.0</td>\n",
       "      <td>183.0</td>\n",
       "      <td>78.0</td>\n",
       "      <td>...</td>\n",
       "      <td>13.0</td>\n",
       "      <td>13.0</td>\n",
       "      <td>12.0</td>\n",
       "      <td>8.0</td>\n",
       "      <td>1.0</td>\n",
       "      <td>0.0</td>\n",
       "      <td>0.0</td>\n",
       "      <td>0.0</td>\n",
       "      <td>2.0</td>\n",
       "      <td>2.0</td>\n",
       "    </tr>\n",
       "    <tr>\n",
       "      <th>4</th>\n",
       "      <td>1</td>\n",
       "      <td>4.0</td>\n",
       "      <td>2020</td>\n",
       "      <td>73.0</td>\n",
       "      <td>81.0</td>\n",
       "      <td>6000000.0</td>\n",
       "      <td>21000.0</td>\n",
       "      <td>22.0</td>\n",
       "      <td>178.0</td>\n",
       "      <td>76.0</td>\n",
       "      <td>...</td>\n",
       "      <td>14.0</td>\n",
       "      <td>12.0</td>\n",
       "      <td>15.0</td>\n",
       "      <td>11.0</td>\n",
       "      <td>1.0</td>\n",
       "      <td>0.0</td>\n",
       "      <td>0.0</td>\n",
       "      <td>0.0</td>\n",
       "      <td>3.0</td>\n",
       "      <td>1.0</td>\n",
       "    </tr>\n",
       "  </tbody>\n",
       "</table>\n",
       "<p>5 rows × 64 columns</p>\n",
       "</div>"
      ],
      "text/plain": [
       "   transfer_period  fee  year  overall  potential  value_eur  wage_eur   age  \\\n",
       "0                0  9.0  2020     63.0       77.0   750000.0    2000.0  18.0   \n",
       "1                1  0.0  2020     72.0       75.0  4000000.0   12000.0  25.0   \n",
       "2                1  0.0  2020     72.0       72.0  2700000.0   30000.0  31.0   \n",
       "3                1  0.0  2020     60.0       76.0   425000.0    2000.0  18.0   \n",
       "4                1  4.0  2020     73.0       81.0  6000000.0   21000.0  22.0   \n",
       "\n",
       "   height_cm  weight_kg  ...  goalkeeping_handling  goalkeeping_kicking  \\\n",
       "0      186.0       74.0  ...                  10.0                 11.0   \n",
       "1      181.0       69.0  ...                  14.0                  6.0   \n",
       "2      182.0       74.0  ...                   1.0                  1.0   \n",
       "3      183.0       78.0  ...                  13.0                 13.0   \n",
       "4      178.0       76.0  ...                  14.0                 12.0   \n",
       "\n",
       "   goalkeeping_positioning  goalkeeping_reflexes  position_A  position_D  \\\n",
       "0                      9.0                  10.0         0.0         0.0   \n",
       "1                     14.0                  10.0         1.0         0.0   \n",
       "2                      1.0                   1.0         0.0         0.0   \n",
       "3                     12.0                   8.0         1.0         0.0   \n",
       "4                     15.0                  11.0         1.0         0.0   \n",
       "\n",
       "   position_G  position_M  attack_work_rate  defense_work_rate  \n",
       "0         0.0         1.0               3.0                2.0  \n",
       "1         0.0         0.0               2.0                2.0  \n",
       "2         0.0         1.0               2.0                2.0  \n",
       "3         0.0         0.0               2.0                2.0  \n",
       "4         0.0         0.0               3.0                1.0  \n",
       "\n",
       "[5 rows x 64 columns]"
      ]
     },
     "execution_count": 103,
     "metadata": {},
     "output_type": "execute_result"
    }
   ],
   "source": [
    "# read files\n",
    "from pathlib import Path\n",
    "path = str(Path(\"andrea_models.ipynb\").parent.absolute().parent.absolute()) + \"/data/Final/\"\n",
    "csv_files = glob.glob(os.path.join(path, \"*.csv\"))\n",
    "\n",
    "# create unique dataframe with all the players\n",
    "players = []\n",
    "\n",
    "# loop over the list of csv files\n",
    "for f in csv_files:\n",
    "      \n",
    "    # read the csv file\n",
    "    df = pd.read_csv(f)\n",
    "\n",
    "    # append the dataframe to the list\n",
    "    players.append(df)\n",
    "\n",
    "data = pd.concat(players).reset_index(drop = True)\n",
    "\n",
    "# save player_name in a variable\n",
    "player_name = data[\"player_name\"]\n",
    "\n",
    "# drop the columns that are not needed\n",
    "data.drop([\"player_name\", \"short_name\", \"previous_short_name\", \"name_similarity\", \"club_similarity\", \"new_club\", \"old_club\", \"club_name\"], axis = 1, inplace = True)\n",
    "\n",
    "data.head()"
   ]
  },
  {
   "cell_type": "code",
   "execution_count": 106,
   "metadata": {},
   "outputs": [
    {
     "data": {
      "text/plain": [
       "0         Kouadio Koné\n",
       "8           Nathan Aké\n",
       "20      Frederik Alves\n",
       "21      Mohammed Kudus\n",
       "26      Jonathan Panzo\n",
       "             ...      \n",
       "1315            Bremer\n",
       "1317            Antony\n",
       "1324       Min-jae Kim\n",
       "1327           Vitinha\n",
       "1331       Samuel Lino\n",
       "Name: player_name, Length: 262, dtype: object"
      ]
     },
     "execution_count": 106,
     "metadata": {},
     "output_type": "execute_result"
    }
   ],
   "source": [
    "# print player_name where release_clause_eur is lower than fee\n",
    "player_name[data[\"release_clause_eur\"] / 1000000 < data[\"fee\"]]"
   ]
  },
  {
   "cell_type": "code",
   "execution_count": 82,
   "metadata": {},
   "outputs": [],
   "source": [
    "# train-test split, use random_state = 0\n",
    "train_valid, test = train_test_split(data, test_size = 0.2, random_state = 0)\n",
    "\n",
    "# remove zero fees\n",
    "train_valid_no_zero = train_valid[train_valid[\"fee\"] != 0]\n",
    "test_no_zero = test[test[\"fee\"] != 0]"
   ]
  },
  {
   "cell_type": "code",
   "execution_count": 42,
   "metadata": {},
   "outputs": [],
   "source": [
    "# print them in new csv so we can use them in the other notebook\n",
    "train_valid.to_csv(\"train_valid.csv\", index = False)\n",
    "test.to_csv(\"test.csv\", index = False)"
   ]
  },
  {
   "cell_type": "code",
   "execution_count": 83,
   "metadata": {},
   "outputs": [],
   "source": [
    "# define target and features\n",
    "target = \"fee\""
   ]
  },
  {
   "cell_type": "code",
   "execution_count": 84,
   "metadata": {},
   "outputs": [
    {
     "data": {
      "text/plain": [
       "(269, 64)"
      ]
     },
     "execution_count": 84,
     "metadata": {},
     "output_type": "execute_result"
    }
   ],
   "source": [
    "# distribution\n",
    "train_valid.shape\n",
    "test.shape"
   ]
  },
  {
   "cell_type": "markdown",
   "metadata": {},
   "source": [
    "## Data pre-processing: fees and release clauses"
   ]
  },
  {
   "cell_type": "code",
   "execution_count": 85,
   "metadata": {},
   "outputs": [
    {
     "name": "stderr",
     "output_type": "stream",
     "text": [
      "/var/folders/lf/rts57f595bn_1gbpcfsjp4br0000gn/T/ipykernel_64248/3251400013.py:1: SettingWithCopyWarning: \n",
      "A value is trying to be set on a copy of a slice from a DataFrame.\n",
      "Try using .loc[row_indexer,col_indexer] = value instead\n",
      "\n",
      "See the caveats in the documentation: https://pandas.pydata.org/pandas-docs/stable/user_guide/indexing.html#returning-a-view-versus-a-copy\n",
      "  train_valid_no_zero[\"release_clause_eur\"] = train_valid_no_zero[\"release_clause_eur\"] / 1000000\n"
     ]
    }
   ],
   "source": [
    "train_valid_no_zero[\"release_clause_eur\"] = train_valid_no_zero[\"release_clause_eur\"] / 1000000"
   ]
  },
  {
   "cell_type": "code",
   "execution_count": 86,
   "metadata": {},
   "outputs": [
    {
     "data": {
      "text/plain": [
       "count    647.000000\n",
       "mean      10.590943\n",
       "std       15.341428\n",
       "min        0.100000\n",
       "25%        2.000000\n",
       "50%        4.500000\n",
       "75%       13.000000\n",
       "max      117.500000\n",
       "Name: fee, dtype: float64"
      ]
     },
     "execution_count": 86,
     "metadata": {},
     "output_type": "execute_result"
    }
   ],
   "source": [
    "# compare train_valid_no_zero.fee and train_valid_no_zero.release_clause_eur\n",
    "train_valid_no_zero[\"fee\"].describe()"
   ]
  },
  {
   "cell_type": "code",
   "execution_count": 87,
   "metadata": {},
   "outputs": [
    {
     "data": {
      "text/plain": [
       "count    647.000000\n",
       "mean      16.995799\n",
       "std       24.763057\n",
       "min        0.150000\n",
       "25%        2.800000\n",
       "50%        8.400000\n",
       "75%       20.350000\n",
       "max      206.900000\n",
       "Name: release_clause_eur, dtype: float64"
      ]
     },
     "execution_count": 87,
     "metadata": {},
     "output_type": "execute_result"
    }
   ],
   "source": [
    "train_valid_no_zero[\"release_clause_eur\"].describe()"
   ]
  },
  {
   "cell_type": "code",
   "execution_count": 88,
   "metadata": {},
   "outputs": [
    {
     "data": {
      "text/plain": [
       "count    647.000000\n",
       "mean       6.404856\n",
       "std       19.109330\n",
       "min      -80.000000\n",
       "25%       -1.050000\n",
       "50%        2.200000\n",
       "75%       10.950000\n",
       "max      154.900000\n",
       "dtype: float64"
      ]
     },
     "execution_count": 88,
     "metadata": {},
     "output_type": "execute_result"
    }
   ],
   "source": [
    "# only consider players with a release clause > 0\n",
    "positive_release_clause = train_valid_no_zero[train_valid_no_zero[\"release_clause_eur\"] > 0]\n",
    "\n",
    "# compare fees and release clause columns\n",
    "difference = positive_release_clause[\"release_clause_eur\"] - positive_release_clause[\"fee\"]\n",
    "difference.describe()"
   ]
  },
  {
   "cell_type": "code",
   "execution_count": 89,
   "metadata": {},
   "outputs": [
    {
     "data": {
      "image/png": "[encoded data removed]",
      "text/plain": [
       "<Figure size 640x480 with 1 Axes>"
      ]
     },
     "metadata": {},
     "output_type": "display_data"
    },
    {
     "name": "stdout",
     "output_type": "stream",
     "text": [
      "Proportion of negative values in difference:  31.993817619783616\n"
     ]
    }
   ],
   "source": [
    "# plot the difference\n",
    "figure(figsize=(8, 6), dpi=80)\n",
    "plt.hist(difference, bins = 100)\n",
    "plt.title(\"Difference between release clause and fee\")\n",
    "plt.xlabel(\"Difference\")\n",
    "plt.ylabel(\"Count\")\n",
    "plt.show()\n",
    "\n",
    "# print proportion of negative values in difference\n",
    "print(\"Proportion of negative values in difference: \", len(difference[difference < 0]) / len(difference) * 100)"
   ]
  },
  {
   "cell_type": "markdown",
   "metadata": {},
   "source": [
    "## Define functions that will be used across models"
   ]
  },
  {
   "cell_type": "code",
   "execution_count": 45,
   "metadata": {},
   "outputs": [],
   "source": [
    "def get_features(df):\n",
    "    return df.drop(target, axis = 1)"
   ]
  },
  {
   "cell_type": "code",
   "execution_count": 46,
   "metadata": {},
   "outputs": [],
   "source": [
    "def get_target(df):\n",
    "    \n",
    "    # apply log transformation to the target\n",
    "    y = [np.log(element + 1) for element in df[target] ]\n",
    "    return y"
   ]
  },
  {
   "cell_type": "code",
   "execution_count": 47,
   "metadata": {},
   "outputs": [],
   "source": [
    "def compute_results(pred, test):\n",
    "    # compute the mean absolute error\n",
    "    mae = np.mean(np.abs(pred - test))\n",
    "    # compute the mean squared error\n",
    "    mse = np.mean((pred - test)**2)\n",
    "    # compute the root mean squared error\n",
    "    rmse = np.sqrt(mse)\n",
    "    # compute the r2\n",
    "    osr2 = np.mean((pred - test)**2) / np.var(test)\n",
    "\n",
    "    # turn into dataframe\n",
    "    results = pd.DataFrame({\"mae\": mae, \"mse\": mse, \"rmse\": rmse, \"osr2\": osr2}, index = [0])\n",
    "\n",
    "    # print the results\n",
    "    print(results)"
   ]
  },
  {
   "cell_type": "code",
   "execution_count": 48,
   "metadata": {},
   "outputs": [],
   "source": [
    "def check_prediction_value(pred, test):\n",
    "\n",
    "    # set dimensions\n",
    "    figure(figsize=(10, 4), dpi=80)\n",
    "    \n",
    "    xaxes = np.arange(0, len(pred))\n",
    "    plt.hist(pred, xaxes, alpha = 0.5, label = \"pred\", color = \"red\")\n",
    "    plt.hist(test, xaxes, alpha = 0.5, label = \"test\", color = \"blue\")\n",
    "    plt.legend(loc = \"upper right\")\n"
   ]
  },
  {
   "cell_type": "markdown",
   "metadata": {},
   "source": [
    "## Linear Regression"
   ]
  },
  {
   "cell_type": "code",
   "execution_count": 29,
   "metadata": {},
   "outputs": [],
   "source": [
    "def LinearRegression_model(train_valid, test):\n",
    "\n",
    "    # define model\n",
    "    model = LinearRegression()\n",
    "\n",
    "    # fit the model\n",
    "    model.fit(get_features(train_valid), get_target(train_valid))\n",
    "\n",
    "    # predict\n",
    "    pred = model.predict(get_features(test))\n",
    "\n",
    "    # transform back to original scale\n",
    "    pred_scaled = [np.exp(element) - 1 for element in pred]\n",
    "\n",
    "    # compute results\n",
    "    compute_results(pred_scaled, test[target])\n",
    "\n",
    "    check_prediction_value(pred_scaled, test[target])\n",
    "\n",
    "    return model"
   ]
  },
  {
   "cell_type": "code",
   "execution_count": 30,
   "metadata": {},
   "outputs": [
    {
     "name": "stdout",
     "output_type": "stream",
     "text": [
      "        mae          mse       rmse       osr2\n",
      "0  6.726943  1858.897493  43.114934  15.097701\n"
     ]
    },
    {
     "data": {
      "image/png": "[encoded data removed]",
      "text/plain": [
       "<Figure size 800x320 with 1 Axes>"
      ]
     },
     "metadata": {},
     "output_type": "display_data"
    }
   ],
   "source": [
    "LinReg = LinearRegression_model(train_valid, test)"
   ]
  },
  {
   "cell_type": "code",
   "execution_count": 37,
   "metadata": {},
   "outputs": [
    {
     "name": "stdout",
     "output_type": "stream",
     "text": [
      "        mae        mse      rmse      osr2\n",
      "0  5.786416  84.640889  9.200048  0.687441\n",
      "MAE:  5.786416331990907\n"
     ]
    },
    {
     "data": {
      "image/png": "[encoded data removed]",
      "text/plain": [
       "<Figure size 800x320 with 1 Axes>"
      ]
     },
     "metadata": {},
     "output_type": "display_data"
    }
   ],
   "source": [
    "model = LinearRegression()\n",
    "\n",
    "# fit the model\n",
    "model.fit(get_features(train_valid), train_valid[target])\n",
    "\n",
    "# predict\n",
    "pred = model.predict(get_features(test))\n",
    "\n",
    "# print the results\n",
    "compute_results(pred, test[target])\n",
    "\n",
    "check_prediction_value(pred, test[target])\n",
    "\n",
    "# print MAE\n",
    "print(\"MAE: \", np.mean(np.abs(pred - test[target])))\n"
   ]
  },
  {
   "cell_type": "code",
   "execution_count": 49,
   "metadata": {},
   "outputs": [
    {
     "name": "stdout",
     "output_type": "stream",
     "text": [
      "        mae         mse       rmse      osr2\n",
      "0  6.733397  108.037144  10.394092  0.645302\n",
      "MAE:  6.733396837273283\n"
     ]
    },
    {
     "data": {
      "image/png": "[encoded data removed]",
      "text/plain": [
       "<Figure size 800x320 with 1 Axes>"
      ]
     },
     "metadata": {},
     "output_type": "display_data"
    }
   ],
   "source": [
    "model_no_zero = LinearRegression()\n",
    "\n",
    "# fit the model\n",
    "model_no_zero.fit(get_features(train_valid_no_zero), train_valid_no_zero[target])\n",
    "\n",
    "# predict\n",
    "pred = model.predict(get_features(test_no_zero))\n",
    "\n",
    "# print the results\n",
    "compute_results(pred, test_no_zero[target])\n",
    "\n",
    "check_prediction_value(pred, test_no_zero[target])\n",
    "\n",
    "# print MAE\n",
    "print(\"MAE: \", np.mean(np.abs(pred - test_no_zero[target])))"
   ]
  },
  {
   "cell_type": "code",
   "execution_count": 55,
   "metadata": {},
   "outputs": [
    {
     "data": {
      "text/plain": [
       "10.510046367851624"
      ]
     },
     "execution_count": 55,
     "metadata": {},
     "output_type": "execute_result"
    },
    {
     "data": {
      "image/png": "[encoded data removed]",
      "text/plain": [
       "<Figure size 640x480 with 1 Axes>"
      ]
     },
     "metadata": {},
     "output_type": "display_data"
    }
   ],
   "source": [
    "# distribution of target in train_valid\n",
    "#train_valid[target].hist()\n",
    "#train_valid[target].mean()\n",
    "\n",
    "# distribution of target in train_valid_no_zero\n",
    "#train_valid_no_zero[target].hist()\n",
    "#train_valid_no_zero[target].mean()\n",
    "\n",
    "np.log(train_valid_no_zero[target] + 1).describe()\n",
    "np.log(train_valid[target] + 1).hist()\n",
    "\n",
    "# how many values are under 1\n",
    "len(train_valid_no_zero[train_valid_no_zero[target] < 1]) / len(train_valid_no_zero) * 100"
   ]
  },
  {
   "cell_type": "markdown",
   "metadata": {},
   "source": [
    "## Lasso Regression"
   ]
  },
  {
   "cell_type": "code",
   "execution_count": 13,
   "metadata": {},
   "outputs": [],
   "source": [
    "def Lasso_model(train_valid, test):\n",
    "\n",
    "    # define model\n",
    "    model = LassoCV(cv=5, random_state=0) # 5-fold cross validation to select the best alpha\n",
    "\n",
    "    # fit the model\n",
    "    model.fit(get_features(train_valid), get_target(train_valid))\n",
    "\n",
    "    # predict\n",
    "    pred = model.predict(get_features(test))\n",
    "\n",
    "    #compute_results(pred, get_target(test))\n",
    "    transform_and_results(pred, get_target(test))\n",
    "\n",
    "    check_prediction_value(pred, get_target(test))\n",
    "\n",
    "    return model"
   ]
  },
  {
   "cell_type": "code",
   "execution_count": 14,
   "metadata": {},
   "outputs": [
    {
     "name": "stdout",
     "output_type": "stream",
     "text": [
      "        mae         mse       rmse      osr2\n",
      "0  6.822481  586.434623  24.216412  4.762939\n"
     ]
    },
    {
     "data": {
      "image/png": "[encoded data removed]",
      "text/plain": [
       "<Figure size 800x320 with 1 Axes>"
      ]
     },
     "metadata": {},
     "output_type": "display_data"
    }
   ],
   "source": [
    "LassoReg = Lasso_model(train_valid, test)"
   ]
  },
  {
   "cell_type": "markdown",
   "metadata": {},
   "source": [
    "## Random Forest"
   ]
  },
  {
   "cell_type": "code",
   "execution_count": 15,
   "metadata": {},
   "outputs": [],
   "source": [
    "def RandomForest_model(train_valid, test):\n",
    "\n",
    "    # define model\n",
    "    model = RandomForestRegressor(n_estimators = 200, random_state=0)\n",
    "\n",
    "    # define parameters\n",
    "    parameters = {\"max_depth\": [10, 15, 20],\n",
    "                  \"min_samples_split\": [2, 5, 10],\n",
    "                  \"max_features\": [10, 15, 20],\n",
    "                  }\n",
    "\n",
    "    # define grid search\n",
    "    grid = GridSearchCV(model, parameters, verbose = 3)\n",
    "\n",
    "    # fit the model\n",
    "    grid.fit(get_features(train_valid), get_target(train_valid))\n",
    "\n",
    "    # predict\n",
    "    pred = grid.predict(get_features(test))\n",
    "\n",
    "    #compute_results(pred, get_target(test))\n",
    "    transform_and_results(pred, get_target(test))\n",
    "\n",
    "    check_prediction_value(pred, get_target(test))\n",
    "\n",
    "    print(grid.best_params_)\n",
    "\n",
    "    return grid.best_estimator_\n"
   ]
  },
  {
   "cell_type": "code",
   "execution_count": 16,
   "metadata": {},
   "outputs": [
    {
     "name": "stdout",
     "output_type": "stream",
     "text": [
      "Fitting 5 folds for each of 27 candidates, totalling 135 fits\n",
      "[CV 1/5] END max_depth=10, max_features=10, min_samples_split=2;, score=0.393 total time=   0.4s\n",
      "[CV 2/5] END max_depth=10, max_features=10, min_samples_split=2;, score=0.546 total time=   0.3s\n",
      "[CV 3/5] END max_depth=10, max_features=10, min_samples_split=2;, score=0.419 total time=   0.3s\n",
      "[CV 4/5] END max_depth=10, max_features=10, min_samples_split=2;, score=0.549 total time=   0.3s\n",
      "[CV 5/5] END max_depth=10, max_features=10, min_samples_split=2;, score=0.477 total time=   0.3s\n",
      "[CV 1/5] END max_depth=10, max_features=10, min_samples_split=5;, score=0.401 total time=   0.3s\n",
      "[CV 2/5] END max_depth=10, max_features=10, min_samples_split=5;, score=0.544 total time=   0.4s\n",
      "[CV 3/5] END max_depth=10, max_features=10, min_samples_split=5;, score=0.428 total time=   0.4s\n",
      "[CV 4/5] END max_depth=10, max_features=10, min_samples_split=5;, score=0.562 total time=   0.3s\n",
      "[CV 5/5] END max_depth=10, max_features=10, min_samples_split=5;, score=0.483 total time=   0.3s\n",
      "[CV 1/5] END max_depth=10, max_features=10, min_samples_split=10;, score=0.396 total time=   0.3s\n",
      "[CV 2/5] END max_depth=10, max_features=10, min_samples_split=10;, score=0.539 total time=   0.3s\n",
      "[CV 3/5] END max_depth=10, max_features=10, min_samples_split=10;, score=0.426 total time=   0.3s\n",
      "[CV 4/5] END max_depth=10, max_features=10, min_samples_split=10;, score=0.558 total time=   0.3s\n",
      "[CV 5/5] END max_depth=10, max_features=10, min_samples_split=10;, score=0.483 total time=   0.3s\n",
      "[CV 1/5] END max_depth=10, max_features=15, min_samples_split=2;, score=0.392 total time=   0.5s\n",
      "[CV 2/5] END max_depth=10, max_features=15, min_samples_split=2;, score=0.559 total time=   0.5s\n",
      "[CV 3/5] END max_depth=10, max_features=15, min_samples_split=2;, score=0.431 total time=   0.5s\n",
      "[CV 4/5] END max_depth=10, max_features=15, min_samples_split=2;, score=0.579 total time=   0.5s\n",
      "[CV 5/5] END max_depth=10, max_features=15, min_samples_split=2;, score=0.508 total time=   0.5s\n",
      "[CV 1/5] END max_depth=10, max_features=15, min_samples_split=5;, score=0.397 total time=   0.4s\n",
      "[CV 2/5] END max_depth=10, max_features=15, min_samples_split=5;, score=0.565 total time=   0.4s\n",
      "[CV 3/5] END max_depth=10, max_features=15, min_samples_split=5;, score=0.449 total time=   0.4s\n",
      "[CV 4/5] END max_depth=10, max_features=15, min_samples_split=5;, score=0.581 total time=   0.4s\n",
      "[CV 5/5] END max_depth=10, max_features=15, min_samples_split=5;, score=0.497 total time=   0.4s\n",
      "[CV 1/5] END max_depth=10, max_features=15, min_samples_split=10;, score=0.388 total time=   0.4s\n",
      "[CV 2/5] END max_depth=10, max_features=15, min_samples_split=10;, score=0.552 total time=   0.4s\n",
      "[CV 3/5] END max_depth=10, max_features=15, min_samples_split=10;, score=0.442 total time=   0.4s\n",
      "[CV 4/5] END max_depth=10, max_features=15, min_samples_split=10;, score=0.574 total time=   0.4s\n",
      "[CV 5/5] END max_depth=10, max_features=15, min_samples_split=10;, score=0.505 total time=   0.4s\n",
      "[CV 1/5] END max_depth=10, max_features=20, min_samples_split=2;, score=0.393 total time=   0.6s\n",
      "[CV 2/5] END max_depth=10, max_features=20, min_samples_split=2;, score=0.593 total time=   0.6s\n",
      "[CV 3/5] END max_depth=10, max_features=20, min_samples_split=2;, score=0.448 total time=   0.6s\n",
      "[CV 4/5] END max_depth=10, max_features=20, min_samples_split=2;, score=0.589 total time=   0.6s\n",
      "[CV 5/5] END max_depth=10, max_features=20, min_samples_split=2;, score=0.520 total time=   0.6s\n",
      "[CV 1/5] END max_depth=10, max_features=20, min_samples_split=5;, score=0.392 total time=   0.6s\n",
      "[CV 2/5] END max_depth=10, max_features=20, min_samples_split=5;, score=0.579 total time=   0.6s\n",
      "[CV 3/5] END max_depth=10, max_features=20, min_samples_split=5;, score=0.443 total time=   0.6s\n",
      "[CV 4/5] END max_depth=10, max_features=20, min_samples_split=5;, score=0.596 total time=   0.6s\n",
      "[CV 5/5] END max_depth=10, max_features=20, min_samples_split=5;, score=0.511 total time=   0.6s\n",
      "[CV 1/5] END max_depth=10, max_features=20, min_samples_split=10;, score=0.381 total time=   0.5s\n",
      "[CV 2/5] END max_depth=10, max_features=20, min_samples_split=10;, score=0.581 total time=   0.6s\n",
      "[CV 3/5] END max_depth=10, max_features=20, min_samples_split=10;, score=0.450 total time=   0.5s\n",
      "[CV 4/5] END max_depth=10, max_features=20, min_samples_split=10;, score=0.596 total time=   0.5s\n",
      "[CV 5/5] END max_depth=10, max_features=20, min_samples_split=10;, score=0.509 total time=   0.5s\n",
      "[CV 1/5] END max_depth=15, max_features=10, min_samples_split=2;, score=0.400 total time=   0.4s\n",
      "[CV 2/5] END max_depth=15, max_features=10, min_samples_split=2;, score=0.539 total time=   0.4s\n",
      "[CV 3/5] END max_depth=15, max_features=10, min_samples_split=2;, score=0.418 total time=   0.4s\n",
      "[CV 4/5] END max_depth=15, max_features=10, min_samples_split=2;, score=0.559 total time=   0.4s\n",
      "[CV 5/5] END max_depth=15, max_features=10, min_samples_split=2;, score=0.486 total time=   0.4s\n",
      "[CV 1/5] END max_depth=15, max_features=10, min_samples_split=5;, score=0.402 total time=   0.4s\n",
      "[CV 2/5] END max_depth=15, max_features=10, min_samples_split=5;, score=0.536 total time=   0.4s\n",
      "[CV 3/5] END max_depth=15, max_features=10, min_samples_split=5;, score=0.424 total time=   0.4s\n",
      "[CV 4/5] END max_depth=15, max_features=10, min_samples_split=5;, score=0.557 total time=   0.4s\n",
      "[CV 5/5] END max_depth=15, max_features=10, min_samples_split=5;, score=0.477 total time=   0.4s\n",
      "[CV 1/5] END max_depth=15, max_features=10, min_samples_split=10;, score=0.395 total time=   0.3s\n",
      "[CV 2/5] END max_depth=15, max_features=10, min_samples_split=10;, score=0.531 total time=   0.4s\n",
      "[CV 3/5] END max_depth=15, max_features=10, min_samples_split=10;, score=0.422 total time=   0.3s\n",
      "[CV 4/5] END max_depth=15, max_features=10, min_samples_split=10;, score=0.550 total time=   0.4s\n",
      "[CV 5/5] END max_depth=15, max_features=10, min_samples_split=10;, score=0.488 total time=   0.3s\n",
      "[CV 1/5] END max_depth=15, max_features=15, min_samples_split=2;, score=0.400 total time=   0.6s\n",
      "[CV 2/5] END max_depth=15, max_features=15, min_samples_split=2;, score=0.573 total time=   0.5s\n",
      "[CV 3/5] END max_depth=15, max_features=15, min_samples_split=2;, score=0.441 total time=   0.5s\n",
      "[CV 4/5] END max_depth=15, max_features=15, min_samples_split=2;, score=0.579 total time=   0.6s\n",
      "[CV 5/5] END max_depth=15, max_features=15, min_samples_split=2;, score=0.490 total time=   0.5s\n",
      "[CV 1/5] END max_depth=15, max_features=15, min_samples_split=5;, score=0.393 total time=   0.5s\n",
      "[CV 2/5] END max_depth=15, max_features=15, min_samples_split=5;, score=0.572 total time=   0.5s\n",
      "[CV 3/5] END max_depth=15, max_features=15, min_samples_split=5;, score=0.447 total time=   0.5s\n",
      "[CV 4/5] END max_depth=15, max_features=15, min_samples_split=5;, score=0.583 total time=   0.5s\n",
      "[CV 5/5] END max_depth=15, max_features=15, min_samples_split=5;, score=0.498 total time=   0.5s\n",
      "[CV 1/5] END max_depth=15, max_features=15, min_samples_split=10;, score=0.396 total time=   0.5s\n",
      "[CV 2/5] END max_depth=15, max_features=15, min_samples_split=10;, score=0.567 total time=   0.5s\n",
      "[CV 3/5] END max_depth=15, max_features=15, min_samples_split=10;, score=0.432 total time=   0.5s\n",
      "[CV 4/5] END max_depth=15, max_features=15, min_samples_split=10;, score=0.576 total time=   0.5s\n",
      "[CV 5/5] END max_depth=15, max_features=15, min_samples_split=10;, score=0.498 total time=   0.5s\n",
      "[CV 1/5] END max_depth=15, max_features=20, min_samples_split=2;, score=0.387 total time=   0.7s\n",
      "[CV 2/5] END max_depth=15, max_features=20, min_samples_split=2;, score=0.581 total time=   0.7s\n",
      "[CV 3/5] END max_depth=15, max_features=20, min_samples_split=2;, score=0.454 total time=   0.7s\n",
      "[CV 4/5] END max_depth=15, max_features=20, min_samples_split=2;, score=0.590 total time=   0.7s\n",
      "[CV 5/5] END max_depth=15, max_features=20, min_samples_split=2;, score=0.513 total time=   0.7s\n",
      "[CV 1/5] END max_depth=15, max_features=20, min_samples_split=5;, score=0.391 total time=   0.6s\n",
      "[CV 2/5] END max_depth=15, max_features=20, min_samples_split=5;, score=0.567 total time=   0.6s\n",
      "[CV 3/5] END max_depth=15, max_features=20, min_samples_split=5;, score=0.448 total time=   0.6s\n",
      "[CV 4/5] END max_depth=15, max_features=20, min_samples_split=5;, score=0.595 total time=   0.6s\n",
      "[CV 5/5] END max_depth=15, max_features=20, min_samples_split=5;, score=0.510 total time=   0.6s\n",
      "[CV 1/5] END max_depth=15, max_features=20, min_samples_split=10;, score=0.393 total time=   0.6s\n",
      "[CV 2/5] END max_depth=15, max_features=20, min_samples_split=10;, score=0.580 total time=   0.6s\n",
      "[CV 3/5] END max_depth=15, max_features=20, min_samples_split=10;, score=0.451 total time=   0.6s\n",
      "[CV 4/5] END max_depth=15, max_features=20, min_samples_split=10;, score=0.587 total time=   0.6s\n",
      "[CV 5/5] END max_depth=15, max_features=20, min_samples_split=10;, score=0.510 total time=   0.6s\n",
      "[CV 1/5] END max_depth=20, max_features=10, min_samples_split=2;, score=0.401 total time=   0.4s\n",
      "[CV 2/5] END max_depth=20, max_features=10, min_samples_split=2;, score=0.542 total time=   0.4s\n",
      "[CV 3/5] END max_depth=20, max_features=10, min_samples_split=2;, score=0.414 total time=   0.4s\n",
      "[CV 4/5] END max_depth=20, max_features=10, min_samples_split=2;, score=0.554 total time=   0.4s\n",
      "[CV 5/5] END max_depth=20, max_features=10, min_samples_split=2;, score=0.482 total time=   0.4s\n",
      "[CV 1/5] END max_depth=20, max_features=10, min_samples_split=5;, score=0.389 total time=   0.4s\n",
      "[CV 2/5] END max_depth=20, max_features=10, min_samples_split=5;, score=0.538 total time=   0.4s\n",
      "[CV 3/5] END max_depth=20, max_features=10, min_samples_split=5;, score=0.428 total time=   0.4s\n",
      "[CV 4/5] END max_depth=20, max_features=10, min_samples_split=5;, score=0.562 total time=   0.4s\n",
      "[CV 5/5] END max_depth=20, max_features=10, min_samples_split=5;, score=0.482 total time=   0.4s\n",
      "[CV 1/5] END max_depth=20, max_features=10, min_samples_split=10;, score=0.390 total time=   0.4s\n",
      "[CV 2/5] END max_depth=20, max_features=10, min_samples_split=10;, score=0.533 total time=   0.3s\n",
      "[CV 3/5] END max_depth=20, max_features=10, min_samples_split=10;, score=0.424 total time=   0.3s\n",
      "[CV 4/5] END max_depth=20, max_features=10, min_samples_split=10;, score=0.557 total time=   0.3s\n",
      "[CV 5/5] END max_depth=20, max_features=10, min_samples_split=10;, score=0.496 total time=   0.3s\n",
      "[CV 1/5] END max_depth=20, max_features=15, min_samples_split=2;, score=0.396 total time=   0.5s\n",
      "[CV 2/5] END max_depth=20, max_features=15, min_samples_split=2;, score=0.555 total time=   0.5s\n",
      "[CV 3/5] END max_depth=20, max_features=15, min_samples_split=2;, score=0.450 total time=   0.5s\n",
      "[CV 4/5] END max_depth=20, max_features=15, min_samples_split=2;, score=0.575 total time=   0.5s\n",
      "[CV 5/5] END max_depth=20, max_features=15, min_samples_split=2;, score=0.499 total time=   0.5s\n",
      "[CV 1/5] END max_depth=20, max_features=15, min_samples_split=5;, score=0.397 total time=   0.5s\n",
      "[CV 2/5] END max_depth=20, max_features=15, min_samples_split=5;, score=0.566 total time=   0.5s\n",
      "[CV 3/5] END max_depth=20, max_features=15, min_samples_split=5;, score=0.436 total time=   0.5s\n",
      "[CV 4/5] END max_depth=20, max_features=15, min_samples_split=5;, score=0.579 total time=   0.5s\n",
      "[CV 5/5] END max_depth=20, max_features=15, min_samples_split=5;, score=0.496 total time=   0.5s\n",
      "[CV 1/5] END max_depth=20, max_features=15, min_samples_split=10;, score=0.392 total time=   0.5s\n",
      "[CV 2/5] END max_depth=20, max_features=15, min_samples_split=10;, score=0.562 total time=   0.5s\n",
      "[CV 3/5] END max_depth=20, max_features=15, min_samples_split=10;, score=0.443 total time=   0.5s\n",
      "[CV 4/5] END max_depth=20, max_features=15, min_samples_split=10;, score=0.577 total time=   0.5s\n",
      "[CV 5/5] END max_depth=20, max_features=15, min_samples_split=10;, score=0.490 total time=   0.5s\n",
      "[CV 1/5] END max_depth=20, max_features=20, min_samples_split=2;, score=0.391 total time=   0.7s\n",
      "[CV 2/5] END max_depth=20, max_features=20, min_samples_split=2;, score=0.562 total time=   0.7s\n",
      "[CV 3/5] END max_depth=20, max_features=20, min_samples_split=2;, score=0.444 total time=   0.7s\n",
      "[CV 4/5] END max_depth=20, max_features=20, min_samples_split=2;, score=0.589 total time=   0.7s\n",
      "[CV 5/5] END max_depth=20, max_features=20, min_samples_split=2;, score=0.504 total time=   0.7s\n",
      "[CV 1/5] END max_depth=20, max_features=20, min_samples_split=5;, score=0.395 total time=   0.6s\n",
      "[CV 2/5] END max_depth=20, max_features=20, min_samples_split=5;, score=0.573 total time=   0.6s\n",
      "[CV 3/5] END max_depth=20, max_features=20, min_samples_split=5;, score=0.456 total time=   0.6s\n",
      "[CV 4/5] END max_depth=20, max_features=20, min_samples_split=5;, score=0.599 total time=   0.6s\n",
      "[CV 5/5] END max_depth=20, max_features=20, min_samples_split=5;, score=0.502 total time=   0.6s\n",
      "[CV 1/5] END max_depth=20, max_features=20, min_samples_split=10;, score=0.401 total time=   0.6s\n",
      "[CV 2/5] END max_depth=20, max_features=20, min_samples_split=10;, score=0.583 total time=   0.6s\n",
      "[CV 3/5] END max_depth=20, max_features=20, min_samples_split=10;, score=0.455 total time=   0.6s\n",
      "[CV 4/5] END max_depth=20, max_features=20, min_samples_split=10;, score=0.591 total time=   0.6s\n",
      "[CV 5/5] END max_depth=20, max_features=20, min_samples_split=10;, score=0.514 total time=   0.6s\n",
      "        mae        mse      rmse     osr2\n",
      "0  4.137104  75.953011  8.715102  0.61688\n",
      "{'max_depth': 10, 'max_features': 20, 'min_samples_split': 2}\n"
     ]
    },
    {
     "data": {
      "image/png": "[encoded data removed]",
      "text/plain": [
       "<Figure size 800x320 with 1 Axes>"
      ]
     },
     "metadata": {},
     "output_type": "display_data"
    }
   ],
   "source": [
    "RFReg = RandomForest_model(train_valid, test)"
   ]
  },
  {
   "cell_type": "markdown",
   "metadata": {},
   "source": [
    "## XGBoost"
   ]
  },
  {
   "cell_type": "code",
   "execution_count": 17,
   "metadata": {},
   "outputs": [],
   "source": [
    "def XGB_model(train_valid, test):\n",
    "\n",
    "    #  define model\n",
    "    model = XGBRegressor(n_estimators = 200, random_state=0)\n",
    "\n",
    "    # define parameters\n",
    "    parameters = {\"max_depth\": [4, 6, 10],\n",
    "                  \"alpha\": [0, 0.1, 0.3],\n",
    "                  \"eta\": [0.001, 0.1, 0.3],\n",
    "                  }\n",
    "\n",
    "    # define grid search\n",
    "    grid = GridSearchCV(model, parameters)\n",
    "\n",
    "    # fit the model\n",
    "    grid.fit(get_features(train_valid), get_target(train_valid))\n",
    "\n",
    "    # predict\n",
    "    pred = grid.predict(get_features(test))\n",
    "\n",
    "    #compute_results(pred, get_target(test))\n",
    "    transform_and_results(pred, get_target(test))\n",
    "\n",
    "    check_prediction_value(pred, get_target(test))\n",
    "\n",
    "    print(grid.best_params_)\n",
    "\n",
    "    return grid.best_estimator_\n",
    "    \n"
   ]
  },
  {
   "cell_type": "code",
   "execution_count": 18,
   "metadata": {},
   "outputs": [
    {
     "name": "stdout",
     "output_type": "stream",
     "text": [
      "        mae        mse     rmse      osr2\n",
      "0  4.165427  72.855784  8.53556  0.591724\n",
      "{'alpha': 0, 'eta': 0.1, 'max_depth': 4}\n"
     ]
    },
    {
     "data": {
      "image/png": "[encoded data removed]",
      "text/plain": [
       "<Figure size 800x320 with 1 Axes>"
      ]
     },
     "metadata": {},
     "output_type": "display_data"
    }
   ],
   "source": [
    "XGBReg = XGB_model(train_valid, test)"
   ]
  },
  {
   "cell_type": "code",
   "execution_count": null,
   "metadata": {},
   "outputs": [],
   "source": []
  }
 ],
 "metadata": {
  "kernelspec": {
   "display_name": "Python 3.9.12",
   "language": "python",
   "name": "python3"
  },
  "language_info": {
   "codemirror_mode": {
    "name": "ipython",
    "version": 3
   },
   "file_extension": ".py",
   "mimetype": "text/x-python",
   "name": "python",
   "nbconvert_exporter": "python",
   "pygments_lexer": "ipython3",
   "version": "3.9.12"
  },
  "orig_nbformat": 4,
  "vscode": {
   "interpreter": {
    "hash": "6f47445cc81105325c5cf9d5c304f607117ff4cf16fa62472ef06809712cbdbb"
   }
  }
 },
 "nbformat": 4,
 "nbformat_minor": 2
}
